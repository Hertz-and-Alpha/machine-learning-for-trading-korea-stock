{
 "cells": [
  {
   "cell_type": "markdown",
   "metadata": {},
   "source": [
    "## create_datasets를 먼저 돌리고 실행"
   ]
  },
  {
   "cell_type": "code",
   "execution_count": 1,
   "metadata": {},
   "outputs": [],
   "source": [
    "import pandas as pd"
   ]
  },
  {
   "cell_type": "markdown",
   "metadata": {},
   "source": [
    "# Fama - French 5요인\n",
    "- 참고 논문: http://kiss.kstudy.com/thesis/thesis-view.asp?key=3450399"
   ]
  },
  {
   "cell_type": "markdown",
   "metadata": {},
   "source": [
    "## Size 요소 가져오기"
   ]
  },
  {
   "cell_type": "code",
   "execution_count": 2,
   "metadata": {},
   "outputs": [],
   "source": [
    "idx = pd.IndexSlice"
   ]
  },
  {
   "cell_type": "code",
   "execution_count": 3,
   "metadata": {},
   "outputs": [],
   "source": [
    "stock_data = pd.read_hdf('assets.h5', 'finance_datareader/prices')\n",
    "market_cap_rank_data = stock_data[['marcap', 'rank']]"
   ]
  },
  {
   "cell_type": "code",
   "execution_count": 4,
   "metadata": {},
   "outputs": [],
   "source": [
    "total_asset = pd.read_csv('IFRS/TotalAssets.csv', encoding='CP949')"
   ]
  },
  {
   "cell_type": "code",
   "execution_count": 5,
   "metadata": {},
   "outputs": [],
   "source": [
    "# 종목코드를 6자리로 맞춰줌 -> 파이썬 고질병 '000660'을 숫자로 자동 인식하면 앞의 000을 날려버림 이거를 string으로 변경해서 복구\n",
    "ticker = total_asset['거래소코드'].apply(\"{0:0>6}\".format)"
   ]
  },
  {
   "cell_type": "code",
   "execution_count": 6,
   "metadata": {},
   "outputs": [],
   "source": [
    "# 금융업 제외한 재무제표랑 market cap 데이터랑 겹치는 종목 추출\n",
    "intersect_ticker = market_cap_rank_data.unstack('date').index.intersection(ticker)"
   ]
  },
  {
   "cell_type": "code",
   "execution_count": 7,
   "metadata": {},
   "outputs": [],
   "source": [
    "size_factor = (market_cap_rank_data\n",
    "                .unstack('date')\n",
    "                .loc[intersect_ticker,:].stack('date')\n",
    "                .reorder_levels(['date','ticker'])\n",
    "                .sort_index())"
   ]
  },
  {
   "cell_type": "code",
   "execution_count": 8,
   "metadata": {},
   "outputs": [],
   "source": [
    "size_factor = size_factor.astype('int64')"
   ]
  },
  {
   "cell_type": "code",
   "execution_count": 9,
   "metadata": {},
   "outputs": [],
   "source": [
    "# 월별로 시가총액 순위를 구하고 6월달 시가총액 순위만 출력\n",
    "month_rank = size_factor['marcap'].unstack('ticker').resample('M').last().rank(axis=1)\n",
    "six_month_rank = month_rank[month_rank.index.month == 6].stack('ticker').to_frame()\n",
    "six_month_rank = six_month_rank.rename(columns={0:'rank'})\n",
    "six_month_rank = six_month_rank.astype('int32')"
   ]
  },
  {
   "cell_type": "code",
   "execution_count": 10,
   "metadata": {},
   "outputs": [],
   "source": [
    "# Monthly Period로 변경\n",
    "six_month_rank.index = six_month_rank.index.set_levels(six_month_rank.index.levels[0].to_period('M'), level=0)"
   ]
  },
  {
   "cell_type": "code",
   "execution_count": 11,
   "metadata": {},
   "outputs": [
    {
     "data": {
      "text/html": [
       "<div>\n",
       "<style scoped>\n",
       "    .dataframe tbody tr th:only-of-type {\n",
       "        vertical-align: middle;\n",
       "    }\n",
       "\n",
       "    .dataframe tbody tr th {\n",
       "        vertical-align: top;\n",
       "    }\n",
       "\n",
       "    .dataframe thead th {\n",
       "        text-align: right;\n",
       "    }\n",
       "</style>\n",
       "<table border=\"1\" class=\"dataframe\">\n",
       "  <thead>\n",
       "    <tr style=\"text-align: right;\">\n",
       "      <th></th>\n",
       "      <th></th>\n",
       "      <th>marcap</th>\n",
       "      <th>rank</th>\n",
       "    </tr>\n",
       "    <tr>\n",
       "      <th>date</th>\n",
       "      <th>ticker</th>\n",
       "      <th></th>\n",
       "      <th></th>\n",
       "    </tr>\n",
       "  </thead>\n",
       "  <tbody>\n",
       "    <tr>\n",
       "      <th rowspan=\"5\" valign=\"top\">1995-05-02</th>\n",
       "      <th>000020</th>\n",
       "      <td>76796000000</td>\n",
       "      <td>191</td>\n",
       "    </tr>\n",
       "    <tr>\n",
       "      <th>000040</th>\n",
       "      <td>24826762500</td>\n",
       "      <td>363</td>\n",
       "    </tr>\n",
       "    <tr>\n",
       "      <th>000050</th>\n",
       "      <td>84854000000</td>\n",
       "      <td>179</td>\n",
       "    </tr>\n",
       "    <tr>\n",
       "      <th>000070</th>\n",
       "      <td>247896000000</td>\n",
       "      <td>58</td>\n",
       "    </tr>\n",
       "    <tr>\n",
       "      <th>000080</th>\n",
       "      <td>166793251500</td>\n",
       "      <td>81</td>\n",
       "    </tr>\n",
       "  </tbody>\n",
       "</table>\n",
       "</div>"
      ],
      "text/plain": [
       "                         marcap  rank\n",
       "date       ticker                    \n",
       "1995-05-02 000020   76796000000   191\n",
       "           000040   24826762500   363\n",
       "           000050   84854000000   179\n",
       "           000070  247896000000    58\n",
       "           000080  166793251500    81"
      ]
     },
     "execution_count": 11,
     "metadata": {},
     "output_type": "execute_result"
    }
   ],
   "source": [
    "# 일자별 시가총액 순위 데이터\n",
    "size_factor.head(5)"
   ]
  },
  {
   "cell_type": "code",
   "execution_count": 12,
   "metadata": {},
   "outputs": [
    {
     "data": {
      "text/html": [
       "<div>\n",
       "<style scoped>\n",
       "    .dataframe tbody tr th:only-of-type {\n",
       "        vertical-align: middle;\n",
       "    }\n",
       "\n",
       "    .dataframe tbody tr th {\n",
       "        vertical-align: top;\n",
       "    }\n",
       "\n",
       "    .dataframe thead th {\n",
       "        text-align: right;\n",
       "    }\n",
       "</style>\n",
       "<table border=\"1\" class=\"dataframe\">\n",
       "  <thead>\n",
       "    <tr style=\"text-align: right;\">\n",
       "      <th></th>\n",
       "      <th></th>\n",
       "      <th>rank</th>\n",
       "    </tr>\n",
       "    <tr>\n",
       "      <th>date</th>\n",
       "      <th>ticker</th>\n",
       "      <th></th>\n",
       "    </tr>\n",
       "  </thead>\n",
       "  <tbody>\n",
       "    <tr>\n",
       "      <th rowspan=\"5\" valign=\"top\">1995-06</th>\n",
       "      <th>000020</th>\n",
       "      <td>230</td>\n",
       "    </tr>\n",
       "    <tr>\n",
       "      <th>000040</th>\n",
       "      <td>72</td>\n",
       "    </tr>\n",
       "    <tr>\n",
       "      <th>000050</th>\n",
       "      <td>233</td>\n",
       "    </tr>\n",
       "    <tr>\n",
       "      <th>000070</th>\n",
       "      <td>309</td>\n",
       "    </tr>\n",
       "    <tr>\n",
       "      <th>000080</th>\n",
       "      <td>293</td>\n",
       "    </tr>\n",
       "  </tbody>\n",
       "</table>\n",
       "</div>"
      ],
      "text/plain": [
       "                rank\n",
       "date    ticker      \n",
       "1995-06 000020   230\n",
       "        000040    72\n",
       "        000050   233\n",
       "        000070   309\n",
       "        000080   293"
      ]
     },
     "execution_count": 12,
     "metadata": {},
     "output_type": "execute_result"
    }
   ],
   "source": [
    "six_month_rank.head(5)"
   ]
  },
  {
   "cell_type": "markdown",
   "metadata": {},
   "source": [
    "## B/M Book to Market Ratio 구하기\n",
    "- 시가총액은 연도 말을 기준으로 한다.\n",
    "- 재무제표는 사업보고서이고 공시 날짜는 6월 1일로 통일한다."
   ]
  },
  {
   "cell_type": "code",
   "execution_count": 13,
   "metadata": {},
   "outputs": [],
   "source": [
    "def get_ifrs_data(data_path: str):\n",
    "    data = pd.read_csv(data_path, encoding='CP949')\n",
    "    data.fillna(0, inplace=True)\n",
    "    data['거래소코드'] = data['거래소코드'].apply(\"{0:0>6}\".format)\n",
    "    data['회계년도'] = pd.to_datetime(data['회계년도'])\n",
    "    data = data.set_index(['회계년도','거래소코드']).sort_index()\n",
    "    # 회계년도 안맞는 것들 resample을 이용해 연말로 회계년도 통일\n",
    "    data = data.unstack('거래소코드').resample('Y').last().stack('거래소코드')\n",
    "    data.index = data.index.set_levels(data.index.levels[0].to_period('M'), level=0)\n",
    "    col_list = data.columns\n",
    "    before_ifrs = data.loc[idx[:'2006',:],:][col_list[-2]]\n",
    "    after_ifrs = data.loc[idx['2007':,:],:][col_list[-1]]\n",
    "    data = pd.concat([before_ifrs, after_ifrs]).to_frame()\n",
    "    data.columns = [col_list[-2]]\n",
    "    data.index.names = ['date','ticker']\n",
    "    data.sort_index(inplace=True)\n",
    "    return data.copy()"
   ]
  },
  {
   "cell_type": "code",
   "execution_count": 14,
   "metadata": {},
   "outputs": [],
   "source": [
    "idx = pd.IndexSlice"
   ]
  },
  {
   "cell_type": "code",
   "execution_count": 15,
   "metadata": {},
   "outputs": [],
   "source": [
    "common_stock_capital = get_ifrs_data('IFRS/CommonStock.csv')"
   ]
  },
  {
   "cell_type": "code",
   "execution_count": 16,
   "metadata": {},
   "outputs": [
    {
     "data": {
      "text/html": [
       "<div>\n",
       "<style scoped>\n",
       "    .dataframe tbody tr th:only-of-type {\n",
       "        vertical-align: middle;\n",
       "    }\n",
       "\n",
       "    .dataframe tbody tr th {\n",
       "        vertical-align: top;\n",
       "    }\n",
       "\n",
       "    .dataframe thead th {\n",
       "        text-align: right;\n",
       "    }\n",
       "</style>\n",
       "<table border=\"1\" class=\"dataframe\">\n",
       "  <thead>\n",
       "    <tr style=\"text-align: right;\">\n",
       "      <th></th>\n",
       "      <th></th>\n",
       "      <th>보통주자본금(천원)</th>\n",
       "    </tr>\n",
       "    <tr>\n",
       "      <th>date</th>\n",
       "      <th>ticker</th>\n",
       "      <th></th>\n",
       "    </tr>\n",
       "  </thead>\n",
       "  <tbody>\n",
       "    <tr>\n",
       "      <th rowspan=\"5\" valign=\"top\">1981-12</th>\n",
       "      <th>000020</th>\n",
       "      <td>2808000.0</td>\n",
       "    </tr>\n",
       "    <tr>\n",
       "      <th>000040</th>\n",
       "      <td>3450000.0</td>\n",
       "    </tr>\n",
       "    <tr>\n",
       "      <th>000050</th>\n",
       "      <td>2400000.0</td>\n",
       "    </tr>\n",
       "    <tr>\n",
       "      <th>000070</th>\n",
       "      <td>9500000.0</td>\n",
       "    </tr>\n",
       "    <tr>\n",
       "      <th>000080</th>\n",
       "      <td>3000000.0</td>\n",
       "    </tr>\n",
       "    <tr>\n",
       "      <th>...</th>\n",
       "      <th>...</th>\n",
       "      <td>...</td>\n",
       "    </tr>\n",
       "    <tr>\n",
       "      <th rowspan=\"5\" valign=\"top\">2020-12</th>\n",
       "      <th>363280</th>\n",
       "      <td>18750451.0</td>\n",
       "    </tr>\n",
       "    <tr>\n",
       "      <th>375500</th>\n",
       "      <td>0.0</td>\n",
       "    </tr>\n",
       "    <tr>\n",
       "      <th>378850</th>\n",
       "      <td>0.0</td>\n",
       "    </tr>\n",
       "    <tr>\n",
       "      <th>900140</th>\n",
       "      <td>0.0</td>\n",
       "    </tr>\n",
       "    <tr>\n",
       "      <th>950210</th>\n",
       "      <td>152779419.0</td>\n",
       "    </tr>\n",
       "  </tbody>\n",
       "</table>\n",
       "<p>20876 rows × 1 columns</p>\n",
       "</div>"
      ],
      "text/plain": [
       "                 보통주자본금(천원)\n",
       "date    ticker             \n",
       "1981-12 000020    2808000.0\n",
       "        000040    3450000.0\n",
       "        000050    2400000.0\n",
       "        000070    9500000.0\n",
       "        000080    3000000.0\n",
       "...                     ...\n",
       "2020-12 363280   18750451.0\n",
       "        375500          0.0\n",
       "        378850          0.0\n",
       "        900140          0.0\n",
       "        950210  152779419.0\n",
       "\n",
       "[20876 rows x 1 columns]"
      ]
     },
     "execution_count": 16,
     "metadata": {},
     "output_type": "execute_result"
    }
   ],
   "source": [
    "common_stock_capital"
   ]
  },
  {
   "cell_type": "code",
   "execution_count": 17,
   "metadata": {},
   "outputs": [],
   "source": [
    "capital_surplus = get_ifrs_data('IFRS/CapitalSurplus.csv')"
   ]
  },
  {
   "cell_type": "code",
   "execution_count": 18,
   "metadata": {},
   "outputs": [
    {
     "data": {
      "text/html": [
       "<div>\n",
       "<style scoped>\n",
       "    .dataframe tbody tr th:only-of-type {\n",
       "        vertical-align: middle;\n",
       "    }\n",
       "\n",
       "    .dataframe tbody tr th {\n",
       "        vertical-align: top;\n",
       "    }\n",
       "\n",
       "    .dataframe thead th {\n",
       "        text-align: right;\n",
       "    }\n",
       "</style>\n",
       "<table border=\"1\" class=\"dataframe\">\n",
       "  <thead>\n",
       "    <tr style=\"text-align: right;\">\n",
       "      <th></th>\n",
       "      <th></th>\n",
       "      <th>자본잉여금(*)(천원)</th>\n",
       "    </tr>\n",
       "    <tr>\n",
       "      <th>date</th>\n",
       "      <th>ticker</th>\n",
       "      <th></th>\n",
       "    </tr>\n",
       "  </thead>\n",
       "  <tbody>\n",
       "    <tr>\n",
       "      <th rowspan=\"5\" valign=\"top\">1981-12</th>\n",
       "      <th>000020</th>\n",
       "      <td>4410.0</td>\n",
       "    </tr>\n",
       "    <tr>\n",
       "      <th>000040</th>\n",
       "      <td>1903860.0</td>\n",
       "    </tr>\n",
       "    <tr>\n",
       "      <th>000050</th>\n",
       "      <td>12797820.0</td>\n",
       "    </tr>\n",
       "    <tr>\n",
       "      <th>000070</th>\n",
       "      <td>9538010.0</td>\n",
       "    </tr>\n",
       "    <tr>\n",
       "      <th>000080</th>\n",
       "      <td>8837667.0</td>\n",
       "    </tr>\n",
       "    <tr>\n",
       "      <th>...</th>\n",
       "      <th>...</th>\n",
       "      <td>...</td>\n",
       "    </tr>\n",
       "    <tr>\n",
       "      <th rowspan=\"5\" valign=\"top\">2020-12</th>\n",
       "      <th>363280</th>\n",
       "      <td>528596133.0</td>\n",
       "    </tr>\n",
       "    <tr>\n",
       "      <th>375500</th>\n",
       "      <td>0.0</td>\n",
       "    </tr>\n",
       "    <tr>\n",
       "      <th>378850</th>\n",
       "      <td>0.0</td>\n",
       "    </tr>\n",
       "    <tr>\n",
       "      <th>900140</th>\n",
       "      <td>0.0</td>\n",
       "    </tr>\n",
       "    <tr>\n",
       "      <th>950210</th>\n",
       "      <td>0.0</td>\n",
       "    </tr>\n",
       "  </tbody>\n",
       "</table>\n",
       "<p>20876 rows × 1 columns</p>\n",
       "</div>"
      ],
      "text/plain": [
       "                자본잉여금(*)(천원)\n",
       "date    ticker              \n",
       "1981-12 000020        4410.0\n",
       "        000040     1903860.0\n",
       "        000050    12797820.0\n",
       "        000070     9538010.0\n",
       "        000080     8837667.0\n",
       "...                      ...\n",
       "2020-12 363280   528596133.0\n",
       "        375500           0.0\n",
       "        378850           0.0\n",
       "        900140           0.0\n",
       "        950210           0.0\n",
       "\n",
       "[20876 rows x 1 columns]"
      ]
     },
     "execution_count": 18,
     "metadata": {},
     "output_type": "execute_result"
    }
   ],
   "source": [
    "capital_surplus"
   ]
  },
  {
   "cell_type": "code",
   "execution_count": 19,
   "metadata": {},
   "outputs": [],
   "source": [
    "retained_earnings = get_ifrs_data('IFRS/RetainedEarnings.csv')"
   ]
  },
  {
   "cell_type": "code",
   "execution_count": 20,
   "metadata": {},
   "outputs": [
    {
     "data": {
      "text/html": [
       "<div>\n",
       "<style scoped>\n",
       "    .dataframe tbody tr th:only-of-type {\n",
       "        vertical-align: middle;\n",
       "    }\n",
       "\n",
       "    .dataframe tbody tr th {\n",
       "        vertical-align: top;\n",
       "    }\n",
       "\n",
       "    .dataframe thead th {\n",
       "        text-align: right;\n",
       "    }\n",
       "</style>\n",
       "<table border=\"1\" class=\"dataframe\">\n",
       "  <thead>\n",
       "    <tr style=\"text-align: right;\">\n",
       "      <th></th>\n",
       "      <th></th>\n",
       "      <th>이익잉여금(*)(천원)</th>\n",
       "    </tr>\n",
       "    <tr>\n",
       "      <th>date</th>\n",
       "      <th>ticker</th>\n",
       "      <th></th>\n",
       "    </tr>\n",
       "  </thead>\n",
       "  <tbody>\n",
       "    <tr>\n",
       "      <th rowspan=\"5\" valign=\"top\">1981-12</th>\n",
       "      <th>000020</th>\n",
       "      <td>2567147.0</td>\n",
       "    </tr>\n",
       "    <tr>\n",
       "      <th>000040</th>\n",
       "      <td>343796.0</td>\n",
       "    </tr>\n",
       "    <tr>\n",
       "      <th>000050</th>\n",
       "      <td>0.0</td>\n",
       "    </tr>\n",
       "    <tr>\n",
       "      <th>000070</th>\n",
       "      <td>6452616.0</td>\n",
       "    </tr>\n",
       "    <tr>\n",
       "      <th>000080</th>\n",
       "      <td>1002994.0</td>\n",
       "    </tr>\n",
       "    <tr>\n",
       "      <th>...</th>\n",
       "      <th>...</th>\n",
       "      <td>...</td>\n",
       "    </tr>\n",
       "    <tr>\n",
       "      <th rowspan=\"5\" valign=\"top\">2020-12</th>\n",
       "      <th>363280</th>\n",
       "      <td>-2390485.0</td>\n",
       "    </tr>\n",
       "    <tr>\n",
       "      <th>375500</th>\n",
       "      <td>0.0</td>\n",
       "    </tr>\n",
       "    <tr>\n",
       "      <th>378850</th>\n",
       "      <td>0.0</td>\n",
       "    </tr>\n",
       "    <tr>\n",
       "      <th>900140</th>\n",
       "      <td>0.0</td>\n",
       "    </tr>\n",
       "    <tr>\n",
       "      <th>950210</th>\n",
       "      <td>-21560969.0</td>\n",
       "    </tr>\n",
       "  </tbody>\n",
       "</table>\n",
       "<p>20876 rows × 1 columns</p>\n",
       "</div>"
      ],
      "text/plain": [
       "                이익잉여금(*)(천원)\n",
       "date    ticker              \n",
       "1981-12 000020     2567147.0\n",
       "        000040      343796.0\n",
       "        000050           0.0\n",
       "        000070     6452616.0\n",
       "        000080     1002994.0\n",
       "...                      ...\n",
       "2020-12 363280    -2390485.0\n",
       "        375500           0.0\n",
       "        378850           0.0\n",
       "        900140           0.0\n",
       "        950210   -21560969.0\n",
       "\n",
       "[20876 rows x 1 columns]"
      ]
     },
     "execution_count": 20,
     "metadata": {},
     "output_type": "execute_result"
    }
   ],
   "source": [
    "retained_earnings"
   ]
  },
  {
   "cell_type": "code",
   "execution_count": 21,
   "metadata": {},
   "outputs": [],
   "source": [
    "deferred_tax_liabilities = get_ifrs_data('IFRS/DeferredTaxLiabilities.csv')"
   ]
  },
  {
   "cell_type": "code",
   "execution_count": 22,
   "metadata": {},
   "outputs": [],
   "source": [
    "market_cap_data = stock_data['marcap'].to_frame()"
   ]
  },
  {
   "cell_type": "code",
   "execution_count": 23,
   "metadata": {},
   "outputs": [],
   "source": [
    "market_cap_data = market_cap_data.unstack('ticker').resample('Y').last().stack('ticker')"
   ]
  },
  {
   "cell_type": "code",
   "execution_count": 24,
   "metadata": {},
   "outputs": [],
   "source": [
    "market_cap_data.index = market_cap_data.index.set_levels(market_cap_data.index.levels[0].to_period('M'), level=0)"
   ]
  },
  {
   "cell_type": "code",
   "execution_count": 25,
   "metadata": {},
   "outputs": [
    {
     "data": {
      "text/html": [
       "<div>\n",
       "<style scoped>\n",
       "    .dataframe tbody tr th:only-of-type {\n",
       "        vertical-align: middle;\n",
       "    }\n",
       "\n",
       "    .dataframe tbody tr th {\n",
       "        vertical-align: top;\n",
       "    }\n",
       "\n",
       "    .dataframe thead th {\n",
       "        text-align: right;\n",
       "    }\n",
       "</style>\n",
       "<table border=\"1\" class=\"dataframe\">\n",
       "  <thead>\n",
       "    <tr style=\"text-align: right;\">\n",
       "      <th></th>\n",
       "      <th></th>\n",
       "      <th>marcap</th>\n",
       "    </tr>\n",
       "    <tr>\n",
       "      <th>date</th>\n",
       "      <th>ticker</th>\n",
       "      <th></th>\n",
       "    </tr>\n",
       "  </thead>\n",
       "  <tbody>\n",
       "    <tr>\n",
       "      <th rowspan=\"5\" valign=\"top\">1995-12</th>\n",
       "      <th>000020</th>\n",
       "      <td>6.390900e+10</td>\n",
       "    </tr>\n",
       "    <tr>\n",
       "      <th>000030</th>\n",
       "      <td>1.317500e+12</td>\n",
       "    </tr>\n",
       "    <tr>\n",
       "      <th>000040</th>\n",
       "      <td>2.919949e+10</td>\n",
       "    </tr>\n",
       "    <tr>\n",
       "      <th>000050</th>\n",
       "      <td>6.760600e+10</td>\n",
       "    </tr>\n",
       "    <tr>\n",
       "      <th>000060</th>\n",
       "      <td>2.385240e+11</td>\n",
       "    </tr>\n",
       "    <tr>\n",
       "      <th>...</th>\n",
       "      <th>...</th>\n",
       "      <td>...</td>\n",
       "    </tr>\n",
       "    <tr>\n",
       "      <th rowspan=\"5\" valign=\"top\">2021-12</th>\n",
       "      <th>378850</th>\n",
       "      <td>1.194699e+11</td>\n",
       "    </tr>\n",
       "    <tr>\n",
       "      <th>380440</th>\n",
       "      <td>1.077090e+11</td>\n",
       "    </tr>\n",
       "    <tr>\n",
       "      <th>383220</th>\n",
       "      <td>3.160334e+12</td>\n",
       "    </tr>\n",
       "    <tr>\n",
       "      <th>900140</th>\n",
       "      <td>3.540609e+11</td>\n",
       "    </tr>\n",
       "    <tr>\n",
       "      <th>950210</th>\n",
       "      <td>1.730769e+12</td>\n",
       "    </tr>\n",
       "  </tbody>\n",
       "</table>\n",
       "<p>18516 rows × 1 columns</p>\n",
       "</div>"
      ],
      "text/plain": [
       "                      marcap\n",
       "date    ticker              \n",
       "1995-12 000020  6.390900e+10\n",
       "        000030  1.317500e+12\n",
       "        000040  2.919949e+10\n",
       "        000050  6.760600e+10\n",
       "        000060  2.385240e+11\n",
       "...                      ...\n",
       "2021-12 378850  1.194699e+11\n",
       "        380440  1.077090e+11\n",
       "        383220  3.160334e+12\n",
       "        900140  3.540609e+11\n",
       "        950210  1.730769e+12\n",
       "\n",
       "[18516 rows x 1 columns]"
      ]
     },
     "execution_count": 25,
     "metadata": {},
     "output_type": "execute_result"
    }
   ],
   "source": [
    "market_cap_data"
   ]
  },
  {
   "cell_type": "code",
   "execution_count": 26,
   "metadata": {},
   "outputs": [],
   "source": [
    "book_to_market_data = pd.concat([common_stock_capital, capital_surplus, retained_earnings, deferred_tax_liabilities, market_cap_data], axis=1)\n",
    "book_to_market_data.sort_index(inplace=True)"
   ]
  },
  {
   "cell_type": "code",
   "execution_count": 27,
   "metadata": {},
   "outputs": [
    {
     "data": {
      "text/html": [
       "<div>\n",
       "<style scoped>\n",
       "    .dataframe tbody tr th:only-of-type {\n",
       "        vertical-align: middle;\n",
       "    }\n",
       "\n",
       "    .dataframe tbody tr th {\n",
       "        vertical-align: top;\n",
       "    }\n",
       "\n",
       "    .dataframe thead th {\n",
       "        text-align: right;\n",
       "    }\n",
       "</style>\n",
       "<table border=\"1\" class=\"dataframe\">\n",
       "  <thead>\n",
       "    <tr style=\"text-align: right;\">\n",
       "      <th></th>\n",
       "      <th></th>\n",
       "      <th>보통주자본금(천원)</th>\n",
       "      <th>자본잉여금(*)(천원)</th>\n",
       "      <th>이익잉여금(*)(천원)</th>\n",
       "      <th>이연법인세부채(천원)</th>\n",
       "      <th>marcap</th>\n",
       "    </tr>\n",
       "    <tr>\n",
       "      <th>date</th>\n",
       "      <th>ticker</th>\n",
       "      <th></th>\n",
       "      <th></th>\n",
       "      <th></th>\n",
       "      <th></th>\n",
       "      <th></th>\n",
       "    </tr>\n",
       "  </thead>\n",
       "  <tbody>\n",
       "    <tr>\n",
       "      <th rowspan=\"5\" valign=\"top\">1981-12</th>\n",
       "      <th>000020</th>\n",
       "      <td>2808000.0</td>\n",
       "      <td>4410.0</td>\n",
       "      <td>2567147.0</td>\n",
       "      <td>0.0</td>\n",
       "      <td>NaN</td>\n",
       "    </tr>\n",
       "    <tr>\n",
       "      <th>000040</th>\n",
       "      <td>3450000.0</td>\n",
       "      <td>1903860.0</td>\n",
       "      <td>343796.0</td>\n",
       "      <td>0.0</td>\n",
       "      <td>NaN</td>\n",
       "    </tr>\n",
       "    <tr>\n",
       "      <th>000050</th>\n",
       "      <td>2400000.0</td>\n",
       "      <td>12797820.0</td>\n",
       "      <td>0.0</td>\n",
       "      <td>0.0</td>\n",
       "      <td>NaN</td>\n",
       "    </tr>\n",
       "    <tr>\n",
       "      <th>000070</th>\n",
       "      <td>9500000.0</td>\n",
       "      <td>9538010.0</td>\n",
       "      <td>6452616.0</td>\n",
       "      <td>0.0</td>\n",
       "      <td>NaN</td>\n",
       "    </tr>\n",
       "    <tr>\n",
       "      <th>000080</th>\n",
       "      <td>3000000.0</td>\n",
       "      <td>8837667.0</td>\n",
       "      <td>1002994.0</td>\n",
       "      <td>0.0</td>\n",
       "      <td>NaN</td>\n",
       "    </tr>\n",
       "    <tr>\n",
       "      <th>...</th>\n",
       "      <th>...</th>\n",
       "      <td>...</td>\n",
       "      <td>...</td>\n",
       "      <td>...</td>\n",
       "      <td>...</td>\n",
       "      <td>...</td>\n",
       "    </tr>\n",
       "    <tr>\n",
       "      <th rowspan=\"5\" valign=\"top\">2021-12</th>\n",
       "      <th>378850</th>\n",
       "      <td>NaN</td>\n",
       "      <td>NaN</td>\n",
       "      <td>NaN</td>\n",
       "      <td>NaN</td>\n",
       "      <td>1.194699e+11</td>\n",
       "    </tr>\n",
       "    <tr>\n",
       "      <th>380440</th>\n",
       "      <td>NaN</td>\n",
       "      <td>NaN</td>\n",
       "      <td>NaN</td>\n",
       "      <td>NaN</td>\n",
       "      <td>1.077090e+11</td>\n",
       "    </tr>\n",
       "    <tr>\n",
       "      <th>383220</th>\n",
       "      <td>NaN</td>\n",
       "      <td>NaN</td>\n",
       "      <td>NaN</td>\n",
       "      <td>NaN</td>\n",
       "      <td>3.160334e+12</td>\n",
       "    </tr>\n",
       "    <tr>\n",
       "      <th>900140</th>\n",
       "      <td>NaN</td>\n",
       "      <td>NaN</td>\n",
       "      <td>NaN</td>\n",
       "      <td>NaN</td>\n",
       "      <td>3.540609e+11</td>\n",
       "    </tr>\n",
       "    <tr>\n",
       "      <th>950210</th>\n",
       "      <td>NaN</td>\n",
       "      <td>NaN</td>\n",
       "      <td>NaN</td>\n",
       "      <td>NaN</td>\n",
       "      <td>1.730769e+12</td>\n",
       "    </tr>\n",
       "  </tbody>\n",
       "</table>\n",
       "<p>25086 rows × 5 columns</p>\n",
       "</div>"
      ],
      "text/plain": [
       "                보통주자본금(천원)  자본잉여금(*)(천원)  이익잉여금(*)(천원)  이연법인세부채(천원)  \\\n",
       "date    ticker                                                        \n",
       "1981-12 000020   2808000.0        4410.0     2567147.0          0.0   \n",
       "        000040   3450000.0     1903860.0      343796.0          0.0   \n",
       "        000050   2400000.0    12797820.0           0.0          0.0   \n",
       "        000070   9500000.0     9538010.0     6452616.0          0.0   \n",
       "        000080   3000000.0     8837667.0     1002994.0          0.0   \n",
       "...                    ...           ...           ...          ...   \n",
       "2021-12 378850         NaN           NaN           NaN          NaN   \n",
       "        380440         NaN           NaN           NaN          NaN   \n",
       "        383220         NaN           NaN           NaN          NaN   \n",
       "        900140         NaN           NaN           NaN          NaN   \n",
       "        950210         NaN           NaN           NaN          NaN   \n",
       "\n",
       "                      marcap  \n",
       "date    ticker                \n",
       "1981-12 000020           NaN  \n",
       "        000040           NaN  \n",
       "        000050           NaN  \n",
       "        000070           NaN  \n",
       "        000080           NaN  \n",
       "...                      ...  \n",
       "2021-12 378850  1.194699e+11  \n",
       "        380440  1.077090e+11  \n",
       "        383220  3.160334e+12  \n",
       "        900140  3.540609e+11  \n",
       "        950210  1.730769e+12  \n",
       "\n",
       "[25086 rows x 5 columns]"
      ]
     },
     "execution_count": 27,
     "metadata": {},
     "output_type": "execute_result"
    }
   ],
   "source": [
    "book_to_market_data"
   ]
  },
  {
   "cell_type": "code",
   "execution_count": 28,
   "metadata": {},
   "outputs": [],
   "source": [
    "# 시가총액이 있는 년도부터 시작\n",
    "book_to_market_data = book_to_market_data.loc[idx['1995':'2021',:],:]"
   ]
  },
  {
   "cell_type": "code",
   "execution_count": 29,
   "metadata": {
    "scrolled": true
   },
   "outputs": [
    {
     "name": "stderr",
     "output_type": "stream",
     "text": [
      "<ipython-input-29-f2b34a7bd11a>:2: SettingWithCopyWarning: \n",
      "A value is trying to be set on a copy of a slice from a DataFrame\n",
      "\n",
      "See the caveats in the documentation: https://pandas.pydata.org/pandas-docs/stable/user_guide/indexing.html#returning-a-view-versus-a-copy\n",
      "  book_to_market_data.dropna(inplace=True)\n"
     ]
    }
   ],
   "source": [
    "# 결측치 제거\n",
    "book_to_market_data.dropna(inplace=True)"
   ]
  },
  {
   "cell_type": "markdown",
   "metadata": {},
   "source": [
    "### Book to Market Ratio 구하기"
   ]
  },
  {
   "cell_type": "code",
   "execution_count": 30,
   "metadata": {},
   "outputs": [],
   "source": [
    "# B/M 계산\n",
    "columns_list = book_to_market_data.columns\n",
    "book_value = book_to_market_data.loc[:,columns_list[:-1]].sum(axis=1)\n",
    "book_to_market_ratio = book_value.div(book_to_market_data['marcap']).to_frame()\n",
    "book_to_market_ratio.columns = ['BM']\n"
   ]
  },
  {
   "cell_type": "markdown",
   "metadata": {},
   "source": [
    "### 회계년도랑 공시년도가 차이가 나므로 회계년도에서 6개월 뒤로 미룬다.\n",
    "- 년말 12월 기준의 회계가 있어도 공시하기까지 시간이 걸린다. 이부분을 고려"
   ]
  },
  {
   "cell_type": "code",
   "execution_count": 31,
   "metadata": {},
   "outputs": [],
   "source": [
    "def offset_6_month(data: pd.DataFrame) -> pd.DataFrame:\n",
    "    '''\n",
    "        Input DataFrame E.g\n",
    "        Multi Index DataFrame\n",
    "                      price\n",
    "        date  ticker\n",
    "     1995-12  000660  1000\n",
    "              005930  20000\n",
    "              003229  3004000\n",
    "              \n",
    "        \n",
    "        Output DataFrame E.g\n",
    "                         price\n",
    "        date  ticker\n",
    "     1996-06  000660  1000\n",
    "              005930  20000\n",
    "              003229  3004000\n",
    "        \n",
    "    '''\n",
    "    date_index = data.index.levels[0].to_timestamp() + pd.DateOffset(months=6)\n",
    "    data.index = data.index.set_levels(date_index.to_period('M'), level=0)\n",
    "    return data "
   ]
  },
  {
   "cell_type": "markdown",
   "metadata": {},
   "source": [
    "## B/M Ratio 공시날짜를 위해서 6개월 미루기"
   ]
  },
  {
   "cell_type": "code",
   "execution_count": 32,
   "metadata": {},
   "outputs": [],
   "source": [
    "book_to_market_ratio = offset_6_month(book_to_market_ratio)"
   ]
  },
  {
   "cell_type": "code",
   "execution_count": 33,
   "metadata": {},
   "outputs": [
    {
     "data": {
      "text/html": [
       "<div>\n",
       "<style scoped>\n",
       "    .dataframe tbody tr th:only-of-type {\n",
       "        vertical-align: middle;\n",
       "    }\n",
       "\n",
       "    .dataframe tbody tr th {\n",
       "        vertical-align: top;\n",
       "    }\n",
       "\n",
       "    .dataframe thead th {\n",
       "        text-align: right;\n",
       "    }\n",
       "</style>\n",
       "<table border=\"1\" class=\"dataframe\">\n",
       "  <thead>\n",
       "    <tr style=\"text-align: right;\">\n",
       "      <th></th>\n",
       "      <th></th>\n",
       "      <th>BM</th>\n",
       "    </tr>\n",
       "    <tr>\n",
       "      <th>date</th>\n",
       "      <th>ticker</th>\n",
       "      <th></th>\n",
       "    </tr>\n",
       "  </thead>\n",
       "  <tbody>\n",
       "    <tr>\n",
       "      <th rowspan=\"5\" valign=\"top\">1996-06</th>\n",
       "      <th>000020</th>\n",
       "      <td>0.000646</td>\n",
       "    </tr>\n",
       "    <tr>\n",
       "      <th>000040</th>\n",
       "      <td>0.001656</td>\n",
       "    </tr>\n",
       "    <tr>\n",
       "      <th>000050</th>\n",
       "      <td>0.000926</td>\n",
       "    </tr>\n",
       "    <tr>\n",
       "      <th>000070</th>\n",
       "      <td>0.001059</td>\n",
       "    </tr>\n",
       "    <tr>\n",
       "      <th>000080</th>\n",
       "      <td>0.001073</td>\n",
       "    </tr>\n",
       "    <tr>\n",
       "      <th>...</th>\n",
       "      <th>...</th>\n",
       "      <td>...</td>\n",
       "    </tr>\n",
       "    <tr>\n",
       "      <th rowspan=\"5\" valign=\"top\">2021-06</th>\n",
       "      <th>344820</th>\n",
       "      <td>0.002336</td>\n",
       "    </tr>\n",
       "    <tr>\n",
       "      <th>352820</th>\n",
       "      <td>0.000212</td>\n",
       "    </tr>\n",
       "    <tr>\n",
       "      <th>353200</th>\n",
       "      <td>0.001031</td>\n",
       "    </tr>\n",
       "    <tr>\n",
       "      <th>363280</th>\n",
       "      <td>0.000537</td>\n",
       "    </tr>\n",
       "    <tr>\n",
       "      <th>900140</th>\n",
       "      <td>0.000000</td>\n",
       "    </tr>\n",
       "  </tbody>\n",
       "</table>\n",
       "<p>14306 rows × 1 columns</p>\n",
       "</div>"
      ],
      "text/plain": [
       "                      BM\n",
       "date    ticker          \n",
       "1996-06 000020  0.000646\n",
       "        000040  0.001656\n",
       "        000050  0.000926\n",
       "        000070  0.001059\n",
       "        000080  0.001073\n",
       "...                  ...\n",
       "2021-06 344820  0.002336\n",
       "        352820  0.000212\n",
       "        353200  0.001031\n",
       "        363280  0.000537\n",
       "        900140  0.000000\n",
       "\n",
       "[14306 rows x 1 columns]"
      ]
     },
     "execution_count": 33,
     "metadata": {},
     "output_type": "execute_result"
    }
   ],
   "source": [
    "book_to_market_ratio"
   ]
  },
  {
   "cell_type": "markdown",
   "metadata": {},
   "source": [
    "## 수익성 지표 계산\n",
    "- OP = 영업이익 / 자기자본 장부가치\n",
    "    + 영업이익 = 매출액 - 매출원가 - 이자비용 - 판관비"
   ]
  },
  {
   "cell_type": "markdown",
   "metadata": {},
   "source": [
    "#### 매출액"
   ]
  },
  {
   "cell_type": "code",
   "execution_count": 34,
   "metadata": {},
   "outputs": [],
   "source": [
    "net_sales = get_ifrs_data('IFRS/NetSales.csv')"
   ]
  },
  {
   "cell_type": "code",
   "execution_count": 35,
   "metadata": {
    "scrolled": true
   },
   "outputs": [
    {
     "data": {
      "text/html": [
       "<div>\n",
       "<style scoped>\n",
       "    .dataframe tbody tr th:only-of-type {\n",
       "        vertical-align: middle;\n",
       "    }\n",
       "\n",
       "    .dataframe tbody tr th {\n",
       "        vertical-align: top;\n",
       "    }\n",
       "\n",
       "    .dataframe thead th {\n",
       "        text-align: right;\n",
       "    }\n",
       "</style>\n",
       "<table border=\"1\" class=\"dataframe\">\n",
       "  <thead>\n",
       "    <tr style=\"text-align: right;\">\n",
       "      <th></th>\n",
       "      <th></th>\n",
       "      <th>매출액(영업수익)(*)(천원)</th>\n",
       "    </tr>\n",
       "    <tr>\n",
       "      <th>date</th>\n",
       "      <th>ticker</th>\n",
       "      <th></th>\n",
       "    </tr>\n",
       "  </thead>\n",
       "  <tbody>\n",
       "    <tr>\n",
       "      <th rowspan=\"5\" valign=\"top\">1981-12</th>\n",
       "      <th>000020</th>\n",
       "      <td>26964281.0</td>\n",
       "    </tr>\n",
       "    <tr>\n",
       "      <th>000040</th>\n",
       "      <td>48075570.0</td>\n",
       "    </tr>\n",
       "    <tr>\n",
       "      <th>000050</th>\n",
       "      <td>52868914.0</td>\n",
       "    </tr>\n",
       "    <tr>\n",
       "      <th>000070</th>\n",
       "      <td>223628100.0</td>\n",
       "    </tr>\n",
       "    <tr>\n",
       "      <th>000080</th>\n",
       "      <td>93182984.0</td>\n",
       "    </tr>\n",
       "    <tr>\n",
       "      <th>...</th>\n",
       "      <th>...</th>\n",
       "      <td>...</td>\n",
       "    </tr>\n",
       "    <tr>\n",
       "      <th rowspan=\"5\" valign=\"top\">2020-12</th>\n",
       "      <th>363280</th>\n",
       "      <td>0.0</td>\n",
       "    </tr>\n",
       "    <tr>\n",
       "      <th>375500</th>\n",
       "      <td>0.0</td>\n",
       "    </tr>\n",
       "    <tr>\n",
       "      <th>378850</th>\n",
       "      <td>0.0</td>\n",
       "    </tr>\n",
       "    <tr>\n",
       "      <th>900140</th>\n",
       "      <td>0.0</td>\n",
       "    </tr>\n",
       "    <tr>\n",
       "      <th>950210</th>\n",
       "      <td>0.0</td>\n",
       "    </tr>\n",
       "  </tbody>\n",
       "</table>\n",
       "<p>20876 rows × 1 columns</p>\n",
       "</div>"
      ],
      "text/plain": [
       "                매출액(영업수익)(*)(천원)\n",
       "date    ticker                  \n",
       "1981-12 000020        26964281.0\n",
       "        000040        48075570.0\n",
       "        000050        52868914.0\n",
       "        000070       223628100.0\n",
       "        000080        93182984.0\n",
       "...                          ...\n",
       "2020-12 363280               0.0\n",
       "        375500               0.0\n",
       "        378850               0.0\n",
       "        900140               0.0\n",
       "        950210               0.0\n",
       "\n",
       "[20876 rows x 1 columns]"
      ]
     },
     "execution_count": 35,
     "metadata": {},
     "output_type": "execute_result"
    }
   ],
   "source": [
    "net_sales"
   ]
  },
  {
   "cell_type": "markdown",
   "metadata": {},
   "source": [
    "#### 매출원가"
   ]
  },
  {
   "cell_type": "code",
   "execution_count": 36,
   "metadata": {},
   "outputs": [],
   "source": [
    "cost_of_sales = get_ifrs_data('IFRS/CostOfSales.csv')"
   ]
  },
  {
   "cell_type": "code",
   "execution_count": 37,
   "metadata": {
    "scrolled": true
   },
   "outputs": [
    {
     "data": {
      "text/html": [
       "<div>\n",
       "<style scoped>\n",
       "    .dataframe tbody tr th:only-of-type {\n",
       "        vertical-align: middle;\n",
       "    }\n",
       "\n",
       "    .dataframe tbody tr th {\n",
       "        vertical-align: top;\n",
       "    }\n",
       "\n",
       "    .dataframe thead th {\n",
       "        text-align: right;\n",
       "    }\n",
       "</style>\n",
       "<table border=\"1\" class=\"dataframe\">\n",
       "  <thead>\n",
       "    <tr style=\"text-align: right;\">\n",
       "      <th></th>\n",
       "      <th></th>\n",
       "      <th>매출원가(*)(천원)</th>\n",
       "    </tr>\n",
       "    <tr>\n",
       "      <th>date</th>\n",
       "      <th>ticker</th>\n",
       "      <th></th>\n",
       "    </tr>\n",
       "  </thead>\n",
       "  <tbody>\n",
       "    <tr>\n",
       "      <th rowspan=\"5\" valign=\"top\">1981-12</th>\n",
       "      <th>000020</th>\n",
       "      <td>16814161.0</td>\n",
       "    </tr>\n",
       "    <tr>\n",
       "      <th>000040</th>\n",
       "      <td>42802676.0</td>\n",
       "    </tr>\n",
       "    <tr>\n",
       "      <th>000050</th>\n",
       "      <td>46724109.0</td>\n",
       "    </tr>\n",
       "    <tr>\n",
       "      <th>000070</th>\n",
       "      <td>189372232.0</td>\n",
       "    </tr>\n",
       "    <tr>\n",
       "      <th>000080</th>\n",
       "      <td>75451679.0</td>\n",
       "    </tr>\n",
       "    <tr>\n",
       "      <th>...</th>\n",
       "      <th>...</th>\n",
       "      <td>...</td>\n",
       "    </tr>\n",
       "    <tr>\n",
       "      <th rowspan=\"5\" valign=\"top\">2020-12</th>\n",
       "      <th>363280</th>\n",
       "      <td>0.0</td>\n",
       "    </tr>\n",
       "    <tr>\n",
       "      <th>375500</th>\n",
       "      <td>0.0</td>\n",
       "    </tr>\n",
       "    <tr>\n",
       "      <th>378850</th>\n",
       "      <td>0.0</td>\n",
       "    </tr>\n",
       "    <tr>\n",
       "      <th>900140</th>\n",
       "      <td>0.0</td>\n",
       "    </tr>\n",
       "    <tr>\n",
       "      <th>950210</th>\n",
       "      <td>0.0</td>\n",
       "    </tr>\n",
       "  </tbody>\n",
       "</table>\n",
       "<p>20876 rows × 1 columns</p>\n",
       "</div>"
      ],
      "text/plain": [
       "                매출원가(*)(천원)\n",
       "date    ticker             \n",
       "1981-12 000020   16814161.0\n",
       "        000040   42802676.0\n",
       "        000050   46724109.0\n",
       "        000070  189372232.0\n",
       "        000080   75451679.0\n",
       "...                     ...\n",
       "2020-12 363280          0.0\n",
       "        375500          0.0\n",
       "        378850          0.0\n",
       "        900140          0.0\n",
       "        950210          0.0\n",
       "\n",
       "[20876 rows x 1 columns]"
      ]
     },
     "execution_count": 37,
     "metadata": {},
     "output_type": "execute_result"
    }
   ],
   "source": [
    "cost_of_sales"
   ]
  },
  {
   "cell_type": "markdown",
   "metadata": {},
   "source": [
    "#### 이자비용"
   ]
  },
  {
   "cell_type": "code",
   "execution_count": 38,
   "metadata": {},
   "outputs": [],
   "source": [
    "interest_expense = get_ifrs_data('IFRS/InterestExpenses.csv')"
   ]
  },
  {
   "cell_type": "code",
   "execution_count": 39,
   "metadata": {},
   "outputs": [
    {
     "data": {
      "text/html": [
       "<div>\n",
       "<style scoped>\n",
       "    .dataframe tbody tr th:only-of-type {\n",
       "        vertical-align: middle;\n",
       "    }\n",
       "\n",
       "    .dataframe tbody tr th {\n",
       "        vertical-align: top;\n",
       "    }\n",
       "\n",
       "    .dataframe thead th {\n",
       "        text-align: right;\n",
       "    }\n",
       "</style>\n",
       "<table border=\"1\" class=\"dataframe\">\n",
       "  <thead>\n",
       "    <tr style=\"text-align: right;\">\n",
       "      <th></th>\n",
       "      <th></th>\n",
       "      <th>이자비용(천원)</th>\n",
       "    </tr>\n",
       "    <tr>\n",
       "      <th>date</th>\n",
       "      <th>ticker</th>\n",
       "      <th></th>\n",
       "    </tr>\n",
       "  </thead>\n",
       "  <tbody>\n",
       "    <tr>\n",
       "      <th rowspan=\"5\" valign=\"top\">1981-12</th>\n",
       "      <th>000020</th>\n",
       "      <td>0.0</td>\n",
       "    </tr>\n",
       "    <tr>\n",
       "      <th>000040</th>\n",
       "      <td>0.0</td>\n",
       "    </tr>\n",
       "    <tr>\n",
       "      <th>000050</th>\n",
       "      <td>0.0</td>\n",
       "    </tr>\n",
       "    <tr>\n",
       "      <th>000070</th>\n",
       "      <td>0.0</td>\n",
       "    </tr>\n",
       "    <tr>\n",
       "      <th>000080</th>\n",
       "      <td>0.0</td>\n",
       "    </tr>\n",
       "    <tr>\n",
       "      <th>...</th>\n",
       "      <th>...</th>\n",
       "      <td>...</td>\n",
       "    </tr>\n",
       "    <tr>\n",
       "      <th rowspan=\"5\" valign=\"top\">2020-12</th>\n",
       "      <th>363280</th>\n",
       "      <td>0.0</td>\n",
       "    </tr>\n",
       "    <tr>\n",
       "      <th>375500</th>\n",
       "      <td>0.0</td>\n",
       "    </tr>\n",
       "    <tr>\n",
       "      <th>378850</th>\n",
       "      <td>0.0</td>\n",
       "    </tr>\n",
       "    <tr>\n",
       "      <th>900140</th>\n",
       "      <td>0.0</td>\n",
       "    </tr>\n",
       "    <tr>\n",
       "      <th>950210</th>\n",
       "      <td>0.0</td>\n",
       "    </tr>\n",
       "  </tbody>\n",
       "</table>\n",
       "<p>20876 rows × 1 columns</p>\n",
       "</div>"
      ],
      "text/plain": [
       "                이자비용(천원)\n",
       "date    ticker          \n",
       "1981-12 000020       0.0\n",
       "        000040       0.0\n",
       "        000050       0.0\n",
       "        000070       0.0\n",
       "        000080       0.0\n",
       "...                  ...\n",
       "2020-12 363280       0.0\n",
       "        375500       0.0\n",
       "        378850       0.0\n",
       "        900140       0.0\n",
       "        950210       0.0\n",
       "\n",
       "[20876 rows x 1 columns]"
      ]
     },
     "execution_count": 39,
     "metadata": {},
     "output_type": "execute_result"
    }
   ],
   "source": [
    "interest_expense"
   ]
  },
  {
   "cell_type": "markdown",
   "metadata": {},
   "source": [
    "### 판매비와 관리비"
   ]
  },
  {
   "cell_type": "code",
   "execution_count": 40,
   "metadata": {},
   "outputs": [],
   "source": [
    "selling_and_admin_expense = get_ifrs_data('IFRS/Selling_and_administrative_expenses.csv')"
   ]
  },
  {
   "cell_type": "code",
   "execution_count": 41,
   "metadata": {},
   "outputs": [
    {
     "data": {
      "text/html": [
       "<div>\n",
       "<style scoped>\n",
       "    .dataframe tbody tr th:only-of-type {\n",
       "        vertical-align: middle;\n",
       "    }\n",
       "\n",
       "    .dataframe tbody tr th {\n",
       "        vertical-align: top;\n",
       "    }\n",
       "\n",
       "    .dataframe thead th {\n",
       "        text-align: right;\n",
       "    }\n",
       "</style>\n",
       "<table border=\"1\" class=\"dataframe\">\n",
       "  <thead>\n",
       "    <tr style=\"text-align: right;\">\n",
       "      <th></th>\n",
       "      <th></th>\n",
       "      <th>판매비와관리비(영업비용)(*)(천원)</th>\n",
       "    </tr>\n",
       "    <tr>\n",
       "      <th>date</th>\n",
       "      <th>ticker</th>\n",
       "      <th></th>\n",
       "    </tr>\n",
       "  </thead>\n",
       "  <tbody>\n",
       "    <tr>\n",
       "      <th rowspan=\"5\" valign=\"top\">1981-12</th>\n",
       "      <th>000020</th>\n",
       "      <td>6385484.0</td>\n",
       "    </tr>\n",
       "    <tr>\n",
       "      <th>000040</th>\n",
       "      <td>2264367.0</td>\n",
       "    </tr>\n",
       "    <tr>\n",
       "      <th>000050</th>\n",
       "      <td>2939748.0</td>\n",
       "    </tr>\n",
       "    <tr>\n",
       "      <th>000070</th>\n",
       "      <td>10461231.0</td>\n",
       "    </tr>\n",
       "    <tr>\n",
       "      <th>000080</th>\n",
       "      <td>11557635.0</td>\n",
       "    </tr>\n",
       "    <tr>\n",
       "      <th>...</th>\n",
       "      <th>...</th>\n",
       "      <td>...</td>\n",
       "    </tr>\n",
       "    <tr>\n",
       "      <th rowspan=\"5\" valign=\"top\">2020-12</th>\n",
       "      <th>363280</th>\n",
       "      <td>2265873.0</td>\n",
       "    </tr>\n",
       "    <tr>\n",
       "      <th>375500</th>\n",
       "      <td>0.0</td>\n",
       "    </tr>\n",
       "    <tr>\n",
       "      <th>378850</th>\n",
       "      <td>0.0</td>\n",
       "    </tr>\n",
       "    <tr>\n",
       "      <th>900140</th>\n",
       "      <td>0.0</td>\n",
       "    </tr>\n",
       "    <tr>\n",
       "      <th>950210</th>\n",
       "      <td>10708804.0</td>\n",
       "    </tr>\n",
       "  </tbody>\n",
       "</table>\n",
       "<p>20876 rows × 1 columns</p>\n",
       "</div>"
      ],
      "text/plain": [
       "                판매비와관리비(영업비용)(*)(천원)\n",
       "date    ticker                      \n",
       "1981-12 000020             6385484.0\n",
       "        000040             2264367.0\n",
       "        000050             2939748.0\n",
       "        000070            10461231.0\n",
       "        000080            11557635.0\n",
       "...                              ...\n",
       "2020-12 363280             2265873.0\n",
       "        375500                   0.0\n",
       "        378850                   0.0\n",
       "        900140                   0.0\n",
       "        950210            10708804.0\n",
       "\n",
       "[20876 rows x 1 columns]"
      ]
     },
     "execution_count": 41,
     "metadata": {},
     "output_type": "execute_result"
    }
   ],
   "source": [
    "selling_and_admin_expense"
   ]
  },
  {
   "cell_type": "code",
   "execution_count": 42,
   "metadata": {},
   "outputs": [],
   "source": [
    "op_data = pd.concat([net_sales, cost_of_sales, interest_expense, selling_and_admin_expense], axis=1)"
   ]
  },
  {
   "cell_type": "code",
   "execution_count": 43,
   "metadata": {},
   "outputs": [
    {
     "data": {
      "text/html": [
       "<div>\n",
       "<style scoped>\n",
       "    .dataframe tbody tr th:only-of-type {\n",
       "        vertical-align: middle;\n",
       "    }\n",
       "\n",
       "    .dataframe tbody tr th {\n",
       "        vertical-align: top;\n",
       "    }\n",
       "\n",
       "    .dataframe thead th {\n",
       "        text-align: right;\n",
       "    }\n",
       "</style>\n",
       "<table border=\"1\" class=\"dataframe\">\n",
       "  <thead>\n",
       "    <tr style=\"text-align: right;\">\n",
       "      <th></th>\n",
       "      <th></th>\n",
       "      <th>매출액(영업수익)(*)(천원)</th>\n",
       "      <th>매출원가(*)(천원)</th>\n",
       "      <th>이자비용(천원)</th>\n",
       "      <th>판매비와관리비(영업비용)(*)(천원)</th>\n",
       "    </tr>\n",
       "    <tr>\n",
       "      <th>date</th>\n",
       "      <th>ticker</th>\n",
       "      <th></th>\n",
       "      <th></th>\n",
       "      <th></th>\n",
       "      <th></th>\n",
       "    </tr>\n",
       "  </thead>\n",
       "  <tbody>\n",
       "    <tr>\n",
       "      <th rowspan=\"5\" valign=\"top\">1981-12</th>\n",
       "      <th>000020</th>\n",
       "      <td>26964281.0</td>\n",
       "      <td>16814161.0</td>\n",
       "      <td>0.0</td>\n",
       "      <td>6385484.0</td>\n",
       "    </tr>\n",
       "    <tr>\n",
       "      <th>000040</th>\n",
       "      <td>48075570.0</td>\n",
       "      <td>42802676.0</td>\n",
       "      <td>0.0</td>\n",
       "      <td>2264367.0</td>\n",
       "    </tr>\n",
       "    <tr>\n",
       "      <th>000050</th>\n",
       "      <td>52868914.0</td>\n",
       "      <td>46724109.0</td>\n",
       "      <td>0.0</td>\n",
       "      <td>2939748.0</td>\n",
       "    </tr>\n",
       "    <tr>\n",
       "      <th>000070</th>\n",
       "      <td>223628100.0</td>\n",
       "      <td>189372232.0</td>\n",
       "      <td>0.0</td>\n",
       "      <td>10461231.0</td>\n",
       "    </tr>\n",
       "    <tr>\n",
       "      <th>000080</th>\n",
       "      <td>93182984.0</td>\n",
       "      <td>75451679.0</td>\n",
       "      <td>0.0</td>\n",
       "      <td>11557635.0</td>\n",
       "    </tr>\n",
       "  </tbody>\n",
       "</table>\n",
       "</div>"
      ],
      "text/plain": [
       "                매출액(영업수익)(*)(천원)  매출원가(*)(천원)  이자비용(천원)  판매비와관리비(영업비용)(*)(천원)\n",
       "date    ticker                                                               \n",
       "1981-12 000020        26964281.0   16814161.0       0.0             6385484.0\n",
       "        000040        48075570.0   42802676.0       0.0             2264367.0\n",
       "        000050        52868914.0   46724109.0       0.0             2939748.0\n",
       "        000070       223628100.0  189372232.0       0.0            10461231.0\n",
       "        000080        93182984.0   75451679.0       0.0            11557635.0"
      ]
     },
     "execution_count": 43,
     "metadata": {},
     "output_type": "execute_result"
    }
   ],
   "source": [
    "op_data.head(5)"
   ]
  },
  {
   "cell_type": "code",
   "execution_count": 44,
   "metadata": {},
   "outputs": [],
   "source": [
    "col_list = op_data.columns"
   ]
  },
  {
   "cell_type": "code",
   "execution_count": 45,
   "metadata": {},
   "outputs": [],
   "source": [
    "# 위의 식대로 계산\n",
    "op = (op_data[col_list[0]] - op_data[col_list[1:]].sum(axis=1)).div(book_value).to_frame()"
   ]
  },
  {
   "cell_type": "code",
   "execution_count": 46,
   "metadata": {},
   "outputs": [],
   "source": [
    "op.columns = ['OP']\n",
    "op.dropna(inplace=True)"
   ]
  },
  {
   "cell_type": "code",
   "execution_count": 47,
   "metadata": {},
   "outputs": [],
   "source": [
    "op = offset_6_month(op)"
   ]
  },
  {
   "cell_type": "code",
   "execution_count": 48,
   "metadata": {},
   "outputs": [
    {
     "data": {
      "text/html": [
       "<div>\n",
       "<style scoped>\n",
       "    .dataframe tbody tr th:only-of-type {\n",
       "        vertical-align: middle;\n",
       "    }\n",
       "\n",
       "    .dataframe tbody tr th {\n",
       "        vertical-align: top;\n",
       "    }\n",
       "\n",
       "    .dataframe thead th {\n",
       "        text-align: right;\n",
       "    }\n",
       "</style>\n",
       "<table border=\"1\" class=\"dataframe\">\n",
       "  <thead>\n",
       "    <tr style=\"text-align: right;\">\n",
       "      <th></th>\n",
       "      <th></th>\n",
       "      <th>OP</th>\n",
       "    </tr>\n",
       "    <tr>\n",
       "      <th>date</th>\n",
       "      <th>ticker</th>\n",
       "      <th></th>\n",
       "    </tr>\n",
       "  </thead>\n",
       "  <tbody>\n",
       "    <tr>\n",
       "      <th rowspan=\"5\" valign=\"top\">1996-06</th>\n",
       "      <th>000020</th>\n",
       "      <td>0.615225</td>\n",
       "    </tr>\n",
       "    <tr>\n",
       "      <th>000040</th>\n",
       "      <td>-0.132015</td>\n",
       "    </tr>\n",
       "    <tr>\n",
       "      <th>000050</th>\n",
       "      <td>0.121340</td>\n",
       "    </tr>\n",
       "    <tr>\n",
       "      <th>000070</th>\n",
       "      <td>0.229497</td>\n",
       "    </tr>\n",
       "    <tr>\n",
       "      <th>000080</th>\n",
       "      <td>0.263004</td>\n",
       "    </tr>\n",
       "    <tr>\n",
       "      <th>...</th>\n",
       "      <th>...</th>\n",
       "      <td>...</td>\n",
       "    </tr>\n",
       "    <tr>\n",
       "      <th rowspan=\"5\" valign=\"top\">2021-06</th>\n",
       "      <th>339770</th>\n",
       "      <td>0.198420</td>\n",
       "    </tr>\n",
       "    <tr>\n",
       "      <th>344820</th>\n",
       "      <td>0.026108</td>\n",
       "    </tr>\n",
       "    <tr>\n",
       "      <th>352820</th>\n",
       "      <td>0.071987</td>\n",
       "    </tr>\n",
       "    <tr>\n",
       "      <th>353200</th>\n",
       "      <td>0.018592</td>\n",
       "    </tr>\n",
       "    <tr>\n",
       "      <th>363280</th>\n",
       "      <td>-0.004065</td>\n",
       "    </tr>\n",
       "  </tbody>\n",
       "</table>\n",
       "<p>14260 rows × 1 columns</p>\n",
       "</div>"
      ],
      "text/plain": [
       "                      OP\n",
       "date    ticker          \n",
       "1996-06 000020  0.615225\n",
       "        000040 -0.132015\n",
       "        000050  0.121340\n",
       "        000070  0.229497\n",
       "        000080  0.263004\n",
       "...                  ...\n",
       "2021-06 339770  0.198420\n",
       "        344820  0.026108\n",
       "        352820  0.071987\n",
       "        353200  0.018592\n",
       "        363280 -0.004065\n",
       "\n",
       "[14260 rows x 1 columns]"
      ]
     },
     "execution_count": 48,
     "metadata": {},
     "output_type": "execute_result"
    }
   ],
   "source": [
    "op "
   ]
  },
  {
   "cell_type": "markdown",
   "metadata": {},
   "source": [
    "## 자본투자\n",
    "- t-1년 12월 말의 총자산에서 t-2년 12월 말의 총 자산을 차감한 총자산증가액\n",
    "    + inv = TotalAsset(t-1) / TotalAsset(t-2) - 1"
   ]
  },
  {
   "cell_type": "markdown",
   "metadata": {},
   "source": [
    "### 총 자산"
   ]
  },
  {
   "cell_type": "code",
   "execution_count": 49,
   "metadata": {},
   "outputs": [],
   "source": [
    "total_asset = get_ifrs_data('IFRS/TotalAssets.csv')"
   ]
  },
  {
   "cell_type": "code",
   "execution_count": 50,
   "metadata": {},
   "outputs": [],
   "source": [
    "total_assett_unstack = total_asset.unstack('ticker')"
   ]
  },
  {
   "cell_type": "code",
   "execution_count": 51,
   "metadata": {},
   "outputs": [],
   "source": [
    "inv = (total_assett_unstack / total_assett_unstack.shift(1)).stack('ticker') - 1"
   ]
  },
  {
   "cell_type": "code",
   "execution_count": 52,
   "metadata": {},
   "outputs": [],
   "source": [
    "inv = offset_6_month(inv)"
   ]
  },
  {
   "cell_type": "code",
   "execution_count": 53,
   "metadata": {},
   "outputs": [
    {
     "data": {
      "text/html": [
       "<div>\n",
       "<style scoped>\n",
       "    .dataframe tbody tr th:only-of-type {\n",
       "        vertical-align: middle;\n",
       "    }\n",
       "\n",
       "    .dataframe tbody tr th {\n",
       "        vertical-align: top;\n",
       "    }\n",
       "\n",
       "    .dataframe thead th {\n",
       "        text-align: right;\n",
       "    }\n",
       "</style>\n",
       "<table border=\"1\" class=\"dataframe\">\n",
       "  <thead>\n",
       "    <tr style=\"text-align: right;\">\n",
       "      <th></th>\n",
       "      <th></th>\n",
       "      <th>자산(*)(천원)</th>\n",
       "    </tr>\n",
       "    <tr>\n",
       "      <th>date</th>\n",
       "      <th>ticker</th>\n",
       "      <th></th>\n",
       "    </tr>\n",
       "  </thead>\n",
       "  <tbody>\n",
       "    <tr>\n",
       "      <th rowspan=\"5\" valign=\"top\">1983-06</th>\n",
       "      <th>000040</th>\n",
       "      <td>0.150404</td>\n",
       "    </tr>\n",
       "    <tr>\n",
       "      <th>000050</th>\n",
       "      <td>0.033943</td>\n",
       "    </tr>\n",
       "    <tr>\n",
       "      <th>000100</th>\n",
       "      <td>0.524996</td>\n",
       "    </tr>\n",
       "    <tr>\n",
       "      <th>000120</th>\n",
       "      <td>0.108065</td>\n",
       "    </tr>\n",
       "    <tr>\n",
       "      <th>000140</th>\n",
       "      <td>0.154147</td>\n",
       "    </tr>\n",
       "    <tr>\n",
       "      <th>...</th>\n",
       "      <th>...</th>\n",
       "      <td>...</td>\n",
       "    </tr>\n",
       "    <tr>\n",
       "      <th rowspan=\"5\" valign=\"top\">2021-06</th>\n",
       "      <th>336260</th>\n",
       "      <td>0.593889</td>\n",
       "    </tr>\n",
       "    <tr>\n",
       "      <th>336370</th>\n",
       "      <td>0.508118</td>\n",
       "    </tr>\n",
       "    <tr>\n",
       "      <th>339770</th>\n",
       "      <td>0.519012</td>\n",
       "    </tr>\n",
       "    <tr>\n",
       "      <th>352820</th>\n",
       "      <td>5.267460</td>\n",
       "    </tr>\n",
       "    <tr>\n",
       "      <th>361610</th>\n",
       "      <td>1.137762</td>\n",
       "    </tr>\n",
       "  </tbody>\n",
       "</table>\n",
       "<p>19811 rows × 1 columns</p>\n",
       "</div>"
      ],
      "text/plain": [
       "                자산(*)(천원)\n",
       "date    ticker           \n",
       "1983-06 000040   0.150404\n",
       "        000050   0.033943\n",
       "        000100   0.524996\n",
       "        000120   0.108065\n",
       "        000140   0.154147\n",
       "...                   ...\n",
       "2021-06 336260   0.593889\n",
       "        336370   0.508118\n",
       "        339770   0.519012\n",
       "        352820   5.267460\n",
       "        361610   1.137762\n",
       "\n",
       "[19811 rows x 1 columns]"
      ]
     },
     "execution_count": 53,
     "metadata": {},
     "output_type": "execute_result"
    }
   ],
   "source": [
    "inv"
   ]
  },
  {
   "cell_type": "markdown",
   "metadata": {},
   "source": [
    "## Size-B/M, Size-OP, Size-Inv Portfolio 구성\n",
    "- 가격 데이터가 1995년부터 있으므로 1995년부터 Portfolio 구성\n",
    "- Value weight portfolio"
   ]
  },
  {
   "cell_type": "markdown",
   "metadata": {},
   "source": [
    "기업규모\n",
    "- 하위 50%, 상위 50%\n",
    "\n",
    "\n",
    "B/M\n",
    "- 상위 33%, 중위 33%, 하위 33%\n",
    "\n",
    "\n",
    "수익성\n",
    "- 상위 33%, 중위 33%, 하위 33%\n",
    "\n",
    "\n",
    "자본투자\n",
    "- 하위 33%, 중위 33%, 상위 33%"
   ]
  },
  {
   "cell_type": "markdown",
   "metadata": {},
   "source": [
    "#### Size - B/M 포트폴리오\n",
    "|Size/ BM|Small|Big|\n",
    "|---|---|---|\n",
    "|High BM|SH|BH|\n",
    "|2|SN|BN|\n",
    "|Low BM|SL|BL|"
   ]
  },
  {
   "cell_type": "markdown",
   "metadata": {},
   "source": [
    "#### Size - OP 포트폴리오\n",
    "|Size/ OP|Small|Big|\n",
    "|---|---|---|\n",
    "|High OP|SR|BR|\n",
    "|2|SN|BN|\n",
    "|Low OP|SW|BW|"
   ]
  },
  {
   "cell_type": "markdown",
   "metadata": {},
   "source": [
    "#### Size - Inv 포트폴리오\n",
    "|Size/ Inv|Small|Big|\n",
    "|---|---|---|\n",
    "|High Inv|SC|BC|\n",
    "|2|SN|BN|\n",
    "|Low Inv|SA|BA|"
   ]
  },
  {
   "cell_type": "code",
   "execution_count": 54,
   "metadata": {},
   "outputs": [],
   "source": [
    "period_index = book_to_market_ratio.unstack('ticker').index"
   ]
  },
  {
   "cell_type": "markdown",
   "metadata": {},
   "source": [
    "### 1년 Size - B/M Portfolio 수익률 먼저 만들어 보기"
   ]
  },
  {
   "cell_type": "code",
   "execution_count": 55,
   "metadata": {},
   "outputs": [
    {
     "name": "stdout",
     "output_type": "stream",
     "text": [
      "1996-06\n"
     ]
    }
   ],
   "source": [
    "# 처음 월들을 기준으로 정하기\n",
    "first_month = period_index[0]\n",
    "print(first_month)"
   ]
  },
  {
   "cell_type": "code",
   "execution_count": 56,
   "metadata": {},
   "outputs": [],
   "source": [
    "rank = six_month_rank.loc[idx[first_month,:],:]['rank']"
   ]
  },
  {
   "cell_type": "code",
   "execution_count": 57,
   "metadata": {
    "scrolled": true
   },
   "outputs": [
    {
     "data": {
      "text/plain": [
       "date     ticker\n",
       "1996-06  000020    264\n",
       "         000040    119\n",
       "         000050    217\n",
       "         000070    326\n",
       "         000080    306\n",
       "                  ... \n",
       "         021050     20\n",
       "         025000    263\n",
       "         025620    165\n",
       "         025820    113\n",
       "         025860    335\n",
       "Name: rank, Length: 371, dtype: int32"
      ]
     },
     "execution_count": 57,
     "metadata": {},
     "output_type": "execute_result"
    }
   ],
   "source": [
    "rank"
   ]
  },
  {
   "cell_type": "markdown",
   "metadata": {},
   "source": [
    "#### 2분위수로 Size Factor 나누기"
   ]
  },
  {
   "cell_type": "code",
   "execution_count": 58,
   "metadata": {},
   "outputs": [],
   "source": [
    "rank_qauntile = pd.qcut(rank, q=2, labels=['small','big']).to_frame()"
   ]
  },
  {
   "cell_type": "code",
   "execution_count": 59,
   "metadata": {},
   "outputs": [],
   "source": [
    "big_marcap_ticker = rank_qauntile[rank_qauntile['rank'].astype(str) == 'big'].index.get_level_values('ticker')"
   ]
  },
  {
   "cell_type": "code",
   "execution_count": 60,
   "metadata": {},
   "outputs": [],
   "source": [
    "small_marcap_ticker = rank_qauntile[rank_qauntile['rank'].astype(str) == 'small'].index.get_level_values('ticker')"
   ]
  },
  {
   "cell_type": "markdown",
   "metadata": {},
   "source": [
    "#### B/M을 3분위수로 나누기"
   ]
  },
  {
   "cell_type": "markdown",
   "metadata": {},
   "source": [
    "#### Size - B/M 포트폴리오\n",
    "|Size/ BM|Small|Big|\n",
    "|---|---|---|\n",
    "|High BM|SH|BH|\n",
    "|2|SN|BN|\n",
    "|Low BM|SL|BL|\n",
    "\n",
    "- 표에서 SL, SM, SB 이런식으로 나누기"
   ]
  },
  {
   "cell_type": "code",
   "execution_count": 61,
   "metadata": {},
   "outputs": [],
   "source": [
    "big_marcap_bm = book_to_market_ratio.loc[idx[first_month, big_marcap_ticker],:]"
   ]
  },
  {
   "cell_type": "code",
   "execution_count": 62,
   "metadata": {},
   "outputs": [],
   "source": [
    "big_marcap_bm_quantile = pd.qcut(big_marcap_bm['BM'], q=3, labels=['BL','BN','BH']).to_frame()"
   ]
  },
  {
   "cell_type": "code",
   "execution_count": 63,
   "metadata": {},
   "outputs": [],
   "source": [
    "small_marcap_bm = book_to_market_ratio.loc[idx[first_month, small_marcap_ticker],:]"
   ]
  },
  {
   "cell_type": "code",
   "execution_count": 64,
   "metadata": {},
   "outputs": [],
   "source": [
    "small_marcap_bm_quantile = pd.qcut(small_marcap_bm['BM'], q=3, labels=['SL','SN','SH']).to_frame()"
   ]
  },
  {
   "cell_type": "code",
   "execution_count": null,
   "metadata": {},
   "outputs": [],
   "source": []
  }
 ],
 "metadata": {
  "kernelspec": {
   "display_name": "Python [conda env:ml4t_orginal]",
   "language": "python",
   "name": "conda-env-ml4t_orginal-py"
  },
  "language_info": {
   "codemirror_mode": {
    "name": "ipython",
    "version": 3
   },
   "file_extension": ".py",
   "mimetype": "text/x-python",
   "name": "python",
   "nbconvert_exporter": "python",
   "pygments_lexer": "ipython3",
   "version": "3.8.8"
  }
 },
 "nbformat": 4,
 "nbformat_minor": 4
}
