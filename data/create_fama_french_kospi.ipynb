{
 "cells": [
  {
   "cell_type": "markdown",
   "metadata": {},
   "source": [
    "## create_datasets를 먼저 돌리고 실행"
   ]
  },
  {
   "cell_type": "code",
   "execution_count": 1,
   "metadata": {},
   "outputs": [],
   "source": [
    "import pandas as pd\n",
    "import matplotlib.pyplot as plt\n",
    "from pathlib import Path\n",
    "import pandas_datareader as pdr "
   ]
  },
  {
   "cell_type": "markdown",
   "metadata": {},
   "source": [
    "# Fama - French 5요인\n",
    "- 참고 논문: http://kiss.kstudy.com/thesis/thesis-view.asp?key=3450399"
   ]
  },
  {
   "cell_type": "markdown",
   "metadata": {},
   "source": [
    "## Size 요소 가져오기"
   ]
  },
  {
   "cell_type": "code",
   "execution_count": 2,
   "metadata": {},
   "outputs": [],
   "source": [
    "idx = pd.IndexSlice"
   ]
  },
  {
   "cell_type": "code",
   "execution_count": 3,
   "metadata": {},
   "outputs": [],
   "source": [
    "stock_data = pd.read_hdf('assets.h5', 'finance_datareader/prices')\n",
    "market_cap_rank_data = stock_data[['marcap', 'rank']]"
   ]
  },
  {
   "cell_type": "code",
   "execution_count": 4,
   "metadata": {},
   "outputs": [],
   "source": [
    "total_asset = pd.read_csv('IFRS/TotalAssets.csv', encoding='CP949')"
   ]
  },
  {
   "cell_type": "code",
   "execution_count": 5,
   "metadata": {},
   "outputs": [],
   "source": [
    "# 종목코드를 6자리로 맞춰줌 -> 파이썬 고질병 '000660'을 숫자로 자동 인식하면 앞의 000을 날려버림 이거를 string으로 변경해서 복구\n",
    "ticker = total_asset['거래소코드'].apply(\"{0:0>6}\".format)"
   ]
  },
  {
   "cell_type": "code",
   "execution_count": 6,
   "metadata": {},
   "outputs": [],
   "source": [
    "# 금융업 제외한 재무제표랑 market cap 데이터랑 겹치는 종목 추출\n",
    "intersect_ticker = market_cap_rank_data.unstack('date').index.intersection(ticker)"
   ]
  },
  {
   "cell_type": "code",
   "execution_count": 7,
   "metadata": {},
   "outputs": [],
   "source": [
    "size_factor = (market_cap_rank_data\n",
    "                .unstack('date')\n",
    "                .loc[intersect_ticker,:].stack('date')\n",
    "                .reorder_levels(['date','ticker'])\n",
    "                .sort_index())"
   ]
  },
  {
   "cell_type": "code",
   "execution_count": 8,
   "metadata": {},
   "outputs": [],
   "source": [
    "size_factor = size_factor.astype('int64')"
   ]
  },
  {
   "cell_type": "code",
   "execution_count": 9,
   "metadata": {},
   "outputs": [],
   "source": [
    "# 월별로 시가총액 순위를 구하고 6월달 시가총액 순위만 출력\n",
    "month_rank = size_factor['marcap'].unstack('ticker').resample('M').last().rank(axis=1)\n",
    "six_month_rank = month_rank[month_rank.index.month == 6].stack('ticker').to_frame()\n",
    "six_month_rank = six_month_rank.rename(columns={0:'rank'})\n",
    "six_month_rank = six_month_rank.astype('int32')"
   ]
  },
  {
   "cell_type": "code",
   "execution_count": 10,
   "metadata": {},
   "outputs": [],
   "source": [
    "# Monthly Period로 변경\n",
    "six_month_rank.index = six_month_rank.index.set_levels(six_month_rank.index.levels[0].to_period('M'), level=0)"
   ]
  },
  {
   "cell_type": "code",
   "execution_count": 11,
   "metadata": {},
   "outputs": [
    {
     "data": {
      "text/html": [
       "<div>\n",
       "<style scoped>\n",
       "    .dataframe tbody tr th:only-of-type {\n",
       "        vertical-align: middle;\n",
       "    }\n",
       "\n",
       "    .dataframe tbody tr th {\n",
       "        vertical-align: top;\n",
       "    }\n",
       "\n",
       "    .dataframe thead th {\n",
       "        text-align: right;\n",
       "    }\n",
       "</style>\n",
       "<table border=\"1\" class=\"dataframe\">\n",
       "  <thead>\n",
       "    <tr style=\"text-align: right;\">\n",
       "      <th></th>\n",
       "      <th></th>\n",
       "      <th>marcap</th>\n",
       "      <th>rank</th>\n",
       "    </tr>\n",
       "    <tr>\n",
       "      <th>date</th>\n",
       "      <th>ticker</th>\n",
       "      <th></th>\n",
       "      <th></th>\n",
       "    </tr>\n",
       "  </thead>\n",
       "  <tbody>\n",
       "    <tr>\n",
       "      <th rowspan=\"5\" valign=\"top\">1995-05-02</th>\n",
       "      <th>000020</th>\n",
       "      <td>76796000000</td>\n",
       "      <td>157</td>\n",
       "    </tr>\n",
       "    <tr>\n",
       "      <th>000050</th>\n",
       "      <td>84854000000</td>\n",
       "      <td>148</td>\n",
       "    </tr>\n",
       "    <tr>\n",
       "      <th>000070</th>\n",
       "      <td>247896000000</td>\n",
       "      <td>50</td>\n",
       "    </tr>\n",
       "    <tr>\n",
       "      <th>000100</th>\n",
       "      <td>145536000000</td>\n",
       "      <td>86</td>\n",
       "    </tr>\n",
       "    <tr>\n",
       "      <th>000150</th>\n",
       "      <td>57455244000</td>\n",
       "      <td>189</td>\n",
       "    </tr>\n",
       "  </tbody>\n",
       "</table>\n",
       "</div>"
      ],
      "text/plain": [
       "                         marcap  rank\n",
       "date       ticker                    \n",
       "1995-05-02 000020   76796000000   157\n",
       "           000050   84854000000   148\n",
       "           000070  247896000000    50\n",
       "           000100  145536000000    86\n",
       "           000150   57455244000   189"
      ]
     },
     "execution_count": 11,
     "metadata": {},
     "output_type": "execute_result"
    }
   ],
   "source": [
    "# 일자별 시가총액 순위 데이터\n",
    "size_factor.head(5)"
   ]
  },
  {
   "cell_type": "code",
   "execution_count": 12,
   "metadata": {},
   "outputs": [
    {
     "data": {
      "text/html": [
       "<div>\n",
       "<style scoped>\n",
       "    .dataframe tbody tr th:only-of-type {\n",
       "        vertical-align: middle;\n",
       "    }\n",
       "\n",
       "    .dataframe tbody tr th {\n",
       "        vertical-align: top;\n",
       "    }\n",
       "\n",
       "    .dataframe thead th {\n",
       "        text-align: right;\n",
       "    }\n",
       "</style>\n",
       "<table border=\"1\" class=\"dataframe\">\n",
       "  <thead>\n",
       "    <tr style=\"text-align: right;\">\n",
       "      <th></th>\n",
       "      <th></th>\n",
       "      <th>rank</th>\n",
       "    </tr>\n",
       "    <tr>\n",
       "      <th>date</th>\n",
       "      <th>ticker</th>\n",
       "      <th></th>\n",
       "    </tr>\n",
       "  </thead>\n",
       "  <tbody>\n",
       "    <tr>\n",
       "      <th rowspan=\"5\" valign=\"top\">1995-06</th>\n",
       "      <th>000020</th>\n",
       "      <td>142</td>\n",
       "    </tr>\n",
       "    <tr>\n",
       "      <th>000050</th>\n",
       "      <td>143</td>\n",
       "    </tr>\n",
       "    <tr>\n",
       "      <th>000070</th>\n",
       "      <td>180</td>\n",
       "    </tr>\n",
       "    <tr>\n",
       "      <th>000100</th>\n",
       "      <td>169</td>\n",
       "    </tr>\n",
       "    <tr>\n",
       "      <th>000150</th>\n",
       "      <td>132</td>\n",
       "    </tr>\n",
       "  </tbody>\n",
       "</table>\n",
       "</div>"
      ],
      "text/plain": [
       "                rank\n",
       "date    ticker      \n",
       "1995-06 000020   142\n",
       "        000050   143\n",
       "        000070   180\n",
       "        000100   169\n",
       "        000150   132"
      ]
     },
     "execution_count": 12,
     "metadata": {},
     "output_type": "execute_result"
    }
   ],
   "source": [
    "six_month_rank.head(5)"
   ]
  },
  {
   "cell_type": "markdown",
   "metadata": {},
   "source": [
    "## B/M Book to Market Ratio 구하기\n",
    "- 시가총액은 연도 말을 기준으로 한다.\n",
    "- 재무제표는 사업보고서이고 공시 날짜는 6월 1일로 통일한다."
   ]
  },
  {
   "cell_type": "code",
   "execution_count": 13,
   "metadata": {},
   "outputs": [],
   "source": [
    "def get_ifrs_data(data_path: str):\n",
    "    data = pd.read_csv(data_path, encoding='CP949')\n",
    "    data.fillna(0, inplace=True)\n",
    "    data['거래소코드'] = data['거래소코드'].apply(\"{0:0>6}\".format)\n",
    "    data['회계년도'] = pd.to_datetime(data['회계년도'])\n",
    "    data = data.set_index(['회계년도','거래소코드']).sort_index()\n",
    "    # 회계년도 안맞는 것들 resample을 이용해 연말로 회계년도 통일\n",
    "    data = data.unstack('거래소코드').resample('Y').last().stack('거래소코드')\n",
    "    data.index = data.index.set_levels(data.index.levels[0].to_period('M'), level=0)\n",
    "    col_list = data.columns\n",
    "    before_ifrs = data.loc[idx[:'2006',:],:][col_list[-2]]\n",
    "    after_ifrs = data.loc[idx['2007':,:],:][col_list[-1]]\n",
    "    data = pd.concat([before_ifrs, after_ifrs]).to_frame()\n",
    "    data.columns = [col_list[-2]]\n",
    "    data.index.names = ['date','ticker']\n",
    "    data.sort_index(inplace=True)\n",
    "    return data.copy()"
   ]
  },
  {
   "cell_type": "code",
   "execution_count": 14,
   "metadata": {},
   "outputs": [],
   "source": [
    "idx = pd.IndexSlice"
   ]
  },
  {
   "cell_type": "code",
   "execution_count": 15,
   "metadata": {},
   "outputs": [],
   "source": [
    "common_stock_capital = get_ifrs_data('IFRS/CommonStock.csv')"
   ]
  },
  {
   "cell_type": "code",
   "execution_count": 16,
   "metadata": {},
   "outputs": [
    {
     "data": {
      "text/html": [
       "<div>\n",
       "<style scoped>\n",
       "    .dataframe tbody tr th:only-of-type {\n",
       "        vertical-align: middle;\n",
       "    }\n",
       "\n",
       "    .dataframe tbody tr th {\n",
       "        vertical-align: top;\n",
       "    }\n",
       "\n",
       "    .dataframe thead th {\n",
       "        text-align: right;\n",
       "    }\n",
       "</style>\n",
       "<table border=\"1\" class=\"dataframe\">\n",
       "  <thead>\n",
       "    <tr style=\"text-align: right;\">\n",
       "      <th></th>\n",
       "      <th></th>\n",
       "      <th>보통주자본금(천원)</th>\n",
       "    </tr>\n",
       "    <tr>\n",
       "      <th>date</th>\n",
       "      <th>ticker</th>\n",
       "      <th></th>\n",
       "    </tr>\n",
       "  </thead>\n",
       "  <tbody>\n",
       "    <tr>\n",
       "      <th rowspan=\"5\" valign=\"top\">1981-12</th>\n",
       "      <th>000020</th>\n",
       "      <td>2808000.0</td>\n",
       "    </tr>\n",
       "    <tr>\n",
       "      <th>000040</th>\n",
       "      <td>3450000.0</td>\n",
       "    </tr>\n",
       "    <tr>\n",
       "      <th>000050</th>\n",
       "      <td>2400000.0</td>\n",
       "    </tr>\n",
       "    <tr>\n",
       "      <th>000070</th>\n",
       "      <td>9500000.0</td>\n",
       "    </tr>\n",
       "    <tr>\n",
       "      <th>000080</th>\n",
       "      <td>3000000.0</td>\n",
       "    </tr>\n",
       "    <tr>\n",
       "      <th>...</th>\n",
       "      <th>...</th>\n",
       "      <td>...</td>\n",
       "    </tr>\n",
       "    <tr>\n",
       "      <th rowspan=\"5\" valign=\"top\">2020-12</th>\n",
       "      <th>363280</th>\n",
       "      <td>18750451.0</td>\n",
       "    </tr>\n",
       "    <tr>\n",
       "      <th>375500</th>\n",
       "      <td>0.0</td>\n",
       "    </tr>\n",
       "    <tr>\n",
       "      <th>378850</th>\n",
       "      <td>0.0</td>\n",
       "    </tr>\n",
       "    <tr>\n",
       "      <th>900140</th>\n",
       "      <td>0.0</td>\n",
       "    </tr>\n",
       "    <tr>\n",
       "      <th>950210</th>\n",
       "      <td>152779419.0</td>\n",
       "    </tr>\n",
       "  </tbody>\n",
       "</table>\n",
       "<p>20876 rows × 1 columns</p>\n",
       "</div>"
      ],
      "text/plain": [
       "                 보통주자본금(천원)\n",
       "date    ticker             \n",
       "1981-12 000020    2808000.0\n",
       "        000040    3450000.0\n",
       "        000050    2400000.0\n",
       "        000070    9500000.0\n",
       "        000080    3000000.0\n",
       "...                     ...\n",
       "2020-12 363280   18750451.0\n",
       "        375500          0.0\n",
       "        378850          0.0\n",
       "        900140          0.0\n",
       "        950210  152779419.0\n",
       "\n",
       "[20876 rows x 1 columns]"
      ]
     },
     "execution_count": 16,
     "metadata": {},
     "output_type": "execute_result"
    }
   ],
   "source": [
    "common_stock_capital"
   ]
  },
  {
   "cell_type": "code",
   "execution_count": 17,
   "metadata": {},
   "outputs": [],
   "source": [
    "capital_surplus = get_ifrs_data('IFRS/CapitalSurplus.csv')"
   ]
  },
  {
   "cell_type": "code",
   "execution_count": 18,
   "metadata": {},
   "outputs": [
    {
     "data": {
      "text/html": [
       "<div>\n",
       "<style scoped>\n",
       "    .dataframe tbody tr th:only-of-type {\n",
       "        vertical-align: middle;\n",
       "    }\n",
       "\n",
       "    .dataframe tbody tr th {\n",
       "        vertical-align: top;\n",
       "    }\n",
       "\n",
       "    .dataframe thead th {\n",
       "        text-align: right;\n",
       "    }\n",
       "</style>\n",
       "<table border=\"1\" class=\"dataframe\">\n",
       "  <thead>\n",
       "    <tr style=\"text-align: right;\">\n",
       "      <th></th>\n",
       "      <th></th>\n",
       "      <th>자본잉여금(*)(천원)</th>\n",
       "    </tr>\n",
       "    <tr>\n",
       "      <th>date</th>\n",
       "      <th>ticker</th>\n",
       "      <th></th>\n",
       "    </tr>\n",
       "  </thead>\n",
       "  <tbody>\n",
       "    <tr>\n",
       "      <th rowspan=\"5\" valign=\"top\">1981-12</th>\n",
       "      <th>000020</th>\n",
       "      <td>4410.0</td>\n",
       "    </tr>\n",
       "    <tr>\n",
       "      <th>000040</th>\n",
       "      <td>1903860.0</td>\n",
       "    </tr>\n",
       "    <tr>\n",
       "      <th>000050</th>\n",
       "      <td>12797820.0</td>\n",
       "    </tr>\n",
       "    <tr>\n",
       "      <th>000070</th>\n",
       "      <td>9538010.0</td>\n",
       "    </tr>\n",
       "    <tr>\n",
       "      <th>000080</th>\n",
       "      <td>8837667.0</td>\n",
       "    </tr>\n",
       "    <tr>\n",
       "      <th>...</th>\n",
       "      <th>...</th>\n",
       "      <td>...</td>\n",
       "    </tr>\n",
       "    <tr>\n",
       "      <th rowspan=\"5\" valign=\"top\">2020-12</th>\n",
       "      <th>363280</th>\n",
       "      <td>528596133.0</td>\n",
       "    </tr>\n",
       "    <tr>\n",
       "      <th>375500</th>\n",
       "      <td>0.0</td>\n",
       "    </tr>\n",
       "    <tr>\n",
       "      <th>378850</th>\n",
       "      <td>0.0</td>\n",
       "    </tr>\n",
       "    <tr>\n",
       "      <th>900140</th>\n",
       "      <td>0.0</td>\n",
       "    </tr>\n",
       "    <tr>\n",
       "      <th>950210</th>\n",
       "      <td>0.0</td>\n",
       "    </tr>\n",
       "  </tbody>\n",
       "</table>\n",
       "<p>20876 rows × 1 columns</p>\n",
       "</div>"
      ],
      "text/plain": [
       "                자본잉여금(*)(천원)\n",
       "date    ticker              \n",
       "1981-12 000020        4410.0\n",
       "        000040     1903860.0\n",
       "        000050    12797820.0\n",
       "        000070     9538010.0\n",
       "        000080     8837667.0\n",
       "...                      ...\n",
       "2020-12 363280   528596133.0\n",
       "        375500           0.0\n",
       "        378850           0.0\n",
       "        900140           0.0\n",
       "        950210           0.0\n",
       "\n",
       "[20876 rows x 1 columns]"
      ]
     },
     "execution_count": 18,
     "metadata": {},
     "output_type": "execute_result"
    }
   ],
   "source": [
    "capital_surplus"
   ]
  },
  {
   "cell_type": "code",
   "execution_count": null,
   "metadata": {},
   "outputs": [],
   "source": [
    "retained_earnings = get_ifrs_data('IFRS/RetainedEarnings.csv')"
   ]
  },
  {
   "cell_type": "code",
   "execution_count": null,
   "metadata": {},
   "outputs": [],
   "source": [
    "retained_earnings"
   ]
  },
  {
   "cell_type": "code",
   "execution_count": null,
   "metadata": {},
   "outputs": [],
   "source": [
    "deferred_tax_liabilities = get_ifrs_data('IFRS/DeferredTaxLiabilities.csv')"
   ]
  },
  {
   "cell_type": "code",
   "execution_count": null,
   "metadata": {},
   "outputs": [],
   "source": [
    "market_cap_data = stock_data['marcap'].to_frame()"
   ]
  },
  {
   "cell_type": "code",
   "execution_count": null,
   "metadata": {},
   "outputs": [],
   "source": [
    "market_cap_data = market_cap_data.unstack('ticker').resample('Y').last().stack('ticker')"
   ]
  },
  {
   "cell_type": "code",
   "execution_count": null,
   "metadata": {},
   "outputs": [],
   "source": [
    "market_cap_data.index = market_cap_data.index.set_levels(market_cap_data.index.levels[0].to_period('M'), level=0)"
   ]
  },
  {
   "cell_type": "code",
   "execution_count": null,
   "metadata": {},
   "outputs": [],
   "source": [
    "market_cap_data"
   ]
  },
  {
   "cell_type": "code",
   "execution_count": null,
   "metadata": {},
   "outputs": [],
   "source": [
    "book_to_market_data = pd.concat([common_stock_capital, capital_surplus, retained_earnings, deferred_tax_liabilities, market_cap_data], axis=1)\n",
    "book_to_market_data.sort_index(inplace=True)"
   ]
  },
  {
   "cell_type": "code",
   "execution_count": null,
   "metadata": {},
   "outputs": [],
   "source": [
    "book_to_market_data"
   ]
  },
  {
   "cell_type": "code",
   "execution_count": null,
   "metadata": {},
   "outputs": [],
   "source": [
    "# 시가총액이 있는 년도부터 시작\n",
    "book_to_market_data = book_to_market_data.loc[idx['1995':'2021',:],:]"
   ]
  },
  {
   "cell_type": "code",
   "execution_count": null,
   "metadata": {
    "scrolled": true
   },
   "outputs": [],
   "source": [
    "# 결측치 제거\n",
    "book_to_market_data.dropna(inplace=True)"
   ]
  },
  {
   "cell_type": "markdown",
   "metadata": {},
   "source": [
    "### Book to Market Ratio 구하기"
   ]
  },
  {
   "cell_type": "code",
   "execution_count": null,
   "metadata": {},
   "outputs": [],
   "source": [
    "# B/M 계산\n",
    "columns_list = book_to_market_data.columns\n",
    "book_value = book_to_market_data.loc[:,columns_list[:-1]].sum(axis=1)\n",
    "book_to_market_ratio = book_value.div(book_to_market_data['marcap']).to_frame()\n",
    "book_to_market_ratio.columns = ['BM']\n"
   ]
  },
  {
   "cell_type": "markdown",
   "metadata": {},
   "source": [
    "### 회계년도랑 공시년도가 차이가 나므로 회계년도에서 6개월 뒤로 미룬다.\n",
    "- 년말 12월 기준의 회계가 있어도 공시하기까지 시간이 걸린다. 이부분을 고려"
   ]
  },
  {
   "cell_type": "code",
   "execution_count": null,
   "metadata": {},
   "outputs": [],
   "source": [
    "def offset_6_month(data: pd.DataFrame) -> pd.DataFrame:\n",
    "    '''\n",
    "        Input DataFrame E.g\n",
    "        Multi Index DataFrame\n",
    "                      price\n",
    "        date  ticker\n",
    "     1995-12  000660  1000\n",
    "              005930  20000\n",
    "              003229  3004000\n",
    "              \n",
    "        \n",
    "        Output DataFrame E.g\n",
    "                         price\n",
    "        date  ticker\n",
    "     1996-06  000660  1000\n",
    "              005930  20000\n",
    "              003229  3004000\n",
    "        \n",
    "    '''\n",
    "    date_index = data.index.levels[0].to_timestamp() + pd.DateOffset(months=6)\n",
    "    data.index = data.index.set_levels(date_index.to_period('M'), level=0)\n",
    "    return data "
   ]
  },
  {
   "cell_type": "markdown",
   "metadata": {},
   "source": [
    "## B/M Ratio 공시날짜를 위해서 6개월 미루기"
   ]
  },
  {
   "cell_type": "code",
   "execution_count": null,
   "metadata": {},
   "outputs": [],
   "source": [
    "book_to_market_ratio = offset_6_month(book_to_market_ratio)"
   ]
  },
  {
   "cell_type": "code",
   "execution_count": null,
   "metadata": {},
   "outputs": [],
   "source": [
    "book_to_market_ratio"
   ]
  },
  {
   "cell_type": "markdown",
   "metadata": {},
   "source": [
    "## 수익성 지표 계산\n",
    "- OP = 영업이익 / 자기자본 장부가치\n",
    "    + 영업이익 = 매출액 - 매출원가 - 이자비용 - 판관비"
   ]
  },
  {
   "cell_type": "markdown",
   "metadata": {},
   "source": [
    "#### 매출액"
   ]
  },
  {
   "cell_type": "code",
   "execution_count": null,
   "metadata": {},
   "outputs": [],
   "source": [
    "net_sales = get_ifrs_data('IFRS/NetSales.csv')"
   ]
  },
  {
   "cell_type": "code",
   "execution_count": null,
   "metadata": {
    "scrolled": true
   },
   "outputs": [],
   "source": [
    "net_sales"
   ]
  },
  {
   "cell_type": "markdown",
   "metadata": {},
   "source": [
    "#### 매출원가"
   ]
  },
  {
   "cell_type": "code",
   "execution_count": null,
   "metadata": {},
   "outputs": [],
   "source": [
    "cost_of_sales = get_ifrs_data('IFRS/CostOfSales.csv')"
   ]
  },
  {
   "cell_type": "code",
   "execution_count": null,
   "metadata": {
    "scrolled": true
   },
   "outputs": [],
   "source": [
    "cost_of_sales"
   ]
  },
  {
   "cell_type": "markdown",
   "metadata": {},
   "source": [
    "#### 이자비용"
   ]
  },
  {
   "cell_type": "code",
   "execution_count": null,
   "metadata": {},
   "outputs": [],
   "source": [
    "interest_expense = get_ifrs_data('IFRS/InterestExpenses.csv')"
   ]
  },
  {
   "cell_type": "code",
   "execution_count": null,
   "metadata": {},
   "outputs": [],
   "source": [
    "interest_expense"
   ]
  },
  {
   "cell_type": "markdown",
   "metadata": {},
   "source": [
    "### 판매비와 관리비"
   ]
  },
  {
   "cell_type": "code",
   "execution_count": null,
   "metadata": {},
   "outputs": [],
   "source": [
    "selling_and_admin_expense = get_ifrs_data('IFRS/Selling_and_administrative_expenses.csv')"
   ]
  },
  {
   "cell_type": "code",
   "execution_count": null,
   "metadata": {},
   "outputs": [],
   "source": [
    "selling_and_admin_expense"
   ]
  },
  {
   "cell_type": "code",
   "execution_count": null,
   "metadata": {},
   "outputs": [],
   "source": [
    "op_data = pd.concat([net_sales, cost_of_sales, interest_expense, selling_and_admin_expense], axis=1)"
   ]
  },
  {
   "cell_type": "code",
   "execution_count": null,
   "metadata": {},
   "outputs": [],
   "source": [
    "op_data.head(5)"
   ]
  },
  {
   "cell_type": "code",
   "execution_count": null,
   "metadata": {},
   "outputs": [],
   "source": [
    "col_list = op_data.columns"
   ]
  },
  {
   "cell_type": "code",
   "execution_count": null,
   "metadata": {},
   "outputs": [],
   "source": [
    "# 위의 식대로 계산\n",
    "op = (op_data[col_list[0]] - op_data[col_list[1:]].sum(axis=1)).div(book_value).to_frame()"
   ]
  },
  {
   "cell_type": "code",
   "execution_count": null,
   "metadata": {},
   "outputs": [],
   "source": [
    "op.columns = ['OP']\n",
    "op.dropna(inplace=True)"
   ]
  },
  {
   "cell_type": "code",
   "execution_count": null,
   "metadata": {},
   "outputs": [],
   "source": [
    "op = offset_6_month(op)"
   ]
  },
  {
   "cell_type": "code",
   "execution_count": null,
   "metadata": {},
   "outputs": [],
   "source": [
    "op "
   ]
  },
  {
   "cell_type": "markdown",
   "metadata": {},
   "source": [
    "## 자본투자\n",
    "- t-1년 12월 말의 총자산에서 t-2년 12월 말의 총 자산을 차감한 총자산증가액\n",
    "    + inv = TotalAsset(t-1) / TotalAsset(t-2) - 1"
   ]
  },
  {
   "cell_type": "markdown",
   "metadata": {},
   "source": [
    "### 총 자산"
   ]
  },
  {
   "cell_type": "code",
   "execution_count": null,
   "metadata": {},
   "outputs": [],
   "source": [
    "total_asset = get_ifrs_data('IFRS/TotalAssets.csv')"
   ]
  },
  {
   "cell_type": "code",
   "execution_count": null,
   "metadata": {},
   "outputs": [],
   "source": [
    "total_assett_unstack = total_asset.unstack('ticker')"
   ]
  },
  {
   "cell_type": "code",
   "execution_count": null,
   "metadata": {},
   "outputs": [],
   "source": [
    "inv = (total_assett_unstack / total_assett_unstack.shift(1)).stack('ticker') - 1"
   ]
  },
  {
   "cell_type": "code",
   "execution_count": null,
   "metadata": {},
   "outputs": [],
   "source": [
    "inv = offset_6_month(inv)"
   ]
  },
  {
   "cell_type": "code",
   "execution_count": null,
   "metadata": {},
   "outputs": [],
   "source": [
    "inv.columns = [\"INV\"]"
   ]
  },
  {
   "cell_type": "code",
   "execution_count": null,
   "metadata": {},
   "outputs": [],
   "source": [
    "inv"
   ]
  },
  {
   "cell_type": "markdown",
   "metadata": {},
   "source": [
    "## Size-B/M, Size-OP, Size-Inv Portfolio 구성\n",
    "- 가격 데이터가 1995년부터 있으므로 1995년부터 Portfolio 구성\n",
    "- Value weight portfolio"
   ]
  },
  {
   "cell_type": "markdown",
   "metadata": {},
   "source": [
    "기업규모\n",
    "- 하위 50%, 상위 50%\n",
    "\n",
    "\n",
    "B/M\n",
    "- 상위 33%, 중위 33%, 하위 33%\n",
    "\n",
    "\n",
    "수익성\n",
    "- 상위 33%, 중위 33%, 하위 33%\n",
    "\n",
    "\n",
    "자본투자\n",
    "- 하위 33%, 중위 33%, 상위 33%"
   ]
  },
  {
   "cell_type": "markdown",
   "metadata": {},
   "source": [
    "#### Size - B/M 포트폴리오\n",
    "|Size/ BM|Small|Big|\n",
    "|---|---|---|\n",
    "|High BM|SH|BH|\n",
    "|2|SN|BN|\n",
    "|Low BM|SL|BL|"
   ]
  },
  {
   "cell_type": "markdown",
   "metadata": {},
   "source": [
    "#### Size - OP 포트폴리오\n",
    "|Size/ OP|Small|Big|\n",
    "|---|---|---|\n",
    "|High OP|SR|BR|\n",
    "|2|SN|BN|\n",
    "|Low OP|SW|BW|"
   ]
  },
  {
   "cell_type": "markdown",
   "metadata": {},
   "source": [
    "#### Size - Inv 포트폴리오\n",
    "|Size/ Inv|Small|Big|\n",
    "|---|---|---|\n",
    "|High Inv|SC|BC|\n",
    "|2|SN|BN|\n",
    "|Low Inv|SA|BA|"
   ]
  },
  {
   "cell_type": "markdown",
   "metadata": {},
   "source": [
    "### Equal Weight Portfolio로 구성 "
   ]
  },
  {
   "cell_type": "markdown",
   "metadata": {},
   "source": [
    "#### SMB 구하기\n",
    "- 2분위수로 Size Factor로 나누고 이에 따라서"
   ]
  },
  {
   "cell_type": "code",
   "execution_count": null,
   "metadata": {},
   "outputs": [],
   "source": [
    "# 시간 인덱스 가져오기\n",
    "period_index = book_to_market_ratio.unstack('ticker').index"
   ]
  },
  {
   "cell_type": "markdown",
   "metadata": {},
   "source": [
    "### 수정 가격 데이터 가져오기"
   ]
  },
  {
   "cell_type": "code",
   "execution_count": null,
   "metadata": {},
   "outputs": [],
   "source": [
    "price_data = pd.read_hdf('assets.h5','finance_datareader/prices')[['close', 'adj_close', 'adj_volume', 'marcap']]"
   ]
  },
  {
   "cell_type": "code",
   "execution_count": null,
   "metadata": {},
   "outputs": [],
   "source": [
    "return_data = (price_data[['marcap']]\n",
    "                                .unstack('ticker')\n",
    "                                .fillna(method='bfill')\n",
    "                                .fillna(0)\n",
    "                                .resample('M')\n",
    "                                .last()\n",
    "                                .pct_change()\n",
    "                                .stack('ticker')\n",
    "                                \n",
    "              )"
   ]
  },
  {
   "cell_type": "code",
   "execution_count": null,
   "metadata": {},
   "outputs": [],
   "source": [
    "return_data.columns = ['return']"
   ]
  },
  {
   "cell_type": "code",
   "execution_count": null,
   "metadata": {},
   "outputs": [],
   "source": [
    "return_data.index = return_data.index.set_levels(return_data.index.levels[0].to_period('M'), level=0)"
   ]
  },
  {
   "cell_type": "code",
   "execution_count": null,
   "metadata": {},
   "outputs": [],
   "source": [
    "return_data"
   ]
  },
  {
   "cell_type": "markdown",
   "metadata": {},
   "source": [
    "### 1년 Size - B/M Portfolio 수익률 먼저 만들어 보기"
   ]
  },
  {
   "cell_type": "code",
   "execution_count": null,
   "metadata": {},
   "outputs": [],
   "source": [
    "# 처음 월들을 기준으로 정하기\n",
    "first_month = period_index[0]\n",
    "print(first_month)"
   ]
  },
  {
   "cell_type": "code",
   "execution_count": null,
   "metadata": {},
   "outputs": [],
   "source": [
    "rank = six_month_rank.loc[idx[first_month,:],:]['rank']"
   ]
  },
  {
   "cell_type": "code",
   "execution_count": null,
   "metadata": {
    "scrolled": true
   },
   "outputs": [],
   "source": [
    "rank"
   ]
  },
  {
   "cell_type": "markdown",
   "metadata": {},
   "source": [
    "#### 2분위수로 Size Factor 나누기\n",
    "- Size를 먼저"
   ]
  },
  {
   "cell_type": "code",
   "execution_count": null,
   "metadata": {},
   "outputs": [],
   "source": [
    "rank_qauntile = pd.qcut(rank, q=2, labels=['small','big']).to_frame()"
   ]
  },
  {
   "cell_type": "code",
   "execution_count": null,
   "metadata": {},
   "outputs": [],
   "source": [
    "rank_qauntile"
   ]
  },
  {
   "cell_type": "code",
   "execution_count": null,
   "metadata": {},
   "outputs": [],
   "source": [
    "big_marcap_ticker = rank_qauntile[rank_qauntile['rank'].astype(str) == 'big'].index.get_level_values('ticker')"
   ]
  },
  {
   "cell_type": "code",
   "execution_count": null,
   "metadata": {},
   "outputs": [],
   "source": [
    "small_marcap_ticker = rank_qauntile[rank_qauntile['rank'].astype(str) == 'small'].index.get_level_values('ticker')"
   ]
  },
  {
   "cell_type": "markdown",
   "metadata": {},
   "source": [
    "### Portfolio 기간 가져오기"
   ]
  },
  {
   "cell_type": "code",
   "execution_count": null,
   "metadata": {},
   "outputs": [],
   "source": [
    "def get_year_return(date:pd.Period, ticker_range):\n",
    "    start = date.to_timestamp()\n",
    "    end = start + pd.DateOffset(months=13) - pd.DateOffset(days=1)\n",
    "\n",
    "    year_return = (return_data.loc[idx[start:end, ticker_range],:]\n",
    "                                        .unstack('ticker')\n",
    "                                        .mean(axis=1)\n",
    "                                        .mul(100)\n",
    "                    )\n",
    "    return year_return"
   ]
  },
  {
   "cell_type": "code",
   "execution_count": null,
   "metadata": {},
   "outputs": [],
   "source": [
    "big_marcap_year_return = get_year_return(first_month, big_marcap_ticker)"
   ]
  },
  {
   "cell_type": "code",
   "execution_count": null,
   "metadata": {},
   "outputs": [],
   "source": [
    "big_marcap_year_return"
   ]
  },
  {
   "cell_type": "code",
   "execution_count": null,
   "metadata": {},
   "outputs": [],
   "source": [
    "small_marcap_year_return = get_year_return(first_month, small_marcap_ticker)"
   ]
  },
  {
   "cell_type": "code",
   "execution_count": null,
   "metadata": {},
   "outputs": [],
   "source": [
    "smb = small_marcap_year_return - big_marcap_year_return\n",
    "print(smb)"
   ]
  },
  {
   "cell_type": "markdown",
   "metadata": {},
   "source": [
    "### 이제 모든 기간의 SMB 수익을 구해본다."
   ]
  },
  {
   "cell_type": "code",
   "execution_count": null,
   "metadata": {
    "scrolled": true
   },
   "outputs": [],
   "source": [
    "# 멀티 쓰레드 풀 이용\n",
    "from concurrent import futures\n",
    "import concurrent\n",
    "\n",
    "# 이 작업은 CPU 리소스와 시간이 많이 들어갑니다.\n",
    "smb_list = []\n",
    "def calculate_return(period):\n",
    "    print(period)\n",
    "    rank = six_month_rank.loc[idx[period,:],:]['rank']\n",
    "    rank_qauntile = pd.qcut(rank, q=2, labels=['small','big']).to_frame()\n",
    "    \n",
    "    big_marcap_ticker = rank_qauntile[rank_qauntile['rank'].astype(str) == 'big'].index.get_level_values('ticker')\n",
    "    small_marcap_ticker = rank_qauntile[rank_qauntile['rank'].astype(str) == 'small'].index.get_level_values('ticker')\n",
    "    \n",
    "    big_marcap_year_return = get_year_return(period, big_marcap_ticker) \n",
    "    small_marcap_year_return = get_year_return(period, small_marcap_ticker) \n",
    "    smb = (small_marcap_year_return - big_marcap_year_return).to_frame()\n",
    "    smb.columns = ['SMB']\n",
    "    smb_list.append(smb)\n",
    "    \n",
    "with futures.ThreadPoolExecutor(10) as executor:\n",
    "    executor.map(calculate_return, period_index)"
   ]
  },
  {
   "cell_type": "code",
   "execution_count": null,
   "metadata": {},
   "outputs": [],
   "source": [
    "SMB = pd.concat(smb_list)"
   ]
  },
  {
   "cell_type": "code",
   "execution_count": null,
   "metadata": {},
   "outputs": [],
   "source": [
    "SMB.sort_index(inplace=True)"
   ]
  },
  {
   "cell_type": "markdown",
   "metadata": {},
   "source": [
    "### Kospi Index 데이터 가져오기"
   ]
  },
  {
   "cell_type": "code",
   "execution_count": null,
   "metadata": {},
   "outputs": [],
   "source": [
    "kospi = pd.read_hdf('assets.h5', 'finance_datareader/kospi')\n",
    "kospi.rename(columns={'close':'Mkt-RF'}, inplace=True)\n",
    "kospi = kospi[kospi.index >= period_index[0].to_timestamp()]"
   ]
  },
  {
   "cell_type": "code",
   "execution_count": null,
   "metadata": {},
   "outputs": [],
   "source": [
    "kospi = kospi['Mkt-RF'].resample('M').last().pct_change().mul(100).to_frame().dropna()\n",
    "kospi.index = kospi.index.to_period('M')"
   ]
  },
  {
   "cell_type": "markdown",
   "metadata": {},
   "source": [
    "### 코스피 Index랑 SMB 비교"
   ]
  },
  {
   "cell_type": "code",
   "execution_count": null,
   "metadata": {},
   "outputs": [],
   "source": [
    "(SMB['SMB']/100 + 1).cumprod().plot()\n",
    "(kospi['Mkt-RF']/100 + 1).cumprod().plot()\n",
    "plt.legend()"
   ]
  },
  {
   "cell_type": "markdown",
   "metadata": {},
   "source": [
    "## HML 월별 수익률 구하기"
   ]
  },
  {
   "cell_type": "markdown",
   "metadata": {},
   "source": [
    "#### Size - B/M 포트폴리오\n",
    "|Size/ BM|Small|Big|\n",
    "|---|---|---|\n",
    "|High BM|SH|BH|\n",
    "|2|SN|BN|\n",
    "|Low BM|SL|BL|\n",
    "\n",
    "\n",
    "\n",
    "구하는 식\n",
    "- HML = (SH + BH)/2 - (SL + BL)/2  "
   ]
  },
  {
   "cell_type": "code",
   "execution_count": null,
   "metadata": {},
   "outputs": [],
   "source": [
    "period = period_index[0]"
   ]
  },
  {
   "cell_type": "code",
   "execution_count": null,
   "metadata": {},
   "outputs": [],
   "source": [
    "big_bm_data = book_to_market_ratio.loc[idx[period, big_marcap_ticker],:]['BM']\n",
    "small_bm_data = book_to_market_ratio.loc[idx[period, small_marcap_ticker],:]['BM']"
   ]
  },
  {
   "cell_type": "markdown",
   "metadata": {},
   "source": [
    "### B/M에 따라 3분위수로 나눈다."
   ]
  },
  {
   "cell_type": "code",
   "execution_count": null,
   "metadata": {},
   "outputs": [],
   "source": [
    "big_bm_quantile = pd.qcut(big_bm_data, q=3, labels=['BL', 'BN', 'BH']).to_frame()"
   ]
  },
  {
   "cell_type": "code",
   "execution_count": null,
   "metadata": {},
   "outputs": [],
   "source": [
    "small_bm_quantile = pd.qcut(small_bm_data, q=3, labels=['SL', 'SN', 'SH']).to_frame()"
   ]
  },
  {
   "cell_type": "code",
   "execution_count": null,
   "metadata": {},
   "outputs": [],
   "source": [
    "bh_ticker = big_bm_quantile[big_bm_quantile['BM'].astype(str) == 'BH'].index.get_level_values('ticker')\n",
    "sh_ticker = small_bm_quantile[small_bm_quantile['BM'].astype(str) == 'SH'].index.get_level_values('ticker')"
   ]
  },
  {
   "cell_type": "code",
   "execution_count": null,
   "metadata": {},
   "outputs": [],
   "source": [
    "bl_ticker = big_bm_quantile[big_bm_quantile['BM'].astype(str) == 'BL'].index.get_level_values('ticker')\n",
    "sl_ticker = small_bm_quantile[small_bm_quantile['BM'].astype(str) == 'SL'].index.get_level_values('ticker')"
   ]
  },
  {
   "cell_type": "code",
   "execution_count": null,
   "metadata": {},
   "outputs": [],
   "source": [
    "hml = (get_year_return(period, bh_ticker) + get_year_return(period, sh_ticker))/2 - (get_year_return(period, bl_ticker) + get_year_return(period, sl_ticker))/2"
   ]
  },
  {
   "cell_type": "markdown",
   "metadata": {},
   "source": [
    "### 전체 기간의 HML을 구해본다."
   ]
  },
  {
   "cell_type": "code",
   "execution_count": null,
   "metadata": {},
   "outputs": [],
   "source": [
    "hml_list = []\n",
    "def calculate_return(period):\n",
    "    print(period)\n",
    "    big_bm_data = book_to_market_ratio.loc[idx[period, big_marcap_ticker],:]['BM']\n",
    "    small_bm_data = book_to_market_ratio.loc[idx[period, small_marcap_ticker],:]['BM']\n",
    "    \n",
    "    # 3분위수로 나눈다.\n",
    "    big_bm_quantile = pd.qcut(big_bm_data, q=3, labels=['BL', 'BN', 'BH']).to_frame()\n",
    "    small_bm_quantile = pd.qcut(small_bm_data, q=3, labels=['SL', 'SN', 'SH']).to_frame()\n",
    "    \n",
    "    bh_ticker = big_bm_quantile[big_bm_quantile['BM'].astype(str) == 'BH'].index.get_level_values('ticker')\n",
    "    sh_ticker = small_bm_quantile[small_bm_quantile['BM'].astype(str) == 'SH'].index.get_level_values('ticker')\n",
    "    \n",
    "    bl_ticker = big_bm_quantile[big_bm_quantile['BM'].astype(str) == 'BL'].index.get_level_values('ticker')\n",
    "    sl_ticker = small_bm_quantile[small_bm_quantile['BM'].astype(str) == 'SL'].index.get_level_values('ticker')\n",
    "    \n",
    "    hml = (get_year_return(period, bh_ticker) + get_year_return(period, sh_ticker))/2 - (get_year_return(period, bl_ticker) + get_year_return(period, sl_ticker))/2\n",
    "    hml = hml.to_frame()\n",
    "    hml.columns = ['HML']\n",
    "    hml_list.append(hml)\n",
    "    \n",
    "for period in period_index:\n",
    "    hml_list.append(calculate_return(period))"
   ]
  },
  {
   "cell_type": "code",
   "execution_count": null,
   "metadata": {},
   "outputs": [],
   "source": [
    "HML = pd.concat(hml_list).sort_index()"
   ]
  },
  {
   "cell_type": "code",
   "execution_count": null,
   "metadata": {},
   "outputs": [],
   "source": [
    "(SMB['SMB']/100 + 1).cumprod().plot()\n",
    "(HML['HML']/100 + 1).cumprod().plot()\n",
    "(kospi['Mkt-RF']/100 + 1).cumprod().plot()\n",
    "plt.legend()"
   ]
  },
  {
   "cell_type": "markdown",
   "metadata": {},
   "source": [
    "## RMW 월별 수익률 구하기¶"
   ]
  },
  {
   "cell_type": "markdown",
   "metadata": {},
   "source": [
    "#### Size - OP 포트폴리오\n",
    "|Size/ OP|Small|Big|\n",
    "|---|---|---|\n",
    "|High OP|SR|BR|\n",
    "|2|SN|BN|\n",
    "|Low OP|SW|BW|\n",
    "\n",
    "\n",
    "구하는 식\n",
    "- RMW = (SR + BR)/2 - (SW + BW)/2  "
   ]
  },
  {
   "cell_type": "markdown",
   "metadata": {},
   "source": [
    "### 구하는 식의 HML이랑 비슷하므로 바로 코드로 넘어간다."
   ]
  },
  {
   "cell_type": "code",
   "execution_count": null,
   "metadata": {},
   "outputs": [],
   "source": [
    "rmw_list = []\n",
    "\n",
    "def calculate_return(period):\n",
    "    print(period)\n",
    "    big_op_data = op.loc[idx[period, big_marcap_ticker],:]['OP']\n",
    "    small_op_data = op.loc[idx[period, small_marcap_ticker],:]['OP']\n",
    "    \n",
    "    # 3분위수로 나눈다.\n",
    "    big_op_quantile = pd.qcut(big_op_data, q=3, labels=['BW', 'BN', 'BR']).to_frame()\n",
    "    small_op_quantile = pd.qcut(small_op_data, q=3, labels=['SW', 'SN', 'SR']).to_frame()\n",
    "    \n",
    "    br_ticker = big_op_quantile[big_op_quantile['OP'].astype(str) == 'BR'].index.get_level_values('ticker')\n",
    "    sr_ticker = small_op_quantile[small_op_quantile['OP'].astype(str) == 'SR'].index.get_level_values('ticker')\n",
    "    \n",
    "    bw_ticker = big_op_quantile[big_op_quantile['OP'].astype(str) == 'BW'].index.get_level_values('ticker')\n",
    "    sw_ticker = small_op_quantile[small_op_quantile['OP'].astype(str) == 'SW'].index.get_level_values('ticker')\n",
    "    \n",
    "    rmw = (get_year_return(period, br_ticker) + get_year_return(period, sr_ticker))/2 - (get_year_return(period, bw_ticker) + get_year_return(period, sw_ticker))/2\n",
    "    rmw = rmw.to_frame()\n",
    "    rmw.columns = ['RMW']\n",
    "    return rmw \n",
    "\n",
    "for period in period_index:\n",
    "    rmw_list.append(calculate_return(period))"
   ]
  },
  {
   "cell_type": "code",
   "execution_count": null,
   "metadata": {},
   "outputs": [],
   "source": [
    "RMW = pd.concat(rmw_list).sort_index()"
   ]
  },
  {
   "cell_type": "code",
   "execution_count": null,
   "metadata": {},
   "outputs": [],
   "source": [
    "(SMB['SMB']/100 + 1).cumprod().plot()\n",
    "(RMW['RMW']/100 + 1).cumprod().plot()\n",
    "(HML['HML']/100 + 1).cumprod().plot()\n",
    "(kospi['Mkt-RF']/100 + 1).cumprod().plot()\n",
    "plt.legend()"
   ]
  },
  {
   "cell_type": "markdown",
   "metadata": {},
   "source": [
    "## CMA 월별 수익률 구하기"
   ]
  },
  {
   "cell_type": "markdown",
   "metadata": {},
   "source": [
    "#### Size - Inv 포트폴리오\n",
    "|Size/ Inv|Small|Big|\n",
    "|---|---|---|\n",
    "|High Inv|SC|BC|\n",
    "|2|SN|BN|\n",
    "|Low Inv|SA|BA|\n",
    "\n",
    "구하는 식\n",
    "- CMA = (SC + BC)/2 - (SM + BM)/2  "
   ]
  },
  {
   "cell_type": "markdown",
   "metadata": {},
   "source": [
    "### 구하는 식의 HML이랑 비슷하므로 바로 코드로 넘어간다."
   ]
  },
  {
   "cell_type": "code",
   "execution_count": null,
   "metadata": {},
   "outputs": [],
   "source": [
    "cma_list = []\n",
    "\n",
    "def calculate_return(period):\n",
    "    print(period)\n",
    "    big_inv_data = inv.loc[idx[period, big_marcap_ticker],:]['INV']\n",
    "    small_inv_data = inv.loc[idx[period, small_marcap_ticker],:]['INV']\n",
    "    \n",
    "    # 3분위수로 나눈다.\n",
    "    big_inv_quantile = pd.qcut(big_inv_data, q=3, labels=['BA', 'BN', 'BC']).to_frame()\n",
    "    small_inv_quantile = pd.qcut(small_inv_data, q=3, labels=['SA', 'SN', 'SC']).to_frame()\n",
    "    \n",
    "    bc_ticker = big_inv_quantile[big_inv_quantile['INV'].astype(str) == 'BC'].index.get_level_values('ticker')\n",
    "    sc_ticker = small_inv_quantile[small_inv_quantile['INV'].astype(str) == 'SC'].index.get_level_values('ticker')\n",
    "    \n",
    "    ba_ticker = big_inv_quantile[big_inv_quantile['INV'].astype(str) == 'BA'].index.get_level_values('ticker')\n",
    "    sa_ticker = small_inv_quantile[small_inv_quantile['INV'].astype(str) == 'SA'].index.get_level_values('ticker')\n",
    "    \n",
    "    cma = (get_year_return(period, bc_ticker) + get_year_return(period, sc_ticker))/2 - (get_year_return(period, ba_ticker) + get_year_return(period, sa_ticker))/2\n",
    "    cma = cma.to_frame()\n",
    "    cma.columns = ['CMA']\n",
    "    return cma\n",
    "\n",
    "for period in period_index:\n",
    "    cma_list.append(calculate_return(period))"
   ]
  },
  {
   "cell_type": "code",
   "execution_count": null,
   "metadata": {},
   "outputs": [],
   "source": [
    "CMA = pd.concat(cma_list).sort_index()"
   ]
  },
  {
   "cell_type": "code",
   "execution_count": null,
   "metadata": {
    "scrolled": true
   },
   "outputs": [],
   "source": [
    "(SMB['SMB']/100 + 1).cumprod().plot()\n",
    "(CMA['CMA']/100 + 1).cumprod().plot()\n",
    "(RMW['RMW']/100 + 1).cumprod().plot()\n",
    "(HML['HML']/100 + 1).cumprod().plot()\n",
    "(kospi['Mkt-RF']/100 + 1).cumprod().plot()\n",
    "plt.legend()"
   ]
  },
  {
   "cell_type": "code",
   "execution_count": null,
   "metadata": {
    "scrolled": true
   },
   "outputs": [],
   "source": [
    "CMA"
   ]
  },
  {
   "cell_type": "code",
   "execution_count": null,
   "metadata": {},
   "outputs": [],
   "source": [
    "fama_french_5_factor_korea = pd.concat([kospi, SMB, HML, RMW, CMA], axis=1).dropna()"
   ]
  },
  {
   "cell_type": "code",
   "execution_count": null,
   "metadata": {},
   "outputs": [],
   "source": [
    "fama_french_5_factor_korea"
   ]
  },
  {
   "cell_type": "markdown",
   "metadata": {},
   "source": [
    "## Fama - French 5요인 저장"
   ]
  },
  {
   "cell_type": "code",
   "execution_count": null,
   "metadata": {},
   "outputs": [],
   "source": [
    "DATA_STORE = Path('assets.h5')"
   ]
  },
  {
   "cell_type": "code",
   "execution_count": null,
   "metadata": {},
   "outputs": [],
   "source": [
    "with pd.HDFStore(DATA_STORE) as store:\n",
    "    store.put('fama_french/korea', fama_french_5_factor_korea)"
   ]
  },
  {
   "cell_type": "markdown",
   "metadata": {},
   "source": [
    "## 미국 Fama - French 5요인 비교"
   ]
  },
  {
   "cell_type": "code",
   "execution_count": null,
   "metadata": {},
   "outputs": [],
   "source": [
    "ff_factor = 'F-F_Research_Data_5_Factors_2x3'\n",
    "ff_factor_data = pdr.DataReader(ff_factor, 'famafrench', start='1995')[0]"
   ]
  },
  {
   "cell_type": "code",
   "execution_count": null,
   "metadata": {},
   "outputs": [],
   "source": [
    "ff_factor_data"
   ]
  },
  {
   "cell_type": "code",
   "execution_count": null,
   "metadata": {},
   "outputs": [],
   "source": [
    "(ff_factor_data[['SMB', 'HML', 'RMW', 'CMA']]/100 + 1).cumprod().plot()"
   ]
  },
  {
   "cell_type": "code",
   "execution_count": null,
   "metadata": {},
   "outputs": [],
   "source": [
    "ff_factor_data"
   ]
  },
  {
   "cell_type": "markdown",
   "metadata": {},
   "source": [
    "## 결론\n",
    "- 기존의 미국 fama french 5요인을 보면 한국 Fama French와는 많이 다른것을 알 수 있다.\n",
    "\n",
    "\n",
    "## 이유\n",
    "- 이유는 미국 Fama - French 5요인 데이터는 value weight portfolio로 구성했고 국내 Fama - French는 equal weight portfolio로 구성했으므로 전자보다 시가총액이 작은 주식의 영향력이 커저서 그렇다."
   ]
  },
  {
   "cell_type": "code",
   "execution_count": null,
   "metadata": {},
   "outputs": [],
   "source": []
  }
 ],
 "metadata": {
  "kernelspec": {
   "display_name": "Python [conda env:ml4t_orginal]",
   "language": "python",
   "name": "conda-env-ml4t_orginal-py"
  },
  "language_info": {
   "codemirror_mode": {
    "name": "ipython",
    "version": 3
   },
   "file_extension": ".py",
   "mimetype": "text/x-python",
   "name": "python",
   "nbconvert_exporter": "python",
   "pygments_lexer": "ipython3",
   "version": "3.8.8"
  }
 },
 "nbformat": 4,
 "nbformat_minor": 4
}
