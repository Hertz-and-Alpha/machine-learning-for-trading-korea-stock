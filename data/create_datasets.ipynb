{
 "cells": [
  {
   "cell_type": "code",
   "execution_count": 1,
   "metadata": {},
   "outputs": [],
   "source": [
    "# finance datareader가 설치 안되어 있을시 실행\n",
    "# !pip install finance-datareader"
   ]
  },
  {
   "cell_type": "code",
   "execution_count": 2,
   "metadata": {},
   "outputs": [],
   "source": [
    "import os \n",
    "from pathlib import Path\n",
    "import numpy as np\n",
    "import pandas as pd\n",
    "import pandas_datareader.data as web\n",
    "import FinanceDataReader as fdr\n",
    "import numpy as np\n",
    "import pandas_datareader as pdr\n"
   ]
  },
  {
   "cell_type": "markdown",
   "metadata": {},
   "source": [
    "## 시가 총액과 데이터 가져오기"
   ]
  },
  {
   "cell_type": "code",
   "execution_count": 3,
   "metadata": {},
   "outputs": [],
   "source": [
    "# 처음 실행시만 한번 돌려보기\n",
    "# !git clone \"https://github.com/FinanceData/marcap.git\" marcap"
   ]
  },
  {
   "cell_type": "code",
   "execution_count": 4,
   "metadata": {},
   "outputs": [],
   "source": [
    "idx = pd.IndexSlice"
   ]
  },
  {
   "cell_type": "code",
   "execution_count": 5,
   "metadata": {},
   "outputs": [],
   "source": [
    "data_path = Path('marcap', 'data')"
   ]
  },
  {
   "cell_type": "code",
   "execution_count": 6,
   "metadata": {},
   "outputs": [],
   "source": [
    "file_list = os.listdir(data_path)"
   ]
  },
  {
   "cell_type": "code",
   "execution_count": 7,
   "metadata": {},
   "outputs": [
    {
     "name": "stderr",
     "output_type": "stream",
     "text": [
      "C:\\Users\\PC\\anaconda3\\envs\\ml4t_orginal\\lib\\site-packages\\IPython\\core\\interactiveshell.py:3165: DtypeWarning: Columns (3) have mixed types.Specify dtype option on import or set low_memory=False.\n",
      "  has_raised = await self.run_ast_nodes(code_ast.body, cell_name,\n"
     ]
    }
   ],
   "source": [
    "data_list = []\n",
    "for file in file_list:\n",
    "    file_path = data_path / file \n",
    "    data = pd.read_csv(file_path, dtype={'Code':str}, parse_dates=['Date'])\n",
    "    data_list.append(data) "
   ]
  },
  {
   "cell_type": "code",
   "execution_count": 8,
   "metadata": {},
   "outputs": [],
   "source": [
    "data = pd.concat(data_list)"
   ]
  },
  {
   "cell_type": "code",
   "execution_count": 9,
   "metadata": {},
   "outputs": [
    {
     "name": "stderr",
     "output_type": "stream",
     "text": [
      "C:\\Users\\PC\\anaconda3\\envs\\ml4t_orginal\\lib\\site-packages\\pandas\\core\\frame.py:4441: SettingWithCopyWarning: \n",
      "A value is trying to be set on a copy of a slice from a DataFrame\n",
      "\n",
      "See the caveats in the documentation: https://pandas.pydata.org/pandas-docs/stable/user_guide/indexing.html#returning-a-view-versus-a-copy\n",
      "  return super().rename(\n"
     ]
    }
   ],
   "source": [
    "# KOSPI 종목만 출력\n",
    "kospi_data = data[data.Market == 'KOSPI']\n",
    "kospi_data.rename(columns=str.lower, inplace=True)\n",
    "\n",
    "kospi_data = kospi_data[['code','close','open', 'high', 'low', 'volume', 'amount', 'marcap','date', 'stocks']]\n",
    "kospi_data.rename(columns={'code': 'ticker'}, inplace=True)"
   ]
  },
  {
   "cell_type": "code",
   "execution_count": 10,
   "metadata": {
    "scrolled": true
   },
   "outputs": [],
   "source": [
    "kospi_data = kospi_data.groupby(['date', 'ticker']).last()"
   ]
  },
  {
   "cell_type": "markdown",
   "metadata": {},
   "source": [
    "## 상장폐지 데이터 추가\n",
    "- 데이터의 생존 편향을 없애기 위해서 상장 폐지 데이터도 추가해줘야 된다."
   ]
  },
  {
   "cell_type": "code",
   "execution_count": 11,
   "metadata": {},
   "outputs": [],
   "source": [
    "## 상장폐지 데이터 가져오기\n",
    "delisting_data = fdr.StockListing('KRX-DELISTING')"
   ]
  },
  {
   "cell_type": "markdown",
   "metadata": {},
   "source": [
    "#### 데이터 확인"
   ]
  },
  {
   "cell_type": "code",
   "execution_count": 12,
   "metadata": {
    "scrolled": true
   },
   "outputs": [
    {
     "data": {
      "text/html": [
       "<div>\n",
       "<style scoped>\n",
       "    .dataframe tbody tr th:only-of-type {\n",
       "        vertical-align: middle;\n",
       "    }\n",
       "\n",
       "    .dataframe tbody tr th {\n",
       "        vertical-align: top;\n",
       "    }\n",
       "\n",
       "    .dataframe thead th {\n",
       "        text-align: right;\n",
       "    }\n",
       "</style>\n",
       "<table border=\"1\" class=\"dataframe\">\n",
       "  <thead>\n",
       "    <tr style=\"text-align: right;\">\n",
       "      <th></th>\n",
       "      <th>Symbol</th>\n",
       "      <th>Name</th>\n",
       "      <th>Market</th>\n",
       "      <th>SecuGroup</th>\n",
       "      <th>Kind</th>\n",
       "      <th>ListingDate</th>\n",
       "      <th>DelistingDate</th>\n",
       "      <th>Reason</th>\n",
       "      <th>ArrantEnforceDate</th>\n",
       "      <th>ArrantEndDate</th>\n",
       "      <th>Industry</th>\n",
       "      <th>ParValue</th>\n",
       "      <th>ListingShares</th>\n",
       "      <th>ToSymbol</th>\n",
       "      <th>ToName</th>\n",
       "    </tr>\n",
       "  </thead>\n",
       "  <tbody>\n",
       "    <tr>\n",
       "      <th>0</th>\n",
       "      <td>06031012</td>\n",
       "      <td>3S R</td>\n",
       "      <td>KOSDAQ</td>\n",
       "      <td>신주인수권증서</td>\n",
       "      <td>보통주</td>\n",
       "      <td>2012-05-14</td>\n",
       "      <td>2012-05-21</td>\n",
       "      <td></td>\n",
       "      <td>NaT</td>\n",
       "      <td>NaT</td>\n",
       "      <td></td>\n",
       "      <td>0.0</td>\n",
       "      <td>1194422.0</td>\n",
       "      <td></td>\n",
       "      <td></td>\n",
       "    </tr>\n",
       "    <tr>\n",
       "      <th>1</th>\n",
       "      <td>00684014</td>\n",
       "      <td>AK홀딩스8R</td>\n",
       "      <td>KOSPI</td>\n",
       "      <td>신주인수권증서</td>\n",
       "      <td>보통주</td>\n",
       "      <td>2014-07-28</td>\n",
       "      <td>2014-08-04</td>\n",
       "      <td></td>\n",
       "      <td>NaT</td>\n",
       "      <td>NaT</td>\n",
       "      <td></td>\n",
       "      <td>0.0</td>\n",
       "      <td>1278299.0</td>\n",
       "      <td></td>\n",
       "      <td></td>\n",
       "    </tr>\n",
       "    <tr>\n",
       "      <th>2</th>\n",
       "      <td>13893015</td>\n",
       "      <td>BNK금융지주 8R</td>\n",
       "      <td>KOSPI</td>\n",
       "      <td>신주인수권증서</td>\n",
       "      <td>보통주</td>\n",
       "      <td>2015-12-24</td>\n",
       "      <td>2016-01-05</td>\n",
       "      <td></td>\n",
       "      <td>NaT</td>\n",
       "      <td>NaT</td>\n",
       "      <td></td>\n",
       "      <td>0.0</td>\n",
       "      <td>55969410.0</td>\n",
       "      <td></td>\n",
       "      <td></td>\n",
       "    </tr>\n",
       "    <tr>\n",
       "      <th>3</th>\n",
       "      <td>13893014</td>\n",
       "      <td>BS금융지주5R</td>\n",
       "      <td>KOSPI</td>\n",
       "      <td>신주인수권증서</td>\n",
       "      <td>보통주</td>\n",
       "      <td>2014-06-18</td>\n",
       "      <td>2014-06-25</td>\n",
       "      <td></td>\n",
       "      <td>NaT</td>\n",
       "      <td>NaT</td>\n",
       "      <td></td>\n",
       "      <td>0.0</td>\n",
       "      <td>32791220.0</td>\n",
       "      <td></td>\n",
       "      <td></td>\n",
       "    </tr>\n",
       "    <tr>\n",
       "      <th>4</th>\n",
       "      <td>03204017</td>\n",
       "      <td>C&amp;S자산관리 34R</td>\n",
       "      <td>KOSDAQ</td>\n",
       "      <td>신주인수권증서</td>\n",
       "      <td>보통주</td>\n",
       "      <td>2017-02-02</td>\n",
       "      <td>2017-02-09</td>\n",
       "      <td></td>\n",
       "      <td>NaT</td>\n",
       "      <td>NaT</td>\n",
       "      <td></td>\n",
       "      <td>0.0</td>\n",
       "      <td>3995063.0</td>\n",
       "      <td></td>\n",
       "      <td></td>\n",
       "    </tr>\n",
       "    <tr>\n",
       "      <th>5</th>\n",
       "      <td>0791601A</td>\n",
       "      <td>CJ CGV 5R</td>\n",
       "      <td>KOSPI</td>\n",
       "      <td>신주인수권증서</td>\n",
       "      <td>보통주</td>\n",
       "      <td>2020-07-03</td>\n",
       "      <td>2020-07-10</td>\n",
       "      <td></td>\n",
       "      <td>NaT</td>\n",
       "      <td>NaT</td>\n",
       "      <td></td>\n",
       "      <td>0.0</td>\n",
       "      <td>11123742.0</td>\n",
       "      <td></td>\n",
       "      <td></td>\n",
       "    </tr>\n",
       "    <tr>\n",
       "      <th>6</th>\n",
       "      <td>001047</td>\n",
       "      <td>CJ2우B</td>\n",
       "      <td>KOSPI</td>\n",
       "      <td>주권</td>\n",
       "      <td>신형우선주</td>\n",
       "      <td>1999-01-29</td>\n",
       "      <td>2009-03-21</td>\n",
       "      <td></td>\n",
       "      <td>NaT</td>\n",
       "      <td>NaT</td>\n",
       "      <td>서비스업</td>\n",
       "      <td>5000.0</td>\n",
       "      <td>1019041.0</td>\n",
       "      <td></td>\n",
       "      <td></td>\n",
       "    </tr>\n",
       "    <tr>\n",
       "      <th>7</th>\n",
       "      <td>001049</td>\n",
       "      <td>CJ3우B</td>\n",
       "      <td>KOSPI</td>\n",
       "      <td>주권</td>\n",
       "      <td>신형우선주</td>\n",
       "      <td>2000-01-28</td>\n",
       "      <td>2010-01-13</td>\n",
       "      <td></td>\n",
       "      <td>NaT</td>\n",
       "      <td>NaT</td>\n",
       "      <td>서비스업</td>\n",
       "      <td>5000.0</td>\n",
       "      <td>533173.0</td>\n",
       "      <td></td>\n",
       "      <td></td>\n",
       "    </tr>\n",
       "    <tr>\n",
       "      <th>8</th>\n",
       "      <td>097957</td>\n",
       "      <td>CJ제일제당 2우B</td>\n",
       "      <td>KOSPI</td>\n",
       "      <td>주권</td>\n",
       "      <td>신형우선주</td>\n",
       "      <td>2007-09-28</td>\n",
       "      <td>2009-03-21</td>\n",
       "      <td></td>\n",
       "      <td>NaT</td>\n",
       "      <td>NaT</td>\n",
       "      <td>음식료품</td>\n",
       "      <td>5000.0</td>\n",
       "      <td>598485.0</td>\n",
       "      <td></td>\n",
       "      <td></td>\n",
       "    </tr>\n",
       "    <tr>\n",
       "      <th>9</th>\n",
       "      <td>097959</td>\n",
       "      <td>CJ제일제당 3우B</td>\n",
       "      <td>KOSPI</td>\n",
       "      <td>주권</td>\n",
       "      <td>신형우선주</td>\n",
       "      <td>2007-09-28</td>\n",
       "      <td>2010-01-13</td>\n",
       "      <td></td>\n",
       "      <td>NaT</td>\n",
       "      <td>NaT</td>\n",
       "      <td>음식료품</td>\n",
       "      <td>5000.0</td>\n",
       "      <td>313133.0</td>\n",
       "      <td></td>\n",
       "      <td></td>\n",
       "    </tr>\n",
       "  </tbody>\n",
       "</table>\n",
       "</div>"
      ],
      "text/plain": [
       "     Symbol         Name  Market SecuGroup   Kind ListingDate DelistingDate  \\\n",
       "0  06031012         3S R  KOSDAQ   신주인수권증서    보통주  2012-05-14    2012-05-21   \n",
       "1  00684014      AK홀딩스8R   KOSPI   신주인수권증서    보통주  2014-07-28    2014-08-04   \n",
       "2  13893015   BNK금융지주 8R   KOSPI   신주인수권증서    보통주  2015-12-24    2016-01-05   \n",
       "3  13893014     BS금융지주5R   KOSPI   신주인수권증서    보통주  2014-06-18    2014-06-25   \n",
       "4  03204017  C&S자산관리 34R  KOSDAQ   신주인수권증서    보통주  2017-02-02    2017-02-09   \n",
       "5  0791601A    CJ CGV 5R   KOSPI   신주인수권증서    보통주  2020-07-03    2020-07-10   \n",
       "6    001047        CJ2우B   KOSPI        주권  신형우선주  1999-01-29    2009-03-21   \n",
       "7    001049        CJ3우B   KOSPI        주권  신형우선주  2000-01-28    2010-01-13   \n",
       "8    097957   CJ제일제당 2우B   KOSPI        주권  신형우선주  2007-09-28    2009-03-21   \n",
       "9    097959   CJ제일제당 3우B   KOSPI        주권  신형우선주  2007-09-28    2010-01-13   \n",
       "\n",
       "  Reason ArrantEnforceDate ArrantEndDate Industry  ParValue  ListingShares  \\\n",
       "0                      NaT           NaT                0.0      1194422.0   \n",
       "1                      NaT           NaT                0.0      1278299.0   \n",
       "2                      NaT           NaT                0.0     55969410.0   \n",
       "3                      NaT           NaT                0.0     32791220.0   \n",
       "4                      NaT           NaT                0.0      3995063.0   \n",
       "5                      NaT           NaT                0.0     11123742.0   \n",
       "6                      NaT           NaT     서비스업    5000.0      1019041.0   \n",
       "7                      NaT           NaT     서비스업    5000.0       533173.0   \n",
       "8                      NaT           NaT     음식료품    5000.0       598485.0   \n",
       "9                      NaT           NaT     음식료품    5000.0       313133.0   \n",
       "\n",
       "  ToSymbol ToName  \n",
       "0                  \n",
       "1                  \n",
       "2                  \n",
       "3                  \n",
       "4                  \n",
       "5                  \n",
       "6                  \n",
       "7                  \n",
       "8                  \n",
       "9                  "
      ]
     },
     "execution_count": 12,
     "metadata": {},
     "output_type": "execute_result"
    }
   ],
   "source": [
    "delisting_data.head(10)"
   ]
  },
  {
   "cell_type": "markdown",
   "metadata": {},
   "source": [
    "데이터 구조를 확인하고 어떤 데이터가 필요한지 생각해본다.\n",
    "+ KOSPI 종목 데이터\n",
    "+ 우선주 제외 \n",
    "+ ETF 제외 \n",
    "+ 기타 하나로스펙 5호같은 회사들 제외 "
   ]
  },
  {
   "cell_type": "markdown",
   "metadata": {},
   "source": [
    "#### SecuGroup을 확인"
   ]
  },
  {
   "cell_type": "code",
   "execution_count": 13,
   "metadata": {
    "scrolled": true
   },
   "outputs": [
    {
     "data": {
      "text/plain": [
       "array(['신주인수권증서', '주권', '신주인수권증권', '수익증권', '투자회사', '선박투자회사', '외국주권',\n",
       "       '부동산투자회사', '주식예탁증권'], dtype=object)"
      ]
     },
     "execution_count": 13,
     "metadata": {},
     "output_type": "execute_result"
    }
   ],
   "source": [
    "delisting_data.SecuGroup.unique()"
   ]
  },
  {
   "cell_type": "markdown",
   "metadata": {},
   "source": [
    "데이터중 투자회사 데이터가 뭔지 확인 -> 나머지도 투자회사에서 수익증권 이렇게 코드 바꿔가면서 어떤 데이터 인지 확인 "
   ]
  },
  {
   "cell_type": "code",
   "execution_count": 14,
   "metadata": {
    "scrolled": false
   },
   "outputs": [
    {
     "data": {
      "text/html": [
       "<div>\n",
       "<style scoped>\n",
       "    .dataframe tbody tr th:only-of-type {\n",
       "        vertical-align: middle;\n",
       "    }\n",
       "\n",
       "    .dataframe tbody tr th {\n",
       "        vertical-align: top;\n",
       "    }\n",
       "\n",
       "    .dataframe thead th {\n",
       "        text-align: right;\n",
       "    }\n",
       "</style>\n",
       "<table border=\"1\" class=\"dataframe\">\n",
       "  <thead>\n",
       "    <tr style=\"text-align: right;\">\n",
       "      <th></th>\n",
       "      <th>Symbol</th>\n",
       "      <th>Name</th>\n",
       "      <th>Market</th>\n",
       "      <th>SecuGroup</th>\n",
       "      <th>Kind</th>\n",
       "      <th>ListingDate</th>\n",
       "      <th>DelistingDate</th>\n",
       "      <th>Reason</th>\n",
       "      <th>ArrantEnforceDate</th>\n",
       "      <th>ArrantEndDate</th>\n",
       "      <th>Industry</th>\n",
       "      <th>ParValue</th>\n",
       "      <th>ListingShares</th>\n",
       "      <th>ToSymbol</th>\n",
       "      <th>ToName</th>\n",
       "    </tr>\n",
       "  </thead>\n",
       "  <tbody>\n",
       "    <tr>\n",
       "      <th>664</th>\n",
       "      <td>099340</td>\n",
       "      <td>하나니켈1호</td>\n",
       "      <td>KOSPI</td>\n",
       "      <td>투자회사</td>\n",
       "      <td>보통주</td>\n",
       "      <td>2008-02-01</td>\n",
       "      <td>2020-07-01</td>\n",
       "      <td>존속기간 만료</td>\n",
       "      <td>NaT</td>\n",
       "      <td>NaT</td>\n",
       "      <td>기타금융</td>\n",
       "      <td>NaN</td>\n",
       "      <td>22756200.0</td>\n",
       "      <td></td>\n",
       "      <td></td>\n",
       "    </tr>\n",
       "    <tr>\n",
       "      <th>665</th>\n",
       "      <td>099350</td>\n",
       "      <td>하나니켈2호</td>\n",
       "      <td>KOSPI</td>\n",
       "      <td>투자회사</td>\n",
       "      <td>보통주</td>\n",
       "      <td>2008-02-01</td>\n",
       "      <td>2020-07-01</td>\n",
       "      <td>존속기간 만료</td>\n",
       "      <td>NaT</td>\n",
       "      <td>NaT</td>\n",
       "      <td>기타금융</td>\n",
       "      <td>NaN</td>\n",
       "      <td>3284000.0</td>\n",
       "      <td></td>\n",
       "      <td></td>\n",
       "    </tr>\n",
       "    <tr>\n",
       "      <th>1206</th>\n",
       "      <td>098150</td>\n",
       "      <td>한국아태특별</td>\n",
       "      <td>KOSPI</td>\n",
       "      <td>투자회사</td>\n",
       "      <td>보통주</td>\n",
       "      <td>2007-09-05</td>\n",
       "      <td>2012-04-23</td>\n",
       "      <td>해산 사유 발생</td>\n",
       "      <td>NaT</td>\n",
       "      <td>NaT</td>\n",
       "      <td>기타금융</td>\n",
       "      <td>NaN</td>\n",
       "      <td>7328373.0</td>\n",
       "      <td></td>\n",
       "      <td></td>\n",
       "    </tr>\n",
       "    <tr>\n",
       "      <th>1228</th>\n",
       "      <td>093820</td>\n",
       "      <td>한국유전15-1</td>\n",
       "      <td>KOSPI</td>\n",
       "      <td>투자회사</td>\n",
       "      <td>보통주</td>\n",
       "      <td>2007-01-02</td>\n",
       "      <td>2012-02-01</td>\n",
       "      <td>해산 사유 발생</td>\n",
       "      <td>NaT</td>\n",
       "      <td>NaT</td>\n",
       "      <td>기타금융</td>\n",
       "      <td>NaN</td>\n",
       "      <td>40820000.0</td>\n",
       "      <td></td>\n",
       "      <td></td>\n",
       "    </tr>\n",
       "    <tr>\n",
       "      <th>1244</th>\n",
       "      <td>094520</td>\n",
       "      <td>맵스베트남1</td>\n",
       "      <td>KOSPI</td>\n",
       "      <td>투자회사</td>\n",
       "      <td>보통주</td>\n",
       "      <td>2007-02-01</td>\n",
       "      <td>2011-11-24</td>\n",
       "      <td>신청에 의한 상장폐지</td>\n",
       "      <td>NaT</td>\n",
       "      <td>NaT</td>\n",
       "      <td>기타금융</td>\n",
       "      <td>NaN</td>\n",
       "      <td>24360821.0</td>\n",
       "      <td></td>\n",
       "      <td></td>\n",
       "    </tr>\n",
       "  </tbody>\n",
       "</table>\n",
       "</div>"
      ],
      "text/plain": [
       "      Symbol      Name Market SecuGroup Kind ListingDate DelistingDate  \\\n",
       "664   099340    하나니켈1호  KOSPI      투자회사  보통주  2008-02-01    2020-07-01   \n",
       "665   099350    하나니켈2호  KOSPI      투자회사  보통주  2008-02-01    2020-07-01   \n",
       "1206  098150    한국아태특별  KOSPI      투자회사  보통주  2007-09-05    2012-04-23   \n",
       "1228  093820  한국유전15-1  KOSPI      투자회사  보통주  2007-01-02    2012-02-01   \n",
       "1244  094520    맵스베트남1  KOSPI      투자회사  보통주  2007-02-01    2011-11-24   \n",
       "\n",
       "           Reason ArrantEnforceDate ArrantEndDate Industry  ParValue  \\\n",
       "664       존속기간 만료               NaT           NaT     기타금융       NaN   \n",
       "665       존속기간 만료               NaT           NaT     기타금융       NaN   \n",
       "1206     해산 사유 발생               NaT           NaT     기타금융       NaN   \n",
       "1228     해산 사유 발생               NaT           NaT     기타금융       NaN   \n",
       "1244  신청에 의한 상장폐지               NaT           NaT     기타금융       NaN   \n",
       "\n",
       "      ListingShares ToSymbol ToName  \n",
       "664      22756200.0                  \n",
       "665       3284000.0                  \n",
       "1206      7328373.0                  \n",
       "1228     40820000.0                  \n",
       "1244     24360821.0                  "
      ]
     },
     "execution_count": 14,
     "metadata": {},
     "output_type": "execute_result"
    }
   ],
   "source": [
    "delisting_data[delisting_data.SecuGroup == '투자회사'].head(5)"
   ]
  },
  {
   "cell_type": "code",
   "execution_count": 15,
   "metadata": {},
   "outputs": [
    {
     "data": {
      "text/html": [
       "<div>\n",
       "<style scoped>\n",
       "    .dataframe tbody tr th:only-of-type {\n",
       "        vertical-align: middle;\n",
       "    }\n",
       "\n",
       "    .dataframe tbody tr th {\n",
       "        vertical-align: top;\n",
       "    }\n",
       "\n",
       "    .dataframe thead th {\n",
       "        text-align: right;\n",
       "    }\n",
       "</style>\n",
       "<table border=\"1\" class=\"dataframe\">\n",
       "  <thead>\n",
       "    <tr style=\"text-align: right;\">\n",
       "      <th></th>\n",
       "      <th>Symbol</th>\n",
       "      <th>Name</th>\n",
       "      <th>Market</th>\n",
       "      <th>SecuGroup</th>\n",
       "      <th>Kind</th>\n",
       "      <th>ListingDate</th>\n",
       "      <th>DelistingDate</th>\n",
       "      <th>Reason</th>\n",
       "      <th>ArrantEnforceDate</th>\n",
       "      <th>ArrantEndDate</th>\n",
       "      <th>Industry</th>\n",
       "      <th>ParValue</th>\n",
       "      <th>ListingShares</th>\n",
       "      <th>ToSymbol</th>\n",
       "      <th>ToName</th>\n",
       "    </tr>\n",
       "  </thead>\n",
       "  <tbody>\n",
       "    <tr>\n",
       "      <th>3234</th>\n",
       "      <td>034370</td>\n",
       "      <td>럭키소재</td>\n",
       "      <td>KOSPI</td>\n",
       "      <td>주권</td>\n",
       "      <td></td>\n",
       "      <td>1979-06-23</td>\n",
       "      <td>1991-11-11</td>\n",
       "      <td>해산 사유 발생</td>\n",
       "      <td>NaT</td>\n",
       "      <td>NaT</td>\n",
       "      <td></td>\n",
       "      <td>NaN</td>\n",
       "      <td>NaN</td>\n",
       "      <td></td>\n",
       "      <td></td>\n",
       "    </tr>\n",
       "    <tr>\n",
       "      <th>3235</th>\n",
       "      <td>028460</td>\n",
       "      <td>태평양건설</td>\n",
       "      <td>KOSPI</td>\n",
       "      <td>주권</td>\n",
       "      <td></td>\n",
       "      <td>1977-06-09</td>\n",
       "      <td>1991-10-05</td>\n",
       "      <td>영업활동정지 6월 계속</td>\n",
       "      <td>1991-08-28</td>\n",
       "      <td>1991-10-04</td>\n",
       "      <td></td>\n",
       "      <td>NaN</td>\n",
       "      <td>NaN</td>\n",
       "      <td></td>\n",
       "      <td></td>\n",
       "    </tr>\n",
       "    <tr>\n",
       "      <th>3236</th>\n",
       "      <td>028450</td>\n",
       "      <td>금성투자금융</td>\n",
       "      <td>KOSPI</td>\n",
       "      <td>주권</td>\n",
       "      <td></td>\n",
       "      <td>1986-08-29</td>\n",
       "      <td>1991-09-02</td>\n",
       "      <td>해산 사유 발생</td>\n",
       "      <td>NaT</td>\n",
       "      <td>NaT</td>\n",
       "      <td></td>\n",
       "      <td>NaN</td>\n",
       "      <td>NaN</td>\n",
       "      <td></td>\n",
       "      <td></td>\n",
       "    </tr>\n",
       "    <tr>\n",
       "      <th>3237</th>\n",
       "      <td>028440</td>\n",
       "      <td>삼화</td>\n",
       "      <td>KOSPI</td>\n",
       "      <td>주권</td>\n",
       "      <td></td>\n",
       "      <td>1974-06-12</td>\n",
       "      <td>1991-07-12</td>\n",
       "      <td>감사의견 의견거절</td>\n",
       "      <td>1991-06-05</td>\n",
       "      <td>1991-07-11</td>\n",
       "      <td></td>\n",
       "      <td>NaN</td>\n",
       "      <td>NaN</td>\n",
       "      <td></td>\n",
       "      <td></td>\n",
       "    </tr>\n",
       "    <tr>\n",
       "      <th>3238</th>\n",
       "      <td>029260</td>\n",
       "      <td>금성전기</td>\n",
       "      <td>KOSPI</td>\n",
       "      <td>주권</td>\n",
       "      <td></td>\n",
       "      <td>1976-06-29</td>\n",
       "      <td>1991-06-13</td>\n",
       "      <td>해산 사유 발생</td>\n",
       "      <td>NaT</td>\n",
       "      <td>NaT</td>\n",
       "      <td></td>\n",
       "      <td>NaN</td>\n",
       "      <td>NaN</td>\n",
       "      <td></td>\n",
       "      <td></td>\n",
       "    </tr>\n",
       "  </tbody>\n",
       "</table>\n",
       "</div>"
      ],
      "text/plain": [
       "      Symbol    Name Market SecuGroup Kind ListingDate DelistingDate  \\\n",
       "3234  034370    럭키소재  KOSPI        주권       1979-06-23    1991-11-11   \n",
       "3235  028460   태평양건설  KOSPI        주권       1977-06-09    1991-10-05   \n",
       "3236  028450  금성투자금융  KOSPI        주권       1986-08-29    1991-09-02   \n",
       "3237  028440      삼화  KOSPI        주권       1974-06-12    1991-07-12   \n",
       "3238  029260    금성전기  KOSPI        주권       1976-06-29    1991-06-13   \n",
       "\n",
       "            Reason ArrantEnforceDate ArrantEndDate Industry  ParValue  \\\n",
       "3234      해산 사유 발생               NaT           NaT                NaN   \n",
       "3235  영업활동정지 6월 계속        1991-08-28    1991-10-04                NaN   \n",
       "3236      해산 사유 발생               NaT           NaT                NaN   \n",
       "3237     감사의견 의견거절        1991-06-05    1991-07-11                NaN   \n",
       "3238      해산 사유 발생               NaT           NaT                NaN   \n",
       "\n",
       "      ListingShares ToSymbol ToName  \n",
       "3234            NaN                  \n",
       "3235            NaN                  \n",
       "3236            NaN                  \n",
       "3237            NaN                  \n",
       "3238            NaN                  "
      ]
     },
     "execution_count": 15,
     "metadata": {},
     "output_type": "execute_result"
    }
   ],
   "source": [
    "delisting_data[delisting_data.SecuGroup == '주권'].tail(5)"
   ]
  },
  {
   "cell_type": "markdown",
   "metadata": {},
   "source": [
    "### 우리가 분석하는데 필요한 데이터 생각\n",
    "1. 신주인수권증서\n",
    "2. 주권\n",
    "3. 신주인수권증권\n",
    "4. 수익증권\n",
    "5. 투자회사\n",
    "6. 선박투자회사\n",
    "7. 외국주권\n",
    "8. 부동산투자회사\n",
    "9. 주식예탁증권 \n",
    "\n",
    "중에서 \n",
    "\n",
    "\n",
    "2. 주권 인것을 알 수 있다."
   ]
  },
  {
   "cell_type": "code",
   "execution_count": 16,
   "metadata": {},
   "outputs": [],
   "source": [
    "## KOSPI 데이터와 주권 데이터를 가져오기\n",
    "delisting_data = delisting_data[(delisting_data.Market == 'KOSPI') & (delisting_data.SecuGroup == '주권')]"
   ]
  },
  {
   "cell_type": "code",
   "execution_count": 17,
   "metadata": {},
   "outputs": [],
   "source": [
    "# 최근 KOSPI에 상장되어 있는 회사 이름 가져오기\n",
    "kospi = fdr.StockListing('Kospi')\n",
    "kospi_name = pd.Index(kospi['Name'])"
   ]
  },
  {
   "cell_type": "code",
   "execution_count": 18,
   "metadata": {},
   "outputs": [],
   "source": [
    "# 상장폐지된 회사 데이터의 회사이름 데이터 가져오기\n",
    "delisting_name = pd.Index(delisting_data.Name)"
   ]
  },
  {
   "cell_type": "code",
   "execution_count": 19,
   "metadata": {},
   "outputs": [],
   "source": [
    "# 같은 이름인데 최근 KOSPI 회사 이름이랑 상장폐지된 데이터 회사이름이랑 겹치는 데이터가 있다. (아마 재상장 같은 상황)\n",
    "# 최근 상장되어 있는 데이터 이름과 겹치는 이름 제거\n",
    "delisting_name = delisting_name.difference(kospi_name)"
   ]
  },
  {
   "cell_type": "code",
   "execution_count": 20,
   "metadata": {
    "scrolled": true
   },
   "outputs": [
    {
     "data": {
      "text/plain": [
       "Index(['AP우주통신', 'AP우주통신(1우B)', 'BHK', 'C&상선', 'C&우방', 'C&중공업', 'C&중공업우',\n",
       "       'CJ2우B', 'CJ3우B', 'CJ제일제당 2우B',\n",
       "       ...\n",
       "       '화성산업4우', '화성산업우', '화인자산관리', '환영철강', '효성물산', '훈영', '휴닉스', '휴닉스(1우)',\n",
       "       '휴리프', '흥양'],\n",
       "      dtype='object', name='Name', length=650)"
      ]
     },
     "execution_count": 20,
     "metadata": {},
     "output_type": "execute_result"
    }
   ],
   "source": [
    "# 상장폐지가 되었고 최근 상장된 회사들과 이름이 안겹치는 종목들 추출\n",
    "delisting_name"
   ]
  },
  {
   "cell_type": "code",
   "execution_count": 21,
   "metadata": {},
   "outputs": [],
   "source": [
    "delisting_data = delisting_data[delisting_data.Name.isin(delisting_name)]"
   ]
  },
  {
   "cell_type": "code",
   "execution_count": 22,
   "metadata": {
    "scrolled": true
   },
   "outputs": [
    {
     "data": {
      "text/html": [
       "<div>\n",
       "<style scoped>\n",
       "    .dataframe tbody tr th:only-of-type {\n",
       "        vertical-align: middle;\n",
       "    }\n",
       "\n",
       "    .dataframe tbody tr th {\n",
       "        vertical-align: top;\n",
       "    }\n",
       "\n",
       "    .dataframe thead th {\n",
       "        text-align: right;\n",
       "    }\n",
       "</style>\n",
       "<table border=\"1\" class=\"dataframe\">\n",
       "  <thead>\n",
       "    <tr style=\"text-align: right;\">\n",
       "      <th></th>\n",
       "      <th>Symbol</th>\n",
       "      <th>Name</th>\n",
       "      <th>Market</th>\n",
       "      <th>SecuGroup</th>\n",
       "      <th>Kind</th>\n",
       "      <th>ListingDate</th>\n",
       "      <th>DelistingDate</th>\n",
       "      <th>Reason</th>\n",
       "      <th>ArrantEnforceDate</th>\n",
       "      <th>ArrantEndDate</th>\n",
       "      <th>Industry</th>\n",
       "      <th>ParValue</th>\n",
       "      <th>ListingShares</th>\n",
       "      <th>ToSymbol</th>\n",
       "      <th>ToName</th>\n",
       "    </tr>\n",
       "  </thead>\n",
       "  <tbody>\n",
       "    <tr>\n",
       "      <th>6</th>\n",
       "      <td>001047</td>\n",
       "      <td>CJ2우B</td>\n",
       "      <td>KOSPI</td>\n",
       "      <td>주권</td>\n",
       "      <td>신형우선주</td>\n",
       "      <td>1999-01-29</td>\n",
       "      <td>2009-03-21</td>\n",
       "      <td></td>\n",
       "      <td>NaT</td>\n",
       "      <td>NaT</td>\n",
       "      <td>서비스업</td>\n",
       "      <td>5000.0</td>\n",
       "      <td>1019041.0</td>\n",
       "      <td></td>\n",
       "      <td></td>\n",
       "    </tr>\n",
       "    <tr>\n",
       "      <th>7</th>\n",
       "      <td>001049</td>\n",
       "      <td>CJ3우B</td>\n",
       "      <td>KOSPI</td>\n",
       "      <td>주권</td>\n",
       "      <td>신형우선주</td>\n",
       "      <td>2000-01-28</td>\n",
       "      <td>2010-01-13</td>\n",
       "      <td></td>\n",
       "      <td>NaT</td>\n",
       "      <td>NaT</td>\n",
       "      <td>서비스업</td>\n",
       "      <td>5000.0</td>\n",
       "      <td>533173.0</td>\n",
       "      <td></td>\n",
       "      <td></td>\n",
       "    </tr>\n",
       "    <tr>\n",
       "      <th>8</th>\n",
       "      <td>097957</td>\n",
       "      <td>CJ제일제당 2우B</td>\n",
       "      <td>KOSPI</td>\n",
       "      <td>주권</td>\n",
       "      <td>신형우선주</td>\n",
       "      <td>2007-09-28</td>\n",
       "      <td>2009-03-21</td>\n",
       "      <td></td>\n",
       "      <td>NaT</td>\n",
       "      <td>NaT</td>\n",
       "      <td>음식료품</td>\n",
       "      <td>5000.0</td>\n",
       "      <td>598485.0</td>\n",
       "      <td></td>\n",
       "      <td></td>\n",
       "    </tr>\n",
       "    <tr>\n",
       "      <th>9</th>\n",
       "      <td>097959</td>\n",
       "      <td>CJ제일제당 3우B</td>\n",
       "      <td>KOSPI</td>\n",
       "      <td>주권</td>\n",
       "      <td>신형우선주</td>\n",
       "      <td>2007-09-28</td>\n",
       "      <td>2010-01-13</td>\n",
       "      <td></td>\n",
       "      <td>NaT</td>\n",
       "      <td>NaT</td>\n",
       "      <td>음식료품</td>\n",
       "      <td>5000.0</td>\n",
       "      <td>313133.0</td>\n",
       "      <td></td>\n",
       "      <td></td>\n",
       "    </tr>\n",
       "    <tr>\n",
       "      <th>41</th>\n",
       "      <td>002105</td>\n",
       "      <td>경농(1우)</td>\n",
       "      <td>KOSPI</td>\n",
       "      <td>주권</td>\n",
       "      <td>구형우선주</td>\n",
       "      <td>1995-03-21</td>\n",
       "      <td>2005-03-28</td>\n",
       "      <td></td>\n",
       "      <td>NaT</td>\n",
       "      <td>NaT</td>\n",
       "      <td>화학</td>\n",
       "      <td>5000.0</td>\n",
       "      <td>336.0</td>\n",
       "      <td></td>\n",
       "      <td></td>\n",
       "    </tr>\n",
       "    <tr>\n",
       "      <th>...</th>\n",
       "      <td>...</td>\n",
       "      <td>...</td>\n",
       "      <td>...</td>\n",
       "      <td>...</td>\n",
       "      <td>...</td>\n",
       "      <td>...</td>\n",
       "      <td>...</td>\n",
       "      <td>...</td>\n",
       "      <td>...</td>\n",
       "      <td>...</td>\n",
       "      <td>...</td>\n",
       "      <td>...</td>\n",
       "      <td>...</td>\n",
       "      <td>...</td>\n",
       "      <td>...</td>\n",
       "    </tr>\n",
       "    <tr>\n",
       "      <th>3234</th>\n",
       "      <td>034370</td>\n",
       "      <td>럭키소재</td>\n",
       "      <td>KOSPI</td>\n",
       "      <td>주권</td>\n",
       "      <td></td>\n",
       "      <td>1979-06-23</td>\n",
       "      <td>1991-11-11</td>\n",
       "      <td>해산 사유 발생</td>\n",
       "      <td>NaT</td>\n",
       "      <td>NaT</td>\n",
       "      <td></td>\n",
       "      <td>NaN</td>\n",
       "      <td>NaN</td>\n",
       "      <td></td>\n",
       "      <td></td>\n",
       "    </tr>\n",
       "    <tr>\n",
       "      <th>3235</th>\n",
       "      <td>028460</td>\n",
       "      <td>태평양건설</td>\n",
       "      <td>KOSPI</td>\n",
       "      <td>주권</td>\n",
       "      <td></td>\n",
       "      <td>1977-06-09</td>\n",
       "      <td>1991-10-05</td>\n",
       "      <td>영업활동정지 6월 계속</td>\n",
       "      <td>1991-08-28</td>\n",
       "      <td>1991-10-04</td>\n",
       "      <td></td>\n",
       "      <td>NaN</td>\n",
       "      <td>NaN</td>\n",
       "      <td></td>\n",
       "      <td></td>\n",
       "    </tr>\n",
       "    <tr>\n",
       "      <th>3236</th>\n",
       "      <td>028450</td>\n",
       "      <td>금성투자금융</td>\n",
       "      <td>KOSPI</td>\n",
       "      <td>주권</td>\n",
       "      <td></td>\n",
       "      <td>1986-08-29</td>\n",
       "      <td>1991-09-02</td>\n",
       "      <td>해산 사유 발생</td>\n",
       "      <td>NaT</td>\n",
       "      <td>NaT</td>\n",
       "      <td></td>\n",
       "      <td>NaN</td>\n",
       "      <td>NaN</td>\n",
       "      <td></td>\n",
       "      <td></td>\n",
       "    </tr>\n",
       "    <tr>\n",
       "      <th>3237</th>\n",
       "      <td>028440</td>\n",
       "      <td>삼화</td>\n",
       "      <td>KOSPI</td>\n",
       "      <td>주권</td>\n",
       "      <td></td>\n",
       "      <td>1974-06-12</td>\n",
       "      <td>1991-07-12</td>\n",
       "      <td>감사의견 의견거절</td>\n",
       "      <td>1991-06-05</td>\n",
       "      <td>1991-07-11</td>\n",
       "      <td></td>\n",
       "      <td>NaN</td>\n",
       "      <td>NaN</td>\n",
       "      <td></td>\n",
       "      <td></td>\n",
       "    </tr>\n",
       "    <tr>\n",
       "      <th>3238</th>\n",
       "      <td>029260</td>\n",
       "      <td>금성전기</td>\n",
       "      <td>KOSPI</td>\n",
       "      <td>주권</td>\n",
       "      <td></td>\n",
       "      <td>1976-06-29</td>\n",
       "      <td>1991-06-13</td>\n",
       "      <td>해산 사유 발생</td>\n",
       "      <td>NaT</td>\n",
       "      <td>NaT</td>\n",
       "      <td></td>\n",
       "      <td>NaN</td>\n",
       "      <td>NaN</td>\n",
       "      <td></td>\n",
       "      <td></td>\n",
       "    </tr>\n",
       "  </tbody>\n",
       "</table>\n",
       "<p>677 rows × 15 columns</p>\n",
       "</div>"
      ],
      "text/plain": [
       "      Symbol        Name Market SecuGroup   Kind ListingDate DelistingDate  \\\n",
       "6     001047       CJ2우B  KOSPI        주권  신형우선주  1999-01-29    2009-03-21   \n",
       "7     001049       CJ3우B  KOSPI        주권  신형우선주  2000-01-28    2010-01-13   \n",
       "8     097957  CJ제일제당 2우B  KOSPI        주권  신형우선주  2007-09-28    2009-03-21   \n",
       "9     097959  CJ제일제당 3우B  KOSPI        주권  신형우선주  2007-09-28    2010-01-13   \n",
       "41    002105      경농(1우)  KOSPI        주권  구형우선주  1995-03-21    2005-03-28   \n",
       "...      ...         ...    ...       ...    ...         ...           ...   \n",
       "3234  034370        럭키소재  KOSPI        주권         1979-06-23    1991-11-11   \n",
       "3235  028460       태평양건설  KOSPI        주권         1977-06-09    1991-10-05   \n",
       "3236  028450      금성투자금융  KOSPI        주권         1986-08-29    1991-09-02   \n",
       "3237  028440          삼화  KOSPI        주권         1974-06-12    1991-07-12   \n",
       "3238  029260        금성전기  KOSPI        주권         1976-06-29    1991-06-13   \n",
       "\n",
       "            Reason ArrantEnforceDate ArrantEndDate Industry  ParValue  \\\n",
       "6                                NaT           NaT     서비스업    5000.0   \n",
       "7                                NaT           NaT     서비스업    5000.0   \n",
       "8                                NaT           NaT     음식료품    5000.0   \n",
       "9                                NaT           NaT     음식료품    5000.0   \n",
       "41                               NaT           NaT       화학    5000.0   \n",
       "...            ...               ...           ...      ...       ...   \n",
       "3234      해산 사유 발생               NaT           NaT                NaN   \n",
       "3235  영업활동정지 6월 계속        1991-08-28    1991-10-04                NaN   \n",
       "3236      해산 사유 발생               NaT           NaT                NaN   \n",
       "3237     감사의견 의견거절        1991-06-05    1991-07-11                NaN   \n",
       "3238      해산 사유 발생               NaT           NaT                NaN   \n",
       "\n",
       "      ListingShares ToSymbol ToName  \n",
       "6         1019041.0                  \n",
       "7          533173.0                  \n",
       "8          598485.0                  \n",
       "9          313133.0                  \n",
       "41            336.0                  \n",
       "...             ...      ...    ...  \n",
       "3234            NaN                  \n",
       "3235            NaN                  \n",
       "3236            NaN                  \n",
       "3237            NaN                  \n",
       "3238            NaN                  \n",
       "\n",
       "[677 rows x 15 columns]"
      ]
     },
     "execution_count": 22,
     "metadata": {},
     "output_type": "execute_result"
    }
   ],
   "source": [
    "delisting_data"
   ]
  },
  {
   "cell_type": "markdown",
   "metadata": {},
   "source": [
    "Kind에 유니크한 값들을 확인해보면 신형우선주, 구형 우선주, 보통주와 아무것도 없는 ''이 있는것을 알 수 있다."
   ]
  },
  {
   "cell_type": "code",
   "execution_count": 23,
   "metadata": {},
   "outputs": [
    {
     "data": {
      "text/plain": [
       "array(['신형우선주', '구형우선주', '', '보통주'], dtype=object)"
      ]
     },
     "execution_count": 23,
     "metadata": {},
     "output_type": "execute_result"
    }
   ],
   "source": [
    "delisting_data.Kind.unique()"
   ]
  },
  {
   "cell_type": "markdown",
   "metadata": {},
   "source": [
    "#### ' ' 데이터 확인\n",
    "- ' '로 분류해놓은 이유 추측\n",
    "     + 상장은 폐지되었지만 너무 오랜된 데이터들은 ''로 표시되는거 같다.\n",
    "     + 1995년을 기준으로 그전에 상폐는 ' ' 이후 상폐는 Kind에 보통주로 표기 비교는 밑에 있음"
   ]
  },
  {
   "cell_type": "code",
   "execution_count": 24,
   "metadata": {
    "scrolled": true
   },
   "outputs": [
    {
     "data": {
      "text/html": [
       "<div>\n",
       "<style scoped>\n",
       "    .dataframe tbody tr th:only-of-type {\n",
       "        vertical-align: middle;\n",
       "    }\n",
       "\n",
       "    .dataframe tbody tr th {\n",
       "        vertical-align: top;\n",
       "    }\n",
       "\n",
       "    .dataframe thead th {\n",
       "        text-align: right;\n",
       "    }\n",
       "</style>\n",
       "<table border=\"1\" class=\"dataframe\">\n",
       "  <thead>\n",
       "    <tr style=\"text-align: right;\">\n",
       "      <th></th>\n",
       "      <th>Symbol</th>\n",
       "      <th>Name</th>\n",
       "      <th>Market</th>\n",
       "      <th>SecuGroup</th>\n",
       "      <th>Kind</th>\n",
       "      <th>ListingDate</th>\n",
       "      <th>DelistingDate</th>\n",
       "      <th>Reason</th>\n",
       "      <th>ArrantEnforceDate</th>\n",
       "      <th>ArrantEndDate</th>\n",
       "      <th>Industry</th>\n",
       "      <th>ParValue</th>\n",
       "      <th>ListingShares</th>\n",
       "      <th>ToSymbol</th>\n",
       "      <th>ToName</th>\n",
       "    </tr>\n",
       "  </thead>\n",
       "  <tbody>\n",
       "    <tr>\n",
       "      <th>140</th>\n",
       "      <td>016165</td>\n",
       "      <td>라딕스우</td>\n",
       "      <td>KOSPI</td>\n",
       "      <td>주권</td>\n",
       "      <td></td>\n",
       "      <td>1989-06-26</td>\n",
       "      <td>1991-04-27</td>\n",
       "      <td></td>\n",
       "      <td>NaT</td>\n",
       "      <td>NaT</td>\n",
       "      <td></td>\n",
       "      <td>NaN</td>\n",
       "      <td>NaN</td>\n",
       "      <td></td>\n",
       "      <td></td>\n",
       "    </tr>\n",
       "    <tr>\n",
       "      <th>208</th>\n",
       "      <td>014905</td>\n",
       "      <td>삼보컴퓨터우</td>\n",
       "      <td>KOSPI</td>\n",
       "      <td>주권</td>\n",
       "      <td></td>\n",
       "      <td>1989-12-19</td>\n",
       "      <td>1990-09-18</td>\n",
       "      <td></td>\n",
       "      <td>NaT</td>\n",
       "      <td>NaT</td>\n",
       "      <td></td>\n",
       "      <td>NaN</td>\n",
       "      <td>NaN</td>\n",
       "      <td></td>\n",
       "      <td></td>\n",
       "    </tr>\n",
       "    <tr>\n",
       "      <th>229</th>\n",
       "      <td>011965</td>\n",
       "      <td>새한종금우</td>\n",
       "      <td>KOSPI</td>\n",
       "      <td>주권</td>\n",
       "      <td></td>\n",
       "      <td>1989-10-16</td>\n",
       "      <td>1991-11-16</td>\n",
       "      <td></td>\n",
       "      <td>NaT</td>\n",
       "      <td>NaT</td>\n",
       "      <td></td>\n",
       "      <td>NaN</td>\n",
       "      <td>NaN</td>\n",
       "      <td></td>\n",
       "      <td></td>\n",
       "    </tr>\n",
       "    <tr>\n",
       "      <th>562</th>\n",
       "      <td>001757</td>\n",
       "      <td>한양증권2우</td>\n",
       "      <td>KOSPI</td>\n",
       "      <td>주권</td>\n",
       "      <td></td>\n",
       "      <td>1989-10-24</td>\n",
       "      <td>1994-03-30</td>\n",
       "      <td></td>\n",
       "      <td>NaT</td>\n",
       "      <td>NaT</td>\n",
       "      <td></td>\n",
       "      <td>NaN</td>\n",
       "      <td>NaN</td>\n",
       "      <td></td>\n",
       "      <td></td>\n",
       "    </tr>\n",
       "    <tr>\n",
       "      <th>601</th>\n",
       "      <td>002467</td>\n",
       "      <td>화성산업2우</td>\n",
       "      <td>KOSPI</td>\n",
       "      <td>주권</td>\n",
       "      <td></td>\n",
       "      <td>1990-02-06</td>\n",
       "      <td>1993-04-21</td>\n",
       "      <td></td>\n",
       "      <td>NaT</td>\n",
       "      <td>NaT</td>\n",
       "      <td></td>\n",
       "      <td>NaN</td>\n",
       "      <td>NaN</td>\n",
       "      <td></td>\n",
       "      <td></td>\n",
       "    </tr>\n",
       "    <tr>\n",
       "      <th>602</th>\n",
       "      <td>002469</td>\n",
       "      <td>화성산업3우</td>\n",
       "      <td>KOSPI</td>\n",
       "      <td>주권</td>\n",
       "      <td></td>\n",
       "      <td>1991-05-22</td>\n",
       "      <td>1994-04-23</td>\n",
       "      <td></td>\n",
       "      <td>NaT</td>\n",
       "      <td>NaT</td>\n",
       "      <td></td>\n",
       "      <td>NaN</td>\n",
       "      <td>NaN</td>\n",
       "      <td></td>\n",
       "      <td></td>\n",
       "    </tr>\n",
       "    <tr>\n",
       "      <th>603</th>\n",
       "      <td>00246A</td>\n",
       "      <td>화성산업4우</td>\n",
       "      <td>KOSPI</td>\n",
       "      <td>주권</td>\n",
       "      <td></td>\n",
       "      <td>1992-05-25</td>\n",
       "      <td>1995-04-21</td>\n",
       "      <td></td>\n",
       "      <td>NaT</td>\n",
       "      <td>NaT</td>\n",
       "      <td></td>\n",
       "      <td>NaN</td>\n",
       "      <td>NaN</td>\n",
       "      <td></td>\n",
       "      <td></td>\n",
       "    </tr>\n",
       "    <tr>\n",
       "      <th>604</th>\n",
       "      <td>002465</td>\n",
       "      <td>화성산업우</td>\n",
       "      <td>KOSPI</td>\n",
       "      <td>주권</td>\n",
       "      <td></td>\n",
       "      <td>1990-01-22</td>\n",
       "      <td>1992-04-21</td>\n",
       "      <td></td>\n",
       "      <td>NaT</td>\n",
       "      <td>NaT</td>\n",
       "      <td></td>\n",
       "      <td>NaN</td>\n",
       "      <td>NaN</td>\n",
       "      <td></td>\n",
       "      <td></td>\n",
       "    </tr>\n",
       "    <tr>\n",
       "      <th>3199</th>\n",
       "      <td>006270</td>\n",
       "      <td>금성통신</td>\n",
       "      <td>KOSPI</td>\n",
       "      <td>주권</td>\n",
       "      <td></td>\n",
       "      <td>1974-07-31</td>\n",
       "      <td>1995-03-23</td>\n",
       "      <td>해산 사유 발생</td>\n",
       "      <td>NaT</td>\n",
       "      <td>NaT</td>\n",
       "      <td></td>\n",
       "      <td>NaN</td>\n",
       "      <td>NaN</td>\n",
       "      <td></td>\n",
       "      <td></td>\n",
       "    </tr>\n",
       "    <tr>\n",
       "      <th>3200</th>\n",
       "      <td>006275</td>\n",
       "      <td>금성통신우</td>\n",
       "      <td>KOSPI</td>\n",
       "      <td>주권</td>\n",
       "      <td></td>\n",
       "      <td>1988-07-18</td>\n",
       "      <td>1995-03-23</td>\n",
       "      <td>해산 사유 발생</td>\n",
       "      <td>NaT</td>\n",
       "      <td>NaT</td>\n",
       "      <td></td>\n",
       "      <td>NaN</td>\n",
       "      <td>NaN</td>\n",
       "      <td></td>\n",
       "      <td></td>\n",
       "    </tr>\n",
       "    <tr>\n",
       "      <th>3201</th>\n",
       "      <td>001100</td>\n",
       "      <td>동양정밀공업</td>\n",
       "      <td>KOSPI</td>\n",
       "      <td>주권</td>\n",
       "      <td></td>\n",
       "      <td>1973-06-26</td>\n",
       "      <td>1994-12-23</td>\n",
       "      <td>상장폐지유예기간종료</td>\n",
       "      <td>1994-11-18</td>\n",
       "      <td>1994-12-22</td>\n",
       "      <td></td>\n",
       "      <td>NaN</td>\n",
       "      <td>NaN</td>\n",
       "      <td></td>\n",
       "      <td></td>\n",
       "    </tr>\n",
       "    <tr>\n",
       "      <th>3202</th>\n",
       "      <td>001105</td>\n",
       "      <td>동양정밀공업우</td>\n",
       "      <td>KOSPI</td>\n",
       "      <td>주권</td>\n",
       "      <td></td>\n",
       "      <td>1989-12-21</td>\n",
       "      <td>1994-12-23</td>\n",
       "      <td>상장폐지유예기간종료</td>\n",
       "      <td>1994-11-18</td>\n",
       "      <td>1994-12-22</td>\n",
       "      <td></td>\n",
       "      <td>NaN</td>\n",
       "      <td>NaN</td>\n",
       "      <td></td>\n",
       "      <td></td>\n",
       "    </tr>\n",
       "    <tr>\n",
       "      <th>3203</th>\n",
       "      <td>004330</td>\n",
       "      <td>진영산업</td>\n",
       "      <td>KOSPI</td>\n",
       "      <td>주권</td>\n",
       "      <td></td>\n",
       "      <td>1976-12-28</td>\n",
       "      <td>1994-12-23</td>\n",
       "      <td>상장폐지유예기간종료</td>\n",
       "      <td>1994-11-18</td>\n",
       "      <td>1994-12-22</td>\n",
       "      <td></td>\n",
       "      <td>NaN</td>\n",
       "      <td>NaN</td>\n",
       "      <td></td>\n",
       "      <td></td>\n",
       "    </tr>\n",
       "    <tr>\n",
       "      <th>3204</th>\n",
       "      <td>009400</td>\n",
       "      <td>케이와이씨</td>\n",
       "      <td>KOSPI</td>\n",
       "      <td>주권</td>\n",
       "      <td></td>\n",
       "      <td>1988-09-05</td>\n",
       "      <td>1994-12-23</td>\n",
       "      <td>상장폐지유예기간종료</td>\n",
       "      <td>1994-11-18</td>\n",
       "      <td>1994-12-22</td>\n",
       "      <td></td>\n",
       "      <td>NaN</td>\n",
       "      <td>NaN</td>\n",
       "      <td></td>\n",
       "      <td></td>\n",
       "    </tr>\n",
       "    <tr>\n",
       "      <th>3205</th>\n",
       "      <td>015090</td>\n",
       "      <td>대미실업</td>\n",
       "      <td>KOSPI</td>\n",
       "      <td>주권</td>\n",
       "      <td></td>\n",
       "      <td>1989-07-28</td>\n",
       "      <td>1994-10-13</td>\n",
       "      <td>상장폐지유예기간종료</td>\n",
       "      <td>1994-09-03</td>\n",
       "      <td>1994-10-12</td>\n",
       "      <td></td>\n",
       "      <td>NaN</td>\n",
       "      <td>NaN</td>\n",
       "      <td></td>\n",
       "      <td></td>\n",
       "    </tr>\n",
       "    <tr>\n",
       "      <th>3206</th>\n",
       "      <td>003400</td>\n",
       "      <td>삼성신약</td>\n",
       "      <td>KOSPI</td>\n",
       "      <td>주권</td>\n",
       "      <td></td>\n",
       "      <td>1989-05-31</td>\n",
       "      <td>1994-10-13</td>\n",
       "      <td>상장폐지유예기간종료</td>\n",
       "      <td>1994-09-03</td>\n",
       "      <td>1994-10-12</td>\n",
       "      <td></td>\n",
       "      <td>NaN</td>\n",
       "      <td>NaN</td>\n",
       "      <td></td>\n",
       "      <td></td>\n",
       "    </tr>\n",
       "    <tr>\n",
       "      <th>3207</th>\n",
       "      <td>004610</td>\n",
       "      <td>성화</td>\n",
       "      <td>KOSPI</td>\n",
       "      <td>주권</td>\n",
       "      <td></td>\n",
       "      <td>1989-08-25</td>\n",
       "      <td>1994-10-13</td>\n",
       "      <td>상장폐지유예기간종료</td>\n",
       "      <td>1994-09-03</td>\n",
       "      <td>1994-10-12</td>\n",
       "      <td></td>\n",
       "      <td>NaN</td>\n",
       "      <td>NaN</td>\n",
       "      <td></td>\n",
       "      <td></td>\n",
       "    </tr>\n",
       "    <tr>\n",
       "      <th>3208</th>\n",
       "      <td>018690</td>\n",
       "      <td>신정제지</td>\n",
       "      <td>KOSPI</td>\n",
       "      <td>주권</td>\n",
       "      <td></td>\n",
       "      <td>1992-01-23</td>\n",
       "      <td>1994-10-13</td>\n",
       "      <td>상장폐지유예기간종료</td>\n",
       "      <td>1994-09-03</td>\n",
       "      <td>1994-10-12</td>\n",
       "      <td></td>\n",
       "      <td>NaN</td>\n",
       "      <td>NaN</td>\n",
       "      <td></td>\n",
       "      <td></td>\n",
       "    </tr>\n",
       "    <tr>\n",
       "      <th>3209</th>\n",
       "      <td>016260</td>\n",
       "      <td>우단</td>\n",
       "      <td>KOSPI</td>\n",
       "      <td>주권</td>\n",
       "      <td></td>\n",
       "      <td>1989-11-11</td>\n",
       "      <td>1994-10-13</td>\n",
       "      <td>상장폐지유예기간종료</td>\n",
       "      <td>1994-09-03</td>\n",
       "      <td>1994-10-12</td>\n",
       "      <td></td>\n",
       "      <td>NaN</td>\n",
       "      <td>NaN</td>\n",
       "      <td></td>\n",
       "      <td></td>\n",
       "    </tr>\n",
       "    <tr>\n",
       "      <th>3210</th>\n",
       "      <td>012050</td>\n",
       "      <td>우진전기</td>\n",
       "      <td>KOSPI</td>\n",
       "      <td>주권</td>\n",
       "      <td></td>\n",
       "      <td>1989-06-26</td>\n",
       "      <td>1994-10-13</td>\n",
       "      <td>상장폐지유예기간종료</td>\n",
       "      <td>1994-09-03</td>\n",
       "      <td>1994-10-12</td>\n",
       "      <td></td>\n",
       "      <td>NaN</td>\n",
       "      <td>NaN</td>\n",
       "      <td></td>\n",
       "      <td></td>\n",
       "    </tr>\n",
       "    <tr>\n",
       "      <th>3211</th>\n",
       "      <td>016490</td>\n",
       "      <td>청화상공</td>\n",
       "      <td>KOSPI</td>\n",
       "      <td>주권</td>\n",
       "      <td></td>\n",
       "      <td>1989-01-31</td>\n",
       "      <td>1994-10-13</td>\n",
       "      <td>상장폐지유예기간종료</td>\n",
       "      <td>1994-09-03</td>\n",
       "      <td>1994-10-12</td>\n",
       "      <td></td>\n",
       "      <td>NaN</td>\n",
       "      <td>NaN</td>\n",
       "      <td></td>\n",
       "      <td></td>\n",
       "    </tr>\n",
       "    <tr>\n",
       "      <th>3212</th>\n",
       "      <td>004350</td>\n",
       "      <td>한일양행의약품</td>\n",
       "      <td>KOSPI</td>\n",
       "      <td>주권</td>\n",
       "      <td></td>\n",
       "      <td>1989-08-22</td>\n",
       "      <td>1994-10-13</td>\n",
       "      <td>상장폐지유예기간종료</td>\n",
       "      <td>1994-09-03</td>\n",
       "      <td>1994-10-12</td>\n",
       "      <td></td>\n",
       "      <td>NaN</td>\n",
       "      <td>NaN</td>\n",
       "      <td></td>\n",
       "      <td></td>\n",
       "    </tr>\n",
       "    <tr>\n",
       "      <th>3213</th>\n",
       "      <td>028640</td>\n",
       "      <td>풍진</td>\n",
       "      <td>KOSPI</td>\n",
       "      <td>주권</td>\n",
       "      <td></td>\n",
       "      <td>1976-12-28</td>\n",
       "      <td>1994-08-16</td>\n",
       "      <td>해산 사유 발생</td>\n",
       "      <td>NaT</td>\n",
       "      <td>NaT</td>\n",
       "      <td></td>\n",
       "      <td>NaN</td>\n",
       "      <td>NaN</td>\n",
       "      <td></td>\n",
       "      <td></td>\n",
       "    </tr>\n",
       "    <tr>\n",
       "      <th>3214</th>\n",
       "      <td>028630</td>\n",
       "      <td>삼나스포츠</td>\n",
       "      <td>KOSPI</td>\n",
       "      <td>주권</td>\n",
       "      <td></td>\n",
       "      <td>1989-11-15</td>\n",
       "      <td>1994-07-18</td>\n",
       "      <td>보통주 주식분포요건 미충족(최대주주등 주식수 80/100이상) 2년 계속</td>\n",
       "      <td>NaT</td>\n",
       "      <td>NaT</td>\n",
       "      <td></td>\n",
       "      <td>NaN</td>\n",
       "      <td>NaN</td>\n",
       "      <td></td>\n",
       "      <td></td>\n",
       "    </tr>\n",
       "    <tr>\n",
       "      <th>3215</th>\n",
       "      <td>028580</td>\n",
       "      <td>경일화학공업</td>\n",
       "      <td>KOSPI</td>\n",
       "      <td>주권</td>\n",
       "      <td></td>\n",
       "      <td>1988-01-20</td>\n",
       "      <td>1994-06-13</td>\n",
       "      <td>상장폐지유예기간종료</td>\n",
       "      <td>1994-05-06</td>\n",
       "      <td>1994-06-11</td>\n",
       "      <td></td>\n",
       "      <td>NaN</td>\n",
       "      <td>NaN</td>\n",
       "      <td></td>\n",
       "      <td></td>\n",
       "    </tr>\n",
       "    <tr>\n",
       "      <th>3216</th>\n",
       "      <td>028600</td>\n",
       "      <td>백산전자</td>\n",
       "      <td>KOSPI</td>\n",
       "      <td>주권</td>\n",
       "      <td></td>\n",
       "      <td>1988-01-28</td>\n",
       "      <td>1994-06-13</td>\n",
       "      <td>상장폐지유예기간종료</td>\n",
       "      <td>1994-05-06</td>\n",
       "      <td>1994-06-11</td>\n",
       "      <td></td>\n",
       "      <td>NaN</td>\n",
       "      <td>NaN</td>\n",
       "      <td></td>\n",
       "      <td></td>\n",
       "    </tr>\n",
       "    <tr>\n",
       "      <th>3217</th>\n",
       "      <td>028550</td>\n",
       "      <td>서진식품</td>\n",
       "      <td>KOSPI</td>\n",
       "      <td>주권</td>\n",
       "      <td></td>\n",
       "      <td>1989-05-30</td>\n",
       "      <td>1994-06-13</td>\n",
       "      <td>상장폐지유예기간종료</td>\n",
       "      <td>1994-05-06</td>\n",
       "      <td>1994-06-11</td>\n",
       "      <td></td>\n",
       "      <td>NaN</td>\n",
       "      <td>NaN</td>\n",
       "      <td></td>\n",
       "      <td></td>\n",
       "    </tr>\n",
       "    <tr>\n",
       "      <th>3218</th>\n",
       "      <td>028555</td>\n",
       "      <td>서진식품우</td>\n",
       "      <td>KOSPI</td>\n",
       "      <td>주권</td>\n",
       "      <td></td>\n",
       "      <td>1990-05-22</td>\n",
       "      <td>1994-06-13</td>\n",
       "      <td>상장폐지유예기간종료</td>\n",
       "      <td>1994-05-06</td>\n",
       "      <td>1994-06-11</td>\n",
       "      <td></td>\n",
       "      <td>NaN</td>\n",
       "      <td>NaN</td>\n",
       "      <td></td>\n",
       "      <td></td>\n",
       "    </tr>\n",
       "    <tr>\n",
       "      <th>3219</th>\n",
       "      <td>012300</td>\n",
       "      <td>신한인터내쇼날</td>\n",
       "      <td>KOSPI</td>\n",
       "      <td>주권</td>\n",
       "      <td></td>\n",
       "      <td>1989-11-08</td>\n",
       "      <td>1994-06-13</td>\n",
       "      <td>상장폐지유예기간종료</td>\n",
       "      <td>1994-05-06</td>\n",
       "      <td>1994-06-11</td>\n",
       "      <td></td>\n",
       "      <td>NaN</td>\n",
       "      <td>NaN</td>\n",
       "      <td></td>\n",
       "      <td></td>\n",
       "    </tr>\n",
       "    <tr>\n",
       "      <th>3220</th>\n",
       "      <td>028590</td>\n",
       "      <td>양우화학공업</td>\n",
       "      <td>KOSPI</td>\n",
       "      <td>주권</td>\n",
       "      <td></td>\n",
       "      <td>1990-09-10</td>\n",
       "      <td>1994-06-13</td>\n",
       "      <td>상장폐지유예기간종료</td>\n",
       "      <td>1994-05-06</td>\n",
       "      <td>1994-06-11</td>\n",
       "      <td></td>\n",
       "      <td>NaN</td>\n",
       "      <td>NaN</td>\n",
       "      <td></td>\n",
       "      <td></td>\n",
       "    </tr>\n",
       "    <tr>\n",
       "      <th>3221</th>\n",
       "      <td>028570</td>\n",
       "      <td>우생</td>\n",
       "      <td>KOSPI</td>\n",
       "      <td>주권</td>\n",
       "      <td></td>\n",
       "      <td>1990-09-20</td>\n",
       "      <td>1994-06-13</td>\n",
       "      <td>상장폐지유예기간종료</td>\n",
       "      <td>1994-05-06</td>\n",
       "      <td>1994-06-11</td>\n",
       "      <td></td>\n",
       "      <td>NaN</td>\n",
       "      <td>NaN</td>\n",
       "      <td></td>\n",
       "      <td></td>\n",
       "    </tr>\n",
       "    <tr>\n",
       "      <th>3222</th>\n",
       "      <td>028620</td>\n",
       "      <td>인성기연</td>\n",
       "      <td>KOSPI</td>\n",
       "      <td>주권</td>\n",
       "      <td></td>\n",
       "      <td>1989-01-26</td>\n",
       "      <td>1994-06-13</td>\n",
       "      <td>상장폐지유예기간종료</td>\n",
       "      <td>1994-05-06</td>\n",
       "      <td>1994-06-11</td>\n",
       "      <td></td>\n",
       "      <td>NaN</td>\n",
       "      <td>NaN</td>\n",
       "      <td></td>\n",
       "      <td></td>\n",
       "    </tr>\n",
       "    <tr>\n",
       "      <th>3223</th>\n",
       "      <td>028610</td>\n",
       "      <td>중원전자</td>\n",
       "      <td>KOSPI</td>\n",
       "      <td>주권</td>\n",
       "      <td></td>\n",
       "      <td>1988-07-28</td>\n",
       "      <td>1994-06-13</td>\n",
       "      <td>상장폐지유예기간종료</td>\n",
       "      <td>1994-05-06</td>\n",
       "      <td>1994-06-11</td>\n",
       "      <td></td>\n",
       "      <td>NaN</td>\n",
       "      <td>NaN</td>\n",
       "      <td></td>\n",
       "      <td></td>\n",
       "    </tr>\n",
       "    <tr>\n",
       "      <th>3224</th>\n",
       "      <td>028560</td>\n",
       "      <td>케니상사</td>\n",
       "      <td>KOSPI</td>\n",
       "      <td>주권</td>\n",
       "      <td></td>\n",
       "      <td>1991-02-19</td>\n",
       "      <td>1994-06-13</td>\n",
       "      <td>상장폐지유예기간종료</td>\n",
       "      <td>1994-05-06</td>\n",
       "      <td>1994-06-11</td>\n",
       "      <td></td>\n",
       "      <td>NaN</td>\n",
       "      <td>NaN</td>\n",
       "      <td></td>\n",
       "      <td></td>\n",
       "    </tr>\n",
       "    <tr>\n",
       "      <th>3225</th>\n",
       "      <td>028540</td>\n",
       "      <td>승리기계제작소</td>\n",
       "      <td>KOSPI</td>\n",
       "      <td>주권</td>\n",
       "      <td></td>\n",
       "      <td>1991-03-07</td>\n",
       "      <td>1994-04-01</td>\n",
       "      <td>해산 사유 발생</td>\n",
       "      <td>NaT</td>\n",
       "      <td>NaT</td>\n",
       "      <td></td>\n",
       "      <td>NaN</td>\n",
       "      <td>NaN</td>\n",
       "      <td></td>\n",
       "      <td></td>\n",
       "    </tr>\n",
       "    <tr>\n",
       "      <th>3226</th>\n",
       "      <td>028520</td>\n",
       "      <td>영원통신</td>\n",
       "      <td>KOSPI</td>\n",
       "      <td>주권</td>\n",
       "      <td></td>\n",
       "      <td>1991-02-09</td>\n",
       "      <td>1994-03-31</td>\n",
       "      <td>회사정리절차 폐지 결정</td>\n",
       "      <td>1994-02-23</td>\n",
       "      <td>1994-03-30</td>\n",
       "      <td></td>\n",
       "      <td>NaN</td>\n",
       "      <td>NaN</td>\n",
       "      <td></td>\n",
       "      <td></td>\n",
       "    </tr>\n",
       "    <tr>\n",
       "      <th>3227</th>\n",
       "      <td>028530</td>\n",
       "      <td>영태전자공업</td>\n",
       "      <td>KOSPI</td>\n",
       "      <td>주권</td>\n",
       "      <td></td>\n",
       "      <td>1988-06-18</td>\n",
       "      <td>1994-03-31</td>\n",
       "      <td>은행거래정지</td>\n",
       "      <td>1994-02-23</td>\n",
       "      <td>1994-03-30</td>\n",
       "      <td></td>\n",
       "      <td>NaN</td>\n",
       "      <td>NaN</td>\n",
       "      <td></td>\n",
       "      <td></td>\n",
       "    </tr>\n",
       "    <tr>\n",
       "      <th>3228</th>\n",
       "      <td>028535</td>\n",
       "      <td>영태전자공업우</td>\n",
       "      <td>KOSPI</td>\n",
       "      <td>주권</td>\n",
       "      <td></td>\n",
       "      <td>1989-10-31</td>\n",
       "      <td>1994-03-31</td>\n",
       "      <td>은행거래정지</td>\n",
       "      <td>1994-02-23</td>\n",
       "      <td>1994-03-30</td>\n",
       "      <td></td>\n",
       "      <td>NaN</td>\n",
       "      <td>NaN</td>\n",
       "      <td></td>\n",
       "      <td></td>\n",
       "    </tr>\n",
       "    <tr>\n",
       "      <th>3229</th>\n",
       "      <td>028510</td>\n",
       "      <td>기온물산</td>\n",
       "      <td>KOSPI</td>\n",
       "      <td>주권</td>\n",
       "      <td></td>\n",
       "      <td>1991-02-09</td>\n",
       "      <td>1993-10-16</td>\n",
       "      <td>상장폐지유예기간종료</td>\n",
       "      <td>1993-09-08</td>\n",
       "      <td>1993-10-15</td>\n",
       "      <td></td>\n",
       "      <td>NaN</td>\n",
       "      <td>NaN</td>\n",
       "      <td></td>\n",
       "      <td></td>\n",
       "    </tr>\n",
       "    <tr>\n",
       "      <th>3230</th>\n",
       "      <td>028500</td>\n",
       "      <td>대도상사</td>\n",
       "      <td>KOSPI</td>\n",
       "      <td>주권</td>\n",
       "      <td></td>\n",
       "      <td>1989-08-22</td>\n",
       "      <td>1993-06-24</td>\n",
       "      <td>상장폐지유예기간종료</td>\n",
       "      <td>1993-05-19</td>\n",
       "      <td>1993-06-23</td>\n",
       "      <td></td>\n",
       "      <td>NaN</td>\n",
       "      <td>NaN</td>\n",
       "      <td></td>\n",
       "      <td></td>\n",
       "    </tr>\n",
       "    <tr>\n",
       "      <th>3231</th>\n",
       "      <td>028490</td>\n",
       "      <td>아남정밀</td>\n",
       "      <td>KOSPI</td>\n",
       "      <td>주권</td>\n",
       "      <td></td>\n",
       "      <td>1989-09-07</td>\n",
       "      <td>1993-05-27</td>\n",
       "      <td>해산 사유 발생</td>\n",
       "      <td>1993-05-15</td>\n",
       "      <td>1993-05-26</td>\n",
       "      <td></td>\n",
       "      <td>NaN</td>\n",
       "      <td>NaN</td>\n",
       "      <td></td>\n",
       "      <td></td>\n",
       "    </tr>\n",
       "    <tr>\n",
       "      <th>3232</th>\n",
       "      <td>028480</td>\n",
       "      <td>반도스포츠</td>\n",
       "      <td>KOSPI</td>\n",
       "      <td>주권</td>\n",
       "      <td></td>\n",
       "      <td>1986-08-23</td>\n",
       "      <td>1992-08-19</td>\n",
       "      <td>해산 사유 발생</td>\n",
       "      <td>NaT</td>\n",
       "      <td>NaT</td>\n",
       "      <td></td>\n",
       "      <td>NaN</td>\n",
       "      <td>NaN</td>\n",
       "      <td></td>\n",
       "      <td></td>\n",
       "    </tr>\n",
       "    <tr>\n",
       "      <th>3233</th>\n",
       "      <td>028470</td>\n",
       "      <td>금성부품</td>\n",
       "      <td>KOSPI</td>\n",
       "      <td>주권</td>\n",
       "      <td></td>\n",
       "      <td>1989-08-05</td>\n",
       "      <td>1992-06-17</td>\n",
       "      <td>해산 사유 발생</td>\n",
       "      <td>NaT</td>\n",
       "      <td>NaT</td>\n",
       "      <td></td>\n",
       "      <td>NaN</td>\n",
       "      <td>NaN</td>\n",
       "      <td></td>\n",
       "      <td></td>\n",
       "    </tr>\n",
       "    <tr>\n",
       "      <th>3234</th>\n",
       "      <td>034370</td>\n",
       "      <td>럭키소재</td>\n",
       "      <td>KOSPI</td>\n",
       "      <td>주권</td>\n",
       "      <td></td>\n",
       "      <td>1979-06-23</td>\n",
       "      <td>1991-11-11</td>\n",
       "      <td>해산 사유 발생</td>\n",
       "      <td>NaT</td>\n",
       "      <td>NaT</td>\n",
       "      <td></td>\n",
       "      <td>NaN</td>\n",
       "      <td>NaN</td>\n",
       "      <td></td>\n",
       "      <td></td>\n",
       "    </tr>\n",
       "    <tr>\n",
       "      <th>3235</th>\n",
       "      <td>028460</td>\n",
       "      <td>태평양건설</td>\n",
       "      <td>KOSPI</td>\n",
       "      <td>주권</td>\n",
       "      <td></td>\n",
       "      <td>1977-06-09</td>\n",
       "      <td>1991-10-05</td>\n",
       "      <td>영업활동정지 6월 계속</td>\n",
       "      <td>1991-08-28</td>\n",
       "      <td>1991-10-04</td>\n",
       "      <td></td>\n",
       "      <td>NaN</td>\n",
       "      <td>NaN</td>\n",
       "      <td></td>\n",
       "      <td></td>\n",
       "    </tr>\n",
       "    <tr>\n",
       "      <th>3236</th>\n",
       "      <td>028450</td>\n",
       "      <td>금성투자금융</td>\n",
       "      <td>KOSPI</td>\n",
       "      <td>주권</td>\n",
       "      <td></td>\n",
       "      <td>1986-08-29</td>\n",
       "      <td>1991-09-02</td>\n",
       "      <td>해산 사유 발생</td>\n",
       "      <td>NaT</td>\n",
       "      <td>NaT</td>\n",
       "      <td></td>\n",
       "      <td>NaN</td>\n",
       "      <td>NaN</td>\n",
       "      <td></td>\n",
       "      <td></td>\n",
       "    </tr>\n",
       "    <tr>\n",
       "      <th>3237</th>\n",
       "      <td>028440</td>\n",
       "      <td>삼화</td>\n",
       "      <td>KOSPI</td>\n",
       "      <td>주권</td>\n",
       "      <td></td>\n",
       "      <td>1974-06-12</td>\n",
       "      <td>1991-07-12</td>\n",
       "      <td>감사의견 의견거절</td>\n",
       "      <td>1991-06-05</td>\n",
       "      <td>1991-07-11</td>\n",
       "      <td></td>\n",
       "      <td>NaN</td>\n",
       "      <td>NaN</td>\n",
       "      <td></td>\n",
       "      <td></td>\n",
       "    </tr>\n",
       "    <tr>\n",
       "      <th>3238</th>\n",
       "      <td>029260</td>\n",
       "      <td>금성전기</td>\n",
       "      <td>KOSPI</td>\n",
       "      <td>주권</td>\n",
       "      <td></td>\n",
       "      <td>1976-06-29</td>\n",
       "      <td>1991-06-13</td>\n",
       "      <td>해산 사유 발생</td>\n",
       "      <td>NaT</td>\n",
       "      <td>NaT</td>\n",
       "      <td></td>\n",
       "      <td>NaN</td>\n",
       "      <td>NaN</td>\n",
       "      <td></td>\n",
       "      <td></td>\n",
       "    </tr>\n",
       "  </tbody>\n",
       "</table>\n",
       "</div>"
      ],
      "text/plain": [
       "      Symbol     Name Market SecuGroup Kind ListingDate DelistingDate  \\\n",
       "140   016165     라딕스우  KOSPI        주권       1989-06-26    1991-04-27   \n",
       "208   014905   삼보컴퓨터우  KOSPI        주권       1989-12-19    1990-09-18   \n",
       "229   011965    새한종금우  KOSPI        주권       1989-10-16    1991-11-16   \n",
       "562   001757   한양증권2우  KOSPI        주권       1989-10-24    1994-03-30   \n",
       "601   002467   화성산업2우  KOSPI        주권       1990-02-06    1993-04-21   \n",
       "602   002469   화성산업3우  KOSPI        주권       1991-05-22    1994-04-23   \n",
       "603   00246A   화성산업4우  KOSPI        주권       1992-05-25    1995-04-21   \n",
       "604   002465    화성산업우  KOSPI        주권       1990-01-22    1992-04-21   \n",
       "3199  006270     금성통신  KOSPI        주권       1974-07-31    1995-03-23   \n",
       "3200  006275    금성통신우  KOSPI        주권       1988-07-18    1995-03-23   \n",
       "3201  001100   동양정밀공업  KOSPI        주권       1973-06-26    1994-12-23   \n",
       "3202  001105  동양정밀공업우  KOSPI        주권       1989-12-21    1994-12-23   \n",
       "3203  004330     진영산업  KOSPI        주권       1976-12-28    1994-12-23   \n",
       "3204  009400    케이와이씨  KOSPI        주권       1988-09-05    1994-12-23   \n",
       "3205  015090     대미실업  KOSPI        주권       1989-07-28    1994-10-13   \n",
       "3206  003400     삼성신약  KOSPI        주권       1989-05-31    1994-10-13   \n",
       "3207  004610       성화  KOSPI        주권       1989-08-25    1994-10-13   \n",
       "3208  018690     신정제지  KOSPI        주권       1992-01-23    1994-10-13   \n",
       "3209  016260       우단  KOSPI        주권       1989-11-11    1994-10-13   \n",
       "3210  012050     우진전기  KOSPI        주권       1989-06-26    1994-10-13   \n",
       "3211  016490     청화상공  KOSPI        주권       1989-01-31    1994-10-13   \n",
       "3212  004350  한일양행의약품  KOSPI        주권       1989-08-22    1994-10-13   \n",
       "3213  028640       풍진  KOSPI        주권       1976-12-28    1994-08-16   \n",
       "3214  028630    삼나스포츠  KOSPI        주권       1989-11-15    1994-07-18   \n",
       "3215  028580   경일화학공업  KOSPI        주권       1988-01-20    1994-06-13   \n",
       "3216  028600     백산전자  KOSPI        주권       1988-01-28    1994-06-13   \n",
       "3217  028550     서진식품  KOSPI        주권       1989-05-30    1994-06-13   \n",
       "3218  028555    서진식품우  KOSPI        주권       1990-05-22    1994-06-13   \n",
       "3219  012300  신한인터내쇼날  KOSPI        주권       1989-11-08    1994-06-13   \n",
       "3220  028590   양우화학공업  KOSPI        주권       1990-09-10    1994-06-13   \n",
       "3221  028570       우생  KOSPI        주권       1990-09-20    1994-06-13   \n",
       "3222  028620     인성기연  KOSPI        주권       1989-01-26    1994-06-13   \n",
       "3223  028610     중원전자  KOSPI        주권       1988-07-28    1994-06-13   \n",
       "3224  028560     케니상사  KOSPI        주권       1991-02-19    1994-06-13   \n",
       "3225  028540  승리기계제작소  KOSPI        주권       1991-03-07    1994-04-01   \n",
       "3226  028520     영원통신  KOSPI        주권       1991-02-09    1994-03-31   \n",
       "3227  028530   영태전자공업  KOSPI        주권       1988-06-18    1994-03-31   \n",
       "3228  028535  영태전자공업우  KOSPI        주권       1989-10-31    1994-03-31   \n",
       "3229  028510     기온물산  KOSPI        주권       1991-02-09    1993-10-16   \n",
       "3230  028500     대도상사  KOSPI        주권       1989-08-22    1993-06-24   \n",
       "3231  028490     아남정밀  KOSPI        주권       1989-09-07    1993-05-27   \n",
       "3232  028480    반도스포츠  KOSPI        주권       1986-08-23    1992-08-19   \n",
       "3233  028470     금성부품  KOSPI        주권       1989-08-05    1992-06-17   \n",
       "3234  034370     럭키소재  KOSPI        주권       1979-06-23    1991-11-11   \n",
       "3235  028460    태평양건설  KOSPI        주권       1977-06-09    1991-10-05   \n",
       "3236  028450   금성투자금융  KOSPI        주권       1986-08-29    1991-09-02   \n",
       "3237  028440       삼화  KOSPI        주권       1974-06-12    1991-07-12   \n",
       "3238  029260     금성전기  KOSPI        주권       1976-06-29    1991-06-13   \n",
       "\n",
       "                                        Reason ArrantEnforceDate  \\\n",
       "140                                                          NaT   \n",
       "208                                                          NaT   \n",
       "229                                                          NaT   \n",
       "562                                                          NaT   \n",
       "601                                                          NaT   \n",
       "602                                                          NaT   \n",
       "603                                                          NaT   \n",
       "604                                                          NaT   \n",
       "3199                                  해산 사유 발생               NaT   \n",
       "3200                                  해산 사유 발생               NaT   \n",
       "3201                                상장폐지유예기간종료        1994-11-18   \n",
       "3202                                상장폐지유예기간종료        1994-11-18   \n",
       "3203                                상장폐지유예기간종료        1994-11-18   \n",
       "3204                                상장폐지유예기간종료        1994-11-18   \n",
       "3205                                상장폐지유예기간종료        1994-09-03   \n",
       "3206                                상장폐지유예기간종료        1994-09-03   \n",
       "3207                                상장폐지유예기간종료        1994-09-03   \n",
       "3208                                상장폐지유예기간종료        1994-09-03   \n",
       "3209                                상장폐지유예기간종료        1994-09-03   \n",
       "3210                                상장폐지유예기간종료        1994-09-03   \n",
       "3211                                상장폐지유예기간종료        1994-09-03   \n",
       "3212                                상장폐지유예기간종료        1994-09-03   \n",
       "3213                                  해산 사유 발생               NaT   \n",
       "3214  보통주 주식분포요건 미충족(최대주주등 주식수 80/100이상) 2년 계속               NaT   \n",
       "3215                                상장폐지유예기간종료        1994-05-06   \n",
       "3216                                상장폐지유예기간종료        1994-05-06   \n",
       "3217                                상장폐지유예기간종료        1994-05-06   \n",
       "3218                                상장폐지유예기간종료        1994-05-06   \n",
       "3219                                상장폐지유예기간종료        1994-05-06   \n",
       "3220                                상장폐지유예기간종료        1994-05-06   \n",
       "3221                                상장폐지유예기간종료        1994-05-06   \n",
       "3222                                상장폐지유예기간종료        1994-05-06   \n",
       "3223                                상장폐지유예기간종료        1994-05-06   \n",
       "3224                                상장폐지유예기간종료        1994-05-06   \n",
       "3225                                  해산 사유 발생               NaT   \n",
       "3226                              회사정리절차 폐지 결정        1994-02-23   \n",
       "3227                                    은행거래정지        1994-02-23   \n",
       "3228                                    은행거래정지        1994-02-23   \n",
       "3229                                상장폐지유예기간종료        1993-09-08   \n",
       "3230                                상장폐지유예기간종료        1993-05-19   \n",
       "3231                                  해산 사유 발생        1993-05-15   \n",
       "3232                                  해산 사유 발생               NaT   \n",
       "3233                                  해산 사유 발생               NaT   \n",
       "3234                                  해산 사유 발생               NaT   \n",
       "3235                              영업활동정지 6월 계속        1991-08-28   \n",
       "3236                                  해산 사유 발생               NaT   \n",
       "3237                                 감사의견 의견거절        1991-06-05   \n",
       "3238                                  해산 사유 발생               NaT   \n",
       "\n",
       "     ArrantEndDate Industry  ParValue  ListingShares ToSymbol ToName  \n",
       "140            NaT                NaN            NaN                  \n",
       "208            NaT                NaN            NaN                  \n",
       "229            NaT                NaN            NaN                  \n",
       "562            NaT                NaN            NaN                  \n",
       "601            NaT                NaN            NaN                  \n",
       "602            NaT                NaN            NaN                  \n",
       "603            NaT                NaN            NaN                  \n",
       "604            NaT                NaN            NaN                  \n",
       "3199           NaT                NaN            NaN                  \n",
       "3200           NaT                NaN            NaN                  \n",
       "3201    1994-12-22                NaN            NaN                  \n",
       "3202    1994-12-22                NaN            NaN                  \n",
       "3203    1994-12-22                NaN            NaN                  \n",
       "3204    1994-12-22                NaN            NaN                  \n",
       "3205    1994-10-12                NaN            NaN                  \n",
       "3206    1994-10-12                NaN            NaN                  \n",
       "3207    1994-10-12                NaN            NaN                  \n",
       "3208    1994-10-12                NaN            NaN                  \n",
       "3209    1994-10-12                NaN            NaN                  \n",
       "3210    1994-10-12                NaN            NaN                  \n",
       "3211    1994-10-12                NaN            NaN                  \n",
       "3212    1994-10-12                NaN            NaN                  \n",
       "3213           NaT                NaN            NaN                  \n",
       "3214           NaT                NaN            NaN                  \n",
       "3215    1994-06-11                NaN            NaN                  \n",
       "3216    1994-06-11                NaN            NaN                  \n",
       "3217    1994-06-11                NaN            NaN                  \n",
       "3218    1994-06-11                NaN            NaN                  \n",
       "3219    1994-06-11                NaN            NaN                  \n",
       "3220    1994-06-11                NaN            NaN                  \n",
       "3221    1994-06-11                NaN            NaN                  \n",
       "3222    1994-06-11                NaN            NaN                  \n",
       "3223    1994-06-11                NaN            NaN                  \n",
       "3224    1994-06-11                NaN            NaN                  \n",
       "3225           NaT                NaN            NaN                  \n",
       "3226    1994-03-30                NaN            NaN                  \n",
       "3227    1994-03-30                NaN            NaN                  \n",
       "3228    1994-03-30                NaN            NaN                  \n",
       "3229    1993-10-15                NaN            NaN                  \n",
       "3230    1993-06-23                NaN            NaN                  \n",
       "3231    1993-05-26                NaN            NaN                  \n",
       "3232           NaT                NaN            NaN                  \n",
       "3233           NaT                NaN            NaN                  \n",
       "3234           NaT                NaN            NaN                  \n",
       "3235    1991-10-04                NaN            NaN                  \n",
       "3236           NaT                NaN            NaN                  \n",
       "3237    1991-07-11                NaN            NaN                  \n",
       "3238           NaT                NaN            NaN                  "
      ]
     },
     "execution_count": 24,
     "metadata": {},
     "output_type": "execute_result"
    }
   ],
   "source": [
    "delisting_data[delisting_data.Kind == '']"
   ]
  },
  {
   "cell_type": "markdown",
   "metadata": {},
   "source": [
    "#### 보통주 데이터 확인\n",
    "- 비교적 최근에 상장폐지된 회사들인것을 알 수 있다."
   ]
  },
  {
   "cell_type": "code",
   "execution_count": 25,
   "metadata": {},
   "outputs": [
    {
     "data": {
      "text/html": [
       "<div>\n",
       "<style scoped>\n",
       "    .dataframe tbody tr th:only-of-type {\n",
       "        vertical-align: middle;\n",
       "    }\n",
       "\n",
       "    .dataframe tbody tr th {\n",
       "        vertical-align: top;\n",
       "    }\n",
       "\n",
       "    .dataframe thead th {\n",
       "        text-align: right;\n",
       "    }\n",
       "</style>\n",
       "<table border=\"1\" class=\"dataframe\">\n",
       "  <thead>\n",
       "    <tr style=\"text-align: right;\">\n",
       "      <th></th>\n",
       "      <th>Symbol</th>\n",
       "      <th>Name</th>\n",
       "      <th>Market</th>\n",
       "      <th>SecuGroup</th>\n",
       "      <th>Kind</th>\n",
       "      <th>ListingDate</th>\n",
       "      <th>DelistingDate</th>\n",
       "      <th>Reason</th>\n",
       "      <th>ArrantEnforceDate</th>\n",
       "      <th>ArrantEndDate</th>\n",
       "      <th>Industry</th>\n",
       "      <th>ParValue</th>\n",
       "      <th>ListingShares</th>\n",
       "      <th>ToSymbol</th>\n",
       "      <th>ToName</th>\n",
       "    </tr>\n",
       "  </thead>\n",
       "  <tbody>\n",
       "    <tr>\n",
       "      <th>623</th>\n",
       "      <td>005190</td>\n",
       "      <td>동성화학</td>\n",
       "      <td>KOSPI</td>\n",
       "      <td>주권</td>\n",
       "      <td>보통주</td>\n",
       "      <td>1988-07-01</td>\n",
       "      <td>2021-04-16</td>\n",
       "      <td>해산 사유 발생</td>\n",
       "      <td>NaT</td>\n",
       "      <td>NaT</td>\n",
       "      <td>화학</td>\n",
       "      <td>1000.0</td>\n",
       "      <td>5335564.0</td>\n",
       "      <td></td>\n",
       "      <td></td>\n",
       "    </tr>\n",
       "    <tr>\n",
       "      <th>644</th>\n",
       "      <td>152330</td>\n",
       "      <td>코리아오토글라스</td>\n",
       "      <td>KOSPI</td>\n",
       "      <td>주권</td>\n",
       "      <td>보통주</td>\n",
       "      <td>2015-12-29</td>\n",
       "      <td>2020-12-18</td>\n",
       "      <td>해산 사유 발생</td>\n",
       "      <td>NaT</td>\n",
       "      <td>NaT</td>\n",
       "      <td>비금속광물</td>\n",
       "      <td>5000.0</td>\n",
       "      <td>20000000.0</td>\n",
       "      <td></td>\n",
       "      <td></td>\n",
       "    </tr>\n",
       "    <tr>\n",
       "      <th>658</th>\n",
       "      <td>004200</td>\n",
       "      <td>고려개발</td>\n",
       "      <td>KOSPI</td>\n",
       "      <td>주권</td>\n",
       "      <td>보통주</td>\n",
       "      <td>1978-10-30</td>\n",
       "      <td>2020-07-21</td>\n",
       "      <td>해산 사유 발생</td>\n",
       "      <td>NaT</td>\n",
       "      <td>NaT</td>\n",
       "      <td>건설업</td>\n",
       "      <td>5000.0</td>\n",
       "      <td>15219444.0</td>\n",
       "      <td></td>\n",
       "      <td></td>\n",
       "    </tr>\n",
       "    <tr>\n",
       "      <th>660</th>\n",
       "      <td>002300</td>\n",
       "      <td>한국제지</td>\n",
       "      <td>KOSPI</td>\n",
       "      <td>주권</td>\n",
       "      <td>보통주</td>\n",
       "      <td>1971-06-23</td>\n",
       "      <td>2020-07-13</td>\n",
       "      <td>해산 사유 발생</td>\n",
       "      <td>NaT</td>\n",
       "      <td>NaT</td>\n",
       "      <td>종이목재</td>\n",
       "      <td>5000.0</td>\n",
       "      <td>5004949.0</td>\n",
       "      <td></td>\n",
       "      <td></td>\n",
       "    </tr>\n",
       "    <tr>\n",
       "      <th>666</th>\n",
       "      <td>005450</td>\n",
       "      <td>신한</td>\n",
       "      <td>KOSPI</td>\n",
       "      <td>주권</td>\n",
       "      <td>보통주</td>\n",
       "      <td>1978-07-28</td>\n",
       "      <td>2020-06-30</td>\n",
       "      <td>감사의견 의견거절 2년 계속</td>\n",
       "      <td>2020-06-19</td>\n",
       "      <td>2020-06-29</td>\n",
       "      <td>건설업</td>\n",
       "      <td>5000.0</td>\n",
       "      <td>7022839.0</td>\n",
       "      <td></td>\n",
       "      <td></td>\n",
       "    </tr>\n",
       "  </tbody>\n",
       "</table>\n",
       "</div>"
      ],
      "text/plain": [
       "     Symbol      Name Market SecuGroup Kind ListingDate DelistingDate  \\\n",
       "623  005190      동성화학  KOSPI        주권  보통주  1988-07-01    2021-04-16   \n",
       "644  152330  코리아오토글라스  KOSPI        주권  보통주  2015-12-29    2020-12-18   \n",
       "658  004200      고려개발  KOSPI        주권  보통주  1978-10-30    2020-07-21   \n",
       "660  002300      한국제지  KOSPI        주권  보통주  1971-06-23    2020-07-13   \n",
       "666  005450        신한  KOSPI        주권  보통주  1978-07-28    2020-06-30   \n",
       "\n",
       "              Reason ArrantEnforceDate ArrantEndDate Industry  ParValue  \\\n",
       "623         해산 사유 발생               NaT           NaT       화학    1000.0   \n",
       "644         해산 사유 발생               NaT           NaT    비금속광물    5000.0   \n",
       "658         해산 사유 발생               NaT           NaT      건설업    5000.0   \n",
       "660         해산 사유 발생               NaT           NaT     종이목재    5000.0   \n",
       "666  감사의견 의견거절 2년 계속        2020-06-19    2020-06-29      건설업    5000.0   \n",
       "\n",
       "     ListingShares ToSymbol ToName  \n",
       "623      5335564.0                  \n",
       "644     20000000.0                  \n",
       "658     15219444.0                  \n",
       "660      5004949.0                  \n",
       "666      7022839.0                  "
      ]
     },
     "execution_count": 25,
     "metadata": {},
     "output_type": "execute_result"
    }
   ],
   "source": [
    "delisting_data[delisting_data.Kind == '보통주'].head(5)"
   ]
  },
  {
   "cell_type": "code",
   "execution_count": 26,
   "metadata": {},
   "outputs": [],
   "source": [
    "# 보통주만 출력\n",
    "delisting_common_stock_data = delisting_data[delisting_data.Kind == '보통주']"
   ]
  },
  {
   "cell_type": "code",
   "execution_count": 27,
   "metadata": {},
   "outputs": [],
   "source": [
    "# Multi Thread Pool을 이용해서 데이터 가져오는 속도 올리기\n",
    "from concurrent import futures\n",
    "import concurrent"
   ]
  },
  {
   "cell_type": "code",
   "execution_count": 28,
   "metadata": {},
   "outputs": [],
   "source": [
    "code_list = delisting_common_stock_data.Symbol.to_list()"
   ]
  },
  {
   "cell_type": "code",
   "execution_count": 29,
   "metadata": {},
   "outputs": [],
   "source": [
    "data_list = []\n",
    "\n",
    "error_stock_list = []\n",
    "def get_delisting_data(code: str):\n",
    "    try:\n",
    "        data = fdr.DataReader(code, exchange='KRX-DELISTING')\n",
    "        data = data.loc[:,['Date', 'Code', 'Close', 'Open', 'High','Lower', 'Volume', 'Amount','MarCap']]\n",
    "        data['Stocks'] = data['MarCap'] / data['Close']\n",
    "        data.rename(columns=str.lower, inplace=True)\n",
    "        data.rename(columns={'code':'ticker', 'lower':'low'}, inplace=True)\n",
    "        data_list.append(data.copy())\n",
    "    except Exception as e:\n",
    "        error_stock_list.append(code)\n",
    "        \n",
    "with futures.ThreadPoolExecutor(50) as executor:\n",
    "    executor.map(get_delisting_data, code_list)"
   ]
  },
  {
   "cell_type": "code",
   "execution_count": 30,
   "metadata": {},
   "outputs": [],
   "source": [
    "delisting_stock_data = pd.concat(data_list)"
   ]
  },
  {
   "cell_type": "code",
   "execution_count": 31,
   "metadata": {},
   "outputs": [
    {
     "data": {
      "text/html": [
       "<div>\n",
       "<style scoped>\n",
       "    .dataframe tbody tr th:only-of-type {\n",
       "        vertical-align: middle;\n",
       "    }\n",
       "\n",
       "    .dataframe tbody tr th {\n",
       "        vertical-align: top;\n",
       "    }\n",
       "\n",
       "    .dataframe thead th {\n",
       "        text-align: right;\n",
       "    }\n",
       "</style>\n",
       "<table border=\"1\" class=\"dataframe\">\n",
       "  <thead>\n",
       "    <tr style=\"text-align: right;\">\n",
       "      <th></th>\n",
       "      <th>date</th>\n",
       "      <th>ticker</th>\n",
       "      <th>close</th>\n",
       "      <th>open</th>\n",
       "      <th>high</th>\n",
       "      <th>low</th>\n",
       "      <th>volume</th>\n",
       "      <th>amount</th>\n",
       "      <th>marcap</th>\n",
       "      <th>stocks</th>\n",
       "    </tr>\n",
       "  </thead>\n",
       "  <tbody>\n",
       "    <tr>\n",
       "      <th>0</th>\n",
       "      <td>2018-10-25</td>\n",
       "      <td>192530</td>\n",
       "      <td>11050</td>\n",
       "      <td>0</td>\n",
       "      <td>0</td>\n",
       "      <td>0</td>\n",
       "      <td>0</td>\n",
       "      <td>0</td>\n",
       "      <td>567042429850</td>\n",
       "      <td>51316057.0</td>\n",
       "    </tr>\n",
       "    <tr>\n",
       "      <th>1</th>\n",
       "      <td>2018-10-24</td>\n",
       "      <td>192530</td>\n",
       "      <td>11050</td>\n",
       "      <td>0</td>\n",
       "      <td>0</td>\n",
       "      <td>0</td>\n",
       "      <td>0</td>\n",
       "      <td>0</td>\n",
       "      <td>567042429850</td>\n",
       "      <td>51316057.0</td>\n",
       "    </tr>\n",
       "    <tr>\n",
       "      <th>2</th>\n",
       "      <td>2018-10-23</td>\n",
       "      <td>192530</td>\n",
       "      <td>11050</td>\n",
       "      <td>0</td>\n",
       "      <td>0</td>\n",
       "      <td>0</td>\n",
       "      <td>0</td>\n",
       "      <td>0</td>\n",
       "      <td>567042429850</td>\n",
       "      <td>51316057.0</td>\n",
       "    </tr>\n",
       "    <tr>\n",
       "      <th>3</th>\n",
       "      <td>2018-10-22</td>\n",
       "      <td>192530</td>\n",
       "      <td>11050</td>\n",
       "      <td>0</td>\n",
       "      <td>0</td>\n",
       "      <td>0</td>\n",
       "      <td>0</td>\n",
       "      <td>0</td>\n",
       "      <td>567042429850</td>\n",
       "      <td>51316057.0</td>\n",
       "    </tr>\n",
       "    <tr>\n",
       "      <th>4</th>\n",
       "      <td>2018-10-19</td>\n",
       "      <td>192530</td>\n",
       "      <td>11050</td>\n",
       "      <td>0</td>\n",
       "      <td>0</td>\n",
       "      <td>0</td>\n",
       "      <td>0</td>\n",
       "      <td>0</td>\n",
       "      <td>567042429850</td>\n",
       "      <td>51316057.0</td>\n",
       "    </tr>\n",
       "    <tr>\n",
       "      <th>...</th>\n",
       "      <td>...</td>\n",
       "      <td>...</td>\n",
       "      <td>...</td>\n",
       "      <td>...</td>\n",
       "      <td>...</td>\n",
       "      <td>...</td>\n",
       "      <td>...</td>\n",
       "      <td>...</td>\n",
       "      <td>...</td>\n",
       "      <td>...</td>\n",
       "    </tr>\n",
       "    <tr>\n",
       "      <th>6376</th>\n",
       "      <td>1995-05-08</td>\n",
       "      <td>005450</td>\n",
       "      <td>9300</td>\n",
       "      <td>9230</td>\n",
       "      <td>9500</td>\n",
       "      <td>9230</td>\n",
       "      <td>35310</td>\n",
       "      <td>329974900</td>\n",
       "      <td>72615906600</td>\n",
       "      <td>7808162.0</td>\n",
       "    </tr>\n",
       "    <tr>\n",
       "      <th>6377</th>\n",
       "      <td>1995-05-06</td>\n",
       "      <td>005450</td>\n",
       "      <td>9330</td>\n",
       "      <td>9500</td>\n",
       "      <td>9550</td>\n",
       "      <td>9300</td>\n",
       "      <td>25340</td>\n",
       "      <td>238137100</td>\n",
       "      <td>72850151460</td>\n",
       "      <td>7808162.0</td>\n",
       "    </tr>\n",
       "    <tr>\n",
       "      <th>6378</th>\n",
       "      <td>1995-05-04</td>\n",
       "      <td>005450</td>\n",
       "      <td>9550</td>\n",
       "      <td>9550</td>\n",
       "      <td>9860</td>\n",
       "      <td>9500</td>\n",
       "      <td>74420</td>\n",
       "      <td>722229600</td>\n",
       "      <td>74567947100</td>\n",
       "      <td>7808162.0</td>\n",
       "    </tr>\n",
       "    <tr>\n",
       "      <th>6379</th>\n",
       "      <td>1995-05-03</td>\n",
       "      <td>005450</td>\n",
       "      <td>9660</td>\n",
       "      <td>9520</td>\n",
       "      <td>9800</td>\n",
       "      <td>9450</td>\n",
       "      <td>167210</td>\n",
       "      <td>1601603400</td>\n",
       "      <td>75426844920</td>\n",
       "      <td>7808162.0</td>\n",
       "    </tr>\n",
       "    <tr>\n",
       "      <th>6380</th>\n",
       "      <td>1995-05-02</td>\n",
       "      <td>005450</td>\n",
       "      <td>9320</td>\n",
       "      <td>8900</td>\n",
       "      <td>9320</td>\n",
       "      <td>8900</td>\n",
       "      <td>41060</td>\n",
       "      <td>375628900</td>\n",
       "      <td>72772069840</td>\n",
       "      <td>7808162.0</td>\n",
       "    </tr>\n",
       "  </tbody>\n",
       "</table>\n",
       "<p>69808 rows × 10 columns</p>\n",
       "</div>"
      ],
      "text/plain": [
       "           date  ticker  close  open  high   low  volume      amount  \\\n",
       "0    2018-10-25  192530  11050     0     0     0       0           0   \n",
       "1    2018-10-24  192530  11050     0     0     0       0           0   \n",
       "2    2018-10-23  192530  11050     0     0     0       0           0   \n",
       "3    2018-10-22  192530  11050     0     0     0       0           0   \n",
       "4    2018-10-19  192530  11050     0     0     0       0           0   \n",
       "...         ...     ...    ...   ...   ...   ...     ...         ...   \n",
       "6376 1995-05-08  005450   9300  9230  9500  9230   35310   329974900   \n",
       "6377 1995-05-06  005450   9330  9500  9550  9300   25340   238137100   \n",
       "6378 1995-05-04  005450   9550  9550  9860  9500   74420   722229600   \n",
       "6379 1995-05-03  005450   9660  9520  9800  9450  167210  1601603400   \n",
       "6380 1995-05-02  005450   9320  8900  9320  8900   41060   375628900   \n",
       "\n",
       "            marcap      stocks  \n",
       "0     567042429850  51316057.0  \n",
       "1     567042429850  51316057.0  \n",
       "2     567042429850  51316057.0  \n",
       "3     567042429850  51316057.0  \n",
       "4     567042429850  51316057.0  \n",
       "...            ...         ...  \n",
       "6376   72615906600   7808162.0  \n",
       "6377   72850151460   7808162.0  \n",
       "6378   74567947100   7808162.0  \n",
       "6379   75426844920   7808162.0  \n",
       "6380   72772069840   7808162.0  \n",
       "\n",
       "[69808 rows x 10 columns]"
      ]
     },
     "execution_count": 31,
     "metadata": {},
     "output_type": "execute_result"
    }
   ],
   "source": [
    "delisting_stock_data"
   ]
  },
  {
   "cell_type": "markdown",
   "metadata": {},
   "source": [
    "### Error나서 데이터 못가져오는 상장폐지 종목들 저장 (추후 다른 Data Provider 선정을 위해)"
   ]
  },
  {
   "cell_type": "code",
   "execution_count": 32,
   "metadata": {},
   "outputs": [],
   "source": [
    "error_data = delisting_data[delisting_data.Symbol.isin(error_stock_list)]"
   ]
  },
  {
   "cell_type": "code",
   "execution_count": 33,
   "metadata": {},
   "outputs": [],
   "source": [
    "error_data.to_csv('delisting_stock_error.csv')"
   ]
  },
  {
   "cell_type": "markdown",
   "metadata": {},
   "source": [
    "## ETF, 우선주 제외한 KOSPI 종목 데이터 가져오기"
   ]
  },
  {
   "cell_type": "code",
   "execution_count": 34,
   "metadata": {},
   "outputs": [
    {
     "data": {
      "text/html": [
       "<div>\n",
       "<style scoped>\n",
       "    .dataframe tbody tr th:only-of-type {\n",
       "        vertical-align: middle;\n",
       "    }\n",
       "\n",
       "    .dataframe tbody tr th {\n",
       "        vertical-align: top;\n",
       "    }\n",
       "\n",
       "    .dataframe thead th {\n",
       "        text-align: right;\n",
       "    }\n",
       "</style>\n",
       "<table border=\"1\" class=\"dataframe\">\n",
       "  <thead>\n",
       "    <tr style=\"text-align: right;\">\n",
       "      <th></th>\n",
       "      <th>Symbol</th>\n",
       "      <th>Market</th>\n",
       "      <th>Name</th>\n",
       "      <th>Sector</th>\n",
       "      <th>Industry</th>\n",
       "      <th>ListingDate</th>\n",
       "      <th>SettleMonth</th>\n",
       "      <th>Representative</th>\n",
       "      <th>HomePage</th>\n",
       "      <th>Region</th>\n",
       "    </tr>\n",
       "  </thead>\n",
       "  <tbody>\n",
       "    <tr>\n",
       "      <th>1</th>\n",
       "      <td>095570</td>\n",
       "      <td>KOSPI</td>\n",
       "      <td>AJ네트웍스</td>\n",
       "      <td>산업용 기계 및 장비 임대업</td>\n",
       "      <td>렌탈(파렛트, OA장비, 건설장비)</td>\n",
       "      <td>2015-08-21</td>\n",
       "      <td>12월</td>\n",
       "      <td>박대현</td>\n",
       "      <td>http://www.ajnet.co.kr</td>\n",
       "      <td>서울특별시</td>\n",
       "    </tr>\n",
       "    <tr>\n",
       "      <th>2</th>\n",
       "      <td>006840</td>\n",
       "      <td>KOSPI</td>\n",
       "      <td>AK홀딩스</td>\n",
       "      <td>기타 금융업</td>\n",
       "      <td>지주사업</td>\n",
       "      <td>1999-08-11</td>\n",
       "      <td>12월</td>\n",
       "      <td>채형석, 이석주(각자 대표이사)</td>\n",
       "      <td>http://www.aekyunggroup.co.kr</td>\n",
       "      <td>서울특별시</td>\n",
       "    </tr>\n",
       "    <tr>\n",
       "      <th>6</th>\n",
       "      <td>152100</td>\n",
       "      <td>KOSPI</td>\n",
       "      <td>ARIRANG 200</td>\n",
       "      <td>NaN</td>\n",
       "      <td>NaN</td>\n",
       "      <td>NaT</td>\n",
       "      <td>NaN</td>\n",
       "      <td>NaN</td>\n",
       "      <td>NaN</td>\n",
       "      <td>NaN</td>\n",
       "    </tr>\n",
       "    <tr>\n",
       "      <th>7</th>\n",
       "      <td>295820</td>\n",
       "      <td>KOSPI</td>\n",
       "      <td>ARIRANG 200동일가중</td>\n",
       "      <td>NaN</td>\n",
       "      <td>NaN</td>\n",
       "      <td>NaT</td>\n",
       "      <td>NaN</td>\n",
       "      <td>NaN</td>\n",
       "      <td>NaN</td>\n",
       "      <td>NaN</td>\n",
       "    </tr>\n",
       "    <tr>\n",
       "      <th>8</th>\n",
       "      <td>253150</td>\n",
       "      <td>KOSPI</td>\n",
       "      <td>ARIRANG 200선물레버리지</td>\n",
       "      <td>NaN</td>\n",
       "      <td>NaN</td>\n",
       "      <td>NaT</td>\n",
       "      <td>NaN</td>\n",
       "      <td>NaN</td>\n",
       "      <td>NaN</td>\n",
       "      <td>NaN</td>\n",
       "    </tr>\n",
       "  </tbody>\n",
       "</table>\n",
       "</div>"
      ],
      "text/plain": [
       "   Symbol Market               Name           Sector             Industry  \\\n",
       "1  095570  KOSPI             AJ네트웍스  산업용 기계 및 장비 임대업  렌탈(파렛트, OA장비, 건설장비)   \n",
       "2  006840  KOSPI              AK홀딩스           기타 금융업                 지주사업   \n",
       "6  152100  KOSPI        ARIRANG 200              NaN                  NaN   \n",
       "7  295820  KOSPI    ARIRANG 200동일가중              NaN                  NaN   \n",
       "8  253150  KOSPI  ARIRANG 200선물레버리지              NaN                  NaN   \n",
       "\n",
       "  ListingDate SettleMonth     Representative                       HomePage  \\\n",
       "1  2015-08-21         12월                박대현         http://www.ajnet.co.kr   \n",
       "2  1999-08-11         12월  채형석, 이석주(각자 대표이사)  http://www.aekyunggroup.co.kr   \n",
       "6         NaT         NaN                NaN                            NaN   \n",
       "7         NaT         NaN                NaN                            NaN   \n",
       "8         NaT         NaN                NaN                            NaN   \n",
       "\n",
       "  Region  \n",
       "1  서울특별시  \n",
       "2  서울특별시  \n",
       "6    NaN  \n",
       "7    NaN  \n",
       "8    NaN  "
      ]
     },
     "execution_count": 34,
     "metadata": {},
     "output_type": "execute_result"
    }
   ],
   "source": [
    "kospi.head(5)"
   ]
  },
  {
   "cell_type": "code",
   "execution_count": 35,
   "metadata": {},
   "outputs": [],
   "source": [
    "kospi.dropna(subset=['Sector'], inplace=True)"
   ]
  },
  {
   "cell_type": "code",
   "execution_count": 36,
   "metadata": {},
   "outputs": [],
   "source": [
    "ticker = kospi.Symbol"
   ]
  },
  {
   "cell_type": "code",
   "execution_count": 37,
   "metadata": {},
   "outputs": [],
   "source": [
    "# 우선주, ETF 제외하고 남은 종목들 추출\n",
    "# 이 테스크는 시간이 오래걸립니다.\n",
    "kospi_data = kospi_data.loc[idx[:, ticker],:]"
   ]
  },
  {
   "cell_type": "code",
   "execution_count": 38,
   "metadata": {},
   "outputs": [],
   "source": [
    "kospi_data = kospi_data.reorder_levels(['date','ticker']).sort_index()"
   ]
  },
  {
   "cell_type": "markdown",
   "metadata": {},
   "source": [
    "## 최근 KOSPI 데이터에  상장폐지 데이터 추가"
   ]
  },
  {
   "cell_type": "code",
   "execution_count": 39,
   "metadata": {},
   "outputs": [],
   "source": [
    "kospi_data.reset_index(inplace=True)"
   ]
  },
  {
   "cell_type": "code",
   "execution_count": 40,
   "metadata": {},
   "outputs": [
    {
     "data": {
      "text/html": [
       "<div>\n",
       "<style scoped>\n",
       "    .dataframe tbody tr th:only-of-type {\n",
       "        vertical-align: middle;\n",
       "    }\n",
       "\n",
       "    .dataframe tbody tr th {\n",
       "        vertical-align: top;\n",
       "    }\n",
       "\n",
       "    .dataframe thead th {\n",
       "        text-align: right;\n",
       "    }\n",
       "</style>\n",
       "<table border=\"1\" class=\"dataframe\">\n",
       "  <thead>\n",
       "    <tr style=\"text-align: right;\">\n",
       "      <th></th>\n",
       "      <th>date</th>\n",
       "      <th>ticker</th>\n",
       "      <th>close</th>\n",
       "      <th>open</th>\n",
       "      <th>high</th>\n",
       "      <th>low</th>\n",
       "      <th>volume</th>\n",
       "      <th>amount</th>\n",
       "      <th>marcap</th>\n",
       "      <th>stocks</th>\n",
       "    </tr>\n",
       "  </thead>\n",
       "  <tbody>\n",
       "    <tr>\n",
       "      <th>0</th>\n",
       "      <td>1995-05-02</td>\n",
       "      <td>000020</td>\n",
       "      <td>29200.0</td>\n",
       "      <td>29300.0</td>\n",
       "      <td>29300.0</td>\n",
       "      <td>29200.0</td>\n",
       "      <td>1500.0</td>\n",
       "      <td>4.390000e+07</td>\n",
       "      <td>7.679600e+10</td>\n",
       "      <td>2630000</td>\n",
       "    </tr>\n",
       "    <tr>\n",
       "      <th>1</th>\n",
       "      <td>1995-05-02</td>\n",
       "      <td>000040</td>\n",
       "      <td>7500.0</td>\n",
       "      <td>7300.0</td>\n",
       "      <td>7500.0</td>\n",
       "      <td>7300.0</td>\n",
       "      <td>7970.0</td>\n",
       "      <td>5.917060e+07</td>\n",
       "      <td>2.482676e+10</td>\n",
       "      <td>3310235</td>\n",
       "    </tr>\n",
       "    <tr>\n",
       "      <th>2</th>\n",
       "      <td>1995-05-02</td>\n",
       "      <td>000050</td>\n",
       "      <td>55100.0</td>\n",
       "      <td>55100.0</td>\n",
       "      <td>55100.0</td>\n",
       "      <td>55100.0</td>\n",
       "      <td>10.0</td>\n",
       "      <td>5.510000e+05</td>\n",
       "      <td>8.485400e+10</td>\n",
       "      <td>1540000</td>\n",
       "    </tr>\n",
       "    <tr>\n",
       "      <th>3</th>\n",
       "      <td>1995-05-02</td>\n",
       "      <td>000060</td>\n",
       "      <td>18900.0</td>\n",
       "      <td>18200.0</td>\n",
       "      <td>18900.0</td>\n",
       "      <td>18100.0</td>\n",
       "      <td>79680.0</td>\n",
       "      <td>1.477424e+09</td>\n",
       "      <td>1.621620e+11</td>\n",
       "      <td>8580000</td>\n",
       "    </tr>\n",
       "    <tr>\n",
       "      <th>4</th>\n",
       "      <td>1995-05-02</td>\n",
       "      <td>000070</td>\n",
       "      <td>31300.0</td>\n",
       "      <td>29800.0</td>\n",
       "      <td>32900.0</td>\n",
       "      <td>29800.0</td>\n",
       "      <td>5950.0</td>\n",
       "      <td>1.871460e+08</td>\n",
       "      <td>2.478960e+11</td>\n",
       "      <td>7920000</td>\n",
       "    </tr>\n",
       "  </tbody>\n",
       "</table>\n",
       "</div>"
      ],
      "text/plain": [
       "        date  ticker    close     open     high      low   volume  \\\n",
       "0 1995-05-02  000020  29200.0  29300.0  29300.0  29200.0   1500.0   \n",
       "1 1995-05-02  000040   7500.0   7300.0   7500.0   7300.0   7970.0   \n",
       "2 1995-05-02  000050  55100.0  55100.0  55100.0  55100.0     10.0   \n",
       "3 1995-05-02  000060  18900.0  18200.0  18900.0  18100.0  79680.0   \n",
       "4 1995-05-02  000070  31300.0  29800.0  32900.0  29800.0   5950.0   \n",
       "\n",
       "         amount        marcap   stocks  \n",
       "0  4.390000e+07  7.679600e+10  2630000  \n",
       "1  5.917060e+07  2.482676e+10  3310235  \n",
       "2  5.510000e+05  8.485400e+10  1540000  \n",
       "3  1.477424e+09  1.621620e+11  8580000  \n",
       "4  1.871460e+08  2.478960e+11  7920000  "
      ]
     },
     "execution_count": 40,
     "metadata": {},
     "output_type": "execute_result"
    }
   ],
   "source": [
    "kospi_data.head(5)"
   ]
  },
  {
   "cell_type": "code",
   "execution_count": 41,
   "metadata": {
    "scrolled": true
   },
   "outputs": [
    {
     "data": {
      "text/html": [
       "<div>\n",
       "<style scoped>\n",
       "    .dataframe tbody tr th:only-of-type {\n",
       "        vertical-align: middle;\n",
       "    }\n",
       "\n",
       "    .dataframe tbody tr th {\n",
       "        vertical-align: top;\n",
       "    }\n",
       "\n",
       "    .dataframe thead th {\n",
       "        text-align: right;\n",
       "    }\n",
       "</style>\n",
       "<table border=\"1\" class=\"dataframe\">\n",
       "  <thead>\n",
       "    <tr style=\"text-align: right;\">\n",
       "      <th></th>\n",
       "      <th>date</th>\n",
       "      <th>ticker</th>\n",
       "      <th>close</th>\n",
       "      <th>open</th>\n",
       "      <th>high</th>\n",
       "      <th>low</th>\n",
       "      <th>volume</th>\n",
       "      <th>amount</th>\n",
       "      <th>marcap</th>\n",
       "      <th>stocks</th>\n",
       "    </tr>\n",
       "  </thead>\n",
       "  <tbody>\n",
       "    <tr>\n",
       "      <th>6376</th>\n",
       "      <td>1995-05-08</td>\n",
       "      <td>005450</td>\n",
       "      <td>9300</td>\n",
       "      <td>9230</td>\n",
       "      <td>9500</td>\n",
       "      <td>9230</td>\n",
       "      <td>35310</td>\n",
       "      <td>329974900</td>\n",
       "      <td>72615906600</td>\n",
       "      <td>7808162.0</td>\n",
       "    </tr>\n",
       "    <tr>\n",
       "      <th>6377</th>\n",
       "      <td>1995-05-06</td>\n",
       "      <td>005450</td>\n",
       "      <td>9330</td>\n",
       "      <td>9500</td>\n",
       "      <td>9550</td>\n",
       "      <td>9300</td>\n",
       "      <td>25340</td>\n",
       "      <td>238137100</td>\n",
       "      <td>72850151460</td>\n",
       "      <td>7808162.0</td>\n",
       "    </tr>\n",
       "    <tr>\n",
       "      <th>6378</th>\n",
       "      <td>1995-05-04</td>\n",
       "      <td>005450</td>\n",
       "      <td>9550</td>\n",
       "      <td>9550</td>\n",
       "      <td>9860</td>\n",
       "      <td>9500</td>\n",
       "      <td>74420</td>\n",
       "      <td>722229600</td>\n",
       "      <td>74567947100</td>\n",
       "      <td>7808162.0</td>\n",
       "    </tr>\n",
       "    <tr>\n",
       "      <th>6379</th>\n",
       "      <td>1995-05-03</td>\n",
       "      <td>005450</td>\n",
       "      <td>9660</td>\n",
       "      <td>9520</td>\n",
       "      <td>9800</td>\n",
       "      <td>9450</td>\n",
       "      <td>167210</td>\n",
       "      <td>1601603400</td>\n",
       "      <td>75426844920</td>\n",
       "      <td>7808162.0</td>\n",
       "    </tr>\n",
       "    <tr>\n",
       "      <th>6380</th>\n",
       "      <td>1995-05-02</td>\n",
       "      <td>005450</td>\n",
       "      <td>9320</td>\n",
       "      <td>8900</td>\n",
       "      <td>9320</td>\n",
       "      <td>8900</td>\n",
       "      <td>41060</td>\n",
       "      <td>375628900</td>\n",
       "      <td>72772069840</td>\n",
       "      <td>7808162.0</td>\n",
       "    </tr>\n",
       "  </tbody>\n",
       "</table>\n",
       "</div>"
      ],
      "text/plain": [
       "           date  ticker  close  open  high   low  volume      amount  \\\n",
       "6376 1995-05-08  005450   9300  9230  9500  9230   35310   329974900   \n",
       "6377 1995-05-06  005450   9330  9500  9550  9300   25340   238137100   \n",
       "6378 1995-05-04  005450   9550  9550  9860  9500   74420   722229600   \n",
       "6379 1995-05-03  005450   9660  9520  9800  9450  167210  1601603400   \n",
       "6380 1995-05-02  005450   9320  8900  9320  8900   41060   375628900   \n",
       "\n",
       "           marcap     stocks  \n",
       "6376  72615906600  7808162.0  \n",
       "6377  72850151460  7808162.0  \n",
       "6378  74567947100  7808162.0  \n",
       "6379  75426844920  7808162.0  \n",
       "6380  72772069840  7808162.0  "
      ]
     },
     "execution_count": 41,
     "metadata": {},
     "output_type": "execute_result"
    }
   ],
   "source": [
    "delisting_stock_data.tail(5)"
   ]
  },
  {
   "cell_type": "code",
   "execution_count": 42,
   "metadata": {},
   "outputs": [],
   "source": [
    "kospi_data = pd.concat([kospi_data, delisting_stock_data])"
   ]
  },
  {
   "cell_type": "code",
   "execution_count": 43,
   "metadata": {},
   "outputs": [],
   "source": [
    "kospi_data = kospi_data.groupby(['date', 'ticker']).last()"
   ]
  },
  {
   "cell_type": "code",
   "execution_count": 44,
   "metadata": {},
   "outputs": [
    {
     "data": {
      "text/html": [
       "<div>\n",
       "<style scoped>\n",
       "    .dataframe tbody tr th:only-of-type {\n",
       "        vertical-align: middle;\n",
       "    }\n",
       "\n",
       "    .dataframe tbody tr th {\n",
       "        vertical-align: top;\n",
       "    }\n",
       "\n",
       "    .dataframe thead th {\n",
       "        text-align: right;\n",
       "    }\n",
       "</style>\n",
       "<table border=\"1\" class=\"dataframe\">\n",
       "  <thead>\n",
       "    <tr style=\"text-align: right;\">\n",
       "      <th></th>\n",
       "      <th></th>\n",
       "      <th>close</th>\n",
       "      <th>open</th>\n",
       "      <th>high</th>\n",
       "      <th>low</th>\n",
       "      <th>volume</th>\n",
       "      <th>amount</th>\n",
       "      <th>marcap</th>\n",
       "      <th>stocks</th>\n",
       "    </tr>\n",
       "    <tr>\n",
       "      <th>date</th>\n",
       "      <th>ticker</th>\n",
       "      <th></th>\n",
       "      <th></th>\n",
       "      <th></th>\n",
       "      <th></th>\n",
       "      <th></th>\n",
       "      <th></th>\n",
       "      <th></th>\n",
       "      <th></th>\n",
       "    </tr>\n",
       "  </thead>\n",
       "  <tbody>\n",
       "    <tr>\n",
       "      <th rowspan=\"5\" valign=\"top\">1995-05-02</th>\n",
       "      <th>000020</th>\n",
       "      <td>29200.0</td>\n",
       "      <td>29300.0</td>\n",
       "      <td>29300.0</td>\n",
       "      <td>29200.0</td>\n",
       "      <td>1500.0</td>\n",
       "      <td>4.390000e+07</td>\n",
       "      <td>7.679600e+10</td>\n",
       "      <td>2630000.0</td>\n",
       "    </tr>\n",
       "    <tr>\n",
       "      <th>000040</th>\n",
       "      <td>7500.0</td>\n",
       "      <td>7300.0</td>\n",
       "      <td>7500.0</td>\n",
       "      <td>7300.0</td>\n",
       "      <td>7970.0</td>\n",
       "      <td>5.917060e+07</td>\n",
       "      <td>2.482676e+10</td>\n",
       "      <td>3310235.0</td>\n",
       "    </tr>\n",
       "    <tr>\n",
       "      <th>000050</th>\n",
       "      <td>55100.0</td>\n",
       "      <td>55100.0</td>\n",
       "      <td>55100.0</td>\n",
       "      <td>55100.0</td>\n",
       "      <td>10.0</td>\n",
       "      <td>5.510000e+05</td>\n",
       "      <td>8.485400e+10</td>\n",
       "      <td>1540000.0</td>\n",
       "    </tr>\n",
       "    <tr>\n",
       "      <th>000060</th>\n",
       "      <td>18900.0</td>\n",
       "      <td>18200.0</td>\n",
       "      <td>18900.0</td>\n",
       "      <td>18100.0</td>\n",
       "      <td>79680.0</td>\n",
       "      <td>1.477424e+09</td>\n",
       "      <td>1.621620e+11</td>\n",
       "      <td>8580000.0</td>\n",
       "    </tr>\n",
       "    <tr>\n",
       "      <th>000070</th>\n",
       "      <td>31300.0</td>\n",
       "      <td>29800.0</td>\n",
       "      <td>32900.0</td>\n",
       "      <td>29800.0</td>\n",
       "      <td>5950.0</td>\n",
       "      <td>1.871460e+08</td>\n",
       "      <td>2.478960e+11</td>\n",
       "      <td>7920000.0</td>\n",
       "    </tr>\n",
       "    <tr>\n",
       "      <th>...</th>\n",
       "      <th>...</th>\n",
       "      <td>...</td>\n",
       "      <td>...</td>\n",
       "      <td>...</td>\n",
       "      <td>...</td>\n",
       "      <td>...</td>\n",
       "      <td>...</td>\n",
       "      <td>...</td>\n",
       "      <td>...</td>\n",
       "    </tr>\n",
       "    <tr>\n",
       "      <th rowspan=\"5\" valign=\"top\">2021-05-21</th>\n",
       "      <th>378850</th>\n",
       "      <td>6290.0</td>\n",
       "      <td>6520.0</td>\n",
       "      <td>6650.0</td>\n",
       "      <td>6210.0</td>\n",
       "      <td>141490.0</td>\n",
       "      <td>9.072490e+08</td>\n",
       "      <td>1.194699e+11</td>\n",
       "      <td>18993623.0</td>\n",
       "    </tr>\n",
       "    <tr>\n",
       "      <th>380440</th>\n",
       "      <td>2100.0</td>\n",
       "      <td>2075.0</td>\n",
       "      <td>2120.0</td>\n",
       "      <td>2045.0</td>\n",
       "      <td>9327020.0</td>\n",
       "      <td>1.931229e+10</td>\n",
       "      <td>1.077090e+11</td>\n",
       "      <td>51290000.0</td>\n",
       "    </tr>\n",
       "    <tr>\n",
       "      <th>383220</th>\n",
       "      <td>412500.0</td>\n",
       "      <td>360000.0</td>\n",
       "      <td>468000.0</td>\n",
       "      <td>360000.0</td>\n",
       "      <td>553415.0</td>\n",
       "      <td>2.391376e+11</td>\n",
       "      <td>3.160334e+12</td>\n",
       "      <td>7661415.0</td>\n",
       "    </tr>\n",
       "    <tr>\n",
       "      <th>900140</th>\n",
       "      <td>3560.0</td>\n",
       "      <td>3565.0</td>\n",
       "      <td>3620.0</td>\n",
       "      <td>3540.0</td>\n",
       "      <td>256111.0</td>\n",
       "      <td>9.139745e+08</td>\n",
       "      <td>3.540609e+11</td>\n",
       "      <td>99455297.0</td>\n",
       "    </tr>\n",
       "    <tr>\n",
       "      <th>950210</th>\n",
       "      <td>28800.0</td>\n",
       "      <td>29200.0</td>\n",
       "      <td>29300.0</td>\n",
       "      <td>28800.0</td>\n",
       "      <td>236888.0</td>\n",
       "      <td>6.868418e+09</td>\n",
       "      <td>1.730769e+12</td>\n",
       "      <td>60096155.0</td>\n",
       "    </tr>\n",
       "  </tbody>\n",
       "</table>\n",
       "<p>3876319 rows × 8 columns</p>\n",
       "</div>"
      ],
      "text/plain": [
       "                      close      open      high       low     volume  \\\n",
       "date       ticker                                                      \n",
       "1995-05-02 000020   29200.0   29300.0   29300.0   29200.0     1500.0   \n",
       "           000040    7500.0    7300.0    7500.0    7300.0     7970.0   \n",
       "           000050   55100.0   55100.0   55100.0   55100.0       10.0   \n",
       "           000060   18900.0   18200.0   18900.0   18100.0    79680.0   \n",
       "           000070   31300.0   29800.0   32900.0   29800.0     5950.0   \n",
       "...                     ...       ...       ...       ...        ...   \n",
       "2021-05-21 378850    6290.0    6520.0    6650.0    6210.0   141490.0   \n",
       "           380440    2100.0    2075.0    2120.0    2045.0  9327020.0   \n",
       "           383220  412500.0  360000.0  468000.0  360000.0   553415.0   \n",
       "           900140    3560.0    3565.0    3620.0    3540.0   256111.0   \n",
       "           950210   28800.0   29200.0   29300.0   28800.0   236888.0   \n",
       "\n",
       "                         amount        marcap      stocks  \n",
       "date       ticker                                          \n",
       "1995-05-02 000020  4.390000e+07  7.679600e+10   2630000.0  \n",
       "           000040  5.917060e+07  2.482676e+10   3310235.0  \n",
       "           000050  5.510000e+05  8.485400e+10   1540000.0  \n",
       "           000060  1.477424e+09  1.621620e+11   8580000.0  \n",
       "           000070  1.871460e+08  2.478960e+11   7920000.0  \n",
       "...                         ...           ...         ...  \n",
       "2021-05-21 378850  9.072490e+08  1.194699e+11  18993623.0  \n",
       "           380440  1.931229e+10  1.077090e+11  51290000.0  \n",
       "           383220  2.391376e+11  3.160334e+12   7661415.0  \n",
       "           900140  9.139745e+08  3.540609e+11  99455297.0  \n",
       "           950210  6.868418e+09  1.730769e+12  60096155.0  \n",
       "\n",
       "[3876319 rows x 8 columns]"
      ]
     },
     "execution_count": 44,
     "metadata": {},
     "output_type": "execute_result"
    }
   ],
   "source": [
    "kospi_data"
   ]
  },
  {
   "cell_type": "markdown",
   "metadata": {},
   "source": [
    "## ETF, 우선주가 제외돼고 상장폐지 데이터가 추가되었으므로 시가총액 순위를 다시 구해줘야 된다."
   ]
  },
  {
   "cell_type": "code",
   "execution_count": 45,
   "metadata": {},
   "outputs": [],
   "source": [
    "marcap_data = kospi_data['marcap'].to_frame()"
   ]
  },
  {
   "cell_type": "code",
   "execution_count": 46,
   "metadata": {},
   "outputs": [],
   "source": [
    "marcap_data = marcap_data.unstack('date')"
   ]
  },
  {
   "cell_type": "code",
   "execution_count": 47,
   "metadata": {},
   "outputs": [],
   "source": [
    "rank_data = marcap_data.rank(ascending=False)"
   ]
  },
  {
   "cell_type": "code",
   "execution_count": 48,
   "metadata": {},
   "outputs": [],
   "source": [
    "rank_data.rename(columns={'marcap':'rank'}, inplace=True)"
   ]
  },
  {
   "cell_type": "code",
   "execution_count": 49,
   "metadata": {},
   "outputs": [],
   "source": [
    "kospi_data = kospi_data.unstack('date')"
   ]
  },
  {
   "cell_type": "code",
   "execution_count": 50,
   "metadata": {},
   "outputs": [],
   "source": [
    "kospi_data = pd.concat([kospi_data, rank_data], axis=1)"
   ]
  },
  {
   "cell_type": "code",
   "execution_count": 51,
   "metadata": {},
   "outputs": [],
   "source": [
    "kospi_data = kospi_data.stack('date')"
   ]
  },
  {
   "cell_type": "markdown",
   "metadata": {},
   "source": [
    "## 데이터 타입 변경으로 데이터 프레임 메모리 최소화"
   ]
  },
  {
   "cell_type": "code",
   "execution_count": 52,
   "metadata": {},
   "outputs": [],
   "source": [
    "# rank도 타입을 정해줘서 메모리 최소화\n",
    "kospi_data = kospi_data.astype({'close':'int32', 'high':'int32', 'low':'int32', 'open':'int32', 'volume':'int32', 'stocks':'int64', 'amount':'int64', 'marcap':'int64', 'rank':'int16'})"
   ]
  },
  {
   "cell_type": "code",
   "execution_count": 53,
   "metadata": {},
   "outputs": [],
   "source": [
    "kospi_data = kospi_data.reorder_levels(['date','ticker']).sort_index()"
   ]
  },
  {
   "cell_type": "markdown",
   "metadata": {},
   "source": [
    "## Nacer Finance를 이용한 데이터 수집"
   ]
  },
  {
   "cell_type": "code",
   "execution_count": 54,
   "metadata": {},
   "outputs": [],
   "source": [
    "ticker = kospi_data.index.get_level_values('ticker').unique()"
   ]
  },
  {
   "cell_type": "code",
   "execution_count": 55,
   "metadata": {},
   "outputs": [],
   "source": [
    "# 상장폐지 데이터도 모두 추가\n",
    "ticker = ticker.append(pd.Index(delisting_data['Symbol'])).unique()"
   ]
  },
  {
   "cell_type": "code",
   "execution_count": 56,
   "metadata": {},
   "outputs": [],
   "source": [
    "finance_datareader_data_list = []\n",
    "\n",
    "def get_finance_data(ticker: str):\n",
    "    try:\n",
    "        data = fdr.DataReader(ticker, start='1995-01-01')\n",
    "        data = data.astype('float64')\n",
    "        data.reset_index(inplace=True)\n",
    "        data['Ticker'] = ticker\n",
    "        finance_datareader_data_list.append(data)\n",
    "    except Exception as e:\n",
    "        print(f\"Code: {ticker}, {e}\")\n",
    "        \n",
    "with futures.ThreadPoolExecutor(50) as executor:\n",
    "    executor.map(get_finance_data, ticker)"
   ]
  },
  {
   "cell_type": "code",
   "execution_count": 57,
   "metadata": {},
   "outputs": [],
   "source": [
    "finance_datareader_data = pd.concat(finance_datareader_data_list)"
   ]
  },
  {
   "cell_type": "code",
   "execution_count": 58,
   "metadata": {},
   "outputs": [],
   "source": [
    "finance_datareader_data.rename(columns=str.lower, inplace=True)"
   ]
  },
  {
   "cell_type": "code",
   "execution_count": 59,
   "metadata": {},
   "outputs": [],
   "source": [
    "finance_datareader_data = finance_datareader_data.groupby(['date', 'ticker']).last()"
   ]
  },
  {
   "cell_type": "code",
   "execution_count": 60,
   "metadata": {},
   "outputs": [],
   "source": [
    "finance_datareader_data.drop(['index', 'change'], axis=1, inplace=True)"
   ]
  },
  {
   "cell_type": "markdown",
   "metadata": {},
   "source": [
    "### Plot해서 데이터 확인\n",
    "- 삼성전자로 Plot하기"
   ]
  },
  {
   "cell_type": "markdown",
   "metadata": {},
   "source": [
    "#### 종가"
   ]
  },
  {
   "cell_type": "code",
   "execution_count": 61,
   "metadata": {},
   "outputs": [
    {
     "data": {
      "text/plain": [
       "<AxesSubplot:xlabel='date,ticker'>"
      ]
     },
     "execution_count": 61,
     "metadata": {},
     "output_type": "execute_result"
    },
    {
     "data": {
      "image/png": "[encoded data removed]",
      "text/plain": [
       "<Figure size 432x288 with 1 Axes>"
      ]
     },
     "metadata": {
      "needs_background": "light"
     },
     "output_type": "display_data"
    }
   ],
   "source": [
    "finance_datareader_data[['close']].loc[idx[:, '005930'], :].plot()"
   ]
  },
  {
   "cell_type": "markdown",
   "metadata": {},
   "source": [
    "#### 시가"
   ]
  },
  {
   "cell_type": "code",
   "execution_count": 63,
   "metadata": {},
   "outputs": [
    {
     "data": {
      "text/plain": [
       "<AxesSubplot:xlabel='date,ticker'>"
      ]
     },
     "execution_count": 63,
     "metadata": {},
     "output_type": "execute_result"
    },
    {
     "data": {
      "image/png": "[encoded data removed]",
      "text/plain": [
       "<Figure size 432x288 with 1 Axes>"
      ]
     },
     "metadata": {
      "needs_background": "light"
     },
     "output_type": "display_data"
    }
   ],
   "source": [
    "finance_datareader_data[['open']].loc[idx[:, '005930'], :].plot()"
   ]
  },
  {
   "cell_type": "markdown",
   "metadata": {},
   "source": [
    "#### 저가"
   ]
  },
  {
   "cell_type": "code",
   "execution_count": 64,
   "metadata": {},
   "outputs": [
    {
     "data": {
      "text/plain": [
       "<AxesSubplot:xlabel='date,ticker'>"
      ]
     },
     "execution_count": 64,
     "metadata": {},
     "output_type": "execute_result"
    },
    {
     "data": {
      "image/png": "[encoded data removed]",
      "text/plain": [
       "<Figure size 432x288 with 1 Axes>"
      ]
     },
     "metadata": {
      "needs_background": "light"
     },
     "output_type": "display_data"
    }
   ],
   "source": [
    "finance_datareader_data[['low']].loc[idx[:, '005930'], :].plot()"
   ]
  },
  {
   "cell_type": "markdown",
   "metadata": {},
   "source": [
    "#### 고가"
   ]
  },
  {
   "cell_type": "code",
   "execution_count": 66,
   "metadata": {},
   "outputs": [
    {
     "data": {
      "text/plain": [
       "<AxesSubplot:xlabel='date,ticker'>"
      ]
     },
     "execution_count": 66,
     "metadata": {},
     "output_type": "execute_result"
    },
    {
     "data": {
      "image/png": "[encoded data removed]",
      "text/plain": [
       "<Figure size 432x288 with 1 Axes>"
      ]
     },
     "metadata": {
      "needs_background": "light"
     },
     "output_type": "display_data"
    }
   ],
   "source": [
    "finance_datareader_data[['high']].loc[idx[:, '005930'], :].plot()"
   ]
  },
  {
   "cell_type": "markdown",
   "metadata": {},
   "source": [
    "#### 거래량"
   ]
  },
  {
   "cell_type": "code",
   "execution_count": 67,
   "metadata": {},
   "outputs": [
    {
     "data": {
      "text/plain": [
       "<AxesSubplot:xlabel='date,ticker'>"
      ]
     },
     "execution_count": 67,
     "metadata": {},
     "output_type": "execute_result"
    },
    {
     "data": {
      "image/png": "[encoded data removed]",
      "text/plain": [
       "<Figure size 432x288 with 1 Axes>"
      ]
     },
     "metadata": {
      "needs_background": "light"
     },
     "output_type": "display_data"
    }
   ],
   "source": [
    "finance_datareader_data[['volume']].loc[idx[:, '005930'], :].plot()"
   ]
  },
  {
   "cell_type": "markdown",
   "metadata": {},
   "source": [
    "### 데이터를 본 결론\n",
    "- Pandas Datareader에서 Naver Finance로 제공해주는 데이터 중에서는 종가만 유효한 수정 종가 이다."
   ]
  },
  {
   "cell_type": "markdown",
   "metadata": {},
   "source": [
    "### 종가만 수정 종가로 사용할 수 있다."
   ]
  },
  {
   "cell_type": "code",
   "execution_count": 68,
   "metadata": {},
   "outputs": [],
   "source": [
    "finance_datareader_data = finance_datareader_data[['close']]"
   ]
  },
  {
   "cell_type": "code",
   "execution_count": 69,
   "metadata": {},
   "outputs": [],
   "source": [
    "finance_datareader_data = finance_datareader_data.rename(columns={'close':'adj_close'})"
   ]
  },
  {
   "cell_type": "markdown",
   "metadata": {},
   "source": [
    "### Finance DataReader Data 이상치 데이터 제거"
   ]
  },
  {
   "cell_type": "code",
   "execution_count": 70,
   "metadata": {},
   "outputs": [],
   "source": [
    "return_data = (finance_datareader_data.unstack('ticker')\n",
    "               .fillna(method='bfill')\n",
    "               .fillna(0)\n",
    "               .pct_change()\n",
    "               .mul(100)\n",
    "               .stack('ticker')['adj_close']\n",
    "               .to_frame()\n",
    "              )"
   ]
  },
  {
   "cell_type": "code",
   "execution_count": 71,
   "metadata": {},
   "outputs": [],
   "source": [
    "return_array = return_data['adj_close'].to_numpy()"
   ]
  },
  {
   "cell_type": "code",
   "execution_count": 72,
   "metadata": {},
   "outputs": [
    {
     "name": "stdout",
     "output_type": "stream",
     "text": [
      "수익률 상위:99.999% 확률로 수익률: 95.84636169778737%\n",
      "수익률 하위:0.001% 확률로 수익률: -100.0%\n"
     ]
    }
   ],
   "source": [
    "buffer = 0.001\n",
    "up = np.percentile(return_array, 100 - buffer)\n",
    "down = np.percentile(return_array, buffer + 0.001)\n",
    "print(f\"수익률 상위:{100- buffer}% 확률로 수익률: {up}%\")\n",
    "print(f\"수익률 하위:{buffer}% 확률로 수익률: {down}%\")"
   ]
  },
  {
   "cell_type": "code",
   "execution_count": 73,
   "metadata": {},
   "outputs": [],
   "source": [
    "down_index = return_data[return_data.adj_close < down].index.get_level_values('ticker').unique()"
   ]
  },
  {
   "cell_type": "code",
   "execution_count": 74,
   "metadata": {},
   "outputs": [],
   "source": [
    "up_index = return_data[return_data.adj_close > up].index.get_level_values('ticker').unique()"
   ]
  },
  {
   "cell_type": "code",
   "execution_count": 75,
   "metadata": {},
   "outputs": [],
   "source": [
    "exclude_index = up_index.append(down_index).unique()"
   ]
  },
  {
   "cell_type": "code",
   "execution_count": 76,
   "metadata": {},
   "outputs": [],
   "source": [
    "cleaning_ticker = finance_datareader_data.index.get_level_values('ticker').unique().difference(exclude_index)"
   ]
  },
  {
   "cell_type": "code",
   "execution_count": 77,
   "metadata": {},
   "outputs": [],
   "source": [
    "finance_datareader_data = finance_datareader_data.loc[idx[:, cleaning_ticker],:]"
   ]
  },
  {
   "cell_type": "markdown",
   "metadata": {},
   "source": [
    "## KOSPI DATA 시가총액 중에서 이상치 제거"
   ]
  },
  {
   "cell_type": "code",
   "execution_count": 78,
   "metadata": {},
   "outputs": [],
   "source": [
    "return_data = kospi_data[['marcap']].unstack('ticker').fillna(method='bfill').resample('M').last().pct_change().stack('ticker')"
   ]
  },
  {
   "cell_type": "code",
   "execution_count": 79,
   "metadata": {},
   "outputs": [],
   "source": [
    "return_array = return_data['marcap'].to_numpy()"
   ]
  },
  {
   "cell_type": "markdown",
   "metadata": {},
   "source": [
    "### 수익률 하위, 상위 0.002%  값들 출력 Outlier 제거\n",
    "#### 표준편차 3.5일때  신뢰구간 z <0.002 and z > 99.998 값들 들어있는 종목 제거 (병합등 이상치 데이터들이 있음)\n",
    "- e.g) 수익률이 -10, -1, 0, 0, 1, 20, 10, -5, 0, 14 이면 하위 10% 확률로 -10% 손실이 나고 90% 확률로 수익 20%난다."
   ]
  },
  {
   "cell_type": "code",
   "execution_count": 80,
   "metadata": {},
   "outputs": [
    {
     "name": "stdout",
     "output_type": "stream",
     "text": [
      "수익률 상위:99.998% 확률로 수익률: 47.39518245674401%\n",
      "수익률 하위:0.002% 확률로 수익률: -0.8781391215021219%\n"
     ]
    }
   ],
   "source": [
    "buffer = 0.002\n",
    "up = np.percentile(return_array, 100 - buffer)\n",
    "down = np.percentile(return_array, buffer)\n",
    "print(f\"수익률 상위:{100- buffer}% 확률로 수익률: {up}%\")\n",
    "print(f\"수익률 하위:{buffer}% 확률로 수익률: {down}%\")"
   ]
  },
  {
   "cell_type": "code",
   "execution_count": 81,
   "metadata": {},
   "outputs": [],
   "source": [
    "down_index = return_data[return_data.marcap < down].index.get_level_values('ticker').unique()"
   ]
  },
  {
   "cell_type": "code",
   "execution_count": 82,
   "metadata": {},
   "outputs": [],
   "source": [
    "up_index = return_data[return_data.marcap > up].index.get_level_values('ticker').unique()"
   ]
  },
  {
   "cell_type": "code",
   "execution_count": 83,
   "metadata": {},
   "outputs": [],
   "source": [
    "# 수익률 하위랑 상위 걸러야 되는 종목코드 배열 합치기\n",
    "# 제외할 종목들 할당\n",
    "exclude_index = up_index.append(down_index).unique()"
   ]
  },
  {
   "cell_type": "code",
   "execution_count": 84,
   "metadata": {},
   "outputs": [
    {
     "data": {
      "text/plain": [
       "Index(['000270', '008260', '011150', '001780', '000080', '013890', '005440',\n",
       "       '000240', '051310', '110570', '005450'],\n",
       "      dtype='object', name='ticker')"
      ]
     },
     "execution_count": 84,
     "metadata": {},
     "output_type": "execute_result"
    }
   ],
   "source": [
    "exclude_index"
   ]
  },
  {
   "cell_type": "code",
   "execution_count": 85,
   "metadata": {},
   "outputs": [],
   "source": [
    "cleaning_ticker = kospi_data.index.get_level_values('ticker').unique().difference(exclude_index)"
   ]
  },
  {
   "cell_type": "code",
   "execution_count": 86,
   "metadata": {},
   "outputs": [],
   "source": [
    "kospi_data = kospi_data.loc[idx[:, cleaning_ticker],:]"
   ]
  },
  {
   "cell_type": "markdown",
   "metadata": {},
   "source": [
    "## Finance DataReader에서 가져온 수정 종가를 이용해서 수정 고가, 수정 저가, 수정 시가, 수정 거래량, 시가총액 다시 구하기"
   ]
  },
  {
   "cell_type": "code",
   "execution_count": 87,
   "metadata": {},
   "outputs": [],
   "source": [
    "kospi_data_ticker = kospi_data.index.get_level_values('ticker').unique()"
   ]
  },
  {
   "cell_type": "code",
   "execution_count": 88,
   "metadata": {},
   "outputs": [],
   "source": [
    "finance_datareader_data_ticker = finance_datareader_data.index.get_level_values('ticker').unique()"
   ]
  },
  {
   "cell_type": "code",
   "execution_count": 89,
   "metadata": {},
   "outputs": [],
   "source": [
    "# 두개의 데이터에서 겹치는 ticker들 출력\n",
    "intersect_ticker = kospi_data_ticker.intersection(finance_datareader_data_ticker)"
   ]
  },
  {
   "cell_type": "code",
   "execution_count": 90,
   "metadata": {},
   "outputs": [],
   "source": [
    "intersect_finance_datareader_data = finance_datareader_data.loc[idx[:, intersect_ticker], :]\n",
    "intersect_kospi_data = kospi_data.loc[idx[:, intersect_ticker], :]"
   ]
  },
  {
   "cell_type": "code",
   "execution_count": 91,
   "metadata": {},
   "outputs": [],
   "source": [
    "intersect_data = pd.concat([intersect_kospi_data, intersect_finance_datareader_data], axis=1)"
   ]
  },
  {
   "cell_type": "code",
   "execution_count": 92,
   "metadata": {},
   "outputs": [],
   "source": [
    "intersect_data = intersect_data.reset_index().dropna().groupby(['date', 'ticker']).last()"
   ]
  },
  {
   "cell_type": "markdown",
   "metadata": {},
   "source": [
    "### Adjust Ratio 구하기 \n",
    "- Close Price / Adj Close Price를 이용해서 adjust ratio를 구한다."
   ]
  },
  {
   "cell_type": "code",
   "execution_count": 93,
   "metadata": {},
   "outputs": [],
   "source": [
    "intersect_data['adj_ratio'] = intersect_data['close'] / intersect_data['adj_close']"
   ]
  },
  {
   "cell_type": "markdown",
   "metadata": {},
   "source": [
    "### 이를 이용해서 수정 고가, 수정 저가, 수정 시가, 수정 거래량 계산"
   ]
  },
  {
   "cell_type": "code",
   "execution_count": 94,
   "metadata": {},
   "outputs": [],
   "source": [
    "intersect_data['adj_high'] = intersect_data['high'] / intersect_data['adj_ratio']"
   ]
  },
  {
   "cell_type": "code",
   "execution_count": 95,
   "metadata": {},
   "outputs": [],
   "source": [
    "intersect_data['adj_close'] = intersect_data['close'] / intersect_data['adj_ratio']"
   ]
  },
  {
   "cell_type": "code",
   "execution_count": 96,
   "metadata": {},
   "outputs": [],
   "source": [
    "intersect_data['adj_low'] = intersect_data['low'] / intersect_data['adj_ratio']"
   ]
  },
  {
   "cell_type": "code",
   "execution_count": 97,
   "metadata": {},
   "outputs": [],
   "source": [
    "intersect_data['adj_open'] = intersect_data['open'] / intersect_data['adj_ratio']"
   ]
  },
  {
   "cell_type": "code",
   "execution_count": 98,
   "metadata": {},
   "outputs": [],
   "source": [
    "intersect_data['adj_volume'] = intersect_data['volume'] * intersect_data['adj_ratio']"
   ]
  },
  {
   "cell_type": "markdown",
   "metadata": {},
   "source": [
    "### 삼성전자를 기준으로 수정 주가 계산 확인"
   ]
  },
  {
   "cell_type": "code",
   "execution_count": 99,
   "metadata": {},
   "outputs": [],
   "source": [
    "samsung_data = intersect_data.loc[idx[:,'005930'], :]"
   ]
  },
  {
   "cell_type": "code",
   "execution_count": 100,
   "metadata": {},
   "outputs": [],
   "source": [
    "col_list = ['adj_open', 'adj_close', 'adj_low', 'adj_high', 'adj_volume']"
   ]
  },
  {
   "cell_type": "code",
   "execution_count": 101,
   "metadata": {},
   "outputs": [],
   "source": [
    "def plot(column_name: str):\n",
    "    x = samsung_data.index.get_level_values(0)\n",
    "    y = samsung_data[column_name]\n",
    "    plt.plot(x, y)\n",
    "    plt.show()"
   ]
  },
  {
   "cell_type": "code",
   "execution_count": 102,
   "metadata": {
    "scrolled": true
   },
   "outputs": [
    {
     "data": {
      "image/png": "[encoded data removed]",
      "text/plain": [
       "<Figure size 432x288 with 2 Axes>"
      ]
     },
     "metadata": {
      "needs_background": "light"
     },
     "output_type": "display_data"
    },
    {
     "name": "stderr",
     "output_type": "stream",
     "text": [
      "No handles with labels found to put in legend.\n"
     ]
    },
    {
     "data": {
      "image/png": "[encoded data removed]",
      "text/plain": [
       "<Figure size 432x288 with 2 Axes>"
      ]
     },
     "metadata": {
      "needs_background": "light"
     },
     "output_type": "display_data"
    }
   ],
   "source": [
    "import matplotlib.pyplot as plt\n",
    "\n",
    "x = samsung_data.index.get_level_values(0)\n",
    "y = samsung_data['close']\n",
    "plt.subplot(2,2,1)\n",
    "plt.plot(x, y)\n",
    "plt.xticks(rotation='vertical')\n",
    "plt.title('close')\n",
    "\n",
    "y = samsung_data['volume']\n",
    "plt.subplot(2,2,2)\n",
    "plt.plot(x, y)\n",
    "plt.title('volume')\n",
    "plt.xticks(rotation='vertical')\n",
    "plt.show()\n",
    "\n",
    "y = samsung_data['adj_close']\n",
    "plt.subplot(2,2,3)\n",
    "plt.plot(x, y)\n",
    "plt.xticks(rotation='vertical')\n",
    "plt.title('adjust close')\n",
    "\n",
    "y = samsung_data['adj_volume']\n",
    "plt.subplot(2,2,4)\n",
    "plt.plot(x, y)\n",
    "plt.title('adjust volume')\n",
    "plt.xticks(rotation='vertical')\n",
    "\n",
    "plt.legend()\n",
    "plt.show()"
   ]
  },
  {
   "cell_type": "markdown",
   "metadata": {},
   "source": [
    "### 수정 종가를 이용해서 시가총액 재계산"
   ]
  },
  {
   "cell_type": "code",
   "execution_count": 103,
   "metadata": {},
   "outputs": [],
   "source": [
    "latest_stocks = intersect_data['stocks'].unstack('ticker').iloc[-1].to_frame().T.stack('ticker')"
   ]
  },
  {
   "cell_type": "code",
   "execution_count": 104,
   "metadata": {},
   "outputs": [],
   "source": [
    "intersect_data['adj_stocks'] = latest_stocks"
   ]
  },
  {
   "cell_type": "code",
   "execution_count": 105,
   "metadata": {},
   "outputs": [],
   "source": [
    "intersect_data['adj_stocks'] = intersect_data['adj_stocks'].unstack('ticker').fillna(method='bfill').stack('ticker')"
   ]
  },
  {
   "cell_type": "code",
   "execution_count": 106,
   "metadata": {},
   "outputs": [],
   "source": [
    "intersect_data['adj_marcap'] = intersect_data['adj_close'] * intersect_data['adj_stocks']"
   ]
  },
  {
   "cell_type": "markdown",
   "metadata": {},
   "source": [
    "### 수정 시가총액을 다시 구하는 이유\n",
    "- https://github.com/FinanceData/marcap 사이트에서 일자별 시가총액을 KRX에서 가져오는 것을 알 수 있다.\n",
    "- 하지만 KRX 전체 시가총액 데이터를 다시보면 시가총액이 회사 병합등등 이 반영이 안돼서 시가총액이 이상하게 나온다는 것을 알수 있다.\n",
    "- 이를 통하면 수정주가를 이용해서 다시 시가총액을 구해줘 이러한 데이터들의 문제를 해결하려고 했다."
   ]
  },
  {
   "cell_type": "markdown",
   "metadata": {},
   "source": [
    "#### 삼성전자를 이용해서 수정 시가총액과 KRX 시가총액과 비교"
   ]
  },
  {
   "cell_type": "code",
   "execution_count": 107,
   "metadata": {},
   "outputs": [
    {
     "data": {
      "text/plain": [
       "<matplotlib.legend.Legend at 0x170a393c700>"
      ]
     },
     "execution_count": 107,
     "metadata": {},
     "output_type": "execute_result"
    },
    {
     "data": {
      "image/png": "[encoded data removed]",
      "text/plain": [
       "<Figure size 432x288 with 1 Axes>"
      ]
     },
     "metadata": {
      "needs_background": "light"
     },
     "output_type": "display_data"
    }
   ],
   "source": [
    "intersect_data.loc[idx[:, '005930'], ['marcap', 'adj_marcap']].plot()\n",
    "plt.legend()"
   ]
  },
  {
   "cell_type": "markdown",
   "metadata": {},
   "source": [
    "## Data 저장 위치 설정"
   ]
  },
  {
   "cell_type": "code",
   "execution_count": 108,
   "metadata": {},
   "outputs": [],
   "source": [
    "DATA_STORE = Path('assets.h5')"
   ]
  },
  {
   "cell_type": "markdown",
   "metadata": {},
   "source": [
    "## marcap 가격 데이터 저장"
   ]
  },
  {
   "cell_type": "code",
   "execution_count": 109,
   "metadata": {},
   "outputs": [],
   "source": [
    "with pd.HDFStore(DATA_STORE) as store:\n",
    "    store.put('finance_datareader/prices', intersect_data)"
   ]
  },
  {
   "cell_type": "markdown",
   "metadata": {},
   "source": [
    "## 회사 코드랑 이름 저장"
   ]
  },
  {
   "cell_type": "code",
   "execution_count": 110,
   "metadata": {},
   "outputs": [],
   "source": [
    "kospi_stock = kospi[['Symbol','Name']]"
   ]
  },
  {
   "cell_type": "code",
   "execution_count": 111,
   "metadata": {},
   "outputs": [],
   "source": [
    "kospi_stock.columns = ['code', 'name']"
   ]
  },
  {
   "cell_type": "code",
   "execution_count": 112,
   "metadata": {},
   "outputs": [],
   "source": [
    "kospi_stock.set_index('code', inplace=True)"
   ]
  },
  {
   "cell_type": "code",
   "execution_count": 113,
   "metadata": {},
   "outputs": [
    {
     "data": {
      "text/html": [
       "<div>\n",
       "<style scoped>\n",
       "    .dataframe tbody tr th:only-of-type {\n",
       "        vertical-align: middle;\n",
       "    }\n",
       "\n",
       "    .dataframe tbody tr th {\n",
       "        vertical-align: top;\n",
       "    }\n",
       "\n",
       "    .dataframe thead th {\n",
       "        text-align: right;\n",
       "    }\n",
       "</style>\n",
       "<table border=\"1\" class=\"dataframe\">\n",
       "  <thead>\n",
       "    <tr style=\"text-align: right;\">\n",
       "      <th></th>\n",
       "      <th>name</th>\n",
       "    </tr>\n",
       "    <tr>\n",
       "      <th>code</th>\n",
       "      <th></th>\n",
       "    </tr>\n",
       "  </thead>\n",
       "  <tbody>\n",
       "    <tr>\n",
       "      <th>095570</th>\n",
       "      <td>AJ네트웍스</td>\n",
       "    </tr>\n",
       "    <tr>\n",
       "      <th>006840</th>\n",
       "      <td>AK홀딩스</td>\n",
       "    </tr>\n",
       "    <tr>\n",
       "      <th>027410</th>\n",
       "      <td>BGF</td>\n",
       "    </tr>\n",
       "    <tr>\n",
       "      <th>282330</th>\n",
       "      <td>BGF리테일</td>\n",
       "    </tr>\n",
       "    <tr>\n",
       "      <th>138930</th>\n",
       "      <td>BNK금융지주</td>\n",
       "    </tr>\n",
       "    <tr>\n",
       "      <th>...</th>\n",
       "      <td>...</td>\n",
       "    </tr>\n",
       "    <tr>\n",
       "      <th>079980</th>\n",
       "      <td>휴비스</td>\n",
       "    </tr>\n",
       "    <tr>\n",
       "      <th>005010</th>\n",
       "      <td>휴스틸</td>\n",
       "    </tr>\n",
       "    <tr>\n",
       "      <th>069260</th>\n",
       "      <td>휴켐스</td>\n",
       "    </tr>\n",
       "    <tr>\n",
       "      <th>000540</th>\n",
       "      <td>흥국화재</td>\n",
       "    </tr>\n",
       "    <tr>\n",
       "      <th>003280</th>\n",
       "      <td>흥아해운</td>\n",
       "    </tr>\n",
       "  </tbody>\n",
       "</table>\n",
       "<p>808 rows × 1 columns</p>\n",
       "</div>"
      ],
      "text/plain": [
       "           name\n",
       "code           \n",
       "095570   AJ네트웍스\n",
       "006840    AK홀딩스\n",
       "027410      BGF\n",
       "282330   BGF리테일\n",
       "138930  BNK금융지주\n",
       "...         ...\n",
       "079980      휴비스\n",
       "005010      휴스틸\n",
       "069260      휴켐스\n",
       "000540     흥국화재\n",
       "003280     흥아해운\n",
       "\n",
       "[808 rows x 1 columns]"
      ]
     },
     "execution_count": 113,
     "metadata": {},
     "output_type": "execute_result"
    }
   ],
   "source": [
    "kospi_stock"
   ]
  },
  {
   "cell_type": "code",
   "execution_count": 114,
   "metadata": {},
   "outputs": [],
   "source": [
    "with pd.HDFStore(DATA_STORE) as store:\n",
    "    store.put('finance_datareader/stocks', kospi_stock)"
   ]
  },
  {
   "cell_type": "markdown",
   "metadata": {},
   "source": [
    "## BenchMark로 설정할 KOPSI Index 데이터"
   ]
  },
  {
   "cell_type": "code",
   "execution_count": 115,
   "metadata": {},
   "outputs": [
    {
     "ename": "JSONDecodeError",
     "evalue": "Expecting value: line 1 column 1 (char 0)",
     "output_type": "error",
     "traceback": [
      "\u001b[1;31m---------------------------------------------------------------------------\u001b[0m",
      "\u001b[1;31mJSONDecodeError\u001b[0m                           Traceback (most recent call last)",
      "\u001b[1;32m<ipython-input-115-973376484c23>\u001b[0m in \u001b[0;36m<module>\u001b[1;34m\u001b[0m\n\u001b[1;32m----> 1\u001b[1;33m \u001b[0mkospi_price\u001b[0m \u001b[1;33m=\u001b[0m \u001b[0mfdr\u001b[0m\u001b[1;33m.\u001b[0m\u001b[0mDataReader\u001b[0m\u001b[1;33m(\u001b[0m\u001b[1;34m'KS11'\u001b[0m\u001b[1;33m)\u001b[0m\u001b[1;33m\u001b[0m\u001b[1;33m\u001b[0m\u001b[0m\n\u001b[0m",
      "\u001b[1;32m~\\anaconda3\\envs\\ml4t_orginal\\lib\\site-packages\\FinanceDataReader\\data.py\u001b[0m in \u001b[0;36mDataReader\u001b[1;34m(symbol, start, end, exchange, data_source)\u001b[0m\n\u001b[0;32m     39\u001b[0m     \u001b[1;31m# Investing\u001b[0m\u001b[1;33m\u001b[0m\u001b[1;33m\u001b[0m\u001b[1;33m\u001b[0m\u001b[0m\n\u001b[0;32m     40\u001b[0m     \u001b[0mreader\u001b[0m \u001b[1;33m=\u001b[0m \u001b[0mInvestingDailyReader\u001b[0m\u001b[1;33m\u001b[0m\u001b[1;33m\u001b[0m\u001b[0m\n\u001b[1;32m---> 41\u001b[1;33m     \u001b[0mdf\u001b[0m \u001b[1;33m=\u001b[0m \u001b[0mreader\u001b[0m\u001b[1;33m(\u001b[0m\u001b[0msymbol\u001b[0m\u001b[1;33m,\u001b[0m \u001b[0mstart\u001b[0m\u001b[1;33m,\u001b[0m \u001b[0mend\u001b[0m\u001b[1;33m,\u001b[0m \u001b[0mexchange\u001b[0m\u001b[1;33m,\u001b[0m \u001b[0mdata_source\u001b[0m\u001b[1;33m)\u001b[0m\u001b[1;33m.\u001b[0m\u001b[0mread\u001b[0m\u001b[1;33m(\u001b[0m\u001b[1;33m)\u001b[0m\u001b[1;33m\u001b[0m\u001b[1;33m\u001b[0m\u001b[0m\n\u001b[0m\u001b[0;32m     42\u001b[0m     \u001b[0mend\u001b[0m \u001b[1;33m=\u001b[0m \u001b[0mmin\u001b[0m\u001b[1;33m(\u001b[0m\u001b[1;33m[\u001b[0m\u001b[0mpd\u001b[0m\u001b[1;33m.\u001b[0m\u001b[0mto_datetime\u001b[0m\u001b[1;33m(\u001b[0m\u001b[0mend\u001b[0m\u001b[1;33m)\u001b[0m\u001b[1;33m,\u001b[0m \u001b[0mdatetime\u001b[0m\u001b[1;33m.\u001b[0m\u001b[0mtoday\u001b[0m\u001b[1;33m(\u001b[0m\u001b[1;33m)\u001b[0m\u001b[1;33m]\u001b[0m\u001b[1;33m)\u001b[0m\u001b[1;33m\u001b[0m\u001b[1;33m\u001b[0m\u001b[0m\n\u001b[0;32m     43\u001b[0m     \u001b[1;32mwhile\u001b[0m \u001b[0mlen\u001b[0m\u001b[1;33m(\u001b[0m\u001b[0mdf\u001b[0m\u001b[1;33m)\u001b[0m \u001b[1;32mand\u001b[0m \u001b[0mdf\u001b[0m\u001b[1;33m.\u001b[0m\u001b[0mindex\u001b[0m\u001b[1;33m[\u001b[0m\u001b[1;33m-\u001b[0m\u001b[1;36m1\u001b[0m\u001b[1;33m]\u001b[0m \u001b[1;33m<\u001b[0m \u001b[0mend\u001b[0m\u001b[1;33m:\u001b[0m \u001b[1;31m# issues/30\u001b[0m\u001b[1;33m\u001b[0m\u001b[1;33m\u001b[0m\u001b[0m\n",
      "\u001b[1;32m~\\anaconda3\\envs\\ml4t_orginal\\lib\\site-packages\\FinanceDataReader\\investing\\data.py\u001b[0m in \u001b[0;36mread\u001b[1;34m(self)\u001b[0m\n\u001b[0;32m     60\u001b[0m         \u001b[0mstart_date_str\u001b[0m \u001b[1;33m=\u001b[0m \u001b[0mself\u001b[0m\u001b[1;33m.\u001b[0m\u001b[0mstart\u001b[0m\u001b[1;33m.\u001b[0m\u001b[0mstrftime\u001b[0m\u001b[1;33m(\u001b[0m\u001b[1;34m'%m/%d/%Y'\u001b[0m\u001b[1;33m)\u001b[0m\u001b[1;33m\u001b[0m\u001b[1;33m\u001b[0m\u001b[0m\n\u001b[0;32m     61\u001b[0m         \u001b[0mend_date_str\u001b[0m \u001b[1;33m=\u001b[0m \u001b[0mself\u001b[0m\u001b[1;33m.\u001b[0m\u001b[0mend\u001b[0m\u001b[1;33m.\u001b[0m\u001b[0mstrftime\u001b[0m\u001b[1;33m(\u001b[0m\u001b[1;34m'%m/%d/%Y'\u001b[0m\u001b[1;33m)\u001b[0m\u001b[1;33m\u001b[0m\u001b[1;33m\u001b[0m\u001b[0m\n\u001b[1;32m---> 62\u001b[1;33m         \u001b[0mcurr_id\u001b[0m \u001b[1;33m=\u001b[0m \u001b[0mself\u001b[0m\u001b[1;33m.\u001b[0m\u001b[0m_get_currid_investing\u001b[0m\u001b[1;33m(\u001b[0m\u001b[0mself\u001b[0m\u001b[1;33m.\u001b[0m\u001b[0msymbol\u001b[0m\u001b[1;33m,\u001b[0m \u001b[0mself\u001b[0m\u001b[1;33m.\u001b[0m\u001b[0mexchange\u001b[0m\u001b[1;33m,\u001b[0m \u001b[0mself\u001b[0m\u001b[1;33m.\u001b[0m\u001b[0mdata_source\u001b[0m\u001b[1;33m)\u001b[0m\u001b[1;33m\u001b[0m\u001b[1;33m\u001b[0m\u001b[0m\n\u001b[0m\u001b[0;32m     63\u001b[0m         \u001b[1;32mif\u001b[0m \u001b[1;32mnot\u001b[0m \u001b[0mcurr_id\u001b[0m\u001b[1;33m:\u001b[0m\u001b[1;33m\u001b[0m\u001b[1;33m\u001b[0m\u001b[0m\n\u001b[0;32m     64\u001b[0m             \u001b[1;32mraise\u001b[0m \u001b[0mValueError\u001b[0m\u001b[1;33m(\u001b[0m\u001b[1;34m\"Symbol unsupported or not found\"\u001b[0m\u001b[1;33m)\u001b[0m\u001b[1;33m\u001b[0m\u001b[1;33m\u001b[0m\u001b[0m\n",
      "\u001b[1;32m~\\anaconda3\\envs\\ml4t_orginal\\lib\\site-packages\\FinanceDataReader\\investing\\data.py\u001b[0m in \u001b[0;36m_get_currid_investing\u001b[1;34m(self, symbol, exchange, data_source)\u001b[0m\n\u001b[0;32m     28\u001b[0m         }\n\u001b[0;32m     29\u001b[0m         \u001b[0mr\u001b[0m \u001b[1;33m=\u001b[0m \u001b[0mrequests\u001b[0m\u001b[1;33m.\u001b[0m\u001b[0mpost\u001b[0m\u001b[1;33m(\u001b[0m\u001b[0murl\u001b[0m\u001b[1;33m,\u001b[0m \u001b[0mdata\u001b[0m\u001b[1;33m=\u001b[0m\u001b[1;33m{\u001b[0m\u001b[1;34m'search_text'\u001b[0m\u001b[1;33m:\u001b[0m \u001b[0msymbol\u001b[0m\u001b[1;33m}\u001b[0m\u001b[1;33m,\u001b[0m \u001b[0mheaders\u001b[0m\u001b[1;33m=\u001b[0m\u001b[0mheaders\u001b[0m\u001b[1;33m)\u001b[0m\u001b[1;33m\u001b[0m\u001b[1;33m\u001b[0m\u001b[0m\n\u001b[1;32m---> 30\u001b[1;33m         \u001b[0mjo\u001b[0m \u001b[1;33m=\u001b[0m \u001b[0mjson\u001b[0m\u001b[1;33m.\u001b[0m\u001b[0mloads\u001b[0m\u001b[1;33m(\u001b[0m\u001b[0mr\u001b[0m\u001b[1;33m.\u001b[0m\u001b[0mtext\u001b[0m\u001b[1;33m)\u001b[0m\u001b[1;33m\u001b[0m\u001b[1;33m\u001b[0m\u001b[0m\n\u001b[0m\u001b[0;32m     31\u001b[0m         \u001b[1;32mif\u001b[0m \u001b[0mlen\u001b[0m\u001b[1;33m(\u001b[0m\u001b[0mjo\u001b[0m\u001b[1;33m[\u001b[0m\u001b[1;34m'quotes'\u001b[0m\u001b[1;33m]\u001b[0m\u001b[1;33m)\u001b[0m \u001b[1;33m==\u001b[0m \u001b[1;36m0\u001b[0m\u001b[1;33m:\u001b[0m\u001b[1;33m\u001b[0m\u001b[1;33m\u001b[0m\u001b[0m\n\u001b[0;32m     32\u001b[0m             \u001b[1;32mraise\u001b[0m \u001b[0mValueError\u001b[0m\u001b[1;33m(\u001b[0m\u001b[1;34mf\"Symbol('{symbol}') not found\"\u001b[0m\u001b[1;33m)\u001b[0m\u001b[1;33m\u001b[0m\u001b[1;33m\u001b[0m\u001b[0m\n",
      "\u001b[1;32m~\\anaconda3\\envs\\ml4t_orginal\\lib\\json\\__init__.py\u001b[0m in \u001b[0;36mloads\u001b[1;34m(s, cls, object_hook, parse_float, parse_int, parse_constant, object_pairs_hook, **kw)\u001b[0m\n\u001b[0;32m    355\u001b[0m             \u001b[0mparse_int\u001b[0m \u001b[1;32mis\u001b[0m \u001b[1;32mNone\u001b[0m \u001b[1;32mand\u001b[0m \u001b[0mparse_float\u001b[0m \u001b[1;32mis\u001b[0m \u001b[1;32mNone\u001b[0m \u001b[1;32mand\u001b[0m\u001b[1;33m\u001b[0m\u001b[1;33m\u001b[0m\u001b[0m\n\u001b[0;32m    356\u001b[0m             parse_constant is None and object_pairs_hook is None and not kw):\n\u001b[1;32m--> 357\u001b[1;33m         \u001b[1;32mreturn\u001b[0m \u001b[0m_default_decoder\u001b[0m\u001b[1;33m.\u001b[0m\u001b[0mdecode\u001b[0m\u001b[1;33m(\u001b[0m\u001b[0ms\u001b[0m\u001b[1;33m)\u001b[0m\u001b[1;33m\u001b[0m\u001b[1;33m\u001b[0m\u001b[0m\n\u001b[0m\u001b[0;32m    358\u001b[0m     \u001b[1;32mif\u001b[0m \u001b[0mcls\u001b[0m \u001b[1;32mis\u001b[0m \u001b[1;32mNone\u001b[0m\u001b[1;33m:\u001b[0m\u001b[1;33m\u001b[0m\u001b[1;33m\u001b[0m\u001b[0m\n\u001b[0;32m    359\u001b[0m         \u001b[0mcls\u001b[0m \u001b[1;33m=\u001b[0m \u001b[0mJSONDecoder\u001b[0m\u001b[1;33m\u001b[0m\u001b[1;33m\u001b[0m\u001b[0m\n",
      "\u001b[1;32m~\\anaconda3\\envs\\ml4t_orginal\\lib\\json\\decoder.py\u001b[0m in \u001b[0;36mdecode\u001b[1;34m(self, s, _w)\u001b[0m\n\u001b[0;32m    335\u001b[0m \u001b[1;33m\u001b[0m\u001b[0m\n\u001b[0;32m    336\u001b[0m         \"\"\"\n\u001b[1;32m--> 337\u001b[1;33m         \u001b[0mobj\u001b[0m\u001b[1;33m,\u001b[0m \u001b[0mend\u001b[0m \u001b[1;33m=\u001b[0m \u001b[0mself\u001b[0m\u001b[1;33m.\u001b[0m\u001b[0mraw_decode\u001b[0m\u001b[1;33m(\u001b[0m\u001b[0ms\u001b[0m\u001b[1;33m,\u001b[0m \u001b[0midx\u001b[0m\u001b[1;33m=\u001b[0m\u001b[0m_w\u001b[0m\u001b[1;33m(\u001b[0m\u001b[0ms\u001b[0m\u001b[1;33m,\u001b[0m \u001b[1;36m0\u001b[0m\u001b[1;33m)\u001b[0m\u001b[1;33m.\u001b[0m\u001b[0mend\u001b[0m\u001b[1;33m(\u001b[0m\u001b[1;33m)\u001b[0m\u001b[1;33m)\u001b[0m\u001b[1;33m\u001b[0m\u001b[1;33m\u001b[0m\u001b[0m\n\u001b[0m\u001b[0;32m    338\u001b[0m         \u001b[0mend\u001b[0m \u001b[1;33m=\u001b[0m \u001b[0m_w\u001b[0m\u001b[1;33m(\u001b[0m\u001b[0ms\u001b[0m\u001b[1;33m,\u001b[0m \u001b[0mend\u001b[0m\u001b[1;33m)\u001b[0m\u001b[1;33m.\u001b[0m\u001b[0mend\u001b[0m\u001b[1;33m(\u001b[0m\u001b[1;33m)\u001b[0m\u001b[1;33m\u001b[0m\u001b[1;33m\u001b[0m\u001b[0m\n\u001b[0;32m    339\u001b[0m         \u001b[1;32mif\u001b[0m \u001b[0mend\u001b[0m \u001b[1;33m!=\u001b[0m \u001b[0mlen\u001b[0m\u001b[1;33m(\u001b[0m\u001b[0ms\u001b[0m\u001b[1;33m)\u001b[0m\u001b[1;33m:\u001b[0m\u001b[1;33m\u001b[0m\u001b[1;33m\u001b[0m\u001b[0m\n",
      "\u001b[1;32m~\\anaconda3\\envs\\ml4t_orginal\\lib\\json\\decoder.py\u001b[0m in \u001b[0;36mraw_decode\u001b[1;34m(self, s, idx)\u001b[0m\n\u001b[0;32m    353\u001b[0m             \u001b[0mobj\u001b[0m\u001b[1;33m,\u001b[0m \u001b[0mend\u001b[0m \u001b[1;33m=\u001b[0m \u001b[0mself\u001b[0m\u001b[1;33m.\u001b[0m\u001b[0mscan_once\u001b[0m\u001b[1;33m(\u001b[0m\u001b[0ms\u001b[0m\u001b[1;33m,\u001b[0m \u001b[0midx\u001b[0m\u001b[1;33m)\u001b[0m\u001b[1;33m\u001b[0m\u001b[1;33m\u001b[0m\u001b[0m\n\u001b[0;32m    354\u001b[0m         \u001b[1;32mexcept\u001b[0m \u001b[0mStopIteration\u001b[0m \u001b[1;32mas\u001b[0m \u001b[0merr\u001b[0m\u001b[1;33m:\u001b[0m\u001b[1;33m\u001b[0m\u001b[1;33m\u001b[0m\u001b[0m\n\u001b[1;32m--> 355\u001b[1;33m             \u001b[1;32mraise\u001b[0m \u001b[0mJSONDecodeError\u001b[0m\u001b[1;33m(\u001b[0m\u001b[1;34m\"Expecting value\"\u001b[0m\u001b[1;33m,\u001b[0m \u001b[0ms\u001b[0m\u001b[1;33m,\u001b[0m \u001b[0merr\u001b[0m\u001b[1;33m.\u001b[0m\u001b[0mvalue\u001b[0m\u001b[1;33m)\u001b[0m \u001b[1;32mfrom\u001b[0m \u001b[1;32mNone\u001b[0m\u001b[1;33m\u001b[0m\u001b[1;33m\u001b[0m\u001b[0m\n\u001b[0m\u001b[0;32m    356\u001b[0m         \u001b[1;32mreturn\u001b[0m \u001b[0mobj\u001b[0m\u001b[1;33m,\u001b[0m \u001b[0mend\u001b[0m\u001b[1;33m\u001b[0m\u001b[1;33m\u001b[0m\u001b[0m\n",
      "\u001b[1;31mJSONDecodeError\u001b[0m: Expecting value: line 1 column 1 (char 0)"
     ]
    }
   ],
   "source": [
    "kospi_price = fdr.DataReader('KS11')"
   ]
  },
  {
   "cell_type": "code",
   "execution_count": null,
   "metadata": {},
   "outputs": [],
   "source": [
    "kospi_price"
   ]
  },
  {
   "cell_type": "code",
   "execution_count": null,
   "metadata": {},
   "outputs": [],
   "source": [
    "kospi_price.rename(columns=str.lower, inplace=True)"
   ]
  },
  {
   "cell_type": "code",
   "execution_count": null,
   "metadata": {},
   "outputs": [],
   "source": [
    "kospi_price.index.names = ['date']"
   ]
  },
  {
   "cell_type": "code",
   "execution_count": null,
   "metadata": {},
   "outputs": [],
   "source": [
    "with pd.HDFStore(DATA_STORE) as store:\n",
    "    store.put('finance_datareader/kospi', kospi_price)"
   ]
  },
  {
   "cell_type": "markdown",
   "metadata": {},
   "source": [
    "## Risk Free Rate 데이터 저장\n",
    "- 한국 국채 10년물 데이터를 이용"
   ]
  },
  {
   "cell_type": "code",
   "execution_count": null,
   "metadata": {},
   "outputs": [],
   "source": [
    "risk_free_rate = fdr.DataReader('KR10YT=RR')"
   ]
  },
  {
   "cell_type": "code",
   "execution_count": null,
   "metadata": {},
   "outputs": [],
   "source": [
    "risk_free_rate"
   ]
  },
  {
   "cell_type": "markdown",
   "metadata": {},
   "source": [
    "## 코스피 회사 데이터 저장"
   ]
  },
  {
   "cell_type": "code",
   "execution_count": null,
   "metadata": {},
   "outputs": [],
   "source": [
    "kospi.rename(columns=str.lower, inplace=True)\n",
    "kospi.set_index('symbol', inplace=True)"
   ]
  },
  {
   "cell_type": "code",
   "execution_count": null,
   "metadata": {},
   "outputs": [],
   "source": [
    "kospi_ipoyear = pd.read_csv('data_1807_20210603.csv', encoding='CP949')[['단축코드', '상장일']]"
   ]
  },
  {
   "cell_type": "code",
   "execution_count": null,
   "metadata": {},
   "outputs": [],
   "source": [
    "ipo_year = list(map(lambda x:float(x.split('/')[0]), kospi_ipoyear['상장일']))"
   ]
  },
  {
   "cell_type": "code",
   "execution_count": null,
   "metadata": {},
   "outputs": [],
   "source": [
    "kospi_ipoyear['상장일'] = ipo_year\n",
    "kospi_ipoyear.set_index('단축코드', inplace=True)"
   ]
  },
  {
   "cell_type": "code",
   "execution_count": null,
   "metadata": {},
   "outputs": [],
   "source": [
    "kospi_marcap = pd.read_csv('data_1834_20210603.csv', encoding='CP949')[['종목코드', '시가총액']]"
   ]
  },
  {
   "cell_type": "code",
   "execution_count": null,
   "metadata": {},
   "outputs": [],
   "source": [
    "kospi_marcap.set_index('종목코드', inplace=True)"
   ]
  },
  {
   "cell_type": "code",
   "execution_count": null,
   "metadata": {},
   "outputs": [],
   "source": [
    "kospi = pd.concat([kospi, kospi_ipoyear, kospi_marcap], axis=1)"
   ]
  },
  {
   "cell_type": "code",
   "execution_count": null,
   "metadata": {},
   "outputs": [],
   "source": [
    "kospi.dropna(inplace=True)\n",
    "kospi.index.names = ['ticker']"
   ]
  },
  {
   "cell_type": "code",
   "execution_count": null,
   "metadata": {
    "scrolled": false
   },
   "outputs": [],
   "source": [
    "with pd.HDFStore(DATA_STORE) as store:\n",
    "    store.put('kospi/stocks', kospi)"
   ]
  },
  {
   "cell_type": "code",
   "execution_count": null,
   "metadata": {},
   "outputs": [],
   "source": []
  }
 ],
 "metadata": {
  "kernelspec": {
   "display_name": "Python [conda env:ml4t_orginal]",
   "language": "python",
   "name": "conda-env-ml4t_orginal-py"
  },
  "language_info": {
   "codemirror_mode": {
    "name": "ipython",
    "version": 3
   },
   "file_extension": ".py",
   "mimetype": "text/x-python",
   "name": "python",
   "nbconvert_exporter": "python",
   "pygments_lexer": "ipython3",
   "version": "3.8.8"
  }
 },
 "nbformat": 4,
 "nbformat_minor": 4
}
