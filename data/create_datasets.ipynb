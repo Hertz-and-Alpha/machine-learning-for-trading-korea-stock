{
 "cells": [
  {
   "cell_type": "code",
   "execution_count": 1,
   "metadata": {},
   "outputs": [],
   "source": [
    "# finance datareader가 설치 안되어 있을시 실행\n",
    "# !pip install finance-datareader"
   ]
  },
  {
   "cell_type": "code",
   "execution_count": 2,
   "metadata": {},
   "outputs": [],
   "source": [
    "import os \n",
    "from pathlib import Path\n",
    "import numpy as np\n",
    "import pandas as pd\n",
    "import pandas_datareader.data as web\n",
    "import FinanceDataReader as fdr"
   ]
  },
  {
   "cell_type": "markdown",
   "metadata": {},
   "source": [
    "## 시가 총액과 데이터 가져오기"
   ]
  },
  {
   "cell_type": "code",
   "execution_count": 4,
   "metadata": {},
   "outputs": [
    {
     "name": "stderr",
     "output_type": "stream",
     "text": [
      "Cloning into 'marcap'...\n",
      "Updating files:  64% (24/37)\n",
      "Updating files:  67% (25/37)\n",
      "Updating files:  70% (26/37)\n",
      "Updating files:  72% (27/37)\n",
      "Updating files:  75% (28/37)\n",
      "Updating files:  78% (29/37)\n",
      "Updating files:  81% (30/37)\n",
      "Updating files:  83% (31/37)\n",
      "Updating files:  86% (32/37)\n",
      "Updating files:  89% (33/37)\n",
      "Updating files:  91% (34/37)\n",
      "Updating files:  94% (35/37)\n",
      "Updating files:  97% (36/37)\n",
      "Updating files: 100% (37/37)\n",
      "Updating files: 100% (37/37), done.\n"
     ]
    }
   ],
   "source": [
    "# 처음 실행시만 한번 돌려보기\n",
    "# !git clone \"https://github.com/FinanceData/marcap.git\" marcap"
   ]
  },
  {
   "cell_type": "code",
   "execution_count": 4,
   "metadata": {},
   "outputs": [],
   "source": [
    "idx = pd.IndexSlice"
   ]
  },
  {
   "cell_type": "code",
   "execution_count": 5,
   "metadata": {},
   "outputs": [],
   "source": [
    "data_path = Path('marcap', 'data')"
   ]
  },
  {
   "cell_type": "code",
   "execution_count": 6,
   "metadata": {},
   "outputs": [],
   "source": [
    "file_list = os.listdir(data_path)"
   ]
  },
  {
   "cell_type": "code",
   "execution_count": 7,
   "metadata": {},
   "outputs": [
    {
     "name": "stderr",
     "output_type": "stream",
     "text": [
      "C:\\Users\\PC\\anaconda3\\envs\\ml4t_orginal\\lib\\site-packages\\IPython\\core\\interactiveshell.py:3165: DtypeWarning: Columns (3) have mixed types.Specify dtype option on import or set low_memory=False.\n",
      "  has_raised = await self.run_ast_nodes(code_ast.body, cell_name,\n"
     ]
    }
   ],
   "source": [
    "data_list = []\n",
    "for file in file_list:\n",
    "    file_path = data_path / file \n",
    "    data = pd.read_csv(file_path, dtype={'Code':str}, parse_dates=['Date'])\n",
    "    data_list.append(data) "
   ]
  },
  {
   "cell_type": "code",
   "execution_count": 8,
   "metadata": {},
   "outputs": [],
   "source": [
    "data = pd.concat(data_list)"
   ]
  },
  {
   "cell_type": "code",
   "execution_count": 9,
   "metadata": {},
   "outputs": [
    {
     "name": "stderr",
     "output_type": "stream",
     "text": [
      "C:\\Users\\PC\\anaconda3\\envs\\ml4t_orginal\\lib\\site-packages\\pandas\\core\\frame.py:4441: SettingWithCopyWarning: \n",
      "A value is trying to be set on a copy of a slice from a DataFrame\n",
      "\n",
      "See the caveats in the documentation: https://pandas.pydata.org/pandas-docs/stable/user_guide/indexing.html#returning-a-view-versus-a-copy\n",
      "  return super().rename(\n"
     ]
    }
   ],
   "source": [
    "# KOSPI 종목만 출력\n",
    "kospi_data = data[data.Market == 'KOSPI']\n",
    "kospi_data.rename(columns=str.lower, inplace=True)\n",
    "\n",
    "kospi_data = kospi_data[['code','close','open', 'high', 'low', 'volume', 'amount', 'marcap','date', 'stocks']]\n",
    "kospi_data.rename(columns={'code': 'ticker'}, inplace=True)"
   ]
  },
  {
   "cell_type": "code",
   "execution_count": 10,
   "metadata": {
    "scrolled": true
   },
   "outputs": [
    {
     "data": {
      "text/html": [
       "<div>\n",
       "<style scoped>\n",
       "    .dataframe tbody tr th:only-of-type {\n",
       "        vertical-align: middle;\n",
       "    }\n",
       "\n",
       "    .dataframe tbody tr th {\n",
       "        vertical-align: top;\n",
       "    }\n",
       "\n",
       "    .dataframe thead th {\n",
       "        text-align: right;\n",
       "    }\n",
       "</style>\n",
       "<table border=\"1\" class=\"dataframe\">\n",
       "  <thead>\n",
       "    <tr style=\"text-align: right;\">\n",
       "      <th></th>\n",
       "      <th>ticker</th>\n",
       "      <th>close</th>\n",
       "      <th>open</th>\n",
       "      <th>high</th>\n",
       "      <th>low</th>\n",
       "      <th>volume</th>\n",
       "      <th>amount</th>\n",
       "      <th>marcap</th>\n",
       "      <th>date</th>\n",
       "      <th>stocks</th>\n",
       "    </tr>\n",
       "  </thead>\n",
       "  <tbody>\n",
       "    <tr>\n",
       "      <th>0</th>\n",
       "      <td>015760</td>\n",
       "      <td>27400.0</td>\n",
       "      <td>27600.0</td>\n",
       "      <td>27800.0</td>\n",
       "      <td>27400.0</td>\n",
       "      <td>118190.0</td>\n",
       "      <td>3.255694e+09</td>\n",
       "      <td>1.687268e+13</td>\n",
       "      <td>1995-05-02</td>\n",
       "      <td>615791215</td>\n",
       "    </tr>\n",
       "    <tr>\n",
       "      <th>1</th>\n",
       "      <td>005930</td>\n",
       "      <td>119500.0</td>\n",
       "      <td>121000.0</td>\n",
       "      <td>121000.0</td>\n",
       "      <td>118500.0</td>\n",
       "      <td>139560.0</td>\n",
       "      <td>1.667674e+10</td>\n",
       "      <td>6.497053e+12</td>\n",
       "      <td>1995-05-02</td>\n",
       "      <td>54368645</td>\n",
       "    </tr>\n",
       "    <tr>\n",
       "      <th>2</th>\n",
       "      <td>005490</td>\n",
       "      <td>65500.0</td>\n",
       "      <td>65800.0</td>\n",
       "      <td>66200.0</td>\n",
       "      <td>65400.0</td>\n",
       "      <td>65970.0</td>\n",
       "      <td>4.334472e+09</td>\n",
       "      <td>6.150569e+12</td>\n",
       "      <td>1995-05-02</td>\n",
       "      <td>93901810</td>\n",
       "    </tr>\n",
       "    <tr>\n",
       "      <th>3</th>\n",
       "      <td>000200</td>\n",
       "      <td>9800.0</td>\n",
       "      <td>9500.0</td>\n",
       "      <td>9840.0</td>\n",
       "      <td>9500.0</td>\n",
       "      <td>288380.0</td>\n",
       "      <td>2.805134e+09</td>\n",
       "      <td>3.500639e+12</td>\n",
       "      <td>1995-05-02</td>\n",
       "      <td>357208059</td>\n",
       "    </tr>\n",
       "    <tr>\n",
       "      <th>4</th>\n",
       "      <td>002610</td>\n",
       "      <td>31700.0</td>\n",
       "      <td>32000.0</td>\n",
       "      <td>32000.0</td>\n",
       "      <td>31700.0</td>\n",
       "      <td>171460.0</td>\n",
       "      <td>5.452050e+09</td>\n",
       "      <td>2.521027e+12</td>\n",
       "      <td>1995-05-02</td>\n",
       "      <td>79527666</td>\n",
       "    </tr>\n",
       "    <tr>\n",
       "      <th>...</th>\n",
       "      <td>...</td>\n",
       "      <td>...</td>\n",
       "      <td>...</td>\n",
       "      <td>...</td>\n",
       "      <td>...</td>\n",
       "      <td>...</td>\n",
       "      <td>...</td>\n",
       "      <td>...</td>\n",
       "      <td>...</td>\n",
       "      <td>...</td>\n",
       "    </tr>\n",
       "    <tr>\n",
       "      <th>215875</th>\n",
       "      <td>00781K</td>\n",
       "      <td>9340.0</td>\n",
       "      <td>9470.0</td>\n",
       "      <td>9750.0</td>\n",
       "      <td>9300.0</td>\n",
       "      <td>23910.0</td>\n",
       "      <td>2.252896e+08</td>\n",
       "      <td>7.319749e+09</td>\n",
       "      <td>2021-05-13</td>\n",
       "      <td>783699</td>\n",
       "    </tr>\n",
       "    <tr>\n",
       "      <th>215881</th>\n",
       "      <td>009275</td>\n",
       "      <td>75400.0</td>\n",
       "      <td>54200.0</td>\n",
       "      <td>75400.0</td>\n",
       "      <td>54200.0</td>\n",
       "      <td>36543.0</td>\n",
       "      <td>2.554918e+09</td>\n",
       "      <td>6.841796e+09</td>\n",
       "      <td>2021-05-13</td>\n",
       "      <td>90740</td>\n",
       "    </tr>\n",
       "    <tr>\n",
       "      <th>215885</th>\n",
       "      <td>002785</td>\n",
       "      <td>7370.0</td>\n",
       "      <td>7300.0</td>\n",
       "      <td>7600.0</td>\n",
       "      <td>7300.0</td>\n",
       "      <td>68308.0</td>\n",
       "      <td>5.174193e+08</td>\n",
       "      <td>6.317697e+09</td>\n",
       "      <td>2021-05-13</td>\n",
       "      <td>857218</td>\n",
       "    </tr>\n",
       "    <tr>\n",
       "      <th>215890</th>\n",
       "      <td>000547</td>\n",
       "      <td>33650.0</td>\n",
       "      <td>35000.0</td>\n",
       "      <td>36150.0</td>\n",
       "      <td>33550.0</td>\n",
       "      <td>14229.0</td>\n",
       "      <td>4.910638e+08</td>\n",
       "      <td>5.168640e+09</td>\n",
       "      <td>2021-05-13</td>\n",
       "      <td>153600</td>\n",
       "    </tr>\n",
       "    <tr>\n",
       "      <th>215894</th>\n",
       "      <td>002787</td>\n",
       "      <td>15400.0</td>\n",
       "      <td>15100.0</td>\n",
       "      <td>15900.0</td>\n",
       "      <td>15100.0</td>\n",
       "      <td>67813.0</td>\n",
       "      <td>1.067462e+09</td>\n",
       "      <td>4.540043e+09</td>\n",
       "      <td>2021-05-13</td>\n",
       "      <td>294808</td>\n",
       "    </tr>\n",
       "  </tbody>\n",
       "</table>\n",
       "<p>5721274 rows × 10 columns</p>\n",
       "</div>"
      ],
      "text/plain": [
       "        ticker     close      open      high       low    volume  \\\n",
       "0       015760   27400.0   27600.0   27800.0   27400.0  118190.0   \n",
       "1       005930  119500.0  121000.0  121000.0  118500.0  139560.0   \n",
       "2       005490   65500.0   65800.0   66200.0   65400.0   65970.0   \n",
       "3       000200    9800.0    9500.0    9840.0    9500.0  288380.0   \n",
       "4       002610   31700.0   32000.0   32000.0   31700.0  171460.0   \n",
       "...        ...       ...       ...       ...       ...       ...   \n",
       "215875  00781K    9340.0    9470.0    9750.0    9300.0   23910.0   \n",
       "215881  009275   75400.0   54200.0   75400.0   54200.0   36543.0   \n",
       "215885  002785    7370.0    7300.0    7600.0    7300.0   68308.0   \n",
       "215890  000547   33650.0   35000.0   36150.0   33550.0   14229.0   \n",
       "215894  002787   15400.0   15100.0   15900.0   15100.0   67813.0   \n",
       "\n",
       "              amount        marcap       date     stocks  \n",
       "0       3.255694e+09  1.687268e+13 1995-05-02  615791215  \n",
       "1       1.667674e+10  6.497053e+12 1995-05-02   54368645  \n",
       "2       4.334472e+09  6.150569e+12 1995-05-02   93901810  \n",
       "3       2.805134e+09  3.500639e+12 1995-05-02  357208059  \n",
       "4       5.452050e+09  2.521027e+12 1995-05-02   79527666  \n",
       "...              ...           ...        ...        ...  \n",
       "215875  2.252896e+08  7.319749e+09 2021-05-13     783699  \n",
       "215881  2.554918e+09  6.841796e+09 2021-05-13      90740  \n",
       "215885  5.174193e+08  6.317697e+09 2021-05-13     857218  \n",
       "215890  4.910638e+08  5.168640e+09 2021-05-13     153600  \n",
       "215894  1.067462e+09  4.540043e+09 2021-05-13     294808  \n",
       "\n",
       "[5721274 rows x 10 columns]"
      ]
     },
     "execution_count": 10,
     "metadata": {},
     "output_type": "execute_result"
    }
   ],
   "source": [
    "kospi_data"
   ]
  },
  {
   "cell_type": "code",
   "execution_count": 11,
   "metadata": {},
   "outputs": [],
   "source": [
    "kospi_data = kospi_data.groupby(['date', 'ticker']).last()"
   ]
  },
  {
   "cell_type": "markdown",
   "metadata": {},
   "source": [
    "## ETF, 우선주 제외한 KOSPI 종목 데이터 가져오기"
   ]
  },
  {
   "cell_type": "code",
   "execution_count": 12,
   "metadata": {},
   "outputs": [],
   "source": [
    "kospi = fdr.StockListing('Kospi')"
   ]
  },
  {
   "cell_type": "code",
   "execution_count": 13,
   "metadata": {},
   "outputs": [],
   "source": [
    "kospi.dropna(subset=['Sector'], inplace=True)"
   ]
  },
  {
   "cell_type": "code",
   "execution_count": 14,
   "metadata": {},
   "outputs": [],
   "source": [
    "ticker = kospi.Symbol"
   ]
  },
  {
   "cell_type": "code",
   "execution_count": 15,
   "metadata": {},
   "outputs": [],
   "source": [
    "# 우선주, ETF 제외하고 남은 종목들 추출\n",
    "# 이 테스크는 시간이 오래걸립니다.\n",
    "kospi_data = kospi_data.loc[idx[:, ticker],:]"
   ]
  },
  {
   "cell_type": "code",
   "execution_count": 16,
   "metadata": {},
   "outputs": [],
   "source": [
    "kospi_data = kospi_data.reorder_levels(['date','ticker']).sort_index()"
   ]
  },
  {
   "cell_type": "markdown",
   "metadata": {},
   "source": [
    "## ETF, 우선주가 제외돼서 시가총액 순위를 다시 구해줘야 된다."
   ]
  },
  {
   "cell_type": "code",
   "execution_count": 17,
   "metadata": {},
   "outputs": [],
   "source": [
    "marcap_data = kospi_data['marcap'].to_frame()"
   ]
  },
  {
   "cell_type": "code",
   "execution_count": 18,
   "metadata": {},
   "outputs": [],
   "source": [
    "marcap_data = marcap_data.unstack('date')"
   ]
  },
  {
   "cell_type": "code",
   "execution_count": 19,
   "metadata": {},
   "outputs": [],
   "source": [
    "rank_data = marcap_data.rank(ascending=False)"
   ]
  },
  {
   "cell_type": "code",
   "execution_count": 20,
   "metadata": {},
   "outputs": [],
   "source": [
    "rank_data.rename(columns={'marcap':'rank'}, inplace=True)"
   ]
  },
  {
   "cell_type": "code",
   "execution_count": 21,
   "metadata": {},
   "outputs": [],
   "source": [
    "kospi_data = kospi_data.unstack('date')"
   ]
  },
  {
   "cell_type": "code",
   "execution_count": 22,
   "metadata": {},
   "outputs": [],
   "source": [
    "kospi_data = pd.concat([kospi_data, rank_data], axis=1)"
   ]
  },
  {
   "cell_type": "code",
   "execution_count": 23,
   "metadata": {},
   "outputs": [],
   "source": [
    "kospi_data = kospi_data.stack('date')"
   ]
  },
  {
   "cell_type": "markdown",
   "metadata": {},
   "source": [
    "## 데이터 타입 변경으로 데이터 프레임 메모리 최소화"
   ]
  },
  {
   "cell_type": "code",
   "execution_count": 24,
   "metadata": {},
   "outputs": [],
   "source": [
    "# rank도 타입을 정해줘서 메모리 최소화\n",
    "kospi_data = kospi_data.astype({'close':'int32', 'high':'int32', 'low':'int32', 'open':'int32', 'volume':'int32', 'stocks':'int64', 'amount':'int64', 'marcap':'int64', 'rank':'int16'})"
   ]
  },
  {
   "cell_type": "code",
   "execution_count": 25,
   "metadata": {},
   "outputs": [],
   "source": [
    "kospi_data = kospi_data.reorder_levels(['date','ticker']).sort_index()"
   ]
  },
  {
   "cell_type": "markdown",
   "metadata": {},
   "source": [
    "## 수정 종가 계산"
   ]
  },
  {
   "cell_type": "code",
   "execution_count": 26,
   "metadata": {},
   "outputs": [],
   "source": [
    "close_data = kospi_data['close'].unstack('ticker')"
   ]
  },
  {
   "cell_type": "code",
   "execution_count": 27,
   "metadata": {},
   "outputs": [],
   "source": [
    "stock_data = kospi_data['stocks'].unstack('ticker')"
   ]
  },
  {
   "cell_type": "code",
   "execution_count": 28,
   "metadata": {},
   "outputs": [],
   "source": [
    "lag_stock_data = stock_data.iloc[-1].to_frame().T"
   ]
  },
  {
   "cell_type": "code",
   "execution_count": 29,
   "metadata": {},
   "outputs": [],
   "source": [
    "adj_close_data = close_data * (stock_data / lag_stock_data.iloc[0])"
   ]
  },
  {
   "cell_type": "code",
   "execution_count": 30,
   "metadata": {},
   "outputs": [],
   "source": [
    "kospi_data['adj_close'] = adj_close_data.stack('ticker')"
   ]
  },
  {
   "cell_type": "markdown",
   "metadata": {},
   "source": [
    "## 수정 시가 계산"
   ]
  },
  {
   "cell_type": "markdown",
   "metadata": {},
   "source": [
    "+ 계산 방법은 가격이 1000원이던 주식 100주가 액면분활해서 최근에 10050원 10주가 되었다.\n",
    "    - (과거 보통주 / 최근 보통주) * 가격\n",
    "    - e.g) (100 / 10) * 1000 = 10000"
   ]
  },
  {
   "cell_type": "code",
   "execution_count": 31,
   "metadata": {},
   "outputs": [],
   "source": [
    "open_data = kospi_data['open'].unstack('ticker')"
   ]
  },
  {
   "cell_type": "code",
   "execution_count": 32,
   "metadata": {},
   "outputs": [],
   "source": [
    "adj_open_data = open_data * (stock_data / lag_stock_data.iloc[0])"
   ]
  },
  {
   "cell_type": "code",
   "execution_count": 33,
   "metadata": {},
   "outputs": [],
   "source": [
    "kospi_data['adj_open'] = adj_open_data.stack('ticker')"
   ]
  },
  {
   "cell_type": "markdown",
   "metadata": {},
   "source": [
    "## 수정 고가 계산"
   ]
  },
  {
   "cell_type": "code",
   "execution_count": 34,
   "metadata": {},
   "outputs": [],
   "source": [
    "high_data = kospi_data['high'].unstack('ticker')\n",
    "adj_high_data = high_data * (stock_data / lag_stock_data.iloc[0])\n",
    "kospi_data['adj_high'] = adj_high_data.stack('ticker')"
   ]
  },
  {
   "cell_type": "markdown",
   "metadata": {},
   "source": [
    "## 수정 저가 계산"
   ]
  },
  {
   "cell_type": "code",
   "execution_count": 35,
   "metadata": {},
   "outputs": [],
   "source": [
    "low_data = kospi_data['low'].unstack('ticker')\n",
    "adj_low_data = low_data * (stock_data / lag_stock_data.iloc[0])\n",
    "kospi_data['adj_low'] = adj_low_data.stack('ticker')"
   ]
  },
  {
   "cell_type": "markdown",
   "metadata": {},
   "source": [
    "## 수정 거래량"
   ]
  },
  {
   "cell_type": "code",
   "execution_count": 36,
   "metadata": {},
   "outputs": [],
   "source": [
    "volume_data = kospi_data['volume'].unstack('ticker')\n",
    "adj_volume_data = volume_data * (lag_stock_data.iloc[0] / stock_data)\n",
    "kospi_data['adj_volume'] = adj_volume_data.stack('ticker')"
   ]
  },
  {
   "cell_type": "markdown",
   "metadata": {},
   "source": [
    "#### 삼성전자를 기준으로 제대로 계산되었는지 Plot"
   ]
  },
  {
   "cell_type": "code",
   "execution_count": 37,
   "metadata": {},
   "outputs": [],
   "source": [
    "samsung_data = kospi_data.loc[idx[:,'005930'], :]"
   ]
  },
  {
   "cell_type": "code",
   "execution_count": 38,
   "metadata": {},
   "outputs": [],
   "source": [
    "col_list = ['adj_open', 'adj_close', 'adj_low', 'adj_high', 'adj_volume']"
   ]
  },
  {
   "cell_type": "code",
   "execution_count": 39,
   "metadata": {},
   "outputs": [],
   "source": [
    "def plot(column_name: str):\n",
    "    x = samsung_data.index.get_level_values(0)\n",
    "    y = samsung_data[column_name]\n",
    "    plt.plot(x, y)\n",
    "    plt.show()"
   ]
  },
  {
   "cell_type": "code",
   "execution_count": 40,
   "metadata": {
    "scrolled": true
   },
   "outputs": [
    {
     "data": {
      "image/png": "[encoded data removed]",
      "text/plain": [
       "<Figure size 432x288 with 2 Axes>"
      ]
     },
     "metadata": {
      "needs_background": "light"
     },
     "output_type": "display_data"
    },
    {
     "name": "stderr",
     "output_type": "stream",
     "text": [
      "No handles with labels found to put in legend.\n"
     ]
    },
    {
     "data": {
      "image/png": "[encoded data removed]",
      "text/plain": [
       "<Figure size 432x288 with 2 Axes>"
      ]
     },
     "metadata": {
      "needs_background": "light"
     },
     "output_type": "display_data"
    }
   ],
   "source": [
    "import matplotlib.pyplot as plt\n",
    "\n",
    "x = samsung_data.index.get_level_values(0)\n",
    "y = samsung_data['close']\n",
    "plt.subplot(2,2,1)\n",
    "plt.plot(x, y)\n",
    "plt.title('close')\n",
    "\n",
    "y = samsung_data['volume']\n",
    "plt.subplot(2,2,2)\n",
    "plt.plot(x, y)\n",
    "plt.title('volume')\n",
    "plt.show()\n",
    "\n",
    "y = samsung_data['adj_close']\n",
    "plt.subplot(2,2,3)\n",
    "plt.plot(x, y)\n",
    "plt.title('adjust close')\n",
    "\n",
    "y = samsung_data['adj_volume']\n",
    "plt.subplot(2,2,4)\n",
    "plt.plot(x, y)\n",
    "plt.title('adjust volume')\n",
    "\n",
    "plt.legend()\n",
    "plt.show()"
   ]
  },
  {
   "cell_type": "markdown",
   "metadata": {},
   "source": [
    "## Data 저장 위치 설정"
   ]
  },
  {
   "cell_type": "code",
   "execution_count": 41,
   "metadata": {},
   "outputs": [],
   "source": [
    "DATA_STORE = Path('assets.h5')"
   ]
  },
  {
   "cell_type": "markdown",
   "metadata": {},
   "source": [
    "## 가격 데이터 저장"
   ]
  },
  {
   "cell_type": "code",
   "execution_count": 42,
   "metadata": {},
   "outputs": [],
   "source": [
    "with pd.HDFStore(DATA_STORE) as store:\n",
    "    store.put('finance_datareader/prices', kospi_data)"
   ]
  },
  {
   "cell_type": "markdown",
   "metadata": {},
   "source": [
    "## 회사 코드랑 이름 저장"
   ]
  },
  {
   "cell_type": "code",
   "execution_count": 43,
   "metadata": {},
   "outputs": [],
   "source": [
    "kospi_stock = kospi[['Symbol','Name']]"
   ]
  },
  {
   "cell_type": "code",
   "execution_count": 44,
   "metadata": {},
   "outputs": [],
   "source": [
    "kospi_stock.columns = ['code', 'name']"
   ]
  },
  {
   "cell_type": "code",
   "execution_count": 45,
   "metadata": {},
   "outputs": [],
   "source": [
    "kospi_stock.set_index('code', inplace=True)"
   ]
  },
  {
   "cell_type": "code",
   "execution_count": 46,
   "metadata": {},
   "outputs": [
    {
     "data": {
      "text/html": [
       "<div>\n",
       "<style scoped>\n",
       "    .dataframe tbody tr th:only-of-type {\n",
       "        vertical-align: middle;\n",
       "    }\n",
       "\n",
       "    .dataframe tbody tr th {\n",
       "        vertical-align: top;\n",
       "    }\n",
       "\n",
       "    .dataframe thead th {\n",
       "        text-align: right;\n",
       "    }\n",
       "</style>\n",
       "<table border=\"1\" class=\"dataframe\">\n",
       "  <thead>\n",
       "    <tr style=\"text-align: right;\">\n",
       "      <th></th>\n",
       "      <th>name</th>\n",
       "    </tr>\n",
       "    <tr>\n",
       "      <th>code</th>\n",
       "      <th></th>\n",
       "    </tr>\n",
       "  </thead>\n",
       "  <tbody>\n",
       "    <tr>\n",
       "      <th>095570</th>\n",
       "      <td>AJ네트웍스</td>\n",
       "    </tr>\n",
       "    <tr>\n",
       "      <th>006840</th>\n",
       "      <td>AK홀딩스</td>\n",
       "    </tr>\n",
       "    <tr>\n",
       "      <th>027410</th>\n",
       "      <td>BGF</td>\n",
       "    </tr>\n",
       "    <tr>\n",
       "      <th>282330</th>\n",
       "      <td>BGF리테일</td>\n",
       "    </tr>\n",
       "    <tr>\n",
       "      <th>138930</th>\n",
       "      <td>BNK금융지주</td>\n",
       "    </tr>\n",
       "    <tr>\n",
       "      <th>...</th>\n",
       "      <td>...</td>\n",
       "    </tr>\n",
       "    <tr>\n",
       "      <th>079980</th>\n",
       "      <td>휴비스</td>\n",
       "    </tr>\n",
       "    <tr>\n",
       "      <th>005010</th>\n",
       "      <td>휴스틸</td>\n",
       "    </tr>\n",
       "    <tr>\n",
       "      <th>069260</th>\n",
       "      <td>휴켐스</td>\n",
       "    </tr>\n",
       "    <tr>\n",
       "      <th>000540</th>\n",
       "      <td>흥국화재</td>\n",
       "    </tr>\n",
       "    <tr>\n",
       "      <th>003280</th>\n",
       "      <td>흥아해운</td>\n",
       "    </tr>\n",
       "  </tbody>\n",
       "</table>\n",
       "<p>807 rows × 1 columns</p>\n",
       "</div>"
      ],
      "text/plain": [
       "           name\n",
       "code           \n",
       "095570   AJ네트웍스\n",
       "006840    AK홀딩스\n",
       "027410      BGF\n",
       "282330   BGF리테일\n",
       "138930  BNK금융지주\n",
       "...         ...\n",
       "079980      휴비스\n",
       "005010      휴스틸\n",
       "069260      휴켐스\n",
       "000540     흥국화재\n",
       "003280     흥아해운\n",
       "\n",
       "[807 rows x 1 columns]"
      ]
     },
     "execution_count": 46,
     "metadata": {},
     "output_type": "execute_result"
    }
   ],
   "source": [
    "kospi_stock"
   ]
  },
  {
   "cell_type": "code",
   "execution_count": 47,
   "metadata": {},
   "outputs": [],
   "source": [
    "with pd.HDFStore(DATA_STORE) as store:\n",
    "    store.put('finance_datareader/stocks', kospi_stock)"
   ]
  },
  {
   "cell_type": "markdown",
   "metadata": {},
   "source": [
    "## BenchMark로 설정할 KOPSI 100 데이터"
   ]
  },
  {
   "cell_type": "code",
   "execution_count": 48,
   "metadata": {},
   "outputs": [],
   "source": [
    "kospi_100_price = fdr.DataReader('KS100')"
   ]
  },
  {
   "cell_type": "code",
   "execution_count": 49,
   "metadata": {},
   "outputs": [],
   "source": [
    "kospi_100_price.rename(columns=str.lower, inplace=True)"
   ]
  },
  {
   "cell_type": "code",
   "execution_count": 50,
   "metadata": {},
   "outputs": [],
   "source": [
    "kospi_100_price.index.names = ['date']"
   ]
  },
  {
   "cell_type": "code",
   "execution_count": 51,
   "metadata": {},
   "outputs": [],
   "source": [
    "with pd.HDFStore(DATA_STORE) as store:\n",
    "    store.put('finance_datareader/kospi100', kospi_100_price)"
   ]
  },
  {
   "cell_type": "markdown",
   "metadata": {},
   "source": [
    "## 코스피 회사 데이터 저장"
   ]
  },
  {
   "cell_type": "code",
   "execution_count": 52,
   "metadata": {},
   "outputs": [],
   "source": [
    "kospi.rename(columns=str.lower, inplace=True)\n",
    "kospi.set_index('symbol', inplace=True)"
   ]
  },
  {
   "cell_type": "code",
   "execution_count": 54,
   "metadata": {
    "scrolled": true
   },
   "outputs": [
    {
     "name": "stderr",
     "output_type": "stream",
     "text": [
      "C:\\Users\\PC\\anaconda3\\envs\\ml4t_orginal\\lib\\site-packages\\IPython\\core\\interactiveshell.py:3357: PerformanceWarning: \n",
      "your performance may suffer as PyTables will pickle object types that it cannot\n",
      "map directly to c-types [inferred_type->mixed,key->block1_values] [items->Index(['market', 'name', 'sector', 'industry', 'settlemonth', 'representative',\n",
      "       'homepage', 'region'],\n",
      "      dtype='object')]\n",
      "\n",
      "  if (await self.run_code(code, result,  async_=asy)):\n"
     ]
    }
   ],
   "source": [
    "with pd.HDFStore(DATA_STORE) as store:\n",
    "    store.put('kospi/stocks', kospi)"
   ]
  },
  {
   "cell_type": "code",
   "execution_count": null,
   "metadata": {},
   "outputs": [],
   "source": []
  }
 ],
 "metadata": {
  "kernelspec": {
   "display_name": "Python [conda env:ml4t_orginal]",
   "language": "python",
   "name": "conda-env-ml4t_orginal-py"
  },
  "language_info": {
   "codemirror_mode": {
    "name": "ipython",
    "version": 3
   },
   "file_extension": ".py",
   "mimetype": "text/x-python",
   "name": "python",
   "nbconvert_exporter": "python",
   "pygments_lexer": "ipython3",
   "version": "3.8.8"
  }
 },
 "nbformat": 4,
 "nbformat_minor": 4
}
