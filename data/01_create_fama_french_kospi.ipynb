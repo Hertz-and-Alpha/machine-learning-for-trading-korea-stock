{
 "cells": [
  {
   "cell_type": "markdown",
   "metadata": {},
   "source": [
    "## create_datasets를 먼저 돌리고 실행"
   ]
  },
  {
   "cell_type": "code",
   "execution_count": 1,
   "metadata": {},
   "outputs": [],
   "source": [
    "import pandas as pd\n",
    "import matplotlib.pyplot as plt\n",
    "from pathlib import Path\n",
    "import numpy as np\n",
    "import pandas_datareader as pdr \n",
    "import FinanceDataReader as fdr"
   ]
  },
  {
   "cell_type": "markdown",
   "metadata": {},
   "source": [
    "# Fama - French 5요인\n",
    "- 참고 논문: http://kiss.kstudy.com/thesis/thesis-view.asp?key=3450399"
   ]
  },
  {
   "cell_type": "markdown",
   "metadata": {},
   "source": [
    "## Size 요소 가져오기"
   ]
  },
  {
   "cell_type": "code",
   "execution_count": 2,
   "metadata": {},
   "outputs": [],
   "source": [
    "idx = pd.IndexSlice"
   ]
  },
  {
   "cell_type": "code",
   "execution_count": 3,
   "metadata": {},
   "outputs": [],
   "source": [
    "stock_data = pd.read_hdf('assets.h5', 'finance_datareader/prices')\n",
    "market_cap_rank_data = stock_data[['adj_marcap', 'rank']]"
   ]
  },
  {
   "cell_type": "code",
   "execution_count": 4,
   "metadata": {},
   "outputs": [],
   "source": [
    "total_asset = pd.read_csv('IFRS/TotalAssets.csv', encoding='CP949')"
   ]
  },
  {
   "cell_type": "code",
   "execution_count": 5,
   "metadata": {},
   "outputs": [],
   "source": [
    "# 종목코드를 6자리로 맞춰줌 -> 파이썬 고질병 '000660'을 숫자로 자동 인식하면 앞의 000을 날려버림 이거를 string으로 변경해서 복구\n",
    "ticker = total_asset['거래소코드'].apply(\"{0:0>6}\".format)"
   ]
  },
  {
   "cell_type": "code",
   "execution_count": 6,
   "metadata": {},
   "outputs": [],
   "source": [
    "# 금융업 제외한 재무제표랑 market cap 데이터랑 겹치는 종목 추출\n",
    "intersect_ticker = market_cap_rank_data.unstack('date').index.intersection(ticker)"
   ]
  },
  {
   "cell_type": "code",
   "execution_count": 7,
   "metadata": {},
   "outputs": [],
   "source": [
    "size_factor = (market_cap_rank_data\n",
    "                .unstack('date')\n",
    "                .loc[intersect_ticker,:].stack('date')\n",
    "                .reorder_levels(['date','ticker'])\n",
    "                .sort_index())"
   ]
  },
  {
   "cell_type": "code",
   "execution_count": 8,
   "metadata": {},
   "outputs": [],
   "source": [
    "size_factor = size_factor.astype('float64')"
   ]
  },
  {
   "cell_type": "code",
   "execution_count": 9,
   "metadata": {},
   "outputs": [],
   "source": [
    "# 월별로 시가총액 순위를 구하고 6월달 시가총액 순위만 출력\n",
    "month_rank = size_factor['adj_marcap'].unstack('ticker').resample('M').last().rank(axis=1)\n",
    "six_month_rank = month_rank[month_rank.index.month == 6].stack('ticker').to_frame()\n",
    "six_month_rank = six_month_rank.rename(columns={0:'rank'})\n",
    "six_month_rank = six_month_rank.astype('int32')"
   ]
  },
  {
   "cell_type": "code",
   "execution_count": 10,
   "metadata": {},
   "outputs": [],
   "source": [
    "# Monthly Period로 변경\n",
    "six_month_rank.index = six_month_rank.index.set_levels(six_month_rank.index.levels[0].to_period('M'), level=0)"
   ]
  },
  {
   "cell_type": "code",
   "execution_count": 11,
   "metadata": {},
   "outputs": [
    {
     "data": {
      "text/html": [
       "<div>\n",
       "<style scoped>\n",
       "    .dataframe tbody tr th:only-of-type {\n",
       "        vertical-align: middle;\n",
       "    }\n",
       "\n",
       "    .dataframe tbody tr th {\n",
       "        vertical-align: top;\n",
       "    }\n",
       "\n",
       "    .dataframe thead th {\n",
       "        text-align: right;\n",
       "    }\n",
       "</style>\n",
       "<table border=\"1\" class=\"dataframe\">\n",
       "  <thead>\n",
       "    <tr style=\"text-align: right;\">\n",
       "      <th></th>\n",
       "      <th></th>\n",
       "      <th>adj_marcap</th>\n",
       "      <th>rank</th>\n",
       "    </tr>\n",
       "    <tr>\n",
       "      <th>date</th>\n",
       "      <th>ticker</th>\n",
       "      <th></th>\n",
       "      <th></th>\n",
       "    </tr>\n",
       "  </thead>\n",
       "  <tbody>\n",
       "    <tr>\n",
       "      <th>1997-04-21</th>\n",
       "      <th>005190</th>\n",
       "      <td>NaN</td>\n",
       "      <td>164.0</td>\n",
       "    </tr>\n",
       "    <tr>\n",
       "      <th>1997-04-22</th>\n",
       "      <th>005190</th>\n",
       "      <td>NaN</td>\n",
       "      <td>164.0</td>\n",
       "    </tr>\n",
       "    <tr>\n",
       "      <th>1997-04-23</th>\n",
       "      <th>005190</th>\n",
       "      <td>NaN</td>\n",
       "      <td>166.0</td>\n",
       "    </tr>\n",
       "    <tr>\n",
       "      <th>1997-04-24</th>\n",
       "      <th>005190</th>\n",
       "      <td>NaN</td>\n",
       "      <td>164.0</td>\n",
       "    </tr>\n",
       "    <tr>\n",
       "      <th>1997-04-25</th>\n",
       "      <th>005190</th>\n",
       "      <td>NaN</td>\n",
       "      <td>165.0</td>\n",
       "    </tr>\n",
       "  </tbody>\n",
       "</table>\n",
       "</div>"
      ],
      "text/plain": [
       "                   adj_marcap   rank\n",
       "date       ticker                   \n",
       "1997-04-21 005190         NaN  164.0\n",
       "1997-04-22 005190         NaN  164.0\n",
       "1997-04-23 005190         NaN  166.0\n",
       "1997-04-24 005190         NaN  164.0\n",
       "1997-04-25 005190         NaN  165.0"
      ]
     },
     "execution_count": 11,
     "metadata": {},
     "output_type": "execute_result"
    }
   ],
   "source": [
    "# 일자별 시가총액 순위 데이터\n",
    "size_factor.head(5)"
   ]
  },
  {
   "cell_type": "code",
   "execution_count": 12,
   "metadata": {},
   "outputs": [
    {
     "data": {
      "text/html": [
       "<div>\n",
       "<style scoped>\n",
       "    .dataframe tbody tr th:only-of-type {\n",
       "        vertical-align: middle;\n",
       "    }\n",
       "\n",
       "    .dataframe tbody tr th {\n",
       "        vertical-align: top;\n",
       "    }\n",
       "\n",
       "    .dataframe thead th {\n",
       "        text-align: right;\n",
       "    }\n",
       "</style>\n",
       "<table border=\"1\" class=\"dataframe\">\n",
       "  <thead>\n",
       "    <tr style=\"text-align: right;\">\n",
       "      <th></th>\n",
       "      <th></th>\n",
       "      <th>rank</th>\n",
       "    </tr>\n",
       "    <tr>\n",
       "      <th>date</th>\n",
       "      <th>ticker</th>\n",
       "      <th></th>\n",
       "    </tr>\n",
       "  </thead>\n",
       "  <tbody>\n",
       "    <tr>\n",
       "      <th rowspan=\"5\" valign=\"top\">1997-06</th>\n",
       "      <th>000020</th>\n",
       "      <td>218</td>\n",
       "    </tr>\n",
       "    <tr>\n",
       "      <th>000040</th>\n",
       "      <td>365</td>\n",
       "    </tr>\n",
       "    <tr>\n",
       "      <th>000050</th>\n",
       "      <td>169</td>\n",
       "    </tr>\n",
       "    <tr>\n",
       "      <th>000070</th>\n",
       "      <td>213</td>\n",
       "    </tr>\n",
       "    <tr>\n",
       "      <th>000100</th>\n",
       "      <td>229</td>\n",
       "    </tr>\n",
       "  </tbody>\n",
       "</table>\n",
       "</div>"
      ],
      "text/plain": [
       "                rank\n",
       "date    ticker      \n",
       "1997-06 000020   218\n",
       "        000040   365\n",
       "        000050   169\n",
       "        000070   213\n",
       "        000100   229"
      ]
     },
     "execution_count": 12,
     "metadata": {},
     "output_type": "execute_result"
    }
   ],
   "source": [
    "six_month_rank.head(5)"
   ]
  },
  {
   "cell_type": "markdown",
   "metadata": {},
   "source": [
    "## B/M Book to Market Ratio 구하기\n",
    "- 시가총액은 연도 말을 기준으로 한다.\n",
    "- 재무제표는 사업보고서이고 공시 날짜는 6월 1일로 통일한다."
   ]
  },
  {
   "cell_type": "code",
   "execution_count": 13,
   "metadata": {},
   "outputs": [],
   "source": [
    "def get_ifrs_data(data_path: str):\n",
    "    data = pd.read_csv(data_path, encoding='CP949')\n",
    "    data.fillna(0, inplace=True)\n",
    "    data['거래소코드'] = data['거래소코드'].apply(\"{0:0>6}\".format)\n",
    "    data['회계년도'] = pd.to_datetime(data['회계년도'])\n",
    "    data = data.set_index(['회계년도','거래소코드']).sort_index()\n",
    "    # 회계년도 안맞는 것들 resample을 이용해 연말로 회계년도 통일\n",
    "    data = data.unstack('거래소코드').resample('Y').last().stack('거래소코드')\n",
    "    data.index = data.index.set_levels(data.index.levels[0].to_period('M'), level=0)\n",
    "    col_list = data.columns\n",
    "    \n",
    "    # 2007년 부터 IFRS 회계방식 도입으로 그전 년도에는 전 회계기준을 적용\n",
    "    before_ifrs = data.loc[idx[:'2006',:],:][col_list[-2]]\n",
    "    after_ifrs = data.loc[idx['2007':,:],:][col_list[-1]]\n",
    "    data = pd.concat([before_ifrs, after_ifrs]).to_frame()\n",
    "    data.columns = [col_list[-2]]\n",
    "    data.index.names = ['date','ticker']\n",
    "    data.sort_index(inplace=True)\n",
    "    return data.copy()"
   ]
  },
  {
   "cell_type": "code",
   "execution_count": 14,
   "metadata": {},
   "outputs": [],
   "source": [
    "idx = pd.IndexSlice"
   ]
  },
  {
   "cell_type": "code",
   "execution_count": 15,
   "metadata": {},
   "outputs": [],
   "source": [
    "common_stock_capital = get_ifrs_data('IFRS/CommonStock.csv')"
   ]
  },
  {
   "cell_type": "code",
   "execution_count": 16,
   "metadata": {},
   "outputs": [
    {
     "data": {
      "text/html": [
       "<div>\n",
       "<style scoped>\n",
       "    .dataframe tbody tr th:only-of-type {\n",
       "        vertical-align: middle;\n",
       "    }\n",
       "\n",
       "    .dataframe tbody tr th {\n",
       "        vertical-align: top;\n",
       "    }\n",
       "\n",
       "    .dataframe thead th {\n",
       "        text-align: right;\n",
       "    }\n",
       "</style>\n",
       "<table border=\"1\" class=\"dataframe\">\n",
       "  <thead>\n",
       "    <tr style=\"text-align: right;\">\n",
       "      <th></th>\n",
       "      <th></th>\n",
       "      <th>보통주자본금(천원)</th>\n",
       "    </tr>\n",
       "    <tr>\n",
       "      <th>date</th>\n",
       "      <th>ticker</th>\n",
       "      <th></th>\n",
       "    </tr>\n",
       "  </thead>\n",
       "  <tbody>\n",
       "    <tr>\n",
       "      <th rowspan=\"5\" valign=\"top\">1981-12</th>\n",
       "      <th>000020</th>\n",
       "      <td>2808000.0</td>\n",
       "    </tr>\n",
       "    <tr>\n",
       "      <th>000040</th>\n",
       "      <td>3450000.0</td>\n",
       "    </tr>\n",
       "    <tr>\n",
       "      <th>000050</th>\n",
       "      <td>2400000.0</td>\n",
       "    </tr>\n",
       "    <tr>\n",
       "      <th>000070</th>\n",
       "      <td>9500000.0</td>\n",
       "    </tr>\n",
       "    <tr>\n",
       "      <th>000080</th>\n",
       "      <td>3000000.0</td>\n",
       "    </tr>\n",
       "    <tr>\n",
       "      <th>...</th>\n",
       "      <th>...</th>\n",
       "      <td>...</td>\n",
       "    </tr>\n",
       "    <tr>\n",
       "      <th rowspan=\"5\" valign=\"top\">2020-12</th>\n",
       "      <th>363280</th>\n",
       "      <td>18750451.0</td>\n",
       "    </tr>\n",
       "    <tr>\n",
       "      <th>375500</th>\n",
       "      <td>0.0</td>\n",
       "    </tr>\n",
       "    <tr>\n",
       "      <th>378850</th>\n",
       "      <td>0.0</td>\n",
       "    </tr>\n",
       "    <tr>\n",
       "      <th>900140</th>\n",
       "      <td>0.0</td>\n",
       "    </tr>\n",
       "    <tr>\n",
       "      <th>950210</th>\n",
       "      <td>152779419.0</td>\n",
       "    </tr>\n",
       "  </tbody>\n",
       "</table>\n",
       "<p>20876 rows × 1 columns</p>\n",
       "</div>"
      ],
      "text/plain": [
       "                 보통주자본금(천원)\n",
       "date    ticker             \n",
       "1981-12 000020    2808000.0\n",
       "        000040    3450000.0\n",
       "        000050    2400000.0\n",
       "        000070    9500000.0\n",
       "        000080    3000000.0\n",
       "...                     ...\n",
       "2020-12 363280   18750451.0\n",
       "        375500          0.0\n",
       "        378850          0.0\n",
       "        900140          0.0\n",
       "        950210  152779419.0\n",
       "\n",
       "[20876 rows x 1 columns]"
      ]
     },
     "execution_count": 16,
     "metadata": {},
     "output_type": "execute_result"
    }
   ],
   "source": [
    "common_stock_capital"
   ]
  },
  {
   "cell_type": "code",
   "execution_count": 17,
   "metadata": {},
   "outputs": [],
   "source": [
    "capital_surplus = get_ifrs_data('IFRS/CapitalSurplus.csv')"
   ]
  },
  {
   "cell_type": "code",
   "execution_count": 18,
   "metadata": {},
   "outputs": [
    {
     "data": {
      "text/html": [
       "<div>\n",
       "<style scoped>\n",
       "    .dataframe tbody tr th:only-of-type {\n",
       "        vertical-align: middle;\n",
       "    }\n",
       "\n",
       "    .dataframe tbody tr th {\n",
       "        vertical-align: top;\n",
       "    }\n",
       "\n",
       "    .dataframe thead th {\n",
       "        text-align: right;\n",
       "    }\n",
       "</style>\n",
       "<table border=\"1\" class=\"dataframe\">\n",
       "  <thead>\n",
       "    <tr style=\"text-align: right;\">\n",
       "      <th></th>\n",
       "      <th></th>\n",
       "      <th>자본잉여금(*)(천원)</th>\n",
       "    </tr>\n",
       "    <tr>\n",
       "      <th>date</th>\n",
       "      <th>ticker</th>\n",
       "      <th></th>\n",
       "    </tr>\n",
       "  </thead>\n",
       "  <tbody>\n",
       "    <tr>\n",
       "      <th rowspan=\"5\" valign=\"top\">1981-12</th>\n",
       "      <th>000020</th>\n",
       "      <td>4410.0</td>\n",
       "    </tr>\n",
       "    <tr>\n",
       "      <th>000040</th>\n",
       "      <td>1903860.0</td>\n",
       "    </tr>\n",
       "    <tr>\n",
       "      <th>000050</th>\n",
       "      <td>12797820.0</td>\n",
       "    </tr>\n",
       "    <tr>\n",
       "      <th>000070</th>\n",
       "      <td>9538010.0</td>\n",
       "    </tr>\n",
       "    <tr>\n",
       "      <th>000080</th>\n",
       "      <td>8837667.0</td>\n",
       "    </tr>\n",
       "    <tr>\n",
       "      <th>...</th>\n",
       "      <th>...</th>\n",
       "      <td>...</td>\n",
       "    </tr>\n",
       "    <tr>\n",
       "      <th rowspan=\"5\" valign=\"top\">2020-12</th>\n",
       "      <th>363280</th>\n",
       "      <td>528596133.0</td>\n",
       "    </tr>\n",
       "    <tr>\n",
       "      <th>375500</th>\n",
       "      <td>0.0</td>\n",
       "    </tr>\n",
       "    <tr>\n",
       "      <th>378850</th>\n",
       "      <td>0.0</td>\n",
       "    </tr>\n",
       "    <tr>\n",
       "      <th>900140</th>\n",
       "      <td>0.0</td>\n",
       "    </tr>\n",
       "    <tr>\n",
       "      <th>950210</th>\n",
       "      <td>0.0</td>\n",
       "    </tr>\n",
       "  </tbody>\n",
       "</table>\n",
       "<p>20876 rows × 1 columns</p>\n",
       "</div>"
      ],
      "text/plain": [
       "                자본잉여금(*)(천원)\n",
       "date    ticker              \n",
       "1981-12 000020        4410.0\n",
       "        000040     1903860.0\n",
       "        000050    12797820.0\n",
       "        000070     9538010.0\n",
       "        000080     8837667.0\n",
       "...                      ...\n",
       "2020-12 363280   528596133.0\n",
       "        375500           0.0\n",
       "        378850           0.0\n",
       "        900140           0.0\n",
       "        950210           0.0\n",
       "\n",
       "[20876 rows x 1 columns]"
      ]
     },
     "execution_count": 18,
     "metadata": {},
     "output_type": "execute_result"
    }
   ],
   "source": [
    "capital_surplus"
   ]
  },
  {
   "cell_type": "code",
   "execution_count": 19,
   "metadata": {},
   "outputs": [],
   "source": [
    "retained_earnings = get_ifrs_data('IFRS/RetainedEarnings.csv')"
   ]
  },
  {
   "cell_type": "code",
   "execution_count": 20,
   "metadata": {},
   "outputs": [
    {
     "data": {
      "text/html": [
       "<div>\n",
       "<style scoped>\n",
       "    .dataframe tbody tr th:only-of-type {\n",
       "        vertical-align: middle;\n",
       "    }\n",
       "\n",
       "    .dataframe tbody tr th {\n",
       "        vertical-align: top;\n",
       "    }\n",
       "\n",
       "    .dataframe thead th {\n",
       "        text-align: right;\n",
       "    }\n",
       "</style>\n",
       "<table border=\"1\" class=\"dataframe\">\n",
       "  <thead>\n",
       "    <tr style=\"text-align: right;\">\n",
       "      <th></th>\n",
       "      <th></th>\n",
       "      <th>이익잉여금(*)(천원)</th>\n",
       "    </tr>\n",
       "    <tr>\n",
       "      <th>date</th>\n",
       "      <th>ticker</th>\n",
       "      <th></th>\n",
       "    </tr>\n",
       "  </thead>\n",
       "  <tbody>\n",
       "    <tr>\n",
       "      <th rowspan=\"5\" valign=\"top\">1981-12</th>\n",
       "      <th>000020</th>\n",
       "      <td>2567147.0</td>\n",
       "    </tr>\n",
       "    <tr>\n",
       "      <th>000040</th>\n",
       "      <td>343796.0</td>\n",
       "    </tr>\n",
       "    <tr>\n",
       "      <th>000050</th>\n",
       "      <td>0.0</td>\n",
       "    </tr>\n",
       "    <tr>\n",
       "      <th>000070</th>\n",
       "      <td>6452616.0</td>\n",
       "    </tr>\n",
       "    <tr>\n",
       "      <th>000080</th>\n",
       "      <td>1002994.0</td>\n",
       "    </tr>\n",
       "    <tr>\n",
       "      <th>...</th>\n",
       "      <th>...</th>\n",
       "      <td>...</td>\n",
       "    </tr>\n",
       "    <tr>\n",
       "      <th rowspan=\"5\" valign=\"top\">2020-12</th>\n",
       "      <th>363280</th>\n",
       "      <td>-2390485.0</td>\n",
       "    </tr>\n",
       "    <tr>\n",
       "      <th>375500</th>\n",
       "      <td>0.0</td>\n",
       "    </tr>\n",
       "    <tr>\n",
       "      <th>378850</th>\n",
       "      <td>0.0</td>\n",
       "    </tr>\n",
       "    <tr>\n",
       "      <th>900140</th>\n",
       "      <td>0.0</td>\n",
       "    </tr>\n",
       "    <tr>\n",
       "      <th>950210</th>\n",
       "      <td>-21560969.0</td>\n",
       "    </tr>\n",
       "  </tbody>\n",
       "</table>\n",
       "<p>20876 rows × 1 columns</p>\n",
       "</div>"
      ],
      "text/plain": [
       "                이익잉여금(*)(천원)\n",
       "date    ticker              \n",
       "1981-12 000020     2567147.0\n",
       "        000040      343796.0\n",
       "        000050           0.0\n",
       "        000070     6452616.0\n",
       "        000080     1002994.0\n",
       "...                      ...\n",
       "2020-12 363280    -2390485.0\n",
       "        375500           0.0\n",
       "        378850           0.0\n",
       "        900140           0.0\n",
       "        950210   -21560969.0\n",
       "\n",
       "[20876 rows x 1 columns]"
      ]
     },
     "execution_count": 20,
     "metadata": {},
     "output_type": "execute_result"
    }
   ],
   "source": [
    "retained_earnings"
   ]
  },
  {
   "cell_type": "code",
   "execution_count": 21,
   "metadata": {},
   "outputs": [],
   "source": [
    "deferred_tax_liabilities = get_ifrs_data('IFRS/DeferredTaxLiabilities.csv')"
   ]
  },
  {
   "cell_type": "code",
   "execution_count": 22,
   "metadata": {},
   "outputs": [],
   "source": [
    "market_cap_data = stock_data['adj_marcap'].to_frame()"
   ]
  },
  {
   "cell_type": "code",
   "execution_count": 23,
   "metadata": {},
   "outputs": [],
   "source": [
    "market_cap_data = market_cap_data.unstack('ticker').resample('Y').last().stack('ticker')"
   ]
  },
  {
   "cell_type": "code",
   "execution_count": 24,
   "metadata": {},
   "outputs": [],
   "source": [
    "market_cap_data.index = market_cap_data.index.set_levels(market_cap_data.index.levels[0].to_period('M'), level=0)"
   ]
  },
  {
   "cell_type": "code",
   "execution_count": 25,
   "metadata": {},
   "outputs": [
    {
     "data": {
      "text/html": [
       "<div>\n",
       "<style scoped>\n",
       "    .dataframe tbody tr th:only-of-type {\n",
       "        vertical-align: middle;\n",
       "    }\n",
       "\n",
       "    .dataframe tbody tr th {\n",
       "        vertical-align: top;\n",
       "    }\n",
       "\n",
       "    .dataframe thead th {\n",
       "        text-align: right;\n",
       "    }\n",
       "</style>\n",
       "<table border=\"1\" class=\"dataframe\">\n",
       "  <thead>\n",
       "    <tr style=\"text-align: right;\">\n",
       "      <th></th>\n",
       "      <th></th>\n",
       "      <th>adj_marcap</th>\n",
       "    </tr>\n",
       "    <tr>\n",
       "      <th>date</th>\n",
       "      <th>ticker</th>\n",
       "      <th></th>\n",
       "    </tr>\n",
       "  </thead>\n",
       "  <tbody>\n",
       "    <tr>\n",
       "      <th rowspan=\"5\" valign=\"top\">1997-12</th>\n",
       "      <th>000020</th>\n",
       "      <td>2.681421e+10</td>\n",
       "    </tr>\n",
       "    <tr>\n",
       "      <th>000040</th>\n",
       "      <td>7.742135e+12</td>\n",
       "    </tr>\n",
       "    <tr>\n",
       "      <th>000050</th>\n",
       "      <td>3.437875e+10</td>\n",
       "    </tr>\n",
       "    <tr>\n",
       "      <th>000060</th>\n",
       "      <td>9.396688e+10</td>\n",
       "    </tr>\n",
       "    <tr>\n",
       "      <th>000070</th>\n",
       "      <td>5.604459e+10</td>\n",
       "    </tr>\n",
       "    <tr>\n",
       "      <th>...</th>\n",
       "      <th>...</th>\n",
       "      <td>...</td>\n",
       "    </tr>\n",
       "    <tr>\n",
       "      <th rowspan=\"5\" valign=\"top\">2021-12</th>\n",
       "      <th>378850</th>\n",
       "      <td>1.194699e+11</td>\n",
       "    </tr>\n",
       "    <tr>\n",
       "      <th>380440</th>\n",
       "      <td>1.077090e+11</td>\n",
       "    </tr>\n",
       "    <tr>\n",
       "      <th>383220</th>\n",
       "      <td>3.160334e+12</td>\n",
       "    </tr>\n",
       "    <tr>\n",
       "      <th>900140</th>\n",
       "      <td>3.540609e+11</td>\n",
       "    </tr>\n",
       "    <tr>\n",
       "      <th>950210</th>\n",
       "      <td>1.730769e+12</td>\n",
       "    </tr>\n",
       "  </tbody>\n",
       "</table>\n",
       "<p>14735 rows × 1 columns</p>\n",
       "</div>"
      ],
      "text/plain": [
       "                  adj_marcap\n",
       "date    ticker              \n",
       "1997-12 000020  2.681421e+10\n",
       "        000040  7.742135e+12\n",
       "        000050  3.437875e+10\n",
       "        000060  9.396688e+10\n",
       "        000070  5.604459e+10\n",
       "...                      ...\n",
       "2021-12 378850  1.194699e+11\n",
       "        380440  1.077090e+11\n",
       "        383220  3.160334e+12\n",
       "        900140  3.540609e+11\n",
       "        950210  1.730769e+12\n",
       "\n",
       "[14735 rows x 1 columns]"
      ]
     },
     "execution_count": 25,
     "metadata": {},
     "output_type": "execute_result"
    }
   ],
   "source": [
    "market_cap_data"
   ]
  },
  {
   "cell_type": "code",
   "execution_count": 26,
   "metadata": {},
   "outputs": [],
   "source": [
    "book_to_market_data = pd.concat([common_stock_capital, capital_surplus, retained_earnings, deferred_tax_liabilities, market_cap_data], axis=1)\n",
    "book_to_market_data.sort_index(inplace=True)"
   ]
  },
  {
   "cell_type": "code",
   "execution_count": 27,
   "metadata": {},
   "outputs": [
    {
     "data": {
      "text/html": [
       "<div>\n",
       "<style scoped>\n",
       "    .dataframe tbody tr th:only-of-type {\n",
       "        vertical-align: middle;\n",
       "    }\n",
       "\n",
       "    .dataframe tbody tr th {\n",
       "        vertical-align: top;\n",
       "    }\n",
       "\n",
       "    .dataframe thead th {\n",
       "        text-align: right;\n",
       "    }\n",
       "</style>\n",
       "<table border=\"1\" class=\"dataframe\">\n",
       "  <thead>\n",
       "    <tr style=\"text-align: right;\">\n",
       "      <th></th>\n",
       "      <th></th>\n",
       "      <th>보통주자본금(천원)</th>\n",
       "      <th>자본잉여금(*)(천원)</th>\n",
       "      <th>이익잉여금(*)(천원)</th>\n",
       "      <th>이연법인세부채(천원)</th>\n",
       "      <th>adj_marcap</th>\n",
       "    </tr>\n",
       "    <tr>\n",
       "      <th>date</th>\n",
       "      <th>ticker</th>\n",
       "      <th></th>\n",
       "      <th></th>\n",
       "      <th></th>\n",
       "      <th></th>\n",
       "      <th></th>\n",
       "    </tr>\n",
       "  </thead>\n",
       "  <tbody>\n",
       "    <tr>\n",
       "      <th rowspan=\"5\" valign=\"top\">1981-12</th>\n",
       "      <th>000020</th>\n",
       "      <td>2808000.0</td>\n",
       "      <td>4410.0</td>\n",
       "      <td>2567147.0</td>\n",
       "      <td>0.0</td>\n",
       "      <td>NaN</td>\n",
       "    </tr>\n",
       "    <tr>\n",
       "      <th>000040</th>\n",
       "      <td>3450000.0</td>\n",
       "      <td>1903860.0</td>\n",
       "      <td>343796.0</td>\n",
       "      <td>0.0</td>\n",
       "      <td>NaN</td>\n",
       "    </tr>\n",
       "    <tr>\n",
       "      <th>000050</th>\n",
       "      <td>2400000.0</td>\n",
       "      <td>12797820.0</td>\n",
       "      <td>0.0</td>\n",
       "      <td>0.0</td>\n",
       "      <td>NaN</td>\n",
       "    </tr>\n",
       "    <tr>\n",
       "      <th>000070</th>\n",
       "      <td>9500000.0</td>\n",
       "      <td>9538010.0</td>\n",
       "      <td>6452616.0</td>\n",
       "      <td>0.0</td>\n",
       "      <td>NaN</td>\n",
       "    </tr>\n",
       "    <tr>\n",
       "      <th>000080</th>\n",
       "      <td>3000000.0</td>\n",
       "      <td>8837667.0</td>\n",
       "      <td>1002994.0</td>\n",
       "      <td>0.0</td>\n",
       "      <td>NaN</td>\n",
       "    </tr>\n",
       "    <tr>\n",
       "      <th>...</th>\n",
       "      <th>...</th>\n",
       "      <td>...</td>\n",
       "      <td>...</td>\n",
       "      <td>...</td>\n",
       "      <td>...</td>\n",
       "      <td>...</td>\n",
       "    </tr>\n",
       "    <tr>\n",
       "      <th rowspan=\"5\" valign=\"top\">2021-12</th>\n",
       "      <th>378850</th>\n",
       "      <td>NaN</td>\n",
       "      <td>NaN</td>\n",
       "      <td>NaN</td>\n",
       "      <td>NaN</td>\n",
       "      <td>1.194699e+11</td>\n",
       "    </tr>\n",
       "    <tr>\n",
       "      <th>380440</th>\n",
       "      <td>NaN</td>\n",
       "      <td>NaN</td>\n",
       "      <td>NaN</td>\n",
       "      <td>NaN</td>\n",
       "      <td>1.077090e+11</td>\n",
       "    </tr>\n",
       "    <tr>\n",
       "      <th>383220</th>\n",
       "      <td>NaN</td>\n",
       "      <td>NaN</td>\n",
       "      <td>NaN</td>\n",
       "      <td>NaN</td>\n",
       "      <td>3.160334e+12</td>\n",
       "    </tr>\n",
       "    <tr>\n",
       "      <th>900140</th>\n",
       "      <td>NaN</td>\n",
       "      <td>NaN</td>\n",
       "      <td>NaN</td>\n",
       "      <td>NaN</td>\n",
       "      <td>3.540609e+11</td>\n",
       "    </tr>\n",
       "    <tr>\n",
       "      <th>950210</th>\n",
       "      <td>NaN</td>\n",
       "      <td>NaN</td>\n",
       "      <td>NaN</td>\n",
       "      <td>NaN</td>\n",
       "      <td>1.730769e+12</td>\n",
       "    </tr>\n",
       "  </tbody>\n",
       "</table>\n",
       "<p>22669 rows × 5 columns</p>\n",
       "</div>"
      ],
      "text/plain": [
       "                보통주자본금(천원)  자본잉여금(*)(천원)  이익잉여금(*)(천원)  이연법인세부채(천원)  \\\n",
       "date    ticker                                                        \n",
       "1981-12 000020   2808000.0        4410.0     2567147.0          0.0   \n",
       "        000040   3450000.0     1903860.0      343796.0          0.0   \n",
       "        000050   2400000.0    12797820.0           0.0          0.0   \n",
       "        000070   9500000.0     9538010.0     6452616.0          0.0   \n",
       "        000080   3000000.0     8837667.0     1002994.0          0.0   \n",
       "...                    ...           ...           ...          ...   \n",
       "2021-12 378850         NaN           NaN           NaN          NaN   \n",
       "        380440         NaN           NaN           NaN          NaN   \n",
       "        383220         NaN           NaN           NaN          NaN   \n",
       "        900140         NaN           NaN           NaN          NaN   \n",
       "        950210         NaN           NaN           NaN          NaN   \n",
       "\n",
       "                  adj_marcap  \n",
       "date    ticker                \n",
       "1981-12 000020           NaN  \n",
       "        000040           NaN  \n",
       "        000050           NaN  \n",
       "        000070           NaN  \n",
       "        000080           NaN  \n",
       "...                      ...  \n",
       "2021-12 378850  1.194699e+11  \n",
       "        380440  1.077090e+11  \n",
       "        383220  3.160334e+12  \n",
       "        900140  3.540609e+11  \n",
       "        950210  1.730769e+12  \n",
       "\n",
       "[22669 rows x 5 columns]"
      ]
     },
     "execution_count": 27,
     "metadata": {},
     "output_type": "execute_result"
    }
   ],
   "source": [
    "book_to_market_data"
   ]
  },
  {
   "cell_type": "code",
   "execution_count": 28,
   "metadata": {},
   "outputs": [],
   "source": [
    "# 시가총액이 있는 년도부터 시작\n",
    "book_to_market_data = book_to_market_data.loc[idx['1995':'2021',:],:]"
   ]
  },
  {
   "cell_type": "code",
   "execution_count": 29,
   "metadata": {
    "scrolled": true
   },
   "outputs": [
    {
     "name": "stderr",
     "output_type": "stream",
     "text": [
      "<ipython-input-29-f2b34a7bd11a>:2: SettingWithCopyWarning: \n",
      "A value is trying to be set on a copy of a slice from a DataFrame\n",
      "\n",
      "See the caveats in the documentation: https://pandas.pydata.org/pandas-docs/stable/user_guide/indexing.html#returning-a-view-versus-a-copy\n",
      "  book_to_market_data.dropna(inplace=True)\n"
     ]
    }
   ],
   "source": [
    "# 결측치 제거\n",
    "book_to_market_data.dropna(inplace=True)"
   ]
  },
  {
   "cell_type": "markdown",
   "metadata": {},
   "source": [
    "### Book to Market Ratio 구하기"
   ]
  },
  {
   "cell_type": "code",
   "execution_count": 30,
   "metadata": {},
   "outputs": [],
   "source": [
    "# B/M 계산\n",
    "columns_list = book_to_market_data.columns\n",
    "book_value = book_to_market_data.loc[:,columns_list[:-1]].sum(axis=1)\n",
    "book_to_market_ratio = book_value.div(book_to_market_data['adj_marcap']).to_frame()\n",
    "book_to_market_ratio.columns = ['BM']\n"
   ]
  },
  {
   "cell_type": "markdown",
   "metadata": {},
   "source": [
    "### 회계년도랑 공시년도가 차이가 나므로 회계년도에서 6개월 뒤로 미룬다.\n",
    "- 년말 12월 기준의 회계가 있어도 공시하기까지 시간이 걸린다. 이부분을 고려"
   ]
  },
  {
   "cell_type": "code",
   "execution_count": 31,
   "metadata": {},
   "outputs": [],
   "source": [
    "def offset_6_month(data: pd.DataFrame) -> pd.DataFrame:\n",
    "    '''\n",
    "        Input DataFrame E.g\n",
    "        Multi Index DataFrame\n",
    "                      price\n",
    "        date  ticker\n",
    "     1995-12  000660  1000\n",
    "              005930  20000\n",
    "              003229  3004000\n",
    "              \n",
    "        \n",
    "        Output DataFrame E.g\n",
    "                         price\n",
    "        date  ticker\n",
    "     1996-06  000660  1000\n",
    "              005930  20000\n",
    "              003229  3004000\n",
    "        \n",
    "    '''\n",
    "    date_index = data.index.levels[0].to_timestamp() + pd.DateOffset(months=6)\n",
    "    data.index = data.index.set_levels(date_index.to_period('M'), level=0)\n",
    "    return data "
   ]
  },
  {
   "cell_type": "markdown",
   "metadata": {},
   "source": [
    "## B/M Ratio 공시날짜를 위해서 6개월 미루기"
   ]
  },
  {
   "cell_type": "code",
   "execution_count": 32,
   "metadata": {},
   "outputs": [],
   "source": [
    "book_to_market_ratio = offset_6_month(book_to_market_ratio)"
   ]
  },
  {
   "cell_type": "code",
   "execution_count": 33,
   "metadata": {},
   "outputs": [
    {
     "data": {
      "text/html": [
       "<div>\n",
       "<style scoped>\n",
       "    .dataframe tbody tr th:only-of-type {\n",
       "        vertical-align: middle;\n",
       "    }\n",
       "\n",
       "    .dataframe tbody tr th {\n",
       "        vertical-align: top;\n",
       "    }\n",
       "\n",
       "    .dataframe thead th {\n",
       "        text-align: right;\n",
       "    }\n",
       "</style>\n",
       "<table border=\"1\" class=\"dataframe\">\n",
       "  <thead>\n",
       "    <tr style=\"text-align: right;\">\n",
       "      <th></th>\n",
       "      <th></th>\n",
       "      <th>BM</th>\n",
       "    </tr>\n",
       "    <tr>\n",
       "      <th>date</th>\n",
       "      <th>ticker</th>\n",
       "      <th></th>\n",
       "    </tr>\n",
       "  </thead>\n",
       "  <tbody>\n",
       "    <tr>\n",
       "      <th rowspan=\"5\" valign=\"top\">1998-06</th>\n",
       "      <th>000020</th>\n",
       "      <td>0.001857</td>\n",
       "    </tr>\n",
       "    <tr>\n",
       "      <th>000040</th>\n",
       "      <td>0.000008</td>\n",
       "    </tr>\n",
       "    <tr>\n",
       "      <th>000050</th>\n",
       "      <td>0.001659</td>\n",
       "    </tr>\n",
       "    <tr>\n",
       "      <th>000070</th>\n",
       "      <td>0.003725</td>\n",
       "    </tr>\n",
       "    <tr>\n",
       "      <th>000100</th>\n",
       "      <td>0.001435</td>\n",
       "    </tr>\n",
       "    <tr>\n",
       "      <th>...</th>\n",
       "      <th>...</th>\n",
       "      <td>...</td>\n",
       "    </tr>\n",
       "    <tr>\n",
       "      <th rowspan=\"5\" valign=\"top\">2021-06</th>\n",
       "      <th>344820</th>\n",
       "      <td>0.002336</td>\n",
       "    </tr>\n",
       "    <tr>\n",
       "      <th>352820</th>\n",
       "      <td>0.000214</td>\n",
       "    </tr>\n",
       "    <tr>\n",
       "      <th>353200</th>\n",
       "      <td>0.001031</td>\n",
       "    </tr>\n",
       "    <tr>\n",
       "      <th>363280</th>\n",
       "      <td>0.000501</td>\n",
       "    </tr>\n",
       "    <tr>\n",
       "      <th>900140</th>\n",
       "      <td>0.000000</td>\n",
       "    </tr>\n",
       "  </tbody>\n",
       "</table>\n",
       "<p>12942 rows × 1 columns</p>\n",
       "</div>"
      ],
      "text/plain": [
       "                      BM\n",
       "date    ticker          \n",
       "1998-06 000020  0.001857\n",
       "        000040  0.000008\n",
       "        000050  0.001659\n",
       "        000070  0.003725\n",
       "        000100  0.001435\n",
       "...                  ...\n",
       "2021-06 344820  0.002336\n",
       "        352820  0.000214\n",
       "        353200  0.001031\n",
       "        363280  0.000501\n",
       "        900140  0.000000\n",
       "\n",
       "[12942 rows x 1 columns]"
      ]
     },
     "execution_count": 33,
     "metadata": {},
     "output_type": "execute_result"
    }
   ],
   "source": [
    "book_to_market_ratio"
   ]
  },
  {
   "cell_type": "markdown",
   "metadata": {},
   "source": [
    "## 수익성 지표 계산\n",
    "- OP = 영업이익 / 자기자본 장부가치\n",
    "    + 영업이익 = 매출액 - 매출원가 - 이자비용 - 판관비"
   ]
  },
  {
   "cell_type": "markdown",
   "metadata": {},
   "source": [
    "#### 매출액"
   ]
  },
  {
   "cell_type": "code",
   "execution_count": 34,
   "metadata": {},
   "outputs": [],
   "source": [
    "net_sales = get_ifrs_data('IFRS/NetSales.csv')"
   ]
  },
  {
   "cell_type": "code",
   "execution_count": 35,
   "metadata": {
    "scrolled": true
   },
   "outputs": [
    {
     "data": {
      "text/html": [
       "<div>\n",
       "<style scoped>\n",
       "    .dataframe tbody tr th:only-of-type {\n",
       "        vertical-align: middle;\n",
       "    }\n",
       "\n",
       "    .dataframe tbody tr th {\n",
       "        vertical-align: top;\n",
       "    }\n",
       "\n",
       "    .dataframe thead th {\n",
       "        text-align: right;\n",
       "    }\n",
       "</style>\n",
       "<table border=\"1\" class=\"dataframe\">\n",
       "  <thead>\n",
       "    <tr style=\"text-align: right;\">\n",
       "      <th></th>\n",
       "      <th></th>\n",
       "      <th>매출액(영업수익)(*)(천원)</th>\n",
       "    </tr>\n",
       "    <tr>\n",
       "      <th>date</th>\n",
       "      <th>ticker</th>\n",
       "      <th></th>\n",
       "    </tr>\n",
       "  </thead>\n",
       "  <tbody>\n",
       "    <tr>\n",
       "      <th rowspan=\"5\" valign=\"top\">1981-12</th>\n",
       "      <th>000020</th>\n",
       "      <td>26964281.0</td>\n",
       "    </tr>\n",
       "    <tr>\n",
       "      <th>000040</th>\n",
       "      <td>48075570.0</td>\n",
       "    </tr>\n",
       "    <tr>\n",
       "      <th>000050</th>\n",
       "      <td>52868914.0</td>\n",
       "    </tr>\n",
       "    <tr>\n",
       "      <th>000070</th>\n",
       "      <td>223628100.0</td>\n",
       "    </tr>\n",
       "    <tr>\n",
       "      <th>000080</th>\n",
       "      <td>93182984.0</td>\n",
       "    </tr>\n",
       "    <tr>\n",
       "      <th>...</th>\n",
       "      <th>...</th>\n",
       "      <td>...</td>\n",
       "    </tr>\n",
       "    <tr>\n",
       "      <th rowspan=\"5\" valign=\"top\">2020-12</th>\n",
       "      <th>363280</th>\n",
       "      <td>0.0</td>\n",
       "    </tr>\n",
       "    <tr>\n",
       "      <th>375500</th>\n",
       "      <td>0.0</td>\n",
       "    </tr>\n",
       "    <tr>\n",
       "      <th>378850</th>\n",
       "      <td>0.0</td>\n",
       "    </tr>\n",
       "    <tr>\n",
       "      <th>900140</th>\n",
       "      <td>0.0</td>\n",
       "    </tr>\n",
       "    <tr>\n",
       "      <th>950210</th>\n",
       "      <td>0.0</td>\n",
       "    </tr>\n",
       "  </tbody>\n",
       "</table>\n",
       "<p>20876 rows × 1 columns</p>\n",
       "</div>"
      ],
      "text/plain": [
       "                매출액(영업수익)(*)(천원)\n",
       "date    ticker                  \n",
       "1981-12 000020        26964281.0\n",
       "        000040        48075570.0\n",
       "        000050        52868914.0\n",
       "        000070       223628100.0\n",
       "        000080        93182984.0\n",
       "...                          ...\n",
       "2020-12 363280               0.0\n",
       "        375500               0.0\n",
       "        378850               0.0\n",
       "        900140               0.0\n",
       "        950210               0.0\n",
       "\n",
       "[20876 rows x 1 columns]"
      ]
     },
     "execution_count": 35,
     "metadata": {},
     "output_type": "execute_result"
    }
   ],
   "source": [
    "net_sales"
   ]
  },
  {
   "cell_type": "markdown",
   "metadata": {},
   "source": [
    "#### 매출원가"
   ]
  },
  {
   "cell_type": "code",
   "execution_count": 36,
   "metadata": {},
   "outputs": [],
   "source": [
    "cost_of_sales = get_ifrs_data('IFRS/CostOfSales.csv')"
   ]
  },
  {
   "cell_type": "code",
   "execution_count": 37,
   "metadata": {
    "scrolled": true
   },
   "outputs": [
    {
     "data": {
      "text/html": [
       "<div>\n",
       "<style scoped>\n",
       "    .dataframe tbody tr th:only-of-type {\n",
       "        vertical-align: middle;\n",
       "    }\n",
       "\n",
       "    .dataframe tbody tr th {\n",
       "        vertical-align: top;\n",
       "    }\n",
       "\n",
       "    .dataframe thead th {\n",
       "        text-align: right;\n",
       "    }\n",
       "</style>\n",
       "<table border=\"1\" class=\"dataframe\">\n",
       "  <thead>\n",
       "    <tr style=\"text-align: right;\">\n",
       "      <th></th>\n",
       "      <th></th>\n",
       "      <th>매출원가(*)(천원)</th>\n",
       "    </tr>\n",
       "    <tr>\n",
       "      <th>date</th>\n",
       "      <th>ticker</th>\n",
       "      <th></th>\n",
       "    </tr>\n",
       "  </thead>\n",
       "  <tbody>\n",
       "    <tr>\n",
       "      <th rowspan=\"5\" valign=\"top\">1981-12</th>\n",
       "      <th>000020</th>\n",
       "      <td>16814161.0</td>\n",
       "    </tr>\n",
       "    <tr>\n",
       "      <th>000040</th>\n",
       "      <td>42802676.0</td>\n",
       "    </tr>\n",
       "    <tr>\n",
       "      <th>000050</th>\n",
       "      <td>46724109.0</td>\n",
       "    </tr>\n",
       "    <tr>\n",
       "      <th>000070</th>\n",
       "      <td>189372232.0</td>\n",
       "    </tr>\n",
       "    <tr>\n",
       "      <th>000080</th>\n",
       "      <td>75451679.0</td>\n",
       "    </tr>\n",
       "    <tr>\n",
       "      <th>...</th>\n",
       "      <th>...</th>\n",
       "      <td>...</td>\n",
       "    </tr>\n",
       "    <tr>\n",
       "      <th rowspan=\"5\" valign=\"top\">2020-12</th>\n",
       "      <th>363280</th>\n",
       "      <td>0.0</td>\n",
       "    </tr>\n",
       "    <tr>\n",
       "      <th>375500</th>\n",
       "      <td>0.0</td>\n",
       "    </tr>\n",
       "    <tr>\n",
       "      <th>378850</th>\n",
       "      <td>0.0</td>\n",
       "    </tr>\n",
       "    <tr>\n",
       "      <th>900140</th>\n",
       "      <td>0.0</td>\n",
       "    </tr>\n",
       "    <tr>\n",
       "      <th>950210</th>\n",
       "      <td>0.0</td>\n",
       "    </tr>\n",
       "  </tbody>\n",
       "</table>\n",
       "<p>20876 rows × 1 columns</p>\n",
       "</div>"
      ],
      "text/plain": [
       "                매출원가(*)(천원)\n",
       "date    ticker             \n",
       "1981-12 000020   16814161.0\n",
       "        000040   42802676.0\n",
       "        000050   46724109.0\n",
       "        000070  189372232.0\n",
       "        000080   75451679.0\n",
       "...                     ...\n",
       "2020-12 363280          0.0\n",
       "        375500          0.0\n",
       "        378850          0.0\n",
       "        900140          0.0\n",
       "        950210          0.0\n",
       "\n",
       "[20876 rows x 1 columns]"
      ]
     },
     "execution_count": 37,
     "metadata": {},
     "output_type": "execute_result"
    }
   ],
   "source": [
    "cost_of_sales"
   ]
  },
  {
   "cell_type": "markdown",
   "metadata": {},
   "source": [
    "#### 이자비용"
   ]
  },
  {
   "cell_type": "code",
   "execution_count": 38,
   "metadata": {},
   "outputs": [],
   "source": [
    "interest_expense = get_ifrs_data('IFRS/InterestExpenses.csv')"
   ]
  },
  {
   "cell_type": "code",
   "execution_count": 39,
   "metadata": {},
   "outputs": [
    {
     "data": {
      "text/html": [
       "<div>\n",
       "<style scoped>\n",
       "    .dataframe tbody tr th:only-of-type {\n",
       "        vertical-align: middle;\n",
       "    }\n",
       "\n",
       "    .dataframe tbody tr th {\n",
       "        vertical-align: top;\n",
       "    }\n",
       "\n",
       "    .dataframe thead th {\n",
       "        text-align: right;\n",
       "    }\n",
       "</style>\n",
       "<table border=\"1\" class=\"dataframe\">\n",
       "  <thead>\n",
       "    <tr style=\"text-align: right;\">\n",
       "      <th></th>\n",
       "      <th></th>\n",
       "      <th>이자비용(천원)</th>\n",
       "    </tr>\n",
       "    <tr>\n",
       "      <th>date</th>\n",
       "      <th>ticker</th>\n",
       "      <th></th>\n",
       "    </tr>\n",
       "  </thead>\n",
       "  <tbody>\n",
       "    <tr>\n",
       "      <th rowspan=\"5\" valign=\"top\">1981-12</th>\n",
       "      <th>000020</th>\n",
       "      <td>0.0</td>\n",
       "    </tr>\n",
       "    <tr>\n",
       "      <th>000040</th>\n",
       "      <td>0.0</td>\n",
       "    </tr>\n",
       "    <tr>\n",
       "      <th>000050</th>\n",
       "      <td>0.0</td>\n",
       "    </tr>\n",
       "    <tr>\n",
       "      <th>000070</th>\n",
       "      <td>0.0</td>\n",
       "    </tr>\n",
       "    <tr>\n",
       "      <th>000080</th>\n",
       "      <td>0.0</td>\n",
       "    </tr>\n",
       "    <tr>\n",
       "      <th>...</th>\n",
       "      <th>...</th>\n",
       "      <td>...</td>\n",
       "    </tr>\n",
       "    <tr>\n",
       "      <th rowspan=\"5\" valign=\"top\">2020-12</th>\n",
       "      <th>363280</th>\n",
       "      <td>0.0</td>\n",
       "    </tr>\n",
       "    <tr>\n",
       "      <th>375500</th>\n",
       "      <td>0.0</td>\n",
       "    </tr>\n",
       "    <tr>\n",
       "      <th>378850</th>\n",
       "      <td>0.0</td>\n",
       "    </tr>\n",
       "    <tr>\n",
       "      <th>900140</th>\n",
       "      <td>0.0</td>\n",
       "    </tr>\n",
       "    <tr>\n",
       "      <th>950210</th>\n",
       "      <td>0.0</td>\n",
       "    </tr>\n",
       "  </tbody>\n",
       "</table>\n",
       "<p>20876 rows × 1 columns</p>\n",
       "</div>"
      ],
      "text/plain": [
       "                이자비용(천원)\n",
       "date    ticker          \n",
       "1981-12 000020       0.0\n",
       "        000040       0.0\n",
       "        000050       0.0\n",
       "        000070       0.0\n",
       "        000080       0.0\n",
       "...                  ...\n",
       "2020-12 363280       0.0\n",
       "        375500       0.0\n",
       "        378850       0.0\n",
       "        900140       0.0\n",
       "        950210       0.0\n",
       "\n",
       "[20876 rows x 1 columns]"
      ]
     },
     "execution_count": 39,
     "metadata": {},
     "output_type": "execute_result"
    }
   ],
   "source": [
    "interest_expense"
   ]
  },
  {
   "cell_type": "markdown",
   "metadata": {},
   "source": [
    "### 판매비와 관리비"
   ]
  },
  {
   "cell_type": "code",
   "execution_count": 40,
   "metadata": {},
   "outputs": [],
   "source": [
    "selling_and_admin_expense = get_ifrs_data('IFRS/Selling_and_administrative_expenses.csv')"
   ]
  },
  {
   "cell_type": "code",
   "execution_count": 41,
   "metadata": {},
   "outputs": [
    {
     "data": {
      "text/html": [
       "<div>\n",
       "<style scoped>\n",
       "    .dataframe tbody tr th:only-of-type {\n",
       "        vertical-align: middle;\n",
       "    }\n",
       "\n",
       "    .dataframe tbody tr th {\n",
       "        vertical-align: top;\n",
       "    }\n",
       "\n",
       "    .dataframe thead th {\n",
       "        text-align: right;\n",
       "    }\n",
       "</style>\n",
       "<table border=\"1\" class=\"dataframe\">\n",
       "  <thead>\n",
       "    <tr style=\"text-align: right;\">\n",
       "      <th></th>\n",
       "      <th></th>\n",
       "      <th>판매비와관리비(영업비용)(*)(천원)</th>\n",
       "    </tr>\n",
       "    <tr>\n",
       "      <th>date</th>\n",
       "      <th>ticker</th>\n",
       "      <th></th>\n",
       "    </tr>\n",
       "  </thead>\n",
       "  <tbody>\n",
       "    <tr>\n",
       "      <th rowspan=\"5\" valign=\"top\">1981-12</th>\n",
       "      <th>000020</th>\n",
       "      <td>6385484.0</td>\n",
       "    </tr>\n",
       "    <tr>\n",
       "      <th>000040</th>\n",
       "      <td>2264367.0</td>\n",
       "    </tr>\n",
       "    <tr>\n",
       "      <th>000050</th>\n",
       "      <td>2939748.0</td>\n",
       "    </tr>\n",
       "    <tr>\n",
       "      <th>000070</th>\n",
       "      <td>10461231.0</td>\n",
       "    </tr>\n",
       "    <tr>\n",
       "      <th>000080</th>\n",
       "      <td>11557635.0</td>\n",
       "    </tr>\n",
       "    <tr>\n",
       "      <th>...</th>\n",
       "      <th>...</th>\n",
       "      <td>...</td>\n",
       "    </tr>\n",
       "    <tr>\n",
       "      <th rowspan=\"5\" valign=\"top\">2020-12</th>\n",
       "      <th>363280</th>\n",
       "      <td>2265873.0</td>\n",
       "    </tr>\n",
       "    <tr>\n",
       "      <th>375500</th>\n",
       "      <td>0.0</td>\n",
       "    </tr>\n",
       "    <tr>\n",
       "      <th>378850</th>\n",
       "      <td>0.0</td>\n",
       "    </tr>\n",
       "    <tr>\n",
       "      <th>900140</th>\n",
       "      <td>0.0</td>\n",
       "    </tr>\n",
       "    <tr>\n",
       "      <th>950210</th>\n",
       "      <td>10708804.0</td>\n",
       "    </tr>\n",
       "  </tbody>\n",
       "</table>\n",
       "<p>20876 rows × 1 columns</p>\n",
       "</div>"
      ],
      "text/plain": [
       "                판매비와관리비(영업비용)(*)(천원)\n",
       "date    ticker                      \n",
       "1981-12 000020             6385484.0\n",
       "        000040             2264367.0\n",
       "        000050             2939748.0\n",
       "        000070            10461231.0\n",
       "        000080            11557635.0\n",
       "...                              ...\n",
       "2020-12 363280             2265873.0\n",
       "        375500                   0.0\n",
       "        378850                   0.0\n",
       "        900140                   0.0\n",
       "        950210            10708804.0\n",
       "\n",
       "[20876 rows x 1 columns]"
      ]
     },
     "execution_count": 41,
     "metadata": {},
     "output_type": "execute_result"
    }
   ],
   "source": [
    "selling_and_admin_expense"
   ]
  },
  {
   "cell_type": "code",
   "execution_count": 42,
   "metadata": {},
   "outputs": [],
   "source": [
    "op_data = pd.concat([net_sales, cost_of_sales, interest_expense, selling_and_admin_expense], axis=1)"
   ]
  },
  {
   "cell_type": "code",
   "execution_count": 43,
   "metadata": {},
   "outputs": [
    {
     "data": {
      "text/html": [
       "<div>\n",
       "<style scoped>\n",
       "    .dataframe tbody tr th:only-of-type {\n",
       "        vertical-align: middle;\n",
       "    }\n",
       "\n",
       "    .dataframe tbody tr th {\n",
       "        vertical-align: top;\n",
       "    }\n",
       "\n",
       "    .dataframe thead th {\n",
       "        text-align: right;\n",
       "    }\n",
       "</style>\n",
       "<table border=\"1\" class=\"dataframe\">\n",
       "  <thead>\n",
       "    <tr style=\"text-align: right;\">\n",
       "      <th></th>\n",
       "      <th></th>\n",
       "      <th>매출액(영업수익)(*)(천원)</th>\n",
       "      <th>매출원가(*)(천원)</th>\n",
       "      <th>이자비용(천원)</th>\n",
       "      <th>판매비와관리비(영업비용)(*)(천원)</th>\n",
       "    </tr>\n",
       "    <tr>\n",
       "      <th>date</th>\n",
       "      <th>ticker</th>\n",
       "      <th></th>\n",
       "      <th></th>\n",
       "      <th></th>\n",
       "      <th></th>\n",
       "    </tr>\n",
       "  </thead>\n",
       "  <tbody>\n",
       "    <tr>\n",
       "      <th rowspan=\"5\" valign=\"top\">1981-12</th>\n",
       "      <th>000020</th>\n",
       "      <td>26964281.0</td>\n",
       "      <td>16814161.0</td>\n",
       "      <td>0.0</td>\n",
       "      <td>6385484.0</td>\n",
       "    </tr>\n",
       "    <tr>\n",
       "      <th>000040</th>\n",
       "      <td>48075570.0</td>\n",
       "      <td>42802676.0</td>\n",
       "      <td>0.0</td>\n",
       "      <td>2264367.0</td>\n",
       "    </tr>\n",
       "    <tr>\n",
       "      <th>000050</th>\n",
       "      <td>52868914.0</td>\n",
       "      <td>46724109.0</td>\n",
       "      <td>0.0</td>\n",
       "      <td>2939748.0</td>\n",
       "    </tr>\n",
       "    <tr>\n",
       "      <th>000070</th>\n",
       "      <td>223628100.0</td>\n",
       "      <td>189372232.0</td>\n",
       "      <td>0.0</td>\n",
       "      <td>10461231.0</td>\n",
       "    </tr>\n",
       "    <tr>\n",
       "      <th>000080</th>\n",
       "      <td>93182984.0</td>\n",
       "      <td>75451679.0</td>\n",
       "      <td>0.0</td>\n",
       "      <td>11557635.0</td>\n",
       "    </tr>\n",
       "  </tbody>\n",
       "</table>\n",
       "</div>"
      ],
      "text/plain": [
       "                매출액(영업수익)(*)(천원)  매출원가(*)(천원)  이자비용(천원)  판매비와관리비(영업비용)(*)(천원)\n",
       "date    ticker                                                               \n",
       "1981-12 000020        26964281.0   16814161.0       0.0             6385484.0\n",
       "        000040        48075570.0   42802676.0       0.0             2264367.0\n",
       "        000050        52868914.0   46724109.0       0.0             2939748.0\n",
       "        000070       223628100.0  189372232.0       0.0            10461231.0\n",
       "        000080        93182984.0   75451679.0       0.0            11557635.0"
      ]
     },
     "execution_count": 43,
     "metadata": {},
     "output_type": "execute_result"
    }
   ],
   "source": [
    "op_data.head(5)"
   ]
  },
  {
   "cell_type": "code",
   "execution_count": 44,
   "metadata": {},
   "outputs": [],
   "source": [
    "col_list = op_data.columns"
   ]
  },
  {
   "cell_type": "code",
   "execution_count": 45,
   "metadata": {},
   "outputs": [],
   "source": [
    "# 위의 식대로 계산\n",
    "op = (op_data[col_list[0]] - op_data[col_list[1:]].sum(axis=1)).div(book_value).to_frame()"
   ]
  },
  {
   "cell_type": "code",
   "execution_count": 46,
   "metadata": {},
   "outputs": [],
   "source": [
    "op.columns = ['OP']\n",
    "op.dropna(inplace=True)"
   ]
  },
  {
   "cell_type": "code",
   "execution_count": 47,
   "metadata": {},
   "outputs": [],
   "source": [
    "op = offset_6_month(op)"
   ]
  },
  {
   "cell_type": "code",
   "execution_count": 48,
   "metadata": {},
   "outputs": [
    {
     "data": {
      "text/html": [
       "<div>\n",
       "<style scoped>\n",
       "    .dataframe tbody tr th:only-of-type {\n",
       "        vertical-align: middle;\n",
       "    }\n",
       "\n",
       "    .dataframe tbody tr th {\n",
       "        vertical-align: top;\n",
       "    }\n",
       "\n",
       "    .dataframe thead th {\n",
       "        text-align: right;\n",
       "    }\n",
       "</style>\n",
       "<table border=\"1\" class=\"dataframe\">\n",
       "  <thead>\n",
       "    <tr style=\"text-align: right;\">\n",
       "      <th></th>\n",
       "      <th></th>\n",
       "      <th>OP</th>\n",
       "    </tr>\n",
       "    <tr>\n",
       "      <th>date</th>\n",
       "      <th>ticker</th>\n",
       "      <th></th>\n",
       "    </tr>\n",
       "  </thead>\n",
       "  <tbody>\n",
       "    <tr>\n",
       "      <th rowspan=\"5\" valign=\"top\">1998-06</th>\n",
       "      <th>000020</th>\n",
       "      <td>0.436609</td>\n",
       "    </tr>\n",
       "    <tr>\n",
       "      <th>000040</th>\n",
       "      <td>0.083735</td>\n",
       "    </tr>\n",
       "    <tr>\n",
       "      <th>000050</th>\n",
       "      <td>0.293923</td>\n",
       "    </tr>\n",
       "    <tr>\n",
       "      <th>000070</th>\n",
       "      <td>0.196609</td>\n",
       "    </tr>\n",
       "    <tr>\n",
       "      <th>000100</th>\n",
       "      <td>0.091484</td>\n",
       "    </tr>\n",
       "    <tr>\n",
       "      <th>...</th>\n",
       "      <th>...</th>\n",
       "      <td>...</td>\n",
       "    </tr>\n",
       "    <tr>\n",
       "      <th rowspan=\"5\" valign=\"top\">2021-06</th>\n",
       "      <th>339770</th>\n",
       "      <td>0.198420</td>\n",
       "    </tr>\n",
       "    <tr>\n",
       "      <th>344820</th>\n",
       "      <td>0.026108</td>\n",
       "    </tr>\n",
       "    <tr>\n",
       "      <th>352820</th>\n",
       "      <td>0.071987</td>\n",
       "    </tr>\n",
       "    <tr>\n",
       "      <th>353200</th>\n",
       "      <td>0.018592</td>\n",
       "    </tr>\n",
       "    <tr>\n",
       "      <th>363280</th>\n",
       "      <td>-0.004065</td>\n",
       "    </tr>\n",
       "  </tbody>\n",
       "</table>\n",
       "<p>12903 rows × 1 columns</p>\n",
       "</div>"
      ],
      "text/plain": [
       "                      OP\n",
       "date    ticker          \n",
       "1998-06 000020  0.436609\n",
       "        000040  0.083735\n",
       "        000050  0.293923\n",
       "        000070  0.196609\n",
       "        000100  0.091484\n",
       "...                  ...\n",
       "2021-06 339770  0.198420\n",
       "        344820  0.026108\n",
       "        352820  0.071987\n",
       "        353200  0.018592\n",
       "        363280 -0.004065\n",
       "\n",
       "[12903 rows x 1 columns]"
      ]
     },
     "execution_count": 48,
     "metadata": {},
     "output_type": "execute_result"
    }
   ],
   "source": [
    "op "
   ]
  },
  {
   "cell_type": "markdown",
   "metadata": {},
   "source": [
    "## 자본투자\n",
    "- t-1년 12월 말의 총자산에서 t-2년 12월 말의 총 자산을 차감한 총자산증가액\n",
    "    + inv = TotalAsset(t-1) / TotalAsset(t-2) - 1"
   ]
  },
  {
   "cell_type": "markdown",
   "metadata": {},
   "source": [
    "### 총 자산"
   ]
  },
  {
   "cell_type": "code",
   "execution_count": 49,
   "metadata": {},
   "outputs": [],
   "source": [
    "total_asset = get_ifrs_data('IFRS/TotalAssets.csv')"
   ]
  },
  {
   "cell_type": "code",
   "execution_count": 50,
   "metadata": {},
   "outputs": [],
   "source": [
    "total_asset_unstack = total_asset.unstack('ticker')"
   ]
  },
  {
   "cell_type": "code",
   "execution_count": 51,
   "metadata": {},
   "outputs": [],
   "source": [
    "inv = (total_asset_unstack / total_asset_unstack.shift(1)).stack('ticker') - 1"
   ]
  },
  {
   "cell_type": "code",
   "execution_count": 52,
   "metadata": {},
   "outputs": [],
   "source": [
    "inv = offset_6_month(inv)"
   ]
  },
  {
   "cell_type": "code",
   "execution_count": 53,
   "metadata": {},
   "outputs": [],
   "source": [
    "inv.columns = [\"INV\"]"
   ]
  },
  {
   "cell_type": "code",
   "execution_count": 54,
   "metadata": {},
   "outputs": [
    {
     "data": {
      "text/html": [
       "<div>\n",
       "<style scoped>\n",
       "    .dataframe tbody tr th:only-of-type {\n",
       "        vertical-align: middle;\n",
       "    }\n",
       "\n",
       "    .dataframe tbody tr th {\n",
       "        vertical-align: top;\n",
       "    }\n",
       "\n",
       "    .dataframe thead th {\n",
       "        text-align: right;\n",
       "    }\n",
       "</style>\n",
       "<table border=\"1\" class=\"dataframe\">\n",
       "  <thead>\n",
       "    <tr style=\"text-align: right;\">\n",
       "      <th></th>\n",
       "      <th></th>\n",
       "      <th>INV</th>\n",
       "    </tr>\n",
       "    <tr>\n",
       "      <th>date</th>\n",
       "      <th>ticker</th>\n",
       "      <th></th>\n",
       "    </tr>\n",
       "  </thead>\n",
       "  <tbody>\n",
       "    <tr>\n",
       "      <th rowspan=\"5\" valign=\"top\">1983-06</th>\n",
       "      <th>000040</th>\n",
       "      <td>0.150404</td>\n",
       "    </tr>\n",
       "    <tr>\n",
       "      <th>000050</th>\n",
       "      <td>0.033943</td>\n",
       "    </tr>\n",
       "    <tr>\n",
       "      <th>000100</th>\n",
       "      <td>0.524996</td>\n",
       "    </tr>\n",
       "    <tr>\n",
       "      <th>000120</th>\n",
       "      <td>0.108065</td>\n",
       "    </tr>\n",
       "    <tr>\n",
       "      <th>000140</th>\n",
       "      <td>0.154147</td>\n",
       "    </tr>\n",
       "    <tr>\n",
       "      <th>...</th>\n",
       "      <th>...</th>\n",
       "      <td>...</td>\n",
       "    </tr>\n",
       "    <tr>\n",
       "      <th rowspan=\"5\" valign=\"top\">2021-06</th>\n",
       "      <th>336260</th>\n",
       "      <td>0.593889</td>\n",
       "    </tr>\n",
       "    <tr>\n",
       "      <th>336370</th>\n",
       "      <td>0.508118</td>\n",
       "    </tr>\n",
       "    <tr>\n",
       "      <th>339770</th>\n",
       "      <td>0.519012</td>\n",
       "    </tr>\n",
       "    <tr>\n",
       "      <th>352820</th>\n",
       "      <td>5.267460</td>\n",
       "    </tr>\n",
       "    <tr>\n",
       "      <th>361610</th>\n",
       "      <td>1.137762</td>\n",
       "    </tr>\n",
       "  </tbody>\n",
       "</table>\n",
       "<p>19811 rows × 1 columns</p>\n",
       "</div>"
      ],
      "text/plain": [
       "                     INV\n",
       "date    ticker          \n",
       "1983-06 000040  0.150404\n",
       "        000050  0.033943\n",
       "        000100  0.524996\n",
       "        000120  0.108065\n",
       "        000140  0.154147\n",
       "...                  ...\n",
       "2021-06 336260  0.593889\n",
       "        336370  0.508118\n",
       "        339770  0.519012\n",
       "        352820  5.267460\n",
       "        361610  1.137762\n",
       "\n",
       "[19811 rows x 1 columns]"
      ]
     },
     "execution_count": 54,
     "metadata": {},
     "output_type": "execute_result"
    }
   ],
   "source": [
    "inv"
   ]
  },
  {
   "cell_type": "markdown",
   "metadata": {},
   "source": [
    "## Size-B/M, Size-OP, Size-Inv Portfolio 구성\n",
    "- 가격 데이터가 1995년부터 있으므로 1995년부터 Portfolio 구성\n",
    "- Value weight portfolio"
   ]
  },
  {
   "cell_type": "markdown",
   "metadata": {},
   "source": [
    "기업규모\n",
    "- 하위 50%, 상위 50%\n",
    "\n",
    "\n",
    "B/M\n",
    "- 상위 33%, 중위 33%, 하위 33%\n",
    "\n",
    "\n",
    "수익성\n",
    "- 상위 33%, 중위 33%, 하위 33%\n",
    "\n",
    "\n",
    "자본투자\n",
    "- 하위 33%, 중위 33%, 상위 33%"
   ]
  },
  {
   "cell_type": "markdown",
   "metadata": {},
   "source": [
    "#### Size - B/M 포트폴리오\n",
    "|Size/ BM|Small|Big|\n",
    "|---|---|---|\n",
    "|High BM|SH|BH|\n",
    "|2|SN|BN|\n",
    "|Low BM|SL|BL|"
   ]
  },
  {
   "cell_type": "markdown",
   "metadata": {},
   "source": [
    "#### Size - OP 포트폴리오\n",
    "|Size/ OP|Small|Big|\n",
    "|---|---|---|\n",
    "|High OP|SR|BR|\n",
    "|2|SN|BN|\n",
    "|Low OP|SW|BW|"
   ]
  },
  {
   "cell_type": "markdown",
   "metadata": {},
   "source": [
    "#### Size - Inv 포트폴리오\n",
    "|Size/ Inv|Small|Big|\n",
    "|---|---|---|\n",
    "|High Inv|SC|BC|\n",
    "|2|SN|BN|\n",
    "|Low Inv|SA|BA|"
   ]
  },
  {
   "cell_type": "markdown",
   "metadata": {},
   "source": [
    "### Equal Weight Portfolio로 구성 "
   ]
  },
  {
   "cell_type": "markdown",
   "metadata": {},
   "source": [
    "#### SMB 구하기\n",
    "- 2분위수로 Size Factor로 나누고 이에 따라서"
   ]
  },
  {
   "cell_type": "code",
   "execution_count": 55,
   "metadata": {},
   "outputs": [],
   "source": [
    "# 시간 인덱스 가져오기\n",
    "period_index = book_to_market_ratio.unstack('ticker').index"
   ]
  },
  {
   "cell_type": "markdown",
   "metadata": {},
   "source": [
    "### 수정 수익률 데이터 구하기"
   ]
  },
  {
   "cell_type": "code",
   "execution_count": 56,
   "metadata": {},
   "outputs": [],
   "source": [
    "# 시가총액의 증감으로 수익률 구하기\n",
    "return_data = (stock_data[['adj_close']]\n",
    "                                .unstack('ticker')\n",
    "                                .fillna(method='bfill')\n",
    "                                .fillna(0)\n",
    "                                .resample('M')\n",
    "                                .last()\n",
    "                                .pct_change()\n",
    "                                .mul(100)\n",
    "                                .stack('ticker')\n",
    "                                \n",
    "              )"
   ]
  },
  {
   "cell_type": "code",
   "execution_count": 57,
   "metadata": {},
   "outputs": [],
   "source": [
    "return_data.columns = ['return']"
   ]
  },
  {
   "cell_type": "code",
   "execution_count": 58,
   "metadata": {},
   "outputs": [],
   "source": [
    "return_data.index = return_data.index.set_levels(return_data.index.levels[0].to_period('M'), level=0)"
   ]
  },
  {
   "cell_type": "code",
   "execution_count": 59,
   "metadata": {},
   "outputs": [
    {
     "data": {
      "text/html": [
       "<div>\n",
       "<style scoped>\n",
       "    .dataframe tbody tr th:only-of-type {\n",
       "        vertical-align: middle;\n",
       "    }\n",
       "\n",
       "    .dataframe tbody tr th {\n",
       "        vertical-align: top;\n",
       "    }\n",
       "\n",
       "    .dataframe thead th {\n",
       "        text-align: right;\n",
       "    }\n",
       "</style>\n",
       "<table border=\"1\" class=\"dataframe\">\n",
       "  <thead>\n",
       "    <tr style=\"text-align: right;\">\n",
       "      <th></th>\n",
       "      <th></th>\n",
       "      <th>return</th>\n",
       "    </tr>\n",
       "    <tr>\n",
       "      <th>date</th>\n",
       "      <th>ticker</th>\n",
       "      <th></th>\n",
       "    </tr>\n",
       "  </thead>\n",
       "  <tbody>\n",
       "    <tr>\n",
       "      <th rowspan=\"5\" valign=\"top\">1995-06</th>\n",
       "      <th>000020</th>\n",
       "      <td>0.000000</td>\n",
       "    </tr>\n",
       "    <tr>\n",
       "      <th>000040</th>\n",
       "      <td>0.000000</td>\n",
       "    </tr>\n",
       "    <tr>\n",
       "      <th>000050</th>\n",
       "      <td>0.000000</td>\n",
       "    </tr>\n",
       "    <tr>\n",
       "      <th>000060</th>\n",
       "      <td>0.000000</td>\n",
       "    </tr>\n",
       "    <tr>\n",
       "      <th>000070</th>\n",
       "      <td>0.000000</td>\n",
       "    </tr>\n",
       "    <tr>\n",
       "      <th>...</th>\n",
       "      <th>...</th>\n",
       "      <td>...</td>\n",
       "    </tr>\n",
       "    <tr>\n",
       "      <th rowspan=\"5\" valign=\"top\">2021-05</th>\n",
       "      <th>378850</th>\n",
       "      <td>-1.564945</td>\n",
       "    </tr>\n",
       "    <tr>\n",
       "      <th>380440</th>\n",
       "      <td>0.000000</td>\n",
       "    </tr>\n",
       "    <tr>\n",
       "      <th>383220</th>\n",
       "      <td>0.000000</td>\n",
       "    </tr>\n",
       "    <tr>\n",
       "      <th>900140</th>\n",
       "      <td>-2.864939</td>\n",
       "    </tr>\n",
       "    <tr>\n",
       "      <th>950210</th>\n",
       "      <td>-14.918759</td>\n",
       "    </tr>\n",
       "  </tbody>\n",
       "</table>\n",
       "<p>249602 rows × 1 columns</p>\n",
       "</div>"
      ],
      "text/plain": [
       "                   return\n",
       "date    ticker           \n",
       "1995-06 000020   0.000000\n",
       "        000040   0.000000\n",
       "        000050   0.000000\n",
       "        000060   0.000000\n",
       "        000070   0.000000\n",
       "...                   ...\n",
       "2021-05 378850  -1.564945\n",
       "        380440   0.000000\n",
       "        383220   0.000000\n",
       "        900140  -2.864939\n",
       "        950210 -14.918759\n",
       "\n",
       "[249602 rows x 1 columns]"
      ]
     },
     "execution_count": 59,
     "metadata": {},
     "output_type": "execute_result"
    }
   ],
   "source": [
    "return_data"
   ]
  },
  {
   "cell_type": "markdown",
   "metadata": {},
   "source": [
    "### 1년 Size - B/M Portfolio 수익률 먼저 만들어 보기"
   ]
  },
  {
   "cell_type": "code",
   "execution_count": 60,
   "metadata": {},
   "outputs": [
    {
     "name": "stdout",
     "output_type": "stream",
     "text": [
      "1998-06\n"
     ]
    }
   ],
   "source": [
    "# 처음 월들을 기준으로 정하기\n",
    "first_month = period_index[0]\n",
    "print(first_month)"
   ]
  },
  {
   "cell_type": "code",
   "execution_count": 61,
   "metadata": {},
   "outputs": [],
   "source": [
    "rank = six_month_rank.loc[idx[first_month,:],:]['rank']"
   ]
  },
  {
   "cell_type": "code",
   "execution_count": 62,
   "metadata": {
    "scrolled": true
   },
   "outputs": [
    {
     "data": {
      "text/plain": [
       "date     ticker\n",
       "1998-06  000020    198\n",
       "         000040    355\n",
       "         000050    175\n",
       "         000070    195\n",
       "         000100    280\n",
       "                  ... \n",
       "         029460    186\n",
       "         029530    326\n",
       "         030000    273\n",
       "         030720     43\n",
       "         031820    266\n",
       "Name: rank, Length: 391, dtype: int32"
      ]
     },
     "execution_count": 62,
     "metadata": {},
     "output_type": "execute_result"
    }
   ],
   "source": [
    "rank"
   ]
  },
  {
   "cell_type": "markdown",
   "metadata": {},
   "source": [
    "#### 2분위수로 Size Factor 나누기\n",
    "- Size를 먼저"
   ]
  },
  {
   "cell_type": "code",
   "execution_count": 63,
   "metadata": {},
   "outputs": [],
   "source": [
    "rank_qauntile = pd.qcut(rank, q=2, labels=['small','big']).to_frame()"
   ]
  },
  {
   "cell_type": "code",
   "execution_count": 64,
   "metadata": {},
   "outputs": [
    {
     "data": {
      "text/html": [
       "<div>\n",
       "<style scoped>\n",
       "    .dataframe tbody tr th:only-of-type {\n",
       "        vertical-align: middle;\n",
       "    }\n",
       "\n",
       "    .dataframe tbody tr th {\n",
       "        vertical-align: top;\n",
       "    }\n",
       "\n",
       "    .dataframe thead th {\n",
       "        text-align: right;\n",
       "    }\n",
       "</style>\n",
       "<table border=\"1\" class=\"dataframe\">\n",
       "  <thead>\n",
       "    <tr style=\"text-align: right;\">\n",
       "      <th></th>\n",
       "      <th></th>\n",
       "      <th>rank</th>\n",
       "    </tr>\n",
       "    <tr>\n",
       "      <th>date</th>\n",
       "      <th>ticker</th>\n",
       "      <th></th>\n",
       "    </tr>\n",
       "  </thead>\n",
       "  <tbody>\n",
       "    <tr>\n",
       "      <th rowspan=\"11\" valign=\"top\">1998-06</th>\n",
       "      <th>000020</th>\n",
       "      <td>big</td>\n",
       "    </tr>\n",
       "    <tr>\n",
       "      <th>000040</th>\n",
       "      <td>big</td>\n",
       "    </tr>\n",
       "    <tr>\n",
       "      <th>000050</th>\n",
       "      <td>small</td>\n",
       "    </tr>\n",
       "    <tr>\n",
       "      <th>000070</th>\n",
       "      <td>small</td>\n",
       "    </tr>\n",
       "    <tr>\n",
       "      <th>000100</th>\n",
       "      <td>big</td>\n",
       "    </tr>\n",
       "    <tr>\n",
       "      <th>...</th>\n",
       "      <td>...</td>\n",
       "    </tr>\n",
       "    <tr>\n",
       "      <th>029460</th>\n",
       "      <td>small</td>\n",
       "    </tr>\n",
       "    <tr>\n",
       "      <th>029530</th>\n",
       "      <td>big</td>\n",
       "    </tr>\n",
       "    <tr>\n",
       "      <th>030000</th>\n",
       "      <td>big</td>\n",
       "    </tr>\n",
       "    <tr>\n",
       "      <th>030720</th>\n",
       "      <td>small</td>\n",
       "    </tr>\n",
       "    <tr>\n",
       "      <th>031820</th>\n",
       "      <td>big</td>\n",
       "    </tr>\n",
       "  </tbody>\n",
       "</table>\n",
       "<p>391 rows × 1 columns</p>\n",
       "</div>"
      ],
      "text/plain": [
       "                 rank\n",
       "date    ticker       \n",
       "1998-06 000020    big\n",
       "        000040    big\n",
       "        000050  small\n",
       "        000070  small\n",
       "        000100    big\n",
       "...               ...\n",
       "        029460  small\n",
       "        029530    big\n",
       "        030000    big\n",
       "        030720  small\n",
       "        031820    big\n",
       "\n",
       "[391 rows x 1 columns]"
      ]
     },
     "execution_count": 64,
     "metadata": {},
     "output_type": "execute_result"
    }
   ],
   "source": [
    "rank_qauntile"
   ]
  },
  {
   "cell_type": "code",
   "execution_count": 65,
   "metadata": {},
   "outputs": [],
   "source": [
    "big_marcap_ticker = rank_qauntile[rank_qauntile['rank'].astype(str) == 'big'].index.get_level_values('ticker')"
   ]
  },
  {
   "cell_type": "code",
   "execution_count": 66,
   "metadata": {},
   "outputs": [],
   "source": [
    "small_marcap_ticker = rank_qauntile[rank_qauntile['rank'].astype(str) == 'small'].index.get_level_values('ticker')"
   ]
  },
  {
   "cell_type": "markdown",
   "metadata": {},
   "source": [
    "### Portfolio 기간 가져오기"
   ]
  },
  {
   "cell_type": "code",
   "execution_count": 67,
   "metadata": {},
   "outputs": [],
   "source": [
    "def get_year_base(date:pd.Period, ticker_range):\n",
    "    start = date.to_timestamp() + pd.DateOffset(months=1)\n",
    "    end = start + pd.DateOffset(months=12) - pd.DateOffset(days=1)\n",
    "\n",
    "    year_return = (return_data.loc[idx[start:end, ticker_range],:]\n",
    "                                        .unstack('ticker')\n",
    "                    )\n",
    "    return year_return"
   ]
  },
  {
   "cell_type": "code",
   "execution_count": 68,
   "metadata": {},
   "outputs": [],
   "source": [
    "def get_year_return(date:pd.Period, ticker_range):\n",
    "    return get_year_base(date, ticker_range).mean(axis=1)"
   ]
  },
  {
   "cell_type": "markdown",
   "metadata": {},
   "source": [
    " ### Equal Weight Portfolio이므로 수익률을 평균해준다."
   ]
  },
  {
   "cell_type": "code",
   "execution_count": 69,
   "metadata": {},
   "outputs": [],
   "source": [
    "big_marcap_year_return = get_year_return(first_month, big_marcap_ticker)"
   ]
  },
  {
   "cell_type": "code",
   "execution_count": 70,
   "metadata": {},
   "outputs": [
    {
     "data": {
      "text/plain": [
       "date\n",
       "1998-07    17.847597\n",
       "1998-08    -2.972574\n",
       "1998-09    -4.445222\n",
       "1998-10    18.247882\n",
       "1998-11    39.903702\n",
       "1998-12    20.615551\n",
       "1999-01    13.740395\n",
       "1999-02   -10.099617\n",
       "1999-03    13.494986\n",
       "1999-04    23.786256\n",
       "1999-05    -1.763209\n",
       "1999-06     8.226491\n",
       "Freq: M, dtype: float64"
      ]
     },
     "execution_count": 70,
     "metadata": {},
     "output_type": "execute_result"
    }
   ],
   "source": [
    "big_marcap_year_return"
   ]
  },
  {
   "cell_type": "code",
   "execution_count": 71,
   "metadata": {},
   "outputs": [],
   "source": [
    "small_marcap_year_return = get_year_return(first_month, small_marcap_ticker)"
   ]
  },
  {
   "cell_type": "code",
   "execution_count": 72,
   "metadata": {},
   "outputs": [
    {
     "name": "stdout",
     "output_type": "stream",
     "text": [
      "date\n",
      "1998-07     0.481735\n",
      "1998-08    14.101973\n",
      "1998-09     2.931755\n",
      "1998-10    -3.753220\n",
      "1998-11    -4.391560\n",
      "1998-12     3.136358\n",
      "1999-01     3.701307\n",
      "1999-02    -0.498089\n",
      "1999-03     3.309911\n",
      "1999-04     4.076968\n",
      "1999-05     7.462342\n",
      "1999-06    -2.943331\n",
      "Freq: M, dtype: float64\n"
     ]
    }
   ],
   "source": [
    "smb = small_marcap_year_return - big_marcap_year_return\n",
    "print(smb)"
   ]
  },
  {
   "cell_type": "markdown",
   "metadata": {},
   "source": [
    "### 이제 모든 기간의 SMB 수익을 구해본다."
   ]
  },
  {
   "cell_type": "code",
   "execution_count": 73,
   "metadata": {
    "scrolled": true
   },
   "outputs": [
    {
     "name": "stdout",
     "output_type": "stream",
     "text": [
      "1998-06\n",
      "1999-06\n",
      "2000-06\n",
      "2001-06\n",
      "2002-06\n",
      "2003-06\n",
      "2004-06\n",
      "2005-06\n",
      "2006-06\n",
      "2007-06\n",
      "2008-06\n",
      "2009-06\n",
      "2010-06\n",
      "2011-06\n",
      "2012-06\n",
      "2013-06\n",
      "2014-06\n",
      "2015-06\n",
      "2016-06\n",
      "2017-06\n",
      "2018-06\n",
      "2019-06\n",
      "2020-06\n",
      "2021-06\n"
     ]
    }
   ],
   "source": [
    "# 멀티 쓰레드 풀 이용\n",
    "from concurrent import futures\n",
    "import concurrent\n",
    "\n",
    "# 이 작업은 CPU 리소스와 시간이 많이 들어갑니다.\n",
    "smb_list = []\n",
    "def calculate_return(period):\n",
    "    print(period)\n",
    "    rank = six_month_rank.loc[idx[period,:],:]['rank']\n",
    "    rank_qauntile = pd.qcut(rank, q=2, labels=['small','big']).to_frame()\n",
    "    \n",
    "    big_marcap_ticker = rank_qauntile[rank_qauntile['rank'].astype(str) == 'big'].index.get_level_values('ticker')\n",
    "    small_marcap_ticker = rank_qauntile[rank_qauntile['rank'].astype(str) == 'small'].index.get_level_values('ticker')\n",
    "    \n",
    "    big_marcap_year_return = get_year_return(period, big_marcap_ticker)\n",
    "    small_marcap_year_return = get_year_return(period, small_marcap_ticker)\n",
    "    smb = (small_marcap_year_return - big_marcap_year_return).to_frame()\n",
    "    smb.columns = ['SMB']\n",
    "    smb_list.append(smb)\n",
    "    \n",
    "with futures.ThreadPoolExecutor(10) as executor:\n",
    "    executor.map(calculate_return, period_index)"
   ]
  },
  {
   "cell_type": "code",
   "execution_count": 74,
   "metadata": {},
   "outputs": [],
   "source": [
    "SMB = pd.concat(smb_list)"
   ]
  },
  {
   "cell_type": "code",
   "execution_count": 75,
   "metadata": {},
   "outputs": [],
   "source": [
    "SMB.sort_index(inplace=True)"
   ]
  },
  {
   "cell_type": "markdown",
   "metadata": {},
   "source": [
    "### Kospi Equal Weight Index 만들기\n",
    "- 기존 KOSPI 인덱스는 Value Weight Index여서 삼성전자같은 시가총액 큰 기업의 영향을 많이 받았다.\n",
    "- 국내 주식으로 Fama - French 5요인으로 만들때는 Portfolio를 Equal Weight로 해줬으므로 Equal Weight Index로 다시 만들어 줘야 된다."
   ]
  },
  {
   "cell_type": "code",
   "execution_count": 76,
   "metadata": {},
   "outputs": [],
   "source": [
    "kospi = (stock_data[['adj_close']]\n",
    "                             .unstack('ticker')\n",
    "                             .resample('M')\n",
    "                             .last()\n",
    "                             .fillna(method='bfill')\n",
    "                             .fillna(0)\n",
    "                             .pct_change()\n",
    "                             .mean(axis=1)\n",
    "                             .dropna()\n",
    "                             .mul(100)\n",
    "                             .to_frame()\n",
    "                            )"
   ]
  },
  {
   "cell_type": "code",
   "execution_count": 77,
   "metadata": {},
   "outputs": [],
   "source": [
    "kospi.rename(columns={0:'Mkt-RF'}, inplace=True)\n",
    "kospi = kospi[kospi.index >= period_index[0].to_timestamp()]\n",
    "kospi.index = kospi.index.to_period('M')"
   ]
  },
  {
   "cell_type": "markdown",
   "metadata": {},
   "source": [
    "### 코스피 Index랑 SMB 비교"
   ]
  },
  {
   "cell_type": "code",
   "execution_count": 78,
   "metadata": {},
   "outputs": [
    {
     "data": {
      "text/plain": [
       "<matplotlib.legend.Legend at 0x1f244ab0d60>"
      ]
     },
     "execution_count": 78,
     "metadata": {},
     "output_type": "execute_result"
    },
    {
     "data": {
      "image/png": "[encoded data removed]",
      "text/plain": [
       "<Figure size 432x288 with 1 Axes>"
      ]
     },
     "metadata": {
      "needs_background": "light"
     },
     "output_type": "display_data"
    }
   ],
   "source": [
    "(SMB['SMB']/100 + 1).cumprod().plot()\n",
    "(kospi['Mkt-RF']/100 + 1).cumprod().plot()\n",
    "plt.legend()"
   ]
  },
  {
   "cell_type": "markdown",
   "metadata": {},
   "source": [
    "## HML 월별 수익률 구하기"
   ]
  },
  {
   "cell_type": "markdown",
   "metadata": {},
   "source": [
    "#### Size - B/M 포트폴리오\n",
    "|Size/ BM|Small|Big|\n",
    "|---|---|---|\n",
    "|High BM|SH|BH|\n",
    "|2|SN|BN|\n",
    "|Low BM|SL|BL|\n",
    "\n",
    "\n",
    "\n",
    "구하는 식\n",
    "- HML = (SH + BH)/2 - (SL + BL)/2  "
   ]
  },
  {
   "cell_type": "code",
   "execution_count": 79,
   "metadata": {},
   "outputs": [],
   "source": [
    "period = period_index[0]"
   ]
  },
  {
   "cell_type": "code",
   "execution_count": 80,
   "metadata": {},
   "outputs": [],
   "source": [
    "big_bm_data = book_to_market_ratio.loc[idx[period, big_marcap_ticker],:]['BM']\n",
    "small_bm_data = book_to_market_ratio.loc[idx[period, small_marcap_ticker],:]['BM']"
   ]
  },
  {
   "cell_type": "markdown",
   "metadata": {},
   "source": [
    "### B/M에 따라 3분위수로 나눈다."
   ]
  },
  {
   "cell_type": "code",
   "execution_count": 81,
   "metadata": {},
   "outputs": [],
   "source": [
    "big_bm_quantile = pd.qcut(big_bm_data, q=3, labels=['BL', 'BN', 'BH']).to_frame()"
   ]
  },
  {
   "cell_type": "code",
   "execution_count": 82,
   "metadata": {},
   "outputs": [],
   "source": [
    "small_bm_quantile = pd.qcut(small_bm_data, q=3, labels=['SL', 'SN', 'SH']).to_frame()"
   ]
  },
  {
   "cell_type": "code",
   "execution_count": 83,
   "metadata": {},
   "outputs": [],
   "source": [
    "bh_ticker = big_bm_quantile[big_bm_quantile['BM'].astype(str) == 'BH'].index.get_level_values('ticker')\n",
    "sh_ticker = small_bm_quantile[small_bm_quantile['BM'].astype(str) == 'SH'].index.get_level_values('ticker')"
   ]
  },
  {
   "cell_type": "code",
   "execution_count": 84,
   "metadata": {},
   "outputs": [],
   "source": [
    "bl_ticker = big_bm_quantile[big_bm_quantile['BM'].astype(str) == 'BL'].index.get_level_values('ticker')\n",
    "sl_ticker = small_bm_quantile[small_bm_quantile['BM'].astype(str) == 'SL'].index.get_level_values('ticker')"
   ]
  },
  {
   "cell_type": "code",
   "execution_count": 85,
   "metadata": {},
   "outputs": [],
   "source": [
    "hml = (get_year_return(period, bh_ticker) + get_year_return(period, sh_ticker))/2 - (get_year_return(period, bl_ticker) + get_year_return(period, sl_ticker))/2"
   ]
  },
  {
   "cell_type": "markdown",
   "metadata": {},
   "source": [
    "### 전체 기간의 HML을 구해본다."
   ]
  },
  {
   "cell_type": "code",
   "execution_count": 86,
   "metadata": {},
   "outputs": [
    {
     "name": "stdout",
     "output_type": "stream",
     "text": [
      "1998-06\n",
      "1999-06\n",
      "2000-06\n",
      "2001-06\n",
      "2002-06\n",
      "2003-06\n",
      "2004-06\n",
      "2005-06\n",
      "2006-06\n",
      "2007-06\n",
      "2008-06\n",
      "2009-06\n",
      "2010-06\n",
      "2011-06\n",
      "2012-06\n",
      "2013-06\n",
      "2014-06\n",
      "2015-06\n",
      "2016-06\n",
      "2017-06\n",
      "2018-06\n",
      "2019-06\n",
      "2020-06\n",
      "2021-06\n"
     ]
    }
   ],
   "source": [
    "hml_list = []\n",
    "def calculate_return(period):\n",
    "    print(period)\n",
    "    big_bm_data = book_to_market_ratio.loc[idx[period, big_marcap_ticker],:]['BM']\n",
    "    small_bm_data = book_to_market_ratio.loc[idx[period, small_marcap_ticker],:]['BM']\n",
    "    \n",
    "    # 3분위수로 나눈다.\n",
    "    big_bm_quantile = pd.qcut(big_bm_data, q=3, labels=['BL', 'BN', 'BH']).to_frame()\n",
    "    small_bm_quantile = pd.qcut(small_bm_data, q=3, labels=['SL', 'SN', 'SH']).to_frame()\n",
    "    \n",
    "    bh_ticker = big_bm_quantile[big_bm_quantile['BM'].astype(str) == 'BH'].index.get_level_values('ticker')\n",
    "    sh_ticker = small_bm_quantile[small_bm_quantile['BM'].astype(str) == 'SH'].index.get_level_values('ticker')\n",
    "    \n",
    "    bl_ticker = big_bm_quantile[big_bm_quantile['BM'].astype(str) == 'BL'].index.get_level_values('ticker')\n",
    "    sl_ticker = small_bm_quantile[small_bm_quantile['BM'].astype(str) == 'SL'].index.get_level_values('ticker')\n",
    "    \n",
    "    hml = (get_year_return(period, bh_ticker) + get_year_return(period, sh_ticker))/2 - (get_year_return(period, bl_ticker) + get_year_return(period, sl_ticker))/2\n",
    "    hml = hml.to_frame()\n",
    "    hml.columns = ['HML']\n",
    "    hml_list.append(hml)\n",
    "    \n",
    "for period in period_index:\n",
    "    hml_list.append(calculate_return(period))"
   ]
  },
  {
   "cell_type": "code",
   "execution_count": 87,
   "metadata": {},
   "outputs": [],
   "source": [
    "HML = pd.concat(hml_list).sort_index()"
   ]
  },
  {
   "cell_type": "code",
   "execution_count": 88,
   "metadata": {},
   "outputs": [
    {
     "data": {
      "text/plain": [
       "<matplotlib.legend.Legend at 0x1f244a171f0>"
      ]
     },
     "execution_count": 88,
     "metadata": {},
     "output_type": "execute_result"
    },
    {
     "data": {
      "image/png": "[encoded data removed]",
      "text/plain": [
       "<Figure size 432x288 with 1 Axes>"
      ]
     },
     "metadata": {
      "needs_background": "light"
     },
     "output_type": "display_data"
    }
   ],
   "source": [
    "(SMB['SMB']/100 + 1).cumprod().plot()\n",
    "(HML['HML']/100 + 1).cumprod().plot()\n",
    "(kospi['Mkt-RF']/100 + 1).cumprod().plot()\n",
    "plt.legend()"
   ]
  },
  {
   "cell_type": "markdown",
   "metadata": {},
   "source": [
    "## RMW 월별 수익률 구하기¶"
   ]
  },
  {
   "cell_type": "markdown",
   "metadata": {},
   "source": [
    "#### Size - OP 포트폴리오\n",
    "|Size/ OP|Small|Big|\n",
    "|---|---|---|\n",
    "|High OP|SR|BR|\n",
    "|2|SN|BN|\n",
    "|Low OP|SW|BW|\n",
    "\n",
    "\n",
    "구하는 식\n",
    "- RMW = (SR + BR)/2 - (SW + BW)/2  "
   ]
  },
  {
   "cell_type": "markdown",
   "metadata": {},
   "source": [
    "### 구하는 식의 HML이랑 비슷하므로 바로 코드로 넘어간다."
   ]
  },
  {
   "cell_type": "code",
   "execution_count": 89,
   "metadata": {},
   "outputs": [
    {
     "name": "stdout",
     "output_type": "stream",
     "text": [
      "1998-06\n",
      "1999-06\n",
      "2000-06\n",
      "2001-06\n",
      "2002-06\n",
      "2003-06\n",
      "2004-06\n",
      "2005-06\n",
      "2006-06\n",
      "2007-06\n",
      "2008-06\n",
      "2009-06\n",
      "2010-06\n",
      "2011-06\n",
      "2012-06\n",
      "2013-06\n",
      "2014-06\n",
      "2015-06\n",
      "2016-06\n",
      "2017-06\n",
      "2018-06\n",
      "2019-06\n",
      "2020-06\n",
      "2021-06\n"
     ]
    }
   ],
   "source": [
    "rmw_list = []\n",
    "\n",
    "def calculate_return(period):\n",
    "    print(period)\n",
    "    big_op_data = op.loc[idx[period, big_marcap_ticker],:]['OP']\n",
    "    small_op_data = op.loc[idx[period, small_marcap_ticker],:]['OP']\n",
    "    \n",
    "    # 3분위수로 나눈다.\n",
    "    big_op_quantile = pd.qcut(big_op_data, q=3, labels=['BW', 'BN', 'BR']).to_frame()\n",
    "    small_op_quantile = pd.qcut(small_op_data, q=3, labels=['SW', 'SN', 'SR']).to_frame()\n",
    "    \n",
    "    br_ticker = big_op_quantile[big_op_quantile['OP'].astype(str) == 'BR'].index.get_level_values('ticker')\n",
    "    sr_ticker = small_op_quantile[small_op_quantile['OP'].astype(str) == 'SR'].index.get_level_values('ticker')\n",
    "    \n",
    "    bw_ticker = big_op_quantile[big_op_quantile['OP'].astype(str) == 'BW'].index.get_level_values('ticker')\n",
    "    sw_ticker = small_op_quantile[small_op_quantile['OP'].astype(str) == 'SW'].index.get_level_values('ticker')\n",
    "    \n",
    "    rmw = (get_year_return(period, br_ticker) + get_year_return(period, sr_ticker))/2 - (get_year_return(period, bw_ticker) + get_year_return(period, sw_ticker))/2\n",
    "    rmw = rmw.to_frame()\n",
    "    rmw.columns = ['RMW']\n",
    "    return rmw \n",
    "\n",
    "for period in period_index:\n",
    "    rmw_list.append(calculate_return(period))"
   ]
  },
  {
   "cell_type": "code",
   "execution_count": 90,
   "metadata": {},
   "outputs": [],
   "source": [
    "RMW = pd.concat(rmw_list).sort_index()"
   ]
  },
  {
   "cell_type": "code",
   "execution_count": 91,
   "metadata": {},
   "outputs": [
    {
     "data": {
      "text/plain": [
       "<matplotlib.legend.Legend at 0x1f245543a60>"
      ]
     },
     "execution_count": 91,
     "metadata": {},
     "output_type": "execute_result"
    },
    {
     "data": {
      "image/png": "[encoded data removed]",
      "text/plain": [
       "<Figure size 432x288 with 1 Axes>"
      ]
     },
     "metadata": {
      "needs_background": "light"
     },
     "output_type": "display_data"
    }
   ],
   "source": [
    "(SMB['SMB']/100 + 1).cumprod().plot()\n",
    "(RMW['RMW']/100 + 1).cumprod().plot()\n",
    "(HML['HML']/100 + 1).cumprod().plot()\n",
    "(kospi['Mkt-RF']/100 + 1).cumprod().plot()\n",
    "plt.legend()"
   ]
  },
  {
   "cell_type": "markdown",
   "metadata": {},
   "source": [
    "## CMA 월별 수익률 구하기"
   ]
  },
  {
   "cell_type": "markdown",
   "metadata": {},
   "source": [
    "#### Size - Inv 포트폴리오\n",
    "|Size/ Inv|Small|Big|\n",
    "|---|---|---|\n",
    "|High Inv|SC|BC|\n",
    "|2|SN|BN|\n",
    "|Low Inv|SA|BA|\n",
    "\n",
    "구하는 식\n",
    "- CMA = (SC + BC)/2 - (SM + BM)/2  "
   ]
  },
  {
   "cell_type": "markdown",
   "metadata": {},
   "source": [
    "### 구하는 식의 HML이랑 비슷하므로 바로 코드로 넘어간다."
   ]
  },
  {
   "cell_type": "code",
   "execution_count": 92,
   "metadata": {},
   "outputs": [
    {
     "name": "stdout",
     "output_type": "stream",
     "text": [
      "1998-06\n",
      "1999-06\n",
      "2000-06\n",
      "2001-06\n",
      "2002-06\n",
      "2003-06\n",
      "2004-06\n",
      "2005-06\n",
      "2006-06\n",
      "2007-06\n",
      "2008-06\n",
      "2009-06\n",
      "2010-06\n",
      "2011-06\n",
      "2012-06\n",
      "2013-06\n",
      "2014-06\n",
      "2015-06\n",
      "2016-06\n",
      "2017-06\n",
      "2018-06\n",
      "2019-06\n",
      "2020-06\n",
      "2021-06\n"
     ]
    }
   ],
   "source": [
    "cma_list = []\n",
    "\n",
    "def calculate_return(period):\n",
    "    print(period)\n",
    "    big_inv_data = inv.loc[idx[period, big_marcap_ticker],:]['INV']\n",
    "    small_inv_data = inv.loc[idx[period, small_marcap_ticker],:]['INV']\n",
    "    \n",
    "    # 3분위수로 나눈다.\n",
    "    big_inv_quantile = pd.qcut(big_inv_data, q=3, labels=['BA', 'BN', 'BC']).to_frame()\n",
    "    small_inv_quantile = pd.qcut(small_inv_data, q=3, labels=['SA', 'SN', 'SC']).to_frame()\n",
    "    \n",
    "    bc_ticker = big_inv_quantile[big_inv_quantile['INV'].astype(str) == 'BC'].index.get_level_values('ticker')\n",
    "    sc_ticker = small_inv_quantile[small_inv_quantile['INV'].astype(str) == 'SC'].index.get_level_values('ticker')\n",
    "    \n",
    "    ba_ticker = big_inv_quantile[big_inv_quantile['INV'].astype(str) == 'BA'].index.get_level_values('ticker')\n",
    "    sa_ticker = small_inv_quantile[small_inv_quantile['INV'].astype(str) == 'SA'].index.get_level_values('ticker')\n",
    "    \n",
    "    cma = (get_year_return(period, bc_ticker) + get_year_return(period, sc_ticker))/2 - (get_year_return(period, ba_ticker) + get_year_return(period, sa_ticker))/2\n",
    "    cma = cma.to_frame()\n",
    "    cma.columns = ['CMA']\n",
    "    return cma\n",
    "\n",
    "for period in period_index:\n",
    "    cma_list.append(calculate_return(period))"
   ]
  },
  {
   "cell_type": "code",
   "execution_count": 93,
   "metadata": {},
   "outputs": [],
   "source": [
    "CMA = pd.concat(cma_list).sort_index()"
   ]
  },
  {
   "cell_type": "markdown",
   "metadata": {},
   "source": [
    "## 국내 Equal Weight Fama - French 5요인 수익률"
   ]
  },
  {
   "cell_type": "code",
   "execution_count": 94,
   "metadata": {
    "scrolled": true
   },
   "outputs": [
    {
     "data": {
      "text/plain": [
       "<matplotlib.legend.Legend at 0x1f245625280>"
      ]
     },
     "execution_count": 94,
     "metadata": {},
     "output_type": "execute_result"
    },
    {
     "data": {
      "image/png": "[encoded data removed]",
      "text/plain": [
       "<Figure size 432x288 with 1 Axes>"
      ]
     },
     "metadata": {
      "needs_background": "light"
     },
     "output_type": "display_data"
    }
   ],
   "source": [
    "(SMB['SMB']/100 + 1).cumprod().plot()\n",
    "(CMA['CMA']/100 + 1).cumprod().plot()\n",
    "(RMW['RMW']/100 + 1).cumprod().plot()\n",
    "(HML['HML']/100 + 1).cumprod().plot()\n",
    "(kospi['Mkt-RF']/100 + 1).cumprod().plot()\n",
    "plt.legend()"
   ]
  },
  {
   "cell_type": "code",
   "execution_count": 95,
   "metadata": {},
   "outputs": [
    {
     "data": {
      "text/html": [
       "<div>\n",
       "<style scoped>\n",
       "    .dataframe tbody tr th:only-of-type {\n",
       "        vertical-align: middle;\n",
       "    }\n",
       "\n",
       "    .dataframe tbody tr th {\n",
       "        vertical-align: top;\n",
       "    }\n",
       "\n",
       "    .dataframe thead th {\n",
       "        text-align: right;\n",
       "    }\n",
       "</style>\n",
       "<table border=\"1\" class=\"dataframe\">\n",
       "  <thead>\n",
       "    <tr style=\"text-align: right;\">\n",
       "      <th></th>\n",
       "      <th>CMA</th>\n",
       "    </tr>\n",
       "    <tr>\n",
       "      <th>date</th>\n",
       "      <th></th>\n",
       "    </tr>\n",
       "  </thead>\n",
       "  <tbody>\n",
       "    <tr>\n",
       "      <th>1998-07</th>\n",
       "      <td>-0.155998</td>\n",
       "    </tr>\n",
       "    <tr>\n",
       "      <th>1998-08</th>\n",
       "      <td>-3.729661</td>\n",
       "    </tr>\n",
       "    <tr>\n",
       "      <th>1998-09</th>\n",
       "      <td>0.004001</td>\n",
       "    </tr>\n",
       "    <tr>\n",
       "      <th>1998-10</th>\n",
       "      <td>3.265335</td>\n",
       "    </tr>\n",
       "    <tr>\n",
       "      <th>1998-11</th>\n",
       "      <td>-28.631149</td>\n",
       "    </tr>\n",
       "    <tr>\n",
       "      <th>...</th>\n",
       "      <td>...</td>\n",
       "    </tr>\n",
       "    <tr>\n",
       "      <th>2021-01</th>\n",
       "      <td>-0.481857</td>\n",
       "    </tr>\n",
       "    <tr>\n",
       "      <th>2021-02</th>\n",
       "      <td>-0.226829</td>\n",
       "    </tr>\n",
       "    <tr>\n",
       "      <th>2021-03</th>\n",
       "      <td>-8.503051</td>\n",
       "    </tr>\n",
       "    <tr>\n",
       "      <th>2021-04</th>\n",
       "      <td>-3.883480</td>\n",
       "    </tr>\n",
       "    <tr>\n",
       "      <th>2021-05</th>\n",
       "      <td>1.453423</td>\n",
       "    </tr>\n",
       "  </tbody>\n",
       "</table>\n",
       "<p>275 rows × 1 columns</p>\n",
       "</div>"
      ],
      "text/plain": [
       "               CMA\n",
       "date              \n",
       "1998-07  -0.155998\n",
       "1998-08  -3.729661\n",
       "1998-09   0.004001\n",
       "1998-10   3.265335\n",
       "1998-11 -28.631149\n",
       "...            ...\n",
       "2021-01  -0.481857\n",
       "2021-02  -0.226829\n",
       "2021-03  -8.503051\n",
       "2021-04  -3.883480\n",
       "2021-05   1.453423\n",
       "\n",
       "[275 rows x 1 columns]"
      ]
     },
     "execution_count": 95,
     "metadata": {},
     "output_type": "execute_result"
    }
   ],
   "source": [
    "CMA"
   ]
  },
  {
   "cell_type": "code",
   "execution_count": 96,
   "metadata": {},
   "outputs": [],
   "source": [
    "fama_french_5_factor_korea = pd.concat([kospi, SMB, HML, RMW, CMA], axis=1).dropna()"
   ]
  },
  {
   "cell_type": "code",
   "execution_count": 97,
   "metadata": {},
   "outputs": [
    {
     "data": {
      "text/html": [
       "<div>\n",
       "<style scoped>\n",
       "    .dataframe tbody tr th:only-of-type {\n",
       "        vertical-align: middle;\n",
       "    }\n",
       "\n",
       "    .dataframe tbody tr th {\n",
       "        vertical-align: top;\n",
       "    }\n",
       "\n",
       "    .dataframe thead th {\n",
       "        text-align: right;\n",
       "    }\n",
       "</style>\n",
       "<table border=\"1\" class=\"dataframe\">\n",
       "  <thead>\n",
       "    <tr style=\"text-align: right;\">\n",
       "      <th></th>\n",
       "      <th>Mkt-RF</th>\n",
       "      <th>SMB</th>\n",
       "      <th>HML</th>\n",
       "      <th>RMW</th>\n",
       "      <th>CMA</th>\n",
       "    </tr>\n",
       "    <tr>\n",
       "      <th>date</th>\n",
       "      <th></th>\n",
       "      <th></th>\n",
       "      <th></th>\n",
       "      <th></th>\n",
       "      <th></th>\n",
       "    </tr>\n",
       "  </thead>\n",
       "  <tbody>\n",
       "    <tr>\n",
       "      <th>1998-07</th>\n",
       "      <td>11.842538</td>\n",
       "      <td>0.481735</td>\n",
       "      <td>1.146705</td>\n",
       "      <td>4.741896</td>\n",
       "      <td>-0.155998</td>\n",
       "    </tr>\n",
       "    <tr>\n",
       "      <th>1998-08</th>\n",
       "      <td>0.903730</td>\n",
       "      <td>14.101973</td>\n",
       "      <td>-7.322806</td>\n",
       "      <td>-10.299586</td>\n",
       "      <td>-3.729661</td>\n",
       "    </tr>\n",
       "    <tr>\n",
       "      <th>1998-09</th>\n",
       "      <td>-1.216550</td>\n",
       "      <td>2.931755</td>\n",
       "      <td>6.739728</td>\n",
       "      <td>-0.027113</td>\n",
       "      <td>0.004001</td>\n",
       "    </tr>\n",
       "    <tr>\n",
       "      <th>1998-10</th>\n",
       "      <td>10.092479</td>\n",
       "      <td>-3.753220</td>\n",
       "      <td>-2.790162</td>\n",
       "      <td>4.685003</td>\n",
       "      <td>3.265335</td>\n",
       "    </tr>\n",
       "    <tr>\n",
       "      <th>1998-11</th>\n",
       "      <td>21.841657</td>\n",
       "      <td>-4.391560</td>\n",
       "      <td>-35.507899</td>\n",
       "      <td>-1.628143</td>\n",
       "      <td>-28.631149</td>\n",
       "    </tr>\n",
       "    <tr>\n",
       "      <th>...</th>\n",
       "      <td>...</td>\n",
       "      <td>...</td>\n",
       "      <td>...</td>\n",
       "      <td>...</td>\n",
       "      <td>...</td>\n",
       "    </tr>\n",
       "    <tr>\n",
       "      <th>2021-01</th>\n",
       "      <td>2.238184</td>\n",
       "      <td>0.414898</td>\n",
       "      <td>2.874167</td>\n",
       "      <td>3.067176</td>\n",
       "      <td>-0.481857</td>\n",
       "    </tr>\n",
       "    <tr>\n",
       "      <th>2021-02</th>\n",
       "      <td>3.806827</td>\n",
       "      <td>0.671351</td>\n",
       "      <td>2.906359</td>\n",
       "      <td>1.219407</td>\n",
       "      <td>-0.226829</td>\n",
       "    </tr>\n",
       "    <tr>\n",
       "      <th>2021-03</th>\n",
       "      <td>7.911433</td>\n",
       "      <td>6.506479</td>\n",
       "      <td>8.213590</td>\n",
       "      <td>-4.158841</td>\n",
       "      <td>-8.503051</td>\n",
       "    </tr>\n",
       "    <tr>\n",
       "      <th>2021-04</th>\n",
       "      <td>7.783553</td>\n",
       "      <td>3.223460</td>\n",
       "      <td>4.151676</td>\n",
       "      <td>-2.625157</td>\n",
       "      <td>-3.883480</td>\n",
       "    </tr>\n",
       "    <tr>\n",
       "      <th>2021-05</th>\n",
       "      <td>0.951538</td>\n",
       "      <td>-0.346207</td>\n",
       "      <td>2.373213</td>\n",
       "      <td>-2.050929</td>\n",
       "      <td>1.453423</td>\n",
       "    </tr>\n",
       "  </tbody>\n",
       "</table>\n",
       "<p>275 rows × 5 columns</p>\n",
       "</div>"
      ],
      "text/plain": [
       "            Mkt-RF        SMB        HML        RMW        CMA\n",
       "date                                                          \n",
       "1998-07  11.842538   0.481735   1.146705   4.741896  -0.155998\n",
       "1998-08   0.903730  14.101973  -7.322806 -10.299586  -3.729661\n",
       "1998-09  -1.216550   2.931755   6.739728  -0.027113   0.004001\n",
       "1998-10  10.092479  -3.753220  -2.790162   4.685003   3.265335\n",
       "1998-11  21.841657  -4.391560 -35.507899  -1.628143 -28.631149\n",
       "...            ...        ...        ...        ...        ...\n",
       "2021-01   2.238184   0.414898   2.874167   3.067176  -0.481857\n",
       "2021-02   3.806827   0.671351   2.906359   1.219407  -0.226829\n",
       "2021-03   7.911433   6.506479   8.213590  -4.158841  -8.503051\n",
       "2021-04   7.783553   3.223460   4.151676  -2.625157  -3.883480\n",
       "2021-05   0.951538  -0.346207   2.373213  -2.050929   1.453423\n",
       "\n",
       "[275 rows x 5 columns]"
      ]
     },
     "execution_count": 97,
     "metadata": {},
     "output_type": "execute_result"
    }
   ],
   "source": [
    "fama_french_5_factor_korea"
   ]
  },
  {
   "cell_type": "markdown",
   "metadata": {},
   "source": [
    "## Risk Free Rate 추가"
   ]
  },
  {
   "cell_type": "code",
   "execution_count": 98,
   "metadata": {},
   "outputs": [],
   "source": [
    "# 1년 만기 국채 수익률 이용\n",
    "risk_free_rate = fdr.DataReader('KR1YT=RR')"
   ]
  },
  {
   "cell_type": "code",
   "execution_count": 99,
   "metadata": {},
   "outputs": [],
   "source": [
    "risk_free = risk_free_rate.resample('M').last()[['Change']]"
   ]
  },
  {
   "cell_type": "code",
   "execution_count": 100,
   "metadata": {},
   "outputs": [],
   "source": [
    "risk_free = risk_free.rename(columns={'Change':'RF'})\n",
    "risk_free.index = risk_free.index.to_period()\n",
    "risk_free.index.name = 'date'"
   ]
  },
  {
   "cell_type": "code",
   "execution_count": 101,
   "metadata": {},
   "outputs": [
    {
     "data": {
      "text/html": [
       "<div>\n",
       "<style scoped>\n",
       "    .dataframe tbody tr th:only-of-type {\n",
       "        vertical-align: middle;\n",
       "    }\n",
       "\n",
       "    .dataframe tbody tr th {\n",
       "        vertical-align: top;\n",
       "    }\n",
       "\n",
       "    .dataframe thead th {\n",
       "        text-align: right;\n",
       "    }\n",
       "</style>\n",
       "<table border=\"1\" class=\"dataframe\">\n",
       "  <thead>\n",
       "    <tr style=\"text-align: right;\">\n",
       "      <th></th>\n",
       "      <th>RF</th>\n",
       "    </tr>\n",
       "    <tr>\n",
       "      <th>date</th>\n",
       "      <th></th>\n",
       "    </tr>\n",
       "  </thead>\n",
       "  <tbody>\n",
       "    <tr>\n",
       "      <th>1995-05</th>\n",
       "      <td>0.0000</td>\n",
       "    </tr>\n",
       "    <tr>\n",
       "      <th>1995-06</th>\n",
       "      <td>0.0068</td>\n",
       "    </tr>\n",
       "    <tr>\n",
       "      <th>1995-07</th>\n",
       "      <td>0.0036</td>\n",
       "    </tr>\n",
       "    <tr>\n",
       "      <th>1995-08</th>\n",
       "      <td>0.0000</td>\n",
       "    </tr>\n",
       "    <tr>\n",
       "      <th>1995-09</th>\n",
       "      <td>0.0000</td>\n",
       "    </tr>\n",
       "  </tbody>\n",
       "</table>\n",
       "</div>"
      ],
      "text/plain": [
       "             RF\n",
       "date           \n",
       "1995-05  0.0000\n",
       "1995-06  0.0068\n",
       "1995-07  0.0036\n",
       "1995-08  0.0000\n",
       "1995-09  0.0000"
      ]
     },
     "execution_count": 101,
     "metadata": {},
     "output_type": "execute_result"
    }
   ],
   "source": [
    "risk_free.head()"
   ]
  },
  {
   "cell_type": "markdown",
   "metadata": {},
   "source": [
    "## Risk Free Rate 추가"
   ]
  },
  {
   "cell_type": "code",
   "execution_count": 102,
   "metadata": {},
   "outputs": [],
   "source": [
    "fama_french_5_factor_korea = fama_french_5_factor_korea.join(risk_free)"
   ]
  },
  {
   "cell_type": "markdown",
   "metadata": {},
   "source": [
    "## Fama - French 5요인 저장"
   ]
  },
  {
   "cell_type": "code",
   "execution_count": 103,
   "metadata": {},
   "outputs": [],
   "source": [
    "DATA_STORE = Path('assets.h5')"
   ]
  },
  {
   "cell_type": "code",
   "execution_count": 104,
   "metadata": {},
   "outputs": [],
   "source": [
    "with pd.HDFStore(DATA_STORE) as store:\n",
    "    store.put('fama_french/equal_weight/korea', fama_french_5_factor_korea)"
   ]
  },
  {
   "cell_type": "markdown",
   "metadata": {},
   "source": [
    "## 미국 Fama - French 5요인 비교"
   ]
  },
  {
   "cell_type": "code",
   "execution_count": 105,
   "metadata": {},
   "outputs": [],
   "source": [
    "ff_factor = 'F-F_Research_Data_5_Factors_2x3'\n",
    "ff_factor_data = pdr.DataReader(ff_factor, 'famafrench', start='1995')[0]"
   ]
  },
  {
   "cell_type": "code",
   "execution_count": 106,
   "metadata": {
    "scrolled": false
   },
   "outputs": [
    {
     "data": {
      "text/html": [
       "<div>\n",
       "<style scoped>\n",
       "    .dataframe tbody tr th:only-of-type {\n",
       "        vertical-align: middle;\n",
       "    }\n",
       "\n",
       "    .dataframe tbody tr th {\n",
       "        vertical-align: top;\n",
       "    }\n",
       "\n",
       "    .dataframe thead th {\n",
       "        text-align: right;\n",
       "    }\n",
       "</style>\n",
       "<table border=\"1\" class=\"dataframe\">\n",
       "  <thead>\n",
       "    <tr style=\"text-align: right;\">\n",
       "      <th></th>\n",
       "      <th>Mkt-RF</th>\n",
       "      <th>SMB</th>\n",
       "      <th>HML</th>\n",
       "      <th>RMW</th>\n",
       "      <th>CMA</th>\n",
       "      <th>RF</th>\n",
       "    </tr>\n",
       "    <tr>\n",
       "      <th>Date</th>\n",
       "      <th></th>\n",
       "      <th></th>\n",
       "      <th></th>\n",
       "      <th></th>\n",
       "      <th></th>\n",
       "      <th></th>\n",
       "    </tr>\n",
       "  </thead>\n",
       "  <tbody>\n",
       "    <tr>\n",
       "      <th>1995-01</th>\n",
       "      <td>1.80</td>\n",
       "      <td>-3.11</td>\n",
       "      <td>2.54</td>\n",
       "      <td>0.09</td>\n",
       "      <td>-0.83</td>\n",
       "      <td>0.42</td>\n",
       "    </tr>\n",
       "    <tr>\n",
       "      <th>1995-02</th>\n",
       "      <td>3.63</td>\n",
       "      <td>-0.52</td>\n",
       "      <td>1.12</td>\n",
       "      <td>0.61</td>\n",
       "      <td>-0.33</td>\n",
       "      <td>0.40</td>\n",
       "    </tr>\n",
       "    <tr>\n",
       "      <th>1995-03</th>\n",
       "      <td>2.19</td>\n",
       "      <td>-0.51</td>\n",
       "      <td>-2.15</td>\n",
       "      <td>-0.09</td>\n",
       "      <td>0.16</td>\n",
       "      <td>0.46</td>\n",
       "    </tr>\n",
       "    <tr>\n",
       "      <th>1995-04</th>\n",
       "      <td>2.11</td>\n",
       "      <td>-0.29</td>\n",
       "      <td>1.71</td>\n",
       "      <td>0.24</td>\n",
       "      <td>1.00</td>\n",
       "      <td>0.44</td>\n",
       "    </tr>\n",
       "    <tr>\n",
       "      <th>1995-05</th>\n",
       "      <td>2.90</td>\n",
       "      <td>-2.20</td>\n",
       "      <td>2.23</td>\n",
       "      <td>0.37</td>\n",
       "      <td>0.09</td>\n",
       "      <td>0.54</td>\n",
       "    </tr>\n",
       "    <tr>\n",
       "      <th>...</th>\n",
       "      <td>...</td>\n",
       "      <td>...</td>\n",
       "      <td>...</td>\n",
       "      <td>...</td>\n",
       "      <td>...</td>\n",
       "      <td>...</td>\n",
       "    </tr>\n",
       "    <tr>\n",
       "      <th>2021-01</th>\n",
       "      <td>-0.03</td>\n",
       "      <td>6.88</td>\n",
       "      <td>2.85</td>\n",
       "      <td>-3.33</td>\n",
       "      <td>4.68</td>\n",
       "      <td>0.00</td>\n",
       "    </tr>\n",
       "    <tr>\n",
       "      <th>2021-02</th>\n",
       "      <td>2.78</td>\n",
       "      <td>4.51</td>\n",
       "      <td>7.08</td>\n",
       "      <td>0.09</td>\n",
       "      <td>-1.97</td>\n",
       "      <td>0.00</td>\n",
       "    </tr>\n",
       "    <tr>\n",
       "      <th>2021-03</th>\n",
       "      <td>3.08</td>\n",
       "      <td>-0.97</td>\n",
       "      <td>7.40</td>\n",
       "      <td>6.43</td>\n",
       "      <td>3.44</td>\n",
       "      <td>0.00</td>\n",
       "    </tr>\n",
       "    <tr>\n",
       "      <th>2021-04</th>\n",
       "      <td>4.93</td>\n",
       "      <td>-3.06</td>\n",
       "      <td>-0.74</td>\n",
       "      <td>2.26</td>\n",
       "      <td>-2.71</td>\n",
       "      <td>0.00</td>\n",
       "    </tr>\n",
       "    <tr>\n",
       "      <th>2021-05</th>\n",
       "      <td>0.29</td>\n",
       "      <td>1.26</td>\n",
       "      <td>7.05</td>\n",
       "      <td>2.37</td>\n",
       "      <td>3.20</td>\n",
       "      <td>0.00</td>\n",
       "    </tr>\n",
       "  </tbody>\n",
       "</table>\n",
       "<p>317 rows × 6 columns</p>\n",
       "</div>"
      ],
      "text/plain": [
       "         Mkt-RF   SMB   HML   RMW   CMA    RF\n",
       "Date                                         \n",
       "1995-01    1.80 -3.11  2.54  0.09 -0.83  0.42\n",
       "1995-02    3.63 -0.52  1.12  0.61 -0.33  0.40\n",
       "1995-03    2.19 -0.51 -2.15 -0.09  0.16  0.46\n",
       "1995-04    2.11 -0.29  1.71  0.24  1.00  0.44\n",
       "1995-05    2.90 -2.20  2.23  0.37  0.09  0.54\n",
       "...         ...   ...   ...   ...   ...   ...\n",
       "2021-01   -0.03  6.88  2.85 -3.33  4.68  0.00\n",
       "2021-02    2.78  4.51  7.08  0.09 -1.97  0.00\n",
       "2021-03    3.08 -0.97  7.40  6.43  3.44  0.00\n",
       "2021-04    4.93 -3.06 -0.74  2.26 -2.71  0.00\n",
       "2021-05    0.29  1.26  7.05  2.37  3.20  0.00\n",
       "\n",
       "[317 rows x 6 columns]"
      ]
     },
     "execution_count": 106,
     "metadata": {},
     "output_type": "execute_result"
    }
   ],
   "source": [
    "ff_factor_data"
   ]
  },
  {
   "cell_type": "markdown",
   "metadata": {},
   "source": [
    "## 미국 5요인과 국내 5요인과 수익률 비교"
   ]
  },
  {
   "cell_type": "code",
   "execution_count": 107,
   "metadata": {},
   "outputs": [
    {
     "data": {
      "text/plain": [
       "<AxesSubplot:xlabel='Date'>"
      ]
     },
     "execution_count": 107,
     "metadata": {},
     "output_type": "execute_result"
    },
    {
     "data": {
      "image/png": "[encoded data removed]",
      "text/plain": [
       "<Figure size 432x288 with 1 Axes>"
      ]
     },
     "metadata": {
      "needs_background": "light"
     },
     "output_type": "display_data"
    }
   ],
   "source": [
    "(ff_factor_data/100 + 1).cumprod().plot()"
   ]
  },
  {
   "cell_type": "code",
   "execution_count": 108,
   "metadata": {},
   "outputs": [
    {
     "data": {
      "text/plain": [
       "<AxesSubplot:xlabel='date'>"
      ]
     },
     "execution_count": 108,
     "metadata": {},
     "output_type": "execute_result"
    },
    {
     "data": {
      "image/png": "[encoded data removed]",
      "text/plain": [
       "<Figure size 432x288 with 1 Axes>"
      ]
     },
     "metadata": {
      "needs_background": "light"
     },
     "output_type": "display_data"
    }
   ],
   "source": [
    "(fama_french_5_factor_korea/100 + 1).cumprod().plot()"
   ]
  },
  {
   "cell_type": "code",
   "execution_count": 109,
   "metadata": {},
   "outputs": [
    {
     "data": {
      "text/html": [
       "<div>\n",
       "<style scoped>\n",
       "    .dataframe tbody tr th:only-of-type {\n",
       "        vertical-align: middle;\n",
       "    }\n",
       "\n",
       "    .dataframe tbody tr th {\n",
       "        vertical-align: top;\n",
       "    }\n",
       "\n",
       "    .dataframe thead th {\n",
       "        text-align: right;\n",
       "    }\n",
       "</style>\n",
       "<table border=\"1\" class=\"dataframe\">\n",
       "  <thead>\n",
       "    <tr style=\"text-align: right;\">\n",
       "      <th></th>\n",
       "      <th>Mkt-RF</th>\n",
       "      <th>SMB</th>\n",
       "      <th>HML</th>\n",
       "      <th>RMW</th>\n",
       "      <th>CMA</th>\n",
       "      <th>RF</th>\n",
       "    </tr>\n",
       "  </thead>\n",
       "  <tbody>\n",
       "    <tr>\n",
       "      <th>Mkt-RF</th>\n",
       "      <td>1.000000</td>\n",
       "      <td>-0.028746</td>\n",
       "      <td>-0.183287</td>\n",
       "      <td>-0.019361</td>\n",
       "      <td>-0.182259</td>\n",
       "      <td>0.104665</td>\n",
       "    </tr>\n",
       "    <tr>\n",
       "      <th>SMB</th>\n",
       "      <td>-0.028746</td>\n",
       "      <td>1.000000</td>\n",
       "      <td>0.325072</td>\n",
       "      <td>-0.202775</td>\n",
       "      <td>-0.065172</td>\n",
       "      <td>-0.050146</td>\n",
       "    </tr>\n",
       "    <tr>\n",
       "      <th>HML</th>\n",
       "      <td>-0.183287</td>\n",
       "      <td>0.325072</td>\n",
       "      <td>1.000000</td>\n",
       "      <td>0.326673</td>\n",
       "      <td>0.427261</td>\n",
       "      <td>0.034296</td>\n",
       "    </tr>\n",
       "    <tr>\n",
       "      <th>RMW</th>\n",
       "      <td>-0.019361</td>\n",
       "      <td>-0.202775</td>\n",
       "      <td>0.326673</td>\n",
       "      <td>1.000000</td>\n",
       "      <td>0.432327</td>\n",
       "      <td>0.005243</td>\n",
       "    </tr>\n",
       "    <tr>\n",
       "      <th>CMA</th>\n",
       "      <td>-0.182259</td>\n",
       "      <td>-0.065172</td>\n",
       "      <td>0.427261</td>\n",
       "      <td>0.432327</td>\n",
       "      <td>1.000000</td>\n",
       "      <td>0.026790</td>\n",
       "    </tr>\n",
       "    <tr>\n",
       "      <th>RF</th>\n",
       "      <td>0.104665</td>\n",
       "      <td>-0.050146</td>\n",
       "      <td>0.034296</td>\n",
       "      <td>0.005243</td>\n",
       "      <td>0.026790</td>\n",
       "      <td>1.000000</td>\n",
       "    </tr>\n",
       "  </tbody>\n",
       "</table>\n",
       "</div>"
      ],
      "text/plain": [
       "          Mkt-RF       SMB       HML       RMW       CMA        RF\n",
       "Mkt-RF  1.000000 -0.028746 -0.183287 -0.019361 -0.182259  0.104665\n",
       "SMB    -0.028746  1.000000  0.325072 -0.202775 -0.065172 -0.050146\n",
       "HML    -0.183287  0.325072  1.000000  0.326673  0.427261  0.034296\n",
       "RMW    -0.019361 -0.202775  0.326673  1.000000  0.432327  0.005243\n",
       "CMA    -0.182259 -0.065172  0.427261  0.432327  1.000000  0.026790\n",
       "RF      0.104665 -0.050146  0.034296  0.005243  0.026790  1.000000"
      ]
     },
     "execution_count": 109,
     "metadata": {},
     "output_type": "execute_result"
    }
   ],
   "source": [
    "fama_french_5_factor_korea.corr()"
   ]
  },
  {
   "cell_type": "code",
   "execution_count": 110,
   "metadata": {},
   "outputs": [
    {
     "data": {
      "text/html": [
       "<div>\n",
       "<style scoped>\n",
       "    .dataframe tbody tr th:only-of-type {\n",
       "        vertical-align: middle;\n",
       "    }\n",
       "\n",
       "    .dataframe tbody tr th {\n",
       "        vertical-align: top;\n",
       "    }\n",
       "\n",
       "    .dataframe thead th {\n",
       "        text-align: right;\n",
       "    }\n",
       "</style>\n",
       "<table border=\"1\" class=\"dataframe\">\n",
       "  <thead>\n",
       "    <tr style=\"text-align: right;\">\n",
       "      <th></th>\n",
       "      <th>Mkt-RF</th>\n",
       "      <th>SMB</th>\n",
       "      <th>HML</th>\n",
       "      <th>RMW</th>\n",
       "      <th>CMA</th>\n",
       "      <th>RF</th>\n",
       "    </tr>\n",
       "  </thead>\n",
       "  <tbody>\n",
       "    <tr>\n",
       "      <th>count</th>\n",
       "      <td>275.000000</td>\n",
       "      <td>275.000000</td>\n",
       "      <td>275.000000</td>\n",
       "      <td>275.000000</td>\n",
       "      <td>275.000000</td>\n",
       "      <td>275.000000</td>\n",
       "    </tr>\n",
       "    <tr>\n",
       "      <th>mean</th>\n",
       "      <td>1.236744</td>\n",
       "      <td>0.984802</td>\n",
       "      <td>0.704483</td>\n",
       "      <td>-0.013346</td>\n",
       "      <td>-0.808767</td>\n",
       "      <td>0.000363</td>\n",
       "    </tr>\n",
       "    <tr>\n",
       "      <th>std</th>\n",
       "      <td>5.238973</td>\n",
       "      <td>3.003052</td>\n",
       "      <td>4.729552</td>\n",
       "      <td>2.914485</td>\n",
       "      <td>3.146677</td>\n",
       "      <td>0.015221</td>\n",
       "    </tr>\n",
       "    <tr>\n",
       "      <th>min</th>\n",
       "      <td>-21.786403</td>\n",
       "      <td>-7.474589</td>\n",
       "      <td>-35.507899</td>\n",
       "      <td>-10.524656</td>\n",
       "      <td>-28.631149</td>\n",
       "      <td>-0.056600</td>\n",
       "    </tr>\n",
       "    <tr>\n",
       "      <th>25%</th>\n",
       "      <td>-1.690543</td>\n",
       "      <td>-0.875360</td>\n",
       "      <td>-0.840052</td>\n",
       "      <td>-1.642012</td>\n",
       "      <td>-2.211078</td>\n",
       "      <td>-0.005050</td>\n",
       "    </tr>\n",
       "    <tr>\n",
       "      <th>50%</th>\n",
       "      <td>1.094318</td>\n",
       "      <td>0.919895</td>\n",
       "      <td>0.851198</td>\n",
       "      <td>0.233739</td>\n",
       "      <td>-0.567571</td>\n",
       "      <td>0.000000</td>\n",
       "    </tr>\n",
       "    <tr>\n",
       "      <th>75%</th>\n",
       "      <td>3.773020</td>\n",
       "      <td>2.906032</td>\n",
       "      <td>2.755747</td>\n",
       "      <td>1.722634</td>\n",
       "      <td>0.923586</td>\n",
       "      <td>0.002450</td>\n",
       "    </tr>\n",
       "    <tr>\n",
       "      <th>max</th>\n",
       "      <td>21.841657</td>\n",
       "      <td>14.101973</td>\n",
       "      <td>14.987152</td>\n",
       "      <td>12.767386</td>\n",
       "      <td>12.881358</td>\n",
       "      <td>0.119400</td>\n",
       "    </tr>\n",
       "  </tbody>\n",
       "</table>\n",
       "</div>"
      ],
      "text/plain": [
       "           Mkt-RF         SMB         HML         RMW         CMA          RF\n",
       "count  275.000000  275.000000  275.000000  275.000000  275.000000  275.000000\n",
       "mean     1.236744    0.984802    0.704483   -0.013346   -0.808767    0.000363\n",
       "std      5.238973    3.003052    4.729552    2.914485    3.146677    0.015221\n",
       "min    -21.786403   -7.474589  -35.507899  -10.524656  -28.631149   -0.056600\n",
       "25%     -1.690543   -0.875360   -0.840052   -1.642012   -2.211078   -0.005050\n",
       "50%      1.094318    0.919895    0.851198    0.233739   -0.567571    0.000000\n",
       "75%      3.773020    2.906032    2.755747    1.722634    0.923586    0.002450\n",
       "max     21.841657   14.101973   14.987152   12.767386   12.881358    0.119400"
      ]
     },
     "execution_count": 110,
     "metadata": {},
     "output_type": "execute_result"
    }
   ],
   "source": [
    "fama_french_5_factor_korea.describe()"
   ]
  },
  {
   "cell_type": "markdown",
   "metadata": {},
   "source": [
    "## 결론\n",
    "- 기존의 미국 fama french 5요인을 보면 한국 Fama French와는 많이 다른것을 알 수 있다.\n",
    "\n",
    "\n",
    "## 이유\n",
    "- 이유는 미국 Fama - French 5요인 데이터는 value weight portfolio로 구성했고 국내 Fama - French는 equal weight portfolio로 구성했으므로 전자보다 시가총액이 작은 주식의 영향력이 커저서 그렇다."
   ]
  },
  {
   "cell_type": "markdown",
   "metadata": {},
   "source": [
    "## 추가할 사항\n",
    "- Value Weight Fama - French 5 Factor "
   ]
  },
  {
   "cell_type": "markdown",
   "metadata": {},
   "source": [
    "## Value Weight Fama - French Portfolio 생성"
   ]
  },
  {
   "cell_type": "markdown",
   "metadata": {},
   "source": [
    "### marcap 데이터 가져오기"
   ]
  },
  {
   "cell_type": "code",
   "execution_count": 111,
   "metadata": {},
   "outputs": [],
   "source": [
    "def convert_datetime_index_to_period_index(data: pd.DataFrame):\n",
    "    return data.index.set_levels(data.index.levels[0].to_period('M'), level=0)"
   ]
  },
  {
   "cell_type": "code",
   "execution_count": 112,
   "metadata": {},
   "outputs": [],
   "source": [
    "monthly_marcap = size_factor[['adj_marcap']].unstack('ticker').resample('M').last().stack('ticker')"
   ]
  },
  {
   "cell_type": "code",
   "execution_count": 113,
   "metadata": {},
   "outputs": [],
   "source": [
    "monthly_marcap.index = convert_datetime_index_to_period_index(monthly_marcap)"
   ]
  },
  {
   "cell_type": "code",
   "execution_count": 114,
   "metadata": {},
   "outputs": [],
   "source": [
    "def get_value_weight_return(period, ticker_range):\n",
    "    data = get_year_base(period, ticker_range).fillna(method='bfill')\n",
    "    ticker_range = data.columns.get_level_values('ticker')\n",
    "    period_range = data.index\n",
    "    marcap = monthly_marcap.loc[idx[period_range, ticker_range], :].unstack().fillna(method='bfill')\n",
    "    marcap_ratio = marcap / marcap.sum(axis=1).to_numpy().reshape(-1, 1)\n",
    "    value_weight_return = data['return'] * marcap_ratio['adj_marcap']\n",
    "    return value_weight_return.sum(axis=1)\n",
    "#     return marcap_ratio"
   ]
  },
  {
   "cell_type": "code",
   "execution_count": null,
   "metadata": {},
   "outputs": [],
   "source": []
  }
 ],
 "metadata": {
  "kernelspec": {
   "display_name": "Python [conda env:ml4t_orginal]",
   "language": "python",
   "name": "conda-env-ml4t_orginal-py"
  },
  "language_info": {
   "codemirror_mode": {
    "name": "ipython",
    "version": 3
   },
   "file_extension": ".py",
   "mimetype": "text/x-python",
   "name": "python",
   "nbconvert_exporter": "python",
   "pygments_lexer": "ipython3",
   "version": "3.8.8"
  }
 },
 "nbformat": 4,
 "nbformat_minor": 4
}
