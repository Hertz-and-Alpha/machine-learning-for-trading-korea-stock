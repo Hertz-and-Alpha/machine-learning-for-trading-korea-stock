{
 "cells": [
  {
   "cell_type": "markdown",
   "metadata": {},
   "source": [
    "# How to use decision trees to predict equity returns and price moves"
   ]
  },
  {
   "cell_type": "markdown",
   "metadata": {},
   "source": [
    "In this notebook, we illustrate how to use tree-based models to gain insight and make predictions. \n",
    "\n",
    "To demonstrate regression trees we predict returns, and for the classification case, we return to the example of positive and negative asset price moves."
   ]
  },
  {
   "cell_type": "markdown",
   "metadata": {},
   "source": [
    "## Imports & Settings"
   ]
  },
  {
   "cell_type": "code",
   "execution_count": 1,
   "metadata": {
    "ExecuteTime": {
     "end_time": "2021-04-16T00:32:25.352734Z",
     "start_time": "2021-04-16T00:32:25.350697Z"
    }
   },
   "outputs": [],
   "source": [
    "import warnings\n",
    "warnings.filterwarnings('ignore')"
   ]
  },
  {
   "cell_type": "code",
   "execution_count": 2,
   "metadata": {
    "ExecuteTime": {
     "end_time": "2021-04-16T00:32:26.702500Z",
     "start_time": "2021-04-16T00:32:25.552972Z"
    }
   },
   "outputs": [],
   "source": [
    "%matplotlib inline\n",
    "\n",
    "import os, sys\n",
    "from pathlib import Path\n",
    "\n",
    "import numpy as np\n",
    "from scipy.stats import spearmanr\n",
    "import pandas as pd\n",
    "\n",
    "import matplotlib.pyplot as plt\n",
    "from matplotlib.ticker import FuncFormatter\n",
    "from matplotlib import cm\n",
    "import seaborn as sns\n",
    "\n",
    "from sklearn.tree import DecisionTreeClassifier, DecisionTreeRegressor, export_graphviz, _tree\n",
    "from sklearn.linear_model import LinearRegression, LogisticRegression\n",
    "from sklearn.model_selection import train_test_split, GridSearchCV, learning_curve\n",
    "from sklearn.metrics import roc_auc_score, roc_curve, mean_squared_error, make_scorer\n",
    "import graphviz\n",
    "\n",
    "import statsmodels.api as sm"
   ]
  },
  {
   "cell_type": "code",
   "execution_count": 3,
   "metadata": {
    "ExecuteTime": {
     "end_time": "2021-04-16T00:32:26.708683Z",
     "start_time": "2021-04-16T00:32:26.703952Z"
    }
   },
   "outputs": [],
   "source": [
    "sys.path.insert(1, os.path.join(sys.path[0], '..'))\n",
    "from utils import MultipleTimeSeriesCV"
   ]
  },
  {
   "cell_type": "code",
   "execution_count": 4,
   "metadata": {
    "ExecuteTime": {
     "end_time": "2021-04-16T00:32:26.721121Z",
     "start_time": "2021-04-16T00:32:26.709927Z"
    }
   },
   "outputs": [],
   "source": [
    "sns.set_style('white')"
   ]
  },
  {
   "cell_type": "code",
   "execution_count": 5,
   "metadata": {
    "ExecuteTime": {
     "end_time": "2021-04-16T00:32:26.730830Z",
     "start_time": "2021-04-16T00:32:26.722176Z"
    }
   },
   "outputs": [],
   "source": [
    "results_path = Path('results', 'decision_trees')\n",
    "if not results_path.exists():\n",
    "    results_path.mkdir(parents=True)"
   ]
  },
  {
   "cell_type": "markdown",
   "metadata": {},
   "source": [
    "## Load Model Data"
   ]
  },
  {
   "cell_type": "markdown",
   "metadata": {},
   "source": [
    "We use a simplified version of the data set constructed in Chapter 4, Alpha factor research. It consists of daily stock prices provided by Quandl for the 2010-2017 period and various engineered features. The details can be found in the notebook [data_prep](00_data_prep.ipynb) in the GitHub repo for this chapter."
   ]
  },
  {
   "cell_type": "markdown",
   "metadata": {},
   "source": [
    "The decision tree models in this chapter are not equipped to handle missing or categorical variables, so we will apply dummy encoding to the latter after dropping any of the former."
   ]
  },
  {
   "cell_type": "code",
   "execution_count": 6,
   "metadata": {
    "ExecuteTime": {
     "end_time": "2021-04-16T00:32:30.995569Z",
     "start_time": "2021-04-16T00:32:30.805133Z"
    },
    "scrolled": true
   },
   "outputs": [
    {
     "name": "stdout",
     "output_type": "stream",
     "text": [
      "<class 'pandas.core.frame.DataFrame'>\n",
      "MultiIndex: 82611 entries, ('000020', Timestamp('2002-05-31 00:00:00')) to ('097950', Timestamp('2017-11-30 00:00:00'))\n",
      "Data columns (total 30 columns):\n",
      " #   Column         Non-Null Count  Dtype  \n",
      "---  ------         --------------  -----  \n",
      " 0   atr            82611 non-null  float64\n",
      " 1   bb_down        82611 non-null  float64\n",
      " 2   bb_high        82611 non-null  float64\n",
      " 3   bb_low         82611 non-null  float64\n",
      " 4   bb_mid         82611 non-null  float64\n",
      " 5   bb_up          82611 non-null  float64\n",
      " 6   macd           82611 non-null  float64\n",
      " 7   marcap         82611 non-null  float64\n",
      " 8   natr           82611 non-null  float64\n",
      " 9   ratio          82611 non-null  float64\n",
      " 10  rsi            82611 non-null  float64\n",
      " 11  sector         82611 non-null  object \n",
      " 12  stocks         82611 non-null  float64\n",
      " 13  return_1m      82611 non-null  float64\n",
      " 14  return_3m      82611 non-null  float64\n",
      " 15  return_6m      82611 non-null  float64\n",
      " 16  return_12m     82611 non-null  float64\n",
      " 17  beta           82611 non-null  float64\n",
      " 18  SMB            82611 non-null  float64\n",
      " 19  HML            82611 non-null  float64\n",
      " 20  RMW            82611 non-null  float64\n",
      " 21  CMA            82611 non-null  float64\n",
      " 22  momentum_3     82611 non-null  float64\n",
      " 23  momentum_6     82611 non-null  float64\n",
      " 24  momentum_3_6   82611 non-null  float64\n",
      " 25  momentum_12    82611 non-null  float64\n",
      " 26  momentum_3_12  82611 non-null  float64\n",
      " 27  year           82611 non-null  int64  \n",
      " 28  month          82611 non-null  int64  \n",
      " 29  target         82611 non-null  float64\n",
      "dtypes: float64(27), int64(2), object(1)\n",
      "memory usage: 19.3+ MB\n"
     ]
    }
   ],
   "source": [
    "with pd.HDFStore('data.h5') as store:\n",
    "    data = store['kr/equities/monthly']\n",
    "data.info()"
   ]
  },
  {
   "cell_type": "markdown",
   "metadata": {},
   "source": [
    "## Simple Regression Tree with Time Series Data"
   ]
  },
  {
   "cell_type": "markdown",
   "metadata": {},
   "source": [
    "Regression trees make predictions based on the mean outcome value for the training samples assigned to a given node and typically rely on the mean-squared error to select optimal rules during recursive binary splitting.\n",
    "\n",
    "Given a training set, the algorithm iterates over the predictors, $X_1, X_2, ..., X_p$, and possible cutpoints, $s_1, s_2, ..., s_N$, to find an optimal combination. The optimal rule splits the feature space into two regions, $\\{X\\mid X_i < s_j\\}$ and $\\{X\\mid X_i > s_j\\}$, with values for the $X_i$ feature either below or above the $s_j$ threshold so that predictions based on the training subsets maximize the reduction of the squared residuals relative to the current node."
   ]
  },
  {
   "cell_type": "markdown",
   "metadata": {},
   "source": [
    "### Generate two lags of monthly returns"
   ]
  },
  {
   "cell_type": "code",
   "execution_count": 7,
   "metadata": {
    "ExecuteTime": {
     "end_time": "2021-04-16T00:32:38.965107Z",
     "start_time": "2021-04-16T00:32:38.942472Z"
    },
    "scrolled": true
   },
   "outputs": [
    {
     "name": "stdout",
     "output_type": "stream",
     "text": [
      "<class 'pandas.core.frame.DataFrame'>\n",
      "MultiIndex: 82077 entries, ('000020', Timestamp('2002-06-30 00:00:00')) to ('097950', Timestamp('2017-11-30 00:00:00'))\n",
      "Data columns (total 3 columns):\n",
      " #   Column  Non-Null Count  Dtype  \n",
      "---  ------  --------------  -----  \n",
      " 0   y       82077 non-null  float64\n",
      " 1   t-1     82077 non-null  float64\n",
      " 2   t-2     82077 non-null  float64\n",
      "dtypes: float64(3)\n",
      "memory usage: 2.2+ MB\n"
     ]
    }
   ],
   "source": [
    "X2 = data.loc[:, ['target', 'return_1m']]\n",
    "X2.columns = ['y', 't-1']\n",
    "X2['t-2'] = data.groupby(level='ticker').return_1m.shift()\n",
    "X2 = X2.dropna()\n",
    "X2.info()"
   ]
  },
  {
   "cell_type": "code",
   "execution_count": 8,
   "metadata": {
    "ExecuteTime": {
     "end_time": "2021-04-16T00:32:38.969598Z",
     "start_time": "2021-04-16T00:32:38.966574Z"
    }
   },
   "outputs": [],
   "source": [
    "y2 = X2.y\n",
    "X2 = X2.drop('y', axis=1)"
   ]
  },
  {
   "cell_type": "markdown",
   "metadata": {},
   "source": [
    "### Explore Data"
   ]
  },
  {
   "cell_type": "markdown",
   "metadata": {},
   "source": [
    "Note the small spike where we clipped the data."
   ]
  },
  {
   "cell_type": "code",
   "execution_count": 9,
   "metadata": {
    "ExecuteTime": {
     "end_time": "2021-04-16T00:32:39.517083Z",
     "start_time": "2021-04-16T00:32:38.970753Z"
    }
   },
   "outputs": [
    {
     "data": {
      "image/png": "[encoded data removed]",
      "text/plain": [
       "<Figure size 432x288 with 1 Axes>"
      ]
     },
     "metadata": {},
     "output_type": "display_data"
    }
   ],
   "source": [
    "sns.distplot(y2)\n",
    "sns.despine();"
   ]
  },
  {
   "cell_type": "markdown",
   "metadata": {},
   "source": [
    "### Configure Tree"
   ]
  },
  {
   "cell_type": "markdown",
   "metadata": {},
   "source": [
    "Let's start with a simplified example to facilitate visualization and only use two months of lagged returns to predict the following month, in the vein of an AR(2) model from the last chapter:"
   ]
  },
  {
   "cell_type": "code",
   "execution_count": 10,
   "metadata": {
    "ExecuteTime": {
     "end_time": "2021-04-16T00:32:39.521903Z",
     "start_time": "2021-04-16T00:32:39.518821Z"
    }
   },
   "outputs": [],
   "source": [
    "reg_tree_t2 = DecisionTreeRegressor(criterion='mse',\n",
    "                                    splitter='best',\n",
    "                                    max_depth=6,\n",
    "                                    min_samples_split=2,\n",
    "                                    min_samples_leaf=50,\n",
    "                                    min_weight_fraction_leaf=0.0,\n",
    "                                    max_features=None,\n",
    "                                    random_state=42,\n",
    "                                    max_leaf_nodes=None,\n",
    "                                    min_impurity_decrease=0.0,\n",
    "                                    min_impurity_split=None)"
   ]
  },
  {
   "cell_type": "markdown",
   "metadata": {},
   "source": [
    "### Train Decision Tree"
   ]
  },
  {
   "cell_type": "code",
   "execution_count": 11,
   "metadata": {
    "ExecuteTime": {
     "end_time": "2021-04-16T00:32:46.840780Z",
     "start_time": "2021-04-16T00:32:39.523207Z"
    }
   },
   "outputs": [
    {
     "name": "stdout",
     "output_type": "stream",
     "text": [
      "81.7 ms ± 174 µs per loop (mean ± std. dev. of 7 runs, 10 loops each)\n"
     ]
    }
   ],
   "source": [
    "%%timeit\n",
    "reg_tree_t2.fit(X=X2, y=y2)"
   ]
  },
  {
   "cell_type": "code",
   "execution_count": 12,
   "metadata": {
    "ExecuteTime": {
     "end_time": "2021-04-16T00:32:46.944042Z",
     "start_time": "2021-04-16T00:32:46.846638Z"
    }
   },
   "outputs": [
    {
     "data": {
      "text/plain": [
       "DecisionTreeRegressor(max_depth=6, min_samples_leaf=50, random_state=42)"
      ]
     },
     "execution_count": 12,
     "metadata": {},
     "output_type": "execute_result"
    }
   ],
   "source": [
    "reg_tree_t2.fit(X=X2, y=y2)"
   ]
  },
  {
   "cell_type": "markdown",
   "metadata": {},
   "source": [
    "### Visualize Tree"
   ]
  },
  {
   "cell_type": "markdown",
   "metadata": {},
   "source": [
    "You can visualize the tree using the graphviz library (see GitHub for installation instructions) because sklearn can output a description of the tree using the .dot language used by that library. \n",
    "\n",
    "You can configure the output to include feature and class labels and limit the number of levels to keep the chart readable, as follows:"
   ]
  },
  {
   "cell_type": "code",
   "execution_count": 13,
   "metadata": {
    "ExecuteTime": {
     "end_time": "2021-04-16T00:32:46.993321Z",
     "start_time": "2021-04-16T00:32:46.945531Z"
    }
   },
   "outputs": [
    {
     "data": {
      "image/svg+xml": [
       "<?xml version=\"1.0\" encoding=\"UTF-8\" standalone=\"no\"?>\r\n",
       "<!DOCTYPE svg PUBLIC \"-//W3C//DTD SVG 1.1//EN\"\r\n",
       " \"http://www.w3.org/Graphics/SVG/1.1/DTD/svg11.dtd\">\r\n",
       "<!-- Generated by graphviz version 2.47.1 (0)\r\n",
       " -->\r\n",
       "<!-- Title: Tree Pages: 1 -->\r\n",
       "<svg width=\"555pt\" height=\"356pt\"\r\n",
       " viewBox=\"0.00 0.00 555.00 356.00\" xmlns=\"http://www.w3.org/2000/svg\" xmlns:xlink=\"http://www.w3.org/1999/xlink\">\r\n",
       "<g id=\"graph0\" class=\"graph\" transform=\"scale(1 1) rotate(0) translate(4 352)\">\r\n",
       "<title>Tree</title>\r\n",
       "<polygon fill=\"white\" stroke=\"transparent\" points=\"-4,4 -4,-352 551,-352 551,4 -4,4\"/>\r\n",
       "<!-- 0 -->\r\n",
       "<g id=\"node1\" class=\"node\">\r\n",
       "<title>0</title>\r\n",
       "<path fill=\"#f3c3a1\" stroke=\"black\" d=\"M309,-348C309,-348 205,-348 205,-348 199,-348 193,-342 193,-336 193,-336 193,-292 193,-292 193,-286 199,-280 205,-280 205,-280 309,-280 309,-280 315,-280 321,-286 321,-292 321,-292 321,-336 321,-336 321,-342 315,-348 309,-348\"/>\r\n",
       "<text text-anchor=\"start\" x=\"220.5\" y=\"-332.8\" font-family=\"Helvetica,sans-Serif\" font-size=\"14.00\">t&#45;2 ≤ &#45;0.362</text>\r\n",
       "<text text-anchor=\"start\" x=\"216.5\" y=\"-317.8\" font-family=\"Helvetica,sans-Serif\" font-size=\"14.00\">mse = 0.018</text>\r\n",
       "<text text-anchor=\"start\" x=\"201\" y=\"-302.8\" font-family=\"Helvetica,sans-Serif\" font-size=\"14.00\">samples = 82077</text>\r\n",
       "<text text-anchor=\"start\" x=\"214\" y=\"-287.8\" font-family=\"Helvetica,sans-Serif\" font-size=\"14.00\">value = 0.013</text>\r\n",
       "</g>\r\n",
       "<!-- 1 -->\r\n",
       "<g id=\"node2\" class=\"node\">\r\n",
       "<title>1</title>\r\n",
       "<path fill=\"#eda977\" stroke=\"black\" d=\"M231.5,-244C231.5,-244 144.5,-244 144.5,-244 138.5,-244 132.5,-238 132.5,-232 132.5,-232 132.5,-188 132.5,-188 132.5,-182 138.5,-176 144.5,-176 144.5,-176 231.5,-176 231.5,-176 237.5,-176 243.5,-182 243.5,-188 243.5,-188 243.5,-232 243.5,-232 243.5,-238 237.5,-244 231.5,-244\"/>\r\n",
       "<text text-anchor=\"start\" x=\"153.5\" y=\"-228.8\" font-family=\"Helvetica,sans-Serif\" font-size=\"14.00\">t&#45;1 ≤ 0.285</text>\r\n",
       "<text text-anchor=\"start\" x=\"147.5\" y=\"-213.8\" font-family=\"Helvetica,sans-Serif\" font-size=\"14.00\">mse = 0.047</text>\r\n",
       "<text text-anchor=\"start\" x=\"140.5\" y=\"-198.8\" font-family=\"Helvetica,sans-Serif\" font-size=\"14.00\">samples = 422</text>\r\n",
       "<text text-anchor=\"start\" x=\"145\" y=\"-183.8\" font-family=\"Helvetica,sans-Serif\" font-size=\"14.00\">value = 0.061</text>\r\n",
       "</g>\r\n",
       "<!-- 0&#45;&gt;1 -->\r\n",
       "<g id=\"edge1\" class=\"edge\">\r\n",
       "<title>0&#45;&gt;1</title>\r\n",
       "<path fill=\"none\" stroke=\"black\" d=\"M234.6,-279.88C228.75,-271.24 222.38,-261.82 216.27,-252.79\"/>\r\n",
       "<polygon fill=\"black\" stroke=\"black\" points=\"219.03,-250.62 210.53,-244.3 213.23,-254.54 219.03,-250.62\"/>\r\n",
       "<text text-anchor=\"middle\" x=\"205.79\" y=\"-265.15\" font-family=\"Helvetica,sans-Serif\" font-size=\"14.00\">True</text>\r\n",
       "</g>\r\n",
       "<!-- 14 -->\r\n",
       "<g id=\"node7\" class=\"node\">\r\n",
       "<title>14</title>\r\n",
       "<path fill=\"#f3c3a1\" stroke=\"black\" d=\"M378,-244C378,-244 274,-244 274,-244 268,-244 262,-238 262,-232 262,-232 262,-188 262,-188 262,-182 268,-176 274,-176 274,-176 378,-176 378,-176 384,-176 390,-182 390,-188 390,-188 390,-232 390,-232 390,-238 384,-244 378,-244\"/>\r\n",
       "<text text-anchor=\"start\" x=\"293.5\" y=\"-228.8\" font-family=\"Helvetica,sans-Serif\" font-size=\"14.00\">t&#45;1 ≤ &#45;0.26</text>\r\n",
       "<text text-anchor=\"start\" x=\"285.5\" y=\"-213.8\" font-family=\"Helvetica,sans-Serif\" font-size=\"14.00\">mse = 0.018</text>\r\n",
       "<text text-anchor=\"start\" x=\"270\" y=\"-198.8\" font-family=\"Helvetica,sans-Serif\" font-size=\"14.00\">samples = 81655</text>\r\n",
       "<text text-anchor=\"start\" x=\"283\" y=\"-183.8\" font-family=\"Helvetica,sans-Serif\" font-size=\"14.00\">value = 0.013</text>\r\n",
       "</g>\r\n",
       "<!-- 0&#45;&gt;14 -->\r\n",
       "<g id=\"edge6\" class=\"edge\">\r\n",
       "<title>0&#45;&gt;14</title>\r\n",
       "<path fill=\"none\" stroke=\"black\" d=\"M279.4,-279.88C285.25,-271.24 291.62,-261.82 297.73,-252.79\"/>\r\n",
       "<polygon fill=\"black\" stroke=\"black\" points=\"300.77,-254.54 303.47,-244.3 294.97,-250.62 300.77,-254.54\"/>\r\n",
       "<text text-anchor=\"middle\" x=\"308.21\" y=\"-265.15\" font-family=\"Helvetica,sans-Serif\" font-size=\"14.00\">False</text>\r\n",
       "</g>\r\n",
       "<!-- 2 -->\r\n",
       "<g id=\"node3\" class=\"node\">\r\n",
       "<title>2</title>\r\n",
       "<path fill=\"#eca26d\" stroke=\"black\" d=\"M106.5,-140C106.5,-140 19.5,-140 19.5,-140 13.5,-140 7.5,-134 7.5,-128 7.5,-128 7.5,-84 7.5,-84 7.5,-78 13.5,-72 19.5,-72 19.5,-72 106.5,-72 106.5,-72 112.5,-72 118.5,-78 118.5,-84 118.5,-84 118.5,-128 118.5,-128 118.5,-134 112.5,-140 106.5,-140\"/>\r\n",
       "<text text-anchor=\"start\" x=\"28.5\" y=\"-124.8\" font-family=\"Helvetica,sans-Serif\" font-size=\"14.00\">t&#45;1 ≤ 0.095</text>\r\n",
       "<text text-anchor=\"start\" x=\"22.5\" y=\"-109.8\" font-family=\"Helvetica,sans-Serif\" font-size=\"14.00\">mse = 0.047</text>\r\n",
       "<text text-anchor=\"start\" x=\"15.5\" y=\"-94.8\" font-family=\"Helvetica,sans-Serif\" font-size=\"14.00\">samples = 368</text>\r\n",
       "<text text-anchor=\"start\" x=\"20\" y=\"-79.8\" font-family=\"Helvetica,sans-Serif\" font-size=\"14.00\">value = 0.072</text>\r\n",
       "</g>\r\n",
       "<!-- 1&#45;&gt;2 -->\r\n",
       "<g id=\"edge2\" class=\"edge\">\r\n",
       "<title>1&#45;&gt;2</title>\r\n",
       "<path fill=\"none\" stroke=\"black\" d=\"M147.42,-175.88C136.06,-166.62 123.61,-156.45 111.83,-146.85\"/>\r\n",
       "<polygon fill=\"black\" stroke=\"black\" points=\"113.77,-143.91 103.81,-140.3 109.34,-149.33 113.77,-143.91\"/>\r\n",
       "</g>\r\n",
       "<!-- 13 -->\r\n",
       "<g id=\"node6\" class=\"node\">\r\n",
       "<title>13</title>\r\n",
       "<path fill=\"#f6d4bc\" stroke=\"black\" d=\"M231.5,-132.5C231.5,-132.5 148.5,-132.5 148.5,-132.5 142.5,-132.5 136.5,-126.5 136.5,-120.5 136.5,-120.5 136.5,-91.5 136.5,-91.5 136.5,-85.5 142.5,-79.5 148.5,-79.5 148.5,-79.5 231.5,-79.5 231.5,-79.5 237.5,-79.5 243.5,-85.5 243.5,-91.5 243.5,-91.5 243.5,-120.5 243.5,-120.5 243.5,-126.5 237.5,-132.5 231.5,-132.5\"/>\r\n",
       "<text text-anchor=\"start\" x=\"149.5\" y=\"-117.3\" font-family=\"Helvetica,sans-Serif\" font-size=\"14.00\">mse = 0.037</text>\r\n",
       "<text text-anchor=\"start\" x=\"146.5\" y=\"-102.3\" font-family=\"Helvetica,sans-Serif\" font-size=\"14.00\">samples = 54</text>\r\n",
       "<text text-anchor=\"start\" x=\"144.5\" y=\"-87.3\" font-family=\"Helvetica,sans-Serif\" font-size=\"14.00\">value = &#45;0.018</text>\r\n",
       "</g>\r\n",
       "<!-- 1&#45;&gt;13 -->\r\n",
       "<g id=\"edge5\" class=\"edge\">\r\n",
       "<title>1&#45;&gt;13</title>\r\n",
       "<path fill=\"none\" stroke=\"black\" d=\"M188.65,-175.88C188.86,-165.22 189.09,-153.35 189.3,-142.52\"/>\r\n",
       "<polygon fill=\"black\" stroke=\"black\" points=\"192.8,-142.59 189.5,-132.52 185.8,-142.45 192.8,-142.59\"/>\r\n",
       "</g>\r\n",
       "<!-- 3 -->\r\n",
       "<g id=\"node4\" class=\"node\">\r\n",
       "<title>3</title>\r\n",
       "<path fill=\"#c0c0c0\" stroke=\"black\" d=\"M42,-36C42,-36 12,-36 12,-36 6,-36 0,-30 0,-24 0,-24 0,-12 0,-12 0,-6 6,0 12,0 12,0 42,0 42,0 48,0 54,-6 54,-12 54,-12 54,-24 54,-24 54,-30 48,-36 42,-36\"/>\r\n",
       "<text text-anchor=\"middle\" x=\"27\" y=\"-14.3\" font-family=\"Helvetica,sans-Serif\" font-size=\"14.00\">(...)</text>\r\n",
       "</g>\r\n",
       "<!-- 2&#45;&gt;3 -->\r\n",
       "<g id=\"edge3\" class=\"edge\">\r\n",
       "<title>2&#45;&gt;3</title>\r\n",
       "<path fill=\"none\" stroke=\"black\" d=\"M49.18,-72C45.54,-63.28 41.64,-53.98 38.16,-45.65\"/>\r\n",
       "<polygon fill=\"black\" stroke=\"black\" points=\"41.38,-44.28 34.29,-36.4 34.92,-46.98 41.38,-44.28\"/>\r\n",
       "</g>\r\n",
       "<!-- 12 -->\r\n",
       "<g id=\"node5\" class=\"node\">\r\n",
       "<title>12</title>\r\n",
       "<path fill=\"#c0c0c0\" stroke=\"black\" d=\"M114,-36C114,-36 84,-36 84,-36 78,-36 72,-30 72,-24 72,-24 72,-12 72,-12 72,-6 78,0 84,0 84,0 114,0 114,0 120,0 126,-6 126,-12 126,-12 126,-24 126,-24 126,-30 120,-36 114,-36\"/>\r\n",
       "<text text-anchor=\"middle\" x=\"99\" y=\"-14.3\" font-family=\"Helvetica,sans-Serif\" font-size=\"14.00\">(...)</text>\r\n",
       "</g>\r\n",
       "<!-- 2&#45;&gt;12 -->\r\n",
       "<g id=\"edge4\" class=\"edge\">\r\n",
       "<title>2&#45;&gt;12</title>\r\n",
       "<path fill=\"none\" stroke=\"black\" d=\"M76.82,-72C80.46,-63.28 84.36,-53.98 87.84,-45.65\"/>\r\n",
       "<polygon fill=\"black\" stroke=\"black\" points=\"91.08,-46.98 91.71,-36.4 84.62,-44.28 91.08,-46.98\"/>\r\n",
       "</g>\r\n",
       "<!-- 15 -->\r\n",
       "<g id=\"node8\" class=\"node\">\r\n",
       "<title>15</title>\r\n",
       "<path fill=\"#efb488\" stroke=\"black\" d=\"M371.5,-140C371.5,-140 276.5,-140 276.5,-140 270.5,-140 264.5,-134 264.5,-128 264.5,-128 264.5,-84 264.5,-84 264.5,-78 270.5,-72 276.5,-72 276.5,-72 371.5,-72 371.5,-72 377.5,-72 383.5,-78 383.5,-84 383.5,-84 383.5,-128 383.5,-128 383.5,-134 377.5,-140 371.5,-140\"/>\r\n",
       "<text text-anchor=\"start\" x=\"287.5\" y=\"-124.8\" font-family=\"Helvetica,sans-Serif\" font-size=\"14.00\">t&#45;2 ≤ &#45;0.015</text>\r\n",
       "<text text-anchor=\"start\" x=\"287.5\" y=\"-109.8\" font-family=\"Helvetica,sans-Serif\" font-size=\"14.00\">mse = 0.04</text>\r\n",
       "<text text-anchor=\"start\" x=\"272.5\" y=\"-94.8\" font-family=\"Helvetica,sans-Serif\" font-size=\"14.00\">samples = 1206</text>\r\n",
       "<text text-anchor=\"start\" x=\"281\" y=\"-79.8\" font-family=\"Helvetica,sans-Serif\" font-size=\"14.00\">value = 0.041</text>\r\n",
       "</g>\r\n",
       "<!-- 14&#45;&gt;15 -->\r\n",
       "<g id=\"edge7\" class=\"edge\">\r\n",
       "<title>14&#45;&gt;15</title>\r\n",
       "<path fill=\"none\" stroke=\"black\" d=\"M325.35,-175.88C325.19,-167.78 325.02,-158.98 324.85,-150.47\"/>\r\n",
       "<polygon fill=\"black\" stroke=\"black\" points=\"328.35,-150.23 324.65,-140.3 321.35,-150.37 328.35,-150.23\"/>\r\n",
       "</g>\r\n",
       "<!-- 34 -->\r\n",
       "<g id=\"node11\" class=\"node\">\r\n",
       "<title>34</title>\r\n",
       "<path fill=\"#f3c3a1\" stroke=\"black\" d=\"M518,-140C518,-140 414,-140 414,-140 408,-140 402,-134 402,-128 402,-128 402,-84 402,-84 402,-78 408,-72 414,-72 414,-72 518,-72 518,-72 524,-72 530,-78 530,-84 530,-84 530,-128 530,-128 530,-134 524,-140 518,-140\"/>\r\n",
       "<text text-anchor=\"start\" x=\"431.5\" y=\"-124.8\" font-family=\"Helvetica,sans-Serif\" font-size=\"14.00\">t&#45;1 ≤ 0.427</text>\r\n",
       "<text text-anchor=\"start\" x=\"425.5\" y=\"-109.8\" font-family=\"Helvetica,sans-Serif\" font-size=\"14.00\">mse = 0.017</text>\r\n",
       "<text text-anchor=\"start\" x=\"410\" y=\"-94.8\" font-family=\"Helvetica,sans-Serif\" font-size=\"14.00\">samples = 80449</text>\r\n",
       "<text text-anchor=\"start\" x=\"423\" y=\"-79.8\" font-family=\"Helvetica,sans-Serif\" font-size=\"14.00\">value = 0.013</text>\r\n",
       "</g>\r\n",
       "<!-- 14&#45;&gt;34 -->\r\n",
       "<g id=\"edge10\" class=\"edge\">\r\n",
       "<title>14&#45;&gt;34</title>\r\n",
       "<path fill=\"none\" stroke=\"black\" d=\"M371.45,-175.88C384.41,-166.44 398.66,-156.06 412.07,-146.29\"/>\r\n",
       "<polygon fill=\"black\" stroke=\"black\" points=\"414.27,-149.02 420.29,-140.3 410.15,-143.36 414.27,-149.02\"/>\r\n",
       "</g>\r\n",
       "<!-- 16 -->\r\n",
       "<g id=\"node9\" class=\"node\">\r\n",
       "<title>16</title>\r\n",
       "<path fill=\"#c0c0c0\" stroke=\"black\" d=\"M284,-36C284,-36 254,-36 254,-36 248,-36 242,-30 242,-24 242,-24 242,-12 242,-12 242,-6 248,0 254,0 254,0 284,0 284,0 290,0 296,-6 296,-12 296,-12 296,-24 296,-24 296,-30 290,-36 284,-36\"/>\r\n",
       "<text text-anchor=\"middle\" x=\"269\" y=\"-14.3\" font-family=\"Helvetica,sans-Serif\" font-size=\"14.00\">(...)</text>\r\n",
       "</g>\r\n",
       "<!-- 15&#45;&gt;16 -->\r\n",
       "<g id=\"edge8\" class=\"edge\">\r\n",
       "<title>15&#45;&gt;16</title>\r\n",
       "<path fill=\"none\" stroke=\"black\" d=\"M302.89,-72C297.14,-63 290.99,-53.38 285.53,-44.84\"/>\r\n",
       "<polygon fill=\"black\" stroke=\"black\" points=\"288.47,-42.94 280.13,-36.4 282.57,-46.71 288.47,-42.94\"/>\r\n",
       "</g>\r\n",
       "<!-- 23 -->\r\n",
       "<g id=\"node10\" class=\"node\">\r\n",
       "<title>23</title>\r\n",
       "<path fill=\"#c0c0c0\" stroke=\"black\" d=\"M356,-36C356,-36 326,-36 326,-36 320,-36 314,-30 314,-24 314,-24 314,-12 314,-12 314,-6 320,0 326,0 326,0 356,0 356,0 362,0 368,-6 368,-12 368,-12 368,-24 368,-24 368,-30 362,-36 356,-36\"/>\r\n",
       "<text text-anchor=\"middle\" x=\"341\" y=\"-14.3\" font-family=\"Helvetica,sans-Serif\" font-size=\"14.00\">(...)</text>\r\n",
       "</g>\r\n",
       "<!-- 15&#45;&gt;23 -->\r\n",
       "<g id=\"edge9\" class=\"edge\">\r\n",
       "<title>15&#45;&gt;23</title>\r\n",
       "<path fill=\"none\" stroke=\"black\" d=\"M330.52,-72C332.19,-63.56 333.96,-54.59 335.57,-46.47\"/>\r\n",
       "<polygon fill=\"black\" stroke=\"black\" points=\"339.05,-46.89 337.56,-36.4 332.19,-45.53 339.05,-46.89\"/>\r\n",
       "</g>\r\n",
       "<!-- 35 -->\r\n",
       "<g id=\"node12\" class=\"node\">\r\n",
       "<title>35</title>\r\n",
       "<path fill=\"#c0c0c0\" stroke=\"black\" d=\"M463,-36C463,-36 433,-36 433,-36 427,-36 421,-30 421,-24 421,-24 421,-12 421,-12 421,-6 427,0 433,0 433,0 463,0 463,0 469,0 475,-6 475,-12 475,-12 475,-24 475,-24 475,-30 469,-36 463,-36\"/>\r\n",
       "<text text-anchor=\"middle\" x=\"448\" y=\"-14.3\" font-family=\"Helvetica,sans-Serif\" font-size=\"14.00\">(...)</text>\r\n",
       "</g>\r\n",
       "<!-- 34&#45;&gt;35 -->\r\n",
       "<g id=\"edge11\" class=\"edge\">\r\n",
       "<title>34&#45;&gt;35</title>\r\n",
       "<path fill=\"none\" stroke=\"black\" d=\"M459.09,-72C457.31,-63.47 455.41,-54.39 453.69,-46.2\"/>\r\n",
       "<polygon fill=\"black\" stroke=\"black\" points=\"457.12,-45.47 451.64,-36.4 450.27,-46.91 457.12,-45.47\"/>\r\n",
       "</g>\r\n",
       "<!-- 50 -->\r\n",
       "<g id=\"node13\" class=\"node\">\r\n",
       "<title>50</title>\r\n",
       "<path fill=\"#c0c0c0\" stroke=\"black\" d=\"M535,-36C535,-36 505,-36 505,-36 499,-36 493,-30 493,-24 493,-24 493,-12 493,-12 493,-6 499,0 505,0 505,0 535,0 535,0 541,0 547,-6 547,-12 547,-12 547,-24 547,-24 547,-30 541,-36 535,-36\"/>\r\n",
       "<text text-anchor=\"middle\" x=\"520\" y=\"-14.3\" font-family=\"Helvetica,sans-Serif\" font-size=\"14.00\">(...)</text>\r\n",
       "</g>\r\n",
       "<!-- 34&#45;&gt;50 -->\r\n",
       "<g id=\"edge12\" class=\"edge\">\r\n",
       "<title>34&#45;&gt;50</title>\r\n",
       "<path fill=\"none\" stroke=\"black\" d=\"M486.72,-72C492.32,-63.09 498.29,-53.58 503.61,-45.11\"/>\r\n",
       "<polygon fill=\"black\" stroke=\"black\" points=\"506.72,-46.73 509.07,-36.4 500.79,-43.01 506.72,-46.73\"/>\r\n",
       "</g>\r\n",
       "</g>\r\n",
       "</svg>\r\n"
      ],
      "text/plain": [
       "<graphviz.files.Source at 0x2b02a446130>"
      ]
     },
     "execution_count": 13,
     "metadata": {},
     "output_type": "execute_result"
    }
   ],
   "source": [
    "out_file = results_path / 'reg_tree_t2.dot'\n",
    "dot_data = export_graphviz(reg_tree_t2,\n",
    "                          out_file=out_file.as_posix(),\n",
    "                          feature_names=X2.columns,\n",
    "                          max_depth=2,\n",
    "                          filled=True,\n",
    "                          rounded=True,\n",
    "                          special_characters=True)\n",
    "if out_file is not None:\n",
    "    dot_data = Path(out_file).read_text()\n",
    "\n",
    "graphviz.Source(dot_data)"
   ]
  },
  {
   "cell_type": "markdown",
   "metadata": {},
   "source": [
    "### Compare with Linear Regression"
   ]
  },
  {
   "cell_type": "markdown",
   "metadata": {},
   "source": [
    "The OLS summary below and a visualization of the first two levels of the decision tree above reveal the striking differences between the models. The OLS model provides three parameters for the intercepts and the two features in line with the linear assumption.\n",
    "\n",
    "In contrast, the regression tree chart above displays for each node of the first two levels the feature and threshold used to split the data (note that features can be used repeatedly), as well as the current value of the mean-squared error (MSE), the number of samples, and predicted value based on these training samples."
   ]
  },
  {
   "cell_type": "markdown",
   "metadata": {},
   "source": [
    "The tree chart also highlights the uneven distribution of samples across the nodes as the numbers vary between 31,000 and 65,000 samples after only two splits."
   ]
  },
  {
   "cell_type": "markdown",
   "metadata": {},
   "source": [
    "#### statsmodels OLS"
   ]
  },
  {
   "cell_type": "code",
   "execution_count": 14,
   "metadata": {
    "ExecuteTime": {
     "end_time": "2021-04-16T00:32:47.020618Z",
     "start_time": "2021-04-16T00:32:46.994715Z"
    },
    "scrolled": true
   },
   "outputs": [],
   "source": [
    "ols_model = sm.OLS(endog=y2, exog=sm.add_constant(X2))"
   ]
  },
  {
   "cell_type": "code",
   "execution_count": 15,
   "metadata": {
    "ExecuteTime": {
     "end_time": "2021-04-16T00:32:50.247927Z",
     "start_time": "2021-04-16T00:32:47.021772Z"
    }
   },
   "outputs": [
    {
     "name": "stdout",
     "output_type": "stream",
     "text": [
      "22 µs ± 518 ns per loop (mean ± std. dev. of 7 runs, 10000 loops each)\n"
     ]
    }
   ],
   "source": [
    "%%timeit\n",
    "ols_model.fit()"
   ]
  },
  {
   "cell_type": "code",
   "execution_count": 16,
   "metadata": {
    "ExecuteTime": {
     "end_time": "2021-04-16T00:32:50.306911Z",
     "start_time": "2021-04-16T00:32:50.249060Z"
    }
   },
   "outputs": [
    {
     "name": "stdout",
     "output_type": "stream",
     "text": [
      "                            OLS Regression Results                            \n",
      "==============================================================================\n",
      "Dep. Variable:                      y   R-squared:                       0.000\n",
      "Model:                            OLS   Adj. R-squared:                  0.000\n",
      "Method:                 Least Squares   F-statistic:                     3.983\n",
      "Date:                Sun, 06 Jun 2021   Prob (F-statistic):             0.0186\n",
      "Time:                        17:26:22   Log-Likelihood:                 48447.\n",
      "No. Observations:               82077   AIC:                        -9.689e+04\n",
      "Df Residuals:                   82074   BIC:                        -9.686e+04\n",
      "Df Model:                           2                                         \n",
      "Covariance Type:            nonrobust                                         \n",
      "==============================================================================\n",
      "                 coef    std err          t      P>|t|      [0.025      0.975]\n",
      "------------------------------------------------------------------------------\n",
      "const          0.0136      0.000     28.790      0.000       0.013       0.015\n",
      "t-1           -0.0098      0.003     -2.802      0.005      -0.017      -0.003\n",
      "t-2            0.0011      0.003      0.309      0.757      -0.006       0.008\n",
      "==============================================================================\n",
      "Omnibus:                    17821.036   Durbin-Watson:                   1.999\n",
      "Prob(Omnibus):                  0.000   Jarque-Bera (JB):            61177.283\n",
      "Skew:                           1.083   Prob(JB):                         0.00\n",
      "Kurtosis:                       6.633   Cond. No.                         7.48\n",
      "==============================================================================\n",
      "\n",
      "Notes:\n",
      "[1] Standard Errors assume that the covariance matrix of the errors is correctly specified.\n"
     ]
    }
   ],
   "source": [
    "result = ols_model.fit()\n",
    "print(result.summary())"
   ]
  },
  {
   "cell_type": "markdown",
   "metadata": {},
   "source": [
    "#### sklearn Linear Regression"
   ]
  },
  {
   "cell_type": "code",
   "execution_count": 17,
   "metadata": {
    "ExecuteTime": {
     "end_time": "2021-04-16T00:32:50.311548Z",
     "start_time": "2021-04-16T00:32:50.309603Z"
    }
   },
   "outputs": [],
   "source": [
    "lin_reg = LinearRegression()"
   ]
  },
  {
   "cell_type": "code",
   "execution_count": 18,
   "metadata": {
    "ExecuteTime": {
     "end_time": "2021-04-16T00:32:52.560013Z",
     "start_time": "2021-04-16T00:32:50.312750Z"
    }
   },
   "outputs": [
    {
     "name": "stdout",
     "output_type": "stream",
     "text": [
      "2.64 ms ± 73 µs per loop (mean ± std. dev. of 7 runs, 100 loops each)\n"
     ]
    }
   ],
   "source": [
    "%%timeit\n",
    "lin_reg.fit(X=X2,y=y2)"
   ]
  },
  {
   "cell_type": "code",
   "execution_count": 19,
   "metadata": {
    "ExecuteTime": {
     "end_time": "2021-04-16T00:32:52.647179Z",
     "start_time": "2021-04-16T00:32:52.560943Z"
    }
   },
   "outputs": [
    {
     "data": {
      "text/plain": [
       "LinearRegression()"
      ]
     },
     "execution_count": 19,
     "metadata": {},
     "output_type": "execute_result"
    }
   ],
   "source": [
    "lin_reg.fit(X=X2,y=y2)"
   ]
  },
  {
   "cell_type": "code",
   "execution_count": 20,
   "metadata": {
    "ExecuteTime": {
     "end_time": "2021-04-16T00:32:52.651998Z",
     "start_time": "2021-04-16T00:32:52.648519Z"
    }
   },
   "outputs": [
    {
     "data": {
      "text/plain": [
       "0.013604535121180346"
      ]
     },
     "execution_count": 20,
     "metadata": {},
     "output_type": "execute_result"
    }
   ],
   "source": [
    "lin_reg.intercept_"
   ]
  },
  {
   "cell_type": "code",
   "execution_count": 21,
   "metadata": {
    "ExecuteTime": {
     "end_time": "2021-04-16T00:32:52.681349Z",
     "start_time": "2021-04-16T00:32:52.653554Z"
    }
   },
   "outputs": [
    {
     "data": {
      "text/plain": [
       "array([-0.00976112,  0.00107534])"
      ]
     },
     "execution_count": 21,
     "metadata": {},
     "output_type": "execute_result"
    }
   ],
   "source": [
    "lin_reg.coef_"
   ]
  },
  {
   "cell_type": "markdown",
   "metadata": {},
   "source": [
    "### Linear Regression vs Regression Tree Decision Surfaces"
   ]
  },
  {
   "cell_type": "markdown",
   "metadata": {},
   "source": [
    "To further illustrate the different assumptions about the functional form of the relationships between the input variables and the output, we can visualize current return predictions as a function of the feature space, that is, as a function of the range of values for the lagged returns. The following figure shows the current period return as a function of returns one and two periods ago for linear regression and the regression tree:\n",
    "\n",
    "The linear-regression model result on the right side underlines the linearity of the relationship between lagged and current returns, whereas the regression tree chart on the left illustrates the non-linear relationship encoded in the recursive partitioning of the feature space."
   ]
  },
  {
   "cell_type": "code",
   "execution_count": 22,
   "metadata": {
    "ExecuteTime": {
     "end_time": "2021-04-16T00:32:52.741131Z",
     "start_time": "2021-04-16T00:32:52.716930Z"
    }
   },
   "outputs": [],
   "source": [
    "t1, t2 = np.meshgrid(np.linspace(X2['t-1'].quantile(.01), X2['t-1'].quantile(.99), 100),\n",
    "                     np.linspace(X2['t-2'].quantile(.01), X2['t-2'].quantile(.99), 100))\n",
    "X_data = np.c_[t1.ravel(), t2.ravel()]"
   ]
  },
  {
   "cell_type": "code",
   "execution_count": 23,
   "metadata": {
    "ExecuteTime": {
     "end_time": "2021-04-16T00:32:53.406640Z",
     "start_time": "2021-04-16T00:32:52.742829Z"
    },
    "scrolled": false
   },
   "outputs": [
    {
     "data": {
      "image/png": "[encoded data removed]",
      "text/plain": [
       "<Figure size 864x360 with 4 Axes>"
      ]
     },
     "metadata": {},
     "output_type": "display_data"
    }
   ],
   "source": [
    "fig, axes = plt.subplots(ncols=2, figsize=(12,5))\n",
    "\n",
    "# Linear Regression\n",
    "ret1 = lin_reg.predict(X_data).reshape(t1.shape)\n",
    "surface1 = axes[0].contourf(t1, t2, ret1, cmap='Blues')\n",
    "plt.colorbar(mappable=surface1, ax=axes[0])\n",
    "\n",
    "# Regression Tree\n",
    "ret2 = reg_tree_t2.predict(X_data).reshape(t1.shape)\n",
    "surface2 = axes[1].contourf(t1, t2, ret2, cmap='Blues')\n",
    "plt.colorbar(mappable=surface2, ax=axes[1])\n",
    "\n",
    "# Format plots\n",
    "titles = ['Linear Regression', 'Regression Tree']\n",
    "for i, ax in enumerate(axes):\n",
    "    ax.set_xlabel('t-1')\n",
    "    ax.set_ylabel('t-2')\n",
    "    ax.set_title(titles[i])\n",
    "\n",
    "fig.suptitle('Decision Surfaces', fontsize=14)\n",
    "sns.despine()\n",
    "fig.tight_layout()\n",
    "fig.subplots_adjust(top=.9);"
   ]
  },
  {
   "cell_type": "markdown",
   "metadata": {},
   "source": [
    "## Simple Classification Tree with Time Series Data"
   ]
  },
  {
   "cell_type": "markdown",
   "metadata": {},
   "source": [
    "A classification tree works just like the regression version, except that categorical nature of the outcome requires a different approach to making predictions and measuring the loss. While a regression tree predicts the response for an observation assigned to a leaf node using the mean outcome of the associated training samples, a classification tree instead uses the mode, that is, the most common class among the training samples in the relevant region. A classification tree can also generate probabilistic predictions based on relative class frequencies."
   ]
  },
  {
   "cell_type": "markdown",
   "metadata": {},
   "source": [
    "### Loss Functions"
   ]
  },
  {
   "cell_type": "markdown",
   "metadata": {},
   "source": [
    "When growing a classification tree, we also use recursive binary splitting but, instead of evaluating the quality of a decision rule using the reduction of the mean-squared error, we can use the classification error rate, which is simply the fraction of the training samples in a given (leave) node that do not belong to the most common class."
   ]
  },
  {
   "cell_type": "markdown",
   "metadata": {},
   "source": [
    "However, the alternative measures, Gini Index or Cross-Entropy, are preferred because they are more sensitive to node purity than the classification error rate. Node purity refers to the extent of the preponderance of a single class in a node. A node that only contains samples with outcomes belonging to a single class is pure and imply successful classification for this particular region of the feature space. "
   ]
  },
  {
   "cell_type": "code",
   "execution_count": 24,
   "metadata": {
    "ExecuteTime": {
     "end_time": "2021-04-16T00:32:53.411641Z",
     "start_time": "2021-04-16T00:32:53.409446Z"
    }
   },
   "outputs": [],
   "source": [
    "def entropy(f):\n",
    "    return (-f*np.log2(f) - (1-f)*np.log2(1-f))/2"
   ]
  },
  {
   "cell_type": "code",
   "execution_count": 25,
   "metadata": {
    "ExecuteTime": {
     "end_time": "2021-04-16T00:32:53.426940Z",
     "start_time": "2021-04-16T00:32:53.414041Z"
    }
   },
   "outputs": [],
   "source": [
    "def gini(f):\n",
    "    return 2*f*(1-f)"
   ]
  },
  {
   "cell_type": "code",
   "execution_count": 26,
   "metadata": {
    "ExecuteTime": {
     "end_time": "2021-04-16T00:32:53.447019Z",
     "start_time": "2021-04-16T00:32:53.443818Z"
    }
   },
   "outputs": [],
   "source": [
    "def misclassification_rate(f):\n",
    "    return np.where(f<=.5, f, 1-f)"
   ]
  },
  {
   "cell_type": "markdown",
   "metadata": {},
   "source": [
    "Both the Gini Impurity and the Cross-Entropy measure take on smaller values when the class proportions approach zero or one, that is, when the child nodes become pure as a result of the split and are highest when the class proportions are even or 0.5 in the binary case. \n",
    "\n",
    "The chart below visualizes the values assumed by these two measures and the misclassification error rates across the [0, 1] interval of proportions."
   ]
  },
  {
   "cell_type": "code",
   "execution_count": 27,
   "metadata": {
    "ExecuteTime": {
     "end_time": "2021-04-16T00:32:53.721436Z",
     "start_time": "2021-04-16T00:32:53.452115Z"
    }
   },
   "outputs": [
    {
     "data": {
      "image/png": "[encoded data removed]",
      "text/plain": [
       "<Figure size 432x288 with 1 Axes>"
      ]
     },
     "metadata": {},
     "output_type": "display_data"
    }
   ],
   "source": [
    "x = np.linspace(0, 1, 10000)\n",
    "(pd.DataFrame({'Gini': gini(x), \n",
    "              'Entropy': entropy(x),\n",
    "             'Misclassification Rate': misclassification_rate(x)}, index=x)\n",
    " .plot(title='Classification Loss Functions', lw=2, style=['-', '--', ':']))\n",
    "sns.despine()\n",
    "plt.tight_layout();"
   ]
  },
  {
   "cell_type": "markdown",
   "metadata": {},
   "source": [
    "#### Compare computation time"
   ]
  },
  {
   "cell_type": "markdown",
   "metadata": {},
   "source": [
    "Gini is often preferred over entropy because it computes faster:"
   ]
  },
  {
   "cell_type": "code",
   "execution_count": 28,
   "metadata": {
    "ExecuteTime": {
     "end_time": "2021-04-16T00:33:08.588281Z",
     "start_time": "2021-04-16T00:32:53.723873Z"
    }
   },
   "outputs": [
    {
     "name": "stdout",
     "output_type": "stream",
     "text": [
      "14.9 µs ± 103 ns per loop (mean ± std. dev. of 7 runs, 100000 loops each)\n"
     ]
    }
   ],
   "source": [
    "%%timeit\n",
    "misclassification_rate(x)"
   ]
  },
  {
   "cell_type": "code",
   "execution_count": 29,
   "metadata": {
    "ExecuteTime": {
     "end_time": "2021-04-16T00:33:18.035051Z",
     "start_time": "2021-04-16T00:33:08.589304Z"
    }
   },
   "outputs": [
    {
     "name": "stdout",
     "output_type": "stream",
     "text": [
      "11.4 µs ± 213 ns per loop (mean ± std. dev. of 7 runs, 100000 loops each)\n"
     ]
    }
   ],
   "source": [
    "%%timeit\n",
    "gini(x)"
   ]
  },
  {
   "cell_type": "code",
   "execution_count": 30,
   "metadata": {
    "ExecuteTime": {
     "end_time": "2021-04-16T00:33:19.423307Z",
     "start_time": "2021-04-16T00:33:18.036362Z"
    }
   },
   "outputs": [
    {
     "name": "stdout",
     "output_type": "stream",
     "text": [
      "187 µs ± 146 ns per loop (mean ± std. dev. of 7 runs, 10000 loops each)\n"
     ]
    }
   ],
   "source": [
    "%%timeit\n",
    "entropy(x)"
   ]
  },
  {
   "cell_type": "markdown",
   "metadata": {},
   "source": [
    "### Configure Tree"
   ]
  },
  {
   "cell_type": "code",
   "execution_count": 31,
   "metadata": {
    "ExecuteTime": {
     "end_time": "2021-04-16T00:33:19.427483Z",
     "start_time": "2021-04-16T00:33:19.424763Z"
    }
   },
   "outputs": [],
   "source": [
    "clf_tree_t2 = DecisionTreeClassifier(criterion='gini',\n",
    "                                     splitter='best',\n",
    "                                     max_depth=5,\n",
    "                                     min_samples_split=1000,\n",
    "                                     min_samples_leaf=1,\n",
    "                                     min_weight_fraction_leaf=0.0,\n",
    "                                     max_features=None,\n",
    "                                     random_state=42,\n",
    "                                     max_leaf_nodes=None,\n",
    "                                     min_impurity_decrease=0.0,\n",
    "                                     min_impurity_split=None,\n",
    "                                     class_weight=None)"
   ]
  },
  {
   "cell_type": "markdown",
   "metadata": {},
   "source": [
    "### Train Tree"
   ]
  },
  {
   "cell_type": "code",
   "execution_count": 32,
   "metadata": {
    "ExecuteTime": {
     "end_time": "2021-04-16T00:33:19.460489Z",
     "start_time": "2021-04-16T00:33:19.428704Z"
    }
   },
   "outputs": [
    {
     "data": {
      "text/plain": [
       "0    41718\n",
       "1    40359\n",
       "Name: y, dtype: int64"
      ]
     },
     "execution_count": 32,
     "metadata": {},
     "output_type": "execute_result"
    }
   ],
   "source": [
    "y_binary = (y2>0).astype(int)\n",
    "y_binary.value_counts()"
   ]
  },
  {
   "cell_type": "code",
   "execution_count": 33,
   "metadata": {
    "ExecuteTime": {
     "end_time": "2021-04-16T00:33:26.269743Z",
     "start_time": "2021-04-16T00:33:19.461996Z"
    },
    "scrolled": true
   },
   "outputs": [
    {
     "name": "stdout",
     "output_type": "stream",
     "text": [
      "73.3 ms ± 133 µs per loop (mean ± std. dev. of 7 runs, 10 loops each)\n"
     ]
    }
   ],
   "source": [
    "%%timeit\n",
    "clf_tree_t2.fit(X=X2, y=y_binary)"
   ]
  },
  {
   "cell_type": "code",
   "execution_count": 34,
   "metadata": {
    "ExecuteTime": {
     "end_time": "2021-04-16T00:33:26.363009Z",
     "start_time": "2021-04-16T00:33:26.270887Z"
    }
   },
   "outputs": [
    {
     "data": {
      "text/plain": [
       "DecisionTreeClassifier(max_depth=5, min_samples_split=1000, random_state=42)"
      ]
     },
     "execution_count": 34,
     "metadata": {},
     "output_type": "execute_result"
    }
   ],
   "source": [
    "clf_tree_t2.fit(X=X2, y=y_binary)"
   ]
  },
  {
   "cell_type": "markdown",
   "metadata": {},
   "source": [
    "### Visualize Tree"
   ]
  },
  {
   "cell_type": "code",
   "execution_count": 35,
   "metadata": {
    "ExecuteTime": {
     "end_time": "2021-04-16T00:33:26.404932Z",
     "start_time": "2021-04-16T00:33:26.363983Z"
    }
   },
   "outputs": [
    {
     "data": {
      "image/svg+xml": [
       "<?xml version=\"1.0\" encoding=\"UTF-8\" standalone=\"no\"?>\r\n",
       "<!DOCTYPE svg PUBLIC \"-//W3C//DTD SVG 1.1//EN\"\r\n",
       " \"http://www.w3.org/Graphics/SVG/1.1/DTD/svg11.dtd\">\r\n",
       "<!-- Generated by graphviz version 2.47.1 (0)\r\n",
       " -->\r\n",
       "<!-- Title: Tree Pages: 1 -->\r\n",
       "<svg width=\"655pt\" height=\"401pt\"\r\n",
       " viewBox=\"0.00 0.00 654.50 401.00\" xmlns=\"http://www.w3.org/2000/svg\" xmlns:xlink=\"http://www.w3.org/1999/xlink\">\r\n",
       "<g id=\"graph0\" class=\"graph\" transform=\"scale(1 1) rotate(0) translate(4 397)\">\r\n",
       "<title>Tree</title>\r\n",
       "<polygon fill=\"white\" stroke=\"transparent\" points=\"-4,4 -4,-397 650.5,-397 650.5,4 -4,4\"/>\r\n",
       "<!-- 0 -->\r\n",
       "<g id=\"node1\" class=\"node\">\r\n",
       "<title>0</title>\r\n",
       "<path fill=\"#fefbf9\" stroke=\"black\" d=\"M405,-393C405,-393 266,-393 266,-393 260,-393 254,-387 254,-381 254,-381 254,-322 254,-322 254,-316 260,-310 266,-310 266,-310 405,-310 405,-310 411,-310 417,-316 417,-322 417,-322 417,-381 417,-381 417,-387 411,-393 405,-393\"/>\r\n",
       "<text text-anchor=\"start\" x=\"301\" y=\"-377.8\" font-family=\"Helvetica,sans-Serif\" font-size=\"14.00\">t&#45;1 ≤ 0.293</text>\r\n",
       "<text text-anchor=\"start\" x=\"306.5\" y=\"-362.8\" font-family=\"Helvetica,sans-Serif\" font-size=\"14.00\">gini = 0.5</text>\r\n",
       "<text text-anchor=\"start\" x=\"279.5\" y=\"-347.8\" font-family=\"Helvetica,sans-Serif\" font-size=\"14.00\">samples = 82077</text>\r\n",
       "<text text-anchor=\"start\" x=\"262\" y=\"-332.8\" font-family=\"Helvetica,sans-Serif\" font-size=\"14.00\">value = [41718, 40359]</text>\r\n",
       "<text text-anchor=\"start\" x=\"293\" y=\"-317.8\" font-family=\"Helvetica,sans-Serif\" font-size=\"14.00\">class = Down</text>\r\n",
       "</g>\r\n",
       "<!-- 1 -->\r\n",
       "<g id=\"node2\" class=\"node\">\r\n",
       "<title>1</title>\r\n",
       "<path fill=\"#fefcfb\" stroke=\"black\" d=\"M319,-274C319,-274 180,-274 180,-274 174,-274 168,-268 168,-262 168,-262 168,-203 168,-203 168,-197 174,-191 180,-191 180,-191 319,-191 319,-191 325,-191 331,-197 331,-203 331,-203 331,-262 331,-262 331,-268 325,-274 319,-274\"/>\r\n",
       "<text text-anchor=\"start\" x=\"219\" y=\"-258.8\" font-family=\"Helvetica,sans-Serif\" font-size=\"14.00\">t&#45;1 ≤ 0.11</text>\r\n",
       "<text text-anchor=\"start\" x=\"220.5\" y=\"-243.8\" font-family=\"Helvetica,sans-Serif\" font-size=\"14.00\">gini = 0.5</text>\r\n",
       "<text text-anchor=\"start\" x=\"193.5\" y=\"-228.8\" font-family=\"Helvetica,sans-Serif\" font-size=\"14.00\">samples = 79172</text>\r\n",
       "<text text-anchor=\"start\" x=\"176\" y=\"-213.8\" font-family=\"Helvetica,sans-Serif\" font-size=\"14.00\">value = [40007, 39165]</text>\r\n",
       "<text text-anchor=\"start\" x=\"207\" y=\"-198.8\" font-family=\"Helvetica,sans-Serif\" font-size=\"14.00\">class = Down</text>\r\n",
       "</g>\r\n",
       "<!-- 0&#45;&gt;1 -->\r\n",
       "<g id=\"edge1\" class=\"edge\">\r\n",
       "<title>0&#45;&gt;1</title>\r\n",
       "<path fill=\"none\" stroke=\"black\" d=\"M305.66,-309.91C299.13,-301.01 292.14,-291.51 285.39,-282.33\"/>\r\n",
       "<polygon fill=\"black\" stroke=\"black\" points=\"288.03,-280.01 279.28,-274.02 282.39,-284.15 288.03,-280.01\"/>\r\n",
       "<text text-anchor=\"middle\" x=\"275.51\" y=\"-295.03\" font-family=\"Helvetica,sans-Serif\" font-size=\"14.00\">True</text>\r\n",
       "</g>\r\n",
       "<!-- 18 -->\r\n",
       "<g id=\"node9\" class=\"node\">\r\n",
       "<title>18</title>\r\n",
       "<path fill=\"#f7d9c3\" stroke=\"black\" d=\"M483.5,-274C483.5,-274 361.5,-274 361.5,-274 355.5,-274 349.5,-268 349.5,-262 349.5,-262 349.5,-203 349.5,-203 349.5,-197 355.5,-191 361.5,-191 361.5,-191 483.5,-191 483.5,-191 489.5,-191 495.5,-197 495.5,-203 495.5,-203 495.5,-262 495.5,-262 495.5,-268 489.5,-274 483.5,-274\"/>\r\n",
       "<text text-anchor=\"start\" x=\"388\" y=\"-258.8\" font-family=\"Helvetica,sans-Serif\" font-size=\"14.00\">t&#45;1 ≤ 0.427</text>\r\n",
       "<text text-anchor=\"start\" x=\"385\" y=\"-243.8\" font-family=\"Helvetica,sans-Serif\" font-size=\"14.00\">gini = 0.484</text>\r\n",
       "<text text-anchor=\"start\" x=\"371\" y=\"-228.8\" font-family=\"Helvetica,sans-Serif\" font-size=\"14.00\">samples = 2905</text>\r\n",
       "<text text-anchor=\"start\" x=\"357.5\" y=\"-213.8\" font-family=\"Helvetica,sans-Serif\" font-size=\"14.00\">value = [1711, 1194]</text>\r\n",
       "<text text-anchor=\"start\" x=\"380\" y=\"-198.8\" font-family=\"Helvetica,sans-Serif\" font-size=\"14.00\">class = Down</text>\r\n",
       "</g>\r\n",
       "<!-- 0&#45;&gt;18 -->\r\n",
       "<g id=\"edge8\" class=\"edge\">\r\n",
       "<title>0&#45;&gt;18</title>\r\n",
       "<path fill=\"none\" stroke=\"black\" d=\"M365.68,-309.91C372.36,-300.92 379.51,-291.32 386.4,-282.05\"/>\r\n",
       "<polygon fill=\"black\" stroke=\"black\" points=\"389.21,-284.13 392.37,-274.02 383.59,-279.96 389.21,-284.13\"/>\r\n",
       "<text text-anchor=\"middle\" x=\"396.01\" y=\"-295.05\" font-family=\"Helvetica,sans-Serif\" font-size=\"14.00\">False</text>\r\n",
       "</g>\r\n",
       "<!-- 2 -->\r\n",
       "<g id=\"node3\" class=\"node\">\r\n",
       "<title>2</title>\r\n",
       "<path fill=\"#fffefe\" stroke=\"black\" d=\"M151,-155C151,-155 12,-155 12,-155 6,-155 0,-149 0,-143 0,-143 0,-84 0,-84 0,-78 6,-72 12,-72 12,-72 151,-72 151,-72 157,-72 163,-78 163,-84 163,-84 163,-143 163,-143 163,-149 157,-155 151,-155\"/>\r\n",
       "<text text-anchor=\"start\" x=\"45\" y=\"-139.8\" font-family=\"Helvetica,sans-Serif\" font-size=\"14.00\">t&#45;2 ≤ &#45;0.333</text>\r\n",
       "<text text-anchor=\"start\" x=\"52.5\" y=\"-124.8\" font-family=\"Helvetica,sans-Serif\" font-size=\"14.00\">gini = 0.5</text>\r\n",
       "<text text-anchor=\"start\" x=\"25.5\" y=\"-109.8\" font-family=\"Helvetica,sans-Serif\" font-size=\"14.00\">samples = 68246</text>\r\n",
       "<text text-anchor=\"start\" x=\"8\" y=\"-94.8\" font-family=\"Helvetica,sans-Serif\" font-size=\"14.00\">value = [34214, 34032]</text>\r\n",
       "<text text-anchor=\"start\" x=\"39\" y=\"-79.8\" font-family=\"Helvetica,sans-Serif\" font-size=\"14.00\">class = Down</text>\r\n",
       "</g>\r\n",
       "<!-- 1&#45;&gt;2 -->\r\n",
       "<g id=\"edge2\" class=\"edge\">\r\n",
       "<title>1&#45;&gt;2</title>\r\n",
       "<path fill=\"none\" stroke=\"black\" d=\"M191.21,-190.91C177.27,-181.2 162.28,-170.76 148,-160.81\"/>\r\n",
       "<polygon fill=\"black\" stroke=\"black\" points=\"149.89,-157.86 139.68,-155.02 145.89,-163.61 149.89,-157.86\"/>\r\n",
       "</g>\r\n",
       "<!-- 11 -->\r\n",
       "<g id=\"node6\" class=\"node\">\r\n",
       "<title>11</title>\r\n",
       "<path fill=\"#fcf1e8\" stroke=\"black\" d=\"M315.5,-155C315.5,-155 193.5,-155 193.5,-155 187.5,-155 181.5,-149 181.5,-143 181.5,-143 181.5,-84 181.5,-84 181.5,-78 187.5,-72 193.5,-72 193.5,-72 315.5,-72 315.5,-72 321.5,-72 327.5,-78 327.5,-84 327.5,-84 327.5,-143 327.5,-143 327.5,-149 321.5,-155 315.5,-155\"/>\r\n",
       "<text text-anchor=\"start\" x=\"220\" y=\"-139.8\" font-family=\"Helvetica,sans-Serif\" font-size=\"14.00\">t&#45;2 ≤ 0.378</text>\r\n",
       "<text text-anchor=\"start\" x=\"217\" y=\"-124.8\" font-family=\"Helvetica,sans-Serif\" font-size=\"14.00\">gini = 0.498</text>\r\n",
       "<text text-anchor=\"start\" x=\"198.5\" y=\"-109.8\" font-family=\"Helvetica,sans-Serif\" font-size=\"14.00\">samples = 10926</text>\r\n",
       "<text text-anchor=\"start\" x=\"189.5\" y=\"-94.8\" font-family=\"Helvetica,sans-Serif\" font-size=\"14.00\">value = [5793, 5133]</text>\r\n",
       "<text text-anchor=\"start\" x=\"212\" y=\"-79.8\" font-family=\"Helvetica,sans-Serif\" font-size=\"14.00\">class = Down</text>\r\n",
       "</g>\r\n",
       "<!-- 1&#45;&gt;11 -->\r\n",
       "<g id=\"edge5\" class=\"edge\">\r\n",
       "<title>1&#45;&gt;11</title>\r\n",
       "<path fill=\"none\" stroke=\"black\" d=\"M251.23,-190.91C251.59,-182.56 251.97,-173.67 252.34,-165.02\"/>\r\n",
       "<polygon fill=\"black\" stroke=\"black\" points=\"255.84,-165.16 252.77,-155.02 248.84,-164.86 255.84,-165.16\"/>\r\n",
       "</g>\r\n",
       "<!-- 3 -->\r\n",
       "<g id=\"node4\" class=\"node\">\r\n",
       "<title>3</title>\r\n",
       "<path fill=\"#c0c0c0\" stroke=\"black\" d=\"M83.5,-36C83.5,-36 53.5,-36 53.5,-36 47.5,-36 41.5,-30 41.5,-24 41.5,-24 41.5,-12 41.5,-12 41.5,-6 47.5,0 53.5,0 53.5,0 83.5,0 83.5,0 89.5,0 95.5,-6 95.5,-12 95.5,-12 95.5,-24 95.5,-24 95.5,-30 89.5,-36 83.5,-36\"/>\r\n",
       "<text text-anchor=\"middle\" x=\"68.5\" y=\"-14.3\" font-family=\"Helvetica,sans-Serif\" font-size=\"14.00\">(...)</text>\r\n",
       "</g>\r\n",
       "<!-- 2&#45;&gt;3 -->\r\n",
       "<g id=\"edge3\" class=\"edge\">\r\n",
       "<title>2&#45;&gt;3</title>\r\n",
       "<path fill=\"none\" stroke=\"black\" d=\"M75.84,-71.76C74.65,-63.24 73.43,-54.44 72.33,-46.53\"/>\r\n",
       "<polygon fill=\"black\" stroke=\"black\" points=\"75.76,-45.83 70.92,-36.41 68.83,-46.79 75.76,-45.83\"/>\r\n",
       "</g>\r\n",
       "<!-- 4 -->\r\n",
       "<g id=\"node5\" class=\"node\">\r\n",
       "<title>4</title>\r\n",
       "<path fill=\"#c0c0c0\" stroke=\"black\" d=\"M155.5,-36C155.5,-36 125.5,-36 125.5,-36 119.5,-36 113.5,-30 113.5,-24 113.5,-24 113.5,-12 113.5,-12 113.5,-6 119.5,0 125.5,0 125.5,0 155.5,0 155.5,0 161.5,0 167.5,-6 167.5,-12 167.5,-12 167.5,-24 167.5,-24 167.5,-30 161.5,-36 155.5,-36\"/>\r\n",
       "<text text-anchor=\"middle\" x=\"140.5\" y=\"-14.3\" font-family=\"Helvetica,sans-Serif\" font-size=\"14.00\">(...)</text>\r\n",
       "</g>\r\n",
       "<!-- 2&#45;&gt;4 -->\r\n",
       "<g id=\"edge4\" class=\"edge\">\r\n",
       "<title>2&#45;&gt;4</title>\r\n",
       "<path fill=\"none\" stroke=\"black\" d=\"M107.21,-71.76C112.95,-62.65 118.9,-53.24 124.14,-44.92\"/>\r\n",
       "<polygon fill=\"black\" stroke=\"black\" points=\"127.14,-46.73 129.52,-36.41 121.22,-42.99 127.14,-46.73\"/>\r\n",
       "</g>\r\n",
       "<!-- 12 -->\r\n",
       "<g id=\"node7\" class=\"node\">\r\n",
       "<title>12</title>\r\n",
       "<path fill=\"#c0c0c0\" stroke=\"black\" d=\"M248.5,-36C248.5,-36 218.5,-36 218.5,-36 212.5,-36 206.5,-30 206.5,-24 206.5,-24 206.5,-12 206.5,-12 206.5,-6 212.5,0 218.5,0 218.5,0 248.5,0 248.5,0 254.5,0 260.5,-6 260.5,-12 260.5,-12 260.5,-24 260.5,-24 260.5,-30 254.5,-36 248.5,-36\"/>\r\n",
       "<text text-anchor=\"middle\" x=\"233.5\" y=\"-14.3\" font-family=\"Helvetica,sans-Serif\" font-size=\"14.00\">(...)</text>\r\n",
       "</g>\r\n",
       "<!-- 11&#45;&gt;12 -->\r\n",
       "<g id=\"edge6\" class=\"edge\">\r\n",
       "<title>11&#45;&gt;12</title>\r\n",
       "<path fill=\"none\" stroke=\"black\" d=\"M245.35,-71.76C243.41,-63.14 241.41,-54.24 239.62,-46.26\"/>\r\n",
       "<polygon fill=\"black\" stroke=\"black\" points=\"243.02,-45.4 237.41,-36.41 236.19,-46.93 243.02,-45.4\"/>\r\n",
       "</g>\r\n",
       "<!-- 17 -->\r\n",
       "<g id=\"node8\" class=\"node\">\r\n",
       "<title>17</title>\r\n",
       "<path fill=\"#c0c0c0\" stroke=\"black\" d=\"M320.5,-36C320.5,-36 290.5,-36 290.5,-36 284.5,-36 278.5,-30 278.5,-24 278.5,-24 278.5,-12 278.5,-12 278.5,-6 284.5,0 290.5,0 290.5,0 320.5,0 320.5,0 326.5,0 332.5,-6 332.5,-12 332.5,-12 332.5,-24 332.5,-24 332.5,-30 326.5,-36 320.5,-36\"/>\r\n",
       "<text text-anchor=\"middle\" x=\"305.5\" y=\"-14.3\" font-family=\"Helvetica,sans-Serif\" font-size=\"14.00\">(...)</text>\r\n",
       "</g>\r\n",
       "<!-- 11&#45;&gt;17 -->\r\n",
       "<g id=\"edge7\" class=\"edge\">\r\n",
       "<title>11&#45;&gt;17</title>\r\n",
       "<path fill=\"none\" stroke=\"black\" d=\"M276.72,-71.76C281.64,-62.75 286.72,-53.44 291.21,-45.19\"/>\r\n",
       "<polygon fill=\"black\" stroke=\"black\" points=\"294.29,-46.86 296.01,-36.41 288.15,-43.51 294.29,-46.86\"/>\r\n",
       "</g>\r\n",
       "<!-- 19 -->\r\n",
       "<g id=\"node10\" class=\"node\">\r\n",
       "<title>19</title>\r\n",
       "<path fill=\"#f9e4d5\" stroke=\"black\" d=\"M471.5,-155C471.5,-155 365.5,-155 365.5,-155 359.5,-155 353.5,-149 353.5,-143 353.5,-143 353.5,-84 353.5,-84 353.5,-78 359.5,-72 365.5,-72 365.5,-72 471.5,-72 471.5,-72 477.5,-72 483.5,-78 483.5,-84 483.5,-84 483.5,-143 483.5,-143 483.5,-149 477.5,-155 471.5,-155\"/>\r\n",
       "<text text-anchor=\"start\" x=\"384\" y=\"-139.8\" font-family=\"Helvetica,sans-Serif\" font-size=\"14.00\">t&#45;1 ≤ 0.423</text>\r\n",
       "<text text-anchor=\"start\" x=\"381\" y=\"-124.8\" font-family=\"Helvetica,sans-Serif\" font-size=\"14.00\">gini = 0.493</text>\r\n",
       "<text text-anchor=\"start\" x=\"367\" y=\"-109.8\" font-family=\"Helvetica,sans-Serif\" font-size=\"14.00\">samples = 1642</text>\r\n",
       "<text text-anchor=\"start\" x=\"361.5\" y=\"-94.8\" font-family=\"Helvetica,sans-Serif\" font-size=\"14.00\">value = [919, 723]</text>\r\n",
       "<text text-anchor=\"start\" x=\"376\" y=\"-79.8\" font-family=\"Helvetica,sans-Serif\" font-size=\"14.00\">class = Down</text>\r\n",
       "</g>\r\n",
       "<!-- 18&#45;&gt;19 -->\r\n",
       "<g id=\"edge9\" class=\"edge\">\r\n",
       "<title>18&#45;&gt;19</title>\r\n",
       "<path fill=\"none\" stroke=\"black\" d=\"M421.11,-190.91C420.83,-182.56 420.52,-173.67 420.23,-165.02\"/>\r\n",
       "<polygon fill=\"black\" stroke=\"black\" points=\"423.73,-164.9 419.89,-155.02 416.73,-165.13 423.73,-164.9\"/>\r\n",
       "</g>\r\n",
       "<!-- 26 -->\r\n",
       "<g id=\"node13\" class=\"node\">\r\n",
       "<title>26</title>\r\n",
       "<path fill=\"#f4ccaf\" stroke=\"black\" d=\"M619.5,-155C619.5,-155 513.5,-155 513.5,-155 507.5,-155 501.5,-149 501.5,-143 501.5,-143 501.5,-84 501.5,-84 501.5,-78 507.5,-72 513.5,-72 513.5,-72 619.5,-72 619.5,-72 625.5,-72 631.5,-78 631.5,-84 631.5,-84 631.5,-143 631.5,-143 631.5,-149 625.5,-155 619.5,-155\"/>\r\n",
       "<text text-anchor=\"start\" x=\"530\" y=\"-139.8\" font-family=\"Helvetica,sans-Serif\" font-size=\"14.00\">t&#45;2 ≤ &#45;0.072</text>\r\n",
       "<text text-anchor=\"start\" x=\"529\" y=\"-124.8\" font-family=\"Helvetica,sans-Serif\" font-size=\"14.00\">gini = 0.468</text>\r\n",
       "<text text-anchor=\"start\" x=\"515\" y=\"-109.8\" font-family=\"Helvetica,sans-Serif\" font-size=\"14.00\">samples = 1263</text>\r\n",
       "<text text-anchor=\"start\" x=\"509.5\" y=\"-94.8\" font-family=\"Helvetica,sans-Serif\" font-size=\"14.00\">value = [792, 471]</text>\r\n",
       "<text text-anchor=\"start\" x=\"524\" y=\"-79.8\" font-family=\"Helvetica,sans-Serif\" font-size=\"14.00\">class = Down</text>\r\n",
       "</g>\r\n",
       "<!-- 18&#45;&gt;26 -->\r\n",
       "<g id=\"edge12\" class=\"edge\">\r\n",
       "<title>18&#45;&gt;26</title>\r\n",
       "<path fill=\"none\" stroke=\"black\" d=\"M472.46,-190.91C484.19,-181.38 496.78,-171.15 508.81,-161.37\"/>\r\n",
       "<polygon fill=\"black\" stroke=\"black\" points=\"511.07,-164.04 516.63,-155.02 506.66,-158.61 511.07,-164.04\"/>\r\n",
       "</g>\r\n",
       "<!-- 20 -->\r\n",
       "<g id=\"node11\" class=\"node\">\r\n",
       "<title>20</title>\r\n",
       "<path fill=\"#c0c0c0\" stroke=\"black\" d=\"M408.5,-36C408.5,-36 378.5,-36 378.5,-36 372.5,-36 366.5,-30 366.5,-24 366.5,-24 366.5,-12 366.5,-12 366.5,-6 372.5,0 378.5,0 378.5,0 408.5,0 408.5,0 414.5,0 420.5,-6 420.5,-12 420.5,-12 420.5,-24 420.5,-24 420.5,-30 414.5,-36 408.5,-36\"/>\r\n",
       "<text text-anchor=\"middle\" x=\"393.5\" y=\"-14.3\" font-family=\"Helvetica,sans-Serif\" font-size=\"14.00\">(...)</text>\r\n",
       "</g>\r\n",
       "<!-- 19&#45;&gt;20 -->\r\n",
       "<g id=\"edge10\" class=\"edge\">\r\n",
       "<title>19&#45;&gt;20</title>\r\n",
       "<path fill=\"none\" stroke=\"black\" d=\"M407.61,-71.76C405.3,-63.14 402.92,-54.24 400.79,-46.26\"/>\r\n",
       "<polygon fill=\"black\" stroke=\"black\" points=\"404.12,-45.16 398.15,-36.41 397.36,-46.97 404.12,-45.16\"/>\r\n",
       "</g>\r\n",
       "<!-- 25 -->\r\n",
       "<g id=\"node12\" class=\"node\">\r\n",
       "<title>25</title>\r\n",
       "<path fill=\"#c0c0c0\" stroke=\"black\" d=\"M480.5,-36C480.5,-36 450.5,-36 450.5,-36 444.5,-36 438.5,-30 438.5,-24 438.5,-24 438.5,-12 438.5,-12 438.5,-6 444.5,0 450.5,0 450.5,0 480.5,0 480.5,0 486.5,0 492.5,-6 492.5,-12 492.5,-12 492.5,-24 492.5,-24 492.5,-30 486.5,-36 480.5,-36\"/>\r\n",
       "<text text-anchor=\"middle\" x=\"465.5\" y=\"-14.3\" font-family=\"Helvetica,sans-Serif\" font-size=\"14.00\">(...)</text>\r\n",
       "</g>\r\n",
       "<!-- 19&#45;&gt;25 -->\r\n",
       "<g id=\"edge11\" class=\"edge\">\r\n",
       "<title>19&#45;&gt;25</title>\r\n",
       "<path fill=\"none\" stroke=\"black\" d=\"M438.98,-71.76C443.46,-62.85 448.09,-53.64 452.2,-45.46\"/>\r\n",
       "<polygon fill=\"black\" stroke=\"black\" points=\"455.39,-46.91 456.75,-36.41 449.13,-43.77 455.39,-46.91\"/>\r\n",
       "</g>\r\n",
       "<!-- 27 -->\r\n",
       "<g id=\"node14\" class=\"node\">\r\n",
       "<title>27</title>\r\n",
       "<path fill=\"#c0c0c0\" stroke=\"black\" d=\"M562.5,-36C562.5,-36 532.5,-36 532.5,-36 526.5,-36 520.5,-30 520.5,-24 520.5,-24 520.5,-12 520.5,-12 520.5,-6 526.5,0 532.5,0 532.5,0 562.5,0 562.5,0 568.5,0 574.5,-6 574.5,-12 574.5,-12 574.5,-24 574.5,-24 574.5,-30 568.5,-36 562.5,-36\"/>\r\n",
       "<text text-anchor=\"middle\" x=\"547.5\" y=\"-14.3\" font-family=\"Helvetica,sans-Serif\" font-size=\"14.00\">(...)</text>\r\n",
       "</g>\r\n",
       "<!-- 26&#45;&gt;27 -->\r\n",
       "<g id=\"edge13\" class=\"edge\">\r\n",
       "<title>26&#45;&gt;27</title>\r\n",
       "<path fill=\"none\" stroke=\"black\" d=\"M558.22,-71.76C556.47,-63.14 554.66,-54.24 553.04,-46.26\"/>\r\n",
       "<polygon fill=\"black\" stroke=\"black\" points=\"556.46,-45.51 551.04,-36.41 549.6,-46.9 556.46,-45.51\"/>\r\n",
       "</g>\r\n",
       "<!-- 28 -->\r\n",
       "<g id=\"node15\" class=\"node\">\r\n",
       "<title>28</title>\r\n",
       "<path fill=\"#c0c0c0\" stroke=\"black\" d=\"M634.5,-36C634.5,-36 604.5,-36 604.5,-36 598.5,-36 592.5,-30 592.5,-24 592.5,-24 592.5,-12 592.5,-12 592.5,-6 598.5,0 604.5,0 604.5,0 634.5,0 634.5,0 640.5,0 646.5,-6 646.5,-12 646.5,-12 646.5,-24 646.5,-24 646.5,-30 640.5,-36 634.5,-36\"/>\r\n",
       "<text text-anchor=\"middle\" x=\"619.5\" y=\"-14.3\" font-family=\"Helvetica,sans-Serif\" font-size=\"14.00\">(...)</text>\r\n",
       "</g>\r\n",
       "<!-- 26&#45;&gt;28 -->\r\n",
       "<g id=\"edge14\" class=\"edge\">\r\n",
       "<title>26&#45;&gt;28</title>\r\n",
       "<path fill=\"none\" stroke=\"black\" d=\"M589.59,-71.76C594.7,-62.75 599.98,-53.44 604.65,-45.19\"/>\r\n",
       "<polygon fill=\"black\" stroke=\"black\" points=\"607.75,-46.83 609.63,-36.41 601.66,-43.38 607.75,-46.83\"/>\r\n",
       "</g>\r\n",
       "</g>\r\n",
       "</svg>\r\n"
      ],
      "text/plain": [
       "<graphviz.files.Source at 0x2b02fbec790>"
      ]
     },
     "execution_count": 35,
     "metadata": {},
     "output_type": "execute_result"
    }
   ],
   "source": [
    "out_file = results_path / 'clf_tree_t2.dot'\n",
    "dot_data = export_graphviz(clf_tree_t2,\n",
    "                           out_file=out_file.as_posix(),\n",
    "                           feature_names=X2.columns,\n",
    "                           class_names=['Down', 'Up'],\n",
    "                           max_depth=2,\n",
    "                           filled=True,\n",
    "                           rounded=True,\n",
    "                           special_characters=True)\n",
    "if out_file is not None:\n",
    "    dot_data = Path(out_file).read_text()\n",
    "\n",
    "graphviz.Source(dot_data)"
   ]
  },
  {
   "cell_type": "markdown",
   "metadata": {},
   "source": [
    "### Compare with Logistic Regression"
   ]
  },
  {
   "cell_type": "markdown",
   "metadata": {},
   "source": [
    "#### Statsmodels"
   ]
  },
  {
   "cell_type": "code",
   "execution_count": 36,
   "metadata": {
    "ExecuteTime": {
     "end_time": "2021-04-16T00:33:26.431166Z",
     "start_time": "2021-04-16T00:33:26.406282Z"
    }
   },
   "outputs": [],
   "source": [
    "log_reg_sm = sm.Logit(endog=y_binary, exog=sm.add_constant(X2))"
   ]
  },
  {
   "cell_type": "code",
   "execution_count": 37,
   "metadata": {
    "ExecuteTime": {
     "end_time": "2021-04-16T00:33:28.117793Z",
     "start_time": "2021-04-16T00:33:26.432422Z"
    },
    "scrolled": false
   },
   "outputs": [
    {
     "name": "stdout",
     "output_type": "stream",
     "text": [
      "21.5 ms ± 423 µs per loop (mean ± std. dev. of 7 runs, 10 loops each)\n"
     ]
    }
   ],
   "source": [
    "%%timeit\n",
    "log_reg_sm.fit(disp=False)"
   ]
  },
  {
   "cell_type": "code",
   "execution_count": 38,
   "metadata": {
    "ExecuteTime": {
     "end_time": "2021-04-16T00:33:28.199185Z",
     "start_time": "2021-04-16T00:33:28.119038Z"
    }
   },
   "outputs": [
    {
     "name": "stdout",
     "output_type": "stream",
     "text": [
      "Optimization terminated successfully.\n",
      "         Current function value: 0.692296\n",
      "         Iterations 4\n"
     ]
    }
   ],
   "source": [
    "log_result = log_reg_sm.fit()"
   ]
  },
  {
   "cell_type": "code",
   "execution_count": 39,
   "metadata": {
    "ExecuteTime": {
     "end_time": "2021-04-16T00:33:28.452764Z",
     "start_time": "2021-04-16T00:33:28.200353Z"
    }
   },
   "outputs": [
    {
     "name": "stdout",
     "output_type": "stream",
     "text": [
      "                           Logit Regression Results                           \n",
      "==============================================================================\n",
      "Dep. Variable:                      y   No. Observations:                82077\n",
      "Model:                          Logit   Df Residuals:                    82074\n",
      "Method:                           MLE   Df Model:                            2\n",
      "Date:                Sun, 06 Jun 2021   Pseudo R-squ.:                0.001031\n",
      "Time:                        17:27:13   Log-Likelihood:                -56822.\n",
      "converged:                       True   LL-Null:                       -56880.\n",
      "Covariance Type:            nonrobust   LLR p-value:                 3.483e-26\n",
      "==============================================================================\n",
      "                 coef    std err          z      P>|z|      [0.025      0.975]\n",
      "------------------------------------------------------------------------------\n",
      "const         -0.0232      0.007     -3.290      0.001      -0.037      -0.009\n",
      "t-1           -0.5074      0.052     -9.715      0.000      -0.610      -0.405\n",
      "t-2           -0.2519      0.052     -4.845      0.000      -0.354      -0.150\n",
      "==============================================================================\n"
     ]
    }
   ],
   "source": [
    "print(log_result.summary())"
   ]
  },
  {
   "cell_type": "markdown",
   "metadata": {},
   "source": [
    "#### sklearn"
   ]
  },
  {
   "cell_type": "code",
   "execution_count": 40,
   "metadata": {
    "ExecuteTime": {
     "end_time": "2021-04-16T00:33:28.458948Z",
     "start_time": "2021-04-16T00:33:28.455385Z"
    }
   },
   "outputs": [],
   "source": [
    "log_reg_sk = LogisticRegression()"
   ]
  },
  {
   "cell_type": "code",
   "execution_count": 41,
   "metadata": {
    "ExecuteTime": {
     "end_time": "2021-04-16T00:33:33.909359Z",
     "start_time": "2021-04-16T00:33:28.461195Z"
    }
   },
   "outputs": [
    {
     "name": "stdout",
     "output_type": "stream",
     "text": [
      "35.8 ms ± 2.07 ms per loop (mean ± std. dev. of 7 runs, 10 loops each)\n"
     ]
    }
   ],
   "source": [
    "%%timeit\n",
    "log_reg_sk.fit(X=X2, y=y_binary)"
   ]
  },
  {
   "cell_type": "code",
   "execution_count": 42,
   "metadata": {
    "ExecuteTime": {
     "end_time": "2021-04-16T00:33:34.057197Z",
     "start_time": "2021-04-16T00:33:33.910465Z"
    }
   },
   "outputs": [
    {
     "data": {
      "text/plain": [
       "LogisticRegression()"
      ]
     },
     "execution_count": 42,
     "metadata": {},
     "output_type": "execute_result"
    }
   ],
   "source": [
    "log_reg_sk.fit(X=X2, y=y_binary)"
   ]
  },
  {
   "cell_type": "code",
   "execution_count": 43,
   "metadata": {
    "ExecuteTime": {
     "end_time": "2021-04-16T00:33:34.066180Z",
     "start_time": "2021-04-16T00:33:34.058359Z"
    }
   },
   "outputs": [
    {
     "data": {
      "text/plain": [
       "array([[-0.50621432, -0.2507102 ]])"
      ]
     },
     "execution_count": 43,
     "metadata": {},
     "output_type": "execute_result"
    }
   ],
   "source": [
    "log_reg_sk.coef_"
   ]
  },
  {
   "cell_type": "markdown",
   "metadata": {},
   "source": [
    "### Decision Surfaces: Classifier Tree vs. Logistic Regression "
   ]
  },
  {
   "cell_type": "code",
   "execution_count": 44,
   "metadata": {
    "ExecuteTime": {
     "end_time": "2021-04-16T00:33:34.454616Z",
     "start_time": "2021-04-16T00:33:34.072296Z"
    }
   },
   "outputs": [
    {
     "data": {
      "image/png": "[encoded data removed]",
      "text/plain": [
       "<Figure size 864x360 with 4 Axes>"
      ]
     },
     "metadata": {},
     "output_type": "display_data"
    }
   ],
   "source": [
    "fig, axes = plt.subplots(ncols=2, figsize=(12,5))\n",
    "\n",
    "# Linear Regression\n",
    "ret1 = log_reg_sk.predict_proba(X_data)[:, 1].reshape(t1.shape)\n",
    "surface1 = axes[0].contourf(t1, t2, ret1, cmap='Blues')\n",
    "plt.colorbar(mappable=surface1, ax=axes[0])\n",
    "\n",
    "# Regression Tree\n",
    "ret2 = clf_tree_t2.predict_proba(X_data)[:, 1].reshape(t1.shape)\n",
    "surface2 = axes[1].contourf(t1, t2, ret2, cmap='Blues')\n",
    "plt.colorbar(mappable=surface2, ax=axes[1])\n",
    "\n",
    "# Format plots\n",
    "titles = ['Logistic Regression', 'Classification Tree']\n",
    "for i, ax in enumerate(axes):\n",
    "    ax.set_xlabel('t-1')\n",
    "    ax.set_ylabel('t-2')\n",
    "    ax.set_title(titles[i])\n",
    "\n",
    "fig.suptitle('Decision Surfaces', fontsize=20)\n",
    "sns.despine()\n",
    "fig.tight_layout()\n",
    "fig.subplots_adjust(top=.9);"
   ]
  },
  {
   "cell_type": "markdown",
   "metadata": {},
   "source": [
    "## Regression Tree with all Features"
   ]
  },
  {
   "cell_type": "markdown",
   "metadata": {},
   "source": [
    "We now train, visualize, and evaluate a regression tree with up to 5 consecutive splits using 80% of the samples for training to predict the remaining 20%.\n",
    "\n",
    "We are taking a shortcut here to simplify the illustration and use the built-in train_test_split, which does not protect against lookahead bias, as our custom iterator. The tree configuration implies up to $2^5=32$ leaf nodes that, on average in the balanced case, would contain over 4,300 of the training samples."
   ]
  },
  {
   "cell_type": "markdown",
   "metadata": {},
   "source": [
    "### Train-Test Split"
   ]
  },
  {
   "cell_type": "code",
   "execution_count": 45,
   "metadata": {
    "ExecuteTime": {
     "end_time": "2021-04-16T00:33:34.491936Z",
     "start_time": "2021-04-16T00:33:34.455838Z"
    }
   },
   "outputs": [],
   "source": [
    "X = pd.get_dummies(data.drop('target', axis=1))\n",
    "y = data.target"
   ]
  },
  {
   "cell_type": "code",
   "execution_count": 46,
   "metadata": {
    "ExecuteTime": {
     "end_time": "2021-04-16T00:33:34.529344Z",
     "start_time": "2021-04-16T00:33:34.493349Z"
    }
   },
   "outputs": [],
   "source": [
    "X_train, X_test, y_train, y_test = train_test_split(X, y, test_size=0.2, random_state=42)"
   ]
  },
  {
   "cell_type": "markdown",
   "metadata": {},
   "source": [
    "### Configure Tree"
   ]
  },
  {
   "cell_type": "markdown",
   "metadata": {},
   "source": [
    "The output after training the model displays all the DecisionTreeClassifier parameters that we will address in more detail in the next section when we discuss parameter-tuning. "
   ]
  },
  {
   "cell_type": "code",
   "execution_count": 47,
   "metadata": {
    "ExecuteTime": {
     "end_time": "2021-04-16T00:33:34.532666Z",
     "start_time": "2021-04-16T00:33:34.530505Z"
    }
   },
   "outputs": [],
   "source": [
    "regression_tree = DecisionTreeRegressor(criterion='mse',\n",
    "                                        splitter='best',\n",
    "                                        max_depth=5,\n",
    "                                        min_samples_split=2,\n",
    "                                        min_samples_leaf=1,\n",
    "                                        min_weight_fraction_leaf=0.0,\n",
    "                                        max_features=None,\n",
    "                                        random_state=42,\n",
    "                                        max_leaf_nodes=None,\n",
    "                                        min_impurity_decrease=0.0,\n",
    "                                        min_impurity_split=None)"
   ]
  },
  {
   "cell_type": "markdown",
   "metadata": {},
   "source": [
    "### Train Model"
   ]
  },
  {
   "cell_type": "code",
   "execution_count": 48,
   "metadata": {
    "ExecuteTime": {
     "end_time": "2021-04-16T00:33:35.266789Z",
     "start_time": "2021-04-16T00:33:34.534056Z"
    },
    "scrolled": false
   },
   "outputs": [
    {
     "data": {
      "text/plain": [
       "DecisionTreeRegressor(max_depth=5, random_state=42)"
      ]
     },
     "execution_count": 48,
     "metadata": {},
     "output_type": "execute_result"
    }
   ],
   "source": [
    "regression_tree.fit(X=X_train, y=y_train)"
   ]
  },
  {
   "cell_type": "markdown",
   "metadata": {},
   "source": [
    "### Visualize Tree"
   ]
  },
  {
   "cell_type": "markdown",
   "metadata": {},
   "source": [
    "The result shows that the model uses a variety of different features and indicates the split rules for both continuous and categorical (dummy) variables. "
   ]
  },
  {
   "cell_type": "code",
   "execution_count": 49,
   "metadata": {
    "ExecuteTime": {
     "end_time": "2021-04-16T00:33:35.332234Z",
     "start_time": "2021-04-16T00:33:35.267941Z"
    }
   },
   "outputs": [
    {
     "data": {
      "image/svg+xml": [
       "<?xml version=\"1.0\" encoding=\"UTF-8\" standalone=\"no\"?>\r\n",
       "<!DOCTYPE svg PUBLIC \"-//W3C//DTD SVG 1.1//EN\"\r\n",
       " \"http://www.w3.org/Graphics/SVG/1.1/DTD/svg11.dtd\">\r\n",
       "<!-- Generated by graphviz version 2.47.1 (0)\r\n",
       " -->\r\n",
       "<!-- Title: Tree Pages: 1 -->\r\n",
       "<svg width=\"1196pt\" height=\"460pt\"\r\n",
       " viewBox=\"0.00 0.00 1196.00 460.00\" xmlns=\"http://www.w3.org/2000/svg\" xmlns:xlink=\"http://www.w3.org/1999/xlink\">\r\n",
       "<g id=\"graph0\" class=\"graph\" transform=\"scale(1 1) rotate(0) translate(4 456)\">\r\n",
       "<title>Tree</title>\r\n",
       "<polygon fill=\"white\" stroke=\"transparent\" points=\"-4,4 -4,-456 1192,-456 1192,4 -4,4\"/>\r\n",
       "<!-- 0 -->\r\n",
       "<g id=\"node1\" class=\"node\">\r\n",
       "<title>0</title>\r\n",
       "<path fill=\"#f6d2b8\" stroke=\"black\" d=\"M622,-452C622,-452 518,-452 518,-452 512,-452 506,-446 506,-440 506,-440 506,-396 506,-396 506,-390 512,-384 518,-384 518,-384 622,-384 622,-384 628,-384 634,-390 634,-396 634,-396 634,-440 634,-440 634,-446 628,-452 622,-452\"/>\r\n",
       "<text text-anchor=\"start\" x=\"532.5\" y=\"-436.8\" font-family=\"Helvetica,sans-Serif\" font-size=\"14.00\">month ≤ 3.5</text>\r\n",
       "<text text-anchor=\"start\" x=\"529.5\" y=\"-421.8\" font-family=\"Helvetica,sans-Serif\" font-size=\"14.00\">mse = 0.018</text>\r\n",
       "<text text-anchor=\"start\" x=\"514\" y=\"-406.8\" font-family=\"Helvetica,sans-Serif\" font-size=\"14.00\">samples = 66088</text>\r\n",
       "<text text-anchor=\"start\" x=\"527\" y=\"-391.8\" font-family=\"Helvetica,sans-Serif\" font-size=\"14.00\">value = 0.013</text>\r\n",
       "</g>\r\n",
       "<!-- 1 -->\r\n",
       "<g id=\"node2\" class=\"node\">\r\n",
       "<title>1</title>\r\n",
       "<path fill=\"#f5cfb3\" stroke=\"black\" d=\"M525,-348C525,-348 359,-348 359,-348 353,-348 347,-342 347,-336 347,-336 347,-292 347,-292 347,-286 353,-280 359,-280 359,-280 525,-280 525,-280 531,-280 537,-286 537,-292 537,-292 537,-336 537,-336 537,-342 531,-348 525,-348\"/>\r\n",
       "<text text-anchor=\"start\" x=\"355\" y=\"-332.8\" font-family=\"Helvetica,sans-Serif\" font-size=\"14.00\">marcap ≤ 224557277184.0</text>\r\n",
       "<text text-anchor=\"start\" x=\"401.5\" y=\"-317.8\" font-family=\"Helvetica,sans-Serif\" font-size=\"14.00\">mse = 0.018</text>\r\n",
       "<text text-anchor=\"start\" x=\"386\" y=\"-302.8\" font-family=\"Helvetica,sans-Serif\" font-size=\"14.00\">samples = 15952</text>\r\n",
       "<text text-anchor=\"start\" x=\"399\" y=\"-287.8\" font-family=\"Helvetica,sans-Serif\" font-size=\"14.00\">value = 0.035</text>\r\n",
       "</g>\r\n",
       "<!-- 0&#45;&gt;1 -->\r\n",
       "<g id=\"edge1\" class=\"edge\">\r\n",
       "<title>0&#45;&gt;1</title>\r\n",
       "<path fill=\"none\" stroke=\"black\" d=\"M528.44,-383.88C516.71,-374.53 503.82,-364.26 491.65,-354.57\"/>\r\n",
       "<polygon fill=\"black\" stroke=\"black\" points=\"493.79,-351.79 483.79,-348.3 489.43,-357.27 493.79,-351.79\"/>\r\n",
       "<text text-anchor=\"middle\" x=\"486.6\" y=\"-369.44\" font-family=\"Helvetica,sans-Serif\" font-size=\"14.00\">True</text>\r\n",
       "</g>\r\n",
       "<!-- 32 -->\r\n",
       "<g id=\"node17\" class=\"node\">\r\n",
       "<title>32</title>\r\n",
       "<path fill=\"#f6d3ba\" stroke=\"black\" d=\"M782,-348C782,-348 678,-348 678,-348 672,-348 666,-342 666,-336 666,-336 666,-292 666,-292 666,-286 672,-280 678,-280 678,-280 782,-280 782,-280 788,-280 794,-286 794,-292 794,-292 794,-336 794,-336 794,-342 788,-348 782,-348\"/>\r\n",
       "<text text-anchor=\"start\" x=\"696\" y=\"-332.8\" font-family=\"Helvetica,sans-Serif\" font-size=\"14.00\">atr ≤ 1.011</text>\r\n",
       "<text text-anchor=\"start\" x=\"689.5\" y=\"-317.8\" font-family=\"Helvetica,sans-Serif\" font-size=\"14.00\">mse = 0.018</text>\r\n",
       "<text text-anchor=\"start\" x=\"674\" y=\"-302.8\" font-family=\"Helvetica,sans-Serif\" font-size=\"14.00\">samples = 50136</text>\r\n",
       "<text text-anchor=\"start\" x=\"687\" y=\"-287.8\" font-family=\"Helvetica,sans-Serif\" font-size=\"14.00\">value = 0.006</text>\r\n",
       "</g>\r\n",
       "<!-- 0&#45;&gt;32 -->\r\n",
       "<g id=\"edge16\" class=\"edge\">\r\n",
       "<title>0&#45;&gt;32</title>\r\n",
       "<path fill=\"none\" stroke=\"black\" d=\"M621.95,-383.88C637.11,-374.21 653.82,-363.56 669.47,-353.59\"/>\r\n",
       "<polygon fill=\"black\" stroke=\"black\" points=\"671.49,-356.45 678.04,-348.12 667.73,-350.55 671.49,-356.45\"/>\r\n",
       "<text text-anchor=\"middle\" x=\"672.64\" y=\"-368.83\" font-family=\"Helvetica,sans-Serif\" font-size=\"14.00\">False</text>\r\n",
       "</g>\r\n",
       "<!-- 2 -->\r\n",
       "<g id=\"node3\" class=\"node\">\r\n",
       "<title>2</title>\r\n",
       "<path fill=\"#f5cdb1\" stroke=\"black\" d=\"M282.5,-244C282.5,-244 187.5,-244 187.5,-244 181.5,-244 175.5,-238 175.5,-232 175.5,-232 175.5,-188 175.5,-188 175.5,-182 181.5,-176 187.5,-176 187.5,-176 282.5,-176 282.5,-176 288.5,-176 294.5,-182 294.5,-188 294.5,-188 294.5,-232 294.5,-232 294.5,-238 288.5,-244 282.5,-244\"/>\r\n",
       "<text text-anchor=\"start\" x=\"191\" y=\"-228.8\" font-family=\"Helvetica,sans-Serif\" font-size=\"14.00\">year ≤ 2006.5</text>\r\n",
       "<text text-anchor=\"start\" x=\"198.5\" y=\"-213.8\" font-family=\"Helvetica,sans-Serif\" font-size=\"14.00\">mse = 0.02</text>\r\n",
       "<text text-anchor=\"start\" x=\"183.5\" y=\"-198.8\" font-family=\"Helvetica,sans-Serif\" font-size=\"14.00\">samples = 8824</text>\r\n",
       "<text text-anchor=\"start\" x=\"192\" y=\"-183.8\" font-family=\"Helvetica,sans-Serif\" font-size=\"14.00\">value = 0.044</text>\r\n",
       "</g>\r\n",
       "<!-- 1&#45;&gt;2 -->\r\n",
       "<g id=\"edge2\" class=\"edge\">\r\n",
       "<title>1&#45;&gt;2</title>\r\n",
       "<path fill=\"none\" stroke=\"black\" d=\"M374.79,-279.88C351.97,-268.64 326.45,-256.06 303.52,-244.77\"/>\r\n",
       "<polygon fill=\"black\" stroke=\"black\" points=\"305.06,-241.62 294.54,-240.34 301.97,-247.9 305.06,-241.62\"/>\r\n",
       "</g>\r\n",
       "<!-- 17 -->\r\n",
       "<g id=\"node10\" class=\"node\">\r\n",
       "<title>17</title>\r\n",
       "<path fill=\"#f5d0b6\" stroke=\"black\" d=\"M520.5,-244C520.5,-244 363.5,-244 363.5,-244 357.5,-244 351.5,-238 351.5,-232 351.5,-232 351.5,-188 351.5,-188 351.5,-182 357.5,-176 363.5,-176 363.5,-176 520.5,-176 520.5,-176 526.5,-176 532.5,-182 532.5,-188 532.5,-188 532.5,-232 532.5,-232 532.5,-238 526.5,-244 520.5,-244\"/>\r\n",
       "<text text-anchor=\"start\" x=\"359.5\" y=\"-228.8\" font-family=\"Helvetica,sans-Serif\" font-size=\"14.00\">momentum_3_12 ≤ 0.236</text>\r\n",
       "<text text-anchor=\"start\" x=\"401.5\" y=\"-213.8\" font-family=\"Helvetica,sans-Serif\" font-size=\"14.00\">mse = 0.016</text>\r\n",
       "<text text-anchor=\"start\" x=\"390.5\" y=\"-198.8\" font-family=\"Helvetica,sans-Serif\" font-size=\"14.00\">samples = 7128</text>\r\n",
       "<text text-anchor=\"start\" x=\"399\" y=\"-183.8\" font-family=\"Helvetica,sans-Serif\" font-size=\"14.00\">value = 0.024</text>\r\n",
       "</g>\r\n",
       "<!-- 1&#45;&gt;17 -->\r\n",
       "<g id=\"edge9\" class=\"edge\">\r\n",
       "<title>1&#45;&gt;17</title>\r\n",
       "<path fill=\"none\" stroke=\"black\" d=\"M442,-279.88C442,-271.78 442,-262.98 442,-254.47\"/>\r\n",
       "<polygon fill=\"black\" stroke=\"black\" points=\"445.5,-254.3 442,-244.3 438.5,-254.3 445.5,-254.3\"/>\r\n",
       "</g>\r\n",
       "<!-- 3 -->\r\n",
       "<g id=\"node4\" class=\"node\">\r\n",
       "<title>3</title>\r\n",
       "<path fill=\"#f5d0b5\" stroke=\"black\" d=\"M145.5,-140C145.5,-140 50.5,-140 50.5,-140 44.5,-140 38.5,-134 38.5,-128 38.5,-128 38.5,-84 38.5,-84 38.5,-78 44.5,-72 50.5,-72 50.5,-72 145.5,-72 145.5,-72 151.5,-72 157.5,-78 157.5,-84 157.5,-84 157.5,-128 157.5,-128 157.5,-134 151.5,-140 145.5,-140\"/>\r\n",
       "<text text-anchor=\"start\" x=\"60.5\" y=\"-124.8\" font-family=\"Helvetica,sans-Serif\" font-size=\"14.00\">month ≤ 1.5</text>\r\n",
       "<text text-anchor=\"start\" x=\"57.5\" y=\"-109.8\" font-family=\"Helvetica,sans-Serif\" font-size=\"14.00\">mse = 0.019</text>\r\n",
       "<text text-anchor=\"start\" x=\"46.5\" y=\"-94.8\" font-family=\"Helvetica,sans-Serif\" font-size=\"14.00\">samples = 2626</text>\r\n",
       "<text text-anchor=\"start\" x=\"55\" y=\"-79.8\" font-family=\"Helvetica,sans-Serif\" font-size=\"14.00\">value = 0.025</text>\r\n",
       "</g>\r\n",
       "<!-- 2&#45;&gt;3 -->\r\n",
       "<g id=\"edge3\" class=\"edge\">\r\n",
       "<title>2&#45;&gt;3</title>\r\n",
       "<path fill=\"none\" stroke=\"black\" d=\"M190.52,-175.88C177.84,-166.44 163.9,-156.06 150.77,-146.29\"/>\r\n",
       "<polygon fill=\"black\" stroke=\"black\" points=\"152.84,-143.46 142.73,-140.3 148.66,-149.08 152.84,-143.46\"/>\r\n",
       "</g>\r\n",
       "<!-- 10 -->\r\n",
       "<g id=\"node7\" class=\"node\">\r\n",
       "<title>10</title>\r\n",
       "<path fill=\"#f5ccaf\" stroke=\"black\" d=\"M282.5,-140C282.5,-140 187.5,-140 187.5,-140 181.5,-140 175.5,-134 175.5,-128 175.5,-128 175.5,-84 175.5,-84 175.5,-78 181.5,-72 187.5,-72 187.5,-72 282.5,-72 282.5,-72 288.5,-72 294.5,-78 294.5,-84 294.5,-84 294.5,-128 294.5,-128 294.5,-134 288.5,-140 282.5,-140\"/>\r\n",
       "<text text-anchor=\"start\" x=\"191\" y=\"-124.8\" font-family=\"Helvetica,sans-Serif\" font-size=\"14.00\">year ≤ 2009.5</text>\r\n",
       "<text text-anchor=\"start\" x=\"198.5\" y=\"-109.8\" font-family=\"Helvetica,sans-Serif\" font-size=\"14.00\">mse = 0.02</text>\r\n",
       "<text text-anchor=\"start\" x=\"183.5\" y=\"-94.8\" font-family=\"Helvetica,sans-Serif\" font-size=\"14.00\">samples = 6198</text>\r\n",
       "<text text-anchor=\"start\" x=\"192\" y=\"-79.8\" font-family=\"Helvetica,sans-Serif\" font-size=\"14.00\">value = 0.052</text>\r\n",
       "</g>\r\n",
       "<!-- 2&#45;&gt;10 -->\r\n",
       "<g id=\"edge6\" class=\"edge\">\r\n",
       "<title>2&#45;&gt;10</title>\r\n",
       "<path fill=\"none\" stroke=\"black\" d=\"M235,-175.88C235,-167.78 235,-158.98 235,-150.47\"/>\r\n",
       "<polygon fill=\"black\" stroke=\"black\" points=\"238.5,-150.3 235,-140.3 231.5,-150.3 238.5,-150.3\"/>\r\n",
       "</g>\r\n",
       "<!-- 4 -->\r\n",
       "<g id=\"node5\" class=\"node\">\r\n",
       "<title>4</title>\r\n",
       "<path fill=\"#c0c0c0\" stroke=\"black\" d=\"M42,-36C42,-36 12,-36 12,-36 6,-36 0,-30 0,-24 0,-24 0,-12 0,-12 0,-6 6,0 12,0 12,0 42,0 42,0 48,0 54,-6 54,-12 54,-12 54,-24 54,-24 54,-30 48,-36 42,-36\"/>\r\n",
       "<text text-anchor=\"middle\" x=\"27\" y=\"-14.3\" font-family=\"Helvetica,sans-Serif\" font-size=\"14.00\">(...)</text>\r\n",
       "</g>\r\n",
       "<!-- 3&#45;&gt;4 -->\r\n",
       "<g id=\"edge4\" class=\"edge\">\r\n",
       "<title>3&#45;&gt;4</title>\r\n",
       "<path fill=\"none\" stroke=\"black\" d=\"M70.75,-72C63.17,-62.81 55.05,-52.97 47.89,-44.3\"/>\r\n",
       "<polygon fill=\"black\" stroke=\"black\" points=\"50.43,-41.89 41.37,-36.4 45.04,-46.34 50.43,-41.89\"/>\r\n",
       "</g>\r\n",
       "<!-- 7 -->\r\n",
       "<g id=\"node6\" class=\"node\">\r\n",
       "<title>7</title>\r\n",
       "<path fill=\"#c0c0c0\" stroke=\"black\" d=\"M114,-36C114,-36 84,-36 84,-36 78,-36 72,-30 72,-24 72,-24 72,-12 72,-12 72,-6 78,0 84,0 84,0 114,0 114,0 120,0 126,-6 126,-12 126,-12 126,-24 126,-24 126,-30 120,-36 114,-36\"/>\r\n",
       "<text text-anchor=\"middle\" x=\"99\" y=\"-14.3\" font-family=\"Helvetica,sans-Serif\" font-size=\"14.00\">(...)</text>\r\n",
       "</g>\r\n",
       "<!-- 3&#45;&gt;7 -->\r\n",
       "<g id=\"edge5\" class=\"edge\">\r\n",
       "<title>3&#45;&gt;7</title>\r\n",
       "<path fill=\"none\" stroke=\"black\" d=\"M98.38,-72C98.48,-63.56 98.59,-54.59 98.68,-46.47\"/>\r\n",
       "<polygon fill=\"black\" stroke=\"black\" points=\"102.18,-46.44 98.8,-36.4 95.18,-46.36 102.18,-46.44\"/>\r\n",
       "</g>\r\n",
       "<!-- 11 -->\r\n",
       "<g id=\"node8\" class=\"node\">\r\n",
       "<title>11</title>\r\n",
       "<path fill=\"#c0c0c0\" stroke=\"black\" d=\"M212,-36C212,-36 182,-36 182,-36 176,-36 170,-30 170,-24 170,-24 170,-12 170,-12 170,-6 176,0 182,0 182,0 212,0 212,0 218,0 224,-6 224,-12 224,-12 224,-24 224,-24 224,-30 218,-36 212,-36\"/>\r\n",
       "<text text-anchor=\"middle\" x=\"197\" y=\"-14.3\" font-family=\"Helvetica,sans-Serif\" font-size=\"14.00\">(...)</text>\r\n",
       "</g>\r\n",
       "<!-- 10&#45;&gt;11 -->\r\n",
       "<g id=\"edge7\" class=\"edge\">\r\n",
       "<title>10&#45;&gt;11</title>\r\n",
       "<path fill=\"none\" stroke=\"black\" d=\"M220.42,-72C216.57,-63.28 212.46,-53.98 208.78,-45.65\"/>\r\n",
       "<polygon fill=\"black\" stroke=\"black\" points=\"211.93,-44.14 204.69,-36.4 205.53,-46.96 211.93,-44.14\"/>\r\n",
       "</g>\r\n",
       "<!-- 14 -->\r\n",
       "<g id=\"node9\" class=\"node\">\r\n",
       "<title>14</title>\r\n",
       "<path fill=\"#c0c0c0\" stroke=\"black\" d=\"M284,-36C284,-36 254,-36 254,-36 248,-36 242,-30 242,-24 242,-24 242,-12 242,-12 242,-6 248,0 254,0 254,0 284,0 284,0 290,0 296,-6 296,-12 296,-12 296,-24 296,-24 296,-30 290,-36 284,-36\"/>\r\n",
       "<text text-anchor=\"middle\" x=\"269\" y=\"-14.3\" font-family=\"Helvetica,sans-Serif\" font-size=\"14.00\">(...)</text>\r\n",
       "</g>\r\n",
       "<!-- 10&#45;&gt;14 -->\r\n",
       "<g id=\"edge8\" class=\"edge\">\r\n",
       "<title>10&#45;&gt;14</title>\r\n",
       "<path fill=\"none\" stroke=\"black\" d=\"M248.05,-72C251.46,-63.38 255.09,-54.19 258.36,-45.92\"/>\r\n",
       "<polygon fill=\"black\" stroke=\"black\" points=\"261.7,-46.99 262.12,-36.4 255.19,-44.42 261.7,-46.99\"/>\r\n",
       "</g>\r\n",
       "<!-- 18 -->\r\n",
       "<g id=\"node11\" class=\"node\">\r\n",
       "<title>18</title>\r\n",
       "<path fill=\"#f5d0b6\" stroke=\"black\" d=\"M447,-140C447,-140 325,-140 325,-140 319,-140 313,-134 313,-128 313,-128 313,-84 313,-84 313,-78 319,-72 325,-72 325,-72 447,-72 447,-72 453,-72 459,-78 459,-84 459,-84 459,-128 459,-128 459,-134 453,-140 447,-140\"/>\r\n",
       "<text text-anchor=\"start\" x=\"321\" y=\"-124.8\" font-family=\"Helvetica,sans-Serif\" font-size=\"14.00\">return_12m ≤ &#45;0.061</text>\r\n",
       "<text text-anchor=\"start\" x=\"345.5\" y=\"-109.8\" font-family=\"Helvetica,sans-Serif\" font-size=\"14.00\">mse = 0.016</text>\r\n",
       "<text text-anchor=\"start\" x=\"334.5\" y=\"-94.8\" font-family=\"Helvetica,sans-Serif\" font-size=\"14.00\">samples = 7115</text>\r\n",
       "<text text-anchor=\"start\" x=\"343\" y=\"-79.8\" font-family=\"Helvetica,sans-Serif\" font-size=\"14.00\">value = 0.023</text>\r\n",
       "</g>\r\n",
       "<!-- 17&#45;&gt;18 -->\r\n",
       "<g id=\"edge10\" class=\"edge\">\r\n",
       "<title>17&#45;&gt;18</title>\r\n",
       "<path fill=\"none\" stroke=\"black\" d=\"M423.82,-175.88C419.12,-167.33 414.01,-158.01 409.1,-149.07\"/>\r\n",
       "<polygon fill=\"black\" stroke=\"black\" points=\"412.16,-147.38 404.28,-140.3 406.03,-150.75 412.16,-147.38\"/>\r\n",
       "</g>\r\n",
       "<!-- 25 -->\r\n",
       "<g id=\"node14\" class=\"node\">\r\n",
       "<title>25</title>\r\n",
       "<path fill=\"#eca26d\" stroke=\"black\" d=\"M569,-140C569,-140 489,-140 489,-140 483,-140 477,-134 477,-128 477,-128 477,-84 477,-84 477,-78 483,-72 489,-72 489,-72 569,-72 569,-72 575,-72 581,-78 581,-84 581,-84 581,-128 581,-128 581,-134 575,-140 569,-140\"/>\r\n",
       "<text text-anchor=\"start\" x=\"485\" y=\"-124.8\" font-family=\"Helvetica,sans-Serif\" font-size=\"14.00\">SMB ≤ &#45;1.277</text>\r\n",
       "<text text-anchor=\"start\" x=\"492.5\" y=\"-109.8\" font-family=\"Helvetica,sans-Serif\" font-size=\"14.00\">mse = 0.02</text>\r\n",
       "<text text-anchor=\"start\" x=\"485.5\" y=\"-94.8\" font-family=\"Helvetica,sans-Serif\" font-size=\"14.00\">samples = 13</text>\r\n",
       "<text text-anchor=\"start\" x=\"490\" y=\"-79.8\" font-family=\"Helvetica,sans-Serif\" font-size=\"14.00\">value = 0.34</text>\r\n",
       "</g>\r\n",
       "<!-- 17&#45;&gt;25 -->\r\n",
       "<g id=\"edge13\" class=\"edge\">\r\n",
       "<title>17&#45;&gt;25</title>\r\n",
       "<path fill=\"none\" stroke=\"black\" d=\"M470.25,-175.88C477.84,-166.98 486.15,-157.24 494.07,-147.96\"/>\r\n",
       "<polygon fill=\"black\" stroke=\"black\" points=\"496.77,-150.18 500.6,-140.3 491.45,-145.64 496.77,-150.18\"/>\r\n",
       "</g>\r\n",
       "<!-- 19 -->\r\n",
       "<g id=\"node12\" class=\"node\">\r\n",
       "<title>19</title>\r\n",
       "<path fill=\"#c0c0c0\" stroke=\"black\" d=\"M369,-36C369,-36 339,-36 339,-36 333,-36 327,-30 327,-24 327,-24 327,-12 327,-12 327,-6 333,0 339,0 339,0 369,0 369,0 375,0 381,-6 381,-12 381,-12 381,-24 381,-24 381,-30 375,-36 369,-36\"/>\r\n",
       "<text text-anchor=\"middle\" x=\"354\" y=\"-14.3\" font-family=\"Helvetica,sans-Serif\" font-size=\"14.00\">(...)</text>\r\n",
       "</g>\r\n",
       "<!-- 18&#45;&gt;19 -->\r\n",
       "<g id=\"edge11\" class=\"edge\">\r\n",
       "<title>18&#45;&gt;19</title>\r\n",
       "<path fill=\"none\" stroke=\"black\" d=\"M373.72,-72C370.51,-63.38 367.09,-54.19 364.02,-45.92\"/>\r\n",
       "<polygon fill=\"black\" stroke=\"black\" points=\"367.24,-44.56 360.48,-36.4 360.68,-47 367.24,-44.56\"/>\r\n",
       "</g>\r\n",
       "<!-- 22 -->\r\n",
       "<g id=\"node13\" class=\"node\">\r\n",
       "<title>22</title>\r\n",
       "<path fill=\"#c0c0c0\" stroke=\"black\" d=\"M441,-36C441,-36 411,-36 411,-36 405,-36 399,-30 399,-24 399,-24 399,-12 399,-12 399,-6 405,0 411,0 411,0 441,0 441,0 447,0 453,-6 453,-12 453,-12 453,-24 453,-24 453,-30 447,-36 441,-36\"/>\r\n",
       "<text text-anchor=\"middle\" x=\"426\" y=\"-14.3\" font-family=\"Helvetica,sans-Serif\" font-size=\"14.00\">(...)</text>\r\n",
       "</g>\r\n",
       "<!-- 18&#45;&gt;22 -->\r\n",
       "<g id=\"edge12\" class=\"edge\">\r\n",
       "<title>18&#45;&gt;22</title>\r\n",
       "<path fill=\"none\" stroke=\"black\" d=\"M401.35,-72C405.4,-63.28 409.73,-53.98 413.6,-45.65\"/>\r\n",
       "<polygon fill=\"black\" stroke=\"black\" points=\"416.86,-46.95 417.91,-36.4 410.51,-43.99 416.86,-46.95\"/>\r\n",
       "</g>\r\n",
       "<!-- 26 -->\r\n",
       "<g id=\"node15\" class=\"node\">\r\n",
       "<title>26</title>\r\n",
       "<path fill=\"#c0c0c0\" stroke=\"black\" d=\"M520,-36C520,-36 490,-36 490,-36 484,-36 478,-30 478,-24 478,-24 478,-12 478,-12 478,-6 484,0 490,0 490,0 520,0 520,0 526,0 532,-6 532,-12 532,-12 532,-24 532,-24 532,-30 526,-36 520,-36\"/>\r\n",
       "<text text-anchor=\"middle\" x=\"505\" y=\"-14.3\" font-family=\"Helvetica,sans-Serif\" font-size=\"14.00\">(...)</text>\r\n",
       "</g>\r\n",
       "<!-- 25&#45;&gt;26 -->\r\n",
       "<g id=\"edge14\" class=\"edge\">\r\n",
       "<title>25&#45;&gt;26</title>\r\n",
       "<path fill=\"none\" stroke=\"black\" d=\"M519.79,-72C517.41,-63.47 514.88,-54.39 512.59,-46.2\"/>\r\n",
       "<polygon fill=\"black\" stroke=\"black\" points=\"515.92,-45.09 509.86,-36.4 509.17,-46.98 515.92,-45.09\"/>\r\n",
       "</g>\r\n",
       "<!-- 29 -->\r\n",
       "<g id=\"node16\" class=\"node\">\r\n",
       "<title>29</title>\r\n",
       "<path fill=\"#c0c0c0\" stroke=\"black\" d=\"M592,-36C592,-36 562,-36 562,-36 556,-36 550,-30 550,-24 550,-24 550,-12 550,-12 550,-6 556,0 562,0 562,0 592,0 592,0 598,0 604,-6 604,-12 604,-12 604,-24 604,-24 604,-30 598,-36 592,-36\"/>\r\n",
       "<text text-anchor=\"middle\" x=\"577\" y=\"-14.3\" font-family=\"Helvetica,sans-Serif\" font-size=\"14.00\">(...)</text>\r\n",
       "</g>\r\n",
       "<!-- 25&#45;&gt;29 -->\r\n",
       "<g id=\"edge15\" class=\"edge\">\r\n",
       "<title>25&#45;&gt;29</title>\r\n",
       "<path fill=\"none\" stroke=\"black\" d=\"M547.42,-72C552.34,-63.19 557.59,-53.78 562.28,-45.38\"/>\r\n",
       "<polygon fill=\"black\" stroke=\"black\" points=\"565.47,-46.84 567.29,-36.4 559.36,-43.43 565.47,-46.84\"/>\r\n",
       "</g>\r\n",
       "<!-- 33 -->\r\n",
       "<g id=\"node18\" class=\"node\">\r\n",
       "<title>33</title>\r\n",
       "<path fill=\"#f6d2b9\" stroke=\"black\" d=\"M782,-244C782,-244 678,-244 678,-244 672,-244 666,-238 666,-232 666,-232 666,-188 666,-188 666,-182 672,-176 678,-176 678,-176 782,-176 782,-176 788,-176 794,-182 794,-188 794,-188 794,-232 794,-232 794,-238 788,-244 782,-244\"/>\r\n",
       "<text text-anchor=\"start\" x=\"686\" y=\"-228.8\" font-family=\"Helvetica,sans-Serif\" font-size=\"14.00\">year ≤ 2002.5</text>\r\n",
       "<text text-anchor=\"start\" x=\"689.5\" y=\"-213.8\" font-family=\"Helvetica,sans-Serif\" font-size=\"14.00\">mse = 0.017</text>\r\n",
       "<text text-anchor=\"start\" x=\"674\" y=\"-198.8\" font-family=\"Helvetica,sans-Serif\" font-size=\"14.00\">samples = 42826</text>\r\n",
       "<text text-anchor=\"start\" x=\"687\" y=\"-183.8\" font-family=\"Helvetica,sans-Serif\" font-size=\"14.00\">value = 0.011</text>\r\n",
       "</g>\r\n",
       "<!-- 32&#45;&gt;33 -->\r\n",
       "<g id=\"edge17\" class=\"edge\">\r\n",
       "<title>32&#45;&gt;33</title>\r\n",
       "<path fill=\"none\" stroke=\"black\" d=\"M730,-279.88C730,-271.78 730,-262.98 730,-254.47\"/>\r\n",
       "<polygon fill=\"black\" stroke=\"black\" points=\"733.5,-254.3 730,-244.3 726.5,-254.3 733.5,-254.3\"/>\r\n",
       "</g>\r\n",
       "<!-- 48 -->\r\n",
       "<g id=\"node25\" class=\"node\">\r\n",
       "<title>48</title>\r\n",
       "<path fill=\"#f7d6bf\" stroke=\"black\" d=\"M990.5,-244C990.5,-244 895.5,-244 895.5,-244 889.5,-244 883.5,-238 883.5,-232 883.5,-232 883.5,-188 883.5,-188 883.5,-182 889.5,-176 895.5,-176 895.5,-176 990.5,-176 990.5,-176 996.5,-176 1002.5,-182 1002.5,-188 1002.5,-188 1002.5,-232 1002.5,-232 1002.5,-238 996.5,-244 990.5,-244\"/>\r\n",
       "<text text-anchor=\"start\" x=\"909\" y=\"-228.8\" font-family=\"Helvetica,sans-Serif\" font-size=\"14.00\">atr ≤ 4.124</text>\r\n",
       "<text text-anchor=\"start\" x=\"902.5\" y=\"-213.8\" font-family=\"Helvetica,sans-Serif\" font-size=\"14.00\">mse = 0.019</text>\r\n",
       "<text text-anchor=\"start\" x=\"891.5\" y=\"-198.8\" font-family=\"Helvetica,sans-Serif\" font-size=\"14.00\">samples = 7310</text>\r\n",
       "<text text-anchor=\"start\" x=\"897.5\" y=\"-183.8\" font-family=\"Helvetica,sans-Serif\" font-size=\"14.00\">value = &#45;0.018</text>\r\n",
       "</g>\r\n",
       "<!-- 32&#45;&gt;48 -->\r\n",
       "<g id=\"edge24\" class=\"edge\">\r\n",
       "<title>32&#45;&gt;48</title>\r\n",
       "<path fill=\"none\" stroke=\"black\" d=\"M794.2,-282.26C819.4,-270.19 848.37,-256.32 874.02,-244.03\"/>\r\n",
       "<polygon fill=\"black\" stroke=\"black\" points=\"875.8,-247.06 883.3,-239.59 872.77,-240.75 875.8,-247.06\"/>\r\n",
       "</g>\r\n",
       "<!-- 34 -->\r\n",
       "<g id=\"node19\" class=\"node\">\r\n",
       "<title>34</title>\r\n",
       "<path fill=\"#f7d9c3\" stroke=\"black\" d=\"M706.5,-140C706.5,-140 611.5,-140 611.5,-140 605.5,-140 599.5,-134 599.5,-128 599.5,-128 599.5,-84 599.5,-84 599.5,-78 605.5,-72 611.5,-72 611.5,-72 706.5,-72 706.5,-72 712.5,-72 718.5,-78 718.5,-84 718.5,-84 718.5,-128 718.5,-128 718.5,-134 712.5,-140 706.5,-140\"/>\r\n",
       "<text text-anchor=\"start\" x=\"621\" y=\"-124.8\" font-family=\"Helvetica,sans-Serif\" font-size=\"14.00\">rsi ≤ 53.083</text>\r\n",
       "<text text-anchor=\"start\" x=\"618.5\" y=\"-109.8\" font-family=\"Helvetica,sans-Serif\" font-size=\"14.00\">mse = 0.018</text>\r\n",
       "<text text-anchor=\"start\" x=\"607.5\" y=\"-94.8\" font-family=\"Helvetica,sans-Serif\" font-size=\"14.00\">samples = 2195</text>\r\n",
       "<text text-anchor=\"start\" x=\"613.5\" y=\"-79.8\" font-family=\"Helvetica,sans-Serif\" font-size=\"14.00\">value = &#45;0.032</text>\r\n",
       "</g>\r\n",
       "<!-- 33&#45;&gt;34 -->\r\n",
       "<g id=\"edge18\" class=\"edge\">\r\n",
       "<title>33&#45;&gt;34</title>\r\n",
       "<path fill=\"none\" stroke=\"black\" d=\"M706.95,-175.88C700.87,-167.15 694.24,-157.62 687.9,-148.51\"/>\r\n",
       "<polygon fill=\"black\" stroke=\"black\" points=\"690.76,-146.51 682.18,-140.3 685.02,-150.51 690.76,-146.51\"/>\r\n",
       "</g>\r\n",
       "<!-- 41 -->\r\n",
       "<g id=\"node22\" class=\"node\">\r\n",
       "<title>41</title>\r\n",
       "<path fill=\"#f6d2b8\" stroke=\"black\" d=\"M853,-140C853,-140 749,-140 749,-140 743,-140 737,-134 737,-128 737,-128 737,-84 737,-84 737,-78 743,-72 749,-72 749,-72 853,-72 853,-72 859,-72 865,-78 865,-84 865,-84 865,-128 865,-128 865,-134 859,-140 853,-140\"/>\r\n",
       "<text text-anchor=\"start\" x=\"757\" y=\"-124.8\" font-family=\"Helvetica,sans-Serif\" font-size=\"14.00\">year ≤ 2005.5</text>\r\n",
       "<text text-anchor=\"start\" x=\"760.5\" y=\"-109.8\" font-family=\"Helvetica,sans-Serif\" font-size=\"14.00\">mse = 0.017</text>\r\n",
       "<text text-anchor=\"start\" x=\"745\" y=\"-94.8\" font-family=\"Helvetica,sans-Serif\" font-size=\"14.00\">samples = 40631</text>\r\n",
       "<text text-anchor=\"start\" x=\"758\" y=\"-79.8\" font-family=\"Helvetica,sans-Serif\" font-size=\"14.00\">value = 0.013</text>\r\n",
       "</g>\r\n",
       "<!-- 33&#45;&gt;41 -->\r\n",
       "<g id=\"edge21\" class=\"edge\">\r\n",
       "<title>33&#45;&gt;41</title>\r\n",
       "<path fill=\"none\" stroke=\"black\" d=\"M753.05,-175.88C759.13,-167.15 765.76,-157.62 772.1,-148.51\"/>\r\n",
       "<polygon fill=\"black\" stroke=\"black\" points=\"774.98,-150.51 777.82,-140.3 769.24,-146.51 774.98,-150.51\"/>\r\n",
       "</g>\r\n",
       "<!-- 35 -->\r\n",
       "<g id=\"node20\" class=\"node\">\r\n",
       "<title>35</title>\r\n",
       "<path fill=\"#c0c0c0\" stroke=\"black\" d=\"M667,-36C667,-36 637,-36 637,-36 631,-36 625,-30 625,-24 625,-24 625,-12 625,-12 625,-6 631,0 637,0 637,0 667,0 667,0 673,0 679,-6 679,-12 679,-12 679,-24 679,-24 679,-30 673,-36 667,-36\"/>\r\n",
       "<text text-anchor=\"middle\" x=\"652\" y=\"-14.3\" font-family=\"Helvetica,sans-Serif\" font-size=\"14.00\">(...)</text>\r\n",
       "</g>\r\n",
       "<!-- 34&#45;&gt;35 -->\r\n",
       "<g id=\"edge19\" class=\"edge\">\r\n",
       "<title>34&#45;&gt;35</title>\r\n",
       "<path fill=\"none\" stroke=\"black\" d=\"M656.31,-72C655.63,-63.56 654.9,-54.59 654.24,-46.47\"/>\r\n",
       "<polygon fill=\"black\" stroke=\"black\" points=\"657.72,-46.09 653.42,-36.4 650.74,-46.65 657.72,-46.09\"/>\r\n",
       "</g>\r\n",
       "<!-- 38 -->\r\n",
       "<g id=\"node21\" class=\"node\">\r\n",
       "<title>38</title>\r\n",
       "<path fill=\"#c0c0c0\" stroke=\"black\" d=\"M739,-36C739,-36 709,-36 709,-36 703,-36 697,-30 697,-24 697,-24 697,-12 697,-12 697,-6 703,0 709,0 709,0 739,0 739,0 745,0 751,-6 751,-12 751,-12 751,-24 751,-24 751,-30 745,-36 739,-36\"/>\r\n",
       "<text text-anchor=\"middle\" x=\"724\" y=\"-14.3\" font-family=\"Helvetica,sans-Serif\" font-size=\"14.00\">(...)</text>\r\n",
       "</g>\r\n",
       "<!-- 34&#45;&gt;38 -->\r\n",
       "<g id=\"edge20\" class=\"edge\">\r\n",
       "<title>34&#45;&gt;38</title>\r\n",
       "<path fill=\"none\" stroke=\"black\" d=\"M683.94,-72C690.82,-62.9 698.17,-53.18 704.67,-44.57\"/>\r\n",
       "<polygon fill=\"black\" stroke=\"black\" points=\"707.61,-46.49 710.85,-36.4 702.02,-42.27 707.61,-46.49\"/>\r\n",
       "</g>\r\n",
       "<!-- 42 -->\r\n",
       "<g id=\"node23\" class=\"node\">\r\n",
       "<title>42</title>\r\n",
       "<path fill=\"#c0c0c0\" stroke=\"black\" d=\"M813,-36C813,-36 783,-36 783,-36 777,-36 771,-30 771,-24 771,-24 771,-12 771,-12 771,-6 777,0 783,0 783,0 813,0 813,0 819,0 825,-6 825,-12 825,-12 825,-24 825,-24 825,-30 819,-36 813,-36\"/>\r\n",
       "<text text-anchor=\"middle\" x=\"798\" y=\"-14.3\" font-family=\"Helvetica,sans-Serif\" font-size=\"14.00\">(...)</text>\r\n",
       "</g>\r\n",
       "<!-- 41&#45;&gt;42 -->\r\n",
       "<g id=\"edge22\" class=\"edge\">\r\n",
       "<title>41&#45;&gt;42</title>\r\n",
       "<path fill=\"none\" stroke=\"black\" d=\"M799.85,-72C799.55,-63.56 799.24,-54.59 798.96,-46.47\"/>\r\n",
       "<polygon fill=\"black\" stroke=\"black\" points=\"802.45,-46.28 798.61,-36.4 795.46,-46.52 802.45,-46.28\"/>\r\n",
       "</g>\r\n",
       "<!-- 45 -->\r\n",
       "<g id=\"node24\" class=\"node\">\r\n",
       "<title>45</title>\r\n",
       "<path fill=\"#c0c0c0\" stroke=\"black\" d=\"M885,-36C885,-36 855,-36 855,-36 849,-36 843,-30 843,-24 843,-24 843,-12 843,-12 843,-6 849,0 855,0 855,0 885,0 885,0 891,0 897,-6 897,-12 897,-12 897,-24 897,-24 897,-30 891,-36 885,-36\"/>\r\n",
       "<text text-anchor=\"middle\" x=\"870\" y=\"-14.3\" font-family=\"Helvetica,sans-Serif\" font-size=\"14.00\">(...)</text>\r\n",
       "</g>\r\n",
       "<!-- 41&#45;&gt;45 -->\r\n",
       "<g id=\"edge23\" class=\"edge\">\r\n",
       "<title>41&#45;&gt;45</title>\r\n",
       "<path fill=\"none\" stroke=\"black\" d=\"M827.48,-72C834.85,-62.81 842.74,-52.97 849.7,-44.3\"/>\r\n",
       "<polygon fill=\"black\" stroke=\"black\" points=\"852.51,-46.39 856.04,-36.4 847.05,-42.01 852.51,-46.39\"/>\r\n",
       "</g>\r\n",
       "<!-- 49 -->\r\n",
       "<g id=\"node26\" class=\"node\">\r\n",
       "<title>49</title>\r\n",
       "<path fill=\"#f7d6be\" stroke=\"black\" d=\"M990.5,-140C990.5,-140 895.5,-140 895.5,-140 889.5,-140 883.5,-134 883.5,-128 883.5,-128 883.5,-84 883.5,-84 883.5,-78 889.5,-72 895.5,-72 895.5,-72 990.5,-72 990.5,-72 996.5,-72 1002.5,-78 1002.5,-84 1002.5,-84 1002.5,-128 1002.5,-128 1002.5,-134 996.5,-140 990.5,-140\"/>\r\n",
       "<text text-anchor=\"start\" x=\"905.5\" y=\"-124.8\" font-family=\"Helvetica,sans-Serif\" font-size=\"14.00\">month ≤ 6.5</text>\r\n",
       "<text text-anchor=\"start\" x=\"902.5\" y=\"-109.8\" font-family=\"Helvetica,sans-Serif\" font-size=\"14.00\">mse = 0.019</text>\r\n",
       "<text text-anchor=\"start\" x=\"891.5\" y=\"-94.8\" font-family=\"Helvetica,sans-Serif\" font-size=\"14.00\">samples = 6887</text>\r\n",
       "<text text-anchor=\"start\" x=\"897.5\" y=\"-79.8\" font-family=\"Helvetica,sans-Serif\" font-size=\"14.00\">value = &#45;0.014</text>\r\n",
       "</g>\r\n",
       "<!-- 48&#45;&gt;49 -->\r\n",
       "<g id=\"edge25\" class=\"edge\">\r\n",
       "<title>48&#45;&gt;49</title>\r\n",
       "<path fill=\"none\" stroke=\"black\" d=\"M943,-175.88C943,-167.78 943,-158.98 943,-150.47\"/>\r\n",
       "<polygon fill=\"black\" stroke=\"black\" points=\"946.5,-150.3 943,-140.3 939.5,-150.3 946.5,-150.3\"/>\r\n",
       "</g>\r\n",
       "<!-- 56 -->\r\n",
       "<g id=\"node29\" class=\"node\">\r\n",
       "<title>56</title>\r\n",
       "<path fill=\"#f9e0ce\" stroke=\"black\" d=\"M1149.5,-140C1149.5,-140 1032.5,-140 1032.5,-140 1026.5,-140 1020.5,-134 1020.5,-128 1020.5,-128 1020.5,-84 1020.5,-84 1020.5,-78 1026.5,-72 1032.5,-72 1032.5,-72 1149.5,-72 1149.5,-72 1155.5,-72 1161.5,-78 1161.5,-84 1161.5,-84 1161.5,-128 1161.5,-128 1161.5,-134 1155.5,-140 1149.5,-140\"/>\r\n",
       "<text text-anchor=\"start\" x=\"1028.5\" y=\"-124.8\" font-family=\"Helvetica,sans-Serif\" font-size=\"14.00\">return_12m ≤ 0.128</text>\r\n",
       "<text text-anchor=\"start\" x=\"1054.5\" y=\"-109.8\" font-family=\"Helvetica,sans-Serif\" font-size=\"14.00\">mse = 0.02</text>\r\n",
       "<text text-anchor=\"start\" x=\"1043.5\" y=\"-94.8\" font-family=\"Helvetica,sans-Serif\" font-size=\"14.00\">samples = 423</text>\r\n",
       "<text text-anchor=\"start\" x=\"1045.5\" y=\"-79.8\" font-family=\"Helvetica,sans-Serif\" font-size=\"14.00\">value = &#45;0.084</text>\r\n",
       "</g>\r\n",
       "<!-- 48&#45;&gt;56 -->\r\n",
       "<g id=\"edge28\" class=\"edge\">\r\n",
       "<title>48&#45;&gt;56</title>\r\n",
       "<path fill=\"none\" stroke=\"black\" d=\"M991.05,-175.88C1004.95,-166.3 1020.25,-155.76 1034.61,-145.86\"/>\r\n",
       "<polygon fill=\"black\" stroke=\"black\" points=\"1036.69,-148.68 1042.94,-140.12 1032.72,-142.92 1036.69,-148.68\"/>\r\n",
       "</g>\r\n",
       "<!-- 50 -->\r\n",
       "<g id=\"node27\" class=\"node\">\r\n",
       "<title>50</title>\r\n",
       "<path fill=\"#c0c0c0\" stroke=\"black\" d=\"M958,-36C958,-36 928,-36 928,-36 922,-36 916,-30 916,-24 916,-24 916,-12 916,-12 916,-6 922,0 928,0 928,0 958,0 958,0 964,0 970,-6 970,-12 970,-12 970,-24 970,-24 970,-30 964,-36 958,-36\"/>\r\n",
       "<text text-anchor=\"middle\" x=\"943\" y=\"-14.3\" font-family=\"Helvetica,sans-Serif\" font-size=\"14.00\">(...)</text>\r\n",
       "</g>\r\n",
       "<!-- 49&#45;&gt;50 -->\r\n",
       "<g id=\"edge26\" class=\"edge\">\r\n",
       "<title>49&#45;&gt;50</title>\r\n",
       "<path fill=\"none\" stroke=\"black\" d=\"M943,-72C943,-63.56 943,-54.59 943,-46.47\"/>\r\n",
       "<polygon fill=\"black\" stroke=\"black\" points=\"946.5,-46.4 943,-36.4 939.5,-46.4 946.5,-46.4\"/>\r\n",
       "</g>\r\n",
       "<!-- 53 -->\r\n",
       "<g id=\"node28\" class=\"node\">\r\n",
       "<title>53</title>\r\n",
       "<path fill=\"#c0c0c0\" stroke=\"black\" d=\"M1030,-36C1030,-36 1000,-36 1000,-36 994,-36 988,-30 988,-24 988,-24 988,-12 988,-12 988,-6 994,0 1000,0 1000,0 1030,0 1030,0 1036,0 1042,-6 1042,-12 1042,-12 1042,-24 1042,-24 1042,-30 1036,-36 1030,-36\"/>\r\n",
       "<text text-anchor=\"middle\" x=\"1015\" y=\"-14.3\" font-family=\"Helvetica,sans-Serif\" font-size=\"14.00\">(...)</text>\r\n",
       "</g>\r\n",
       "<!-- 49&#45;&gt;53 -->\r\n",
       "<g id=\"edge27\" class=\"edge\">\r\n",
       "<title>49&#45;&gt;53</title>\r\n",
       "<path fill=\"none\" stroke=\"black\" d=\"M970.63,-72C978.32,-62.81 986.56,-52.97 993.82,-44.3\"/>\r\n",
       "<polygon fill=\"black\" stroke=\"black\" points=\"996.69,-46.32 1000.43,-36.4 991.33,-41.82 996.69,-46.32\"/>\r\n",
       "</g>\r\n",
       "<!-- 57 -->\r\n",
       "<g id=\"node30\" class=\"node\">\r\n",
       "<title>57</title>\r\n",
       "<path fill=\"#c0c0c0\" stroke=\"black\" d=\"M1104,-36C1104,-36 1074,-36 1074,-36 1068,-36 1062,-30 1062,-24 1062,-24 1062,-12 1062,-12 1062,-6 1068,0 1074,0 1074,0 1104,0 1104,0 1110,0 1116,-6 1116,-12 1116,-12 1116,-24 1116,-24 1116,-30 1110,-36 1104,-36\"/>\r\n",
       "<text text-anchor=\"middle\" x=\"1089\" y=\"-14.3\" font-family=\"Helvetica,sans-Serif\" font-size=\"14.00\">(...)</text>\r\n",
       "</g>\r\n",
       "<!-- 56&#45;&gt;57 -->\r\n",
       "<g id=\"edge29\" class=\"edge\">\r\n",
       "<title>56&#45;&gt;57</title>\r\n",
       "<path fill=\"none\" stroke=\"black\" d=\"M1090.23,-72C1090.04,-63.56 1089.83,-54.59 1089.64,-46.47\"/>\r\n",
       "<polygon fill=\"black\" stroke=\"black\" points=\"1093.14,-46.32 1089.4,-36.4 1086.14,-46.48 1093.14,-46.32\"/>\r\n",
       "</g>\r\n",
       "<!-- 60 -->\r\n",
       "<g id=\"node31\" class=\"node\">\r\n",
       "<title>60</title>\r\n",
       "<path fill=\"#c0c0c0\" stroke=\"black\" d=\"M1176,-36C1176,-36 1146,-36 1146,-36 1140,-36 1134,-30 1134,-24 1134,-24 1134,-12 1134,-12 1134,-6 1140,0 1146,0 1146,0 1176,0 1176,0 1182,0 1188,-6 1188,-12 1188,-12 1188,-24 1188,-24 1188,-30 1182,-36 1176,-36\"/>\r\n",
       "<text text-anchor=\"middle\" x=\"1161\" y=\"-14.3\" font-family=\"Helvetica,sans-Serif\" font-size=\"14.00\">(...)</text>\r\n",
       "</g>\r\n",
       "<!-- 56&#45;&gt;60 -->\r\n",
       "<g id=\"edge30\" class=\"edge\">\r\n",
       "<title>56&#45;&gt;60</title>\r\n",
       "<path fill=\"none\" stroke=\"black\" d=\"M1117.86,-72C1125.34,-62.81 1133.35,-52.97 1140.41,-44.3\"/>\r\n",
       "<polygon fill=\"black\" stroke=\"black\" points=\"1143.24,-46.37 1146.83,-36.4 1137.81,-41.95 1143.24,-46.37\"/>\r\n",
       "</g>\r\n",
       "</g>\r\n",
       "</svg>\r\n"
      ],
      "text/plain": [
       "<graphviz.files.Source at 0x2b031af39d0>"
      ]
     },
     "execution_count": 49,
     "metadata": {},
     "output_type": "execute_result"
    }
   ],
   "source": [
    "out_file = results_path / 'reg_tree.dot'\n",
    "dot_data = export_graphviz(regression_tree,\n",
    "                           out_file=out_file.as_posix(),\n",
    "                           feature_names=X_train.columns,\n",
    "                           max_depth=3,\n",
    "                           filled=True,\n",
    "                           rounded=True,\n",
    "                           special_characters=True)\n",
    "if out_file is not None:\n",
    "    dot_data = Path(out_file).read_text()\n",
    "\n",
    "graphviz.Source(dot_data)"
   ]
  },
  {
   "cell_type": "markdown",
   "metadata": {},
   "source": [
    "### Evaluate Test Set"
   ]
  },
  {
   "cell_type": "code",
   "execution_count": 50,
   "metadata": {
    "ExecuteTime": {
     "end_time": "2021-04-16T00:33:35.355228Z",
     "start_time": "2021-04-16T00:33:35.333642Z"
    }
   },
   "outputs": [],
   "source": [
    "y_pred = regression_tree.predict(X_test)"
   ]
  },
  {
   "cell_type": "code",
   "execution_count": 51,
   "metadata": {
    "ExecuteTime": {
     "end_time": "2021-04-16T00:33:35.363324Z",
     "start_time": "2021-04-16T00:33:35.358601Z"
    }
   },
   "outputs": [
    {
     "data": {
      "text/plain": [
       "0.13063595111039653"
      ]
     },
     "execution_count": 51,
     "metadata": {},
     "output_type": "execute_result"
    }
   ],
   "source": [
    "np.sqrt(mean_squared_error(y_pred=y_pred, y_true=y_test))"
   ]
  },
  {
   "cell_type": "code",
   "execution_count": 52,
   "metadata": {
    "ExecuteTime": {
     "end_time": "2021-04-16T00:33:35.379470Z",
     "start_time": "2021-04-16T00:33:35.365615Z"
    }
   },
   "outputs": [
    {
     "name": "stdout",
     "output_type": "stream",
     "text": [
      "17.51 (p-value=0.00%)\n"
     ]
    }
   ],
   "source": [
    "r, p = spearmanr(y_pred, y_test)\n",
    "print(f'{r*100:.2f} (p-value={p:.2%})')"
   ]
  },
  {
   "cell_type": "markdown",
   "metadata": {},
   "source": [
    "## Classification Tree with all Features"
   ]
  },
  {
   "cell_type": "markdown",
   "metadata": {},
   "source": [
    "We will now train, visualize, and evaluate a classification tree with up to 5 consecutive splits using 80% of the samples for training to predict the remaining 20%. We are taking a shortcut here to simplify the illustration and use the built-in train_test_split, which does not protect against lookahead bias, as our custom iterator. The tree configuration implies up to $2^5=32$ leaf nodes that, on average in the balanced case, would contain over 4,300 of the training samples."
   ]
  },
  {
   "cell_type": "markdown",
   "metadata": {},
   "source": [
    "### Train-Test Split"
   ]
  },
  {
   "cell_type": "code",
   "execution_count": 53,
   "metadata": {
    "ExecuteTime": {
     "end_time": "2021-04-16T00:33:35.391198Z",
     "start_time": "2021-04-16T00:33:35.380409Z"
    },
    "scrolled": true
   },
   "outputs": [
    {
     "data": {
      "text/plain": [
       "0    42088\n",
       "1    40523\n",
       "Name: target, dtype: int64"
      ]
     },
     "execution_count": 53,
     "metadata": {},
     "output_type": "execute_result"
    }
   ],
   "source": [
    "y_binary = (y>0).astype(int)\n",
    "y_binary.value_counts()"
   ]
  },
  {
   "cell_type": "code",
   "execution_count": 54,
   "metadata": {
    "ExecuteTime": {
     "end_time": "2021-04-16T00:33:35.421858Z",
     "start_time": "2021-04-16T00:33:35.392557Z"
    }
   },
   "outputs": [],
   "source": [
    "X_train, X_test, y_train, y_test = train_test_split(X, y_binary, test_size=0.2, random_state=42)"
   ]
  },
  {
   "cell_type": "code",
   "execution_count": 55,
   "metadata": {
    "ExecuteTime": {
     "end_time": "2021-04-16T00:33:35.425897Z",
     "start_time": "2021-04-16T00:33:35.423388Z"
    }
   },
   "outputs": [],
   "source": [
    "clf = DecisionTreeClassifier(criterion='gini',\n",
    "                             max_depth=5,\n",
    "                             random_state=42)"
   ]
  },
  {
   "cell_type": "code",
   "execution_count": 56,
   "metadata": {
    "ExecuteTime": {
     "end_time": "2021-04-16T00:33:36.216311Z",
     "start_time": "2021-04-16T00:33:35.427617Z"
    }
   },
   "outputs": [
    {
     "data": {
      "text/plain": [
       "DecisionTreeClassifier(max_depth=5, random_state=42)"
      ]
     },
     "execution_count": 56,
     "metadata": {},
     "output_type": "execute_result"
    }
   ],
   "source": [
    "clf.fit(X=X_train, y=y_train)"
   ]
  },
  {
   "cell_type": "markdown",
   "metadata": {},
   "source": [
    "### Plot Tree"
   ]
  },
  {
   "cell_type": "code",
   "execution_count": 57,
   "metadata": {
    "ExecuteTime": {
     "end_time": "2021-04-16T00:33:36.260644Z",
     "start_time": "2021-04-16T00:33:36.219967Z"
    },
    "scrolled": false
   },
   "outputs": [
    {
     "data": {
      "image/svg+xml": [
       "<?xml version=\"1.0\" encoding=\"UTF-8\" standalone=\"no\"?>\r\n",
       "<!DOCTYPE svg PUBLIC \"-//W3C//DTD SVG 1.1//EN\"\r\n",
       " \"http://www.w3.org/Graphics/SVG/1.1/DTD/svg11.dtd\">\r\n",
       "<!-- Generated by graphviz version 2.47.1 (0)\r\n",
       " -->\r\n",
       "<!-- Title: Tree Pages: 1 -->\r\n",
       "<svg width=\"1288pt\" height=\"520pt\"\r\n",
       " viewBox=\"0.00 0.00 1287.50 520.00\" xmlns=\"http://www.w3.org/2000/svg\" xmlns:xlink=\"http://www.w3.org/1999/xlink\">\r\n",
       "<g id=\"graph0\" class=\"graph\" transform=\"scale(1 1) rotate(0) translate(4 516)\">\r\n",
       "<title>Tree</title>\r\n",
       "<polygon fill=\"white\" stroke=\"transparent\" points=\"-4,4 -4,-516 1283.5,-516 1283.5,4 -4,4\"/>\r\n",
       "<!-- 0 -->\r\n",
       "<g id=\"node1\" class=\"node\">\r\n",
       "<title>0</title>\r\n",
       "<path fill=\"#fefbf9\" stroke=\"black\" d=\"M691.5,-512C691.5,-512 552.5,-512 552.5,-512 546.5,-512 540.5,-506 540.5,-500 540.5,-500 540.5,-441 540.5,-441 540.5,-435 546.5,-429 552.5,-429 552.5,-429 691.5,-429 691.5,-429 697.5,-429 703.5,-435 703.5,-441 703.5,-441 703.5,-500 703.5,-500 703.5,-506 697.5,-512 691.5,-512\"/>\r\n",
       "<text text-anchor=\"start\" x=\"584.5\" y=\"-496.8\" font-family=\"Helvetica,sans-Serif\" font-size=\"14.00\">month ≤ 3.5</text>\r\n",
       "<text text-anchor=\"start\" x=\"593\" y=\"-481.8\" font-family=\"Helvetica,sans-Serif\" font-size=\"14.00\">gini = 0.5</text>\r\n",
       "<text text-anchor=\"start\" x=\"566\" y=\"-466.8\" font-family=\"Helvetica,sans-Serif\" font-size=\"14.00\">samples = 66088</text>\r\n",
       "<text text-anchor=\"start\" x=\"548.5\" y=\"-451.8\" font-family=\"Helvetica,sans-Serif\" font-size=\"14.00\">value = [33595, 32493]</text>\r\n",
       "<text text-anchor=\"start\" x=\"579.5\" y=\"-436.8\" font-family=\"Helvetica,sans-Serif\" font-size=\"14.00\">class = Down</text>\r\n",
       "</g>\r\n",
       "<!-- 1 -->\r\n",
       "<g id=\"node2\" class=\"node\">\r\n",
       "<title>1</title>\r\n",
       "<path fill=\"#d1e8f9\" stroke=\"black\" d=\"M521,-393C521,-393 399,-393 399,-393 393,-393 387,-387 387,-381 387,-381 387,-322 387,-322 387,-316 393,-310 399,-310 399,-310 521,-310 521,-310 527,-310 533,-316 533,-322 533,-322 533,-381 533,-381 533,-387 527,-393 521,-393\"/>\r\n",
       "<text text-anchor=\"start\" x=\"416\" y=\"-377.8\" font-family=\"Helvetica,sans-Serif\" font-size=\"14.00\">year ≤ 2006.5</text>\r\n",
       "<text text-anchor=\"start\" x=\"422.5\" y=\"-362.8\" font-family=\"Helvetica,sans-Serif\" font-size=\"14.00\">gini = 0.491</text>\r\n",
       "<text text-anchor=\"start\" x=\"404\" y=\"-347.8\" font-family=\"Helvetica,sans-Serif\" font-size=\"14.00\">samples = 15952</text>\r\n",
       "<text text-anchor=\"start\" x=\"395\" y=\"-332.8\" font-family=\"Helvetica,sans-Serif\" font-size=\"14.00\">value = [6917, 9035]</text>\r\n",
       "<text text-anchor=\"start\" x=\"426.5\" y=\"-317.8\" font-family=\"Helvetica,sans-Serif\" font-size=\"14.00\">class = Up</text>\r\n",
       "</g>\r\n",
       "<!-- 0&#45;&gt;1 -->\r\n",
       "<g id=\"edge1\" class=\"edge\">\r\n",
       "<title>0&#45;&gt;1</title>\r\n",
       "<path fill=\"none\" stroke=\"black\" d=\"M565.79,-428.91C552.48,-419.29 538.17,-408.95 524.51,-399.09\"/>\r\n",
       "<polygon fill=\"black\" stroke=\"black\" points=\"526.26,-396.04 516.11,-393.02 522.16,-401.71 526.26,-396.04\"/>\r\n",
       "<text text-anchor=\"middle\" x=\"520.09\" y=\"-414\" font-family=\"Helvetica,sans-Serif\" font-size=\"14.00\">True</text>\r\n",
       "</g>\r\n",
       "<!-- 32 -->\r\n",
       "<g id=\"node17\" class=\"node\">\r\n",
       "<title>32</title>\r\n",
       "<path fill=\"#fcf0e7\" stroke=\"black\" d=\"M862.5,-393C862.5,-393 723.5,-393 723.5,-393 717.5,-393 711.5,-387 711.5,-381 711.5,-381 711.5,-322 711.5,-322 711.5,-316 717.5,-310 723.5,-310 723.5,-310 862.5,-310 862.5,-310 868.5,-310 874.5,-316 874.5,-322 874.5,-322 874.5,-381 874.5,-381 874.5,-387 868.5,-393 862.5,-393\"/>\r\n",
       "<text text-anchor=\"start\" x=\"759\" y=\"-377.8\" font-family=\"Helvetica,sans-Serif\" font-size=\"14.00\">atr ≤ 1.012</text>\r\n",
       "<text text-anchor=\"start\" x=\"755.5\" y=\"-362.8\" font-family=\"Helvetica,sans-Serif\" font-size=\"14.00\">gini = 0.498</text>\r\n",
       "<text text-anchor=\"start\" x=\"737\" y=\"-347.8\" font-family=\"Helvetica,sans-Serif\" font-size=\"14.00\">samples = 50136</text>\r\n",
       "<text text-anchor=\"start\" x=\"719.5\" y=\"-332.8\" font-family=\"Helvetica,sans-Serif\" font-size=\"14.00\">value = [26678, 23458]</text>\r\n",
       "<text text-anchor=\"start\" x=\"750.5\" y=\"-317.8\" font-family=\"Helvetica,sans-Serif\" font-size=\"14.00\">class = Down</text>\r\n",
       "</g>\r\n",
       "<!-- 0&#45;&gt;32 -->\r\n",
       "<g id=\"edge16\" class=\"edge\">\r\n",
       "<title>0&#45;&gt;32</title>\r\n",
       "<path fill=\"none\" stroke=\"black\" d=\"M681.33,-428.91C695.52,-419.2 710.78,-408.76 725.31,-398.81\"/>\r\n",
       "<polygon fill=\"black\" stroke=\"black\" points=\"727.5,-401.56 733.78,-393.02 723.55,-395.78 727.5,-401.56\"/>\r\n",
       "<text text-anchor=\"middle\" x=\"729.17\" y=\"-413.89\" font-family=\"Helvetica,sans-Serif\" font-size=\"14.00\">False</text>\r\n",
       "</g>\r\n",
       "<!-- 2 -->\r\n",
       "<g id=\"node3\" class=\"node\">\r\n",
       "<title>2</title>\r\n",
       "<path fill=\"#fffdfd\" stroke=\"black\" d=\"M282,-274C282,-274 160,-274 160,-274 154,-274 148,-268 148,-262 148,-262 148,-203 148,-203 148,-197 154,-191 160,-191 160,-191 282,-191 282,-191 288,-191 294,-197 294,-203 294,-203 294,-262 294,-262 294,-268 288,-274 282,-274\"/>\r\n",
       "<text text-anchor=\"start\" x=\"183.5\" y=\"-258.8\" font-family=\"Helvetica,sans-Serif\" font-size=\"14.00\">month ≤ 1.5</text>\r\n",
       "<text text-anchor=\"start\" x=\"192\" y=\"-243.8\" font-family=\"Helvetica,sans-Serif\" font-size=\"14.00\">gini = 0.5</text>\r\n",
       "<text text-anchor=\"start\" x=\"169.5\" y=\"-228.8\" font-family=\"Helvetica,sans-Serif\" font-size=\"14.00\">samples = 3837</text>\r\n",
       "<text text-anchor=\"start\" x=\"156\" y=\"-213.8\" font-family=\"Helvetica,sans-Serif\" font-size=\"14.00\">value = [1930, 1907]</text>\r\n",
       "<text text-anchor=\"start\" x=\"178.5\" y=\"-198.8\" font-family=\"Helvetica,sans-Serif\" font-size=\"14.00\">class = Down</text>\r\n",
       "</g>\r\n",
       "<!-- 1&#45;&gt;2 -->\r\n",
       "<g id=\"edge2\" class=\"edge\">\r\n",
       "<title>1&#45;&gt;2</title>\r\n",
       "<path fill=\"none\" stroke=\"black\" d=\"M386.99,-314.76C360.6,-301.84 330.62,-287.16 303.47,-273.87\"/>\r\n",
       "<polygon fill=\"black\" stroke=\"black\" points=\"304.9,-270.68 294.38,-269.42 301.83,-276.96 304.9,-270.68\"/>\r\n",
       "</g>\r\n",
       "<!-- 17 -->\r\n",
       "<g id=\"node10\" class=\"node\">\r\n",
       "<title>17</title>\r\n",
       "<path fill=\"#c4e2f7\" stroke=\"black\" d=\"M521,-274C521,-274 399,-274 399,-274 393,-274 387,-268 387,-262 387,-262 387,-203 387,-203 387,-197 393,-191 399,-191 399,-191 521,-191 521,-191 527,-191 533,-197 533,-203 533,-203 533,-262 533,-262 533,-268 527,-274 521,-274\"/>\r\n",
       "<text text-anchor=\"start\" x=\"416\" y=\"-258.8\" font-family=\"Helvetica,sans-Serif\" font-size=\"14.00\">year ≤ 2009.5</text>\r\n",
       "<text text-anchor=\"start\" x=\"422.5\" y=\"-243.8\" font-family=\"Helvetica,sans-Serif\" font-size=\"14.00\">gini = 0.484</text>\r\n",
       "<text text-anchor=\"start\" x=\"404\" y=\"-228.8\" font-family=\"Helvetica,sans-Serif\" font-size=\"14.00\">samples = 12115</text>\r\n",
       "<text text-anchor=\"start\" x=\"395\" y=\"-213.8\" font-family=\"Helvetica,sans-Serif\" font-size=\"14.00\">value = [4987, 7128]</text>\r\n",
       "<text text-anchor=\"start\" x=\"426.5\" y=\"-198.8\" font-family=\"Helvetica,sans-Serif\" font-size=\"14.00\">class = Up</text>\r\n",
       "</g>\r\n",
       "<!-- 1&#45;&gt;17 -->\r\n",
       "<g id=\"edge9\" class=\"edge\">\r\n",
       "<title>1&#45;&gt;17</title>\r\n",
       "<path fill=\"none\" stroke=\"black\" d=\"M460,-309.91C460,-301.65 460,-292.86 460,-284.3\"/>\r\n",
       "<polygon fill=\"black\" stroke=\"black\" points=\"463.5,-284.02 460,-274.02 456.5,-284.02 463.5,-284.02\"/>\r\n",
       "</g>\r\n",
       "<!-- 3 -->\r\n",
       "<g id=\"node4\" class=\"node\">\r\n",
       "<title>3</title>\r\n",
       "<path fill=\"#c8e4f8\" stroke=\"black\" d=\"M118,-155C118,-155 12,-155 12,-155 6,-155 0,-149 0,-143 0,-143 0,-84 0,-84 0,-78 6,-72 12,-72 12,-72 118,-72 118,-72 124,-72 130,-78 130,-84 130,-84 130,-143 130,-143 130,-149 124,-155 118,-155\"/>\r\n",
       "<text text-anchor=\"start\" x=\"18.5\" y=\"-139.8\" font-family=\"Helvetica,sans-Serif\" font-size=\"14.00\">bb_up ≤ 0.054</text>\r\n",
       "<text text-anchor=\"start\" x=\"27.5\" y=\"-124.8\" font-family=\"Helvetica,sans-Serif\" font-size=\"14.00\">gini = 0.487</text>\r\n",
       "<text text-anchor=\"start\" x=\"13.5\" y=\"-109.8\" font-family=\"Helvetica,sans-Serif\" font-size=\"14.00\">samples = 1263</text>\r\n",
       "<text text-anchor=\"start\" x=\"8\" y=\"-94.8\" font-family=\"Helvetica,sans-Serif\" font-size=\"14.00\">value = [529, 734]</text>\r\n",
       "<text text-anchor=\"start\" x=\"31.5\" y=\"-79.8\" font-family=\"Helvetica,sans-Serif\" font-size=\"14.00\">class = Up</text>\r\n",
       "</g>\r\n",
       "<!-- 2&#45;&gt;3 -->\r\n",
       "<g id=\"edge3\" class=\"edge\">\r\n",
       "<title>2&#45;&gt;3</title>\r\n",
       "<path fill=\"none\" stroke=\"black\" d=\"M166.88,-190.91C154.05,-181.29 140.27,-170.95 127.12,-161.09\"/>\r\n",
       "<polygon fill=\"black\" stroke=\"black\" points=\"129.13,-158.22 119.03,-155.02 124.93,-163.82 129.13,-158.22\"/>\r\n",
       "</g>\r\n",
       "<!-- 10 -->\r\n",
       "<g id=\"node7\" class=\"node\">\r\n",
       "<title>10</title>\r\n",
       "<path fill=\"#fbeadf\" stroke=\"black\" d=\"M282,-155C282,-155 160,-155 160,-155 154,-155 148,-149 148,-143 148,-143 148,-84 148,-84 148,-78 154,-72 160,-72 160,-72 282,-72 282,-72 288,-72 294,-78 294,-84 294,-84 294,-143 294,-143 294,-149 288,-155 282,-155\"/>\r\n",
       "<text text-anchor=\"start\" x=\"183.5\" y=\"-139.8\" font-family=\"Helvetica,sans-Serif\" font-size=\"14.00\">month ≤ 2.5</text>\r\n",
       "<text text-anchor=\"start\" x=\"183.5\" y=\"-124.8\" font-family=\"Helvetica,sans-Serif\" font-size=\"14.00\">gini = 0.496</text>\r\n",
       "<text text-anchor=\"start\" x=\"169.5\" y=\"-109.8\" font-family=\"Helvetica,sans-Serif\" font-size=\"14.00\">samples = 2574</text>\r\n",
       "<text text-anchor=\"start\" x=\"156\" y=\"-94.8\" font-family=\"Helvetica,sans-Serif\" font-size=\"14.00\">value = [1401, 1173]</text>\r\n",
       "<text text-anchor=\"start\" x=\"178.5\" y=\"-79.8\" font-family=\"Helvetica,sans-Serif\" font-size=\"14.00\">class = Down</text>\r\n",
       "</g>\r\n",
       "<!-- 2&#45;&gt;10 -->\r\n",
       "<g id=\"edge6\" class=\"edge\">\r\n",
       "<title>2&#45;&gt;10</title>\r\n",
       "<path fill=\"none\" stroke=\"black\" d=\"M221,-190.91C221,-182.65 221,-173.86 221,-165.3\"/>\r\n",
       "<polygon fill=\"black\" stroke=\"black\" points=\"224.5,-165.02 221,-155.02 217.5,-165.02 224.5,-165.02\"/>\r\n",
       "</g>\r\n",
       "<!-- 4 -->\r\n",
       "<g id=\"node5\" class=\"node\">\r\n",
       "<title>4</title>\r\n",
       "<path fill=\"#c0c0c0\" stroke=\"black\" d=\"M44,-36C44,-36 14,-36 14,-36 8,-36 2,-30 2,-24 2,-24 2,-12 2,-12 2,-6 8,0 14,0 14,0 44,0 44,0 50,0 56,-6 56,-12 56,-12 56,-24 56,-24 56,-30 50,-36 44,-36\"/>\r\n",
       "<text text-anchor=\"middle\" x=\"29\" y=\"-14.3\" font-family=\"Helvetica,sans-Serif\" font-size=\"14.00\">(...)</text>\r\n",
       "</g>\r\n",
       "<!-- 3&#45;&gt;4 -->\r\n",
       "<g id=\"edge4\" class=\"edge\">\r\n",
       "<title>3&#45;&gt;4</title>\r\n",
       "<path fill=\"none\" stroke=\"black\" d=\"M49.31,-71.76C45.96,-63.04 42.49,-54.04 39.39,-45.99\"/>\r\n",
       "<polygon fill=\"black\" stroke=\"black\" points=\"42.56,-44.48 35.7,-36.41 36.03,-46.99 42.56,-44.48\"/>\r\n",
       "</g>\r\n",
       "<!-- 7 -->\r\n",
       "<g id=\"node6\" class=\"node\">\r\n",
       "<title>7</title>\r\n",
       "<path fill=\"#c0c0c0\" stroke=\"black\" d=\"M116,-36C116,-36 86,-36 86,-36 80,-36 74,-30 74,-24 74,-24 74,-12 74,-12 74,-6 80,0 86,0 86,0 116,0 116,0 122,0 128,-6 128,-12 128,-12 128,-24 128,-24 128,-30 122,-36 116,-36\"/>\r\n",
       "<text text-anchor=\"middle\" x=\"101\" y=\"-14.3\" font-family=\"Helvetica,sans-Serif\" font-size=\"14.00\">(...)</text>\r\n",
       "</g>\r\n",
       "<!-- 3&#45;&gt;7 -->\r\n",
       "<g id=\"edge5\" class=\"edge\">\r\n",
       "<title>3&#45;&gt;7</title>\r\n",
       "<path fill=\"none\" stroke=\"black\" d=\"M80.69,-71.76C84.04,-63.04 87.51,-54.04 90.61,-45.99\"/>\r\n",
       "<polygon fill=\"black\" stroke=\"black\" points=\"93.97,-46.99 94.3,-36.41 87.44,-44.48 93.97,-46.99\"/>\r\n",
       "</g>\r\n",
       "<!-- 11 -->\r\n",
       "<g id=\"node8\" class=\"node\">\r\n",
       "<title>11</title>\r\n",
       "<path fill=\"#c0c0c0\" stroke=\"black\" d=\"M212,-36C212,-36 182,-36 182,-36 176,-36 170,-30 170,-24 170,-24 170,-12 170,-12 170,-6 176,0 182,0 182,0 212,0 212,0 218,0 224,-6 224,-12 224,-12 224,-24 224,-24 224,-30 218,-36 212,-36\"/>\r\n",
       "<text text-anchor=\"middle\" x=\"197\" y=\"-14.3\" font-family=\"Helvetica,sans-Serif\" font-size=\"14.00\">(...)</text>\r\n",
       "</g>\r\n",
       "<!-- 10&#45;&gt;11 -->\r\n",
       "<g id=\"edge7\" class=\"edge\">\r\n",
       "<title>10&#45;&gt;11</title>\r\n",
       "<path fill=\"none\" stroke=\"black\" d=\"M210.54,-71.76C208.33,-63.14 206.05,-54.24 204,-46.26\"/>\r\n",
       "<polygon fill=\"black\" stroke=\"black\" points=\"207.34,-45.22 201.47,-36.41 200.56,-46.96 207.34,-45.22\"/>\r\n",
       "</g>\r\n",
       "<!-- 14 -->\r\n",
       "<g id=\"node9\" class=\"node\">\r\n",
       "<title>14</title>\r\n",
       "<path fill=\"#c0c0c0\" stroke=\"black\" d=\"M284,-36C284,-36 254,-36 254,-36 248,-36 242,-30 242,-24 242,-24 242,-12 242,-12 242,-6 248,0 254,0 254,0 284,0 284,0 290,0 296,-6 296,-12 296,-12 296,-24 296,-24 296,-30 290,-36 284,-36\"/>\r\n",
       "<text text-anchor=\"middle\" x=\"269\" y=\"-14.3\" font-family=\"Helvetica,sans-Serif\" font-size=\"14.00\">(...)</text>\r\n",
       "</g>\r\n",
       "<!-- 10&#45;&gt;14 -->\r\n",
       "<g id=\"edge8\" class=\"edge\">\r\n",
       "<title>10&#45;&gt;14</title>\r\n",
       "<path fill=\"none\" stroke=\"black\" d=\"M241.91,-71.76C246.49,-62.85 251.22,-53.64 255.42,-45.46\"/>\r\n",
       "<polygon fill=\"black\" stroke=\"black\" points=\"258.61,-46.9 260.06,-36.41 252.38,-43.7 258.61,-46.9\"/>\r\n",
       "</g>\r\n",
       "<!-- 18 -->\r\n",
       "<g id=\"node11\" class=\"node\">\r\n",
       "<title>18</title>\r\n",
       "<path fill=\"#9fcff2\" stroke=\"black\" d=\"M446,-155C446,-155 324,-155 324,-155 318,-155 312,-149 312,-143 312,-143 312,-84 312,-84 312,-78 318,-72 324,-72 324,-72 446,-72 446,-72 452,-72 458,-78 458,-84 458,-84 458,-143 458,-143 458,-149 452,-155 446,-155\"/>\r\n",
       "<text text-anchor=\"start\" x=\"347.5\" y=\"-139.8\" font-family=\"Helvetica,sans-Serif\" font-size=\"14.00\">month ≤ 2.5</text>\r\n",
       "<text text-anchor=\"start\" x=\"347.5\" y=\"-124.8\" font-family=\"Helvetica,sans-Serif\" font-size=\"14.00\">gini = 0.448</text>\r\n",
       "<text text-anchor=\"start\" x=\"333.5\" y=\"-109.8\" font-family=\"Helvetica,sans-Serif\" font-size=\"14.00\">samples = 3002</text>\r\n",
       "<text text-anchor=\"start\" x=\"320\" y=\"-94.8\" font-family=\"Helvetica,sans-Serif\" font-size=\"14.00\">value = [1018, 1984]</text>\r\n",
       "<text text-anchor=\"start\" x=\"351.5\" y=\"-79.8\" font-family=\"Helvetica,sans-Serif\" font-size=\"14.00\">class = Up</text>\r\n",
       "</g>\r\n",
       "<!-- 17&#45;&gt;18 -->\r\n",
       "<g id=\"edge10\" class=\"edge\">\r\n",
       "<title>17&#45;&gt;18</title>\r\n",
       "<path fill=\"none\" stroke=\"black\" d=\"M433.98,-190.91C428.34,-182.1 422.31,-172.7 416.48,-163.61\"/>\r\n",
       "<polygon fill=\"black\" stroke=\"black\" points=\"419.32,-161.55 410.97,-155.02 413.43,-165.33 419.32,-161.55\"/>\r\n",
       "</g>\r\n",
       "<!-- 25 -->\r\n",
       "<g id=\"node14\" class=\"node\">\r\n",
       "<title>25</title>\r\n",
       "<path fill=\"#d2e9f9\" stroke=\"black\" d=\"M610,-155C610,-155 488,-155 488,-155 482,-155 476,-149 476,-143 476,-143 476,-84 476,-84 476,-78 482,-72 488,-72 488,-72 610,-72 610,-72 616,-72 622,-78 622,-84 622,-84 622,-143 622,-143 622,-149 616,-155 610,-155\"/>\r\n",
       "<text text-anchor=\"start\" x=\"505\" y=\"-139.8\" font-family=\"Helvetica,sans-Serif\" font-size=\"14.00\">year ≤ 2012.5</text>\r\n",
       "<text text-anchor=\"start\" x=\"511.5\" y=\"-124.8\" font-family=\"Helvetica,sans-Serif\" font-size=\"14.00\">gini = 0.492</text>\r\n",
       "<text text-anchor=\"start\" x=\"497.5\" y=\"-109.8\" font-family=\"Helvetica,sans-Serif\" font-size=\"14.00\">samples = 9113</text>\r\n",
       "<text text-anchor=\"start\" x=\"484\" y=\"-94.8\" font-family=\"Helvetica,sans-Serif\" font-size=\"14.00\">value = [3969, 5144]</text>\r\n",
       "<text text-anchor=\"start\" x=\"515.5\" y=\"-79.8\" font-family=\"Helvetica,sans-Serif\" font-size=\"14.00\">class = Up</text>\r\n",
       "</g>\r\n",
       "<!-- 17&#45;&gt;25 -->\r\n",
       "<g id=\"edge13\" class=\"edge\">\r\n",
       "<title>17&#45;&gt;25</title>\r\n",
       "<path fill=\"none\" stroke=\"black\" d=\"M490.88,-190.91C497.71,-181.92 505.02,-172.32 512.07,-163.05\"/>\r\n",
       "<polygon fill=\"black\" stroke=\"black\" points=\"514.91,-165.1 518.18,-155.02 509.34,-160.86 514.91,-165.1\"/>\r\n",
       "</g>\r\n",
       "<!-- 19 -->\r\n",
       "<g id=\"node12\" class=\"node\">\r\n",
       "<title>19</title>\r\n",
       "<path fill=\"#c0c0c0\" stroke=\"black\" d=\"M375,-36C375,-36 345,-36 345,-36 339,-36 333,-30 333,-24 333,-24 333,-12 333,-12 333,-6 339,0 345,0 345,0 375,0 375,0 381,0 387,-6 387,-12 387,-12 387,-24 387,-24 387,-30 381,-36 375,-36\"/>\r\n",
       "<text text-anchor=\"middle\" x=\"360\" y=\"-14.3\" font-family=\"Helvetica,sans-Serif\" font-size=\"14.00\">(...)</text>\r\n",
       "</g>\r\n",
       "<!-- 18&#45;&gt;19 -->\r\n",
       "<g id=\"edge11\" class=\"edge\">\r\n",
       "<title>18&#45;&gt;19</title>\r\n",
       "<path fill=\"none\" stroke=\"black\" d=\"M374.11,-71.76C371.8,-63.14 369.42,-54.24 367.29,-46.26\"/>\r\n",
       "<polygon fill=\"black\" stroke=\"black\" points=\"370.62,-45.16 364.65,-36.41 363.86,-46.97 370.62,-45.16\"/>\r\n",
       "</g>\r\n",
       "<!-- 22 -->\r\n",
       "<g id=\"node13\" class=\"node\">\r\n",
       "<title>22</title>\r\n",
       "<path fill=\"#c0c0c0\" stroke=\"black\" d=\"M447,-36C447,-36 417,-36 417,-36 411,-36 405,-30 405,-24 405,-24 405,-12 405,-12 405,-6 411,0 417,0 417,0 447,0 447,0 453,0 459,-6 459,-12 459,-12 459,-24 459,-24 459,-30 453,-36 447,-36\"/>\r\n",
       "<text text-anchor=\"middle\" x=\"432\" y=\"-14.3\" font-family=\"Helvetica,sans-Serif\" font-size=\"14.00\">(...)</text>\r\n",
       "</g>\r\n",
       "<!-- 18&#45;&gt;22 -->\r\n",
       "<g id=\"edge12\" class=\"edge\">\r\n",
       "<title>18&#45;&gt;22</title>\r\n",
       "<path fill=\"none\" stroke=\"black\" d=\"M405.48,-71.76C409.96,-62.85 414.59,-53.64 418.7,-45.46\"/>\r\n",
       "<polygon fill=\"black\" stroke=\"black\" points=\"421.89,-46.91 423.25,-36.41 415.63,-43.77 421.89,-46.91\"/>\r\n",
       "</g>\r\n",
       "<!-- 26 -->\r\n",
       "<g id=\"node15\" class=\"node\">\r\n",
       "<title>26</title>\r\n",
       "<path fill=\"#c0c0c0\" stroke=\"black\" d=\"M535,-36C535,-36 505,-36 505,-36 499,-36 493,-30 493,-24 493,-24 493,-12 493,-12 493,-6 499,0 505,0 505,0 535,0 535,0 541,0 547,-6 547,-12 547,-12 547,-24 547,-24 547,-30 541,-36 535,-36\"/>\r\n",
       "<text text-anchor=\"middle\" x=\"520\" y=\"-14.3\" font-family=\"Helvetica,sans-Serif\" font-size=\"14.00\">(...)</text>\r\n",
       "</g>\r\n",
       "<!-- 25&#45;&gt;26 -->\r\n",
       "<g id=\"edge14\" class=\"edge\">\r\n",
       "<title>25&#45;&gt;26</title>\r\n",
       "<path fill=\"none\" stroke=\"black\" d=\"M536.36,-71.76C533.66,-63.04 530.87,-54.04 528.37,-45.99\"/>\r\n",
       "<polygon fill=\"black\" stroke=\"black\" points=\"531.7,-44.92 525.4,-36.41 525.02,-46.99 531.7,-44.92\"/>\r\n",
       "</g>\r\n",
       "<!-- 29 -->\r\n",
       "<g id=\"node16\" class=\"node\">\r\n",
       "<title>29</title>\r\n",
       "<path fill=\"#c0c0c0\" stroke=\"black\" d=\"M607,-36C607,-36 577,-36 577,-36 571,-36 565,-30 565,-24 565,-24 565,-12 565,-12 565,-6 571,0 577,0 577,0 607,0 607,0 613,0 619,-6 619,-12 619,-12 619,-24 619,-24 619,-30 613,-36 607,-36\"/>\r\n",
       "<text text-anchor=\"middle\" x=\"592\" y=\"-14.3\" font-family=\"Helvetica,sans-Serif\" font-size=\"14.00\">(...)</text>\r\n",
       "</g>\r\n",
       "<!-- 25&#45;&gt;29 -->\r\n",
       "<g id=\"edge15\" class=\"edge\">\r\n",
       "<title>25&#45;&gt;29</title>\r\n",
       "<path fill=\"none\" stroke=\"black\" d=\"M567.74,-71.76C571.79,-62.94 575.98,-53.84 579.71,-45.72\"/>\r\n",
       "<polygon fill=\"black\" stroke=\"black\" points=\"583,-46.95 584,-36.41 576.64,-44.03 583,-46.95\"/>\r\n",
       "</g>\r\n",
       "<!-- 33 -->\r\n",
       "<g id=\"node18\" class=\"node\">\r\n",
       "<title>33</title>\r\n",
       "<path fill=\"#fdf5f0\" stroke=\"black\" d=\"M862.5,-274C862.5,-274 723.5,-274 723.5,-274 717.5,-274 711.5,-268 711.5,-262 711.5,-262 711.5,-203 711.5,-203 711.5,-197 717.5,-191 723.5,-191 723.5,-191 862.5,-191 862.5,-191 868.5,-191 874.5,-197 874.5,-203 874.5,-203 874.5,-262 874.5,-262 874.5,-268 868.5,-274 862.5,-274\"/>\r\n",
       "<text text-anchor=\"start\" x=\"749\" y=\"-258.8\" font-family=\"Helvetica,sans-Serif\" font-size=\"14.00\">year ≤ 2002.5</text>\r\n",
       "<text text-anchor=\"start\" x=\"755.5\" y=\"-243.8\" font-family=\"Helvetica,sans-Serif\" font-size=\"14.00\">gini = 0.499</text>\r\n",
       "<text text-anchor=\"start\" x=\"737\" y=\"-228.8\" font-family=\"Helvetica,sans-Serif\" font-size=\"14.00\">samples = 42830</text>\r\n",
       "<text text-anchor=\"start\" x=\"719.5\" y=\"-213.8\" font-family=\"Helvetica,sans-Serif\" font-size=\"14.00\">value = [22270, 20560]</text>\r\n",
       "<text text-anchor=\"start\" x=\"750.5\" y=\"-198.8\" font-family=\"Helvetica,sans-Serif\" font-size=\"14.00\">class = Down</text>\r\n",
       "</g>\r\n",
       "<!-- 32&#45;&gt;33 -->\r\n",
       "<g id=\"edge17\" class=\"edge\">\r\n",
       "<title>32&#45;&gt;33</title>\r\n",
       "<path fill=\"none\" stroke=\"black\" d=\"M793,-309.91C793,-301.65 793,-292.86 793,-284.3\"/>\r\n",
       "<polygon fill=\"black\" stroke=\"black\" points=\"796.5,-284.02 793,-274.02 789.5,-284.02 796.5,-284.02\"/>\r\n",
       "</g>\r\n",
       "<!-- 48 -->\r\n",
       "<g id=\"node25\" class=\"node\">\r\n",
       "<title>48</title>\r\n",
       "<path fill=\"#f6d4bb\" stroke=\"black\" d=\"M1112,-274C1112,-274 990,-274 990,-274 984,-274 978,-268 978,-262 978,-262 978,-203 978,-203 978,-197 984,-191 990,-191 990,-191 1112,-191 1112,-191 1118,-191 1124,-197 1124,-203 1124,-203 1124,-262 1124,-262 1124,-268 1118,-274 1112,-274\"/>\r\n",
       "<text text-anchor=\"start\" x=\"1017\" y=\"-258.8\" font-family=\"Helvetica,sans-Serif\" font-size=\"14.00\">atr ≤ 4.272</text>\r\n",
       "<text text-anchor=\"start\" x=\"1013.5\" y=\"-243.8\" font-family=\"Helvetica,sans-Serif\" font-size=\"14.00\">gini = 0.479</text>\r\n",
       "<text text-anchor=\"start\" x=\"999.5\" y=\"-228.8\" font-family=\"Helvetica,sans-Serif\" font-size=\"14.00\">samples = 7306</text>\r\n",
       "<text text-anchor=\"start\" x=\"986\" y=\"-213.8\" font-family=\"Helvetica,sans-Serif\" font-size=\"14.00\">value = [4408, 2898]</text>\r\n",
       "<text text-anchor=\"start\" x=\"1008.5\" y=\"-198.8\" font-family=\"Helvetica,sans-Serif\" font-size=\"14.00\">class = Down</text>\r\n",
       "</g>\r\n",
       "<!-- 32&#45;&gt;48 -->\r\n",
       "<g id=\"edge24\" class=\"edge\">\r\n",
       "<title>32&#45;&gt;48</title>\r\n",
       "<path fill=\"none\" stroke=\"black\" d=\"M874.63,-313.48C904.6,-299.89 938.53,-284.5 968.57,-270.88\"/>\r\n",
       "<polygon fill=\"black\" stroke=\"black\" points=\"970.1,-274.03 977.76,-266.71 967.2,-267.66 970.1,-274.03\"/>\r\n",
       "</g>\r\n",
       "<!-- 34 -->\r\n",
       "<g id=\"node19\" class=\"node\">\r\n",
       "<title>34</title>\r\n",
       "<path fill=\"#f4cbae\" stroke=\"black\" d=\"M766,-155C766,-155 652,-155 652,-155 646,-155 640,-149 640,-143 640,-143 640,-84 640,-84 640,-78 646,-72 652,-72 652,-72 766,-72 766,-72 772,-72 778,-78 778,-84 778,-84 778,-143 778,-143 778,-149 772,-155 766,-155\"/>\r\n",
       "<text text-anchor=\"start\" x=\"667.5\" y=\"-139.8\" font-family=\"Helvetica,sans-Serif\" font-size=\"14.00\">month ≤ 10.5</text>\r\n",
       "<text text-anchor=\"start\" x=\"671.5\" y=\"-124.8\" font-family=\"Helvetica,sans-Serif\" font-size=\"14.00\">gini = 0.467</text>\r\n",
       "<text text-anchor=\"start\" x=\"657.5\" y=\"-109.8\" font-family=\"Helvetica,sans-Serif\" font-size=\"14.00\">samples = 2195</text>\r\n",
       "<text text-anchor=\"start\" x=\"648\" y=\"-94.8\" font-family=\"Helvetica,sans-Serif\" font-size=\"14.00\">value = [1381, 814]</text>\r\n",
       "<text text-anchor=\"start\" x=\"666.5\" y=\"-79.8\" font-family=\"Helvetica,sans-Serif\" font-size=\"14.00\">class = Down</text>\r\n",
       "</g>\r\n",
       "<!-- 33&#45;&gt;34 -->\r\n",
       "<g id=\"edge18\" class=\"edge\">\r\n",
       "<title>33&#45;&gt;34</title>\r\n",
       "<path fill=\"none\" stroke=\"black\" d=\"M763.86,-190.91C757.47,-182.01 750.65,-172.51 744.06,-163.33\"/>\r\n",
       "<polygon fill=\"black\" stroke=\"black\" points=\"746.77,-161.1 738.09,-155.02 741.08,-165.19 746.77,-161.1\"/>\r\n",
       "</g>\r\n",
       "<!-- 41 -->\r\n",
       "<g id=\"node22\" class=\"node\">\r\n",
       "<title>41</title>\r\n",
       "<path fill=\"#fef8f4\" stroke=\"black\" d=\"M947.5,-155C947.5,-155 808.5,-155 808.5,-155 802.5,-155 796.5,-149 796.5,-143 796.5,-143 796.5,-84 796.5,-84 796.5,-78 802.5,-72 808.5,-72 808.5,-72 947.5,-72 947.5,-72 953.5,-72 959.5,-78 959.5,-84 959.5,-84 959.5,-143 959.5,-143 959.5,-149 953.5,-155 947.5,-155\"/>\r\n",
       "<text text-anchor=\"start\" x=\"834\" y=\"-139.8\" font-family=\"Helvetica,sans-Serif\" font-size=\"14.00\">year ≤ 2005.5</text>\r\n",
       "<text text-anchor=\"start\" x=\"849\" y=\"-124.8\" font-family=\"Helvetica,sans-Serif\" font-size=\"14.00\">gini = 0.5</text>\r\n",
       "<text text-anchor=\"start\" x=\"822\" y=\"-109.8\" font-family=\"Helvetica,sans-Serif\" font-size=\"14.00\">samples = 40635</text>\r\n",
       "<text text-anchor=\"start\" x=\"804.5\" y=\"-94.8\" font-family=\"Helvetica,sans-Serif\" font-size=\"14.00\">value = [20889, 19746]</text>\r\n",
       "<text text-anchor=\"start\" x=\"835.5\" y=\"-79.8\" font-family=\"Helvetica,sans-Serif\" font-size=\"14.00\">class = Down</text>\r\n",
       "</g>\r\n",
       "<!-- 33&#45;&gt;41 -->\r\n",
       "<g id=\"edge21\" class=\"edge\">\r\n",
       "<title>33&#45;&gt;41</title>\r\n",
       "<path fill=\"none\" stroke=\"black\" d=\"M822.49,-190.91C828.95,-182.01 835.86,-172.51 842.52,-163.33\"/>\r\n",
       "<polygon fill=\"black\" stroke=\"black\" points=\"845.52,-165.17 848.56,-155.02 839.85,-161.05 845.52,-165.17\"/>\r\n",
       "</g>\r\n",
       "<!-- 35 -->\r\n",
       "<g id=\"node20\" class=\"node\">\r\n",
       "<title>35</title>\r\n",
       "<path fill=\"#c0c0c0\" stroke=\"black\" d=\"M687,-36C687,-36 657,-36 657,-36 651,-36 645,-30 645,-24 645,-24 645,-12 645,-12 645,-6 651,0 657,0 657,0 687,0 687,0 693,0 699,-6 699,-12 699,-12 699,-24 699,-24 699,-30 693,-36 687,-36\"/>\r\n",
       "<text text-anchor=\"middle\" x=\"672\" y=\"-14.3\" font-family=\"Helvetica,sans-Serif\" font-size=\"14.00\">(...)</text>\r\n",
       "</g>\r\n",
       "<!-- 34&#45;&gt;35 -->\r\n",
       "<g id=\"edge19\" class=\"edge\">\r\n",
       "<title>34&#45;&gt;35</title>\r\n",
       "<path fill=\"none\" stroke=\"black\" d=\"M692.88,-71.76C689.39,-62.94 685.79,-53.84 682.58,-45.72\"/>\r\n",
       "<polygon fill=\"black\" stroke=\"black\" points=\"685.82,-44.42 678.89,-36.41 679.31,-46.99 685.82,-44.42\"/>\r\n",
       "</g>\r\n",
       "<!-- 38 -->\r\n",
       "<g id=\"node21\" class=\"node\">\r\n",
       "<title>38</title>\r\n",
       "<path fill=\"#c0c0c0\" stroke=\"black\" d=\"M759,-36C759,-36 729,-36 729,-36 723,-36 717,-30 717,-24 717,-24 717,-12 717,-12 717,-6 723,0 729,0 729,0 759,0 759,0 765,0 771,-6 771,-12 771,-12 771,-24 771,-24 771,-30 765,-36 759,-36\"/>\r\n",
       "<text text-anchor=\"middle\" x=\"744\" y=\"-14.3\" font-family=\"Helvetica,sans-Serif\" font-size=\"14.00\">(...)</text>\r\n",
       "</g>\r\n",
       "<!-- 34&#45;&gt;38 -->\r\n",
       "<g id=\"edge20\" class=\"edge\">\r\n",
       "<title>34&#45;&gt;38</title>\r\n",
       "<path fill=\"none\" stroke=\"black\" d=\"M724.25,-71.76C727.51,-63.04 730.88,-54.04 733.9,-45.99\"/>\r\n",
       "<polygon fill=\"black\" stroke=\"black\" points=\"737.26,-47 737.48,-36.41 730.7,-44.54 737.26,-47\"/>\r\n",
       "</g>\r\n",
       "<!-- 42 -->\r\n",
       "<g id=\"node23\" class=\"node\">\r\n",
       "<title>42</title>\r\n",
       "<path fill=\"#c0c0c0\" stroke=\"black\" d=\"M835,-36C835,-36 805,-36 805,-36 799,-36 793,-30 793,-24 793,-24 793,-12 793,-12 793,-6 799,0 805,0 805,0 835,0 835,0 841,0 847,-6 847,-12 847,-12 847,-24 847,-24 847,-30 841,-36 835,-36\"/>\r\n",
       "<text text-anchor=\"middle\" x=\"820\" y=\"-14.3\" font-family=\"Helvetica,sans-Serif\" font-size=\"14.00\">(...)</text>\r\n",
       "</g>\r\n",
       "<!-- 41&#45;&gt;42 -->\r\n",
       "<g id=\"edge22\" class=\"edge\">\r\n",
       "<title>41&#45;&gt;42</title>\r\n",
       "<path fill=\"none\" stroke=\"black\" d=\"M852.73,-71.76C847.08,-62.65 841.24,-53.24 836.08,-44.92\"/>\r\n",
       "<polygon fill=\"black\" stroke=\"black\" points=\"839.04,-43.06 830.8,-36.41 833.09,-46.75 839.04,-43.06\"/>\r\n",
       "</g>\r\n",
       "<!-- 45 -->\r\n",
       "<g id=\"node24\" class=\"node\">\r\n",
       "<title>45</title>\r\n",
       "<path fill=\"#c0c0c0\" stroke=\"black\" d=\"M907,-36C907,-36 877,-36 877,-36 871,-36 865,-30 865,-24 865,-24 865,-12 865,-12 865,-6 871,0 877,0 877,0 907,0 907,0 913,0 919,-6 919,-12 919,-12 919,-24 919,-24 919,-30 913,-36 907,-36\"/>\r\n",
       "<text text-anchor=\"middle\" x=\"892\" y=\"-14.3\" font-family=\"Helvetica,sans-Serif\" font-size=\"14.00\">(...)</text>\r\n",
       "</g>\r\n",
       "<!-- 41&#45;&gt;45 -->\r\n",
       "<g id=\"edge23\" class=\"edge\">\r\n",
       "<title>41&#45;&gt;45</title>\r\n",
       "<path fill=\"none\" stroke=\"black\" d=\"M884.1,-71.76C885.38,-63.24 886.69,-54.44 887.88,-46.53\"/>\r\n",
       "<polygon fill=\"black\" stroke=\"black\" points=\"891.37,-46.81 889.39,-36.41 884.45,-45.78 891.37,-46.81\"/>\r\n",
       "</g>\r\n",
       "<!-- 49 -->\r\n",
       "<g id=\"node26\" class=\"node\">\r\n",
       "<title>49</title>\r\n",
       "<path fill=\"#f7d7c0\" stroke=\"black\" d=\"M1112,-155C1112,-155 990,-155 990,-155 984,-155 978,-149 978,-143 978,-143 978,-84 978,-84 978,-78 984,-72 990,-72 990,-72 1112,-72 1112,-72 1118,-72 1124,-78 1124,-84 1124,-84 1124,-143 1124,-143 1124,-149 1118,-155 1112,-155\"/>\r\n",
       "<text text-anchor=\"start\" x=\"990.5\" y=\"-139.8\" font-family=\"Helvetica,sans-Serif\" font-size=\"14.00\">return_6m ≤ &#45;0.084</text>\r\n",
       "<text text-anchor=\"start\" x=\"1013.5\" y=\"-124.8\" font-family=\"Helvetica,sans-Serif\" font-size=\"14.00\">gini = 0.482</text>\r\n",
       "<text text-anchor=\"start\" x=\"999.5\" y=\"-109.8\" font-family=\"Helvetica,sans-Serif\" font-size=\"14.00\">samples = 6943</text>\r\n",
       "<text text-anchor=\"start\" x=\"986\" y=\"-94.8\" font-family=\"Helvetica,sans-Serif\" font-size=\"14.00\">value = [4124, 2819]</text>\r\n",
       "<text text-anchor=\"start\" x=\"1008.5\" y=\"-79.8\" font-family=\"Helvetica,sans-Serif\" font-size=\"14.00\">class = Down</text>\r\n",
       "</g>\r\n",
       "<!-- 48&#45;&gt;49 -->\r\n",
       "<g id=\"edge25\" class=\"edge\">\r\n",
       "<title>48&#45;&gt;49</title>\r\n",
       "<path fill=\"none\" stroke=\"black\" d=\"M1051,-190.91C1051,-182.65 1051,-173.86 1051,-165.3\"/>\r\n",
       "<polygon fill=\"black\" stroke=\"black\" points=\"1054.5,-165.02 1051,-155.02 1047.5,-165.02 1054.5,-165.02\"/>\r\n",
       "</g>\r\n",
       "<!-- 56 -->\r\n",
       "<g id=\"node29\" class=\"node\">\r\n",
       "<title>56</title>\r\n",
       "<path fill=\"#eca470\" stroke=\"black\" d=\"M1267.5,-155C1267.5,-155 1154.5,-155 1154.5,-155 1148.5,-155 1142.5,-149 1142.5,-143 1142.5,-143 1142.5,-84 1142.5,-84 1142.5,-78 1148.5,-72 1154.5,-72 1154.5,-72 1267.5,-72 1267.5,-72 1273.5,-72 1279.5,-78 1279.5,-84 1279.5,-84 1279.5,-143 1279.5,-143 1279.5,-149 1273.5,-155 1267.5,-155\"/>\r\n",
       "<text text-anchor=\"start\" x=\"1150.5\" y=\"-139.8\" font-family=\"Helvetica,sans-Serif\" font-size=\"14.00\">return_1m ≤ &#45;0.139</text>\r\n",
       "<text text-anchor=\"start\" x=\"1173.5\" y=\"-124.8\" font-family=\"Helvetica,sans-Serif\" font-size=\"14.00\">gini = 0.341</text>\r\n",
       "<text text-anchor=\"start\" x=\"1163.5\" y=\"-109.8\" font-family=\"Helvetica,sans-Serif\" font-size=\"14.00\">samples = 363</text>\r\n",
       "<text text-anchor=\"start\" x=\"1158\" y=\"-94.8\" font-family=\"Helvetica,sans-Serif\" font-size=\"14.00\">value = [284, 79]</text>\r\n",
       "<text text-anchor=\"start\" x=\"1168.5\" y=\"-79.8\" font-family=\"Helvetica,sans-Serif\" font-size=\"14.00\">class = Down</text>\r\n",
       "</g>\r\n",
       "<!-- 48&#45;&gt;56 -->\r\n",
       "<g id=\"edge28\" class=\"edge\">\r\n",
       "<title>48&#45;&gt;56</title>\r\n",
       "<path fill=\"none\" stroke=\"black\" d=\"M1106.51,-190.91C1119.67,-181.29 1133.8,-170.95 1147.29,-161.09\"/>\r\n",
       "<polygon fill=\"black\" stroke=\"black\" points=\"1149.58,-163.75 1155.59,-155.02 1145.45,-158.1 1149.58,-163.75\"/>\r\n",
       "</g>\r\n",
       "<!-- 50 -->\r\n",
       "<g id=\"node27\" class=\"node\">\r\n",
       "<title>50</title>\r\n",
       "<path fill=\"#c0c0c0\" stroke=\"black\" d=\"M1020,-36C1020,-36 990,-36 990,-36 984,-36 978,-30 978,-24 978,-24 978,-12 978,-12 978,-6 984,0 990,0 990,0 1020,0 1020,0 1026,0 1032,-6 1032,-12 1032,-12 1032,-24 1032,-24 1032,-30 1026,-36 1020,-36\"/>\r\n",
       "<text text-anchor=\"middle\" x=\"1005\" y=\"-14.3\" font-family=\"Helvetica,sans-Serif\" font-size=\"14.00\">(...)</text>\r\n",
       "</g>\r\n",
       "<!-- 49&#45;&gt;50 -->\r\n",
       "<g id=\"edge26\" class=\"edge\">\r\n",
       "<title>49&#45;&gt;50</title>\r\n",
       "<path fill=\"none\" stroke=\"black\" d=\"M1030.96,-71.76C1026.57,-62.85 1022.04,-53.64 1018.02,-45.46\"/>\r\n",
       "<polygon fill=\"black\" stroke=\"black\" points=\"1021.12,-43.83 1013.56,-36.41 1014.84,-46.92 1021.12,-43.83\"/>\r\n",
       "</g>\r\n",
       "<!-- 53 -->\r\n",
       "<g id=\"node28\" class=\"node\">\r\n",
       "<title>53</title>\r\n",
       "<path fill=\"#c0c0c0\" stroke=\"black\" d=\"M1092,-36C1092,-36 1062,-36 1062,-36 1056,-36 1050,-30 1050,-24 1050,-24 1050,-12 1050,-12 1050,-6 1056,0 1062,0 1062,0 1092,0 1092,0 1098,0 1104,-6 1104,-12 1104,-12 1104,-24 1104,-24 1104,-30 1098,-36 1092,-36\"/>\r\n",
       "<text text-anchor=\"middle\" x=\"1077\" y=\"-14.3\" font-family=\"Helvetica,sans-Serif\" font-size=\"14.00\">(...)</text>\r\n",
       "</g>\r\n",
       "<!-- 49&#45;&gt;53 -->\r\n",
       "<g id=\"edge27\" class=\"edge\">\r\n",
       "<title>49&#45;&gt;53</title>\r\n",
       "<path fill=\"none\" stroke=\"black\" d=\"M1062.33,-71.76C1064.73,-63.14 1067.2,-54.24 1069.42,-46.26\"/>\r\n",
       "<polygon fill=\"black\" stroke=\"black\" points=\"1072.85,-46.98 1072.16,-36.41 1066.11,-45.1 1072.85,-46.98\"/>\r\n",
       "</g>\r\n",
       "<!-- 57 -->\r\n",
       "<g id=\"node30\" class=\"node\">\r\n",
       "<title>57</title>\r\n",
       "<path fill=\"#c0c0c0\" stroke=\"black\" d=\"M1190,-36C1190,-36 1160,-36 1160,-36 1154,-36 1148,-30 1148,-24 1148,-24 1148,-12 1148,-12 1148,-6 1154,0 1160,0 1160,0 1190,0 1190,0 1196,0 1202,-6 1202,-12 1202,-12 1202,-24 1202,-24 1202,-30 1196,-36 1190,-36\"/>\r\n",
       "<text text-anchor=\"middle\" x=\"1175\" y=\"-14.3\" font-family=\"Helvetica,sans-Serif\" font-size=\"14.00\">(...)</text>\r\n",
       "</g>\r\n",
       "<!-- 56&#45;&gt;57 -->\r\n",
       "<g id=\"edge29\" class=\"edge\">\r\n",
       "<title>56&#45;&gt;57</title>\r\n",
       "<path fill=\"none\" stroke=\"black\" d=\"M1195.31,-71.76C1191.96,-63.04 1188.49,-54.04 1185.39,-45.99\"/>\r\n",
       "<polygon fill=\"black\" stroke=\"black\" points=\"1188.56,-44.48 1181.7,-36.41 1182.03,-46.99 1188.56,-44.48\"/>\r\n",
       "</g>\r\n",
       "<!-- 60 -->\r\n",
       "<g id=\"node31\" class=\"node\">\r\n",
       "<title>60</title>\r\n",
       "<path fill=\"#c0c0c0\" stroke=\"black\" d=\"M1262,-36C1262,-36 1232,-36 1232,-36 1226,-36 1220,-30 1220,-24 1220,-24 1220,-12 1220,-12 1220,-6 1226,0 1232,0 1232,0 1262,0 1262,0 1268,0 1274,-6 1274,-12 1274,-12 1274,-24 1274,-24 1274,-30 1268,-36 1262,-36\"/>\r\n",
       "<text text-anchor=\"middle\" x=\"1247\" y=\"-14.3\" font-family=\"Helvetica,sans-Serif\" font-size=\"14.00\">(...)</text>\r\n",
       "</g>\r\n",
       "<!-- 56&#45;&gt;60 -->\r\n",
       "<g id=\"edge30\" class=\"edge\">\r\n",
       "<title>56&#45;&gt;60</title>\r\n",
       "<path fill=\"none\" stroke=\"black\" d=\"M1226.69,-71.76C1230.04,-63.04 1233.51,-54.04 1236.61,-45.99\"/>\r\n",
       "<polygon fill=\"black\" stroke=\"black\" points=\"1239.97,-46.99 1240.3,-36.41 1233.44,-44.48 1239.97,-46.99\"/>\r\n",
       "</g>\r\n",
       "</g>\r\n",
       "</svg>\r\n"
      ],
      "text/plain": [
       "<graphviz.files.Source at 0x2b031379880>"
      ]
     },
     "execution_count": 57,
     "metadata": {},
     "output_type": "execute_result"
    }
   ],
   "source": [
    "out_file = results_path / 'clf_tree.dot'\n",
    "dot_data = export_graphviz(clf,\n",
    "                           out_file=out_file.as_posix(),\n",
    "                           feature_names=X.columns,\n",
    "                           class_names=['Down', 'Up'],\n",
    "                           max_depth=3,\n",
    "                           filled=True,\n",
    "                           rounded=True,\n",
    "                           special_characters=True)\n",
    "if out_file is not None:\n",
    "    dot_data = Path(out_file).read_text()\n",
    "\n",
    "graphviz.Source(dot_data)"
   ]
  },
  {
   "cell_type": "markdown",
   "metadata": {},
   "source": [
    "### Evaluate Test Set"
   ]
  },
  {
   "cell_type": "markdown",
   "metadata": {},
   "source": [
    "To evaluate the predictive accuracy of our first classification tree, we will use our test set to generate predicted class probabilities. \n",
    "\n",
    "The `.predict_proba()` method produces one probability for each class. In the binary class, these probabilities are complementary and sum to 1, so we only need the value for the positive class. "
   ]
  },
  {
   "cell_type": "code",
   "execution_count": 58,
   "metadata": {
    "ExecuteTime": {
     "end_time": "2021-04-16T00:33:36.270863Z",
     "start_time": "2021-04-16T00:33:36.262990Z"
    }
   },
   "outputs": [],
   "source": [
    "y_score = clf.predict_proba(X=X_test)[:, 1]"
   ]
  },
  {
   "cell_type": "markdown",
   "metadata": {},
   "source": [
    "To evaluate the generalization error, we will use the area under the curve based on the receiver-operating characteristic that we introduced in Chapter 6, The Machine Learning Process. The result indicates a significant improvement above and beyond the baseline value of 0.5 for a random prediction:"
   ]
  },
  {
   "cell_type": "code",
   "execution_count": 59,
   "metadata": {
    "ExecuteTime": {
     "end_time": "2021-04-16T00:33:36.283613Z",
     "start_time": "2021-04-16T00:33:36.272140Z"
    }
   },
   "outputs": [
    {
     "data": {
      "text/plain": [
       "0.5960789260337317"
      ]
     },
     "execution_count": 59,
     "metadata": {},
     "output_type": "execute_result"
    }
   ],
   "source": [
    "roc_auc_score(y_score=y_score, y_true=y_test)"
   ]
  },
  {
   "cell_type": "markdown",
   "metadata": {},
   "source": [
    "### Print Decision Path"
   ]
  },
  {
   "cell_type": "markdown",
   "metadata": {},
   "source": [
    "Inspired by https://stackoverflow.com/questions/20224526/how-to-extract-the-decision-rules-from-scikit-learn-decision-tree"
   ]
  },
  {
   "cell_type": "code",
   "execution_count": 60,
   "metadata": {
    "ExecuteTime": {
     "end_time": "2021-04-16T00:33:36.294116Z",
     "start_time": "2021-04-16T00:33:36.284877Z"
    }
   },
   "outputs": [
    {
     "name": "stdout",
     "output_type": "stream",
     "text": [
      "Help on class Tree in module sklearn.tree._tree:\n",
      "\n",
      "class Tree(builtins.object)\n",
      " |  Array-based representation of a binary decision tree.\n",
      " |  \n",
      " |  The binary tree is represented as a number of parallel arrays. The i-th\n",
      " |  element of each array holds information about the node `i`. Node 0 is the\n",
      " |  tree's root. You can find a detailed description of all arrays in\n",
      " |  `_tree.pxd`. NOTE: Some of the arrays only apply to either leaves or split\n",
      " |  nodes, resp. In this case the values of nodes of the other type are\n",
      " |  arbitrary!\n",
      " |  \n",
      " |  Attributes\n",
      " |  ----------\n",
      " |  node_count : int\n",
      " |      The number of nodes (internal nodes + leaves) in the tree.\n",
      " |  \n",
      " |  capacity : int\n",
      " |      The current capacity (i.e., size) of the arrays, which is at least as\n",
      " |      great as `node_count`.\n",
      " |  \n",
      " |  max_depth : int\n",
      " |      The depth of the tree, i.e. the maximum depth of its leaves.\n",
      " |  \n",
      " |  children_left : array of int, shape [node_count]\n",
      " |      children_left[i] holds the node id of the left child of node i.\n",
      " |      For leaves, children_left[i] == TREE_LEAF. Otherwise,\n",
      " |      children_left[i] > i. This child handles the case where\n",
      " |      X[:, feature[i]] <= threshold[i].\n",
      " |  \n",
      " |  children_right : array of int, shape [node_count]\n",
      " |      children_right[i] holds the node id of the right child of node i.\n",
      " |      For leaves, children_right[i] == TREE_LEAF. Otherwise,\n",
      " |      children_right[i] > i. This child handles the case where\n",
      " |      X[:, feature[i]] > threshold[i].\n",
      " |  \n",
      " |  feature : array of int, shape [node_count]\n",
      " |      feature[i] holds the feature to split on, for the internal node i.\n",
      " |  \n",
      " |  threshold : array of double, shape [node_count]\n",
      " |      threshold[i] holds the threshold for the internal node i.\n",
      " |  \n",
      " |  value : array of double, shape [node_count, n_outputs, max_n_classes]\n",
      " |      Contains the constant prediction value of each node.\n",
      " |  \n",
      " |  impurity : array of double, shape [node_count]\n",
      " |      impurity[i] holds the impurity (i.e., the value of the splitting\n",
      " |      criterion) at node i.\n",
      " |  \n",
      " |  n_node_samples : array of int, shape [node_count]\n",
      " |      n_node_samples[i] holds the number of training samples reaching node i.\n",
      " |  \n",
      " |  weighted_n_node_samples : array of int, shape [node_count]\n",
      " |      weighted_n_node_samples[i] holds the weighted number of training samples\n",
      " |      reaching node i.\n",
      " |  \n",
      " |  Methods defined here:\n",
      " |  \n",
      " |  __getstate__(...)\n",
      " |      Getstate re-implementation, for pickling.\n",
      " |  \n",
      " |  __reduce__(...)\n",
      " |      Reduce re-implementation, for pickling.\n",
      " |  \n",
      " |  __setstate__(...)\n",
      " |      Setstate re-implementation, for unpickling.\n",
      " |  \n",
      " |  apply(...)\n",
      " |      Finds the terminal region (=leaf node) for each sample in X.\n",
      " |  \n",
      " |  compute_feature_importances(...)\n",
      " |      Computes the importance of each feature (aka variable).\n",
      " |  \n",
      " |  compute_partial_dependence(...)\n",
      " |      Partial dependence of the response on the ``target_feature`` set.\n",
      " |      \n",
      " |      For each sample in ``X`` a tree traversal is performed.\n",
      " |      Each traversal starts from the root with weight 1.0.\n",
      " |      \n",
      " |      At each non-leaf node that splits on a target feature, either\n",
      " |      the left child or the right child is visited based on the feature\n",
      " |      value of the current sample, and the weight is not modified.\n",
      " |      At each non-leaf node that splits on a complementary feature,\n",
      " |      both children are visited and the weight is multiplied by the fraction\n",
      " |      of training samples which went to each child.\n",
      " |      \n",
      " |      At each leaf, the value of the node is multiplied by the current\n",
      " |      weight (weights sum to 1 for all visited terminal nodes).\n",
      " |      \n",
      " |      Parameters\n",
      " |      ----------\n",
      " |      X : view on 2d ndarray, shape (n_samples, n_target_features)\n",
      " |          The grid points on which the partial dependence should be\n",
      " |          evaluated.\n",
      " |      target_features : view on 1d ndarray, shape (n_target_features)\n",
      " |          The set of target features for which the partial dependence\n",
      " |          should be evaluated.\n",
      " |      out : view on 1d ndarray, shape (n_samples)\n",
      " |          The value of the partial dependence function on each grid\n",
      " |          point.\n",
      " |  \n",
      " |  decision_path(...)\n",
      " |      Finds the decision path (=node) for each sample in X.\n",
      " |  \n",
      " |  predict(...)\n",
      " |      Predict target for X.\n",
      " |  \n",
      " |  ----------------------------------------------------------------------\n",
      " |  Static methods defined here:\n",
      " |  \n",
      " |  __new__(*args, **kwargs) from builtins.type\n",
      " |      Create and return a new object.  See help(type) for accurate signature.\n",
      " |  \n",
      " |  ----------------------------------------------------------------------\n",
      " |  Data descriptors defined here:\n",
      " |  \n",
      " |  capacity\n",
      " |  \n",
      " |  children_left\n",
      " |  \n",
      " |  children_right\n",
      " |  \n",
      " |  feature\n",
      " |  \n",
      " |  impurity\n",
      " |  \n",
      " |  max_depth\n",
      " |  \n",
      " |  max_n_classes\n",
      " |  \n",
      " |  n_classes\n",
      " |  \n",
      " |  n_features\n",
      " |  \n",
      " |  n_leaves\n",
      " |  \n",
      " |  n_node_samples\n",
      " |  \n",
      " |  n_outputs\n",
      " |  \n",
      " |  node_count\n",
      " |  \n",
      " |  threshold\n",
      " |  \n",
      " |  value\n",
      " |  \n",
      " |  weighted_n_node_samples\n",
      " |  \n",
      " |  ----------------------------------------------------------------------\n",
      " |  Data and other attributes defined here:\n",
      " |  \n",
      " |  __pyx_vtable__ = <capsule object NULL>\n",
      "\n"
     ]
    }
   ],
   "source": [
    "from sklearn.tree._tree import Tree\n",
    "help(Tree)"
   ]
  },
  {
   "cell_type": "code",
   "execution_count": 61,
   "metadata": {
    "ExecuteTime": {
     "end_time": "2021-04-16T00:33:36.302800Z",
     "start_time": "2021-04-16T00:33:36.295041Z"
    }
   },
   "outputs": [],
   "source": [
    "def tree_to_code(tree, feature_names):\n",
    "    if isinstance(tree, DecisionTreeClassifier):\n",
    "        model = 'clf'\n",
    "    elif isinstance(tree, DecisionTreeRegressor):\n",
    "        model = 'reg'\n",
    "    else:\n",
    "        raise ValueError('Need Regression or Classification Tree')\n",
    "        \n",
    "    tree_ = tree.tree_\n",
    "    feature_name = [\n",
    "        feature_names[i] if i != _tree.TREE_UNDEFINED else \"undefined!\"\n",
    "        for i in tree_.feature\n",
    "    ]\n",
    "    print(\"def tree({}):\".format(\", \".join(feature_names)))\n",
    "\n",
    "    def recurse(node, depth):\n",
    "        indent = \"  \" * depth\n",
    "        if tree_.feature[node] != _tree.TREE_UNDEFINED:\n",
    "            name = feature_name[node]\n",
    "            threshold = tree_.threshold[node]\n",
    "            print(indent, f'if {name} <= {threshold:.2%}')\n",
    "            recurse(tree_.children_left[node], depth + 1)\n",
    "            print(indent, f'else:  # if {name} > {threshold:.2%}')\n",
    "            recurse(tree_.children_right[node], depth + 1)\n",
    "        else:\n",
    "            pred = tree_.value[node][0]\n",
    "            val = pred[1]/sum(pred) if model == 'clf' else pred[0]\n",
    "            print(indent, f'return {val:.2%}')\n",
    "    recurse(0, 1)"
   ]
  },
  {
   "cell_type": "code",
   "execution_count": 62,
   "metadata": {
    "ExecuteTime": {
     "end_time": "2021-04-16T00:33:36.322605Z",
     "start_time": "2021-04-16T00:33:36.304005Z"
    }
   },
   "outputs": [
    {
     "name": "stdout",
     "output_type": "stream",
     "text": [
      "def tree(t-1, t-2):\n",
      "   if t-1 <= 29.27%\n",
      "     if t-1 <= 10.97%\n",
      "       if t-2 <= -33.26%\n",
      "         return 61.07%\n",
      "       else:  # if t-2 > -33.26%\n",
      "         if t-1 <= -25.48%\n",
      "           if t-2 <= -5.71%\n",
      "             return 62.47%\n",
      "           else:  # if t-2 > -5.71%\n",
      "             return 51.67%\n",
      "         else:  # if t-1 > -25.48%\n",
      "           if t-1 <= -25.22%\n",
      "             return 22.22%\n",
      "           else:  # if t-1 > -25.22%\n",
      "             return 49.71%\n",
      "     else:  # if t-1 > 10.97%\n",
      "       if t-2 <= 37.82%\n",
      "         if t-1 <= 11.07%\n",
      "           return 31.53%\n",
      "         else:  # if t-1 > 11.07%\n",
      "           if t-1 <= 28.79%\n",
      "             return 47.31%\n",
      "           else:  # if t-1 > 28.79%\n",
      "             return 60.00%\n",
      "       else:  # if t-2 > 37.82%\n",
      "         return 32.59%\n",
      "   else:  # if t-1 > 29.27%\n",
      "     if t-1 <= 42.71%\n",
      "       if t-1 <= 42.31%\n",
      "         if t-1 <= 29.47%\n",
      "           return 24.39%\n",
      "         else:  # if t-1 > 29.47%\n",
      "           if t-1 <= 29.51%\n",
      "             return 86.67%\n",
      "           else:  # if t-1 > 29.51%\n",
      "             return 43.60%\n",
      "       else:  # if t-1 > 42.31%\n",
      "         return 65.00%\n",
      "     else:  # if t-1 > 42.71%\n",
      "       if t-2 <= -7.17%\n",
      "         return 29.78%\n",
      "       else:  # if t-2 > -7.17%\n",
      "         return 39.35%\n"
     ]
    }
   ],
   "source": [
    "tree_to_code(clf_tree_t2, X2.columns)"
   ]
  },
  {
   "cell_type": "markdown",
   "metadata": {},
   "source": [
    "## Overfitting, Regularization & Parameter Tuning"
   ]
  },
  {
   "cell_type": "markdown",
   "metadata": {},
   "source": [
    "Decision trees have a strong tendency to overfit, especially when a dataset has a large number of features relative to the number of samples. As discussed in previous chapters, overfitting increases the prediction error because the model does not only learn the signal contained in the training data, but also the noise.\n",
    "There are several ways to address the risk of overfitting."
   ]
  },
  {
   "cell_type": "markdown",
   "metadata": {},
   "source": [
    "Decision trees provide several regularization hyperparameters to limit the growth of a tree and the associated complexity. While every split increases the number of nodes, it also reduces the number of samples available per node to support a prediction. For each additional level, twice the number of samples is needed to populate the new nodes with the same sample density. "
   ]
  },
  {
   "cell_type": "markdown",
   "metadata": {},
   "source": [
    "### Decision Tree Parameters"
   ]
  },
  {
   "cell_type": "markdown",
   "metadata": {},
   "source": [
    "The following table lists key parameters available for this purpose in the sklearn decision tree implementation. After introducing the most important parameters, we will illustrate how to use cross-validation to optimize the hyperparameter settings with respect to the bias-variance tradeoff and lower prediction errors:"
   ]
  },
  {
   "cell_type": "markdown",
   "metadata": {},
   "source": [
    "| Parameter                | Default | Options                                                                                                                                                               | Description                                                                                                                                                                                                             |\n",
    "|--------------------------|---------|-----------------------------------------------------------------------------------------------------------------------------------------------------------------------|-------------------------------------------------------------------------------------------------------------------------------------------------------------------------------------------------------------------------|\n",
    "| criterion                | gini    | Regression: MSE, MAE Classification: Gini impurity, Cross Entropy                                                                                                     | Metric to evaluate split quality.                                                                                                                                                                                       |\n",
    "| splitter                 | best    | best, random                                                                                                                                                          | How to choose the split at each node. Supported strategies are “best” to choose the best split and “random” to choose the best random split.                                                                            |\n",
    "| max_depth                | None    | int                                                                                                                                                                   | Max # of levels in tree. Split nodes until max_depth is reached or all leaves are pure or all leaves contain less than min_samples_split samples.                                                                       |\n",
    "| max_features             | None    | None: max_features=n_features; int; float (fraction): int(max_features * n_features)  auto, sqrt: max_features=sqrt(n_features). log2: max_features=log2(n_features). | # of features to consider when evaluating split                                                                                                                                                                         |\n",
    "| max_leaf_nodes           | None    | None: unlimited # of leaf nodes int                                                                                                                                   | Continue to split nodes that reduce relative impurity the most until reaching max_leaf_nodes.                                                                                                                           |\n",
    "| min_impurity_decrease    | 0       | float                                                                                                                                                                 | Split node if impurity decreases by at least this value.                                                                                                                                                                |\n",
    "| min_samples_leaf         | 1       | int; float (as percentage of N)                                                                                                                                       | Minimum # of samples to be at a leaf node. A split will only be considered if there are at least min_samples_leaf training samples in each of the left and right branches. May smoothen the model, esp. for regression. |\n",
    "| min_samples_split        | 2       | int; float (as percentage of N)                                                                                                                                       | The minimum number of samples required to split an internal node:                                                                                                                                                       |\n",
    "| min_weight_fraction_leaf | 0       | NA                                                                                                                                                                    | The minimum weighted fraction of the sum total of weights (of all the input samples) required to be at a leaf node. Samples have equal weight when sample_weight is not provided (in fit method).                       |\n",
    "| class_weight             | None    | balanced: inversely proportional to class frequencies dict: {class_label: weight} list of dicts (for multi-output)                                                    | Weights associated with classes                                                                                                                                                                                         |"
   ]
  },
  {
   "cell_type": "markdown",
   "metadata": {},
   "source": [
    "The `max_depth` parameter imposes a hard limit on the number of consecutive splits and represents the most straightforward way to cap the growth of a tree.\n",
    "\n",
    "The m`in_samples_split` and `min_samples_leaf` parameters are alternative, data-driven ways to limit the growth of a tree. Rather than imposing a hard limit on the number of consecutive splits, these parameters control the minimum number of samples required to further split the data. The latter guarantees a certain number of samples per leaf, while the former can create very small leaves if a split results in a very uneven distribution. Small parameter values facilitate overfitting, while a high number may prevent the tree from learning the signal in the data. \n",
    "\n",
    "The default values are often quite low, and you should use cross-validation to explore a range of potential values. You can also use a float to indicate a percentage as opposed to an absolute number. "
   ]
  },
  {
   "cell_type": "markdown",
   "metadata": {},
   "source": [
    "### Cross-validation parameters"
   ]
  },
  {
   "cell_type": "code",
   "execution_count": 63,
   "metadata": {
    "ExecuteTime": {
     "end_time": "2021-04-16T00:33:36.328359Z",
     "start_time": "2021-04-16T00:33:36.323742Z"
    }
   },
   "outputs": [],
   "source": [
    "n_splits = 10\n",
    "train_period_length = 60\n",
    "test_period_length = 6\n",
    "lookahead = 1\n",
    "\n",
    "cv = MultipleTimeSeriesCV(n_splits=n_splits,\n",
    "                          train_period_length=train_period_length,\n",
    "                          test_period_length=test_period_length,\n",
    "                          lookahead=lookahead)"
   ]
  },
  {
   "cell_type": "code",
   "execution_count": 64,
   "metadata": {
    "ExecuteTime": {
     "end_time": "2021-04-16T00:33:36.334074Z",
     "start_time": "2021-04-16T00:33:36.329663Z"
    }
   },
   "outputs": [],
   "source": [
    "max_depths = range(1, 16)"
   ]
  },
  {
   "cell_type": "markdown",
   "metadata": {},
   "source": [
    "### Finding the best trees using GridSearchCV"
   ]
  },
  {
   "cell_type": "markdown",
   "metadata": {},
   "source": [
    "scikit-learn provides a method to define ranges of values for multiple hyperparameters. It automates the process of cross-validating the various combinations of these parameter values to identify the optimal configuration. Let's walk through the process of automatically tuning your model."
   ]
  },
  {
   "cell_type": "markdown",
   "metadata": {},
   "source": [
    "#### Define parameter grid"
   ]
  },
  {
   "cell_type": "markdown",
   "metadata": {},
   "source": [
    "The first step is to define a dictionary where the keywords name the hyperparameters, and the values list the parameter settings to be tested:"
   ]
  },
  {
   "cell_type": "code",
   "execution_count": 65,
   "metadata": {
    "ExecuteTime": {
     "end_time": "2021-04-16T00:33:36.346973Z",
     "start_time": "2021-04-16T00:33:36.335032Z"
    }
   },
   "outputs": [],
   "source": [
    "param_grid = {'max_depth': [2, 3, 4, 5, 6, 7, 8, 10, 12, 15],\n",
    "              'min_samples_leaf': [5, 25, 50, 100],\n",
    "              'max_features': ['sqrt', 'auto']}"
   ]
  },
  {
   "cell_type": "markdown",
   "metadata": {},
   "source": [
    "#### Classification Tree"
   ]
  },
  {
   "cell_type": "markdown",
   "metadata": {},
   "source": [
    "Then, we instantiate a model object:"
   ]
  },
  {
   "cell_type": "code",
   "execution_count": 66,
   "metadata": {
    "ExecuteTime": {
     "end_time": "2021-04-16T00:33:36.354743Z",
     "start_time": "2021-04-16T00:33:36.348117Z"
    }
   },
   "outputs": [],
   "source": [
    "clf = DecisionTreeClassifier(random_state=42)"
   ]
  },
  {
   "cell_type": "markdown",
   "metadata": {},
   "source": [
    "Now we instantiate the GridSearchCV object, providing the estimator object and parameter grid, as well as a scoring method and cross-validation choice to the initialization method. We'll use an object of our custom OneStepTimeSeriesSplit class, initialized to use ten folds for the cv parameter, and set the scoring to the roc_auc metric. We can parallelize the search using the n_jobs parameter and automatically obtain a trained model that uses the optimal hyperparameters by setting `refit=True`."
   ]
  },
  {
   "cell_type": "code",
   "execution_count": 67,
   "metadata": {
    "ExecuteTime": {
     "end_time": "2021-04-16T00:33:36.363000Z",
     "start_time": "2021-04-16T00:33:36.355848Z"
    }
   },
   "outputs": [],
   "source": [
    "gridsearch_clf = GridSearchCV(estimator=clf,\n",
    "                          param_grid=param_grid,\n",
    "                          scoring='roc_auc',\n",
    "                          n_jobs=-1,\n",
    "                          cv=cv,\n",
    "                          refit=True,\n",
    "                          return_train_score=True)"
   ]
  },
  {
   "cell_type": "markdown",
   "metadata": {},
   "source": [
    "With all settings in place, we can fit GridSearchCV just like any other model:"
   ]
  },
  {
   "cell_type": "code",
   "execution_count": 68,
   "metadata": {
    "ExecuteTime": {
     "end_time": "2021-04-16T00:33:53.853282Z",
     "start_time": "2021-04-16T00:33:36.364001Z"
    }
   },
   "outputs": [
    {
     "data": {
      "text/plain": [
       "GridSearchCV(cv=<utils.MultipleTimeSeriesCV object at 0x000002B032A7C310>,\n",
       "             estimator=DecisionTreeClassifier(random_state=42), n_jobs=-1,\n",
       "             param_grid={'max_depth': [2, 3, 4, 5, 6, 7, 8, 10, 12, 15],\n",
       "                         'max_features': ['sqrt', 'auto'],\n",
       "                         'min_samples_leaf': [5, 25, 50, 100]},\n",
       "             return_train_score=True, scoring='roc_auc')"
      ]
     },
     "execution_count": 68,
     "metadata": {},
     "output_type": "execute_result"
    }
   ],
   "source": [
    "gridsearch_clf.fit(X=X, y=y_binary)"
   ]
  },
  {
   "cell_type": "markdown",
   "metadata": {},
   "source": [
    "The training process produces some new attributes for our GridSearchCV object, most importantly the information about the optimal settings and the best cross-validation score (now using the proper setup that avoids lookahead bias).\n",
    "\n",
    "Setting `max_depth` to 10, `min_samples_leaf` to 750, and randomly selecting only a number corresponding to the square root of the total number of features when deciding on a split, produces the best results, with an AUC of 0.532:"
   ]
  },
  {
   "cell_type": "code",
   "execution_count": 69,
   "metadata": {
    "ExecuteTime": {
     "end_time": "2021-04-16T00:33:53.857480Z",
     "start_time": "2021-04-16T00:33:53.854544Z"
    }
   },
   "outputs": [
    {
     "data": {
      "text/plain": [
       "{'max_depth': 3, 'max_features': 'sqrt', 'min_samples_leaf': 25}"
      ]
     },
     "execution_count": 69,
     "metadata": {},
     "output_type": "execute_result"
    }
   ],
   "source": [
    "gridsearch_clf.best_params_"
   ]
  },
  {
   "cell_type": "code",
   "execution_count": 70,
   "metadata": {
    "ExecuteTime": {
     "end_time": "2021-04-16T00:33:53.871480Z",
     "start_time": "2021-04-16T00:33:53.858438Z"
    }
   },
   "outputs": [
    {
     "data": {
      "text/plain": [
       "0.5355839655207068"
      ]
     },
     "execution_count": 70,
     "metadata": {},
     "output_type": "execute_result"
    }
   ],
   "source": [
    "gridsearch_clf.best_score_"
   ]
  },
  {
   "cell_type": "markdown",
   "metadata": {},
   "source": [
    "#### Define Custom IC score"
   ]
  },
  {
   "cell_type": "code",
   "execution_count": 71,
   "metadata": {
    "ExecuteTime": {
     "end_time": "2021-04-16T00:33:53.880255Z",
     "start_time": "2021-04-16T00:33:53.872541Z"
    }
   },
   "outputs": [],
   "source": [
    "def rank_correl(y, y_pred):\n",
    "    return spearmanr(y, y_pred)[0]\n",
    "ic = make_scorer(rank_correl)"
   ]
  },
  {
   "cell_type": "markdown",
   "metadata": {},
   "source": [
    "#### Regression Tree"
   ]
  },
  {
   "cell_type": "code",
   "execution_count": 72,
   "metadata": {
    "ExecuteTime": {
     "end_time": "2021-04-16T00:33:53.888614Z",
     "start_time": "2021-04-16T00:33:53.881766Z"
    }
   },
   "outputs": [],
   "source": [
    "reg_tree = DecisionTreeRegressor(random_state=42)"
   ]
  },
  {
   "cell_type": "code",
   "execution_count": 73,
   "metadata": {
    "ExecuteTime": {
     "end_time": "2021-04-16T00:33:53.896846Z",
     "start_time": "2021-04-16T00:33:53.889580Z"
    }
   },
   "outputs": [],
   "source": [
    "gridsearch_reg = GridSearchCV(estimator=reg_tree,\n",
    "                              param_grid=param_grid,\n",
    "                              scoring=ic,\n",
    "                              n_jobs=-1,\n",
    "                              cv=cv,\n",
    "                              refit=True,\n",
    "                              return_train_score=True)"
   ]
  },
  {
   "cell_type": "code",
   "execution_count": 74,
   "metadata": {
    "ExecuteTime": {
     "end_time": "2021-04-16T00:34:33.328283Z",
     "start_time": "2021-04-16T00:33:53.897801Z"
    }
   },
   "outputs": [
    {
     "data": {
      "text/plain": [
       "GridSearchCV(cv=<utils.MultipleTimeSeriesCV object at 0x000002B032A7C310>,\n",
       "             estimator=DecisionTreeRegressor(random_state=42), n_jobs=-1,\n",
       "             param_grid={'max_depth': [2, 3, 4, 5, 6, 7, 8, 10, 12, 15],\n",
       "                         'max_features': ['sqrt', 'auto'],\n",
       "                         'min_samples_leaf': [5, 25, 50, 100]},\n",
       "             return_train_score=True, scoring=make_scorer(rank_correl))"
      ]
     },
     "execution_count": 74,
     "metadata": {},
     "output_type": "execute_result"
    }
   ],
   "source": [
    "gridsearch_reg.fit(X=X, y=y)"
   ]
  },
  {
   "cell_type": "code",
   "execution_count": 75,
   "metadata": {
    "ExecuteTime": {
     "end_time": "2021-04-16T00:34:33.340010Z",
     "start_time": "2021-04-16T00:34:33.333245Z"
    }
   },
   "outputs": [
    {
     "data": {
      "text/plain": [
       "{'max_depth': 3, 'max_features': 'auto', 'min_samples_leaf': 5}"
      ]
     },
     "execution_count": 75,
     "metadata": {},
     "output_type": "execute_result"
    }
   ],
   "source": [
    "gridsearch_reg.best_params_"
   ]
  },
  {
   "cell_type": "code",
   "execution_count": 76,
   "metadata": {
    "ExecuteTime": {
     "end_time": "2021-04-16T00:34:33.351382Z",
     "start_time": "2021-04-16T00:34:33.341496Z"
    }
   },
   "outputs": [
    {
     "data": {
      "text/plain": [
       "0.044723391228473255"
      ]
     },
     "execution_count": 76,
     "metadata": {},
     "output_type": "execute_result"
    }
   ],
   "source": [
    "gridsearch_reg.best_score_"
   ]
  },
  {
   "cell_type": "code",
   "execution_count": 77,
   "metadata": {
    "ExecuteTime": {
     "end_time": "2021-04-16T00:34:33.363598Z",
     "start_time": "2021-04-16T00:34:33.352847Z"
    }
   },
   "outputs": [
    {
     "data": {
      "text/html": [
       "<div>\n",
       "<style scoped>\n",
       "    .dataframe tbody tr th:only-of-type {\n",
       "        vertical-align: middle;\n",
       "    }\n",
       "\n",
       "    .dataframe tbody tr th {\n",
       "        vertical-align: top;\n",
       "    }\n",
       "\n",
       "    .dataframe thead th {\n",
       "        text-align: right;\n",
       "    }\n",
       "</style>\n",
       "<table border=\"1\" class=\"dataframe\">\n",
       "  <thead>\n",
       "    <tr style=\"text-align: right;\">\n",
       "      <th></th>\n",
       "      <th>Regression</th>\n",
       "      <th>Classification</th>\n",
       "    </tr>\n",
       "  </thead>\n",
       "  <tbody>\n",
       "    <tr>\n",
       "      <th>max_depth</th>\n",
       "      <td>3</td>\n",
       "      <td>3</td>\n",
       "    </tr>\n",
       "    <tr>\n",
       "      <th>max_features</th>\n",
       "      <td>auto</td>\n",
       "      <td>sqrt</td>\n",
       "    </tr>\n",
       "    <tr>\n",
       "      <th>min_samples_leaf</th>\n",
       "      <td>5</td>\n",
       "      <td>25</td>\n",
       "    </tr>\n",
       "  </tbody>\n",
       "</table>\n",
       "</div>"
      ],
      "text/plain": [
       "                 Regression Classification\n",
       "max_depth                 3              3\n",
       "max_features           auto           sqrt\n",
       "min_samples_leaf          5             25"
      ]
     },
     "execution_count": 77,
     "metadata": {},
     "output_type": "execute_result"
    }
   ],
   "source": [
    "pd.DataFrame({'Regression': pd.Series(gridsearch_reg.best_params_),\n",
    "              'Classification': pd.Series(gridsearch_clf.best_params_)})"
   ]
  },
  {
   "cell_type": "markdown",
   "metadata": {},
   "source": [
    "### Classifier Cross-Validation"
   ]
  },
  {
   "cell_type": "markdown",
   "metadata": {},
   "source": [
    "Cross-validation is the most important tool to obtain an unbiased estimate of the generalization error, which in turn permits an informed choice among the various configuration options. sklearn offers several tools to facilitate the process of cross-validating numerous parameter settings, namely the GridSearchCV convenience class that we will illustrate in the next section. "
   ]
  },
  {
   "cell_type": "markdown",
   "metadata": {},
   "source": [
    "The following code illustrates how to run cross-validation more manually to obtain custom tree attributes, such as the total number of nodes or leaf nodes associated with certain hyperparameter settings. \n",
    "\n",
    "The following function accesses the internal `.tree_` attribute to retrieve information about the total node count, and how many of these nodes are leaf nodes:"
   ]
  },
  {
   "cell_type": "code",
   "execution_count": 78,
   "metadata": {
    "ExecuteTime": {
     "end_time": "2021-04-16T00:34:33.369594Z",
     "start_time": "2021-04-16T00:34:33.364452Z"
    }
   },
   "outputs": [],
   "source": [
    "def get_leaves_count(tree):\n",
    "    t = tree.tree_\n",
    "    n = t.node_count\n",
    "    leaves = len([i for i in range(t.node_count) if t.children_left[i]== -1])\n",
    "    return leaves"
   ]
  },
  {
   "cell_type": "markdown",
   "metadata": {},
   "source": [
    "We can combine this information with the train and test scores to gain detailed knowledge about the model behavior throughout the cross-validation process, as follows:"
   ]
  },
  {
   "cell_type": "code",
   "execution_count": 79,
   "metadata": {
    "ExecuteTime": {
     "end_time": "2021-04-16T00:34:46.896130Z",
     "start_time": "2021-04-16T00:34:33.377385Z"
    },
    "scrolled": true
   },
   "outputs": [
    {
     "name": "stdout",
     "output_type": "stream",
     "text": [
      "1 2 3 4 5 6 7 8 9 10 11 12 13 14 15 "
     ]
    }
   ],
   "source": [
    "train_scores, val_scores, leaves = {}, {}, {}\n",
    "for max_depth in max_depths:\n",
    "    print(max_depth, end=' ', flush=True)\n",
    "    clf = DecisionTreeClassifier(criterion='gini', \n",
    "                                 max_depth=max_depth,\n",
    "                                 min_samples_leaf=5,\n",
    "                                 max_features='sqrt',\n",
    "                                 random_state=42)\n",
    "    train_scores[max_depth], val_scores[max_depth], leaves[max_depth] = [], [], []\n",
    "    for train_idx, test_idx in cv.split(X):\n",
    "        X_train, y_train,  = X.iloc[train_idx], y_binary.iloc[train_idx]\n",
    "        X_test, y_test = X.iloc[test_idx], y_binary.iloc[test_idx]\n",
    "        clf.fit(X=X_train, y=y_train)\n",
    "\n",
    "        train_pred = clf.predict_proba(X=X_train)[:, 1]\n",
    "        train_score = roc_auc_score(y_score=train_pred, y_true=y_train)\n",
    "        train_scores[max_depth].append(train_score)\n",
    "\n",
    "        test_pred = clf.predict_proba(X=X_test)[:, 1]\n",
    "        val_score = roc_auc_score(y_score=test_pred, y_true=y_test)\n",
    "        val_scores[max_depth].append(val_score)    \n",
    "        leaves[max_depth].append(get_leaves_count(clf))\n",
    "        \n",
    "clf_train_scores = pd.DataFrame(train_scores)\n",
    "clf_valid_scores = pd.DataFrame(val_scores)\n",
    "clf_leaves = pd.DataFrame(leaves)"
   ]
  },
  {
   "cell_type": "code",
   "execution_count": 80,
   "metadata": {
    "ExecuteTime": {
     "end_time": "2021-04-16T00:34:46.906671Z",
     "start_time": "2021-04-16T00:34:46.898503Z"
    }
   },
   "outputs": [],
   "source": [
    "clf_cv_data = pd.concat([pd.melt(clf_train_scores,\n",
    "                                 var_name='Max. Depth',\n",
    "                                 value_name='ROC AUC').assign(Data='Train'),\n",
    "                         pd.melt(clf_valid_scores,\n",
    "                                 var_name='Max. Depth',\n",
    "                                 value_name='ROC AUC').assign(Data='Valid')])"
   ]
  },
  {
   "cell_type": "markdown",
   "metadata": {},
   "source": [
    "### Regression tree cross-validation"
   ]
  },
  {
   "cell_type": "markdown",
   "metadata": {},
   "source": [
    "#### Run cross-validation"
   ]
  },
  {
   "cell_type": "code",
   "execution_count": 81,
   "metadata": {
    "ExecuteTime": {
     "end_time": "2021-04-16T00:34:58.712044Z",
     "start_time": "2021-04-16T00:34:46.907862Z"
    }
   },
   "outputs": [
    {
     "name": "stdout",
     "output_type": "stream",
     "text": [
      "1 2 3 4 5 6 7 8 9 10 11 12 13 14 15 "
     ]
    }
   ],
   "source": [
    "train_scores, val_scores, leaves = {}, {}, {}\n",
    "for max_depth in max_depths:\n",
    "    print(max_depth, end=' ', flush=True)\n",
    "    reg_tree = DecisionTreeRegressor(max_depth=max_depth,\n",
    "                                     min_samples_leaf=50,\n",
    "                                     max_features= 'sqrt',\n",
    "                                     random_state=42)\n",
    "    train_scores[max_depth], val_scores[max_depth], leaves[max_depth] = [], [], []\n",
    "    for train_idx, test_idx in cv.split(X):\n",
    "        X_train, y_train,  = X.iloc[train_idx], y.iloc[train_idx]\n",
    "        X_test, y_test = X.iloc[test_idx], y.iloc[test_idx]\n",
    "        reg_tree.fit(X=X_train, y=y_train)\n",
    "\n",
    "        train_pred = reg_tree.predict(X=X_train)\n",
    "        train_score = spearmanr(train_pred, y_train)[0]\n",
    "        train_scores[max_depth].append(train_score)\n",
    "\n",
    "        test_pred = reg_tree.predict(X=X_test)\n",
    "        val_score = spearmanr(test_pred, y_test)[0]\n",
    "        val_scores[max_depth].append(val_score)\n",
    "        leaves[max_depth].append(get_leaves_count(reg_tree))\n",
    "\n",
    "reg_train_scores = pd.DataFrame(train_scores)\n",
    "reg_valid_scores = pd.DataFrame(val_scores)\n",
    "reg_leaves = pd.DataFrame(leaves)"
   ]
  },
  {
   "cell_type": "code",
   "execution_count": 82,
   "metadata": {
    "ExecuteTime": {
     "end_time": "2021-04-16T00:34:58.719502Z",
     "start_time": "2021-04-16T00:34:58.712895Z"
    }
   },
   "outputs": [],
   "source": [
    "reg_cv_data = (pd.melt(reg_train_scores, var_name='Max. Depth',\n",
    "                         value_name='IC').assign(Data='Train').append(\n",
    "    pd.melt(reg_valid_scores,\n",
    "            var_name='Max. Depth',\n",
    "            value_name='IC').assign(Data='Valid')))"
   ]
  },
  {
   "cell_type": "markdown",
   "metadata": {},
   "source": [
    "### Compare CV Results"
   ]
  },
  {
   "cell_type": "code",
   "execution_count": 83,
   "metadata": {
    "ExecuteTime": {
     "end_time": "2021-04-16T00:35:00.042515Z",
     "start_time": "2021-04-16T00:34:58.720596Z"
    },
    "scrolled": true
   },
   "outputs": [
    {
     "data": {
      "image/png": "[encoded data removed]",
      "text/plain": [
       "<Figure size 1008x360 with 2 Axes>"
      ]
     },
     "metadata": {},
     "output_type": "display_data"
    }
   ],
   "source": [
    "fig, axes = plt.subplots(ncols=2, figsize=(14, 5))\n",
    "\n",
    "sns.lineplot(data=reg_cv_data,\n",
    "             x='Max. Depth', y='IC',\n",
    "             hue='Data', ci=95,\n",
    "             ax=axes[0], lw=2)\n",
    "\n",
    "axes[0].set_title('Regression Tree')\n",
    "axes[0].axvline(x=reg_valid_scores.mean().idxmax(), ls='--', c='k', lw=1)\n",
    "axes[0].axhline(y=0, ls='--', c='k', lw=1)\n",
    "\n",
    "sns.lineplot(data=clf_cv_data,\n",
    "             x='Max. Depth', y='ROC AUC',\n",
    "             hue='Data', ci=95,\n",
    "             ax=axes[1], lw=2)\n",
    "\n",
    "axes[1].set_title('Classification Tree')\n",
    "axes[1].axvline(x=clf_valid_scores.mean().idxmax(), ls='--', c='k', lw=1)\n",
    "axes[1].axhline(y=.5, ls='--', c='k', lw=1)\n",
    "for ax in axes:\n",
    "    ax.set_xlim(min(param_grid['max_depth']),\n",
    "                max(param_grid['max_depth']))\n",
    "\n",
    "fig.suptitle(f'Train-Validation Scores', fontsize=14)\n",
    "sns.despine()\n",
    "fig.tight_layout()\n",
    "fig.subplots_adjust(top=.91)"
   ]
  },
  {
   "cell_type": "markdown",
   "metadata": {},
   "source": [
    "### Learning Curves for best models"
   ]
  },
  {
   "cell_type": "markdown",
   "metadata": {},
   "source": [
    "A learning curve is a useful tool that displays how the validation and training score evolve as the number of training samples evolves.\n",
    "\n",
    "The purpose of the learning curve is to find out whether and how much the model would benefit from using more data during training. It is also useful to diagnose whether the model's generalization error is more likely driven by bias or variance.\n",
    "\n",
    "If, for example, both the validation score and the training score converge to a similarly low value despite an increasing training set size, the error is more likely due to bias, and additional training data is unlikely to help."
   ]
  },
  {
   "cell_type": "markdown",
   "metadata": {},
   "source": [
    "#### Classifier"
   ]
  },
  {
   "cell_type": "code",
   "execution_count": 84,
   "metadata": {
    "ExecuteTime": {
     "end_time": "2021-04-16T00:35:00.045677Z",
     "start_time": "2021-04-16T00:35:00.043552Z"
    }
   },
   "outputs": [],
   "source": [
    "sizes = np.arange(.1, 1.01, .1)"
   ]
  },
  {
   "cell_type": "code",
   "execution_count": 85,
   "metadata": {
    "ExecuteTime": {
     "end_time": "2021-04-16T00:35:01.724318Z",
     "start_time": "2021-04-16T00:35:00.052073Z"
    }
   },
   "outputs": [],
   "source": [
    "train_sizes, train_scores, valid_scores = learning_curve(gridsearch_clf.best_estimator_,\n",
    "                                                         X,\n",
    "                                                         y_binary,\n",
    "                                                         train_sizes=sizes,\n",
    "                                                         cv=cv,\n",
    "                                                         scoring='roc_auc',\n",
    "                                                         n_jobs=-1,\n",
    "                                                         shuffle=True,\n",
    "                                                         random_state=42)"
   ]
  },
  {
   "cell_type": "code",
   "execution_count": 86,
   "metadata": {
    "ExecuteTime": {
     "end_time": "2021-04-16T00:35:01.738102Z",
     "start_time": "2021-04-16T00:35:01.725318Z"
    }
   },
   "outputs": [
    {
     "name": "stdout",
     "output_type": "stream",
     "text": [
      "<class 'pandas.core.frame.DataFrame'>\n",
      "Int64Index: 200 entries, 0 to 99\n",
      "Data columns (total 3 columns):\n",
      " #   Column      Non-Null Count  Dtype  \n",
      "---  ------      --------------  -----  \n",
      " 0   Train Size  200 non-null    int64  \n",
      " 1   ROC AUC     200 non-null    float64\n",
      " 2   Data        200 non-null    object \n",
      "dtypes: float64(1), int64(1), object(1)\n",
      "memory usage: 6.2+ KB\n"
     ]
    }
   ],
   "source": [
    "clf_lc_data = pd.concat([\n",
    "    pd.melt(pd.DataFrame(train_scores.T, columns=train_sizes),\n",
    "            var_name='Train Size',\n",
    "            value_name='ROC AUC').assign(Data='Train'),\n",
    "    pd.melt(pd.DataFrame(valid_scores.T, columns=train_sizes),\n",
    "            var_name='Train Size',\n",
    "            value_name='ROC AUC').assign(Data='Valid')])\n",
    "clf_lc_data.info()"
   ]
  },
  {
   "cell_type": "markdown",
   "metadata": {},
   "source": [
    "#### Regression Tree"
   ]
  },
  {
   "cell_type": "code",
   "execution_count": 87,
   "metadata": {
    "ExecuteTime": {
     "end_time": "2021-04-16T00:35:03.354249Z",
     "start_time": "2021-04-16T00:35:01.739800Z"
    }
   },
   "outputs": [],
   "source": [
    "train_sizes, train_scores, valid_scores = learning_curve(gridsearch_reg.best_estimator_,\n",
    "                                                         X, y,\n",
    "                                                         train_sizes=sizes,\n",
    "                                                         cv=cv,\n",
    "                                                         scoring=ic,\n",
    "                                                         n_jobs=-1,\n",
    "                                                         shuffle=True,\n",
    "                                                         random_state=42)"
   ]
  },
  {
   "cell_type": "code",
   "execution_count": 88,
   "metadata": {
    "ExecuteTime": {
     "end_time": "2021-04-16T00:35:03.370414Z",
     "start_time": "2021-04-16T00:35:03.355248Z"
    }
   },
   "outputs": [
    {
     "name": "stdout",
     "output_type": "stream",
     "text": [
      "<class 'pandas.core.frame.DataFrame'>\n",
      "Int64Index: 200 entries, 0 to 99\n",
      "Data columns (total 3 columns):\n",
      " #   Column      Non-Null Count  Dtype  \n",
      "---  ------      --------------  -----  \n",
      " 0   Train Size  200 non-null    int64  \n",
      " 1   IC          200 non-null    float64\n",
      " 2   Data        200 non-null    object \n",
      "dtypes: float64(1), int64(1), object(1)\n",
      "memory usage: 6.2+ KB\n"
     ]
    }
   ],
   "source": [
    "reg_lc_data = pd.concat([\n",
    "    pd.melt(pd.DataFrame(train_scores.T,\n",
    "                         columns=train_sizes),\n",
    "            var_name='Train Size',\n",
    "            value_name='IC').assign(Data='Train'),\n",
    "    pd.melt(pd.DataFrame(valid_scores.T,\n",
    "                         columns=train_sizes),\n",
    "            var_name='Train Size',\n",
    "            value_name='IC').assign(Data='Valid')])\n",
    "reg_lc_data.info()"
   ]
  },
  {
   "cell_type": "markdown",
   "metadata": {},
   "source": [
    "#### Compare Learning Curves"
   ]
  },
  {
   "cell_type": "code",
   "execution_count": 89,
   "metadata": {
    "ExecuteTime": {
     "end_time": "2021-04-16T00:35:04.388657Z",
     "start_time": "2021-04-16T00:35:03.371672Z"
    }
   },
   "outputs": [
    {
     "data": {
      "image/png": "[encoded data removed]",
      "text/plain": [
       "<Figure size 1008x360 with 2 Axes>"
      ]
     },
     "metadata": {},
     "output_type": "display_data"
    }
   ],
   "source": [
    "fig, axes = plt.subplots(ncols=2, figsize=(14, 5))\n",
    "xmin, xmax = reg_lc_data['Train Size'].min(), reg_lc_data['Train Size'].max()\n",
    "\n",
    "sns.lineplot(data=reg_lc_data,\n",
    "             x='Train Size', y='IC',\n",
    "             hue='Data', ci=95,  ax=axes[0], lw=2)\n",
    "axes[0].set_title('Best Regression Tree')\n",
    "axes[0].set_ylabel('IC')\n",
    "\n",
    "axes[0].xaxis.set_major_formatter(\n",
    "    FuncFormatter(lambda x, _: '{:,.0f}'.format(x)))\n",
    "\n",
    "sns.lineplot(data=clf_lc_data,\n",
    "             x='Train Size',\n",
    "             y='ROC AUC',\n",
    "             hue='Data',\n",
    "             ci=95,\n",
    "             ax=axes[1],\n",
    "             lw=2)\n",
    "axes[1].set_title('Best Classification Tree')\n",
    "axes[1].set_ylabel('ROC AUC')\n",
    "axes[1].xaxis.set_major_formatter(\n",
    "    FuncFormatter(lambda x, _: '{:,.0f}'.format(x)))\n",
    "\n",
    "for i in [0, 1]:\n",
    "    axes[i].tick_params(axis='both', which='major', labelsize=10)\n",
    "    axes[i].tick_params(axis='both', which='minor', labelsize=8)\n",
    "    axes[i].set_xlim(xmin, xmax)\n",
    "\n",
    "fig.suptitle('Learning Curves', fontsize=14)\n",
    "sns.despine()\n",
    "fig.tight_layout()\n",
    "fig.subplots_adjust(top=.9)"
   ]
  },
  {
   "cell_type": "markdown",
   "metadata": {},
   "source": [
    "### Feature Importance"
   ]
  },
  {
   "cell_type": "markdown",
   "metadata": {},
   "source": [
    "Decision trees can not only be visualized to inspect the decision path for a given feature, but also provide a summary measure of the contribution of each feature to the model fit to the training data. \n",
    "\n",
    "The feature importance captures how much the splits produced by the feature helped to optimize the model's metric used to evaluate the split quality, which in our case is the Gini Impurity index. \n",
    "\n",
    "A feature's importance is computed as the (normalized) total reduction of this metric and takes into account the number of samples affected by a split. Hence, features used earlier in the tree where the nodes tend to contain more samples typically are considered of higher importance."
   ]
  },
  {
   "cell_type": "code",
   "execution_count": 90,
   "metadata": {
    "ExecuteTime": {
     "end_time": "2021-04-16T00:35:04.395752Z",
     "start_time": "2021-04-16T00:35:04.389724Z"
    }
   },
   "outputs": [],
   "source": [
    "top_n = 15\n",
    "labels = X.columns.str.replace('_', ' ').str.upper()\n",
    "fi_clf = (pd.Series(gridsearch_clf.best_estimator_.feature_importances_, \n",
    "                    index=labels).sort_values(ascending=False).iloc[:top_n])\n",
    "fi_reg = (pd.Series(gridsearch_reg.best_estimator_.feature_importances_, \n",
    "                    index=labels).sort_values(ascending=False).iloc[:top_n])"
   ]
  },
  {
   "cell_type": "code",
   "execution_count": 91,
   "metadata": {
    "ExecuteTime": {
     "end_time": "2021-04-16T00:35:04.714765Z",
     "start_time": "2021-04-16T00:35:04.396825Z"
    }
   },
   "outputs": [
    {
     "data": {
      "image/png": "[encoded data removed]",
      "text/plain": [
       "<Figure size 864x288 with 2 Axes>"
      ]
     },
     "metadata": {},
     "output_type": "display_data"
    }
   ],
   "source": [
    "fig, axes= plt.subplots(ncols=2, figsize=(12,4), sharex=True)\n",
    "color = cm.Blues(np.linspace(.4,.9, top_n))\n",
    "fi_clf.sort_values().plot.barh(ax=axes[1], title='Classification Tree', color=color)\n",
    "fi_reg.sort_values().plot.barh(ax=axes[0], title='Regression Tree', color=color)\n",
    "axes[0].set_xlabel('Feature Importance')\n",
    "axes[1].set_xlabel('Feature Importance')\n",
    "fig.suptitle(f'Top {top_n} Features', fontsize=14)\n",
    "sns.despine()\n",
    "fig.tight_layout()\n",
    "fig.subplots_adjust(top=.9);"
   ]
  }
 ],
 "metadata": {
  "kernelspec": {
   "display_name": "Python [conda env:ml4t]",
   "language": "python",
   "name": "conda-env-ml4t-py"
  },
  "language_info": {
   "codemirror_mode": {
    "name": "ipython",
    "version": 3
   },
   "file_extension": ".py",
   "mimetype": "text/x-python",
   "name": "python",
   "nbconvert_exporter": "python",
   "pygments_lexer": "ipython3",
   "version": "3.8.8"
  },
  "toc": {
   "base_numbering": 1,
   "nav_menu": {},
   "number_sections": true,
   "sideBar": true,
   "skip_h1_title": true,
   "title_cell": "Table of Contents",
   "title_sidebar": "Contents",
   "toc_cell": false,
   "toc_position": {
    "height": "calc(100% - 180px)",
    "left": "10px",
    "top": "150px",
    "width": "343.837px"
   },
   "toc_section_display": true,
   "toc_window_display": true
  }
 },
 "nbformat": 4,
 "nbformat_minor": 2
}
