{
 "cells": [
  {
   "cell_type": "code",
   "execution_count": 1,
   "metadata": {},
   "outputs": [],
   "source": [
    "from pathlib import Path\n",
    "import numpy as np\n",
    "import pandas as pd\n",
    "from scipy.stats import spearmanr"
   ]
  },
  {
   "cell_type": "code",
   "execution_count": 5,
   "metadata": {},
   "outputs": [],
   "source": [
    "pd.set_option('display.expand_frame_repr', False)\n",
    "np.random.seed(42)\n",
    "\n",
    "PROJECT_DIR = Path('..', '..')\n",
    "DATA_DIR = PROJECT_DIR / 'data'"
   ]
  },
  {
   "cell_type": "code",
   "execution_count": 6,
   "metadata": {},
   "outputs": [],
   "source": [
    "def get_backtest_data(predictions='lasso/predictions'):\n",
    "    \"\"\"Combine chapter 7 lr/lasso/ridge regression predictions\n",
    "        with adjusted OHLCV Quandl Wiki data\"\"\"\n",
    "    with pd.HDFStore(DATA_DIR / 'assets.h5') as store:\n",
    "        prices = (store['finance_datareader/prices']\n",
    "                  .filter(like='adj')\n",
    "                  .rename(columns=lambda x: x.replace('adj_', ''))\n",
    "                  .swaplevel(axis=0))\n",
    "\n",
    "    with pd.HDFStore(PROJECT_DIR / '07_linear_models/data.h5') as store:\n",
    "        print(store.info())\n",
    "        predictions = store[predictions]\n",
    "\n",
    "    best_alpha = predictions.groupby('alpha').apply(lambda x: spearmanr(x.actuals, x.predicted)[0]).idxmax()\n",
    "    predictions = predictions[predictions.alpha == best_alpha]\n",
    "    predictions.index.names = ['ticker', 'date']\n",
    "    tickers = predictions.index.get_level_values('ticker').unique()\n",
    "    start = predictions.index.get_level_values('date').min().strftime('%Y-%m-%d')\n",
    "    stop = (predictions.index.get_level_values('date').max() + pd.DateOffset(1)).strftime('%Y-%m-%d')\n",
    "    idx = pd.IndexSlice\n",
    "    prices = prices.sort_index().loc[idx[tickers, start:stop], :]\n",
    "    predictions = predictions.loc[predictions.alpha == best_alpha, ['predicted']]\n",
    "    return predictions.join(prices, how='right')"
   ]
  },
  {
   "cell_type": "code",
   "execution_count": 7,
   "metadata": {},
   "outputs": [
    {
     "name": "stdout",
     "output_type": "stream",
     "text": [
      "<class 'pandas.io.pytables.HDFStore'>\n",
      "File path: ..\\..\\07_linear_models\\data.h5\n",
      "/lasso/coeffs                 frame        (shape->[8,142])     \n",
      "/lasso/predictions            frame        (shape->[589824,3])  \n",
      "/lasso/scores                 frame        (shape->[6000,3])    \n",
      "/lr/predictions               frame        (shape->[73728,2])   \n",
      "/lr/scores                    frame        (shape->[750,2])     \n",
      "/model_data                   frame        (shape->[799733,177])\n",
      "/ridge/coeffs                 frame        (shape->[18,142])    \n",
      "/ridge/predictions            frame        (shape->[1327104,3]) \n",
      "/ridge/scores                 frame        (shape->[13500,3])   \n",
      "<class 'pandas.core.frame.DataFrame'>\n",
      "MultiIndex: 226941 entries, ('000100', Timestamp('2014-11-12 00:00:00')) to ('001340', Timestamp('2017-11-29 00:00:00'))\n",
      "Data columns (total 9 columns):\n",
      " #   Column     Non-Null Count   Dtype  \n",
      "---  ------     --------------   -----  \n",
      " 0   predicted  73728 non-null   float64\n",
      " 1   close      226941 non-null  float64\n",
      " 2   ratio      226941 non-null  float64\n",
      " 3   high       226941 non-null  float64\n",
      " 4   low        226941 non-null  float64\n",
      " 5   open       226941 non-null  float64\n",
      " 6   volume     226941 non-null  float64\n",
      " 7   stocks     221704 non-null  float64\n",
      " 8   marcap     221704 non-null  float64\n",
      "dtypes: float64(9)\n",
      "memory usage: 24.9+ MB\n",
      "None\n"
     ]
    }
   ],
   "source": [
    "df = get_backtest_data('lasso/predictions')\n",
    "print(df.info())\n",
    "df.to_hdf('backtest.h5', 'data')"
   ]
  },
  {
   "cell_type": "code",
   "execution_count": null,
   "metadata": {},
   "outputs": [],
   "source": []
  }
 ],
 "metadata": {
  "kernelspec": {
   "display_name": "Python [conda env:ml4t_orginal]",
   "language": "python",
   "name": "conda-env-ml4t_orginal-py"
  },
  "language_info": {
   "codemirror_mode": {
    "name": "ipython",
    "version": 3
   },
   "file_extension": ".py",
   "mimetype": "text/x-python",
   "name": "python",
   "nbconvert_exporter": "python",
   "pygments_lexer": "ipython3",
   "version": "3.8.8"
  }
 },
 "nbformat": 4,
 "nbformat_minor": 4
}
