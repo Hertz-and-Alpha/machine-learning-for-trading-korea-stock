{
 "cells": [
  {
   "cell_type": "markdown",
   "metadata": {},
   "source": [
    "# Evaluation of the GBM GridSearchCV results"
   ]
  },
  {
   "cell_type": "markdown",
   "metadata": {},
   "source": [
    "This file illustrates how to evaluate the [GridSearchCV](http://scikit-learn.org/stable/modules/generated/sklearn.model_selection.GridSearchCV.html) results for sklearn's [GradientBoostingClassifier](http://scikit-learn.org/stable/modules/generated/sklearn.ensemble.GradientBoostingClassifier.html) obtained after first running `sklearn_gbm_tuning.py` in this directory to test various hyperparameter combinations and store the result."
   ]
  },
  {
   "cell_type": "markdown",
   "metadata": {},
   "source": [
    "## Imports & Settings"
   ]
  },
  {
   "cell_type": "code",
   "execution_count": 1,
   "metadata": {
    "ExecuteTime": {
     "end_time": "2021-02-25T02:25:07.145170Z",
     "start_time": "2021-02-25T02:25:07.140098Z"
    }
   },
   "outputs": [],
   "source": [
    "import warnings\n",
    "warnings.filterwarnings('ignore')"
   ]
  },
  {
   "cell_type": "code",
   "execution_count": 2,
   "metadata": {
    "ExecuteTime": {
     "end_time": "2021-02-25T02:25:07.164754Z",
     "start_time": "2021-02-25T02:25:07.146543Z"
    }
   },
   "outputs": [],
   "source": [
    "%matplotlib inline\n",
    "\n",
    "from pathlib import Path\n",
    "import os\n",
    "from datetime import datetime\n",
    "import numpy as np\n",
    "import pandas as pd\n",
    "\n",
    "import matplotlib.pyplot as plt\n",
    "import seaborn as sns\n",
    "import graphviz\n",
    "\n",
    "from statsmodels.api import OLS, add_constant\n",
    "from sklearn.tree import DecisionTreeRegressor, export_graphviz\n",
    "from sklearn.metrics import roc_auc_score\n",
    "import joblib"
   ]
  },
  {
   "cell_type": "code",
   "execution_count": 3,
   "metadata": {
    "ExecuteTime": {
     "end_time": "2021-02-25T02:25:07.172832Z",
     "start_time": "2021-02-25T02:25:07.166101Z"
    }
   },
   "outputs": [],
   "source": [
    "sns.set_style(\"white\")\n",
    "np.random.seed(42)\n",
    "pd.options.display.float_format = '{:,.4f}'.format"
   ]
  },
  {
   "cell_type": "code",
   "execution_count": 4,
   "metadata": {
    "ExecuteTime": {
     "end_time": "2021-02-25T02:25:07.212026Z",
     "start_time": "2021-02-25T02:25:07.175213Z"
    }
   },
   "outputs": [],
   "source": [
    "with pd.HDFStore('data/tuning_sklearn_gbm.h5') as store:\n",
    "    test_feature_data = store['holdout/features']\n",
    "    test_features = test_feature_data.columns\n",
    "    test_target = store['holdout/target']"
   ]
  },
  {
   "cell_type": "markdown",
   "metadata": {},
   "source": [
    "## GBM GridsearchCV with sklearn"
   ]
  },
  {
   "cell_type": "markdown",
   "metadata": {},
   "source": [
    "Need OneStepTimeSeriesSplit because stored GridSearchCV result expects it"
   ]
  },
  {
   "cell_type": "code",
   "execution_count": 5,
   "metadata": {
    "ExecuteTime": {
     "end_time": "2021-02-25T02:25:07.217207Z",
     "start_time": "2021-02-25T02:25:07.213428Z"
    }
   },
   "outputs": [],
   "source": [
    "class OneStepTimeSeriesSplit:\n",
    "    pass"
   ]
  },
  {
   "cell_type": "markdown",
   "metadata": {},
   "source": [
    "### Load Result"
   ]
  },
  {
   "cell_type": "markdown",
   "metadata": {},
   "source": [
    "Need to first run `sklearn_gbm_tuning.py` to perform gridsearch and store result (not included due to file size)."
   ]
  },
  {
   "cell_type": "code",
   "execution_count": 6,
   "metadata": {
    "ExecuteTime": {
     "end_time": "2021-02-25T02:25:07.349524Z",
     "start_time": "2021-02-25T02:25:07.218651Z"
    }
   },
   "outputs": [],
   "source": [
    "gridsearch_result = joblib.load('results/sklearn_gbm_gridsearch.joblib')"
   ]
  },
  {
   "cell_type": "markdown",
   "metadata": {},
   "source": [
    "The GridSearchCV object has several additional attributes after completion that we can access after loading the pickled result to learn which hyperparameter combination performed best and its average cross-validation AUC score, which results in a modest improvement over the default values. This is shown in the following code:"
   ]
  },
  {
   "cell_type": "markdown",
   "metadata": {},
   "source": [
    "### Best Parameters & AUC Score"
   ]
  },
  {
   "cell_type": "code",
   "execution_count": 7,
   "metadata": {
    "ExecuteTime": {
     "end_time": "2021-02-25T02:25:07.355301Z",
     "start_time": "2021-02-25T02:25:07.350876Z"
    }
   },
   "outputs": [
    {
     "data": {
      "text/plain": [
       "learning_rate             0.2000\n",
       "max_depth                 3.0000\n",
       "max_features              0.8000\n",
       "min_impurity_decrease     0.0100\n",
       "min_samples_split        10.0000\n",
       "n_estimators            100.0000\n",
       "subsample                 0.8000\n",
       "dtype: float64"
      ]
     },
     "execution_count": 7,
     "metadata": {},
     "output_type": "execute_result"
    }
   ],
   "source": [
    "pd.Series(gridsearch_result.best_params_)"
   ]
  },
  {
   "cell_type": "code",
   "execution_count": 8,
   "metadata": {
    "ExecuteTime": {
     "end_time": "2021-02-25T02:25:07.366942Z",
     "start_time": "2021-02-25T02:25:07.356416Z"
    }
   },
   "outputs": [
    {
     "data": {
      "text/plain": [
       "'0.5295'"
      ]
     },
     "execution_count": 8,
     "metadata": {},
     "output_type": "execute_result"
    }
   ],
   "source": [
    "f'{gridsearch_result.best_score_:.4f}'"
   ]
  },
  {
   "cell_type": "markdown",
   "metadata": {},
   "source": [
    "### Evaluate best model"
   ]
  },
  {
   "cell_type": "markdown",
   "metadata": {},
   "source": [
    "#### Test on hold-out set"
   ]
  },
  {
   "cell_type": "code",
   "execution_count": 9,
   "metadata": {
    "ExecuteTime": {
     "end_time": "2021-02-25T02:25:07.376005Z",
     "start_time": "2021-02-25T02:25:07.367845Z"
    }
   },
   "outputs": [],
   "source": [
    "best_model = gridsearch_result.best_estimator_"
   ]
  },
  {
   "cell_type": "code",
   "execution_count": 10,
   "metadata": {
    "ExecuteTime": {
     "end_time": "2021-02-25T02:25:07.386243Z",
     "start_time": "2021-02-25T02:25:07.377242Z"
    }
   },
   "outputs": [],
   "source": [
    "idx = pd.IndexSlice\n",
    "test_dates = sorted(test_feature_data.index.get_level_values('date').unique())"
   ]
  },
  {
   "cell_type": "code",
   "execution_count": 11,
   "metadata": {
    "ExecuteTime": {
     "end_time": "2021-02-25T02:25:07.627221Z",
     "start_time": "2021-02-25T02:25:07.387058Z"
    },
    "scrolled": false
   },
   "outputs": [],
   "source": [
    "auc = {}\n",
    "for i, test_date in enumerate(test_dates):\n",
    "    test_data = test_feature_data.loc[idx[:, test_date], :]\n",
    "    preds = best_model.predict(test_data)\n",
    "    auc[i] = roc_auc_score(y_true=test_target.loc[test_data.index], y_score=preds)"
   ]
  },
  {
   "cell_type": "code",
   "execution_count": 12,
   "metadata": {
    "ExecuteTime": {
     "end_time": "2021-02-25T02:25:07.631947Z",
     "start_time": "2021-02-25T02:25:07.628472Z"
    }
   },
   "outputs": [],
   "source": [
    "auc = pd.Series(auc)"
   ]
  },
  {
   "cell_type": "code",
   "execution_count": 13,
   "metadata": {
    "ExecuteTime": {
     "end_time": "2021-02-25T02:25:07.643447Z",
     "start_time": "2021-02-25T02:25:07.632945Z"
    }
   },
   "outputs": [
    {
     "data": {
      "text/plain": [
       "0   0.5374\n",
       "1   0.5288\n",
       "2   0.4978\n",
       "3   0.5023\n",
       "4   0.5667\n",
       "dtype: float64"
      ]
     },
     "execution_count": 13,
     "metadata": {},
     "output_type": "execute_result"
    }
   ],
   "source": [
    "auc.head()"
   ]
  },
  {
   "cell_type": "code",
   "execution_count": 14,
   "metadata": {
    "ExecuteTime": {
     "end_time": "2021-02-25T02:25:07.865626Z",
     "start_time": "2021-02-25T02:25:07.645620Z"
    }
   },
   "outputs": [
    {
     "data": {
      "image/png": "[encoded data removed]",
      "text/plain": [
       "<Figure size 576x288 with 1 Axes>"
      ]
     },
     "metadata": {},
     "output_type": "display_data"
    }
   ],
   "source": [
    "ax = auc.sort_index(ascending=False).plot.barh(xlim=(.45, .55),\n",
    "                                               title=f'Test AUC: {auc.mean():.2%}',\n",
    "                                               figsize=(8, 4))\n",
    "ax.axvline(auc.mean(), ls='--', lw=1, c='k')\n",
    "sns.despine()\n",
    "plt.tight_layout()"
   ]
  },
  {
   "cell_type": "markdown",
   "metadata": {},
   "source": [
    "#### Inspect global feature importance"
   ]
  },
  {
   "cell_type": "code",
   "execution_count": 15,
   "metadata": {
    "ExecuteTime": {
     "end_time": "2021-02-25T02:25:08.123609Z",
     "start_time": "2021-02-25T02:25:07.866815Z"
    },
    "scrolled": false
   },
   "outputs": [
    {
     "data": {
      "image/png": "[encoded data removed]",
      "text/plain": [
       "<Figure size 576x360 with 1 Axes>"
      ]
     },
     "metadata": {},
     "output_type": "display_data"
    }
   ],
   "source": [
    "(pd.Series(best_model.feature_importances_,\n",
    "           index=test_features)\n",
    " .sort_values()\n",
    " .tail(25)\n",
    " .plot.barh(figsize=(8, 5)))\n",
    "sns.despine()\n",
    "plt.tight_layout()"
   ]
  },
  {
   "cell_type": "markdown",
   "metadata": {},
   "source": [
    "### CV Train-Test Scores"
   ]
  },
  {
   "cell_type": "code",
   "execution_count": 16,
   "metadata": {
    "ExecuteTime": {
     "end_time": "2021-02-25T02:25:08.141964Z",
     "start_time": "2021-02-25T02:25:08.125609Z"
    },
    "scrolled": false
   },
   "outputs": [
    {
     "name": "stdout",
     "output_type": "stream",
     "text": [
      "<class 'pandas.core.frame.DataFrame'>\n",
      "RangeIndex: 36 entries, 0 to 35\n",
      "Data columns (total 40 columns):\n",
      " #   Column                       Non-Null Count  Dtype  \n",
      "---  ------                       --------------  -----  \n",
      " 0   mean_fit_time                36 non-null     float64\n",
      " 1   std_fit_time                 36 non-null     float64\n",
      " 2   mean_score_time              36 non-null     float64\n",
      " 3   std_score_time               36 non-null     float64\n",
      " 4   param_learning_rate          36 non-null     object \n",
      " 5   param_max_depth              36 non-null     object \n",
      " 6   param_max_features           36 non-null     object \n",
      " 7   param_min_impurity_decrease  36 non-null     object \n",
      " 8   param_min_samples_split      36 non-null     object \n",
      " 9   param_n_estimators           36 non-null     object \n",
      " 10  param_subsample              36 non-null     object \n",
      " 11  split0_test_score            36 non-null     float64\n",
      " 12  split1_test_score            36 non-null     float64\n",
      " 13  split2_test_score            36 non-null     float64\n",
      " 14  split3_test_score            36 non-null     float64\n",
      " 15  split4_test_score            36 non-null     float64\n",
      " 16  split5_test_score            36 non-null     float64\n",
      " 17  split6_test_score            36 non-null     float64\n",
      " 18  split7_test_score            36 non-null     float64\n",
      " 19  split8_test_score            36 non-null     float64\n",
      " 20  split9_test_score            36 non-null     float64\n",
      " 21  split10_test_score           36 non-null     float64\n",
      " 22  split11_test_score           36 non-null     float64\n",
      " 23  mean_test_score              36 non-null     float64\n",
      " 24  std_test_score               36 non-null     float64\n",
      " 25  rank_test_score              36 non-null     int32  \n",
      " 26  split0_train_score           36 non-null     float64\n",
      " 27  split1_train_score           36 non-null     float64\n",
      " 28  split2_train_score           36 non-null     float64\n",
      " 29  split3_train_score           36 non-null     float64\n",
      " 30  split4_train_score           36 non-null     float64\n",
      " 31  split5_train_score           36 non-null     float64\n",
      " 32  split6_train_score           36 non-null     float64\n",
      " 33  split7_train_score           36 non-null     float64\n",
      " 34  split8_train_score           36 non-null     float64\n",
      " 35  split9_train_score           36 non-null     float64\n",
      " 36  split10_train_score          36 non-null     float64\n",
      " 37  split11_train_score          36 non-null     float64\n",
      " 38  mean_train_score             36 non-null     float64\n",
      " 39  std_train_score              36 non-null     float64\n",
      "dtypes: float64(32), int32(1), object(7)\n",
      "memory usage: 11.2+ KB\n"
     ]
    }
   ],
   "source": [
    "results = pd.DataFrame(gridsearch_result.cv_results_).drop('params', axis=1)\n",
    "results.info()"
   ]
  },
  {
   "cell_type": "code",
   "execution_count": 17,
   "metadata": {
    "ExecuteTime": {
     "end_time": "2021-02-25T02:25:08.162270Z",
     "start_time": "2021-02-25T02:25:08.143770Z"
    }
   },
   "outputs": [
    {
     "data": {
      "text/html": [
       "<div>\n",
       "<style scoped>\n",
       "    .dataframe tbody tr th:only-of-type {\n",
       "        vertical-align: middle;\n",
       "    }\n",
       "\n",
       "    .dataframe tbody tr th {\n",
       "        vertical-align: top;\n",
       "    }\n",
       "\n",
       "    .dataframe thead th {\n",
       "        text-align: right;\n",
       "    }\n",
       "</style>\n",
       "<table border=\"1\" class=\"dataframe\">\n",
       "  <thead>\n",
       "    <tr style=\"text-align: right;\">\n",
       "      <th></th>\n",
       "      <th>mean_fit_time</th>\n",
       "      <th>std_fit_time</th>\n",
       "      <th>mean_score_time</th>\n",
       "      <th>std_score_time</th>\n",
       "      <th>param_learning_rate</th>\n",
       "      <th>param_max_depth</th>\n",
       "      <th>param_max_features</th>\n",
       "      <th>param_min_impurity_decrease</th>\n",
       "      <th>param_min_samples_split</th>\n",
       "      <th>param_n_estimators</th>\n",
       "      <th>...</th>\n",
       "      <th>split4_train_score</th>\n",
       "      <th>split5_train_score</th>\n",
       "      <th>split6_train_score</th>\n",
       "      <th>split7_train_score</th>\n",
       "      <th>split8_train_score</th>\n",
       "      <th>split9_train_score</th>\n",
       "      <th>split10_train_score</th>\n",
       "      <th>split11_train_score</th>\n",
       "      <th>mean_train_score</th>\n",
       "      <th>std_train_score</th>\n",
       "    </tr>\n",
       "  </thead>\n",
       "  <tbody>\n",
       "    <tr>\n",
       "      <th>0</th>\n",
       "      <td>11.1109</td>\n",
       "      <td>1.1411</td>\n",
       "      <td>0.0134</td>\n",
       "      <td>0.0018</td>\n",
       "      <td>0.0100</td>\n",
       "      <td>3</td>\n",
       "      <td>sqrt</td>\n",
       "      <td>0</td>\n",
       "      <td>10</td>\n",
       "      <td>100</td>\n",
       "      <td>...</td>\n",
       "      <td>0.6351</td>\n",
       "      <td>0.6311</td>\n",
       "      <td>0.6423</td>\n",
       "      <td>0.6334</td>\n",
       "      <td>0.6385</td>\n",
       "      <td>0.6413</td>\n",
       "      <td>0.6431</td>\n",
       "      <td>0.6404</td>\n",
       "      <td>0.6369</td>\n",
       "      <td>0.0040</td>\n",
       "    </tr>\n",
       "    <tr>\n",
       "      <th>1</th>\n",
       "      <td>10.9105</td>\n",
       "      <td>0.8524</td>\n",
       "      <td>0.0158</td>\n",
       "      <td>0.0060</td>\n",
       "      <td>0.0100</td>\n",
       "      <td>3</td>\n",
       "      <td>sqrt</td>\n",
       "      <td>0</td>\n",
       "      <td>50</td>\n",
       "      <td>100</td>\n",
       "      <td>...</td>\n",
       "      <td>0.6393</td>\n",
       "      <td>0.6357</td>\n",
       "      <td>0.6426</td>\n",
       "      <td>0.6405</td>\n",
       "      <td>0.6405</td>\n",
       "      <td>0.6444</td>\n",
       "      <td>0.6441</td>\n",
       "      <td>0.6401</td>\n",
       "      <td>0.6380</td>\n",
       "      <td>0.0055</td>\n",
       "    </tr>\n",
       "    <tr>\n",
       "      <th>2</th>\n",
       "      <td>11.3719</td>\n",
       "      <td>1.1082</td>\n",
       "      <td>0.0176</td>\n",
       "      <td>0.0096</td>\n",
       "      <td>0.0100</td>\n",
       "      <td>3</td>\n",
       "      <td>sqrt</td>\n",
       "      <td>0.0100</td>\n",
       "      <td>10</td>\n",
       "      <td>100</td>\n",
       "      <td>...</td>\n",
       "      <td>0.6332</td>\n",
       "      <td>0.6351</td>\n",
       "      <td>0.6356</td>\n",
       "      <td>0.6430</td>\n",
       "      <td>0.6407</td>\n",
       "      <td>0.6421</td>\n",
       "      <td>0.6428</td>\n",
       "      <td>0.6349</td>\n",
       "      <td>0.6356</td>\n",
       "      <td>0.0057</td>\n",
       "    </tr>\n",
       "    <tr>\n",
       "      <th>3</th>\n",
       "      <td>10.5385</td>\n",
       "      <td>1.3899</td>\n",
       "      <td>0.0164</td>\n",
       "      <td>0.0087</td>\n",
       "      <td>0.0100</td>\n",
       "      <td>3</td>\n",
       "      <td>sqrt</td>\n",
       "      <td>0.0100</td>\n",
       "      <td>50</td>\n",
       "      <td>100</td>\n",
       "      <td>...</td>\n",
       "      <td>0.6375</td>\n",
       "      <td>0.6376</td>\n",
       "      <td>0.6348</td>\n",
       "      <td>0.6373</td>\n",
       "      <td>0.6417</td>\n",
       "      <td>0.6394</td>\n",
       "      <td>0.6405</td>\n",
       "      <td>0.6390</td>\n",
       "      <td>0.6360</td>\n",
       "      <td>0.0040</td>\n",
       "    </tr>\n",
       "    <tr>\n",
       "      <th>4</th>\n",
       "      <td>56.9585</td>\n",
       "      <td>3.7925</td>\n",
       "      <td>0.0091</td>\n",
       "      <td>0.0016</td>\n",
       "      <td>0.0100</td>\n",
       "      <td>3</td>\n",
       "      <td>0.8000</td>\n",
       "      <td>0</td>\n",
       "      <td>10</td>\n",
       "      <td>100</td>\n",
       "      <td>...</td>\n",
       "      <td>0.6362</td>\n",
       "      <td>0.6319</td>\n",
       "      <td>0.6338</td>\n",
       "      <td>0.6345</td>\n",
       "      <td>0.6402</td>\n",
       "      <td>0.6342</td>\n",
       "      <td>0.6374</td>\n",
       "      <td>0.6365</td>\n",
       "      <td>0.6339</td>\n",
       "      <td>0.0034</td>\n",
       "    </tr>\n",
       "  </tbody>\n",
       "</table>\n",
       "<p>5 rows × 40 columns</p>\n",
       "</div>"
      ],
      "text/plain": [
       "   mean_fit_time  std_fit_time  mean_score_time  std_score_time  \\\n",
       "0        11.1109        1.1411           0.0134          0.0018   \n",
       "1        10.9105        0.8524           0.0158          0.0060   \n",
       "2        11.3719        1.1082           0.0176          0.0096   \n",
       "3        10.5385        1.3899           0.0164          0.0087   \n",
       "4        56.9585        3.7925           0.0091          0.0016   \n",
       "\n",
       "  param_learning_rate param_max_depth param_max_features  \\\n",
       "0              0.0100               3               sqrt   \n",
       "1              0.0100               3               sqrt   \n",
       "2              0.0100               3               sqrt   \n",
       "3              0.0100               3               sqrt   \n",
       "4              0.0100               3             0.8000   \n",
       "\n",
       "  param_min_impurity_decrease param_min_samples_split param_n_estimators  ...  \\\n",
       "0                           0                      10                100  ...   \n",
       "1                           0                      50                100  ...   \n",
       "2                      0.0100                      10                100  ...   \n",
       "3                      0.0100                      50                100  ...   \n",
       "4                           0                      10                100  ...   \n",
       "\n",
       "  split4_train_score  split5_train_score  split6_train_score  \\\n",
       "0             0.6351              0.6311              0.6423   \n",
       "1             0.6393              0.6357              0.6426   \n",
       "2             0.6332              0.6351              0.6356   \n",
       "3             0.6375              0.6376              0.6348   \n",
       "4             0.6362              0.6319              0.6338   \n",
       "\n",
       "   split7_train_score  split8_train_score  split9_train_score  \\\n",
       "0              0.6334              0.6385              0.6413   \n",
       "1              0.6405              0.6405              0.6444   \n",
       "2              0.6430              0.6407              0.6421   \n",
       "3              0.6373              0.6417              0.6394   \n",
       "4              0.6345              0.6402              0.6342   \n",
       "\n",
       "   split10_train_score  split11_train_score  mean_train_score  std_train_score  \n",
       "0               0.6431               0.6404            0.6369           0.0040  \n",
       "1               0.6441               0.6401            0.6380           0.0055  \n",
       "2               0.6428               0.6349            0.6356           0.0057  \n",
       "3               0.6405               0.6390            0.6360           0.0040  \n",
       "4               0.6374               0.6365            0.6339           0.0034  \n",
       "\n",
       "[5 rows x 40 columns]"
      ]
     },
     "execution_count": 17,
     "metadata": {},
     "output_type": "execute_result"
    }
   ],
   "source": [
    "results.head()"
   ]
  },
  {
   "cell_type": "markdown",
   "metadata": {},
   "source": [
    "### Get parameter values & mean test scores"
   ]
  },
  {
   "cell_type": "code",
   "execution_count": 18,
   "metadata": {
    "ExecuteTime": {
     "end_time": "2021-02-25T02:25:08.176540Z",
     "start_time": "2021-02-25T02:25:08.163594Z"
    }
   },
   "outputs": [
    {
     "name": "stdout",
     "output_type": "stream",
     "text": [
      "<class 'pandas.core.frame.DataFrame'>\n",
      "RangeIndex: 36 entries, 0 to 35\n",
      "Data columns (total 8 columns):\n",
      " #   Column                 Non-Null Count  Dtype  \n",
      "---  ------                 --------------  -----  \n",
      " 0   learning_rate          36 non-null     object \n",
      " 1   max_depth              36 non-null     object \n",
      " 2   max_features           36 non-null     object \n",
      " 3   min_impurity_decrease  36 non-null     object \n",
      " 4   min_samples_split      36 non-null     object \n",
      " 5   n_estimators           36 non-null     object \n",
      " 6   subsample              36 non-null     object \n",
      " 7   test_score             36 non-null     float64\n",
      "dtypes: float64(1), object(7)\n",
      "memory usage: 2.4+ KB\n"
     ]
    }
   ],
   "source": [
    "test_scores = results.filter(like='param').join(results[['mean_test_score']])\n",
    "test_scores = test_scores.rename(columns={c: '_'.join(c.split('_')[1:]) for c in test_scores.columns})\n",
    "test_scores.info()"
   ]
  },
  {
   "cell_type": "code",
   "execution_count": 19,
   "metadata": {
    "ExecuteTime": {
     "end_time": "2021-02-25T02:25:08.186715Z",
     "start_time": "2021-02-25T02:25:08.179533Z"
    }
   },
   "outputs": [],
   "source": [
    "params = test_scores.columns[:-1].tolist()"
   ]
  },
  {
   "cell_type": "code",
   "execution_count": 20,
   "metadata": {
    "ExecuteTime": {
     "end_time": "2021-02-25T02:25:08.204189Z",
     "start_time": "2021-02-25T02:25:08.188393Z"
    }
   },
   "outputs": [
    {
     "data": {
      "text/html": [
       "<div>\n",
       "<style scoped>\n",
       "    .dataframe tbody tr th:only-of-type {\n",
       "        vertical-align: middle;\n",
       "    }\n",
       "\n",
       "    .dataframe tbody tr th {\n",
       "        vertical-align: top;\n",
       "    }\n",
       "\n",
       "    .dataframe thead th {\n",
       "        text-align: right;\n",
       "    }\n",
       "</style>\n",
       "<table border=\"1\" class=\"dataframe\">\n",
       "  <thead>\n",
       "    <tr style=\"text-align: right;\">\n",
       "      <th></th>\n",
       "      <th>test_score</th>\n",
       "      <th>parameter</th>\n",
       "      <th>value</th>\n",
       "    </tr>\n",
       "  </thead>\n",
       "  <tbody>\n",
       "    <tr>\n",
       "      <th>0</th>\n",
       "      <td>0.5181</td>\n",
       "      <td>learning_rate</td>\n",
       "      <td>0.0100</td>\n",
       "    </tr>\n",
       "    <tr>\n",
       "      <th>1</th>\n",
       "      <td>0.5181</td>\n",
       "      <td>max_depth</td>\n",
       "      <td>3</td>\n",
       "    </tr>\n",
       "    <tr>\n",
       "      <th>2</th>\n",
       "      <td>0.5181</td>\n",
       "      <td>max_features</td>\n",
       "      <td>sqrt</td>\n",
       "    </tr>\n",
       "    <tr>\n",
       "      <th>3</th>\n",
       "      <td>0.5181</td>\n",
       "      <td>min_impurity_decrease</td>\n",
       "      <td>0</td>\n",
       "    </tr>\n",
       "    <tr>\n",
       "      <th>4</th>\n",
       "      <td>0.5181</td>\n",
       "      <td>min_samples_split</td>\n",
       "      <td>10</td>\n",
       "    </tr>\n",
       "  </tbody>\n",
       "</table>\n",
       "</div>"
      ],
      "text/plain": [
       "   test_score              parameter  value\n",
       "0      0.5181          learning_rate 0.0100\n",
       "1      0.5181              max_depth      3\n",
       "2      0.5181           max_features   sqrt\n",
       "3      0.5181  min_impurity_decrease      0\n",
       "4      0.5181      min_samples_split     10"
      ]
     },
     "execution_count": 20,
     "metadata": {},
     "output_type": "execute_result"
    }
   ],
   "source": [
    "test_scores = test_scores.set_index('test_score').stack().reset_index()\n",
    "test_scores.columns= ['test_score', 'parameter', 'value']\n",
    "test_scores.head()"
   ]
  },
  {
   "cell_type": "code",
   "execution_count": 21,
   "metadata": {
    "ExecuteTime": {
     "end_time": "2021-02-25T02:25:08.216390Z",
     "start_time": "2021-02-25T02:25:08.206029Z"
    }
   },
   "outputs": [
    {
     "name": "stdout",
     "output_type": "stream",
     "text": [
      "<class 'pandas.core.frame.DataFrame'>\n",
      "RangeIndex: 252 entries, 0 to 251\n",
      "Data columns (total 3 columns):\n",
      " #   Column      Non-Null Count  Dtype  \n",
      "---  ------      --------------  -----  \n",
      " 0   test_score  252 non-null    float64\n",
      " 1   parameter   252 non-null    object \n",
      " 2   value       252 non-null    object \n",
      "dtypes: float64(1), object(2)\n",
      "memory usage: 6.0+ KB\n"
     ]
    }
   ],
   "source": [
    "test_scores.info()"
   ]
  },
  {
   "cell_type": "code",
   "execution_count": 22,
   "metadata": {
    "ExecuteTime": {
     "end_time": "2021-02-25T02:25:08.220634Z",
     "start_time": "2021-02-25T02:25:08.218260Z"
    }
   },
   "outputs": [],
   "source": [
    "def get_test_scores(df):\n",
    "    \"\"\"Select parameter values and test scores\"\"\"\n",
    "    data = df.filter(like='param').join(results[['mean_test_score']])\n",
    "    return data.rename(columns={c: '_'.join(c.split('_')[1:]) for c in data.columns})"
   ]
  },
  {
   "cell_type": "markdown",
   "metadata": {},
   "source": [
    "### Plot Test Scores vs Parameter Settings"
   ]
  },
  {
   "cell_type": "markdown",
   "metadata": {},
   "source": [
    "The GridSearchCV result stores the average cross-validation scores so that we can analyze how different hyperparameter settings affect the outcome.\n",
    "\n",
    "The six seaborn swarm plots below show the distribution of AUC test scores for all parameter values. In this case, the highest AUC  test scores required a low learning_rate and a large value for max_features. Some parameter settings, such as a low learning_rate, produce a wide range of outcomes that depend on the complementary settings of other parameters. Other parameters are compatible with high scores for all settings use in the experiment:"
   ]
  },
  {
   "cell_type": "code",
   "execution_count": 23,
   "metadata": {
    "ExecuteTime": {
     "end_time": "2021-02-25T02:25:08.245642Z",
     "start_time": "2021-02-25T02:25:08.221605Z"
    }
   },
   "outputs": [
    {
     "name": "stdout",
     "output_type": "stream",
     "text": [
      "<class 'pandas.core.frame.DataFrame'>\n",
      "RangeIndex: 36 entries, 0 to 35\n",
      "Data columns (total 7 columns):\n",
      " #   Column             Non-Null Count  Dtype  \n",
      "---  ------             --------------  -----  \n",
      " 0   learning_rate      36 non-null     object \n",
      " 1   max_depth          36 non-null     object \n",
      " 2   max_features       36 non-null     object \n",
      " 3   min_samples_split  36 non-null     object \n",
      " 4   n_estimators       36 non-null     object \n",
      " 5   subsample          36 non-null     object \n",
      " 6   test_score         36 non-null     float64\n",
      "dtypes: float64(1), object(6)\n",
      "memory usage: 2.1+ KB\n"
     ]
    }
   ],
   "source": [
    "plot_data = get_test_scores(results).drop('min_impurity_decrease', axis=1)\n",
    "plot_params = plot_data.columns[:-1].tolist()\n",
    "plot_data.info()"
   ]
  },
  {
   "cell_type": "code",
   "execution_count": 24,
   "metadata": {
    "ExecuteTime": {
     "end_time": "2021-02-25T02:25:10.931407Z",
     "start_time": "2021-02-25T02:25:08.247484Z"
    },
    "scrolled": false
   },
   "outputs": [
    {
     "data": {
      "image/png": "[encoded data removed]",
      "text/plain": [
       "<Figure size 864x432 with 6 Axes>"
      ]
     },
     "metadata": {},
     "output_type": "display_data"
    }
   ],
   "source": [
    "fig, axes = plt.subplots(ncols=3, nrows=2, figsize=(12, 6))\n",
    "axes = axes.flatten()\n",
    "\n",
    "for i, param in enumerate(plot_params):\n",
    "    sns.swarmplot(x=param, y='test_score', data=plot_data, ax=axes[i])\n",
    "    \n",
    "fig.suptitle('Mean Test Score Distribution by Hyperparameter', fontsize=14)\n",
    "fig.tight_layout()\n",
    "fig.subplots_adjust(top=.94)\n",
    "fig.savefig('sklearn_cv_scores_by_param', dpi=300);"
   ]
  },
  {
   "cell_type": "markdown",
   "metadata": {},
   "source": [
    "### Dummy-encode parameters"
   ]
  },
  {
   "cell_type": "code",
   "execution_count": 25,
   "metadata": {
    "ExecuteTime": {
     "end_time": "2021-02-25T02:25:10.953272Z",
     "start_time": "2021-02-25T02:25:10.932498Z"
    }
   },
   "outputs": [
    {
     "name": "stdout",
     "output_type": "stream",
     "text": [
      "<class 'pandas.core.frame.DataFrame'>\n",
      "RangeIndex: 36 entries, 0 to 35\n",
      "Data columns (total 14 columns):\n",
      " #   Column                      Non-Null Count  Dtype  \n",
      "---  ------                      --------------  -----  \n",
      " 0   test_score                  36 non-null     float64\n",
      " 1   learning_rate_0.01          36 non-null     uint8  \n",
      " 2   learning_rate_0.1           36 non-null     uint8  \n",
      " 3   learning_rate_0.2           36 non-null     uint8  \n",
      " 4   max_depth_3                 36 non-null     uint8  \n",
      " 5   max_features_0.8            36 non-null     uint8  \n",
      " 6   max_features_1              36 non-null     uint8  \n",
      " 7   max_features_sqrt           36 non-null     uint8  \n",
      " 8   min_impurity_decrease_0.0   36 non-null     uint8  \n",
      " 9   min_impurity_decrease_0.01  36 non-null     uint8  \n",
      " 10  min_samples_split_10        36 non-null     uint8  \n",
      " 11  min_samples_split_50        36 non-null     uint8  \n",
      " 12  n_estimators_100            36 non-null     uint8  \n",
      " 13  subsample_0.8               36 non-null     uint8  \n",
      "dtypes: float64(1), uint8(13)\n",
      "memory usage: 884.0 bytes\n"
     ]
    }
   ],
   "source": [
    "data = get_test_scores(results)\n",
    "params = data.columns[:-1].tolist()\n",
    "data = pd.get_dummies(data,columns=params, drop_first=False)\n",
    "data.info()"
   ]
  },
  {
   "cell_type": "markdown",
   "metadata": {},
   "source": [
    "### Build Regression Tree"
   ]
  },
  {
   "cell_type": "markdown",
   "metadata": {},
   "source": [
    "We will now explore how hyperparameter settings jointly affect the mean cross-validation score. To gain insight into how parameter settings interact, we can train a DecisionTreeRegressor with the mean test score as the outcome and the parameter settings, encoded as categorical variables in one-hot or dummy format. \n",
    "\n",
    "The tree structure highlights that using all features (max_features_1), a low learning_rate, and a max_depth over three led to the best results, as shown in the following diagram:"
   ]
  },
  {
   "cell_type": "code",
   "execution_count": 26,
   "metadata": {
    "ExecuteTime": {
     "end_time": "2021-02-25T02:25:10.957522Z",
     "start_time": "2021-02-25T02:25:10.955159Z"
    }
   },
   "outputs": [],
   "source": [
    "reg_tree = DecisionTreeRegressor(criterion='mse',\n",
    "                                 splitter='best',\n",
    "                                 max_depth=4,\n",
    "                                 min_samples_split=5,\n",
    "                                 min_samples_leaf=10,\n",
    "                                 min_weight_fraction_leaf=0.0,\n",
    "                                 max_features=None,\n",
    "                                 random_state=42,\n",
    "                                 max_leaf_nodes=None,\n",
    "                                 min_impurity_decrease=0.0,\n",
    "                                 min_impurity_split=None)"
   ]
  },
  {
   "cell_type": "code",
   "execution_count": 27,
   "metadata": {
    "ExecuteTime": {
     "end_time": "2021-02-25T02:25:10.973002Z",
     "start_time": "2021-02-25T02:25:10.958622Z"
    }
   },
   "outputs": [
    {
     "data": {
      "text/plain": [
       "DecisionTreeRegressor(max_depth=4, min_samples_leaf=10, min_samples_split=5,\n",
       "                      random_state=42)"
      ]
     },
     "execution_count": 27,
     "metadata": {},
     "output_type": "execute_result"
    }
   ],
   "source": [
    "gbm_features = data.drop('test_score', axis=1).columns\n",
    "reg_tree.fit(X=data[gbm_features], y=data.test_score)"
   ]
  },
  {
   "cell_type": "code",
   "execution_count": 28,
   "metadata": {
    "ExecuteTime": {
     "end_time": "2021-02-25T02:25:10.982235Z",
     "start_time": "2021-02-25T02:25:10.974039Z"
    }
   },
   "outputs": [
    {
     "data": {
      "text/plain": [
       "array([0.81125507, 0.        , 0.        , 0.        , 0.        ,\n",
       "       0.        , 0.        , 0.        , 0.        , 0.        ,\n",
       "       0.18874493, 0.        , 0.        ])"
      ]
     },
     "execution_count": 28,
     "metadata": {},
     "output_type": "execute_result"
    }
   ],
   "source": [
    "reg_tree.feature_importances_"
   ]
  },
  {
   "cell_type": "markdown",
   "metadata": {},
   "source": [
    "#### Visualize Tree"
   ]
  },
  {
   "cell_type": "code",
   "execution_count": 29,
   "metadata": {
    "ExecuteTime": {
     "end_time": "2021-02-25T02:25:11.118521Z",
     "start_time": "2021-02-25T02:25:10.984790Z"
    }
   },
   "outputs": [
    {
     "data": {
      "image/svg+xml": [
       "<?xml version=\"1.0\" encoding=\"UTF-8\" standalone=\"no\"?>\r\n",
       "<!DOCTYPE svg PUBLIC \"-//W3C//DTD SVG 1.1//EN\"\r\n",
       " \"http://www.w3.org/Graphics/SVG/1.1/DTD/svg11.dtd\">\r\n",
       "<!-- Generated by graphviz version 2.47.1 (0)\r\n",
       " -->\r\n",
       "<!-- Title: Tree Pages: 1 -->\r\n",
       "<svg width=\"338pt\" height=\"269pt\"\r\n",
       " viewBox=\"0.00 0.00 338.00 269.00\" xmlns=\"http://www.w3.org/2000/svg\" xmlns:xlink=\"http://www.w3.org/1999/xlink\">\r\n",
       "<g id=\"graph0\" class=\"graph\" transform=\"scale(1 1) rotate(0) translate(4 265)\">\r\n",
       "<title>Tree</title>\r\n",
       "<polygon fill=\"white\" stroke=\"transparent\" points=\"-4,4 -4,-265 334,-265 334,4 -4,4\"/>\r\n",
       "<!-- 0 -->\r\n",
       "<g id=\"node1\" class=\"node\">\r\n",
       "<title>0</title>\r\n",
       "<path fill=\"#f1bd98\" stroke=\"black\" d=\"M267.5,-261C267.5,-261 121.5,-261 121.5,-261 115.5,-261 109.5,-255 109.5,-249 109.5,-249 109.5,-205 109.5,-205 109.5,-199 115.5,-193 121.5,-193 121.5,-193 267.5,-193 267.5,-193 273.5,-193 279.5,-199 279.5,-205 279.5,-205 279.5,-249 279.5,-249 279.5,-255 273.5,-261 267.5,-261\"/>\r\n",
       "<text text-anchor=\"start\" x=\"117.5\" y=\"-245.8\" font-family=\"Helvetica,sans-Serif\" font-size=\"14.00\">learning_rate_0.01 ≤ 0.5</text>\r\n",
       "<text text-anchor=\"start\" x=\"162.5\" y=\"-230.8\" font-family=\"Helvetica,sans-Serif\" font-size=\"14.00\">mse = 0.0</text>\r\n",
       "<text text-anchor=\"start\" x=\"151\" y=\"-215.8\" font-family=\"Helvetica,sans-Serif\" font-size=\"14.00\">samples = 36</text>\r\n",
       "<text text-anchor=\"start\" x=\"151.5\" y=\"-200.8\" font-family=\"Helvetica,sans-Serif\" font-size=\"14.00\">value = 0.518</text>\r\n",
       "</g>\r\n",
       "<!-- 1 -->\r\n",
       "<g id=\"node2\" class=\"node\">\r\n",
       "<title>1</title>\r\n",
       "<path fill=\"#eb9c64\" stroke=\"black\" d=\"M197,-157C197,-157 26,-157 26,-157 20,-157 14,-151 14,-145 14,-145 14,-101 14,-101 14,-95 20,-89 26,-89 26,-89 197,-89 197,-89 203,-89 209,-95 209,-101 209,-101 209,-145 209,-145 209,-151 203,-157 197,-157\"/>\r\n",
       "<text text-anchor=\"start\" x=\"22\" y=\"-141.8\" font-family=\"Helvetica,sans-Serif\" font-size=\"14.00\">min_samples_split_50 ≤ 0.5</text>\r\n",
       "<text text-anchor=\"start\" x=\"79.5\" y=\"-126.8\" font-family=\"Helvetica,sans-Serif\" font-size=\"14.00\">mse = 0.0</text>\r\n",
       "<text text-anchor=\"start\" x=\"68\" y=\"-111.8\" font-family=\"Helvetica,sans-Serif\" font-size=\"14.00\">samples = 24</text>\r\n",
       "<text text-anchor=\"start\" x=\"72.5\" y=\"-96.8\" font-family=\"Helvetica,sans-Serif\" font-size=\"14.00\">value = 0.52</text>\r\n",
       "</g>\r\n",
       "<!-- 0&#45;&gt;1 -->\r\n",
       "<g id=\"edge1\" class=\"edge\">\r\n",
       "<title>0&#45;&gt;1</title>\r\n",
       "<path fill=\"none\" stroke=\"black\" d=\"M167.55,-192.88C160.38,-184.07 152.54,-174.43 145.05,-165.24\"/>\r\n",
       "<polygon fill=\"black\" stroke=\"black\" points=\"147.62,-162.85 138.6,-157.3 142.19,-167.26 147.62,-162.85\"/>\r\n",
       "<text text-anchor=\"middle\" x=\"136.04\" y=\"-178.47\" font-family=\"Helvetica,sans-Serif\" font-size=\"14.00\">True</text>\r\n",
       "</g>\r\n",
       "<!-- 4 -->\r\n",
       "<g id=\"node5\" class=\"node\">\r\n",
       "<title>4</title>\r\n",
       "<path fill=\"#ffffff\" stroke=\"black\" d=\"M318,-149.5C318,-149.5 239,-149.5 239,-149.5 233,-149.5 227,-143.5 227,-137.5 227,-137.5 227,-108.5 227,-108.5 227,-102.5 233,-96.5 239,-96.5 239,-96.5 318,-96.5 318,-96.5 324,-96.5 330,-102.5 330,-108.5 330,-108.5 330,-137.5 330,-137.5 330,-143.5 324,-149.5 318,-149.5\"/>\r\n",
       "<text text-anchor=\"start\" x=\"246.5\" y=\"-134.3\" font-family=\"Helvetica,sans-Serif\" font-size=\"14.00\">mse = 0.0</text>\r\n",
       "<text text-anchor=\"start\" x=\"235\" y=\"-119.3\" font-family=\"Helvetica,sans-Serif\" font-size=\"14.00\">samples = 12</text>\r\n",
       "<text text-anchor=\"start\" x=\"235.5\" y=\"-104.3\" font-family=\"Helvetica,sans-Serif\" font-size=\"14.00\">value = 0.513</text>\r\n",
       "</g>\r\n",
       "<!-- 0&#45;&gt;4 -->\r\n",
       "<g id=\"edge4\" class=\"edge\">\r\n",
       "<title>0&#45;&gt;4</title>\r\n",
       "<path fill=\"none\" stroke=\"black\" d=\"M221.77,-192.88C231.1,-181.56 241.54,-168.88 250.89,-157.52\"/>\r\n",
       "<polygon fill=\"black\" stroke=\"black\" points=\"253.83,-159.46 257.48,-149.52 248.42,-155.01 253.83,-159.46\"/>\r\n",
       "<text text-anchor=\"middle\" x=\"259.89\" y=\"-170.7\" font-family=\"Helvetica,sans-Serif\" font-size=\"14.00\">False</text>\r\n",
       "</g>\r\n",
       "<!-- 2 -->\r\n",
       "<g id=\"node3\" class=\"node\">\r\n",
       "<title>2</title>\r\n",
       "<path fill=\"#f0b88f\" stroke=\"black\" d=\"M91,-53C91,-53 12,-53 12,-53 6,-53 0,-47 0,-41 0,-41 0,-12 0,-12 0,-6 6,0 12,0 12,0 91,0 91,0 97,0 103,-6 103,-12 103,-12 103,-41 103,-41 103,-47 97,-53 91,-53\"/>\r\n",
       "<text text-anchor=\"start\" x=\"19.5\" y=\"-37.8\" font-family=\"Helvetica,sans-Serif\" font-size=\"14.00\">mse = 0.0</text>\r\n",
       "<text text-anchor=\"start\" x=\"8\" y=\"-22.8\" font-family=\"Helvetica,sans-Serif\" font-size=\"14.00\">samples = 12</text>\r\n",
       "<text text-anchor=\"start\" x=\"8.5\" y=\"-7.8\" font-family=\"Helvetica,sans-Serif\" font-size=\"14.00\">value = 0.518</text>\r\n",
       "</g>\r\n",
       "<!-- 1&#45;&gt;2 -->\r\n",
       "<g id=\"edge2\" class=\"edge\">\r\n",
       "<title>1&#45;&gt;2</title>\r\n",
       "<path fill=\"none\" stroke=\"black\" d=\"M90.51,-88.95C84.94,-80.17 78.91,-70.66 73.29,-61.82\"/>\r\n",
       "<polygon fill=\"black\" stroke=\"black\" points=\"76.16,-59.8 67.84,-53.24 70.25,-63.55 76.16,-59.8\"/>\r\n",
       "</g>\r\n",
       "<!-- 3 -->\r\n",
       "<g id=\"node4\" class=\"node\">\r\n",
       "<title>3</title>\r\n",
       "<path fill=\"#e58139\" stroke=\"black\" d=\"M212,-53C212,-53 133,-53 133,-53 127,-53 121,-47 121,-41 121,-41 121,-12 121,-12 121,-6 127,0 133,0 133,0 212,0 212,0 218,0 224,-6 224,-12 224,-12 224,-41 224,-41 224,-47 218,-53 212,-53\"/>\r\n",
       "<text text-anchor=\"start\" x=\"140.5\" y=\"-37.8\" font-family=\"Helvetica,sans-Serif\" font-size=\"14.00\">mse = 0.0</text>\r\n",
       "<text text-anchor=\"start\" x=\"129\" y=\"-22.8\" font-family=\"Helvetica,sans-Serif\" font-size=\"14.00\">samples = 12</text>\r\n",
       "<text text-anchor=\"start\" x=\"129.5\" y=\"-7.8\" font-family=\"Helvetica,sans-Serif\" font-size=\"14.00\">value = 0.521</text>\r\n",
       "</g>\r\n",
       "<!-- 1&#45;&gt;3 -->\r\n",
       "<g id=\"edge3\" class=\"edge\">\r\n",
       "<title>1&#45;&gt;3</title>\r\n",
       "<path fill=\"none\" stroke=\"black\" d=\"M132.83,-88.95C138.5,-80.17 144.64,-70.66 150.35,-61.82\"/>\r\n",
       "<polygon fill=\"black\" stroke=\"black\" points=\"153.4,-63.54 155.89,-53.24 147.52,-59.74 153.4,-63.54\"/>\r\n",
       "</g>\r\n",
       "</g>\r\n",
       "</svg>\r\n"
      ],
      "text/plain": [
       "<graphviz.files.Source at 0x256dc6cb130>"
      ]
     },
     "execution_count": 29,
     "metadata": {},
     "output_type": "execute_result"
    }
   ],
   "source": [
    "out_file = 'results/gbm_sklearn_tree.dot'\n",
    "dot_data = export_graphviz(reg_tree,\n",
    "                          out_file=out_file,\n",
    "                          feature_names=gbm_features,\n",
    "                          max_depth=4,\n",
    "                          filled=True,\n",
    "                          rounded=True,\n",
    "                          special_characters=True)\n",
    "if out_file is not None:\n",
    "    dot_data = Path(out_file).read_text()\n",
    "\n",
    "graphviz.Source(dot_data)"
   ]
  },
  {
   "cell_type": "markdown",
   "metadata": {},
   "source": [
    "#### Compute Feature Importance"
   ]
  },
  {
   "cell_type": "markdown",
   "metadata": {
    "ExecuteTime": {
     "end_time": "2018-10-23T13:40:08.199563Z",
     "start_time": "2018-10-23T13:40:08.196698Z"
    }
   },
   "source": [
    "Overfit regression tree to learn detailed rules that classify all samples"
   ]
  },
  {
   "cell_type": "code",
   "execution_count": 30,
   "metadata": {
    "ExecuteTime": {
     "end_time": "2021-02-25T02:25:23.189671Z",
     "start_time": "2021-02-25T02:25:23.178012Z"
    }
   },
   "outputs": [
    {
     "data": {
      "text/plain": [
       "DecisionTreeRegressor(random_state=42)"
      ]
     },
     "execution_count": 30,
     "metadata": {},
     "output_type": "execute_result"
    }
   ],
   "source": [
    "reg_tree = DecisionTreeRegressor(criterion='mse',\n",
    "                                 splitter='best',\n",
    "                                 min_samples_split=2,\n",
    "                                 min_samples_leaf=1,\n",
    "                                 min_weight_fraction_leaf=0.0,\n",
    "                                 max_features=None,\n",
    "                                 random_state=42,\n",
    "                                 max_leaf_nodes=None,\n",
    "                                 min_impurity_decrease=0.0,\n",
    "                                 min_impurity_split=None)\n",
    "\n",
    "gbm_features = data.drop('test_score', axis=1).columns\n",
    "reg_tree.fit(X=data[gbm_features], y=data.test_score)"
   ]
  },
  {
   "cell_type": "markdown",
   "metadata": {},
   "source": [
    "The bar chart below displays the influence of the hyperparameter settings in producing different outcomes, measured by their feature importance for a decision tree that is grown to its maximum depth. Naturally, the features that appear near the top of the tree also accumulate the highest importance scores."
   ]
  },
  {
   "cell_type": "code",
   "execution_count": 31,
   "metadata": {
    "ExecuteTime": {
     "end_time": "2021-02-25T02:25:23.941277Z",
     "start_time": "2021-02-25T02:25:23.684238Z"
    }
   },
   "outputs": [
    {
     "data": {
      "image/png": "[encoded data removed]",
      "text/plain": [
       "<Figure size 360x360 with 1 Axes>"
      ]
     },
     "metadata": {},
     "output_type": "display_data"
    }
   ],
   "source": [
    "gbm_fi = (pd.Series(reg_tree.feature_importances_, \n",
    "                    index=gbm_features)\n",
    "          .sort_values(ascending=False))\n",
    "gbm_fi = gbm_fi[gbm_fi > 0]\n",
    "idx = [p.split('_') for p in gbm_fi.index]\n",
    "gbm_fi.index = ['_'.join(p[:-1]) + '=' + p[-1] for p in idx]\n",
    "gbm_fi.sort_values().plot.barh(figsize=(5,5))\n",
    "plt.title('Hyperparameter Importance')\n",
    "sns.despine()\n",
    "plt.tight_layout();"
   ]
  },
  {
   "cell_type": "markdown",
   "metadata": {},
   "source": [
    "### Run linear regression"
   ]
  },
  {
   "cell_type": "markdown",
   "metadata": {},
   "source": [
    "Alternatively, we can use a linear regression to gain insights into the statistical significance of the linear relationship between hyperparameters and test scores."
   ]
  },
  {
   "cell_type": "code",
   "execution_count": 32,
   "metadata": {
    "ExecuteTime": {
     "end_time": "2021-02-25T02:25:26.902003Z",
     "start_time": "2021-02-25T02:25:26.870554Z"
    }
   },
   "outputs": [
    {
     "name": "stdout",
     "output_type": "stream",
     "text": [
      "                            OLS Regression Results                            \n",
      "==============================================================================\n",
      "Dep. Variable:             test_score   R-squared:                       0.283\n",
      "Model:                            OLS   Adj. R-squared:                  0.135\n",
      "Method:                 Least Squares   F-statistic:                     1.715\n",
      "Date:                Fri, 11 Jun 2021   Prob (F-statistic):              0.153\n",
      "Time:                        21:49:23   Log-Likelihood:                 137.70\n",
      "No. Observations:                  36   AIC:                            -261.4\n",
      "Df Residuals:                      29   BIC:                            -250.3\n",
      "Df Model:                           6                                         \n",
      "Covariance Type:                  HC3                                         \n",
      "==============================================================================================\n",
      "                                 coef    std err          z      P>|z|      [0.025      0.975]\n",
      "----------------------------------------------------------------------------------------------\n",
      "const                          0.5138      0.003    152.137      0.000       0.507       0.520\n",
      "learning_rate_0.1              0.0052      0.003      1.780      0.075      -0.001       0.011\n",
      "learning_rate_0.2              0.0073      0.003      2.529      0.011       0.002       0.013\n",
      "max_features_1                 0.0001      0.003      0.044      0.965      -0.006       0.006\n",
      "max_features_sqrt             -0.0025      0.002     -1.044      0.297      -0.007       0.002\n",
      "min_impurity_decrease_0.01  3.127e-05      0.002      0.014      0.989      -0.004       0.004\n",
      "min_samples_split_50           0.0008      0.002      0.346      0.729      -0.004       0.005\n",
      "==============================================================================\n",
      "Omnibus:                        0.049   Durbin-Watson:                   2.021\n",
      "Prob(Omnibus):                  0.976   Jarque-Bera (JB):                0.252\n",
      "Skew:                          -0.021   Prob(JB):                        0.881\n",
      "Kurtosis:                       2.592   Cond. No.                         5.42\n",
      "==============================================================================\n",
      "\n",
      "Notes:\n",
      "[1] Standard Errors are heteroscedasticity robust (HC3)\n"
     ]
    }
   ],
   "source": [
    "data = get_test_scores(results)\n",
    "params = data.columns[:-1].tolist()\n",
    "data = pd.get_dummies(data,columns=params, drop_first=True)\n",
    "\n",
    "model = OLS(endog=data.test_score, exog=add_constant(data.drop('test_score', axis=1))).fit(cov_type='HC3')\n",
    "print(model.summary())"
   ]
  },
  {
   "cell_type": "code",
   "execution_count": null,
   "metadata": {},
   "outputs": [],
   "source": []
  }
 ],
 "metadata": {
  "kernelspec": {
   "display_name": "Python [conda env:ml4t_orginal]",
   "language": "python",
   "name": "conda-env-ml4t_orginal-py"
  },
  "language_info": {
   "codemirror_mode": {
    "name": "ipython",
    "version": 3
   },
   "file_extension": ".py",
   "mimetype": "text/x-python",
   "name": "python",
   "nbconvert_exporter": "python",
   "pygments_lexer": "ipython3",
   "version": "3.8.8"
  },
  "toc": {
   "base_numbering": 1,
   "nav_menu": {},
   "number_sections": true,
   "sideBar": true,
   "skip_h1_title": true,
   "title_cell": "Table of Contents",
   "title_sidebar": "Contents",
   "toc_cell": false,
   "toc_position": {
    "height": "calc(100% - 180px)",
    "left": "10px",
    "top": "150px",
    "width": "272.4px"
   },
   "toc_section_display": true,
   "toc_window_display": false
  }
 },
 "nbformat": 4,
 "nbformat_minor": 2
}
