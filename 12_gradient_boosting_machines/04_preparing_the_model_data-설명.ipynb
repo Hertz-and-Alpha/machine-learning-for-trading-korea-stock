{
 "cells": [
  {
   "cell_type": "markdown",
   "metadata": {},
   "source": [
    "# Long-Short Strategy, Part 1: Preparing Alpha Factors and Features"
   ]
  },
  {
   "cell_type": "markdown",
   "metadata": {},
   "source": [
    "In this section, we'll start designing, implementing, and evaluating a trading strategy for US equities driven by daily return forecasts produced by gradient boosting models.\n",
    "\n",
    "As in the previous examples, we'll lay out a framework and build a specific example that you can adapt to run your own experiments. There are numerous aspects that you can vary, from the asset class and investment universe to more granular aspects like the features, holding period, or trading rules. See, for example, the **Alpha Factor Library** in the [Appendix](../24_alpha_factor_library) for numerous additional features.\n",
    "\n",
    "We'll keep the trading strategy simple and only use a single ML signal; a real-life application will likely use multiple signals from different sources, such as complementary ML models trained on different datasets or with different lookahead or lookback periods. It would also use sophisticated risk management, from simple stop-loss to value-at-risk analysis.\n",
    "\n",
    "**Six notebooks** cover our workflow sequence:\n",
    "\n",
    "1. `preparing_the_model_data` (this noteboook): we'll engineer a few simple features from the Quandl Wiki data \n",
    "2. [trading_signals_with_lightgbm_and_catboost](05_trading_signals_with_lightgbm_and_catboost.ipynb): we tune hyperparameters for LightGBM and CatBoost to select a model, using 2015/16 as our validation period. \n",
    "3. [evaluate_trading_signals](06_evaluate_trading_signals.ipynb): we compare the cross-validation performance using various metrics to select the best model. \n",
    "4. [model_interpretation](07_model_interpretation.ipynb): we take a closer look at the drivers behind the best model's predictions.\n",
    "5. [making_out_of_sample_predictions](08_making_out_of_sample_predictions.ipynb): we generate predictions for our out-of-sample test period 2017.\n",
    "6. [backtesting_with_zipline](09_backtesting_with_zipline.ipynb): evaluate the historical performance of a long-short strategy based on our predictive signals using Zipline."
   ]
  },
  {
   "cell_type": "markdown",
   "metadata": {},
   "source": [
    "## Imports & Settings"
   ]
  },
  {
   "cell_type": "code",
   "execution_count": 1,
   "metadata": {
    "ExecuteTime": {
     "end_time": "2021-02-25T02:25:40.960749Z",
     "start_time": "2021-02-25T02:25:40.958783Z"
    }
   },
   "outputs": [],
   "source": [
    "import warnings\n",
    "warnings.filterwarnings('ignore')"
   ]
  },
  {
   "cell_type": "code",
   "execution_count": 2,
   "metadata": {
    "ExecuteTime": {
     "end_time": "2021-02-25T02:25:41.685336Z",
     "start_time": "2021-02-25T02:25:40.966186Z"
    }
   },
   "outputs": [],
   "source": [
    "%matplotlib inline\n",
    "import numpy as np\n",
    "import pandas as pd\n",
    "import matplotlib.pyplot as plt\n",
    "import seaborn as sns\n",
    "import talib\n",
    "from talib import RSI, BBANDS, MACD, ATR"
   ]
  },
  {
   "cell_type": "code",
   "execution_count": 3,
   "metadata": {
    "ExecuteTime": {
     "end_time": "2021-02-25T02:25:41.689152Z",
     "start_time": "2021-02-25T02:25:41.686291Z"
    }
   },
   "outputs": [],
   "source": [
    "MONTH = 21\n",
    "YEAR = 12 * MONTH"
   ]
  },
  {
   "cell_type": "code",
   "execution_count": 4,
   "metadata": {
    "ExecuteTime": {
     "end_time": "2021-02-25T02:25:41.701014Z",
     "start_time": "2021-02-25T02:25:41.690760Z"
    }
   },
   "outputs": [],
   "source": [
    "START = '2010-01-01'\n",
    "END = '2017-12-31'"
   ]
  },
  {
   "cell_type": "code",
   "execution_count": 5,
   "metadata": {
    "ExecuteTime": {
     "end_time": "2021-02-25T02:25:41.710405Z",
     "start_time": "2021-02-25T02:25:41.702050Z"
    }
   },
   "outputs": [],
   "source": [
    "sns.set_style('darkgrid')\n",
    "idx = pd.IndexSlice"
   ]
  },
  {
   "cell_type": "code",
   "execution_count": 6,
   "metadata": {
    "ExecuteTime": {
     "end_time": "2021-02-25T02:25:41.719203Z",
     "start_time": "2021-02-25T02:25:41.711268Z"
    }
   },
   "outputs": [],
   "source": [
    "percentiles = [.001, .01, .02, .03, .04, .05]\n",
    "percentiles += [1-p for p in percentiles[::-1]]"
   ]
  },
  {
   "cell_type": "code",
   "execution_count": 7,
   "metadata": {
    "ExecuteTime": {
     "end_time": "2021-02-25T02:25:41.728454Z",
     "start_time": "2021-02-25T02:25:41.720239Z"
    }
   },
   "outputs": [],
   "source": [
    "T = [1, 5, 10, 21, 42, 63]"
   ]
  },
  {
   "cell_type": "markdown",
   "metadata": {},
   "source": [
    "## Loading Quandl Wiki Stock Prices & Meta Data"
   ]
  },
  {
   "cell_type": "code",
   "execution_count": 8,
   "metadata": {
    "ExecuteTime": {
     "end_time": "2021-02-25T02:25:49.504343Z",
     "start_time": "2021-02-25T02:25:41.730118Z"
    }
   },
   "outputs": [],
   "source": [
    "DATA_STORE = '../data/assets.h5'\n",
    "ohlcv = ['adj_open', 'adj_close', 'adj_low', 'adj_high', 'adj_volume']\n",
    "with pd.HDFStore(DATA_STORE) as store:\n",
    "    prices = (store['finance_datareader/prices']\n",
    "              .loc[idx[START:END, :], ohlcv] # select OHLCV columns from 2010 until 2017\n",
    "              .rename(columns=lambda x: x.replace('adj_', '')) # simplify column names\n",
    "              .swaplevel()\n",
    "              .sort_index())\n",
    "    metadata = store['kospi/stocks'].reindex(columns=['시가총액', 'sector'])"
   ]
  },
  {
   "cell_type": "code",
   "execution_count": 9,
   "metadata": {
    "ExecuteTime": {
     "end_time": "2021-02-25T02:25:49.543442Z",
     "start_time": "2021-02-25T02:25:49.505884Z"
    }
   },
   "outputs": [],
   "source": [
    "prices.volume /= 1e3 # make vol figures a bit smaller\n",
    "prices.index.names = ['symbol', 'date']\n",
    "metadata.index.name = 'symbol'"
   ]
  },
  {
   "cell_type": "markdown",
   "metadata": {},
   "source": [
    "## Remove stocks with insufficient observations"
   ]
  },
  {
   "cell_type": "markdown",
   "metadata": {},
   "source": [
    "We require at least 7 years of data; we simplify and select using both in- and out-of-sample period; please be aware that it would be more accurate to use only the training period to remove data to avoid lookahead bias."
   ]
  },
  {
   "cell_type": "code",
   "execution_count": 10,
   "metadata": {
    "ExecuteTime": {
     "end_time": "2021-02-25T02:29:17.109549Z",
     "start_time": "2021-02-25T02:25:49.544945Z"
    }
   },
   "outputs": [],
   "source": [
    "min_obs = 7 * YEAR\n",
    "nobs = prices.groupby(level='symbol').size()\n",
    "keep = nobs[nobs > min_obs].index\n",
    "prices = prices.loc[idx[keep, :], :]"
   ]
  },
  {
   "cell_type": "markdown",
   "metadata": {},
   "source": [
    "### Align price and meta data"
   ]
  },
  {
   "cell_type": "code",
   "execution_count": 11,
   "metadata": {
    "ExecuteTime": {
     "end_time": "2021-02-25T02:29:17.120202Z",
     "start_time": "2021-02-25T02:29:17.111416Z"
    }
   },
   "outputs": [],
   "source": [
    "metadata = metadata[~metadata.index.duplicated() & metadata.sector.notnull()]\n",
    "metadata.sector = metadata.sector.str.lower().str.replace(' ', '_')"
   ]
  },
  {
   "cell_type": "code",
   "execution_count": 12,
   "metadata": {},
   "outputs": [
    {
     "data": {
      "text/html": [
       "<div>\n",
       "<style scoped>\n",
       "    .dataframe tbody tr th:only-of-type {\n",
       "        vertical-align: middle;\n",
       "    }\n",
       "\n",
       "    .dataframe tbody tr th {\n",
       "        vertical-align: top;\n",
       "    }\n",
       "\n",
       "    .dataframe thead th {\n",
       "        text-align: right;\n",
       "    }\n",
       "</style>\n",
       "<table border=\"1\" class=\"dataframe\">\n",
       "  <thead>\n",
       "    <tr style=\"text-align: right;\">\n",
       "      <th></th>\n",
       "      <th>시가총액</th>\n",
       "      <th>sector</th>\n",
       "    </tr>\n",
       "    <tr>\n",
       "      <th>symbol</th>\n",
       "      <th></th>\n",
       "      <th></th>\n",
       "    </tr>\n",
       "  </thead>\n",
       "  <tbody>\n",
       "    <tr>\n",
       "      <th>095570</th>\n",
       "      <td>267823527400</td>\n",
       "      <td>산업용_기계_및_장비_임대업</td>\n",
       "    </tr>\n",
       "    <tr>\n",
       "      <th>006840</th>\n",
       "      <td>480886464300</td>\n",
       "      <td>기타_금융업</td>\n",
       "    </tr>\n",
       "    <tr>\n",
       "      <th>027410</th>\n",
       "      <td>678632048190</td>\n",
       "      <td>기타_금융업</td>\n",
       "    </tr>\n",
       "    <tr>\n",
       "      <th>282330</th>\n",
       "      <td>3258016281000</td>\n",
       "      <td>종합_소매업</td>\n",
       "    </tr>\n",
       "    <tr>\n",
       "      <th>138930</th>\n",
       "      <td>2584666500780</td>\n",
       "      <td>기타_금융업</td>\n",
       "    </tr>\n",
       "    <tr>\n",
       "      <th>...</th>\n",
       "      <td>...</td>\n",
       "      <td>...</td>\n",
       "    </tr>\n",
       "    <tr>\n",
       "      <th>079980</th>\n",
       "      <td>365700000000</td>\n",
       "      <td>화학섬유_제조업</td>\n",
       "    </tr>\n",
       "    <tr>\n",
       "      <th>005010</th>\n",
       "      <td>113305322000</td>\n",
       "      <td>1차_철강_제조업</td>\n",
       "    </tr>\n",
       "    <tr>\n",
       "      <th>069260</th>\n",
       "      <td>907504653600</td>\n",
       "      <td>기타_화학제품_제조업</td>\n",
       "    </tr>\n",
       "    <tr>\n",
       "      <th>000540</th>\n",
       "      <td>300976791825</td>\n",
       "      <td>보험업</td>\n",
       "    </tr>\n",
       "    <tr>\n",
       "      <th>003280</th>\n",
       "      <td>30117000222</td>\n",
       "      <td>해상_운송업</td>\n",
       "    </tr>\n",
       "  </tbody>\n",
       "</table>\n",
       "<p>770 rows × 2 columns</p>\n",
       "</div>"
      ],
      "text/plain": [
       "                 시가총액           sector\n",
       "symbol                                \n",
       "095570   267823527400  산업용_기계_및_장비_임대업\n",
       "006840   480886464300           기타_금융업\n",
       "027410   678632048190           기타_금융업\n",
       "282330  3258016281000           종합_소매업\n",
       "138930  2584666500780           기타_금융업\n",
       "...               ...              ...\n",
       "079980   365700000000         화학섬유_제조업\n",
       "005010   113305322000        1차_철강_제조업\n",
       "069260   907504653600      기타_화학제품_제조업\n",
       "000540   300976791825              보험업\n",
       "003280    30117000222           해상_운송업\n",
       "\n",
       "[770 rows x 2 columns]"
      ]
     },
     "execution_count": 12,
     "metadata": {},
     "output_type": "execute_result"
    }
   ],
   "source": [
    "metadata"
   ]
  },
  {
   "cell_type": "code",
   "execution_count": 13,
   "metadata": {
    "ExecuteTime": {
     "end_time": "2021-02-25T02:32:22.346966Z",
     "start_time": "2021-02-25T02:29:17.121545Z"
    }
   },
   "outputs": [],
   "source": [
    "shared = (prices.index.get_level_values('symbol').unique()\n",
    "          .intersection(metadata.index))\n",
    "metadata = metadata.loc[shared, :]\n",
    "prices = prices.loc[idx[shared, :], :]"
   ]
  },
  {
   "cell_type": "markdown",
   "metadata": {},
   "source": [
    "### Limit universe to 1,000 stocks with highest market cap"
   ]
  },
  {
   "cell_type": "markdown",
   "metadata": {},
   "source": [
    "Again, we simplify and use the entire sample period, not just the training period, to select our universe."
   ]
  },
  {
   "cell_type": "code",
   "execution_count": 14,
   "metadata": {
    "ExecuteTime": {
     "end_time": "2021-02-25T02:33:28.698764Z",
     "start_time": "2021-02-25T02:32:22.348061Z"
    }
   },
   "outputs": [],
   "source": [
    "universe = metadata['시가총액'].nlargest(1000).index\n",
    "prices = prices.loc[idx[universe, :], :]\n",
    "metadata = metadata.loc[universe]"
   ]
  },
  {
   "cell_type": "code",
   "execution_count": 15,
   "metadata": {
    "ExecuteTime": {
     "end_time": "2021-02-25T02:33:28.712602Z",
     "start_time": "2021-02-25T02:33:28.699658Z"
    }
   },
   "outputs": [
    {
     "data": {
      "text/plain": [
       "기타_금융업            45\n",
       "자동차_신품_부품_제조업     33\n",
       "의약품_제조업           33\n",
       "1차_철강_제조업         27\n",
       "기초_화학물질_제조업       23\n",
       "                  ..\n",
       "무기_및_총포탄_제조업       1\n",
       "무점포_소매업            1\n",
       "가정용_기기_제조업         1\n",
       "기타_사업지원_서비스업       1\n",
       "소프트웨어_개발_및_공급업     1\n",
       "Name: sector, Length: 111, dtype: int64"
      ]
     },
     "execution_count": 15,
     "metadata": {},
     "output_type": "execute_result"
    }
   ],
   "source": [
    "metadata.sector.value_counts()"
   ]
  },
  {
   "cell_type": "code",
   "execution_count": 16,
   "metadata": {
    "ExecuteTime": {
     "end_time": "2021-02-25T02:33:28.787555Z",
     "start_time": "2021-02-25T02:33:28.713711Z"
    }
   },
   "outputs": [
    {
     "name": "stdout",
     "output_type": "stream",
     "text": [
      "<class 'pandas.core.frame.DataFrame'>\n",
      "MultiIndex: 1147349 entries, ('005930', Timestamp('2010-01-04 00:00:00')) to ('010580', Timestamp('2017-12-28 00:00:00'))\n",
      "Data columns (total 5 columns):\n",
      " #   Column  Non-Null Count    Dtype  \n",
      "---  ------  --------------    -----  \n",
      " 0   open    1147349 non-null  float64\n",
      " 1   close   1147349 non-null  float64\n",
      " 2   low     1147349 non-null  float64\n",
      " 3   high    1147349 non-null  float64\n",
      " 4   volume  1147349 non-null  float64\n",
      "dtypes: float64(5)\n",
      "memory usage: 48.5+ MB\n"
     ]
    }
   ],
   "source": [
    "prices.info(show_counts=True)"
   ]
  },
  {
   "cell_type": "code",
   "execution_count": 17,
   "metadata": {
    "ExecuteTime": {
     "end_time": "2021-02-25T02:33:28.796905Z",
     "start_time": "2021-02-25T02:33:28.788498Z"
    },
    "scrolled": true
   },
   "outputs": [
    {
     "name": "stdout",
     "output_type": "stream",
     "text": [
      "<class 'pandas.core.frame.DataFrame'>\n",
      "Index: 584 entries, 005930 to 010580\n",
      "Data columns (total 2 columns):\n",
      " #   Column  Non-Null Count  Dtype \n",
      "---  ------  --------------  ----- \n",
      " 0   시가총액    584 non-null    int64 \n",
      " 1   sector  584 non-null    object\n",
      "dtypes: int64(1), object(1)\n",
      "memory usage: 13.7+ KB\n"
     ]
    }
   ],
   "source": [
    "metadata.info()"
   ]
  },
  {
   "cell_type": "markdown",
   "metadata": {},
   "source": [
    "### Rank assets by Rolling Average Dollar Volume"
   ]
  },
  {
   "cell_type": "markdown",
   "metadata": {},
   "source": [
    "#### Compute dollar volume"
   ]
  },
  {
   "cell_type": "code",
   "execution_count": 18,
   "metadata": {},
   "outputs": [],
   "source": [
    "prices['dollar_vol'] = prices[['close', 'volume']].prod(1).div(1e3)"
   ]
  },
  {
   "cell_type": "markdown",
   "metadata": {},
   "source": [
    "#### 21-day moving average"
   ]
  },
  {
   "cell_type": "code",
   "execution_count": 19,
   "metadata": {
    "ExecuteTime": {
     "end_time": "2021-02-25T02:33:36.748231Z",
     "start_time": "2021-02-25T02:33:28.797955Z"
    }
   },
   "outputs": [],
   "source": [
    "# compute dollar volume to determine universe\n",
    "dollar_vol_ma = (prices\n",
    "                 .dollar_vol\n",
    "                 .unstack('symbol')\n",
    "                 .rolling(window=21, min_periods=1) # 1 trading month\n",
    "                 .mean())"
   ]
  },
  {
   "cell_type": "markdown",
   "metadata": {},
   "source": [
    "#### Rank stocks by moving average"
   ]
  },
  {
   "cell_type": "code",
   "execution_count": 20,
   "metadata": {
    "ExecuteTime": {
     "end_time": "2021-02-25T02:33:36.992360Z",
     "start_time": "2021-02-25T02:33:36.750624Z"
    }
   },
   "outputs": [],
   "source": [
    "prices['dollar_vol_rank'] = (dollar_vol_ma\n",
    "                            .rank(axis=1, ascending=False)\n",
    "                            .stack('symbol')\n",
    "                            .swaplevel())"
   ]
  },
  {
   "cell_type": "code",
   "execution_count": 21,
   "metadata": {},
   "outputs": [
    {
     "name": "stdout",
     "output_type": "stream",
     "text": [
      "<class 'pandas.core.frame.DataFrame'>\n",
      "MultiIndex: 1147349 entries, ('005930', Timestamp('2010-01-04 00:00:00')) to ('010580', Timestamp('2017-12-28 00:00:00'))\n",
      "Data columns (total 7 columns):\n",
      " #   Column           Non-Null Count    Dtype  \n",
      "---  ------           --------------    -----  \n",
      " 0   open             1147349 non-null  float64\n",
      " 1   close            1147349 non-null  float64\n",
      " 2   low              1147349 non-null  float64\n",
      " 3   high             1147349 non-null  float64\n",
      " 4   volume           1147349 non-null  float64\n",
      " 5   dollar_vol       1147349 non-null  float64\n",
      " 6   dollar_vol_rank  1147349 non-null  float64\n",
      "dtypes: float64(7)\n",
      "memory usage: 66.0+ MB\n"
     ]
    }
   ],
   "source": [
    "prices.info(show_counts=True)"
   ]
  },
  {
   "cell_type": "markdown",
   "metadata": {},
   "source": [
    "## Add some Basic Factors"
   ]
  },
  {
   "cell_type": "markdown",
   "metadata": {},
   "source": [
    "See [appendix](../24_alpha_factor_library) for details on the below indicators."
   ]
  },
  {
   "cell_type": "markdown",
   "metadata": {},
   "source": [
    "### Compute the Relative Strength Index"
   ]
  },
  {
   "cell_type": "code",
   "execution_count": 22,
   "metadata": {
    "ExecuteTime": {
     "end_time": "2021-02-25T02:33:48.466650Z",
     "start_time": "2021-02-25T02:33:36.993227Z"
    }
   },
   "outputs": [],
   "source": [
    "prices['rsi'] = prices.groupby(level='symbol').close.apply(RSI)"
   ]
  },
  {
   "cell_type": "code",
   "execution_count": 23,
   "metadata": {
    "ExecuteTime": {
     "end_time": "2021-02-25T02:33:53.995183Z",
     "start_time": "2021-02-25T02:33:48.467651Z"
    }
   },
   "outputs": [
    {
     "data": {
      "image/png": "[encoded data removed]",
      "text/plain": [
       "<Figure size 432x288 with 1 Axes>"
      ]
     },
     "metadata": {},
     "output_type": "display_data"
    }
   ],
   "source": [
    "ax = sns.distplot(prices.rsi.dropna())\n",
    "ax.axvline(30, ls='--', lw=1, c='k')\n",
    "ax.axvline(70, ls='--', lw=1, c='k')\n",
    "ax.set_title('RSI Distribution with Signal Threshold')\n",
    "sns.despine()\n",
    "plt.tight_layout();"
   ]
  },
  {
   "cell_type": "markdown",
   "metadata": {},
   "source": [
    "### Compute Bollinger Bands"
   ]
  },
  {
   "cell_type": "code",
   "execution_count": 24,
   "metadata": {
    "ExecuteTime": {
     "end_time": "2021-02-25T02:33:53.998945Z",
     "start_time": "2021-02-25T02:33:53.996992Z"
    }
   },
   "outputs": [],
   "source": [
    "def compute_bb(close):\n",
    "    high, mid, low = BBANDS(close, timeperiod=20)\n",
    "    return pd.DataFrame({'bb_high': high, 'bb_low': low}, index=close.index)"
   ]
  },
  {
   "cell_type": "code",
   "execution_count": 25,
   "metadata": {
    "ExecuteTime": {
     "end_time": "2021-02-25T02:34:09.287189Z",
     "start_time": "2021-02-25T02:33:53.999703Z"
    }
   },
   "outputs": [],
   "source": [
    "prices = (prices.join(prices\n",
    "                      .groupby(level='symbol')\n",
    "                      .close\n",
    "                      .apply(compute_bb)))"
   ]
  },
  {
   "cell_type": "code",
   "execution_count": 26,
   "metadata": {
    "ExecuteTime": {
     "end_time": "2021-02-25T02:34:09.333606Z",
     "start_time": "2021-02-25T02:34:09.288161Z"
    }
   },
   "outputs": [],
   "source": [
    "prices['bb_high'] = prices.bb_high.sub(prices.close).div(prices.bb_high).apply(np.log1p)\n",
    "prices['bb_low'] = prices.close.sub(prices.bb_low).div(prices.close).apply(np.log1p)"
   ]
  },
  {
   "cell_type": "code",
   "execution_count": 27,
   "metadata": {
    "ExecuteTime": {
     "end_time": "2021-02-25T02:34:09.629357Z",
     "start_time": "2021-02-25T02:34:09.335771Z"
    },
    "scrolled": true
   },
   "outputs": [
    {
     "data": {
      "image/png": "[encoded data removed]",
      "text/plain": [
       "<Figure size 1080x360 with 2 Axes>"
      ]
     },
     "metadata": {},
     "output_type": "display_data"
    }
   ],
   "source": [
    "fig, axes = plt.subplots(ncols=2, figsize=(15, 5))\n",
    "sns.distplot(prices.loc[prices.dollar_vol_rank<100, 'bb_low'].dropna(), ax=axes[0])\n",
    "sns.distplot(prices.loc[prices.dollar_vol_rank<100, 'bb_high'].dropna(), ax=axes[1])\n",
    "sns.despine()\n",
    "plt.tight_layout();"
   ]
  },
  {
   "cell_type": "markdown",
   "metadata": {},
   "source": [
    "### Compute Average True Range"
   ]
  },
  {
   "cell_type": "code",
   "execution_count": 28,
   "metadata": {
    "ExecuteTime": {
     "end_time": "2021-02-25T02:34:14.101089Z",
     "start_time": "2021-02-25T02:34:09.631132Z"
    }
   },
   "outputs": [],
   "source": [
    "prices['NATR'] = prices.groupby(level='symbol', \n",
    "                                group_keys=False).apply(lambda x: \n",
    "                                                        talib.NATR(x.high, x.low, x.close))"
   ]
  },
  {
   "cell_type": "code",
   "execution_count": 29,
   "metadata": {
    "ExecuteTime": {
     "end_time": "2021-02-25T02:34:14.104983Z",
     "start_time": "2021-02-25T02:34:14.101994Z"
    }
   },
   "outputs": [],
   "source": [
    "def compute_atr(stock_data):\n",
    "    df = ATR(stock_data.high, stock_data.low, \n",
    "             stock_data.close, timeperiod=14)\n",
    "    return df.sub(df.mean()).div(df.std())"
   ]
  },
  {
   "cell_type": "code",
   "execution_count": 30,
   "metadata": {
    "ExecuteTime": {
     "end_time": "2021-02-25T02:34:19.371984Z",
     "start_time": "2021-02-25T02:34:14.106249Z"
    }
   },
   "outputs": [],
   "source": [
    "prices['ATR'] = (prices.groupby('symbol', group_keys=False)\n",
    "                 .apply(compute_atr))"
   ]
  },
  {
   "cell_type": "markdown",
   "metadata": {},
   "source": [
    "### Compute Moving Average Convergence/Divergence"
   ]
  },
  {
   "cell_type": "code",
   "execution_count": 31,
   "metadata": {
    "ExecuteTime": {
     "end_time": "2021-02-25T02:34:30.296463Z",
     "start_time": "2021-02-25T02:34:19.372947Z"
    }
   },
   "outputs": [],
   "source": [
    "prices['PPO'] = prices.groupby(level='symbol').close.apply(talib.PPO)"
   ]
  },
  {
   "cell_type": "code",
   "execution_count": 32,
   "metadata": {
    "ExecuteTime": {
     "end_time": "2021-02-25T02:34:30.300707Z",
     "start_time": "2021-02-25T02:34:30.297511Z"
    }
   },
   "outputs": [],
   "source": [
    "def compute_macd(close):\n",
    "    macd = MACD(close)[0]\n",
    "    return (macd - np.mean(macd))/np.std(macd)"
   ]
  },
  {
   "cell_type": "code",
   "execution_count": 33,
   "metadata": {
    "ExecuteTime": {
     "end_time": "2021-02-25T02:34:41.963633Z",
     "start_time": "2021-02-25T02:34:30.301878Z"
    }
   },
   "outputs": [],
   "source": [
    "prices['MACD'] = (prices\n",
    "                  .groupby('symbol', group_keys=False)\n",
    "                  .close\n",
    "                  .apply(compute_macd))"
   ]
  },
  {
   "cell_type": "markdown",
   "metadata": {},
   "source": [
    "### Combine Price and Meta Data"
   ]
  },
  {
   "cell_type": "code",
   "execution_count": 34,
   "metadata": {
    "ExecuteTime": {
     "end_time": "2021-02-25T02:34:42.032942Z",
     "start_time": "2021-02-25T02:34:41.965666Z"
    }
   },
   "outputs": [],
   "source": [
    "metadata.sector = pd.factorize(metadata.sector)[0].astype(int)\n",
    "prices = prices.join(metadata[['sector']])"
   ]
  },
  {
   "cell_type": "markdown",
   "metadata": {},
   "source": [
    "## Compute Returns"
   ]
  },
  {
   "cell_type": "markdown",
   "metadata": {},
   "source": [
    "### Historical Returns"
   ]
  },
  {
   "cell_type": "code",
   "execution_count": 35,
   "metadata": {
    "ExecuteTime": {
     "end_time": "2021-02-25T02:34:42.804305Z",
     "start_time": "2021-02-25T02:34:42.033855Z"
    }
   },
   "outputs": [],
   "source": [
    "by_sym = prices.groupby(level='symbol').close\n",
    "for t in T:\n",
    "    prices[f'r{t:02}'] = by_sym.pct_change(t)"
   ]
  },
  {
   "cell_type": "markdown",
   "metadata": {},
   "source": [
    "## Drop Na Data"
   ]
  },
  {
   "cell_type": "code",
   "execution_count": 36,
   "metadata": {},
   "outputs": [],
   "source": [
    "prices.dropna(inplace=True)"
   ]
  },
  {
   "cell_type": "markdown",
   "metadata": {},
   "source": [
    "### Daily historical return deciles"
   ]
  },
  {
   "cell_type": "code",
   "execution_count": 37,
   "metadata": {
    "ExecuteTime": {
     "end_time": "2021-02-25T02:36:01.526052Z",
     "start_time": "2021-02-25T02:34:42.805173Z"
    }
   },
   "outputs": [],
   "source": [
    "for t in T:\n",
    "    prices[f'r{t:02}dec'] = (prices[f'r{t:02}']\n",
    "                             .groupby(level='date')\n",
    "                             .apply(lambda x: pd.qcut(x, \n",
    "                                                      q=10, \n",
    "                                                      labels=False, \n",
    "                                                      duplicates='drop')))"
   ]
  },
  {
   "cell_type": "markdown",
   "metadata": {},
   "source": [
    "### Daily sector return deciles"
   ]
  },
  {
   "cell_type": "code",
   "execution_count": 38,
   "metadata": {
    "ExecuteTime": {
     "end_time": "2021-02-25T02:38:20.308961Z",
     "start_time": "2021-02-25T02:36:01.527108Z"
    },
    "scrolled": false
   },
   "outputs": [],
   "source": [
    "for t in T:\n",
    "    prices[f'r{t:02}q_sector'] = (prices\n",
    "                                  .groupby(['date', 'sector'])[f'r{t:02}']\n",
    "                                  .transform(lambda x: pd.qcut(x, \n",
    "                                                               q=5, \n",
    "                                                               labels=False, \n",
    "                                                               duplicates='drop')))"
   ]
  },
  {
   "cell_type": "markdown",
   "metadata": {},
   "source": [
    "### Compute Forward Returns"
   ]
  },
  {
   "cell_type": "code",
   "execution_count": 39,
   "metadata": {
    "ExecuteTime": {
     "end_time": "2021-02-25T02:38:20.826643Z",
     "start_time": "2021-02-25T02:38:20.309989Z"
    }
   },
   "outputs": [],
   "source": [
    "for t in [1, 5, 21]:\n",
    "    prices[f'r{t:02}_fwd'] = prices.groupby(level='symbol')[f'r{t:02}'].shift(-t)"
   ]
  },
  {
   "cell_type": "markdown",
   "metadata": {},
   "source": [
    "## Remove outliers"
   ]
  },
  {
   "cell_type": "code",
   "execution_count": 40,
   "metadata": {
    "ExecuteTime": {
     "end_time": "2021-02-25T02:38:21.677765Z",
     "start_time": "2021-02-25T02:38:20.827605Z"
    }
   },
   "outputs": [
    {
     "data": {
      "text/html": [
       "<div>\n",
       "<style scoped>\n",
       "    .dataframe tbody tr th:only-of-type {\n",
       "        vertical-align: middle;\n",
       "    }\n",
       "\n",
       "    .dataframe tbody tr th {\n",
       "        vertical-align: top;\n",
       "    }\n",
       "\n",
       "    .dataframe thead th {\n",
       "        text-align: right;\n",
       "    }\n",
       "</style>\n",
       "<table border=\"1\" class=\"dataframe\">\n",
       "  <thead>\n",
       "    <tr style=\"text-align: right;\">\n",
       "      <th></th>\n",
       "      <th>r01</th>\n",
       "      <th>r05</th>\n",
       "      <th>r10</th>\n",
       "      <th>r21</th>\n",
       "      <th>r42</th>\n",
       "      <th>r63</th>\n",
       "    </tr>\n",
       "  </thead>\n",
       "  <tbody>\n",
       "    <tr>\n",
       "      <th>count</th>\n",
       "      <td>1.110557e+06</td>\n",
       "      <td>1.110557e+06</td>\n",
       "      <td>1.110557e+06</td>\n",
       "      <td>1.110557e+06</td>\n",
       "      <td>1.110557e+06</td>\n",
       "      <td>1.110557e+06</td>\n",
       "    </tr>\n",
       "    <tr>\n",
       "      <th>mean</th>\n",
       "      <td>5.250009e-04</td>\n",
       "      <td>2.690308e-03</td>\n",
       "      <td>5.343184e-03</td>\n",
       "      <td>1.139162e-02</td>\n",
       "      <td>2.265759e-02</td>\n",
       "      <td>3.302466e-02</td>\n",
       "    </tr>\n",
       "    <tr>\n",
       "      <th>std</th>\n",
       "      <td>2.754664e-02</td>\n",
       "      <td>6.433637e-02</td>\n",
       "      <td>9.198499e-02</td>\n",
       "      <td>1.374707e-01</td>\n",
       "      <td>1.962749e-01</td>\n",
       "      <td>2.441924e-01</td>\n",
       "    </tr>\n",
       "    <tr>\n",
       "      <th>min</th>\n",
       "      <td>-3.000000e-01</td>\n",
       "      <td>-6.835590e-01</td>\n",
       "      <td>-7.431339e-01</td>\n",
       "      <td>-7.755298e-01</td>\n",
       "      <td>-8.237037e-01</td>\n",
       "      <td>-8.916667e-01</td>\n",
       "    </tr>\n",
       "    <tr>\n",
       "      <th>25%</th>\n",
       "      <td>-1.183432e-02</td>\n",
       "      <td>-2.749141e-02</td>\n",
       "      <td>-3.899649e-02</td>\n",
       "      <td>-5.722582e-02</td>\n",
       "      <td>-7.807309e-02</td>\n",
       "      <td>-9.425287e-02</td>\n",
       "    </tr>\n",
       "    <tr>\n",
       "      <th>50%</th>\n",
       "      <td>0.000000e+00</td>\n",
       "      <td>-1.226994e-03</td>\n",
       "      <td>-1.693241e-03</td>\n",
       "      <td>-2.079002e-03</td>\n",
       "      <td>0.000000e+00</td>\n",
       "      <td>0.000000e+00</td>\n",
       "    </tr>\n",
       "    <tr>\n",
       "      <th>75%</th>\n",
       "      <td>1.072698e-02</td>\n",
       "      <td>2.690583e-02</td>\n",
       "      <td>3.968551e-02</td>\n",
       "      <td>6.174957e-02</td>\n",
       "      <td>9.210526e-02</td>\n",
       "      <td>1.156757e-01</td>\n",
       "    </tr>\n",
       "    <tr>\n",
       "      <th>max</th>\n",
       "      <td>3.025641e-01</td>\n",
       "      <td>2.700000e+00</td>\n",
       "      <td>5.004619e+00</td>\n",
       "      <td>7.234589e+00</td>\n",
       "      <td>7.513251e+00</td>\n",
       "      <td>9.958904e+00</td>\n",
       "    </tr>\n",
       "  </tbody>\n",
       "</table>\n",
       "</div>"
      ],
      "text/plain": [
       "                r01           r05           r10           r21           r42  \\\n",
       "count  1.110557e+06  1.110557e+06  1.110557e+06  1.110557e+06  1.110557e+06   \n",
       "mean   5.250009e-04  2.690308e-03  5.343184e-03  1.139162e-02  2.265759e-02   \n",
       "std    2.754664e-02  6.433637e-02  9.198499e-02  1.374707e-01  1.962749e-01   \n",
       "min   -3.000000e-01 -6.835590e-01 -7.431339e-01 -7.755298e-01 -8.237037e-01   \n",
       "25%   -1.183432e-02 -2.749141e-02 -3.899649e-02 -5.722582e-02 -7.807309e-02   \n",
       "50%    0.000000e+00 -1.226994e-03 -1.693241e-03 -2.079002e-03  0.000000e+00   \n",
       "75%    1.072698e-02  2.690583e-02  3.968551e-02  6.174957e-02  9.210526e-02   \n",
       "max    3.025641e-01  2.700000e+00  5.004619e+00  7.234589e+00  7.513251e+00   \n",
       "\n",
       "                r63  \n",
       "count  1.110557e+06  \n",
       "mean   3.302466e-02  \n",
       "std    2.441924e-01  \n",
       "min   -8.916667e-01  \n",
       "25%   -9.425287e-02  \n",
       "50%    0.000000e+00  \n",
       "75%    1.156757e-01  \n",
       "max    9.958904e+00  "
      ]
     },
     "execution_count": 40,
     "metadata": {},
     "output_type": "execute_result"
    }
   ],
   "source": [
    "prices[[f'r{t:02}' for t in T]].describe()"
   ]
  },
  {
   "cell_type": "markdown",
   "metadata": {},
   "source": [
    "We remove daily returns above 100 percent as these are more likely to represent data errors; we are using the 100 percent cutoff here in a somewhat ad-hoc fashion; you would want to apply more careful exploratory and historical analysis to decide which assets are truly not representative of the sample period."
   ]
  },
  {
   "cell_type": "code",
   "execution_count": 41,
   "metadata": {
    "ExecuteTime": {
     "end_time": "2021-02-25T02:38:21.686263Z",
     "start_time": "2021-02-25T02:38:21.679059Z"
    }
   },
   "outputs": [],
   "source": [
    "outliers = prices[prices.r01 > 1].index.get_level_values('symbol').unique()"
   ]
  },
  {
   "cell_type": "code",
   "execution_count": 42,
   "metadata": {
    "ExecuteTime": {
     "end_time": "2021-02-25T02:38:31.520250Z",
     "start_time": "2021-02-25T02:38:21.687319Z"
    }
   },
   "outputs": [],
   "source": [
    "prices = prices.drop(outliers, level='symbol')"
   ]
  },
  {
   "cell_type": "markdown",
   "metadata": {},
   "source": [
    "## Create time and sector dummy variables"
   ]
  },
  {
   "cell_type": "code",
   "execution_count": 43,
   "metadata": {
    "ExecuteTime": {
     "end_time": "2021-02-25T02:38:31.918710Z",
     "start_time": "2021-02-25T02:38:31.521204Z"
    }
   },
   "outputs": [],
   "source": [
    "prices['year'] = prices.index.get_level_values('date').year\n",
    "prices['month'] = prices.index.get_level_values('date').month\n",
    "prices['weekday'] = prices.index.get_level_values('date').weekday"
   ]
  },
  {
   "cell_type": "markdown",
   "metadata": {},
   "source": [
    "## Store Model Data"
   ]
  },
  {
   "cell_type": "code",
   "execution_count": 44,
   "metadata": {
    "ExecuteTime": {
     "end_time": "2021-02-25T02:38:32.137143Z",
     "start_time": "2021-02-25T02:38:31.920222Z"
    },
    "scrolled": false
   },
   "outputs": [
    {
     "name": "stdout",
     "output_type": "stream",
     "text": [
      "<class 'pandas.core.frame.DataFrame'>\n",
      "MultiIndex: 1110557 entries, ('005930', Timestamp('2010-04-05 00:00:00')) to ('010580', Timestamp('2017-12-28 00:00:00'))\n",
      "Data columns (total 39 columns):\n",
      " #   Column           Non-Null Count    Dtype  \n",
      "---  ------           --------------    -----  \n",
      " 0   open             1110557 non-null  float64\n",
      " 1   close            1110557 non-null  float64\n",
      " 2   low              1110557 non-null  float64\n",
      " 3   high             1110557 non-null  float64\n",
      " 4   volume           1110557 non-null  float64\n",
      " 5   dollar_vol       1110557 non-null  float64\n",
      " 6   dollar_vol_rank  1110557 non-null  float64\n",
      " 7   rsi              1110557 non-null  float64\n",
      " 8   bb_high          1110557 non-null  float64\n",
      " 9   bb_low           1110557 non-null  float64\n",
      " 10  NATR             1110557 non-null  float64\n",
      " 11  ATR              1110557 non-null  float64\n",
      " 12  PPO              1110557 non-null  float64\n",
      " 13  MACD             1110557 non-null  float64\n",
      " 14  sector           1110557 non-null  int32  \n",
      " 15  r01              1110557 non-null  float64\n",
      " 16  r05              1110557 non-null  float64\n",
      " 17  r10              1110557 non-null  float64\n",
      " 18  r21              1110557 non-null  float64\n",
      " 19  r42              1110557 non-null  float64\n",
      " 20  r63              1110557 non-null  float64\n",
      " 21  r01dec           1110557 non-null  int64  \n",
      " 22  r05dec           1110557 non-null  int64  \n",
      " 23  r10dec           1110557 non-null  int64  \n",
      " 24  r21dec           1110557 non-null  int64  \n",
      " 25  r42dec           1110557 non-null  int64  \n",
      " 26  r63dec           1110557 non-null  int64  \n",
      " 27  r01q_sector      1036280 non-null  float64\n",
      " 28  r05q_sector      1036687 non-null  float64\n",
      " 29  r10q_sector      1036709 non-null  float64\n",
      " 30  r21q_sector      1036729 non-null  float64\n",
      " 31  r42q_sector      1036737 non-null  float64\n",
      " 32  r63q_sector      1036739 non-null  float64\n",
      " 33  r01_fwd          1109973 non-null  float64\n",
      " 34  r05_fwd          1107637 non-null  float64\n",
      " 35  r21_fwd          1098293 non-null  float64\n",
      " 36  year             1110557 non-null  int64  \n",
      " 37  month            1110557 non-null  int64  \n",
      " 38  weekday          1110557 non-null  int64  \n",
      "dtypes: float64(29), int32(1), int64(9)\n",
      "memory usage: 363.0+ MB\n"
     ]
    }
   ],
   "source": [
    "prices.info(show_counts=True)"
   ]
  },
  {
   "cell_type": "code",
   "execution_count": 45,
   "metadata": {
    "ExecuteTime": {
     "end_time": "2021-02-25T02:38:32.822413Z",
     "start_time": "2021-02-25T02:38:32.138150Z"
    }
   },
   "outputs": [],
   "source": [
    "prices.drop(['open', 'close', 'low', 'high', 'volume'], axis=1).to_hdf('data.h5', 'model_data')"
   ]
  },
  {
   "cell_type": "code",
   "execution_count": null,
   "metadata": {},
   "outputs": [],
   "source": []
  }
 ],
 "metadata": {
  "kernelspec": {
   "display_name": "Python [conda env:ml4t]",
   "language": "python",
   "name": "conda-env-ml4t-py"
  },
  "language_info": {
   "codemirror_mode": {
    "name": "ipython",
    "version": 3
   },
   "file_extension": ".py",
   "mimetype": "text/x-python",
   "name": "python",
   "nbconvert_exporter": "python",
   "pygments_lexer": "ipython3",
   "version": "3.8.8"
  },
  "toc": {
   "base_numbering": 1,
   "nav_menu": {},
   "number_sections": true,
   "sideBar": true,
   "skip_h1_title": true,
   "title_cell": "Table of Contents",
   "title_sidebar": "Contents",
   "toc_cell": false,
   "toc_position": {},
   "toc_section_display": true,
   "toc_window_display": true
  }
 },
 "nbformat": 4,
 "nbformat_minor": 2
}
