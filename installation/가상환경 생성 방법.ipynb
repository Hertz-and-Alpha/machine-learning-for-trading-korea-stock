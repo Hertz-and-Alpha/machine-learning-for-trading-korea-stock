{
 "cells": [
  {
   "cell_type": "markdown",
   "metadata": {},
   "source": [
    "# 1. 아나콘다 설치 "
   ]
  },
  {
   "cell_type": "markdown",
   "metadata": {},
   "source": [
    "- 사이트\n",
    "- https://bioinformaticsandme.tistory.com/153"
   ]
  },
  {
   "cell_type": "markdown",
   "metadata": {},
   "source": [
    "# 2. mamba 설치"
   ]
  },
  {
   "cell_type": "markdown",
   "metadata": {},
   "source": [
    "- anaconda prompt 실행\n",
    "- mamba 설치를 위해 아래 명령어 실행\n",
    "```python\n",
    "conda install -n base -c conda-forge mamba\n",
    "```"
   ]
  },
  {
   "cell_type": "markdown",
   "metadata": {},
   "source": [
    "# 3. ml4t 가상환경 설치"
   ]
  },
  {
   "cell_type": "markdown",
   "metadata": {},
   "source": [
    "- machine-learning-for-trading 폴더로 이동\n",
    "- 다음 명령어로 실행\n",
    "- Window 환경\n",
    "```python\n",
    "mamba env create -f installation/windows/ml4t.yml \n",
    "```\n",
    "- Mac 환경\n",
    "```python\n",
    "mamba env create -f installation/macosx/ml4t.yml \n",
    "```\n",
    "- Linux 환경\n",
    "```python\n",
    "mamba env create -f installation/linux/ml4t.yml \n",
    "```"
   ]
  },
  {
   "cell_type": "markdown",
   "metadata": {},
   "source": [
    "# 4. 가상환경 실행"
   ]
  },
  {
   "cell_type": "markdown",
   "metadata": {},
   "source": [
    "- 아래 명령어 실행\n",
    "```python\n",
    "conda activate ml4t\n",
    "```\n",
    "```python\n",
    "jupyter notebook\n",
    "```"
   ]
  }
 ],
 "metadata": {
  "kernelspec": {
   "display_name": "Python [conda env:ml4t]",
   "language": "python",
   "name": "conda-env-ml4t-py"
  },
  "language_info": {
   "codemirror_mode": {
    "name": "ipython",
    "version": 3
   },
   "file_extension": ".py",
   "mimetype": "text/x-python",
   "name": "python",
   "nbconvert_exporter": "python",
   "pygments_lexer": "ipython3",
   "version": "3.8.8"
  }
 },
 "nbformat": 4,
 "nbformat_minor": 4
}
