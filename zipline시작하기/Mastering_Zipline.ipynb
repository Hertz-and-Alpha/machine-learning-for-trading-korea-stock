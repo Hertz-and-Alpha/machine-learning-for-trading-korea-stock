{
 "cells": [
  {
   "cell_type": "markdown",
   "metadata": {},
   "source": [
    "## 이번 코드를 돌리려면 4장에 00_custum_bundle을 먼저 돌려서 Data를 ingest해주세요."
   ]
  },
  {
   "cell_type": "code",
   "execution_count": 1,
   "metadata": {},
   "outputs": [],
   "source": [
    "import warnings\n",
    "warnings.filterwarnings('ignore')"
   ]
  },
  {
   "cell_type": "code",
   "execution_count": 2,
   "metadata": {},
   "outputs": [],
   "source": [
    "import os \n",
    "import pandas as pd \n",
    "from pathlib import Path"
   ]
  },
  {
   "cell_type": "markdown",
   "metadata": {},
   "source": [
    "## Ticker 가져오기"
   ]
  },
  {
   "cell_type": "code",
   "execution_count": 3,
   "metadata": {},
   "outputs": [],
   "source": [
    "DATA_STORE = Path('../data/', 'assets.h5')"
   ]
  },
  {
   "cell_type": "code",
   "execution_count": 4,
   "metadata": {},
   "outputs": [],
   "source": [
    "with pd.HDFStore(DATA_STORE) as store:\n",
    "    stocks = store['finance_datareader/stocks']"
   ]
  },
  {
   "cell_type": "code",
   "execution_count": 5,
   "metadata": {},
   "outputs": [
    {
     "data": {
      "text/html": [
       "<div>\n",
       "<style scoped>\n",
       "    .dataframe tbody tr th:only-of-type {\n",
       "        vertical-align: middle;\n",
       "    }\n",
       "\n",
       "    .dataframe tbody tr th {\n",
       "        vertical-align: top;\n",
       "    }\n",
       "\n",
       "    .dataframe thead th {\n",
       "        text-align: right;\n",
       "    }\n",
       "</style>\n",
       "<table border=\"1\" class=\"dataframe\">\n",
       "  <thead>\n",
       "    <tr style=\"text-align: right;\">\n",
       "      <th></th>\n",
       "      <th>name</th>\n",
       "    </tr>\n",
       "    <tr>\n",
       "      <th>code</th>\n",
       "      <th></th>\n",
       "    </tr>\n",
       "  </thead>\n",
       "  <tbody>\n",
       "    <tr>\n",
       "      <th>095570</th>\n",
       "      <td>AJ네트웍스</td>\n",
       "    </tr>\n",
       "    <tr>\n",
       "      <th>006840</th>\n",
       "      <td>AK홀딩스</td>\n",
       "    </tr>\n",
       "    <tr>\n",
       "      <th>027410</th>\n",
       "      <td>BGF</td>\n",
       "    </tr>\n",
       "    <tr>\n",
       "      <th>282330</th>\n",
       "      <td>BGF리테일</td>\n",
       "    </tr>\n",
       "    <tr>\n",
       "      <th>138930</th>\n",
       "      <td>BNK금융지주</td>\n",
       "    </tr>\n",
       "    <tr>\n",
       "      <th>...</th>\n",
       "      <td>...</td>\n",
       "    </tr>\n",
       "    <tr>\n",
       "      <th>079980</th>\n",
       "      <td>휴비스</td>\n",
       "    </tr>\n",
       "    <tr>\n",
       "      <th>005010</th>\n",
       "      <td>휴스틸</td>\n",
       "    </tr>\n",
       "    <tr>\n",
       "      <th>069260</th>\n",
       "      <td>휴켐스</td>\n",
       "    </tr>\n",
       "    <tr>\n",
       "      <th>000540</th>\n",
       "      <td>흥국화재</td>\n",
       "    </tr>\n",
       "    <tr>\n",
       "      <th>003280</th>\n",
       "      <td>흥아해운</td>\n",
       "    </tr>\n",
       "  </tbody>\n",
       "</table>\n",
       "<p>808 rows × 1 columns</p>\n",
       "</div>"
      ],
      "text/plain": [
       "           name\n",
       "code           \n",
       "095570   AJ네트웍스\n",
       "006840    AK홀딩스\n",
       "027410      BGF\n",
       "282330   BGF리테일\n",
       "138930  BNK금융지주\n",
       "...         ...\n",
       "079980      휴비스\n",
       "005010      휴스틸\n",
       "069260      휴켐스\n",
       "000540     흥국화재\n",
       "003280     흥아해운\n",
       "\n",
       "[808 rows x 1 columns]"
      ]
     },
     "execution_count": 5,
     "metadata": {},
     "output_type": "execute_result"
    }
   ],
   "source": [
    "stocks"
   ]
  },
  {
   "cell_type": "markdown",
   "metadata": {},
   "source": [
    "## 먼저 zipline ingest되어 있는 폴더 위치를 환경변수로 넘겨 줘야 된다."
   ]
  },
  {
   "cell_type": "code",
   "execution_count": 6,
   "metadata": {},
   "outputs": [],
   "source": [
    "# 이 파일 경로는 컴퓨터마다 OS 마다 다르다.\n",
    "os.environ['ZIPLINE_ROOT'] = 'C:/Users/PC/.zipline/'"
   ]
  },
  {
   "cell_type": "code",
   "execution_count": 7,
   "metadata": {},
   "outputs": [],
   "source": [
    "from zipline.utils.run_algo import load_extensions"
   ]
  },
  {
   "cell_type": "code",
   "execution_count": 8,
   "metadata": {},
   "outputs": [],
   "source": [
    "load_extensions(default=True,\n",
    "                extensions=[],\n",
    "                strict=True,\n",
    "                environ=None)"
   ]
  },
  {
   "cell_type": "markdown",
   "metadata": {},
   "source": [
    "## 데이터 가져오기"
   ]
  },
  {
   "cell_type": "code",
   "execution_count": 9,
   "metadata": {},
   "outputs": [],
   "source": [
    "from zipline.data import bundles\n",
    "\n",
    "bundle_data = bundles.load('finance_datareader')"
   ]
  },
  {
   "cell_type": "code",
   "execution_count": 10,
   "metadata": {},
   "outputs": [
    {
     "name": "stdout",
     "output_type": "stream",
     "text": [
      "Symbol '011150' was not found.\n",
      "Symbol '375500' was not found.\n",
      "Symbol '383220' was not found.\n",
      "Symbol '383800' was not found.\n",
      "Symbol '008260' was not found.\n",
      "Symbol '302440' was not found.\n",
      "Symbol '361610' was not found.\n",
      "Symbol '000270' was not found.\n",
      "Symbol '001260' was not found.\n",
      "Symbol '068270' was not found.\n",
      "Symbol '248070' was not found.\n",
      "Symbol '002700' was not found.\n",
      "Symbol '015540' was not found.\n",
      "Symbol '001780' was not found.\n",
      "Symbol '380440' was not found.\n",
      "Symbol '049800' was not found.\n",
      "Symbol '101140' was not found.\n",
      "Symbol '013890' was not found.\n",
      "Symbol '002780' was not found.\n",
      "Symbol '950210' was not found.\n",
      "Symbol '000080' was not found.\n",
      "Symbol '000240' was not found.\n",
      "Symbol '024720' was not found.\n",
      "Symbol '005440' was not found.\n",
      "Symbol '378850' was not found.\n"
     ]
    }
   ],
   "source": [
    "# zipline에 들어가 있는 ticker 데이터들만 가져오기\n",
    "tickers = stocks.index\n",
    "assets = []\n",
    "for ticker in tickers:\n",
    "    try:\n",
    "        asset = bundle_data.asset_finder.lookup_symbol(ticker, as_of_date=None)\n",
    "        assets.append(asset)\n",
    "    except Exception as e:\n",
    "        print(e) "
   ]
  },
  {
   "cell_type": "markdown",
   "metadata": {},
   "source": [
    "# initialize 살펴보기"
   ]
  },
  {
   "cell_type": "code",
   "execution_count": 15,
   "metadata": {},
   "outputs": [],
   "source": [
    "def initialize(context):\n",
    "    pass"
   ]
  },
  {
   "cell_type": "markdown",
   "metadata": {},
   "source": [
    "## Slippage 설정"
   ]
  },
  {
   "cell_type": "code",
   "execution_count": 16,
   "metadata": {},
   "outputs": [],
   "source": [
    "from zipline.api import set_slippage"
   ]
  },
  {
   "cell_type": "code",
   "execution_count": 17,
   "metadata": {},
   "outputs": [],
   "source": [
    "def initialize(context):\n",
    "    set_slippage()"
   ]
  },
  {
   "cell_type": "markdown",
   "metadata": {},
   "source": [
    "### Slippage 종류 설정"
   ]
  },
  {
   "cell_type": "code",
   "execution_count": 19,
   "metadata": {},
   "outputs": [],
   "source": [
    "from zipline.finance import slippage"
   ]
  },
  {
   "cell_type": "markdown",
   "metadata": {},
   "source": [
    "#### FixedSlippage\n",
    "- slippage_price = close +- (spread / 2)"
   ]
  },
  {
   "cell_type": "code",
   "execution_count": 22,
   "metadata": {},
   "outputs": [],
   "source": [
    "def initialize(context):\n",
    "    set_slippage(slippage.FixedSlippage(spread=0.1))"
   ]
  },
  {
   "cell_type": "markdown",
   "metadata": {},
   "source": [
    "#### VolumeShareSlippage"
   ]
  },
  {
   "cell_type": "code",
   "execution_count": 23,
   "metadata": {},
   "outputs": [],
   "source": [
    "def initialize(context):\n",
    "    set_slippage(slippage.VolumeShareSlippage(volume_limit=0.2, price_impact=0.1))"
   ]
  },
  {
   "cell_type": "markdown",
   "metadata": {},
   "source": [
    "## 자산군 설정"
   ]
  },
  {
   "cell_type": "code",
   "execution_count": 24,
   "metadata": {},
   "outputs": [],
   "source": [
    "def initialize(context):\n",
    "    context.universe = assets"
   ]
  },
  {
   "cell_type": "markdown",
   "metadata": {},
   "source": [
    "## 거래 수수료 설정"
   ]
  },
  {
   "cell_type": "code",
   "execution_count": 25,
   "metadata": {},
   "outputs": [],
   "source": [
    "from zipline.api import set_commission"
   ]
  },
  {
   "cell_type": "code",
   "execution_count": 26,
   "metadata": {},
   "outputs": [],
   "source": [
    "def initialize(context):\n",
    "    set_commission()"
   ]
  },
  {
   "cell_type": "markdown",
   "metadata": {},
   "source": [
    "### 수수료 종류 설정"
   ]
  },
  {
   "cell_type": "code",
   "execution_count": 27,
   "metadata": {},
   "outputs": [],
   "source": [
    "from zipline.finance import commission"
   ]
  },
  {
   "cell_type": "markdown",
   "metadata": {},
   "source": [
    "#### PerShare\n",
    "한주당 비용을 가지고 거래 수수료를 계산"
   ]
  },
  {
   "cell_type": "code",
   "execution_count": 29,
   "metadata": {},
   "outputs": [],
   "source": [
    "def initialize(context):\n",
    "    set_commission(commission.PerShare(cost=0.001, min_trade_cost=0.0))"
   ]
  },
  {
   "cell_type": "markdown",
   "metadata": {},
   "source": [
    "#### PerTrade\n",
    "한번 거래당 비용으로 계산 "
   ]
  },
  {
   "cell_type": "code",
   "execution_count": 30,
   "metadata": {},
   "outputs": [],
   "source": [
    "def initialize(context):\n",
    "    set_commission(commission.PerTrade(cost=0.02))"
   ]
  },
  {
   "cell_type": "markdown",
   "metadata": {},
   "source": [
    "#### PerDollar\n",
    "거래당 고정된 비용이 나감"
   ]
  },
  {
   "cell_type": "code",
   "execution_count": 31,
   "metadata": {},
   "outputs": [],
   "source": [
    "def initialize(context):\n",
    "    set_commission(commission.PerDollar(cost=0.03))"
   ]
  },
  {
   "cell_type": "markdown",
   "metadata": {},
   "source": [
    "## BenchMark 설정\n",
    "- Parameter\n",
    "[zipline.assets.Asset](https://zipline.ml4trading.io/api-reference.html#:~:text=benchmark%20(zipline.assets.Asset)%20%E2%80%93%20The%20asset%20to%20set%20as%20the%20new%20benchmark.) – The asset to set as the new benchmark.\n",
    "\n",
    "\n",
    "- Asset 객처로 benchmark 데이터를 넣어준다."
   ]
  },
  {
   "cell_type": "code",
   "execution_count": 32,
   "metadata": {},
   "outputs": [],
   "source": [
    "from zipline.api import set_benchmark"
   ]
  },
  {
   "cell_type": "code",
   "execution_count": 33,
   "metadata": {},
   "outputs": [],
   "source": [
    "def initialize(context):\n",
    "    set_benchmark()"
   ]
  },
  {
   "cell_type": "markdown",
   "metadata": {},
   "source": [
    "## Long 포트폴리오로만 설정"
   ]
  },
  {
   "cell_type": "code",
   "execution_count": 34,
   "metadata": {},
   "outputs": [],
   "source": [
    "from zipline.api import set_long_only"
   ]
  },
  {
   "cell_type": "code",
   "execution_count": 35,
   "metadata": {},
   "outputs": [],
   "source": [
    "def initialize(context):\n",
    "    set_long_only()"
   ]
  },
  {
   "cell_type": "markdown",
   "metadata": {},
   "source": [
    "## Max Leverage 설정"
   ]
  },
  {
   "cell_type": "code",
   "execution_count": 36,
   "metadata": {},
   "outputs": [],
   "source": [
    "from zipline.api import set_max_leverage"
   ]
  },
  {
   "cell_type": "code",
   "execution_count": 37,
   "metadata": {},
   "outputs": [],
   "source": [
    "def initialize(context):\n",
    "    set_max_leverage(max_leverage=2.1)"
   ]
  },
  {
   "cell_type": "markdown",
   "metadata": {},
   "source": [
    "## Scheduling Function 설정 (중요!!)\n",
    "- reblancing할때 많이 사용"
   ]
  },
  {
   "cell_type": "code",
   "execution_count": 38,
   "metadata": {},
   "outputs": [],
   "source": [
    "from zipline.api import schedule_function"
   ]
  },
  {
   "cell_type": "code",
   "execution_count": 39,
   "metadata": {},
   "outputs": [],
   "source": [
    "def initialize(context):\n",
    "    schedule_function(func='', date_rule='', time_rule='', half_days='', calendar='')"
   ]
  },
  {
   "cell_type": "markdown",
   "metadata": {},
   "source": [
    "#### date_rules 종류 보기"
   ]
  },
  {
   "cell_type": "code",
   "execution_count": 40,
   "metadata": {},
   "outputs": [],
   "source": [
    "from zipline.api import date_rules"
   ]
  },
  {
   "cell_type": "code",
   "execution_count": 41,
   "metadata": {},
   "outputs": [
    {
     "data": {
      "text/plain": [
       "<zipline.utils.events.NthTradingDayOfWeek at 0x23b97025640>"
      ]
     },
     "execution_count": 41,
     "metadata": {},
     "output_type": "execute_result"
    }
   ],
   "source": [
    "date_rules.every_day()\n",
    "\n",
    "date_rules.month_end()\n",
    "\n",
    "date_rules.month_start()\n",
    "\n",
    "date_rules.week_end()\n",
    "\n",
    "date_rules.week_start()\n"
   ]
  },
  {
   "cell_type": "markdown",
   "metadata": {},
   "source": [
    "##### time_rules 설정"
   ]
  },
  {
   "cell_type": "code",
   "execution_count": 42,
   "metadata": {},
   "outputs": [],
   "source": [
    "from zipline.api import time_rules"
   ]
  },
  {
   "cell_type": "code",
   "execution_count": 43,
   "metadata": {},
   "outputs": [
    {
     "data": {
      "text/plain": [
       "<zipline.utils.events.BeforeClose at 0x23b9646fc70>"
      ]
     },
     "execution_count": 43,
     "metadata": {},
     "output_type": "execute_result"
    }
   ],
   "source": [
    "time_rules.market_open()\n",
    "\n",
    "time_rules.market_close()"
   ]
  },
  {
   "cell_type": "markdown",
   "metadata": {},
   "source": [
    "# handle_data 설정"
   ]
  },
  {
   "cell_type": "code",
   "execution_count": 44,
   "metadata": {},
   "outputs": [],
   "source": [
    "def handle_data(context, data):\n",
    "    pass "
   ]
  },
  {
   "cell_type": "markdown",
   "metadata": {},
   "source": [
    "## can_trade() 거래가 가능한지 확인"
   ]
  },
  {
   "cell_type": "code",
   "execution_count": 45,
   "metadata": {},
   "outputs": [],
   "source": [
    "def handle_data(context, data):\n",
    "    data.can_trade(asset)"
   ]
  },
  {
   "cell_type": "markdown",
   "metadata": {},
   "source": [
    "## current 백테스팅 거래시점에서 데이터 "
   ]
  },
  {
   "cell_type": "code",
   "execution_count": 47,
   "metadata": {},
   "outputs": [],
   "source": [
    "def handle_data(context, data):\n",
    "    data.current(assts='', fields='')"
   ]
  },
  {
   "cell_type": "markdown",
   "metadata": {},
   "source": [
    "Parameters\n",
    "- assets (zipline.assets.Asset or iterable of zipline.assets.Asset) \n",
    "    + The asset(s) for which data is requested.\n",
    "\n",
    "- fields (str or iterable[str]) \n",
    "     + Requested data field(s). Valid field names are: “price”, “last_traded”, “open”, “high”, “low”, “close”, and “volume”."
   ]
  },
  {
   "cell_type": "markdown",
   "metadata": {},
   "source": [
    "## history 백테스팅 시점에서 과거 데이터"
   ]
  },
  {
   "cell_type": "code",
   "execution_count": 48,
   "metadata": {},
   "outputs": [],
   "source": [
    "def handle_data(context, data):\n",
    "    data.history(assts='', fields='', bar_counts=10, frequency='')"
   ]
  },
  {
   "cell_type": "markdown",
   "metadata": {},
   "source": [
    "Parameters\n",
    "- assets (zipline.assets.Asset or iterable of zipline.assets.Asset) \n",
    "     + The asset(s) for which data is requested.\n",
    "\n",
    "- fields (string or iterable of string.) \n",
    "     + Requested data field(s). Valid field names are: “price”, “last_traded”, “open”, “high”, “low”, “close”, and “volume”.\n",
    "\n",
    "- bar_count (int) \n",
    "     + Number of data observations requested.\n",
    "\n",
    "- frequency (str) \n",
    "     + String indicating whether to load daily or minutely data observations. Pass ‘1m’ for minutely data, ‘1d’ for daily data"
   ]
  },
  {
   "cell_type": "markdown",
   "metadata": {},
   "source": [
    "# Order 주문 관련 함수 "
   ]
  },
  {
   "cell_type": "markdown",
   "metadata": {},
   "source": [
    "## order\n",
    "고정된 수의 주식을 거래"
   ]
  },
  {
   "cell_type": "code",
   "execution_count": 50,
   "metadata": {},
   "outputs": [],
   "source": [
    "from zipline.api import order\n",
    "\n",
    "def handle_data(context, data):\n",
    "    order(asset=None , amount=None , limit_price=None, stop_price=None, style=None)"
   ]
  },
  {
   "cell_type": "markdown",
   "metadata": {},
   "source": [
    "## order_value\n",
    "고정된 금액을 구매"
   ]
  },
  {
   "cell_type": "code",
   "execution_count": 51,
   "metadata": {},
   "outputs": [],
   "source": [
    "from zipline.api import order_value\n",
    "\n",
    "def handle_data(context, data):\n",
    "    order_value(asset=None, value=None, limit_price=None, stop_price=None, style=None)"
   ]
  },
  {
   "cell_type": "markdown",
   "metadata": {},
   "source": [
    "## order_percent\n",
    "포트폴리오에 해당된 비율만큼 거래"
   ]
  },
  {
   "cell_type": "code",
   "execution_count": 52,
   "metadata": {},
   "outputs": [],
   "source": [
    "from zipline.api import order_percent\n",
    "\n",
    "def handle_data(context, data):\n",
    "    order_percent(asset=None, percent=None, limit_price=None, stop_price=None, style=None)"
   ]
  },
  {
   "cell_type": "markdown",
   "metadata": {},
   "source": [
    "## order_target\n",
    "목표 주식 수에 대한 포지션을 조정한다. 아직 존재하지 않은 경우 새주문, 포지션이 존재하면 목표 주식수 차이만큼 다시 주문"
   ]
  },
  {
   "cell_type": "code",
   "execution_count": 53,
   "metadata": {},
   "outputs": [],
   "source": [
    "from zipline.api import order_target\n",
    "\n",
    "def handle_data(context, data):\n",
    "    order_target(asset=None, target=None, limit_price=None, stop_price=None, style=None)"
   ]
  },
  {
   "cell_type": "markdown",
   "metadata": {},
   "source": [
    "## order_target_value\n",
    "포지션을 목표 값으로 조정하기 위해 주문하십시오. 위치가 아직 존재하지 않는 경우 이는 새로 주문하는 것과 같습니다. 포지션이 존재한다면 목표 값과 현재 값의 차이를 주문하는 것과 같습니다.\n",
    "\n"
   ]
  },
  {
   "cell_type": "code",
   "execution_count": 55,
   "metadata": {},
   "outputs": [],
   "source": [
    "from zipline.api import order_target_value\n",
    "\n",
    "def handle_data(context, data):\n",
    "    order_target_value(asset=None, target=None, limit_price=None, stop_price=None, style=None)"
   ]
  },
  {
   "cell_type": "markdown",
   "metadata": {},
   "source": [
    "## order_target_percent\n",
    "현재 포트폴리오의 목표 비율로 포지션을 조정하는 주문을하십시오. 포지션이 아직 존재하지 않는 경우 이는 새로 주문하는 것과 같습니다. 포지션이 존재한다면 목표 퍼센트와 현재 퍼센트 사이의 차이를 주문하는 것과 같습니다."
   ]
  },
  {
   "cell_type": "code",
   "execution_count": 56,
   "metadata": {},
   "outputs": [],
   "source": [
    "from zipline.api import order_target_percent\n",
    "\n",
    "def handle_data(context, data):\n",
    "    order_target_percent(asset=None, target=None, limit_price=None, stop_price=None, style=None)"
   ]
  },
  {
   "cell_type": "markdown",
   "metadata": {},
   "source": [
    "### style parameter에서 원하는 주문 방식을 정할 수 있다."
   ]
  },
  {
   "cell_type": "code",
   "execution_count": 60,
   "metadata": {},
   "outputs": [],
   "source": [
    "from zipline.finance.execution import ExecutionStyle\n",
    "def handle_data(context, data):\n",
    "    order_target_percent(asset=None, \n",
    "                         target=None, \n",
    "                         limit_price=None, \n",
    "                         stop_price=None, \n",
    "                         style=ExecutionStyle.get_limit_price()\n",
    "                        )\n",
    "#     종류\n",
    "#     ExecutionStyle.get_limit_price()\n",
    "#     ExecutionStyle.get_stop_price()\n"
   ]
  },
  {
   "cell_type": "code",
   "execution_count": null,
   "metadata": {},
   "outputs": [],
   "source": []
  },
  {
   "cell_type": "code",
   "execution_count": null,
   "metadata": {},
   "outputs": [],
   "source": []
  }
 ],
 "metadata": {
  "kernelspec": {
   "display_name": "Python [conda env:ml4t]",
   "language": "python",
   "name": "conda-env-ml4t-py"
  },
  "language_info": {
   "codemirror_mode": {
    "name": "ipython",
    "version": 3
   },
   "file_extension": ".py",
   "mimetype": "text/x-python",
   "name": "python",
   "nbconvert_exporter": "python",
   "pygments_lexer": "ipython3",
   "version": "3.8.8"
  }
 },
 "nbformat": 4,
 "nbformat_minor": 4
}
