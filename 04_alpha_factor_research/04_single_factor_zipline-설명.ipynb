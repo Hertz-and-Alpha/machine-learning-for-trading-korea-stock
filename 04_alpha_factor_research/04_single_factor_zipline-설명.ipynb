{
 "cells": [
  {
   "cell_type": "markdown",
   "metadata": {},
   "source": [
    "# Zipline Backtest with Single Factor "
   ]
  },
  {
   "cell_type": "markdown",
   "metadata": {},
   "source": [
    "이 notebook은 간단한 [평균회귀](https://m.blog.naver.com/PostView.naver?isHttpsRedirect=true&blogId=tysinvs&logNo=221503577353) 전략을 백테스트하고 최근 얼마나 수익이 났는지 백테스트를 합니다. 단기 반전은 약한 패턴을 분석하는데 일반적인 전략입니다. "
   ]
  },
  {
   "cell_type": "markdown",
   "metadata": {
    "pycharm": {
     "name": "#%% md\n"
    }
   },
   "source": [
    "## Imports & Settings"
   ]
  },
  {
   "cell_type": "code",
   "execution_count": 1,
   "metadata": {
    "ExecuteTime": {
     "end_time": "2021-04-15T20:03:39.372356Z",
     "start_time": "2021-04-15T20:03:39.366068Z"
    }
   },
   "outputs": [],
   "source": [
    "import warnings\n",
    "warnings.filterwarnings('ignore')"
   ]
  },
  {
   "cell_type": "code",
   "execution_count": 2,
   "metadata": {
    "ExecuteTime": {
     "end_time": "2021-04-15T20:03:39.841933Z",
     "start_time": "2021-04-15T20:03:39.376523Z"
    }
   },
   "outputs": [],
   "source": [
    "%matplotlib inline\n",
    "import os \n",
    "import matplotlib.pyplot as plt\n",
    "import seaborn as sns"
   ]
  },
  {
   "cell_type": "code",
   "execution_count": 3,
   "metadata": {
    "ExecuteTime": {
     "end_time": "2021-04-15T20:03:39.844642Z",
     "start_time": "2021-04-15T20:03:39.842894Z"
    }
   },
   "outputs": [],
   "source": [
    "sns.set_style('whitegrid')"
   ]
  },
  {
   "cell_type": "markdown",
   "metadata": {},
   "source": [
    "우리는 먼저 오프라인 환경에서 Zipline 알파 요인 연구 워크플로우를 설명할 것입니다. 특히 최근 실적이 과거 평균에서 얼마나 이탈했는지 측정하는 단순 평균 반전 요인을 기준으로 테스트할 예정이다.\n",
    "단기 역전은 주가 상승이 1분 미만에서 1개월 이내로 수평선 밑으로 내려가면 다시 올라갈 가능성이 높다는 패턴을 이용한 전략이다."
   ]
  },
  {
   "cell_type": "markdown",
   "metadata": {},
   "source": [
    "이를 위해 요인은 지난 해 동안의 월별 롤링 수익률에 대해 마지막 월별 수익률에 대한 z-점수를 계산합니다. 이 시점에서는 사용자 지정 팩터의 구현을 단순하게 설명하고 시뮬레이션 중에 결과를 기록하는 주문을 하지 않습니다.\n",
    "\n",
    "\n",
    "`Mean Reversion`은 기본 설정 후 `Custom Factor`를 세분화하여 `compute()` 방식을 정의한다. 또한 기본 1년 기간을 통해 월별 수익을 생성하므로 월별_return 변수는 주어진 날짜에 데이터 집합에 대해 252개의 행과 하나의 열을 가질 수 있습니다.\n",
    "\n",
    "\n",
    " `compute_factors()` 방법은  `MeanReversion` 요인 인스턴스를 만들고 길고 짧고 순위가 높은 파이프라인 열을 생성한다. 앞의 두 가지는 주문을 배치하는 데 사용할 수 있는 부울 값을 포함하고 있으며, 후자는 전체 순위를 반영하여 전체 요인 성능을 평가한다. 또 평균달러 볼륨 `Average Dollar Volume` 팩터가 내장되어 있어 더 많은 종목을 계산해 제한하고 있다."
   ]
  },
  {
   "cell_type": "markdown",
   "metadata": {},
   "source": [
    "The result would allow us to place long and short orders. We will see in the next chapter how to build a portfolio by choosing a rebalancing period and adjusting portfolio holdings as new signals arrive."
   ]
  },
  {
   "cell_type": "markdown",
   "metadata": {},
   "source": [
    "- The `initialize()` method registers the compute_factors() pipeline, and the before_trading_start() method ensures the pipeline runs on a daily basis. \n",
    "- The `record()` function adds the pipeline's ranking column as well as the current asset prices to the performance DataFrame returned by the `run_algorithm()` function"
   ]
  },
  {
   "cell_type": "markdown",
   "metadata": {},
   "source": [
    "Run using jupyter notebook extension"
   ]
  },
  {
   "cell_type": "code",
   "execution_count": 4,
   "metadata": {
    "ExecuteTime": {
     "end_time": "2021-04-15T20:03:40.490212Z",
     "start_time": "2021-04-15T20:03:39.845915Z"
    }
   },
   "outputs": [],
   "source": [
    "%load_ext zipline"
   ]
  },
  {
   "cell_type": "markdown",
   "metadata": {},
   "source": [
    "Using the `quandl` bundle instead of the default `quantopian-quandl` because the latter has a bug that requires (manually) fixing the SQL database. If you have a file with benchmark returns you can provide this instead of `--no-benchmark` (see [docs](https://github.com/stefan-jansen/zipline/blob/master/docs/source/whatsnew/1.4.0.txt))."
   ]
  },
  {
   "cell_type": "code",
   "execution_count": 5,
   "metadata": {},
   "outputs": [],
   "source": [
    "# 이 파일 경로는 컴퓨터마다 OS 마다 다르다.\n",
    "from zipline.utils.run_algo import load_extensions\n",
    "os.environ['ZIPLINE_ROOT'] = 'C:/Users/PC/.zipline/'\n",
    "load_extensions(default=True,\n",
    "                extensions=[],\n",
    "                strict=True,\n",
    "                environ=None)"
   ]
  },
  {
   "cell_type": "code",
   "execution_count": 26,
   "metadata": {},
   "outputs": [],
   "source": [
    "from zipline.api import (\n",
    "    attach_pipeline,\n",
    "    date_rules,\n",
    "    time_rules,\n",
    "    order_target_percent,\n",
    "    pipeline_output,\n",
    "    record,\n",
    "    schedule_function,\n",
    "    get_open_orders,\n",
    "    calendars\n",
    ")\n",
    "from zipline.utils.calendars import get_calendar\n",
    "from zipline import run_algorithm\n",
    "from zipline.finance import commission, slippage\n",
    "from zipline.pipeline import Pipeline, CustomFactor\n",
    "from zipline.pipeline.factors import Returns, AverageDollarVolume\n",
    "import numpy as np\n",
    "import pandas as pd\n",
    "\n",
    "MONTH = 21\n",
    "YEAR = 12 * MONTH\n",
    "N_LONGS = N_SHORTS = 25\n",
    "VOL_SCREEN = 1000\n",
    "\n",
    "\n",
    "class MeanReversion(CustomFactor):\n",
    "    \"\"\"Compute ratio of latest monthly return to 12m average,\n",
    "       normalized by std dev of monthly returns\"\"\"\n",
    "    inputs = [Returns(window_length=MONTH)]\n",
    "    window_length = YEAR\n",
    "\n",
    "    def compute(self, today, assets, out, monthly_returns):\n",
    "        df = pd.DataFrame(monthly_returns)\n",
    "        out[:] = df.iloc[-1].sub(df.mean()).div(df.std())\n",
    "\n",
    "\n",
    "def compute_factors():\n",
    "    \"\"\"Create factor pipeline incl. mean reversion,\n",
    "        filtered by 30d Dollar Volume; capture factor ranks\"\"\"\n",
    "    mean_reversion = MeanReversion()\n",
    "    dollar_volume = AverageDollarVolume(window_length=30)\n",
    "    return Pipeline(columns={'longs': mean_reversion.bottom(N_LONGS),\n",
    "                             'shorts': mean_reversion.top(N_SHORTS),\n",
    "                             'ranking': mean_reversion.rank(ascending=False)},\n",
    "                    screen=dollar_volume.top(VOL_SCREEN))\n",
    "\n",
    "\n",
    "def exec_trades(data, assets, target_percent):\n",
    "    \"\"\"Place orders for assets using target portfolio percentage\"\"\"\n",
    "    for asset in assets:\n",
    "        if data.can_trade(asset) and not get_open_orders(asset):\n",
    "            order_target_percent(asset, target_percent)\n",
    "\n",
    "\n",
    "def rebalance(context, data):\n",
    "    \"\"\"Compute long, short and obsolete holdings; place trade orders\"\"\"\n",
    "#     context.factor_data = pipeline_output('factor_pipeline')\n",
    "#     factor_data = context.factor_data\n",
    "    factor_data = pipeline_output('factor_pipeline')\n",
    "    record(factor_data=factor_data.ranking)\n",
    "\n",
    "    assets = factor_data.index\n",
    "    record(prices=data.current(assets, 'price'))\n",
    "\n",
    "    longs = assets[factor_data.longs]\n",
    "    shorts = assets[factor_data.shorts]\n",
    "    divest = set(context.portfolio.positions.keys()) - set(longs.union(shorts))\n",
    "\n",
    "    exec_trades(data, assets=divest, target_percent=0)\n",
    "    exec_trades(data, assets=longs, target_percent=1 / N_LONGS)\n",
    "    exec_trades(data, assets=shorts, target_percent=-1 / N_SHORTS)\n",
    "\n",
    "\n",
    "def initialize(context):\n",
    "    \"\"\"Setup: register pipeline, schedule rebalancing,\n",
    "        and set trading params\"\"\"\n",
    "    attach_pipeline(pipeline=compute_factors(), name='factor_pipeline')\n",
    "    schedule_function(rebalance,\n",
    "                      date_rules.week_start(),\n",
    "                      time_rules.market_open(),\n",
    "                      )\n",
    "    context.set_commission(commission.PerShare(cost=.01, min_trade_cost=0))\n",
    "    context.set_slippage(slippage.VolumeShareSlippage())"
   ]
  },
  {
   "cell_type": "code",
   "execution_count": 27,
   "metadata": {},
   "outputs": [],
   "source": [
    "start = pd.Timestamp('2015-01-01', tz='utc')\n",
    "end = pd.Timestamp('2020-01-01', tz='utc')"
   ]
  },
  {
   "cell_type": "markdown",
   "metadata": {},
   "source": [
    "## 여기서 밑에 코드를 실행 시키면 Error가 발생한다.\n",
    "1. 우선 이 전제를 이해해야 된다. zipline은 US Stocks을 우선으로 만들어 졌고 다른 나라 주식도 백테스트 가능하게 만들어져 있으나 기능은 US 기준으로 코딩 되어있는 부분들이 많다.\n",
    "2. 이러한 이유로 에러가 발생할 수 있고 이러한 이유를 해결하기 위해서는 US_EQUITIES 되어있는 부분을 KR_EQUITIES로 코드를 변경해줘야 된다. \n",
    "3. 아래 문제를 해결하는 방법은 package 코드로 들어가서 수정해줘야 된다. 수정은 아래 방법으로 하면 된다.\n",
    "\n",
    "<br/>\n",
    "<br/>\n",
    "\n",
    "**기존코드** \n",
    "<br/>\n",
    "(파일 위치: C:\\Users\\PC\\anaconda3\\envs\\ml4t\\Lib\\site-packages\\zipline\\pipeline\\data\\equity_pricing.py) 이렇게 가상환경 설치 Package 위치로 이동해서 수정\n",
    "\n",
    "<br/>\n",
    "\n",
    "```{.python}\n",
    "from zipline.utils.numpy_utils import float64_dtype, categorical_dtype\n",
    "from ..domain import US_EQUITIES\n",
    "from .dataset import Column, DataSet\n",
    "class EquityPricing(DataSet):\n",
    "        open = Column(float64_dtype, currency_aware=True)\n",
    "        high = Column(float64_dtype, currency_aware=True)\n",
    "        low = Column(float64_dtype, currency_aware=True)\n",
    "        close = Column(float64_dtype, currency_aware=True)\n",
    "        volume = Column(float64_dtype)\n",
    "        currency = Column(categorical_dtype)\n",
    "USEquityPricing = EquityPricing.specialize(US_EQUITIES)\n",
    "```\n",
    "\n",
    "<br/>\n",
    "<br/>\n",
    "\n",
    "**수정코드**\n",
    "```{.python}\n",
    "from zipline.utils.numpy_utils import float64_dtype, categorical_dtype\n",
    "from ..domain import US_EQUITIES, KR_EQUITIES\n",
    "from .dataset import Column, DataSet\n",
    "class EquityPricing(DataSet):\n",
    "        open = Column(float64_dtype, currency_aware=True)\n",
    "        high = Column(float64_dtype, currency_aware=True)\n",
    "        low = Column(float64_dtype, currency_aware=True)\n",
    "        close = Column(float64_dtype, currency_aware=True)\n",
    "        volume = Column(float64_dtype)\n",
    "        currency = Column(categorical_dtype)\n",
    "# USEquityPricing = EquityPricing.specialize(US_EQUITIES)\n",
    "USEquityPricing = EquityPricing.specialize(KR_EQUITIES)\n",
    "```\n",
    "\n",
    "\n",
    "\n",
    "\n",
    "\n",
    "\n",
    "4. 이렇게 US_EQUITIES를 KR_EQUITIES로 변경해서 마치 변수이름은 USEquityPricing 이지만 데이터는 KR_EQUITIES이다."
   ]
  },
  {
   "cell_type": "code",
   "execution_count": 28,
   "metadata": {},
   "outputs": [],
   "source": [
    "results = run_algorithm(start=start,\n",
    "                        end=end,\n",
    "                        initialize=initialize,\n",
    "                        capital_base=1e6,\n",
    "                        data_frequency='daily',\n",
    "                        bundle='finance_datareader',\n",
    "                        trading_calendar=get_calendar('XKRX'),\n",
    "                       )"
   ]
  },
  {
   "cell_type": "code",
   "execution_count": 22,
   "metadata": {},
   "outputs": [
    {
     "data": {
      "text/html": [
       "<div>\n",
       "<style scoped>\n",
       "    .dataframe tbody tr th:only-of-type {\n",
       "        vertical-align: middle;\n",
       "    }\n",
       "\n",
       "    .dataframe tbody tr th {\n",
       "        vertical-align: top;\n",
       "    }\n",
       "\n",
       "    .dataframe thead th {\n",
       "        text-align: right;\n",
       "    }\n",
       "</style>\n",
       "<table border=\"1\" class=\"dataframe\">\n",
       "  <thead>\n",
       "    <tr style=\"text-align: right;\">\n",
       "      <th></th>\n",
       "      <th>period_open</th>\n",
       "      <th>period_close</th>\n",
       "      <th>longs_count</th>\n",
       "      <th>shorts_count</th>\n",
       "      <th>long_value</th>\n",
       "      <th>short_value</th>\n",
       "      <th>returns</th>\n",
       "      <th>long_exposure</th>\n",
       "      <th>pnl</th>\n",
       "      <th>capital_used</th>\n",
       "      <th>...</th>\n",
       "      <th>sharpe</th>\n",
       "      <th>sortino</th>\n",
       "      <th>max_drawdown</th>\n",
       "      <th>max_leverage</th>\n",
       "      <th>excess_return</th>\n",
       "      <th>treasury_period_return</th>\n",
       "      <th>trading_days</th>\n",
       "      <th>period_label</th>\n",
       "      <th>factor_data</th>\n",
       "      <th>prices</th>\n",
       "    </tr>\n",
       "  </thead>\n",
       "  <tbody>\n",
       "    <tr>\n",
       "      <th>2015-01-02 06:30:00+00:00</th>\n",
       "      <td>2015-01-02 00:01:00+00:00</td>\n",
       "      <td>2015-01-02 06:30:00+00:00</td>\n",
       "      <td>0</td>\n",
       "      <td>0</td>\n",
       "      <td>0.0</td>\n",
       "      <td>0.0</td>\n",
       "      <td>0.000000</td>\n",
       "      <td>0.0</td>\n",
       "      <td>0.000000</td>\n",
       "      <td>0.000000</td>\n",
       "      <td>...</td>\n",
       "      <td>NaN</td>\n",
       "      <td>NaN</td>\n",
       "      <td>0.000000</td>\n",
       "      <td>0.000000</td>\n",
       "      <td>0.0</td>\n",
       "      <td>0.0</td>\n",
       "      <td>1</td>\n",
       "      <td>2015-01</td>\n",
       "      <td>NaN</td>\n",
       "      <td>NaN</td>\n",
       "    </tr>\n",
       "    <tr>\n",
       "      <th>2015-01-05 06:30:00+00:00</th>\n",
       "      <td>2015-01-05 00:01:00+00:00</td>\n",
       "      <td>2015-01-05 06:30:00+00:00</td>\n",
       "      <td>0</td>\n",
       "      <td>0</td>\n",
       "      <td>0.0</td>\n",
       "      <td>0.0</td>\n",
       "      <td>0.000000</td>\n",
       "      <td>0.0</td>\n",
       "      <td>0.000000</td>\n",
       "      <td>0.000000</td>\n",
       "      <td>...</td>\n",
       "      <td>NaN</td>\n",
       "      <td>NaN</td>\n",
       "      <td>0.000000</td>\n",
       "      <td>0.000000</td>\n",
       "      <td>0.0</td>\n",
       "      <td>0.0</td>\n",
       "      <td>2</td>\n",
       "      <td>2015-01</td>\n",
       "      <td>Equity(0 [001460])      280.0\n",
       "Equity(1 [001040...</td>\n",
       "      <td>Equity(0 [001460])      260500.0\n",
       "Equity(1 [001...</td>\n",
       "    </tr>\n",
       "    <tr>\n",
       "      <th>2015-01-06 06:30:00+00:00</th>\n",
       "      <td>2015-01-06 00:01:00+00:00</td>\n",
       "      <td>2015-01-06 06:30:00+00:00</td>\n",
       "      <td>15</td>\n",
       "      <td>20</td>\n",
       "      <td>541815.0</td>\n",
       "      <td>-719062.0</td>\n",
       "      <td>-0.000003</td>\n",
       "      <td>541815.0</td>\n",
       "      <td>-3.423681</td>\n",
       "      <td>177243.576319</td>\n",
       "      <td>...</td>\n",
       "      <td>-9.165151</td>\n",
       "      <td>-9.165151</td>\n",
       "      <td>-0.000003</td>\n",
       "      <td>1.260881</td>\n",
       "      <td>0.0</td>\n",
       "      <td>0.0</td>\n",
       "      <td>3</td>\n",
       "      <td>2015-01</td>\n",
       "      <td>Equity(0 [001460])      280.0\n",
       "Equity(1 [001040...</td>\n",
       "      <td>Equity(0 [001460])      260500.0\n",
       "Equity(1 [001...</td>\n",
       "    </tr>\n",
       "    <tr>\n",
       "      <th>2015-01-07 06:30:00+00:00</th>\n",
       "      <td>2015-01-07 00:01:00+00:00</td>\n",
       "      <td>2015-01-07 06:30:00+00:00</td>\n",
       "      <td>15</td>\n",
       "      <td>20</td>\n",
       "      <td>541889.0</td>\n",
       "      <td>-715568.0</td>\n",
       "      <td>0.003568</td>\n",
       "      <td>541889.0</td>\n",
       "      <td>3568.000000</td>\n",
       "      <td>0.000000</td>\n",
       "      <td>...</td>\n",
       "      <td>7.927099</td>\n",
       "      <td>8263.924652</td>\n",
       "      <td>-0.000003</td>\n",
       "      <td>1.260881</td>\n",
       "      <td>0.0</td>\n",
       "      <td>0.0</td>\n",
       "      <td>4</td>\n",
       "      <td>2015-01</td>\n",
       "      <td>Equity(0 [001460])      280.0\n",
       "Equity(1 [001040...</td>\n",
       "      <td>Equity(0 [001460])      260500.0\n",
       "Equity(1 [001...</td>\n",
       "    </tr>\n",
       "    <tr>\n",
       "      <th>2015-01-08 06:30:00+00:00</th>\n",
       "      <td>2015-01-08 00:01:00+00:00</td>\n",
       "      <td>2015-01-08 06:30:00+00:00</td>\n",
       "      <td>15</td>\n",
       "      <td>20</td>\n",
       "      <td>547599.0</td>\n",
       "      <td>-712823.0</td>\n",
       "      <td>0.008425</td>\n",
       "      <td>547599.0</td>\n",
       "      <td>8455.000000</td>\n",
       "      <td>0.000000</td>\n",
       "      <td>...</td>\n",
       "      <td>10.269195</td>\n",
       "      <td>24861.371113</td>\n",
       "      <td>-0.000003</td>\n",
       "      <td>1.260881</td>\n",
       "      <td>0.0</td>\n",
       "      <td>0.0</td>\n",
       "      <td>5</td>\n",
       "      <td>2015-01</td>\n",
       "      <td>Equity(0 [001460])      280.0\n",
       "Equity(1 [001040...</td>\n",
       "      <td>Equity(0 [001460])      260500.0\n",
       "Equity(1 [001...</td>\n",
       "    </tr>\n",
       "    <tr>\n",
       "      <th>...</th>\n",
       "      <td>...</td>\n",
       "      <td>...</td>\n",
       "      <td>...</td>\n",
       "      <td>...</td>\n",
       "      <td>...</td>\n",
       "      <td>...</td>\n",
       "      <td>...</td>\n",
       "      <td>...</td>\n",
       "      <td>...</td>\n",
       "      <td>...</td>\n",
       "      <td>...</td>\n",
       "      <td>...</td>\n",
       "      <td>...</td>\n",
       "      <td>...</td>\n",
       "      <td>...</td>\n",
       "      <td>...</td>\n",
       "      <td>...</td>\n",
       "      <td>...</td>\n",
       "      <td>...</td>\n",
       "      <td>...</td>\n",
       "      <td>...</td>\n",
       "    </tr>\n",
       "    <tr>\n",
       "      <th>2019-12-23 06:30:00+00:00</th>\n",
       "      <td>2019-12-23 00:01:00+00:00</td>\n",
       "      <td>2019-12-23 06:30:00+00:00</td>\n",
       "      <td>18</td>\n",
       "      <td>15</td>\n",
       "      <td>531557.0</td>\n",
       "      <td>-451490.0</td>\n",
       "      <td>0.004016</td>\n",
       "      <td>531557.0</td>\n",
       "      <td>3307.000000</td>\n",
       "      <td>0.000000</td>\n",
       "      <td>...</td>\n",
       "      <td>-0.121871</td>\n",
       "      <td>-0.160648</td>\n",
       "      <td>-0.470073</td>\n",
       "      <td>1.759906</td>\n",
       "      <td>0.0</td>\n",
       "      <td>0.0</td>\n",
       "      <td>1223</td>\n",
       "      <td>2019-12</td>\n",
       "      <td>Equity(0 [001460])      171.0\n",
       "Equity(1 [001040...</td>\n",
       "      <td>Equity(0 [001460])      234000.0\n",
       "Equity(1 [001...</td>\n",
       "    </tr>\n",
       "    <tr>\n",
       "      <th>2019-12-24 06:30:00+00:00</th>\n",
       "      <td>2019-12-24 00:01:00+00:00</td>\n",
       "      <td>2019-12-24 06:30:00+00:00</td>\n",
       "      <td>19</td>\n",
       "      <td>19</td>\n",
       "      <td>572195.0</td>\n",
       "      <td>-556550.0</td>\n",
       "      <td>0.004492</td>\n",
       "      <td>572195.0</td>\n",
       "      <td>3714.024835</td>\n",
       "      <td>68136.024835</td>\n",
       "      <td>...</td>\n",
       "      <td>-0.116755</td>\n",
       "      <td>-0.153914</td>\n",
       "      <td>-0.470073</td>\n",
       "      <td>1.759906</td>\n",
       "      <td>0.0</td>\n",
       "      <td>0.0</td>\n",
       "      <td>1224</td>\n",
       "      <td>2019-12</td>\n",
       "      <td>Equity(0 [001460])      171.0\n",
       "Equity(1 [001040...</td>\n",
       "      <td>Equity(0 [001460])      234000.0\n",
       "Equity(1 [001...</td>\n",
       "    </tr>\n",
       "    <tr>\n",
       "      <th>2019-12-26 06:30:00+00:00</th>\n",
       "      <td>2019-12-26 00:01:00+00:00</td>\n",
       "      <td>2019-12-26 06:30:00+00:00</td>\n",
       "      <td>19</td>\n",
       "      <td>19</td>\n",
       "      <td>575511.0</td>\n",
       "      <td>-565125.0</td>\n",
       "      <td>-0.006332</td>\n",
       "      <td>575511.0</td>\n",
       "      <td>-5259.000000</td>\n",
       "      <td>0.000000</td>\n",
       "      <td>...</td>\n",
       "      <td>-0.123820</td>\n",
       "      <td>-0.163213</td>\n",
       "      <td>-0.470073</td>\n",
       "      <td>1.759906</td>\n",
       "      <td>0.0</td>\n",
       "      <td>0.0</td>\n",
       "      <td>1225</td>\n",
       "      <td>2019-12</td>\n",
       "      <td>Equity(0 [001460])      171.0\n",
       "Equity(1 [001040...</td>\n",
       "      <td>Equity(0 [001460])      234000.0\n",
       "Equity(1 [001...</td>\n",
       "    </tr>\n",
       "    <tr>\n",
       "      <th>2019-12-27 06:30:00+00:00</th>\n",
       "      <td>2019-12-27 00:01:00+00:00</td>\n",
       "      <td>2019-12-27 06:30:00+00:00</td>\n",
       "      <td>19</td>\n",
       "      <td>19</td>\n",
       "      <td>576789.0</td>\n",
       "      <td>-571310.0</td>\n",
       "      <td>-0.005946</td>\n",
       "      <td>576789.0</td>\n",
       "      <td>-4907.000000</td>\n",
       "      <td>0.000000</td>\n",
       "      <td>...</td>\n",
       "      <td>-0.130446</td>\n",
       "      <td>-0.171932</td>\n",
       "      <td>-0.470073</td>\n",
       "      <td>1.759906</td>\n",
       "      <td>0.0</td>\n",
       "      <td>0.0</td>\n",
       "      <td>1226</td>\n",
       "      <td>2019-12</td>\n",
       "      <td>Equity(0 [001460])      171.0\n",
       "Equity(1 [001040...</td>\n",
       "      <td>Equity(0 [001460])      234000.0\n",
       "Equity(1 [001...</td>\n",
       "    </tr>\n",
       "    <tr>\n",
       "      <th>2019-12-30 06:30:00+00:00</th>\n",
       "      <td>2019-12-30 00:01:00+00:00</td>\n",
       "      <td>2019-12-30 06:30:00+00:00</td>\n",
       "      <td>19</td>\n",
       "      <td>19</td>\n",
       "      <td>577878.0</td>\n",
       "      <td>-570315.0</td>\n",
       "      <td>0.002540</td>\n",
       "      <td>577878.0</td>\n",
       "      <td>2084.000000</td>\n",
       "      <td>0.000000</td>\n",
       "      <td>...</td>\n",
       "      <td>-0.127534</td>\n",
       "      <td>-0.168097</td>\n",
       "      <td>-0.470073</td>\n",
       "      <td>1.759906</td>\n",
       "      <td>0.0</td>\n",
       "      <td>0.0</td>\n",
       "      <td>1227</td>\n",
       "      <td>2019-12</td>\n",
       "      <td>Equity(0 [001460])      158.0\n",
       "Equity(1 [001040...</td>\n",
       "      <td>Equity(0 [001460])      236500.0\n",
       "Equity(1 [001...</td>\n",
       "    </tr>\n",
       "  </tbody>\n",
       "</table>\n",
       "<p>1227 rows × 39 columns</p>\n",
       "</div>"
      ],
      "text/plain": [
       "                                        period_open              period_close  longs_count  shorts_count  long_value  short_value   returns  long_exposure          pnl   capital_used  ...     sharpe       sortino max_drawdown max_leverage  excess_return  treasury_period_return  trading_days  period_label                                        factor_data                                             prices\n",
       "2015-01-02 06:30:00+00:00 2015-01-02 00:01:00+00:00 2015-01-02 06:30:00+00:00            0             0         0.0          0.0  0.000000            0.0     0.000000       0.000000  ...        NaN           NaN     0.000000     0.000000            0.0                     0.0             1       2015-01                                                NaN                                                NaN\n",
       "2015-01-05 06:30:00+00:00 2015-01-05 00:01:00+00:00 2015-01-05 06:30:00+00:00            0             0         0.0          0.0  0.000000            0.0     0.000000       0.000000  ...        NaN           NaN     0.000000     0.000000            0.0                     0.0             2       2015-01  Equity(0 [001460])      280.0\n",
       "Equity(1 [001040...  Equity(0 [001460])      260500.0\n",
       "Equity(1 [001...\n",
       "2015-01-06 06:30:00+00:00 2015-01-06 00:01:00+00:00 2015-01-06 06:30:00+00:00           15            20    541815.0    -719062.0 -0.000003       541815.0    -3.423681  177243.576319  ...  -9.165151     -9.165151    -0.000003     1.260881            0.0                     0.0             3       2015-01  Equity(0 [001460])      280.0\n",
       "Equity(1 [001040...  Equity(0 [001460])      260500.0\n",
       "Equity(1 [001...\n",
       "2015-01-07 06:30:00+00:00 2015-01-07 00:01:00+00:00 2015-01-07 06:30:00+00:00           15            20    541889.0    -715568.0  0.003568       541889.0  3568.000000       0.000000  ...   7.927099   8263.924652    -0.000003     1.260881            0.0                     0.0             4       2015-01  Equity(0 [001460])      280.0\n",
       "Equity(1 [001040...  Equity(0 [001460])      260500.0\n",
       "Equity(1 [001...\n",
       "2015-01-08 06:30:00+00:00 2015-01-08 00:01:00+00:00 2015-01-08 06:30:00+00:00           15            20    547599.0    -712823.0  0.008425       547599.0  8455.000000       0.000000  ...  10.269195  24861.371113    -0.000003     1.260881            0.0                     0.0             5       2015-01  Equity(0 [001460])      280.0\n",
       "Equity(1 [001040...  Equity(0 [001460])      260500.0\n",
       "Equity(1 [001...\n",
       "...                                             ...                       ...          ...           ...         ...          ...       ...            ...          ...            ...  ...        ...           ...          ...          ...            ...                     ...           ...           ...                                                ...                                                ...\n",
       "2019-12-23 06:30:00+00:00 2019-12-23 00:01:00+00:00 2019-12-23 06:30:00+00:00           18            15    531557.0    -451490.0  0.004016       531557.0  3307.000000       0.000000  ...  -0.121871     -0.160648    -0.470073     1.759906            0.0                     0.0          1223       2019-12  Equity(0 [001460])      171.0\n",
       "Equity(1 [001040...  Equity(0 [001460])      234000.0\n",
       "Equity(1 [001...\n",
       "2019-12-24 06:30:00+00:00 2019-12-24 00:01:00+00:00 2019-12-24 06:30:00+00:00           19            19    572195.0    -556550.0  0.004492       572195.0  3714.024835   68136.024835  ...  -0.116755     -0.153914    -0.470073     1.759906            0.0                     0.0          1224       2019-12  Equity(0 [001460])      171.0\n",
       "Equity(1 [001040...  Equity(0 [001460])      234000.0\n",
       "Equity(1 [001...\n",
       "2019-12-26 06:30:00+00:00 2019-12-26 00:01:00+00:00 2019-12-26 06:30:00+00:00           19            19    575511.0    -565125.0 -0.006332       575511.0 -5259.000000       0.000000  ...  -0.123820     -0.163213    -0.470073     1.759906            0.0                     0.0          1225       2019-12  Equity(0 [001460])      171.0\n",
       "Equity(1 [001040...  Equity(0 [001460])      234000.0\n",
       "Equity(1 [001...\n",
       "2019-12-27 06:30:00+00:00 2019-12-27 00:01:00+00:00 2019-12-27 06:30:00+00:00           19            19    576789.0    -571310.0 -0.005946       576789.0 -4907.000000       0.000000  ...  -0.130446     -0.171932    -0.470073     1.759906            0.0                     0.0          1226       2019-12  Equity(0 [001460])      171.0\n",
       "Equity(1 [001040...  Equity(0 [001460])      234000.0\n",
       "Equity(1 [001...\n",
       "2019-12-30 06:30:00+00:00 2019-12-30 00:01:00+00:00 2019-12-30 06:30:00+00:00           19            19    577878.0    -570315.0  0.002540       577878.0  2084.000000       0.000000  ...  -0.127534     -0.168097    -0.470073     1.759906            0.0                     0.0          1227       2019-12  Equity(0 [001460])      158.0\n",
       "Equity(1 [001040...  Equity(0 [001460])      236500.0\n",
       "Equity(1 [001...\n",
       "\n",
       "[1227 rows x 39 columns]"
      ]
     },
     "execution_count": 22,
     "metadata": {},
     "output_type": "execute_result"
    }
   ],
   "source": [
    "results"
   ]
  },
  {
   "cell_type": "markdown",
   "metadata": {},
   "source": [
    "## Inspect Results"
   ]
  },
  {
   "cell_type": "markdown",
   "metadata": {},
   "source": [
    "We can get the result `DataFrame` using `_` which captures the last cell output (only works when you run it right after the above cell)"
   ]
  },
  {
   "cell_type": "code",
   "execution_count": 23,
   "metadata": {
    "ExecuteTime": {
     "end_time": "2021-04-15T20:04:32.952603Z",
     "start_time": "2021-04-15T20:04:32.950968Z"
    }
   },
   "outputs": [],
   "source": [
    "result = _"
   ]
  },
  {
   "cell_type": "code",
   "execution_count": 24,
   "metadata": {
    "ExecuteTime": {
     "end_time": "2021-04-15T20:04:32.970108Z",
     "start_time": "2021-04-15T20:04:32.953503Z"
    }
   },
   "outputs": [
    {
     "name": "stdout",
     "output_type": "stream",
     "text": [
      "<class 'pandas.core.frame.DataFrame'>\n",
      "DatetimeIndex: 1227 entries, 2015-01-02 06:30:00+00:00 to 2019-12-30 06:30:00+00:00\n",
      "Data columns (total 39 columns):\n",
      " #   Column                   Non-Null Count  Dtype              \n",
      "---  ------                   --------------  -----              \n",
      " 0   period_open              1227 non-null   datetime64[ns, UTC]\n",
      " 1   period_close             1227 non-null   datetime64[ns, UTC]\n",
      " 2   longs_count              1227 non-null   int64              \n",
      " 3   shorts_count             1227 non-null   int64              \n",
      " 4   long_value               1227 non-null   float64            \n",
      " 5   short_value              1227 non-null   float64            \n",
      " 6   returns                  1227 non-null   float64            \n",
      " 7   long_exposure            1227 non-null   float64            \n",
      " 8   pnl                      1227 non-null   float64            \n",
      " 9   capital_used             1227 non-null   float64            \n",
      " 10  short_exposure           1227 non-null   float64            \n",
      " 11  orders                   1227 non-null   object             \n",
      " 12  transactions             1227 non-null   object             \n",
      " 13  positions                1227 non-null   object             \n",
      " 14  gross_leverage           1227 non-null   float64            \n",
      " 15  starting_exposure        1227 non-null   float64            \n",
      " 16  net_leverage             1227 non-null   float64            \n",
      " 17  ending_exposure          1227 non-null   float64            \n",
      " 18  starting_value           1227 non-null   float64            \n",
      " 19  ending_value             1227 non-null   float64            \n",
      " 20  starting_cash            1227 non-null   float64            \n",
      " 21  ending_cash              1227 non-null   float64            \n",
      " 22  portfolio_value          1227 non-null   float64            \n",
      " 23  algorithm_period_return  1227 non-null   float64            \n",
      " 24  algo_volatility          1226 non-null   float64            \n",
      " 25  benchmark_period_return  1227 non-null   float64            \n",
      " 26  benchmark_volatility     1226 non-null   float64            \n",
      " 27  alpha                    0 non-null      object             \n",
      " 28  beta                     0 non-null      object             \n",
      " 29  sharpe                   1225 non-null   float64            \n",
      " 30  sortino                  1225 non-null   float64            \n",
      " 31  max_drawdown             1227 non-null   float64            \n",
      " 32  max_leverage             1227 non-null   float64            \n",
      " 33  excess_return            1227 non-null   float64            \n",
      " 34  treasury_period_return   1227 non-null   float64            \n",
      " 35  trading_days             1227 non-null   int64              \n",
      " 36  period_label             1227 non-null   object             \n",
      " 37  factor_data              1226 non-null   object             \n",
      " 38  prices                   1226 non-null   object             \n",
      "dtypes: datetime64[ns, UTC](2), float64(26), int64(3), object(8)\n",
      "memory usage: 383.4+ KB\n"
     ]
    }
   ],
   "source": [
    "result.info()"
   ]
  },
  {
   "cell_type": "code",
   "execution_count": 25,
   "metadata": {
    "ExecuteTime": {
     "end_time": "2021-04-15T20:04:33.445657Z",
     "start_time": "2021-04-15T20:04:32.970905Z"
    },
    "scrolled": false
   },
   "outputs": [
    {
     "data": {
      "image/png": "[encoded data removed]",
      "text/plain": [
       "<Figure size 1008x432 with 2 Axes>"
      ]
     },
     "metadata": {},
     "output_type": "display_data"
    }
   ],
   "source": [
    "fig, axes = plt.subplots(nrows=2, figsize=(14,6))\n",
    "result.algorithm_period_return.plot(ax=axes[0], title='Cumulative Return')\n",
    "result.algo_volatility.plot(ax=axes[1], title='Volatility')\n",
    "sns.despine()\n",
    "fig.tight_layout();"
   ]
  },
  {
   "cell_type": "markdown",
   "metadata": {},
   "source": [
    "## Pickle 파일로 BackTest 결과 저장"
   ]
  },
  {
   "cell_type": "code",
   "execution_count": 31,
   "metadata": {},
   "outputs": [],
   "source": [
    "result.to_pickle('single_factor.pickle')"
   ]
  },
  {
   "cell_type": "code",
   "execution_count": null,
   "metadata": {},
   "outputs": [],
   "source": []
  }
 ],
 "metadata": {
  "kernelspec": {
   "display_name": "Python [conda env:ml4t_orginal]",
   "language": "python",
   "name": "conda-env-ml4t_orginal-py"
  },
  "language_info": {
   "codemirror_mode": {
    "name": "ipython",
    "version": 3
   },
   "file_extension": ".py",
   "mimetype": "text/x-python",
   "name": "python",
   "nbconvert_exporter": "python",
   "pygments_lexer": "ipython3",
   "version": "3.8.8"
  },
  "toc": {
   "base_numbering": 1,
   "nav_menu": {},
   "number_sections": true,
   "sideBar": true,
   "skip_h1_title": true,
   "title_cell": "Table of Contents",
   "title_sidebar": "Contents",
   "toc_cell": false,
   "toc_position": {
    "height": "calc(100% - 180px)",
    "left": "10px",
    "top": "150px",
    "width": "512px"
   },
   "toc_section_display": true,
   "toc_window_display": false
  }
 },
 "nbformat": 4,
 "nbformat_minor": 2
}
