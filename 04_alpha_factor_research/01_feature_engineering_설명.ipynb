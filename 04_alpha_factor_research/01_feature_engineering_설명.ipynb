{
 "cells": [
  {
   "cell_type": "markdown",
   "metadata": {},
   "source": [
    "# 데이터들을 factor로 변경"
   ]
  },
  {
   "cell_type": "markdown",
   "metadata": {},
   "source": [
    "Based on a conceptual understanding of key factor categories, their rationale and popular metrics, a key task is to identify new factors that may better capture the risks embodied by the return drivers laid out previously, or to find new ones. \n",
    "\n",
    "In either case, it will be important to compare the performance of innovative factors to that of known factors to identify incremental signal gains."
   ]
  },
  {
   "cell_type": "markdown",
   "metadata": {},
   "source": [
    "We create the dataset here and store it in our [data](../data) folder to facilitate reuse in later chapters."
   ]
  },
  {
   "cell_type": "markdown",
   "metadata": {},
   "source": [
    "## Imports & Settings"
   ]
  },
  {
   "cell_type": "code",
   "execution_count": 1,
   "metadata": {
    "ExecuteTime": {
     "end_time": "2021-04-15T19:41:03.495850Z",
     "start_time": "2021-04-15T19:41:03.491885Z"
    }
   },
   "outputs": [],
   "source": [
    "import warnings\n",
    "warnings.filterwarnings('ignore')"
   ]
  },
  {
   "cell_type": "code",
   "execution_count": 2,
   "metadata": {
    "ExecuteTime": {
     "end_time": "2021-04-15T19:41:04.376337Z",
     "start_time": "2021-04-15T19:41:03.779408Z"
    }
   },
   "outputs": [],
   "source": [
    "%matplotlib inline\n",
    "\n",
    "from datetime import datetime\n",
    "import pandas as pd\n",
    "import pandas_datareader.data as web\n",
    "\n",
    "from statsmodels.regression.rolling import RollingOLS\n",
    "import statsmodels.api as sm\n",
    "\n",
    "import matplotlib.pyplot as plt\n",
    "import seaborn as sns"
   ]
  },
  {
   "cell_type": "code",
   "execution_count": 3,
   "metadata": {
    "ExecuteTime": {
     "end_time": "2021-04-15T19:41:04.513447Z",
     "start_time": "2021-04-15T19:41:04.510049Z"
    }
   },
   "outputs": [],
   "source": [
    "sns.set_style('whitegrid')\n",
    "idx = pd.IndexSlice"
   ]
  },
  {
   "cell_type": "markdown",
   "metadata": {},
   "source": [
    "## Get Data"
   ]
  },
  {
   "cell_type": "markdown",
   "metadata": {},
   "source": [
    "The `assets.h5` store can be generated using the the notebook [create_datasets](../data/create_datasets.ipynb) in the [data](../data) directory in the root directory of this repo for instruction to download the following dataset."
   ]
  },
  {
   "cell_type": "markdown",
   "metadata": {},
   "source": [
    "We load the Quandl stock price datasets covering the US equity markets 2000-18 using `pd.IndexSlice` to perform a slice operation on the `pd.MultiIndex`, select the adjusted close price and unpivot the column to convert the DataFrame to wide format with tickers in the columns and timestamps in the rows:"
   ]
  },
  {
   "cell_type": "markdown",
   "metadata": {},
   "source": [
    "Set data store location:"
   ]
  },
  {
   "cell_type": "code",
   "execution_count": 4,
   "metadata": {
    "ExecuteTime": {
     "end_time": "2021-04-15T19:42:15.894855Z",
     "start_time": "2021-04-15T19:42:15.892460Z"
    }
   },
   "outputs": [],
   "source": [
    "DATA_STORE = '../data/assets.h5'"
   ]
  },
  {
   "cell_type": "code",
   "execution_count": 5,
   "metadata": {
    "ExecuteTime": {
     "end_time": "2021-04-15T19:42:15.908751Z",
     "start_time": "2021-04-15T19:42:15.898676Z"
    }
   },
   "outputs": [],
   "source": [
    "START = 2000\n",
    "END = 2018"
   ]
  },
  {
   "cell_type": "code",
   "execution_count": 6,
   "metadata": {
    "ExecuteTime": {
     "end_time": "2021-04-15T19:42:22.923496Z",
     "start_time": "2021-04-15T19:42:15.909916Z"
    }
   },
   "outputs": [],
   "source": [
    "with pd.HDFStore(DATA_STORE) as store:\n",
    "    prices = (store['finance_datareader/prices']\n",
    "              .loc[idx[str(START):str(END), :], 'adj_close']\n",
    "              .unstack('ticker'))\n",
    "    stocks = store['kospi/stocks'].loc[:, ['시가총액', '상장일', 'sector']]"
   ]
  },
  {
   "cell_type": "code",
   "execution_count": 7,
   "metadata": {
    "ExecuteTime": {
     "end_time": "2021-04-15T19:42:23.001008Z",
     "start_time": "2021-04-15T19:42:22.924508Z"
    }
   },
   "outputs": [
    {
     "name": "stdout",
     "output_type": "stream",
     "text": [
      "<class 'pandas.core.frame.DataFrame'>\n",
      "DatetimeIndex: 4690 entries, 2000-01-04 to 2018-12-28\n",
      "Columns: 765 entries, 000020 to 298690\n",
      "dtypes: float64(765)\n",
      "memory usage: 27.4 MB\n"
     ]
    }
   ],
   "source": [
    "prices.info()"
   ]
  },
  {
   "cell_type": "code",
   "execution_count": 8,
   "metadata": {
    "ExecuteTime": {
     "end_time": "2021-04-15T19:42:23.008893Z",
     "start_time": "2021-04-15T19:42:23.002047Z"
    }
   },
   "outputs": [
    {
     "name": "stdout",
     "output_type": "stream",
     "text": [
      "<class 'pandas.core.frame.DataFrame'>\n",
      "Index: 770 entries, 095570 to 003280\n",
      "Data columns (total 3 columns):\n",
      " #   Column  Non-Null Count  Dtype  \n",
      "---  ------  --------------  -----  \n",
      " 0   시가총액    770 non-null    float64\n",
      " 1   상장일     770 non-null    float64\n",
      " 2   sector  770 non-null    object \n",
      "dtypes: float64(2), object(1)\n",
      "memory usage: 24.1+ KB\n"
     ]
    }
   ],
   "source": [
    "stocks.info()"
   ]
  },
  {
   "cell_type": "markdown",
   "metadata": {},
   "source": [
    "### 회사정보 데이터 유지"
   ]
  },
  {
   "cell_type": "markdown",
   "metadata": {},
   "source": [
    "`stocks` 겹치는 부분 제거와 인덱스 이름 설정"
   ]
  },
  {
   "cell_type": "code",
   "execution_count": 9,
   "metadata": {
    "ExecuteTime": {
     "end_time": "2021-04-15T19:42:23.018069Z",
     "start_time": "2021-04-15T19:42:23.009732Z"
    }
   },
   "outputs": [],
   "source": [
    "stocks = stocks[~stocks.index.duplicated()]\n",
    "stocks.index.name = 'ticker'"
   ]
  },
  {
   "cell_type": "markdown",
   "metadata": {},
   "source": [
    "가격 데이터와 회사 정보 데이터의 겹치는 ticker만 출력"
   ]
  },
  {
   "cell_type": "code",
   "execution_count": 10,
   "metadata": {
    "ExecuteTime": {
     "end_time": "2021-04-15T19:42:23.027293Z",
     "start_time": "2021-04-15T19:42:23.018895Z"
    }
   },
   "outputs": [],
   "source": [
    "shared = prices.columns.intersection(stocks.index)"
   ]
  },
  {
   "cell_type": "code",
   "execution_count": 11,
   "metadata": {
    "ExecuteTime": {
     "end_time": "2021-04-15T19:42:23.043241Z",
     "start_time": "2021-04-15T19:42:23.028490Z"
    }
   },
   "outputs": [
    {
     "name": "stdout",
     "output_type": "stream",
     "text": [
      "<class 'pandas.core.frame.DataFrame'>\n",
      "Index: 720 entries, 000020 to 298690\n",
      "Data columns (total 3 columns):\n",
      " #   Column  Non-Null Count  Dtype  \n",
      "---  ------  --------------  -----  \n",
      " 0   시가총액    720 non-null    float64\n",
      " 1   상장일     720 non-null    float64\n",
      " 2   sector  720 non-null    object \n",
      "dtypes: float64(2), object(1)\n",
      "memory usage: 22.5+ KB\n"
     ]
    }
   ],
   "source": [
    "stocks = stocks.loc[shared, :]\n",
    "stocks.info()"
   ]
  },
  {
   "cell_type": "code",
   "execution_count": 12,
   "metadata": {
    "ExecuteTime": {
     "end_time": "2021-04-15T19:42:23.137083Z",
     "start_time": "2021-04-15T19:42:23.044635Z"
    },
    "scrolled": true
   },
   "outputs": [
    {
     "name": "stdout",
     "output_type": "stream",
     "text": [
      "<class 'pandas.core.frame.DataFrame'>\n",
      "DatetimeIndex: 4690 entries, 2000-01-04 to 2018-12-28\n",
      "Columns: 720 entries, 000020 to 298690\n",
      "dtypes: float64(720)\n",
      "memory usage: 25.8 MB\n"
     ]
    }
   ],
   "source": [
    "prices = prices.loc[:, shared]\n",
    "prices.info()"
   ]
  },
  {
   "cell_type": "code",
   "execution_count": 13,
   "metadata": {
    "ExecuteTime": {
     "end_time": "2021-04-15T19:42:23.140088Z",
     "start_time": "2021-04-15T19:42:23.138243Z"
    }
   },
   "outputs": [],
   "source": [
    "assert prices.shape[1] == stocks.shape[0]"
   ]
  },
  {
   "cell_type": "markdown",
   "metadata": {},
   "source": [
    "## 월별 수익률 생성"
   ]
  },
  {
   "cell_type": "markdown",
   "metadata": {},
   "source": [
    "전략의 백테스트 시간을 줄이기 위해 월병 수익률을 수정주가를 이용해서 구한다:"
   ]
  },
  {
   "cell_type": "code",
   "execution_count": 14,
   "metadata": {
    "ExecuteTime": {
     "end_time": "2021-04-15T19:42:23.170928Z",
     "start_time": "2021-04-15T19:42:23.141153Z"
    }
   },
   "outputs": [],
   "source": [
    "monthly_prices = prices.resample('M').last()"
   ]
  },
  {
   "cell_type": "markdown",
   "metadata": {},
   "source": [
    "To capture time series dynamics that reflect, for example, momentum patterns, we compute historical returns using the method `.pct_change(n_periods)`, that is, returns over various monthly periods as identified by lags.\n",
    "\n",
    "We then convert the wide result back to long format with the `.stack()` method, use `.pipe()` to apply the `.clip()` method to the resulting `DataFrame`, and winsorize returns at the [1%, 99%] levels; that is, we cap outliers at these percentiles.\n",
    "\n",
    "Finally, we normalize returns using the geometric average. After using `.swaplevel()` to change the order of the `MultiIndex` levels, we obtain compounded monthly returns for six periods ranging from 1 to 12 months:"
   ]
  },
  {
   "cell_type": "code",
   "execution_count": 15,
   "metadata": {
    "ExecuteTime": {
     "end_time": "2021-04-15T19:42:23.275075Z",
     "start_time": "2021-04-15T19:42:23.171959Z"
    }
   },
   "outputs": [
    {
     "name": "stdout",
     "output_type": "stream",
     "text": [
      "<class 'pandas.core.frame.DataFrame'>\n",
      "DatetimeIndex: 228 entries, 2000-01-31 to 2018-12-31\n",
      "Freq: M\n",
      "Columns: 720 entries, 000020 to 298690\n",
      "dtypes: float64(720)\n",
      "memory usage: 1.3 MB\n"
     ]
    }
   ],
   "source": [
    "monthly_prices.info()"
   ]
  },
  {
   "cell_type": "code",
   "execution_count": 16,
   "metadata": {
    "ExecuteTime": {
     "end_time": "2021-04-15T19:42:27.496502Z",
     "start_time": "2021-04-15T19:42:23.276017Z"
    }
   },
   "outputs": [
    {
     "name": "stdout",
     "output_type": "stream",
     "text": [
      "<class 'pandas.core.frame.DataFrame'>\n",
      "MultiIndex: 122151 entries, ('000020', Timestamp('2001-01-31 00:00:00', freq='M')) to ('282330', Timestamp('2018-12-31 00:00:00', freq='M'))\n",
      "Data columns (total 6 columns):\n",
      " #   Column      Non-Null Count   Dtype  \n",
      "---  ------      --------------   -----  \n",
      " 0   return_1m   122151 non-null  float64\n",
      " 1   return_2m   122151 non-null  float64\n",
      " 2   return_3m   122151 non-null  float64\n",
      " 3   return_6m   122151 non-null  float64\n",
      " 4   return_9m   122151 non-null  float64\n",
      " 5   return_12m  122151 non-null  float64\n",
      "dtypes: float64(6)\n",
      "memory usage: 6.1+ MB\n"
     ]
    }
   ],
   "source": [
    "outlier_cutoff = 0.01\n",
    "data = pd.DataFrame()\n",
    "lags = [1, 2, 3, 6, 9, 12]\n",
    "for lag in lags:\n",
    "    data[f'return_{lag}m'] = (monthly_prices\n",
    "                           .pct_change(lag)\n",
    "                           .stack()\n",
    "                           .pipe(lambda x: x.clip(lower=x.quantile(outlier_cutoff),\n",
    "                                                  upper=x.quantile(1-outlier_cutoff)))\n",
    "                           .add(1)\n",
    "                           .pow(1/lag)\n",
    "                           .sub(1)\n",
    "                           )\n",
    "data = data.swaplevel().dropna()\n",
    "data.info()"
   ]
  },
  {
   "cell_type": "markdown",
   "metadata": {},
   "source": [
    "## 데이터가 10년이 안되는 종목들 제거"
   ]
  },
  {
   "cell_type": "code",
   "execution_count": 17,
   "metadata": {
    "ExecuteTime": {
     "end_time": "2021-04-15T19:42:32.693861Z",
     "start_time": "2021-04-15T19:42:27.497409Z"
    }
   },
   "outputs": [
    {
     "name": "stdout",
     "output_type": "stream",
     "text": [
      "<class 'pandas.core.frame.DataFrame'>\n",
      "MultiIndex: 112893 entries, ('000020', Timestamp('2001-01-31 00:00:00', freq='M')) to ('097950', Timestamp('2018-12-31 00:00:00', freq='M'))\n",
      "Data columns (total 6 columns):\n",
      " #   Column      Non-Null Count   Dtype  \n",
      "---  ------      --------------   -----  \n",
      " 0   return_1m   112893 non-null  float64\n",
      " 1   return_2m   112893 non-null  float64\n",
      " 2   return_3m   112893 non-null  float64\n",
      " 3   return_6m   112893 non-null  float64\n",
      " 4   return_9m   112893 non-null  float64\n",
      " 5   return_12m  112893 non-null  float64\n",
      "dtypes: float64(6)\n",
      "memory usage: 5.6+ MB\n"
     ]
    }
   ],
   "source": [
    "min_obs = 120\n",
    "nobs = data.groupby(level='ticker').size()\n",
    "keep = nobs[nobs>min_obs].index\n",
    "\n",
    "data = data.loc[idx[keep,:], :]\n",
    "data.info()"
   ]
  },
  {
   "cell_type": "code",
   "execution_count": 18,
   "metadata": {
    "ExecuteTime": {
     "end_time": "2021-04-15T19:42:32.759315Z",
     "start_time": "2021-04-15T19:42:32.695113Z"
    }
   },
   "outputs": [
    {
     "data": {
      "text/html": [
       "<div>\n",
       "<style scoped>\n",
       "    .dataframe tbody tr th:only-of-type {\n",
       "        vertical-align: middle;\n",
       "    }\n",
       "\n",
       "    .dataframe tbody tr th {\n",
       "        vertical-align: top;\n",
       "    }\n",
       "\n",
       "    .dataframe thead th {\n",
       "        text-align: right;\n",
       "    }\n",
       "</style>\n",
       "<table border=\"1\" class=\"dataframe\">\n",
       "  <thead>\n",
       "    <tr style=\"text-align: right;\">\n",
       "      <th></th>\n",
       "      <th>return_1m</th>\n",
       "      <th>return_2m</th>\n",
       "      <th>return_3m</th>\n",
       "      <th>return_6m</th>\n",
       "      <th>return_9m</th>\n",
       "      <th>return_12m</th>\n",
       "    </tr>\n",
       "  </thead>\n",
       "  <tbody>\n",
       "    <tr>\n",
       "      <th>count</th>\n",
       "      <td>112893.000000</td>\n",
       "      <td>112893.000000</td>\n",
       "      <td>112893.000000</td>\n",
       "      <td>112893.000000</td>\n",
       "      <td>112893.000000</td>\n",
       "      <td>112893.000000</td>\n",
       "    </tr>\n",
       "    <tr>\n",
       "      <th>mean</th>\n",
       "      <td>0.012874</td>\n",
       "      <td>0.008594</td>\n",
       "      <td>0.007124</td>\n",
       "      <td>0.005969</td>\n",
       "      <td>0.005586</td>\n",
       "      <td>0.005225</td>\n",
       "    </tr>\n",
       "    <tr>\n",
       "      <th>std</th>\n",
       "      <td>0.132635</td>\n",
       "      <td>0.092508</td>\n",
       "      <td>0.074875</td>\n",
       "      <td>0.053283</td>\n",
       "      <td>0.042913</td>\n",
       "      <td>0.037370</td>\n",
       "    </tr>\n",
       "    <tr>\n",
       "      <th>min</th>\n",
       "      <td>-0.314542</td>\n",
       "      <td>-0.229911</td>\n",
       "      <td>-0.188484</td>\n",
       "      <td>-0.133638</td>\n",
       "      <td>-0.109127</td>\n",
       "      <td>-0.094414</td>\n",
       "    </tr>\n",
       "    <tr>\n",
       "      <th>25%</th>\n",
       "      <td>-0.062104</td>\n",
       "      <td>-0.044584</td>\n",
       "      <td>-0.036308</td>\n",
       "      <td>-0.024918</td>\n",
       "      <td>-0.019623</td>\n",
       "      <td>-0.016613</td>\n",
       "    </tr>\n",
       "    <tr>\n",
       "      <th>50%</th>\n",
       "      <td>0.000000</td>\n",
       "      <td>0.000000</td>\n",
       "      <td>0.000678</td>\n",
       "      <td>0.001356</td>\n",
       "      <td>0.002203</td>\n",
       "      <td>0.002804</td>\n",
       "    </tr>\n",
       "    <tr>\n",
       "      <th>75%</th>\n",
       "      <td>0.070963</td>\n",
       "      <td>0.052451</td>\n",
       "      <td>0.044219</td>\n",
       "      <td>0.032942</td>\n",
       "      <td>0.028440</td>\n",
       "      <td>0.025642</td>\n",
       "    </tr>\n",
       "    <tr>\n",
       "      <th>max</th>\n",
       "      <td>0.518968</td>\n",
       "      <td>0.330760</td>\n",
       "      <td>0.256500</td>\n",
       "      <td>0.175006</td>\n",
       "      <td>0.135346</td>\n",
       "      <td>0.113848</td>\n",
       "    </tr>\n",
       "  </tbody>\n",
       "</table>\n",
       "</div>"
      ],
      "text/plain": [
       "           return_1m      return_2m      return_3m      return_6m  \\\n",
       "count  112893.000000  112893.000000  112893.000000  112893.000000   \n",
       "mean        0.012874       0.008594       0.007124       0.005969   \n",
       "std         0.132635       0.092508       0.074875       0.053283   \n",
       "min        -0.314542      -0.229911      -0.188484      -0.133638   \n",
       "25%        -0.062104      -0.044584      -0.036308      -0.024918   \n",
       "50%         0.000000       0.000000       0.000678       0.001356   \n",
       "75%         0.070963       0.052451       0.044219       0.032942   \n",
       "max         0.518968       0.330760       0.256500       0.175006   \n",
       "\n",
       "           return_9m     return_12m  \n",
       "count  112893.000000  112893.000000  \n",
       "mean        0.005586       0.005225  \n",
       "std         0.042913       0.037370  \n",
       "min        -0.109127      -0.094414  \n",
       "25%        -0.019623      -0.016613  \n",
       "50%         0.002203       0.002804  \n",
       "75%         0.028440       0.025642  \n",
       "max         0.135346       0.113848  "
      ]
     },
     "execution_count": 18,
     "metadata": {},
     "output_type": "execute_result"
    }
   ],
   "source": [
    "data.describe()"
   ]
  },
  {
   "cell_type": "code",
   "execution_count": 19,
   "metadata": {
    "ExecuteTime": {
     "end_time": "2021-04-15T19:42:33.428516Z",
     "start_time": "2021-04-15T19:42:32.760414Z"
    }
   },
   "outputs": [
    {
     "data": {
      "image/png": "[encoded data removed]",
      "text/plain": [
       "<Figure size 720x720 with 4 Axes>"
      ]
     },
     "metadata": {},
     "output_type": "display_data"
    }
   ],
   "source": [
    "# cmap = sns.diverging_palette(10, 220, as_cmap=True)\n",
    "sns.clustermap(data.corr('spearman'), annot=True, center=0, cmap='Blues');"
   ]
  },
  {
   "cell_type": "markdown",
   "metadata": {},
   "source": [
    "We are left with 1,670 tickers."
   ]
  },
  {
   "cell_type": "code",
   "execution_count": 20,
   "metadata": {
    "ExecuteTime": {
     "end_time": "2021-04-15T19:42:33.464342Z",
     "start_time": "2021-04-15T19:42:33.429978Z"
    }
   },
   "outputs": [
    {
     "data": {
      "text/plain": [
       "549"
      ]
     },
     "execution_count": 20,
     "metadata": {},
     "output_type": "execute_result"
    }
   ],
   "source": [
    "data.index.get_level_values('ticker').nunique()"
   ]
  },
  {
   "cell_type": "markdown",
   "metadata": {},
   "source": [
    "## Factor의 베타"
   ]
  },
  {
   "cell_type": "markdown",
   "metadata": {},
   "source": [
    "We will introduce the Fama—French data to estimate the exposure of assets to common risk factors using linear regression in [Chapter 9, Time Series Models](../09_time_series_models)."
   ]
  },
  {
   "cell_type": "markdown",
   "metadata": {},
   "source": [
    "The five Fama—French factors, namely market risk, size, value, operating profitability, and investment have been shown empirically to explain asset returns and are commonly used to assess the risk/return profile of portfolios. Hence, it is natural to include past factor exposures as financial features in models that aim to predict future returns."
   ]
  },
  {
   "cell_type": "markdown",
   "metadata": {},
   "source": [
    "We can access the historical factor returns using the `pandas-datareader` and estimate historical exposures using the `RollingOLS` rolling linear regression functionality in the `statsmodels` library as follows:"
   ]
  },
  {
   "cell_type": "markdown",
   "metadata": {},
   "source": [
    "Use Fama-French research factors to estimate the factor exposures of the stock in the dataset to the 5 factors market risk, size, value, operating profitability and investment."
   ]
  },
  {
   "cell_type": "code",
   "execution_count": 21,
   "metadata": {},
   "outputs": [],
   "source": [
    "factor_data = pd.read_hdf('../data/assets.h5', 'fama_french/equal_weight/korea')"
   ]
  },
  {
   "cell_type": "code",
   "execution_count": 22,
   "metadata": {},
   "outputs": [
    {
     "name": "stdout",
     "output_type": "stream",
     "text": [
      "<class 'pandas.core.frame.DataFrame'>\n",
      "DatetimeIndex: 299 entries, 1996-07-31 to 2021-05-31\n",
      "Freq: M\n",
      "Data columns (total 5 columns):\n",
      " #   Column  Non-Null Count  Dtype  \n",
      "---  ------  --------------  -----  \n",
      " 0   Mkt-RF  299 non-null    float64\n",
      " 1   SMB     299 non-null    float64\n",
      " 2   HML     299 non-null    float64\n",
      " 3   RMW     299 non-null    float64\n",
      " 4   CMA     299 non-null    float64\n",
      "dtypes: float64(5)\n",
      "memory usage: 14.0 KB\n"
     ]
    }
   ],
   "source": [
    "factors = ['Mkt-RF', 'SMB', 'HML', 'RMW', 'CMA']\n",
    "factor_data.index = factor_data.index.to_timestamp()\n",
    "factor_data = factor_data.resample('M').last().div(100)\n",
    "factor_data.index.name = 'date'\n",
    "factor_data.info()"
   ]
  },
  {
   "cell_type": "code",
   "execution_count": 23,
   "metadata": {
    "ExecuteTime": {
     "end_time": "2021-04-15T19:42:33.816362Z",
     "start_time": "2021-04-15T19:42:33.769871Z"
    },
    "scrolled": true
   },
   "outputs": [
    {
     "name": "stdout",
     "output_type": "stream",
     "text": [
      "<class 'pandas.core.frame.DataFrame'>\n",
      "MultiIndex: 112893 entries, ('000020', Timestamp('2001-01-31 00:00:00', freq='M')) to ('097950', Timestamp('2018-12-31 00:00:00', freq='M'))\n",
      "Data columns (total 6 columns):\n",
      " #   Column     Non-Null Count   Dtype  \n",
      "---  ------     --------------   -----  \n",
      " 0   Mkt-RF     112893 non-null  float64\n",
      " 1   SMB        112893 non-null  float64\n",
      " 2   HML        112893 non-null  float64\n",
      " 3   RMW        112893 non-null  float64\n",
      " 4   CMA        112893 non-null  float64\n",
      " 5   return_1m  112893 non-null  float64\n",
      "dtypes: float64(6)\n",
      "memory usage: 5.6+ MB\n"
     ]
    }
   ],
   "source": [
    "factor_data = factor_data.join(data['return_1m']).sort_index()\n",
    "factor_data.info()"
   ]
  },
  {
   "cell_type": "code",
   "execution_count": 24,
   "metadata": {
    "ExecuteTime": {
     "end_time": "2021-04-15T19:42:45.008104Z",
     "start_time": "2021-04-15T19:42:33.817495Z"
    }
   },
   "outputs": [],
   "source": [
    "T = 24\n",
    "betas = (factor_data.groupby(level='ticker',\n",
    "                             group_keys=False)\n",
    "         .apply(lambda x: RollingOLS(endog=x.return_1m,\n",
    "                                     exog=sm.add_constant(x.drop('return_1m', axis=1)),\n",
    "                                     window=min(T, x.shape[0]-1))\n",
    "                .fit(params_only=True)\n",
    "                .params\n",
    "                .drop('const', axis=1)))"
   ]
  },
  {
   "cell_type": "code",
   "execution_count": 25,
   "metadata": {
    "ExecuteTime": {
     "end_time": "2021-04-15T19:42:45.092905Z",
     "start_time": "2021-04-15T19:42:45.009169Z"
    }
   },
   "outputs": [
    {
     "data": {
      "text/html": [
       "<div>\n",
       "<style scoped>\n",
       "    .dataframe tbody tr th:only-of-type {\n",
       "        vertical-align: middle;\n",
       "    }\n",
       "\n",
       "    .dataframe tbody tr th {\n",
       "        vertical-align: top;\n",
       "    }\n",
       "\n",
       "    .dataframe thead th {\n",
       "        text-align: right;\n",
       "    }\n",
       "</style>\n",
       "<table border=\"1\" class=\"dataframe\">\n",
       "  <thead>\n",
       "    <tr style=\"text-align: right;\">\n",
       "      <th></th>\n",
       "      <th>Mkt-RF</th>\n",
       "      <th>SMB</th>\n",
       "      <th>HML</th>\n",
       "      <th>RMW</th>\n",
       "      <th>CMA</th>\n",
       "      <th>total</th>\n",
       "    </tr>\n",
       "  </thead>\n",
       "  <tbody>\n",
       "    <tr>\n",
       "      <th>count</th>\n",
       "      <td>100266.000000</td>\n",
       "      <td>100266.000000</td>\n",
       "      <td>100266.000000</td>\n",
       "      <td>100266.000000</td>\n",
       "      <td>100266.000000</td>\n",
       "      <td>112893.000000</td>\n",
       "    </tr>\n",
       "    <tr>\n",
       "      <th>mean</th>\n",
       "      <td>1.292140</td>\n",
       "      <td>0.009539</td>\n",
       "      <td>0.012283</td>\n",
       "      <td>0.003871</td>\n",
       "      <td>0.037659</td>\n",
       "      <td>1.203882</td>\n",
       "    </tr>\n",
       "    <tr>\n",
       "      <th>std</th>\n",
       "      <td>0.876346</td>\n",
       "      <td>1.532640</td>\n",
       "      <td>1.178647</td>\n",
       "      <td>1.332517</td>\n",
       "      <td>1.387364</td>\n",
       "      <td>2.570500</td>\n",
       "    </tr>\n",
       "    <tr>\n",
       "      <th>min</th>\n",
       "      <td>-4.079304</td>\n",
       "      <td>-10.258632</td>\n",
       "      <td>-9.058126</td>\n",
       "      <td>-11.277459</td>\n",
       "      <td>-8.586641</td>\n",
       "      <td>-23.334802</td>\n",
       "    </tr>\n",
       "    <tr>\n",
       "      <th>25%</th>\n",
       "      <td>0.735617</td>\n",
       "      <td>-0.855327</td>\n",
       "      <td>-0.592219</td>\n",
       "      <td>-0.725778</td>\n",
       "      <td>-0.716503</td>\n",
       "      <td>0.000000</td>\n",
       "    </tr>\n",
       "    <tr>\n",
       "      <th>50%</th>\n",
       "      <td>1.240589</td>\n",
       "      <td>0.008079</td>\n",
       "      <td>0.073071</td>\n",
       "      <td>0.014893</td>\n",
       "      <td>0.070960</td>\n",
       "      <td>1.019776</td>\n",
       "    </tr>\n",
       "    <tr>\n",
       "      <th>75%</th>\n",
       "      <td>1.789727</td>\n",
       "      <td>0.863364</td>\n",
       "      <td>0.687536</td>\n",
       "      <td>0.752661</td>\n",
       "      <td>0.828503</td>\n",
       "      <td>2.637858</td>\n",
       "    </tr>\n",
       "    <tr>\n",
       "      <th>max</th>\n",
       "      <td>6.538036</td>\n",
       "      <td>9.177456</td>\n",
       "      <td>6.992780</td>\n",
       "      <td>8.419101</td>\n",
       "      <td>6.923653</td>\n",
       "      <td>18.709718</td>\n",
       "    </tr>\n",
       "  </tbody>\n",
       "</table>\n",
       "</div>"
      ],
      "text/plain": [
       "              Mkt-RF            SMB            HML            RMW  \\\n",
       "count  100266.000000  100266.000000  100266.000000  100266.000000   \n",
       "mean        1.292140       0.009539       0.012283       0.003871   \n",
       "std         0.876346       1.532640       1.178647       1.332517   \n",
       "min        -4.079304     -10.258632      -9.058126     -11.277459   \n",
       "25%         0.735617      -0.855327      -0.592219      -0.725778   \n",
       "50%         1.240589       0.008079       0.073071       0.014893   \n",
       "75%         1.789727       0.863364       0.687536       0.752661   \n",
       "max         6.538036       9.177456       6.992780       8.419101   \n",
       "\n",
       "                 CMA          total  \n",
       "count  100266.000000  112893.000000  \n",
       "mean        0.037659       1.203882  \n",
       "std         1.387364       2.570500  \n",
       "min        -8.586641     -23.334802  \n",
       "25%        -0.716503       0.000000  \n",
       "50%         0.070960       1.019776  \n",
       "75%         0.828503       2.637858  \n",
       "max         6.923653      18.709718  "
      ]
     },
     "execution_count": 25,
     "metadata": {},
     "output_type": "execute_result"
    }
   ],
   "source": [
    "betas.describe().join(betas.sum(1).describe().to_frame('total'))"
   ]
  },
  {
   "cell_type": "code",
   "execution_count": 26,
   "metadata": {
    "ExecuteTime": {
     "end_time": "2021-04-15T19:42:45.366245Z",
     "start_time": "2021-04-15T19:42:45.093829Z"
    },
    "scrolled": true
   },
   "outputs": [
    {
     "data": {
      "image/png": "[encoded data removed]",
      "text/plain": [
       "<Figure size 720x720 with 4 Axes>"
      ]
     },
     "metadata": {},
     "output_type": "display_data"
    }
   ],
   "source": [
    "cmap = sns.diverging_palette(10, 220, as_cmap=True)\n",
    "sns.clustermap(betas.corr(), annot=True, cmap=cmap, center=0);"
   ]
  },
  {
   "cell_type": "code",
   "execution_count": 27,
   "metadata": {
    "ExecuteTime": {
     "end_time": "2021-04-15T19:42:45.456467Z",
     "start_time": "2021-04-15T19:42:45.367374Z"
    },
    "scrolled": true
   },
   "outputs": [
    {
     "name": "stdout",
     "output_type": "stream",
     "text": [
      "<class 'pandas.core.frame.DataFrame'>\n",
      "MultiIndex: 112893 entries, ('000020', Timestamp('2001-01-31 00:00:00', freq='M')) to ('097950', Timestamp('2018-12-31 00:00:00', freq='M'))\n",
      "Data columns (total 11 columns):\n",
      " #   Column      Non-Null Count   Dtype  \n",
      "---  ------      --------------   -----  \n",
      " 0   return_1m   112893 non-null  float64\n",
      " 1   return_2m   112893 non-null  float64\n",
      " 2   return_3m   112893 non-null  float64\n",
      " 3   return_6m   112893 non-null  float64\n",
      " 4   return_9m   112893 non-null  float64\n",
      " 5   return_12m  112893 non-null  float64\n",
      " 6   Mkt-RF      99717 non-null   float64\n",
      " 7   SMB         99717 non-null   float64\n",
      " 8   HML         99717 non-null   float64\n",
      " 9   RMW         99717 non-null   float64\n",
      " 10  CMA         99717 non-null   float64\n",
      "dtypes: float64(11)\n",
      "memory usage: 14.0+ MB\n"
     ]
    }
   ],
   "source": [
    "data = (data\n",
    "        .join(betas\n",
    "              .groupby(level='ticker')\n",
    "              .shift()))\n",
    "data.info()"
   ]
  },
  {
   "cell_type": "markdown",
   "metadata": {},
   "source": [
    "### 결측치 beta에 대해서 평균값 대체"
   ]
  },
  {
   "cell_type": "code",
   "execution_count": 28,
   "metadata": {
    "ExecuteTime": {
     "end_time": "2021-04-15T19:42:47.627665Z",
     "start_time": "2021-04-15T19:42:45.458880Z"
    }
   },
   "outputs": [
    {
     "name": "stdout",
     "output_type": "stream",
     "text": [
      "<class 'pandas.core.frame.DataFrame'>\n",
      "MultiIndex: 112893 entries, ('000020', Timestamp('2001-01-31 00:00:00', freq='M')) to ('097950', Timestamp('2018-12-31 00:00:00', freq='M'))\n",
      "Data columns (total 11 columns):\n",
      " #   Column      Non-Null Count   Dtype  \n",
      "---  ------      --------------   -----  \n",
      " 0   return_1m   112893 non-null  float64\n",
      " 1   return_2m   112893 non-null  float64\n",
      " 2   return_3m   112893 non-null  float64\n",
      " 3   return_6m   112893 non-null  float64\n",
      " 4   return_9m   112893 non-null  float64\n",
      " 5   return_12m  112893 non-null  float64\n",
      " 6   Mkt-RF      112893 non-null  float64\n",
      " 7   SMB         112893 non-null  float64\n",
      " 8   HML         112893 non-null  float64\n",
      " 9   RMW         112893 non-null  float64\n",
      " 10  CMA         112893 non-null  float64\n",
      "dtypes: float64(11)\n",
      "memory usage: 14.0+ MB\n"
     ]
    }
   ],
   "source": [
    "data.loc[:, factors] = data.groupby('ticker')[factors].apply(lambda x: x.fillna(x.mean()))\n",
    "data.info()"
   ]
  },
  {
   "cell_type": "markdown",
   "metadata": {},
   "source": [
    "## 모멘텀 factors"
   ]
  },
  {
   "cell_type": "markdown",
   "metadata": {},
   "source": [
    "We can use these results to compute momentum factors based on the difference between returns over longer periods and the most recent monthly return, as well as for the difference between 3 and 12 month returns as follows:"
   ]
  },
  {
   "cell_type": "code",
   "execution_count": 29,
   "metadata": {
    "ExecuteTime": {
     "end_time": "2021-04-15T19:42:47.637631Z",
     "start_time": "2021-04-15T19:42:47.628920Z"
    }
   },
   "outputs": [],
   "source": [
    "for lag in [2,3,6,9,12]:\n",
    "    data[f'momentum_{lag}'] = data[f'return_{lag}m'].sub(data.return_1m)\n",
    "data[f'momentum_3_12'] = data[f'return_12m'].sub(data.return_3m)"
   ]
  },
  {
   "cell_type": "markdown",
   "metadata": {},
   "source": [
    "## Date Indicators"
   ]
  },
  {
   "cell_type": "code",
   "execution_count": 30,
   "metadata": {
    "ExecuteTime": {
     "end_time": "2021-04-15T19:42:47.684155Z",
     "start_time": "2021-04-15T19:42:47.638459Z"
    }
   },
   "outputs": [],
   "source": [
    "dates = data.index.get_level_values('date')\n",
    "data['year'] = dates.year\n",
    "data['month'] = dates.month"
   ]
  },
  {
   "cell_type": "markdown",
   "metadata": {},
   "source": [
    "## Lagged returns"
   ]
  },
  {
   "cell_type": "markdown",
   "metadata": {},
   "source": [
    "To use lagged values as input variables or features associated with the current observations, we use the .shift() method to move historical returns up to the current period:"
   ]
  },
  {
   "cell_type": "code",
   "execution_count": 31,
   "metadata": {
    "ExecuteTime": {
     "end_time": "2021-04-15T19:42:47.833744Z",
     "start_time": "2021-04-15T19:42:47.685024Z"
    }
   },
   "outputs": [
    {
     "name": "stdout",
     "output_type": "stream",
     "text": [
      "<class 'pandas.core.frame.DataFrame'>\n",
      "MultiIndex: 112893 entries, ('000020', Timestamp('2001-01-31 00:00:00', freq='M')) to ('097950', Timestamp('2018-12-31 00:00:00', freq='M'))\n",
      "Data columns (total 25 columns):\n",
      " #   Column         Non-Null Count   Dtype  \n",
      "---  ------         --------------   -----  \n",
      " 0   return_1m      112893 non-null  float64\n",
      " 1   return_2m      112893 non-null  float64\n",
      " 2   return_3m      112893 non-null  float64\n",
      " 3   return_6m      112893 non-null  float64\n",
      " 4   return_9m      112893 non-null  float64\n",
      " 5   return_12m     112893 non-null  float64\n",
      " 6   Mkt-RF         112893 non-null  float64\n",
      " 7   SMB            112893 non-null  float64\n",
      " 8   HML            112893 non-null  float64\n",
      " 9   RMW            112893 non-null  float64\n",
      " 10  CMA            112893 non-null  float64\n",
      " 11  momentum_2     112893 non-null  float64\n",
      " 12  momentum_3     112893 non-null  float64\n",
      " 13  momentum_6     112893 non-null  float64\n",
      " 14  momentum_9     112893 non-null  float64\n",
      " 15  momentum_12    112893 non-null  float64\n",
      " 16  momentum_3_12  112893 non-null  float64\n",
      " 17  year           112893 non-null  int64  \n",
      " 18  month          112893 non-null  int64  \n",
      " 19  return_1m_t-1  112344 non-null  float64\n",
      " 20  return_1m_t-2  111795 non-null  float64\n",
      " 21  return_1m_t-3  111246 non-null  float64\n",
      " 22  return_1m_t-4  110697 non-null  float64\n",
      " 23  return_1m_t-5  110148 non-null  float64\n",
      " 24  return_1m_t-6  109599 non-null  float64\n",
      "dtypes: float64(23), int64(2)\n",
      "memory usage: 26.0+ MB\n"
     ]
    }
   ],
   "source": [
    "for t in range(1, 7):\n",
    "    data[f'return_1m_t-{t}'] = data.groupby(level='ticker').return_1m.shift(t)\n",
    "data.info()"
   ]
  },
  {
   "cell_type": "markdown",
   "metadata": {},
   "source": [
    "## Target: Holding Period Returns"
   ]
  },
  {
   "cell_type": "markdown",
   "metadata": {},
   "source": [
    "Similarly, to compute returns for various holding periods, we use the normalized period returns computed previously and shift them back to align them with the current financial features"
   ]
  },
  {
   "cell_type": "code",
   "execution_count": 32,
   "metadata": {
    "ExecuteTime": {
     "end_time": "2021-04-15T19:42:47.945813Z",
     "start_time": "2021-04-15T19:42:47.834603Z"
    }
   },
   "outputs": [],
   "source": [
    "for t in [1,2,3,6,12]:\n",
    "    data[f'target_{t}m'] = data.groupby(level='ticker')[f'return_{t}m'].shift(-t)"
   ]
  },
  {
   "cell_type": "code",
   "execution_count": 33,
   "metadata": {
    "ExecuteTime": {
     "end_time": "2021-04-15T19:42:48.020064Z",
     "start_time": "2021-04-15T19:42:47.946666Z"
    }
   },
   "outputs": [
    {
     "data": {
      "text/html": [
       "<div>\n",
       "<style scoped>\n",
       "    .dataframe tbody tr th:only-of-type {\n",
       "        vertical-align: middle;\n",
       "    }\n",
       "\n",
       "    .dataframe tbody tr th {\n",
       "        vertical-align: top;\n",
       "    }\n",
       "\n",
       "    .dataframe thead th {\n",
       "        text-align: right;\n",
       "    }\n",
       "</style>\n",
       "<table border=\"1\" class=\"dataframe\">\n",
       "  <thead>\n",
       "    <tr style=\"text-align: right;\">\n",
       "      <th></th>\n",
       "      <th></th>\n",
       "      <th>target_1m</th>\n",
       "      <th>target_2m</th>\n",
       "      <th>target_3m</th>\n",
       "      <th>return_1m</th>\n",
       "      <th>return_2m</th>\n",
       "      <th>return_3m</th>\n",
       "      <th>return_1m_t-1</th>\n",
       "      <th>return_1m_t-2</th>\n",
       "      <th>return_1m_t-3</th>\n",
       "    </tr>\n",
       "    <tr>\n",
       "      <th>ticker</th>\n",
       "      <th>date</th>\n",
       "      <th></th>\n",
       "      <th></th>\n",
       "      <th></th>\n",
       "      <th></th>\n",
       "      <th></th>\n",
       "      <th></th>\n",
       "      <th></th>\n",
       "      <th></th>\n",
       "      <th></th>\n",
       "    </tr>\n",
       "  </thead>\n",
       "  <tbody>\n",
       "    <tr>\n",
       "      <th rowspan=\"10\" valign=\"top\">000020</th>\n",
       "      <th>2001-04-30</th>\n",
       "      <td>0.350631</td>\n",
       "      <td>0.250526</td>\n",
       "      <td>0.041283</td>\n",
       "      <td>0.011348</td>\n",
       "      <td>-0.073437</td>\n",
       "      <td>-0.038250</td>\n",
       "      <td>-0.151114</td>\n",
       "      <td>0.036182</td>\n",
       "      <td>0.296926</td>\n",
       "    </tr>\n",
       "    <tr>\n",
       "      <th>2001-05-31</th>\n",
       "      <td>0.157840</td>\n",
       "      <td>-0.085708</td>\n",
       "      <td>-0.079950</td>\n",
       "      <td>0.350631</td>\n",
       "      <td>0.168742</td>\n",
       "      <td>0.050579</td>\n",
       "      <td>0.011348</td>\n",
       "      <td>-0.151114</td>\n",
       "      <td>0.036182</td>\n",
       "    </tr>\n",
       "    <tr>\n",
       "      <th>2001-06-30</th>\n",
       "      <td>-0.278027</td>\n",
       "      <td>-0.179850</td>\n",
       "      <td>-0.149483</td>\n",
       "      <td>0.157840</td>\n",
       "      <td>0.250526</td>\n",
       "      <td>0.165097</td>\n",
       "      <td>0.350631</td>\n",
       "      <td>0.011348</td>\n",
       "      <td>-0.151114</td>\n",
       "    </tr>\n",
       "    <tr>\n",
       "      <th>2001-07-31</th>\n",
       "      <td>-0.068323</td>\n",
       "      <td>-0.076867</td>\n",
       "      <td>-0.041446</td>\n",
       "      <td>-0.278027</td>\n",
       "      <td>-0.085708</td>\n",
       "      <td>0.041283</td>\n",
       "      <td>0.157840</td>\n",
       "      <td>0.350631</td>\n",
       "      <td>0.011348</td>\n",
       "    </tr>\n",
       "    <tr>\n",
       "      <th>2001-08-31</th>\n",
       "      <td>-0.085333</td>\n",
       "      <td>-0.027717</td>\n",
       "      <td>0.089524</td>\n",
       "      <td>-0.068323</td>\n",
       "      <td>-0.179850</td>\n",
       "      <td>-0.079950</td>\n",
       "      <td>-0.278027</td>\n",
       "      <td>0.157840</td>\n",
       "      <td>0.350631</td>\n",
       "    </tr>\n",
       "    <tr>\n",
       "      <th>2001-09-30</th>\n",
       "      <td>0.033528</td>\n",
       "      <td>0.189115</td>\n",
       "      <td>0.102378</td>\n",
       "      <td>-0.085333</td>\n",
       "      <td>-0.076867</td>\n",
       "      <td>-0.149483</td>\n",
       "      <td>-0.068323</td>\n",
       "      <td>-0.278027</td>\n",
       "      <td>0.157840</td>\n",
       "    </tr>\n",
       "    <tr>\n",
       "      <th>2001-10-31</th>\n",
       "      <td>0.368124</td>\n",
       "      <td>0.138504</td>\n",
       "      <td>0.106689</td>\n",
       "      <td>0.033528</td>\n",
       "      <td>-0.027717</td>\n",
       "      <td>-0.041446</td>\n",
       "      <td>-0.085333</td>\n",
       "      <td>-0.068323</td>\n",
       "      <td>-0.278027</td>\n",
       "    </tr>\n",
       "    <tr>\n",
       "      <th>2001-11-30</th>\n",
       "      <td>-0.052577</td>\n",
       "      <td>-0.004650</td>\n",
       "      <td>0.016895</td>\n",
       "      <td>0.368124</td>\n",
       "      <td>0.189115</td>\n",
       "      <td>0.089524</td>\n",
       "      <td>0.033528</td>\n",
       "      <td>-0.085333</td>\n",
       "      <td>-0.068323</td>\n",
       "    </tr>\n",
       "    <tr>\n",
       "      <th>2001-12-31</th>\n",
       "      <td>0.045702</td>\n",
       "      <td>0.053519</td>\n",
       "      <td>0.026839</td>\n",
       "      <td>-0.052577</td>\n",
       "      <td>0.138504</td>\n",
       "      <td>0.102378</td>\n",
       "      <td>0.368124</td>\n",
       "      <td>0.033528</td>\n",
       "      <td>-0.085333</td>\n",
       "    </tr>\n",
       "    <tr>\n",
       "      <th>2002-01-31</th>\n",
       "      <td>0.061394</td>\n",
       "      <td>0.017536</td>\n",
       "      <td>-0.059290</td>\n",
       "      <td>0.045702</td>\n",
       "      <td>-0.004650</td>\n",
       "      <td>0.106689</td>\n",
       "      <td>-0.052577</td>\n",
       "      <td>0.368124</td>\n",
       "      <td>0.033528</td>\n",
       "    </tr>\n",
       "  </tbody>\n",
       "</table>\n",
       "</div>"
      ],
      "text/plain": [
       "                   target_1m  target_2m  target_3m  return_1m  return_2m  \\\n",
       "ticker date                                                                \n",
       "000020 2001-04-30   0.350631   0.250526   0.041283   0.011348  -0.073437   \n",
       "       2001-05-31   0.157840  -0.085708  -0.079950   0.350631   0.168742   \n",
       "       2001-06-30  -0.278027  -0.179850  -0.149483   0.157840   0.250526   \n",
       "       2001-07-31  -0.068323  -0.076867  -0.041446  -0.278027  -0.085708   \n",
       "       2001-08-31  -0.085333  -0.027717   0.089524  -0.068323  -0.179850   \n",
       "       2001-09-30   0.033528   0.189115   0.102378  -0.085333  -0.076867   \n",
       "       2001-10-31   0.368124   0.138504   0.106689   0.033528  -0.027717   \n",
       "       2001-11-30  -0.052577  -0.004650   0.016895   0.368124   0.189115   \n",
       "       2001-12-31   0.045702   0.053519   0.026839  -0.052577   0.138504   \n",
       "       2002-01-31   0.061394   0.017536  -0.059290   0.045702  -0.004650   \n",
       "\n",
       "                   return_3m  return_1m_t-1  return_1m_t-2  return_1m_t-3  \n",
       "ticker date                                                                \n",
       "000020 2001-04-30  -0.038250      -0.151114       0.036182       0.296926  \n",
       "       2001-05-31   0.050579       0.011348      -0.151114       0.036182  \n",
       "       2001-06-30   0.165097       0.350631       0.011348      -0.151114  \n",
       "       2001-07-31   0.041283       0.157840       0.350631       0.011348  \n",
       "       2001-08-31  -0.079950      -0.278027       0.157840       0.350631  \n",
       "       2001-09-30  -0.149483      -0.068323      -0.278027       0.157840  \n",
       "       2001-10-31  -0.041446      -0.085333      -0.068323      -0.278027  \n",
       "       2001-11-30   0.089524       0.033528      -0.085333      -0.068323  \n",
       "       2001-12-31   0.102378       0.368124       0.033528      -0.085333  \n",
       "       2002-01-31   0.106689      -0.052577       0.368124       0.033528  "
      ]
     },
     "execution_count": 33,
     "metadata": {},
     "output_type": "execute_result"
    }
   ],
   "source": [
    "cols = ['target_1m',\n",
    "        'target_2m',\n",
    "        'target_3m', \n",
    "        'return_1m',\n",
    "        'return_2m',\n",
    "        'return_3m',\n",
    "        'return_1m_t-1',\n",
    "        'return_1m_t-2',\n",
    "        'return_1m_t-3']\n",
    "\n",
    "data[cols].dropna().sort_index().head(10)"
   ]
  },
  {
   "cell_type": "code",
   "execution_count": 34,
   "metadata": {
    "ExecuteTime": {
     "end_time": "2021-04-15T19:42:48.040307Z",
     "start_time": "2021-04-15T19:42:48.020850Z"
    }
   },
   "outputs": [
    {
     "name": "stdout",
     "output_type": "stream",
     "text": [
      "<class 'pandas.core.frame.DataFrame'>\n",
      "MultiIndex: 112893 entries, ('000020', Timestamp('2001-01-31 00:00:00', freq='M')) to ('097950', Timestamp('2018-12-31 00:00:00', freq='M'))\n",
      "Data columns (total 30 columns):\n",
      " #   Column         Non-Null Count   Dtype  \n",
      "---  ------         --------------   -----  \n",
      " 0   return_1m      112893 non-null  float64\n",
      " 1   return_2m      112893 non-null  float64\n",
      " 2   return_3m      112893 non-null  float64\n",
      " 3   return_6m      112893 non-null  float64\n",
      " 4   return_9m      112893 non-null  float64\n",
      " 5   return_12m     112893 non-null  float64\n",
      " 6   Mkt-RF         112893 non-null  float64\n",
      " 7   SMB            112893 non-null  float64\n",
      " 8   HML            112893 non-null  float64\n",
      " 9   RMW            112893 non-null  float64\n",
      " 10  CMA            112893 non-null  float64\n",
      " 11  momentum_2     112893 non-null  float64\n",
      " 12  momentum_3     112893 non-null  float64\n",
      " 13  momentum_6     112893 non-null  float64\n",
      " 14  momentum_9     112893 non-null  float64\n",
      " 15  momentum_12    112893 non-null  float64\n",
      " 16  momentum_3_12  112893 non-null  float64\n",
      " 17  year           112893 non-null  int64  \n",
      " 18  month          112893 non-null  int64  \n",
      " 19  return_1m_t-1  112344 non-null  float64\n",
      " 20  return_1m_t-2  111795 non-null  float64\n",
      " 21  return_1m_t-3  111246 non-null  float64\n",
      " 22  return_1m_t-4  110697 non-null  float64\n",
      " 23  return_1m_t-5  110148 non-null  float64\n",
      " 24  return_1m_t-6  109599 non-null  float64\n",
      " 25  target_1m      112344 non-null  float64\n",
      " 26  target_2m      111795 non-null  float64\n",
      " 27  target_3m      111246 non-null  float64\n",
      " 28  target_6m      109599 non-null  float64\n",
      " 29  target_12m     106305 non-null  float64\n",
      "dtypes: float64(28), int64(2)\n",
      "memory usage: 30.3+ MB\n"
     ]
    }
   ],
   "source": [
    "data.info()"
   ]
  },
  {
   "cell_type": "markdown",
   "metadata": {},
   "source": [
    "## Create age proxy"
   ]
  },
  {
   "cell_type": "markdown",
   "metadata": {},
   "source": [
    "We use quintiles of IPO year as a proxy for company age."
   ]
  },
  {
   "cell_type": "code",
   "execution_count": 37,
   "metadata": {
    "ExecuteTime": {
     "end_time": "2021-04-15T19:42:48.061542Z",
     "start_time": "2021-04-15T19:42:48.041100Z"
    }
   },
   "outputs": [],
   "source": [
    "data = (data\n",
    "        .join(pd.qcut(stocks['상장일'], q=5, labels=list(range(1, 6)))\n",
    "              .astype(float)\n",
    "              .fillna(0)\n",
    "              .astype(int)\n",
    "              .to_frame('age')))\n",
    "data.age = data.age.fillna(-1)"
   ]
  },
  {
   "cell_type": "markdown",
   "metadata": {},
   "source": [
    "## Create dynamic size proxy"
   ]
  },
  {
   "cell_type": "markdown",
   "metadata": {},
   "source": [
    "We use the marketcap information from the NASDAQ ticker info to create a size proxy."
   ]
  },
  {
   "cell_type": "code",
   "execution_count": 38,
   "metadata": {
    "ExecuteTime": {
     "end_time": "2021-04-15T19:42:48.067917Z",
     "start_time": "2021-04-15T19:42:48.062397Z"
    }
   },
   "outputs": [
    {
     "name": "stdout",
     "output_type": "stream",
     "text": [
      "<class 'pandas.core.frame.DataFrame'>\n",
      "Index: 720 entries, 000020 to 298690\n",
      "Data columns (total 3 columns):\n",
      " #   Column  Non-Null Count  Dtype  \n",
      "---  ------  --------------  -----  \n",
      " 0   시가총액    720 non-null    float64\n",
      " 1   상장일     720 non-null    float64\n",
      " 2   sector  720 non-null    object \n",
      "dtypes: float64(2), object(1)\n",
      "memory usage: 38.7+ KB\n"
     ]
    }
   ],
   "source": [
    "stocks.info()"
   ]
  },
  {
   "cell_type": "markdown",
   "metadata": {},
   "source": [
    "Market cap information is tied to currrent prices. We create an adjustment factor to have the values reflect lower historical prices for each individual stock:"
   ]
  },
  {
   "cell_type": "code",
   "execution_count": 39,
   "metadata": {
    "ExecuteTime": {
     "end_time": "2021-04-15T19:42:48.144287Z",
     "start_time": "2021-04-15T19:42:48.068650Z"
    }
   },
   "outputs": [
    {
     "name": "stdout",
     "output_type": "stream",
     "text": [
      "<class 'pandas.core.frame.DataFrame'>\n",
      "DatetimeIndex: 216 entries, 2018-12-31 to 2001-01-31\n",
      "Columns: 549 entries, 000020 to 097950\n",
      "dtypes: float64(549)\n",
      "memory usage: 928.1 KB\n"
     ]
    }
   ],
   "source": [
    "size_factor = (monthly_prices\n",
    "               .loc[data.index.get_level_values('date').unique(),\n",
    "                    data.index.get_level_values('ticker').unique()]\n",
    "               .sort_index(ascending=False)\n",
    "               .pct_change()\n",
    "               .fillna(0)\n",
    "               .add(1)\n",
    "               .cumprod())\n",
    "size_factor.info()"
   ]
  },
  {
   "cell_type": "code",
   "execution_count": 41,
   "metadata": {
    "ExecuteTime": {
     "end_time": "2021-04-15T19:42:48.153203Z",
     "start_time": "2021-04-15T19:42:48.145309Z"
    }
   },
   "outputs": [],
   "source": [
    "msize = (size_factor\n",
    "         .mul(stocks\n",
    "              .loc[size_factor.columns, '시가총액'])).dropna(axis=1, how='all')"
   ]
  },
  {
   "cell_type": "markdown",
   "metadata": {},
   "source": [
    "### Create Size indicator as deciles per period"
   ]
  },
  {
   "cell_type": "markdown",
   "metadata": {},
   "source": [
    "Compute size deciles per month:"
   ]
  },
  {
   "cell_type": "code",
   "execution_count": 42,
   "metadata": {
    "ExecuteTime": {
     "end_time": "2021-04-15T19:42:49.795031Z",
     "start_time": "2021-04-15T19:42:48.154005Z"
    }
   },
   "outputs": [],
   "source": [
    "data['msize'] = (msize\n",
    "                 .apply(lambda x: pd.qcut(x, q=10, labels=list(range(1, 11)))\n",
    "                        .astype(int), axis=1)\n",
    "                 .stack()\n",
    "                 .swaplevel())\n",
    "data.msize = data.msize.fillna(-1)"
   ]
  },
  {
   "cell_type": "markdown",
   "metadata": {},
   "source": [
    "## Combine data"
   ]
  },
  {
   "cell_type": "code",
   "execution_count": 43,
   "metadata": {
    "ExecuteTime": {
     "end_time": "2021-04-15T19:42:49.832155Z",
     "start_time": "2021-04-15T19:42:49.795874Z"
    }
   },
   "outputs": [],
   "source": [
    "data = data.join(stocks[['sector']])\n",
    "data.sector = data.sector.fillna('Unknown')"
   ]
  },
  {
   "cell_type": "code",
   "execution_count": 44,
   "metadata": {
    "ExecuteTime": {
     "end_time": "2021-04-15T19:42:49.863430Z",
     "start_time": "2021-04-15T19:42:49.833060Z"
    },
    "scrolled": false
   },
   "outputs": [
    {
     "name": "stdout",
     "output_type": "stream",
     "text": [
      "<class 'pandas.core.frame.DataFrame'>\n",
      "MultiIndex: 112893 entries, ('000020', Timestamp('2001-01-31 00:00:00', freq='M')) to ('097950', Timestamp('2018-12-31 00:00:00', freq='M'))\n",
      "Data columns (total 33 columns):\n",
      " #   Column         Non-Null Count   Dtype  \n",
      "---  ------         --------------   -----  \n",
      " 0   return_1m      112893 non-null  float64\n",
      " 1   return_2m      112893 non-null  float64\n",
      " 2   return_3m      112893 non-null  float64\n",
      " 3   return_6m      112893 non-null  float64\n",
      " 4   return_9m      112893 non-null  float64\n",
      " 5   return_12m     112893 non-null  float64\n",
      " 6   Mkt-RF         112893 non-null  float64\n",
      " 7   SMB            112893 non-null  float64\n",
      " 8   HML            112893 non-null  float64\n",
      " 9   RMW            112893 non-null  float64\n",
      " 10  CMA            112893 non-null  float64\n",
      " 11  momentum_2     112893 non-null  float64\n",
      " 12  momentum_3     112893 non-null  float64\n",
      " 13  momentum_6     112893 non-null  float64\n",
      " 14  momentum_9     112893 non-null  float64\n",
      " 15  momentum_12    112893 non-null  float64\n",
      " 16  momentum_3_12  112893 non-null  float64\n",
      " 17  year           112893 non-null  int64  \n",
      " 18  month          112893 non-null  int64  \n",
      " 19  return_1m_t-1  112344 non-null  float64\n",
      " 20  return_1m_t-2  111795 non-null  float64\n",
      " 21  return_1m_t-3  111246 non-null  float64\n",
      " 22  return_1m_t-4  110697 non-null  float64\n",
      " 23  return_1m_t-5  110148 non-null  float64\n",
      " 24  return_1m_t-6  109599 non-null  float64\n",
      " 25  target_1m      112344 non-null  float64\n",
      " 26  target_2m      111795 non-null  float64\n",
      " 27  target_3m      111246 non-null  float64\n",
      " 28  target_6m      109599 non-null  float64\n",
      " 29  target_12m     106305 non-null  float64\n",
      " 30  age            112893 non-null  int32  \n",
      " 31  msize          112893 non-null  int32  \n",
      " 32  sector         112893 non-null  object \n",
      "dtypes: float64(28), int32(2), int64(2), object(1)\n",
      "memory usage: 32.1+ MB\n"
     ]
    }
   ],
   "source": [
    "data.info()"
   ]
  },
  {
   "cell_type": "markdown",
   "metadata": {},
   "source": [
    "## 데이터 저장"
   ]
  },
  {
   "cell_type": "markdown",
   "metadata": {},
   "source": [
    "We will use the data again in several later chapters, starting in [Chapter 7 on Linear Models](../07_linear_models)."
   ]
  },
  {
   "cell_type": "code",
   "execution_count": 45,
   "metadata": {
    "ExecuteTime": {
     "end_time": "2021-04-15T19:42:50.165429Z",
     "start_time": "2021-04-15T19:42:49.864236Z"
    },
    "scrolled": false
   },
   "outputs": [
    {
     "name": "stdout",
     "output_type": "stream",
     "text": [
      "<class 'pandas.io.pytables.HDFStore'>\n",
      "File path: ../data/assets.h5\n",
      "/engineered_features                       frame        (shape->[107403,33]) \n",
      "/fama_french/equal_weight/korea            frame        (shape->[299,5])     \n",
      "/finance_datareader/kospi                  frame        (shape->[10714,6])   \n",
      "/finance_datareader/prices                 frame        (shape->[3753685,16])\n",
      "/finance_datareader/stocks                 frame        (shape->[1,1])       \n",
      "/kospi/stocks                              frame        (shape->[770,11])    \n",
      "/pandas_datareader/prices                  frame        (shape->[4572262,1]) \n"
     ]
    }
   ],
   "source": [
    "with pd.HDFStore(DATA_STORE) as store:\n",
    "    store.put('engineered_features', data.sort_index().loc[idx[:, :datetime(2018, 3, 1)], :])\n",
    "    print(store.info())"
   ]
  },
  {
   "cell_type": "markdown",
   "metadata": {},
   "source": [
    "## Create Dummy variables"
   ]
  },
  {
   "cell_type": "markdown",
   "metadata": {},
   "source": [
    "For most models, we need to encode categorical variables as 'dummies' (one-hot encoding):"
   ]
  },
  {
   "cell_type": "code",
   "execution_count": 46,
   "metadata": {
    "ExecuteTime": {
     "end_time": "2021-04-15T19:42:50.404583Z",
     "start_time": "2021-04-15T19:42:50.166383Z"
    },
    "scrolled": false
   },
   "outputs": [
    {
     "name": "stdout",
     "output_type": "stream",
     "text": [
      "<class 'pandas.core.frame.DataFrame'>\n",
      "MultiIndex: 112893 entries, ('000020', Timestamp('2001-01-31 00:00:00', freq='M')) to ('097950', Timestamp('2018-12-31 00:00:00', freq='M'))\n",
      "Columns: 178 entries, return_1m to 회사 본부 및 경영 컨설팅 서비스업\n",
      "dtypes: float64(28), uint8(150)\n",
      "memory usage: 44.8+ MB\n"
     ]
    }
   ],
   "source": [
    "dummy_data = pd.get_dummies(data,\n",
    "                            columns=['year','month', 'msize', 'age',  'sector'],\n",
    "                            prefix=['year','month', 'msize', 'age', ''],\n",
    "                            prefix_sep=['_', '_', '_', '_', ''])\n",
    "dummy_data = dummy_data.rename(columns={c:c.replace('.0', '') for c in dummy_data.columns})\n",
    "dummy_data.info()"
   ]
  },
  {
   "cell_type": "code",
   "execution_count": null,
   "metadata": {},
   "outputs": [],
   "source": []
  }
 ],
 "metadata": {
  "kernelspec": {
   "display_name": "Python [conda env:ml4t]",
   "language": "python",
   "name": "conda-env-ml4t-py"
  },
  "language_info": {
   "codemirror_mode": {
    "name": "ipython",
    "version": 3
   },
   "file_extension": ".py",
   "mimetype": "text/x-python",
   "name": "python",
   "nbconvert_exporter": "python",
   "pygments_lexer": "ipython3",
   "version": "3.8.8"
  },
  "toc": {
   "base_numbering": 1,
   "nav_menu": {},
   "number_sections": true,
   "sideBar": true,
   "skip_h1_title": true,
   "title_cell": "Table of Contents",
   "title_sidebar": "Contents",
   "toc_cell": false,
   "toc_position": {
    "height": "calc(100% - 180px)",
    "left": "10px",
    "top": "150px",
    "width": "230.355px"
   },
   "toc_section_display": true,
   "toc_window_display": true
  }
 },
 "nbformat": 4,
 "nbformat_minor": 2
}
