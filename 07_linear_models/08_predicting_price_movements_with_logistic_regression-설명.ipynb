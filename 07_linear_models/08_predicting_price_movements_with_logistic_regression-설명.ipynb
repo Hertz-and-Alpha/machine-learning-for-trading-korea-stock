{
 "cells": [
  {
   "cell_type": "markdown",
   "metadata": {},
   "source": [
    "# Predicting stock price moves with Logistic Regression"
   ]
  },
  {
   "cell_type": "markdown",
   "metadata": {},
   "source": [
    "## Imports & Settings"
   ]
  },
  {
   "cell_type": "code",
   "execution_count": 1,
   "metadata": {
    "ExecuteTime": {
     "end_time": "2021-04-15T20:17:11.301878Z",
     "start_time": "2021-04-15T20:17:11.299202Z"
    }
   },
   "outputs": [],
   "source": [
    "import warnings\n",
    "warnings.filterwarnings('ignore')"
   ]
  },
  {
   "cell_type": "code",
   "execution_count": 2,
   "metadata": {
    "ExecuteTime": {
     "end_time": "2021-04-15T20:17:11.924039Z",
     "start_time": "2021-04-15T20:17:11.308933Z"
    }
   },
   "outputs": [],
   "source": [
    "from pathlib import Path\n",
    "import sys, os\n",
    "from time import time\n",
    "\n",
    "import pandas as pd\n",
    "import numpy as np\n",
    "\n",
    "from scipy.stats import spearmanr\n",
    "\n",
    "from sklearn.metrics import roc_auc_score\n",
    "from sklearn.linear_model import LogisticRegression\n",
    "from sklearn.pipeline import Pipeline\n",
    "from sklearn.preprocessing import StandardScaler\n",
    "\n",
    "import seaborn as sns\n",
    "import matplotlib.pyplot as plt"
   ]
  },
  {
   "cell_type": "code",
   "execution_count": 3,
   "metadata": {
    "ExecuteTime": {
     "end_time": "2021-04-15T20:17:11.932987Z",
     "start_time": "2021-04-15T20:17:11.925127Z"
    }
   },
   "outputs": [],
   "source": [
    "sys.path.insert(1, os.path.join(sys.path[0], '..'))\n",
    "from utils import MultipleTimeSeriesCV"
   ]
  },
  {
   "cell_type": "code",
   "execution_count": 4,
   "metadata": {
    "ExecuteTime": {
     "end_time": "2021-04-15T20:17:11.947014Z",
     "start_time": "2021-04-15T20:17:11.934249Z"
    }
   },
   "outputs": [],
   "source": [
    "sns.set_style('darkgrid')\n",
    "idx = pd.IndexSlice"
   ]
  },
  {
   "cell_type": "code",
   "execution_count": 5,
   "metadata": {
    "ExecuteTime": {
     "end_time": "2021-04-15T20:17:11.966976Z",
     "start_time": "2021-04-15T20:17:11.948028Z"
    }
   },
   "outputs": [],
   "source": [
    "YEAR = 252"
   ]
  },
  {
   "cell_type": "markdown",
   "metadata": {},
   "source": [
    "## Load Data"
   ]
  },
  {
   "cell_type": "code",
   "execution_count": 6,
   "metadata": {
    "ExecuteTime": {
     "end_time": "2021-04-15T20:17:14.277183Z",
     "start_time": "2021-04-15T20:17:11.967819Z"
    }
   },
   "outputs": [],
   "source": [
    "with pd.HDFStore('data.h5') as store:\n",
    "    data = (store['model_data']\n",
    "            .dropna()\n",
    "            .drop(['open', 'close', 'low', 'high'], axis=1))\n",
    "data = data.drop([c for c in data.columns if 'year' in c or 'lag' in c], axis=1)"
   ]
  },
  {
   "cell_type": "markdown",
   "metadata": {},
   "source": [
    "### Select Investment Universe"
   ]
  },
  {
   "cell_type": "code",
   "execution_count": 7,
   "metadata": {
    "ExecuteTime": {
     "end_time": "2021-04-15T20:17:14.301403Z",
     "start_time": "2021-04-15T20:17:14.280282Z"
    }
   },
   "outputs": [],
   "source": [
    "data = data[data.dollar_vol_rank<100]"
   ]
  },
  {
   "cell_type": "markdown",
   "metadata": {},
   "source": [
    "### Create Model Data"
   ]
  },
  {
   "cell_type": "code",
   "execution_count": 10,
   "metadata": {
    "ExecuteTime": {
     "end_time": "2021-04-15T20:17:14.311605Z",
     "start_time": "2021-04-15T20:17:14.302306Z"
    }
   },
   "outputs": [],
   "source": [
    "y = data.filter(like='target')\n",
    "X = data.drop(y.columns, axis=1)\n",
    "X = X.drop(['dollar_vol', 'dollar_vol_rank', 'volume'], axis=1)"
   ]
  },
  {
   "cell_type": "markdown",
   "metadata": {},
   "source": [
    "## Logistic Regression"
   ]
  },
  {
   "cell_type": "markdown",
   "metadata": {},
   "source": [
    "### Define cross-validation parameters"
   ]
  },
  {
   "cell_type": "code",
   "execution_count": 11,
   "metadata": {
    "ExecuteTime": {
     "end_time": "2021-04-15T20:17:14.322985Z",
     "start_time": "2021-04-15T20:17:14.312772Z"
    }
   },
   "outputs": [],
   "source": [
    "train_period_length = 63\n",
    "test_period_length = 10\n",
    "lookahead =1\n",
    "n_splits = int(3 * YEAR/test_period_length)\n",
    "\n",
    "cv = MultipleTimeSeriesCV(n_splits=n_splits,\n",
    "                          test_period_length=test_period_length,\n",
    "                          lookahead=lookahead,\n",
    "                          train_period_length=train_period_length)"
   ]
  },
  {
   "cell_type": "code",
   "execution_count": 12,
   "metadata": {
    "ExecuteTime": {
     "end_time": "2021-04-15T20:17:14.332416Z",
     "start_time": "2021-04-15T20:17:14.323914Z"
    }
   },
   "outputs": [],
   "source": [
    "target = f'target_{lookahead}d'"
   ]
  },
  {
   "cell_type": "code",
   "execution_count": 13,
   "metadata": {
    "ExecuteTime": {
     "end_time": "2021-04-15T20:17:14.911301Z",
     "start_time": "2021-04-15T20:17:14.333178Z"
    }
   },
   "outputs": [
    {
     "data": {
      "text/plain": [
       "0    57182\n",
       "1    48867\n",
       "Name: label, dtype: int64"
      ]
     },
     "execution_count": 13,
     "metadata": {},
     "output_type": "execute_result"
    }
   ],
   "source": [
    "y.loc[:, 'label'] = (y[target] > 0).astype(int)\n",
    "y.label.value_counts()"
   ]
  },
  {
   "cell_type": "code",
   "execution_count": 14,
   "metadata": {
    "ExecuteTime": {
     "end_time": "2021-04-15T20:17:14.914240Z",
     "start_time": "2021-04-15T20:17:14.912145Z"
    }
   },
   "outputs": [],
   "source": [
    "Cs = np.logspace(-5, 5, 11)"
   ]
  },
  {
   "cell_type": "code",
   "execution_count": 15,
   "metadata": {
    "ExecuteTime": {
     "end_time": "2021-04-15T20:17:14.927937Z",
     "start_time": "2021-04-15T20:17:14.915111Z"
    }
   },
   "outputs": [],
   "source": [
    "cols = ['C', 'date', 'auc', 'ic', 'pval']"
   ]
  },
  {
   "cell_type": "markdown",
   "metadata": {},
   "source": [
    "### Run cross-validation"
   ]
  },
  {
   "cell_type": "code",
   "execution_count": 16,
   "metadata": {
    "ExecuteTime": {
     "end_time": "2021-04-15T20:19:33.666469Z",
     "start_time": "2021-04-15T20:17:14.928766Z"
    },
    "scrolled": false
   },
   "outputs": [
    {
     "name": "stdout",
     "output_type": "stream",
     "text": [
      "1e-05\n",
      "\t 14.1 | 010 |   6.76% |  53.82%\n",
      "\t 27.6 | 020 |   6.39% |  53.23%\n",
      "\t 34.4 | 030 |   7.06% |  53.63%\n",
      "\t 41.3 | 040 |   6.04% |  53.15%\n",
      "\t 48.1 | 050 |   6.14% |  53.27%\n",
      "\t 54.9 | 060 |   5.93% |  53.21%\n",
      "\t 61.7 | 070 |   6.18% |  53.35%\n",
      "0.0001\n",
      "\t  6.7 | 010 |   6.60% |  53.82%\n",
      "\t 13.5 | 020 |   6.18% |  53.21%\n",
      "\t 20.3 | 030 |   6.85% |  53.61%\n",
      "\t 27.0 | 040 |   5.75% |  53.09%\n",
      "\t 33.7 | 050 |   5.84% |  53.21%\n",
      "\t 40.3 | 060 |   5.65% |  53.15%\n",
      "\t 47.1 | 070 |   5.89% |  53.29%\n",
      "0.001\n",
      "\t  6.9 | 010 |   6.03% |  53.61%\n",
      "\t 13.8 | 020 |   5.66% |  53.09%\n",
      "\t 20.6 | 030 |   6.06% |  53.34%\n",
      "\t 27.5 | 040 |   5.03% |  52.81%\n",
      "\t 34.3 | 050 |   5.10% |  52.95%\n",
      "\t 41.1 | 060 |   4.94% |  52.87%\n",
      "\t 47.9 | 070 |   5.14% |  53.00%\n",
      "0.01\n",
      "\t  7.8 | 010 |   5.48% |  53.48%\n",
      "\t 15.4 | 020 |   5.56% |  53.13%\n",
      "\t 23.1 | 030 |   5.79% |  53.29%\n",
      "\t 30.7 | 040 |   5.05% |  52.86%\n",
      "\t 38.3 | 050 |   5.03% |  52.93%\n",
      "\t 46.0 | 060 |   4.83% |  52.80%\n",
      "\t 53.7 | 070 |   4.98% |  52.91%\n",
      "0.1\n",
      "\t  8.6 | 010 |   5.02% |  53.35%\n",
      "\t 17.0 | 020 |   5.41% |  53.14%\n",
      "\t 25.7 | 030 |   5.65% |  53.29%\n",
      "\t 34.2 | 040 |   5.03% |  52.88%\n",
      "\t 42.5 | 050 |   4.95% |  52.90%\n",
      "\t 51.3 | 060 |   4.74% |  52.76%\n",
      "\t 59.9 | 070 |   4.87% |  52.85%\n",
      "1.0\n",
      "\t  8.7 | 010 |   4.89% |  53.33%\n",
      "\t 17.5 | 020 |   5.35% |  53.13%\n",
      "\t 26.3 | 030 |   5.57% |  53.27%\n",
      "\t 35.0 | 040 |   4.98% |  52.87%\n",
      "\t 43.6 | 050 |   4.90% |  52.88%\n",
      "\t 52.7 | 060 |   4.69% |  52.74%\n",
      "\t 61.5 | 070 |   4.82% |  52.83%\n",
      "10.0\n",
      "\t  9.0 | 010 |   4.88% |  53.33%\n",
      "\t 18.0 | 020 |   5.34% |  53.13%\n",
      "\t 27.2 | 030 |   5.57% |  53.27%\n",
      "\t 36.3 | 040 |   4.97% |  52.87%\n",
      "\t 46.2 | 050 |   4.90% |  52.88%\n",
      "\t 55.8 | 060 |   4.68% |  52.74%\n",
      "\t 65.2 | 070 |   4.81% |  52.83%\n",
      "100.0\n",
      "\t  9.2 | 010 |   4.87% |  53.33%\n",
      "\t 18.4 | 020 |   5.34% |  53.13%\n",
      "\t 27.9 | 030 |   5.56% |  53.26%\n",
      "\t 37.1 | 040 |   4.97% |  52.87%\n",
      "\t 46.6 | 050 |   4.89% |  52.88%\n",
      "\t 56.0 | 060 |   4.68% |  52.74%\n",
      "\t 65.3 | 070 |   4.81% |  52.83%\n",
      "1000.0\n",
      "\t  9.0 | 010 |   4.87% |  53.33%\n",
      "\t 18.3 | 020 |   5.34% |  53.13%\n",
      "\t 27.9 | 030 |   5.56% |  53.26%\n",
      "\t 37.3 | 040 |   4.97% |  52.87%\n",
      "\t 46.8 | 050 |   4.89% |  52.88%\n",
      "\t 56.2 | 060 |   4.68% |  52.74%\n",
      "\t 66.0 | 070 |   4.81% |  52.83%\n",
      "10000.0\n",
      "\t  8.9 | 010 |   4.87% |  53.33%\n",
      "\t 18.0 | 020 |   5.34% |  53.13%\n",
      "\t 27.6 | 030 |   5.56% |  53.26%\n",
      "\t 37.0 | 040 |   4.97% |  52.87%\n",
      "\t 46.3 | 050 |   4.89% |  52.88%\n",
      "\t 55.6 | 060 |   4.68% |  52.74%\n",
      "\t 65.0 | 070 |   4.81% |  52.83%\n",
      "100000.0\n",
      "\t  9.0 | 010 |   4.87% |  53.33%\n",
      "\t 18.2 | 020 |   5.34% |  53.13%\n",
      "\t 27.8 | 030 |   5.56% |  53.26%\n",
      "\t 37.2 | 040 |   4.97% |  52.87%\n",
      "\t 46.5 | 050 |   4.89% |  52.88%\n",
      "\t 55.7 | 060 |   4.68% |  52.74%\n",
      "\t 65.0 | 070 |   4.81% |  52.83%\n",
      "Wall time: 11min 48s\n"
     ]
    }
   ],
   "source": [
    "%%time\n",
    "log_coeffs, log_scores, log_predictions = {}, [], []\n",
    "for C in Cs:\n",
    "    print(C)\n",
    "    model = LogisticRegression(C=C,\n",
    "                               fit_intercept=True,\n",
    "                               random_state=42,\n",
    "                               n_jobs=-1)\n",
    "\n",
    "    pipe = Pipeline([\n",
    "        ('scaler', StandardScaler()),\n",
    "        ('model', model)])\n",
    "    ics = aucs = 0\n",
    "    start = time()\n",
    "    coeffs = []\n",
    "    for i, (train_idx, test_idx) in enumerate(cv.split(X), 1):\n",
    "        X_train, y_train, = X.iloc[train_idx], y.label.iloc[train_idx]\n",
    "        pipe.fit(X=X_train, y=y_train)\n",
    "        X_test, y_test = X.iloc[test_idx], y.label.iloc[test_idx]\n",
    "        actuals = y[target].iloc[test_idx]\n",
    "        if len(y_test) < 10 or len(np.unique(y_test)) < 2:\n",
    "            continue\n",
    "        y_score = pipe.predict_proba(X_test)[:, 1]\n",
    "       \n",
    "        auc = roc_auc_score(y_score=y_score, y_true=y_test)\n",
    "        actuals = y[target].iloc[test_idx]\n",
    "        ic, pval = spearmanr(y_score, actuals)\n",
    "\n",
    "        log_predictions.append(y_test.to_frame('labels').assign(\n",
    "            predicted=y_score, C=C, actuals=actuals))\n",
    "        date = y_test.index.get_level_values('date').min()\n",
    "        log_scores.append([C, date, auc, ic * 100, pval])\n",
    "        coeffs.append(pipe.named_steps['model'].coef_)\n",
    "        ics += ic\n",
    "        aucs += auc\n",
    "        if i % 10 == 0:\n",
    "            print(f'\\t{time()-start:5.1f} | {i:03} | {ics/i:>7.2%} | {aucs/i:>7.2%}')\n",
    "\n",
    "    log_coeffs[C] = np.mean(coeffs, axis=0).squeeze()"
   ]
  },
  {
   "cell_type": "markdown",
   "metadata": {},
   "source": [
    "### Evaluate Results"
   ]
  },
  {
   "cell_type": "code",
   "execution_count": 17,
   "metadata": {
    "ExecuteTime": {
     "end_time": "2021-04-15T20:19:33.956450Z",
     "start_time": "2021-04-15T20:19:33.667672Z"
    }
   },
   "outputs": [],
   "source": [
    "log_scores = pd.DataFrame(log_scores, columns=cols)\n",
    "log_scores.to_hdf('data.h5', 'logistic/scores')\n",
    "\n",
    "log_coeffs = pd.DataFrame(log_coeffs, index=X.columns).T\n",
    "log_coeffs.to_hdf('data.h5', 'logistic/coeffs')\n",
    "\n",
    "log_predictions = pd.concat(log_predictions)\n",
    "log_predictions.to_hdf('data.h5', 'logistic/predictions')"
   ]
  },
  {
   "cell_type": "code",
   "execution_count": 18,
   "metadata": {
    "ExecuteTime": {
     "end_time": "2021-04-15T20:19:33.965130Z",
     "start_time": "2021-04-15T20:19:33.957366Z"
    }
   },
   "outputs": [],
   "source": [
    "log_scores = pd.read_hdf('data.h5', 'logistic/scores')"
   ]
  },
  {
   "cell_type": "code",
   "execution_count": 19,
   "metadata": {
    "ExecuteTime": {
     "end_time": "2021-04-15T20:19:33.977971Z",
     "start_time": "2021-04-15T20:19:33.966220Z"
    }
   },
   "outputs": [
    {
     "name": "stdout",
     "output_type": "stream",
     "text": [
      "<class 'pandas.core.frame.DataFrame'>\n",
      "Int64Index: 825 entries, 0 to 824\n",
      "Data columns (total 5 columns):\n",
      " #   Column  Non-Null Count  Dtype         \n",
      "---  ------  --------------  -----         \n",
      " 0   C       825 non-null    float64       \n",
      " 1   date    825 non-null    datetime64[ns]\n",
      " 2   auc     825 non-null    float64       \n",
      " 3   ic      825 non-null    float64       \n",
      " 4   pval    825 non-null    float64       \n",
      "dtypes: datetime64[ns](1), float64(4)\n",
      "memory usage: 38.7 KB\n"
     ]
    }
   ],
   "source": [
    "log_scores.info()"
   ]
  },
  {
   "cell_type": "code",
   "execution_count": 20,
   "metadata": {
    "ExecuteTime": {
     "end_time": "2021-04-15T20:19:34.020011Z",
     "start_time": "2021-04-15T20:19:33.979814Z"
    }
   },
   "outputs": [
    {
     "data": {
      "text/html": [
       "<div>\n",
       "<style scoped>\n",
       "    .dataframe tbody tr th:only-of-type {\n",
       "        vertical-align: middle;\n",
       "    }\n",
       "\n",
       "    .dataframe tbody tr th {\n",
       "        vertical-align: top;\n",
       "    }\n",
       "\n",
       "    .dataframe thead th {\n",
       "        text-align: right;\n",
       "    }\n",
       "</style>\n",
       "<table border=\"1\" class=\"dataframe\">\n",
       "  <thead>\n",
       "    <tr style=\"text-align: right;\">\n",
       "      <th></th>\n",
       "      <th>count</th>\n",
       "      <th>mean</th>\n",
       "      <th>std</th>\n",
       "      <th>min</th>\n",
       "      <th>25%</th>\n",
       "      <th>50%</th>\n",
       "      <th>75%</th>\n",
       "      <th>max</th>\n",
       "    </tr>\n",
       "    <tr>\n",
       "      <th>C</th>\n",
       "      <th></th>\n",
       "      <th></th>\n",
       "      <th></th>\n",
       "      <th></th>\n",
       "      <th></th>\n",
       "      <th></th>\n",
       "      <th></th>\n",
       "      <th></th>\n",
       "    </tr>\n",
       "  </thead>\n",
       "  <tbody>\n",
       "    <tr>\n",
       "      <th>0.00001</th>\n",
       "      <td>75.0</td>\n",
       "      <td>0.533539</td>\n",
       "      <td>0.025310</td>\n",
       "      <td>0.468915</td>\n",
       "      <td>0.517531</td>\n",
       "      <td>0.535411</td>\n",
       "      <td>0.548726</td>\n",
       "      <td>0.600517</td>\n",
       "    </tr>\n",
       "    <tr>\n",
       "      <th>0.00010</th>\n",
       "      <td>75.0</td>\n",
       "      <td>0.533140</td>\n",
       "      <td>0.024665</td>\n",
       "      <td>0.472769</td>\n",
       "      <td>0.518784</td>\n",
       "      <td>0.533578</td>\n",
       "      <td>0.550072</td>\n",
       "      <td>0.596646</td>\n",
       "    </tr>\n",
       "    <tr>\n",
       "      <th>0.00100</th>\n",
       "      <td>75.0</td>\n",
       "      <td>0.530464</td>\n",
       "      <td>0.023518</td>\n",
       "      <td>0.482393</td>\n",
       "      <td>0.517050</td>\n",
       "      <td>0.528490</td>\n",
       "      <td>0.546940</td>\n",
       "      <td>0.578374</td>\n",
       "    </tr>\n",
       "    <tr>\n",
       "      <th>0.01000</th>\n",
       "      <td>75.0</td>\n",
       "      <td>0.529541</td>\n",
       "      <td>0.022209</td>\n",
       "      <td>0.485781</td>\n",
       "      <td>0.514176</td>\n",
       "      <td>0.528314</td>\n",
       "      <td>0.546185</td>\n",
       "      <td>0.577644</td>\n",
       "    </tr>\n",
       "    <tr>\n",
       "      <th>0.10000</th>\n",
       "      <td>75.0</td>\n",
       "      <td>0.529109</td>\n",
       "      <td>0.022185</td>\n",
       "      <td>0.484358</td>\n",
       "      <td>0.515267</td>\n",
       "      <td>0.527199</td>\n",
       "      <td>0.544999</td>\n",
       "      <td>0.582393</td>\n",
       "    </tr>\n",
       "    <tr>\n",
       "      <th>1.00000</th>\n",
       "      <td>75.0</td>\n",
       "      <td>0.528899</td>\n",
       "      <td>0.022157</td>\n",
       "      <td>0.484293</td>\n",
       "      <td>0.515162</td>\n",
       "      <td>0.526918</td>\n",
       "      <td>0.544259</td>\n",
       "      <td>0.581855</td>\n",
       "    </tr>\n",
       "    <tr>\n",
       "      <th>10.00000</th>\n",
       "      <td>75.0</td>\n",
       "      <td>0.528880</td>\n",
       "      <td>0.022156</td>\n",
       "      <td>0.484326</td>\n",
       "      <td>0.515267</td>\n",
       "      <td>0.526874</td>\n",
       "      <td>0.544135</td>\n",
       "      <td>0.581697</td>\n",
       "    </tr>\n",
       "    <tr>\n",
       "      <th>100.00000</th>\n",
       "      <td>75.0</td>\n",
       "      <td>0.528870</td>\n",
       "      <td>0.022158</td>\n",
       "      <td>0.484334</td>\n",
       "      <td>0.515304</td>\n",
       "      <td>0.526892</td>\n",
       "      <td>0.544122</td>\n",
       "      <td>0.581672</td>\n",
       "    </tr>\n",
       "    <tr>\n",
       "      <th>1000.00000</th>\n",
       "      <td>75.0</td>\n",
       "      <td>0.528874</td>\n",
       "      <td>0.022154</td>\n",
       "      <td>0.484334</td>\n",
       "      <td>0.515257</td>\n",
       "      <td>0.526883</td>\n",
       "      <td>0.544163</td>\n",
       "      <td>0.581688</td>\n",
       "    </tr>\n",
       "    <tr>\n",
       "      <th>10000.00000</th>\n",
       "      <td>75.0</td>\n",
       "      <td>0.528871</td>\n",
       "      <td>0.022154</td>\n",
       "      <td>0.484334</td>\n",
       "      <td>0.515281</td>\n",
       "      <td>0.526844</td>\n",
       "      <td>0.544163</td>\n",
       "      <td>0.581688</td>\n",
       "    </tr>\n",
       "    <tr>\n",
       "      <th>100000.00000</th>\n",
       "      <td>75.0</td>\n",
       "      <td>0.528874</td>\n",
       "      <td>0.022156</td>\n",
       "      <td>0.484334</td>\n",
       "      <td>0.515269</td>\n",
       "      <td>0.526848</td>\n",
       "      <td>0.544163</td>\n",
       "      <td>0.581688</td>\n",
       "    </tr>\n",
       "  </tbody>\n",
       "</table>\n",
       "</div>"
      ],
      "text/plain": [
       "              count      mean       std       min       25%       50%  \\\n",
       "C                                                                       \n",
       "0.00001        75.0  0.533539  0.025310  0.468915  0.517531  0.535411   \n",
       "0.00010        75.0  0.533140  0.024665  0.472769  0.518784  0.533578   \n",
       "0.00100        75.0  0.530464  0.023518  0.482393  0.517050  0.528490   \n",
       "0.01000        75.0  0.529541  0.022209  0.485781  0.514176  0.528314   \n",
       "0.10000        75.0  0.529109  0.022185  0.484358  0.515267  0.527199   \n",
       "1.00000        75.0  0.528899  0.022157  0.484293  0.515162  0.526918   \n",
       "10.00000       75.0  0.528880  0.022156  0.484326  0.515267  0.526874   \n",
       "100.00000      75.0  0.528870  0.022158  0.484334  0.515304  0.526892   \n",
       "1000.00000     75.0  0.528874  0.022154  0.484334  0.515257  0.526883   \n",
       "10000.00000    75.0  0.528871  0.022154  0.484334  0.515281  0.526844   \n",
       "100000.00000   75.0  0.528874  0.022156  0.484334  0.515269  0.526848   \n",
       "\n",
       "                   75%       max  \n",
       "C                                 \n",
       "0.00001       0.548726  0.600517  \n",
       "0.00010       0.550072  0.596646  \n",
       "0.00100       0.546940  0.578374  \n",
       "0.01000       0.546185  0.577644  \n",
       "0.10000       0.544999  0.582393  \n",
       "1.00000       0.544259  0.581855  \n",
       "10.00000      0.544135  0.581697  \n",
       "100.00000     0.544122  0.581672  \n",
       "1000.00000    0.544163  0.581688  \n",
       "10000.00000   0.544163  0.581688  \n",
       "100000.00000  0.544163  0.581688  "
      ]
     },
     "execution_count": 20,
     "metadata": {},
     "output_type": "execute_result"
    }
   ],
   "source": [
    "log_scores.groupby('C').auc.describe()"
   ]
  },
  {
   "cell_type": "markdown",
   "metadata": {},
   "source": [
    "### Plot Validation Scores"
   ]
  },
  {
   "cell_type": "code",
   "execution_count": 21,
   "metadata": {
    "ExecuteTime": {
     "end_time": "2021-04-15T20:19:34.023860Z",
     "start_time": "2021-04-15T20:19:34.020958Z"
    }
   },
   "outputs": [],
   "source": [
    "def plot_ic_distribution(df, ax=None):\n",
    "    if ax is not None:\n",
    "        sns.distplot(df.ic, ax=ax)    \n",
    "    else:\n",
    "        ax = sns.distplot(df.ic)\n",
    "    mean, median = df.ic.mean(), df.ic.median()\n",
    "    ax.axvline(0, lw=1, ls='--', c='k')\n",
    "    ax.text(x=.05, y=.9, s=f'Mean: {mean:8.2f}\\nMedian: {median:5.2f}',\n",
    "            horizontalalignment='left',\n",
    "            verticalalignment='center',\n",
    "            transform=ax.transAxes)\n",
    "    ax.set_xlabel('Information Coefficient')\n",
    "    sns.despine()\n",
    "    plt.tight_layout()"
   ]
  },
  {
   "cell_type": "code",
   "execution_count": 22,
   "metadata": {
    "ExecuteTime": {
     "end_time": "2021-04-15T20:19:34.625209Z",
     "start_time": "2021-04-15T20:19:34.025174Z"
    }
   },
   "outputs": [
    {
     "data": {
      "image/png": "[encoded data removed]",
      "text/plain": [
       "<Figure size 1080x360 with 2 Axes>"
      ]
     },
     "metadata": {},
     "output_type": "display_data"
    }
   ],
   "source": [
    "fig, axes= plt.subplots(ncols=2, figsize=(15, 5))\n",
    "\n",
    "sns.lineplot(x='C', y='auc', data=log_scores, estimator=np.mean, label='Mean', ax=axes[0])\n",
    "by_alpha = log_scores.groupby('C').auc.agg(['mean', 'median'])\n",
    "best_auc = by_alpha['mean'].idxmax()\n",
    "by_alpha['median'].plot(logx=True, ax=axes[0], label='Median', xlim=(10e-6, 10e5))\n",
    "axes[0].axvline(best_auc, ls='--', c='k', lw=1, label='Max. Mean')\n",
    "axes[0].axvline(by_alpha['median'].idxmax(), ls='-.', c='k', lw=1, label='Max. Median')\n",
    "axes[0].legend()\n",
    "axes[0].set_ylabel('AUC')\n",
    "axes[0].set_xscale('log')\n",
    "axes[0].set_title('Area Under the Curve')\n",
    "\n",
    "plot_ic_distribution(log_scores[log_scores.C==best_auc], ax=axes[1])\n",
    "axes[1].set_title('Information Coefficient')\n",
    "\n",
    "fig.suptitle('Logistic Regression', fontsize=14)\n",
    "sns.despine()\n",
    "fig.tight_layout()\n",
    "fig.subplots_adjust(top=.9);"
   ]
  },
  {
   "cell_type": "code",
   "execution_count": null,
   "metadata": {},
   "outputs": [],
   "source": []
  }
 ],
 "metadata": {
  "kernelspec": {
   "display_name": "Python [conda env:ml4t_orginal]",
   "language": "python",
   "name": "conda-env-ml4t_orginal-py"
  },
  "language_info": {
   "codemirror_mode": {
    "name": "ipython",
    "version": 3
   },
   "file_extension": ".py",
   "mimetype": "text/x-python",
   "name": "python",
   "nbconvert_exporter": "python",
   "pygments_lexer": "ipython3",
   "version": "3.8.8"
  },
  "toc": {
   "base_numbering": 1,
   "nav_menu": {},
   "number_sections": true,
   "sideBar": true,
   "skip_h1_title": true,
   "title_cell": "Table of Contents",
   "title_sidebar": "Contents",
   "toc_cell": false,
   "toc_position": {},
   "toc_section_display": true,
   "toc_window_display": true
  }
 },
 "nbformat": 4,
 "nbformat_minor": 2
}
